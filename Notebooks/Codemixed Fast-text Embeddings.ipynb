{
 "cells": [
  {
   "cell_type": "markdown",
   "metadata": {},
   "source": [
    "## FastText Embeddings\n",
    "- Code to train fasttext embeddings on bengali and hindi code-mixed data"
   ]
  },
  {
   "cell_type": "code",
   "execution_count": 2,
   "metadata": {
    "ExecuteTime": {
     "end_time": "2021-08-23T12:19:49.731369Z",
     "start_time": "2021-08-23T12:19:23.827722Z"
    }
   },
   "outputs": [
    {
     "name": "stdout",
     "output_type": "stream",
     "text": [
      "Collecting fasttext\n",
      "\u001b[?25l  Downloading https://files.pythonhosted.org/packages/f8/85/e2b368ab6d3528827b147fdb814f8189acc981a4bc2f99ab894650e05c40/fasttext-0.9.2.tar.gz (68kB)\n",
      "\u001b[K     |████████████████████████████████| 71kB 1.1MB/s eta 0:00:01\n",
      "\u001b[?25hRequirement already satisfied: pybind11>=2.2 in /home/user/anaconda3/envs/punyajoy_gpu/lib/python3.7/site-packages (from fasttext) (2.7.1)\n",
      "Requirement already satisfied: setuptools>=0.7.0 in /home/user/anaconda3/envs/punyajoy_gpu/lib/python3.7/site-packages (from fasttext) (41.0.1)\n",
      "Requirement already satisfied: numpy in /home/user/anaconda3/envs/punyajoy_gpu/lib/python3.7/site-packages (from fasttext) (1.19.1)\n",
      "Building wheels for collected packages: fasttext\n",
      "\u001b[33m  WARNING: Building wheel for fasttext failed: [Errno 13] Permission denied: '/home/user/.cache/pip/wheels/98/ba'\u001b[0m\n",
      "Failed to build fasttext\n",
      "Installing collected packages: fasttext\n",
      "  Running setup.py install for fasttext ... \u001b[?25ldone\n",
      "\u001b[?25hSuccessfully installed fasttext-0.9.2\n"
     ]
    }
   ],
   "source": [
    "!pip install fasttext"
   ]
  },
  {
   "cell_type": "code",
   "execution_count": 1,
   "metadata": {
    "ExecuteTime": {
     "end_time": "2021-08-24T08:28:06.155141Z",
     "start_time": "2021-08-24T08:28:05.758660Z"
    }
   },
   "outputs": [],
   "source": [
    "import fasttext\n",
    "import pandas as pd"
   ]
  },
  {
   "cell_type": "code",
   "execution_count": 2,
   "metadata": {
    "ExecuteTime": {
     "end_time": "2021-08-24T08:28:06.158073Z",
     "start_time": "2021-08-24T08:28:06.156266Z"
    }
   },
   "outputs": [],
   "source": [
    "data_path = \"Data_Processed/Shared_Task_hin/all.csv\""
   ]
  },
  {
   "cell_type": "code",
   "execution_count": 3,
   "metadata": {
    "ExecuteTime": {
     "end_time": "2021-08-24T08:28:06.512663Z",
     "start_time": "2021-08-24T08:28:06.429229Z"
    }
   },
   "outputs": [],
   "source": [
    "df = pd.read_csv(data_path)"
   ]
  },
  {
   "cell_type": "code",
   "execution_count": 4,
   "metadata": {
    "ExecuteTime": {
     "end_time": "2021-08-24T08:28:06.996031Z",
     "start_time": "2021-08-24T08:28:06.983958Z"
    }
   },
   "outputs": [
    {
     "data": {
      "text/html": [
       "<div>\n",
       "<style scoped>\n",
       "    .dataframe tbody tr th:only-of-type {\n",
       "        vertical-align: middle;\n",
       "    }\n",
       "\n",
       "    .dataframe tbody tr th {\n",
       "        vertical-align: top;\n",
       "    }\n",
       "\n",
       "    .dataframe thead th {\n",
       "        text-align: right;\n",
       "    }\n",
       "</style>\n",
       "<table border=\"1\" class=\"dataframe\">\n",
       "  <thead>\n",
       "    <tr style=\"text-align: right;\">\n",
       "      <th></th>\n",
       "      <th>ID</th>\n",
       "      <th>Text</th>\n",
       "      <th>Label</th>\n",
       "    </tr>\n",
       "  </thead>\n",
       "  <tbody>\n",
       "    <tr>\n",
       "      <th>0</th>\n",
       "      <td>1</td>\n",
       "      <td>Bollywood film dekhne ke samay logic ghar mein...</td>\n",
       "      <td>0</td>\n",
       "    </tr>\n",
       "    <tr>\n",
       "      <th>1</th>\n",
       "      <td>2</td>\n",
       "      <td>Chutiya movie...</td>\n",
       "      <td>0</td>\n",
       "    </tr>\n",
       "    <tr>\n",
       "      <th>2</th>\n",
       "      <td>3</td>\n",
       "      <td>Us jaat bnde ka khene ka matlab tha mar daluga...</td>\n",
       "      <td>0</td>\n",
       "    </tr>\n",
       "    <tr>\n",
       "      <th>3</th>\n",
       "      <td>4</td>\n",
       "      <td>@Feminism Is CANCER *un feminist yeh sahi hai ...</td>\n",
       "      <td>0</td>\n",
       "    </tr>\n",
       "    <tr>\n",
       "      <th>4</th>\n",
       "      <td>5</td>\n",
       "      <td>Amrit Anand अब तो जुड़े ही है उनको बोलो जुड़ने</td>\n",
       "      <td>0</td>\n",
       "    </tr>\n",
       "  </tbody>\n",
       "</table>\n",
       "</div>"
      ],
      "text/plain": [
       "   ID                                               Text  Label\n",
       "0   1  Bollywood film dekhne ke samay logic ghar mein...      0\n",
       "1   2                                   Chutiya movie...      0\n",
       "2   3  Us jaat bnde ka khene ka matlab tha mar daluga...      0\n",
       "3   4  @Feminism Is CANCER *un feminist yeh sahi hai ...      0\n",
       "4   5       Amrit Anand अब तो जुड़े ही है उनको बोलो जुड़ने      0"
      ]
     },
     "execution_count": 4,
     "metadata": {},
     "output_type": "execute_result"
    }
   ],
   "source": [
    "df.head()"
   ]
  },
  {
   "cell_type": "code",
   "execution_count": 5,
   "metadata": {
    "ExecuteTime": {
     "end_time": "2021-08-24T08:28:07.943971Z",
     "start_time": "2021-08-24T08:28:07.939353Z"
    }
   },
   "outputs": [],
   "source": [
    "data = df['Text'].values"
   ]
  },
  {
   "cell_type": "code",
   "execution_count": 6,
   "metadata": {
    "ExecuteTime": {
     "end_time": "2021-08-24T08:28:08.253573Z",
     "start_time": "2021-08-24T08:28:08.249054Z"
    }
   },
   "outputs": [
    {
     "data": {
      "text/plain": [
       "'Agr tujhe Kabir Singh ka message smjh nahi aaya.....toh Joker khaa se smjh aa\\ngayi...... Doctor m bhi hn....isse jaada bkchodi krte h hm😂'"
      ]
     },
     "execution_count": 6,
     "metadata": {},
     "output_type": "execute_result"
    }
   ],
   "source": [
    "data[101]"
   ]
  },
  {
   "cell_type": "markdown",
   "metadata": {},
   "source": [
    "## Clean Data"
   ]
  },
  {
   "cell_type": "code",
   "execution_count": 7,
   "metadata": {
    "ExecuteTime": {
     "end_time": "2021-08-24T08:28:10.266133Z",
     "start_time": "2021-08-24T08:28:10.248956Z"
    }
   },
   "outputs": [],
   "source": [
    "import re\n",
    "import demoji"
   ]
  },
  {
   "cell_type": "code",
   "execution_count": 8,
   "metadata": {
    "ExecuteTime": {
     "end_time": "2021-08-24T08:28:10.432710Z",
     "start_time": "2021-08-24T08:28:10.427785Z"
    }
   },
   "outputs": [],
   "source": [
    " def removeEmojis(text):\n",
    "    return demoji.replace(text,repl=\"\")"
   ]
  },
  {
   "cell_type": "code",
   "execution_count": 9,
   "metadata": {
    "ExecuteTime": {
     "end_time": "2021-08-24T08:28:10.605750Z",
     "start_time": "2021-08-24T08:28:10.599107Z"
    }
   },
   "outputs": [],
   "source": [
    "def removeUrls(text):\n",
    "    result =re.sub(r\"http\\S+\", \"\", text)\n",
    "    return result"
   ]
  },
  {
   "cell_type": "code",
   "execution_count": 10,
   "metadata": {
    "ExecuteTime": {
     "end_time": "2021-08-24T08:28:10.763600Z",
     "start_time": "2021-08-24T08:28:10.756724Z"
    }
   },
   "outputs": [],
   "source": [
    "def removeSpecialChar(text):\n",
    "#     s = re.sub(r'[^\\w\\s]','',text) # remove punctutations\n",
    "    res = re.sub('[^a-zA-Z.\\d\\s]', '', text)\n",
    "    return res"
   ]
  },
  {
   "cell_type": "code",
   "execution_count": 11,
   "metadata": {
    "ExecuteTime": {
     "end_time": "2021-08-24T08:28:10.926555Z",
     "start_time": "2021-08-24T08:28:10.921697Z"
    }
   },
   "outputs": [],
   "source": [
    "def replaceMultipleDotsByOneDot(text):\n",
    "    res = re.sub(r'\\.+', \".\", text)\n",
    "    return res"
   ]
  },
  {
   "cell_type": "code",
   "execution_count": 12,
   "metadata": {
    "ExecuteTime": {
     "end_time": "2021-08-24T08:28:13.295598Z",
     "start_time": "2021-08-24T08:28:11.061660Z"
    }
   },
   "outputs": [],
   "source": [
    "data_clean=[]\n",
    "for sample in data:\n",
    "    sample = replaceMultipleDotsByOneDot(sample)\n",
    "    sample = removeEmojis(sample)\n",
    "    sample = removeUrls(sample)\n",
    "    sample = removeSpecialChar(sample)\n",
    "    data_clean.append(sample)"
   ]
  },
  {
   "cell_type": "code",
   "execution_count": 13,
   "metadata": {
    "ExecuteTime": {
     "end_time": "2021-08-24T08:28:13.299175Z",
     "start_time": "2021-08-24T08:28:13.296759Z"
    }
   },
   "outputs": [
    {
     "data": {
      "text/plain": [
       "'Agr tujhe Kabir Singh ka message smjh nahi aaya.toh Joker khaa se smjh aa\\ngayi. Doctor m bhi hn.isse jaada bkchodi krte h hm'"
      ]
     },
     "execution_count": 13,
     "metadata": {},
     "output_type": "execute_result"
    }
   ],
   "source": [
    "data_clean[101]"
   ]
  },
  {
   "cell_type": "markdown",
   "metadata": {},
   "source": [
    "## Tokenise"
   ]
  },
  {
   "cell_type": "code",
   "execution_count": 14,
   "metadata": {
    "ExecuteTime": {
     "end_time": "2021-08-24T08:28:15.566696Z",
     "start_time": "2021-08-24T08:28:15.562839Z"
    }
   },
   "outputs": [],
   "source": [
    "sent_tokens=[]"
   ]
  },
  {
   "cell_type": "code",
   "execution_count": 15,
   "metadata": {
    "ExecuteTime": {
     "end_time": "2021-08-24T08:28:15.762350Z",
     "start_time": "2021-08-24T08:28:15.719923Z"
    }
   },
   "outputs": [],
   "source": [
    "for sample in data_clean:\n",
    "    for sent in sample.replace('\\n','.').split('.'):\n",
    "        words = sent.split(' ')\n",
    "        sent_tokens.append([w for w in words if len(w)!=0])"
   ]
  },
  {
   "cell_type": "code",
   "execution_count": 16,
   "metadata": {
    "ExecuteTime": {
     "end_time": "2021-08-24T08:28:15.905655Z",
     "start_time": "2021-08-24T08:28:15.896626Z"
    }
   },
   "outputs": [
    {
     "data": {
      "text/plain": [
       "(17815, 6181)"
      ]
     },
     "execution_count": 16,
     "metadata": {},
     "output_type": "execute_result"
    }
   ],
   "source": [
    "len(sent_tokens),len(data_clean)"
   ]
  },
  {
   "cell_type": "code",
   "execution_count": 17,
   "metadata": {
    "ExecuteTime": {
     "end_time": "2021-08-24T08:28:16.095135Z",
     "start_time": "2021-08-24T08:28:16.085836Z"
    }
   },
   "outputs": [
    {
     "data": {
      "text/plain": [
       "['SAHI', 'HAI', 'AGAR', 'HUME', 'WORLD', 'K', 'SAATH', 'AAGE', 'BADHNA', 'HAI']"
      ]
     },
     "execution_count": 17,
     "metadata": {},
     "output_type": "execute_result"
    }
   ],
   "source": [
    "sent_tokens[1023]"
   ]
  },
  {
   "cell_type": "code",
   "execution_count": 18,
   "metadata": {
    "ExecuteTime": {
     "end_time": "2021-08-24T08:28:16.909972Z",
     "start_time": "2021-08-24T08:28:16.903464Z"
    }
   },
   "outputs": [],
   "source": [
    "maxV=0\n",
    "maxI=0\n",
    "for i,sent in enumerate(sent_tokens):\n",
    "    if(len(sent)>maxV):\n",
    "        maxV=len(sent)\n",
    "        maxI=i"
   ]
  },
  {
   "cell_type": "code",
   "execution_count": 19,
   "metadata": {
    "ExecuteTime": {
     "end_time": "2021-08-24T08:28:17.998268Z",
     "start_time": "2021-08-24T08:28:17.994938Z"
    }
   },
   "outputs": [
    {
     "data": {
      "text/plain": [
       "(20, 13663)"
      ]
     },
     "execution_count": 19,
     "metadata": {},
     "output_type": "execute_result"
    }
   ],
   "source": [
    "maxV,maxI"
   ]
  },
  {
   "cell_type": "markdown",
   "metadata": {},
   "source": [
    "Max sentence length is now small which is good as this is normally the max length of sentences"
   ]
  },
  {
   "cell_type": "markdown",
   "metadata": {},
   "source": [
    "## Train"
   ]
  },
  {
   "cell_type": "code",
   "execution_count": 22,
   "metadata": {
    "ExecuteTime": {
     "end_time": "2021-08-24T08:28:24.513610Z",
     "start_time": "2021-08-24T08:28:23.769964Z"
    }
   },
   "outputs": [],
   "source": [
    "from gensim.models import FastText"
   ]
  },
  {
   "cell_type": "code",
   "execution_count": null,
   "metadata": {
    "ExecuteTime": {
     "start_time": "2021-08-24T08:52:00.786Z"
    }
   },
   "outputs": [],
   "source": [
    "model = FastText(sent_tokens, size=300, window=5, workers=4,sg=1)"
   ]
  },
  {
   "cell_type": "code",
   "execution_count": 20,
   "metadata": {},
   "outputs": [],
   "source": [
    "res_path = \"Embeddings/hin_codemixed.model\""
   ]
  },
  {
   "cell_type": "code",
   "execution_count": 38,
   "metadata": {},
   "outputs": [],
   "source": [
    "model.save(res_path)"
   ]
  },
  {
   "cell_type": "code",
   "execution_count": 23,
   "metadata": {},
   "outputs": [],
   "source": [
    "model = FastText.load(res_path)"
   ]
  },
  {
   "cell_type": "code",
   "execution_count": 40,
   "metadata": {},
   "outputs": [
    {
     "data": {
      "text/plain": [
       "[('ladka', 0.9974102973937988),\n",
       " ('ladko', 0.9958645105361938),\n",
       " ('ladkio', 0.9957106113433838),\n",
       " ('ladkia', 0.9944829940795898),\n",
       " ('ladke', 0.9934585094451904),\n",
       " ('ladkiya', 0.9902150630950928),\n",
       " ('ladkon', 0.9894428849220276),\n",
       " ('ladkiyo', 0.9855499863624573),\n",
       " ('galat', 0.9852472543716431),\n",
       " ('sakta', 0.983690619468689)]"
      ]
     },
     "execution_count": 40,
     "metadata": {},
     "output_type": "execute_result"
    }
   ],
   "source": [
    "model.wv.most_similar(\"ladki\")"
   ]
  },
  {
   "cell_type": "code",
   "execution_count": 24,
   "metadata": {},
   "outputs": [],
   "source": [
    "res_path = \"Embeddings/hin_codemixed.vec\""
   ]
  },
  {
   "cell_type": "code",
   "execution_count": 25,
   "metadata": {},
   "outputs": [],
   "source": [
    "model.wv.save_word2vec_format(res_path)"
   ]
  },
  {
   "cell_type": "markdown",
   "metadata": {},
   "source": [
    "## Bengali"
   ]
  },
  {
   "cell_type": "code",
   "execution_count": 43,
   "metadata": {},
   "outputs": [],
   "source": [
    "data_path = \"Data_Processed/Shared_Task_iben/all.csv\"\n",
    "df = pd.read_csv(data_path)\n",
    "data = df['Text'].values"
   ]
  },
  {
   "cell_type": "code",
   "execution_count": 44,
   "metadata": {},
   "outputs": [],
   "source": [
    "data_clean=[]\n",
    "for sample in data:\n",
    "    sample = replaceMultipleDotsByOneDot(sample)\n",
    "    sample = removeEmojis(sample)\n",
    "    sample = removeUrls(sample)\n",
    "    sample = removeSpecialChar(sample)\n",
    "    data_clean.append(sample)"
   ]
  },
  {
   "cell_type": "code",
   "execution_count": 45,
   "metadata": {},
   "outputs": [],
   "source": [
    "sent_tokens=[]\n",
    "for sample in data_clean:\n",
    "    for sent in sample.replace('\\n','.').split('.'):\n",
    "        words = sent.split(' ')\n",
    "        sent_tokens.append([w for w in words if len(w)!=0])"
   ]
  },
  {
   "cell_type": "code",
   "execution_count": 46,
   "metadata": {},
   "outputs": [
    {
     "data": {
      "text/plain": [
       "(9936, 5971)"
      ]
     },
     "execution_count": 46,
     "metadata": {},
     "output_type": "execute_result"
    }
   ],
   "source": [
    "len(sent_tokens),len(data_clean)"
   ]
  },
  {
   "cell_type": "code",
   "execution_count": 47,
   "metadata": {},
   "outputs": [
    {
     "data": {
      "text/plain": [
       "['Ranu', 'mondol', 'kore', 'shudhu', 'gondogol']"
      ]
     },
     "execution_count": 47,
     "metadata": {},
     "output_type": "execute_result"
    }
   ],
   "source": [
    "sent_tokens[1023]"
   ]
  },
  {
   "cell_type": "code",
   "execution_count": 48,
   "metadata": {},
   "outputs": [],
   "source": [
    "maxV=0\n",
    "maxI=0\n",
    "for i,sent in enumerate(sent_tokens):\n",
    "    if(len(sent)>maxV):\n",
    "        maxV=len(sent)\n",
    "        maxI=i"
   ]
  },
  {
   "cell_type": "code",
   "execution_count": 49,
   "metadata": {},
   "outputs": [
    {
     "data": {
      "text/plain": [
       "(20, 408)"
      ]
     },
     "execution_count": 49,
     "metadata": {},
     "output_type": "execute_result"
    }
   ],
   "source": [
    "maxV,maxI"
   ]
  },
  {
   "cell_type": "code",
   "execution_count": 50,
   "metadata": {},
   "outputs": [],
   "source": [
    "model = FastText(sent_tokens, size=300, window=5, workers=4,sg=1)"
   ]
  },
  {
   "cell_type": "code",
   "execution_count": 51,
   "metadata": {},
   "outputs": [],
   "source": [
    "res_path = \"Embeddings/iben_codemixed.model\""
   ]
  },
  {
   "cell_type": "code",
   "execution_count": 52,
   "metadata": {},
   "outputs": [],
   "source": [
    "model.save(res_path)"
   ]
  },
  {
   "cell_type": "code",
   "execution_count": 26,
   "metadata": {},
   "outputs": [],
   "source": [
    "res_path = \"Embeddings/iben_codemixed.model\"\n",
    "model = FastText.load(res_path)\n",
    "res_path = \"Embeddings/iben_codemixed.vec\"\n",
    "model.wv.save_word2vec_format(res_path)"
   ]
  },
  {
   "cell_type": "markdown",
   "metadata": {},
   "source": [
    "## Encode"
   ]
  },
  {
   "cell_type": "code",
   "execution_count": 128,
   "metadata": {},
   "outputs": [],
   "source": [
    "def encode_codemixed(self,data,max_len,model):\n",
    "    new_data=[]\n",
    "\n",
    "    for row in data:\n",
    "        encoded=np.empty((0,300))\n",
    "        words=row.split(' ')\n",
    "        # as unknown is added after all words\n",
    "#         unk_index = len(list(self.word2id.keys()))\n",
    "        # and padding after that\n",
    "#         pad_index = unk_index+1\n",
    "        # to minimise extra loops, run only till max_len\n",
    "        for word in words:\n",
    "            word=word.lower()\n",
    "            try:\n",
    "                vec=model.wv[word]\n",
    "            except KeyError:\n",
    "                # unkown word\n",
    "                vec=np.zeros((300))\n",
    "            vec =np.expand_dims(vec,axis=0)\n",
    "            encoded = np.append(encoded,vec,axis=0)\n",
    "        new_data.append(np.mean(encoded,axis=0))\n",
    "    return np.array(new_data)"
   ]
  },
  {
   "cell_type": "code",
   "execution_count": 4,
   "metadata": {},
   "outputs": [],
   "source": [
    "model = FastText.load(res_path)"
   ]
  },
  {
   "cell_type": "code",
   "execution_count": 8,
   "metadata": {},
   "outputs": [],
   "source": [
    "data_path = \"Data_Processed/Shared_Task_iben/all.csv\"\n",
    "df = pd.read_csv(data_path)\n",
    "data = df['Text'].values"
   ]
  },
  {
   "cell_type": "code",
   "execution_count": 13,
   "metadata": {},
   "outputs": [],
   "source": [
    "import numpy as np"
   ]
  },
  {
   "cell_type": "code",
   "execution_count": 129,
   "metadata": {},
   "outputs": [],
   "source": [
    "val = encode_codemixed('hi',data,128,model)"
   ]
  },
  {
   "cell_type": "code",
   "execution_count": 131,
   "metadata": {},
   "outputs": [
    {
     "data": {
      "text/plain": [
       "((5971, 300), 5971)"
      ]
     },
     "execution_count": 131,
     "metadata": {},
     "output_type": "execute_result"
    }
   ],
   "source": [
    "val.shape,len(data)"
   ]
  }
 ],
 "metadata": {
  "kernelspec": {
   "display_name": "Python 3",
   "language": "python",
   "name": "python3"
  },
  "language_info": {
   "codemirror_mode": {
    "name": "ipython",
    "version": 3
   },
   "file_extension": ".py",
   "mimetype": "text/x-python",
   "name": "python",
   "nbconvert_exporter": "python",
   "pygments_lexer": "ipython3",
   "version": "3.8.5"
  },
  "latex_envs": {
   "LaTeX_envs_menu_present": true,
   "autoclose": true,
   "autocomplete": true,
   "bibliofile": "biblio.bib",
   "cite_by": "apalike",
   "current_citInitial": 1,
   "eqLabelWithNumbers": true,
   "eqNumInitial": 1,
   "hotkeys": {
    "equation": "Ctrl-E",
    "itemize": "Ctrl-I"
   },
   "labels_anchors": false,
   "latex_user_defs": false,
   "report_style_numbering": false,
   "user_envs_cfg": false
  }
 },
 "nbformat": 4,
 "nbformat_minor": 2
}
