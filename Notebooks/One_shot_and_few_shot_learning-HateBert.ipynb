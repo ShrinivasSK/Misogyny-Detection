{
 "cells": [
  {
   "cell_type": "markdown",
   "metadata": {},
   "source": [
    "# Few Shot Learning"
   ]
  },
  {
   "cell_type": "markdown",
   "metadata": {},
   "source": [
    "## Imports"
   ]
  },
  {
   "cell_type": "code",
   "execution_count": 12,
   "metadata": {},
   "outputs": [],
   "source": [
    "from bert import BERT\n",
    "import torch\n",
    "import pandas as pd\n",
    "import numpy as np\n",
    "from tqdm import tqdm\n",
    "\n",
    "from data_cleaning import Data_Preprocessing\n",
    "from arabert.preprocess import ArabertPreprocessor\n",
    "\n",
    "# Core\n",
    "import random\n",
    "\n",
    "# Basics\n",
    "import numpy as np\n",
    "import pandas as pd\n",
    "import torch\n",
    "\n",
    "# Metrics\n",
    "from sklearn.metrics import *\n",
    "\n",
    "# Tokeniser\n",
    "from transformers import BertTokenizer\n",
    "\n",
    "# Utility\n",
    "from tqdm import tqdm\n",
    "\n",
    "# Dataloader\n",
    "from torch.utils.data import TensorDataset, DataLoader, RandomSampler, SequentialSampler\n",
    "\n",
    "# Scheduler\n",
    "from transformers import get_linear_schedule_with_warmup\n",
    "\n",
    "# Optimiser\n",
    "from transformers import AdamW\n",
    "\n",
    "# Model\n",
    "from transformers import BertForSequenceClassification\n",
    "import torch.nn as nn\n",
    "\n",
    "from transformers import AutoTokenizer, AutoModelForSequenceClassification"
   ]
  },
  {
   "cell_type": "markdown",
   "metadata": {},
   "source": [
    "# Model"
   ]
  },
  {
   "cell_type": "code",
   "execution_count": 11,
   "metadata": {},
   "outputs": [],
   "source": [
    "class HateBERT_FewShot:\n",
    "    def __init__(self,args):\n",
    "        # fix the random\n",
    "        random.seed(args['seed_val'])\n",
    "        np.random.seed(args['seed_val'])\n",
    "        torch.manual_seed(args['seed_val'])\n",
    "        torch.cuda.manual_seed_all(args['seed_val'])\n",
    "        \n",
    "        # set device\n",
    "        self.device = torch.device(args['device'])\n",
    "\n",
    "        self.weights=args['weights']\n",
    "        \n",
    "        # initiliase tokeniser\n",
    "        self.tokenizer = AutoTokenizer.from_pretrained(\"Hate-speech-CNERG/dehatebert-mono-english\")\n",
    "\n",
    "        self.model_save_path = args['model_save_path']\n",
    "        self.name = args['name']\n",
    "        \n",
    "    ##-----------------------------------------------------------##\n",
    "    ##----------------- Utility Functions -----------------------##\n",
    "    ##-----------------------------------------------------------##\n",
    "    def encode(self,data,max_len):\n",
    "        input_ids = []\n",
    "        attention_masks = []\n",
    "        for sent in tqdm(data):\n",
    "            # use in-built tokeniser of Bert\n",
    "            encoded_dict = self.tokenizer.encode_plus(\n",
    "                            sent,\n",
    "                            add_special_tokens =True, # for [CLS] and [SEP]\n",
    "                            max_length = max_len,\n",
    "                            truncation = True,\n",
    "                            padding = 'max_length',\n",
    "                            return_attention_mask = True,\n",
    "                            return_tensors = 'pt', # return pytorch tensors\n",
    "            )\n",
    "            input_ids.append(encoded_dict['input_ids'])\n",
    "            # attention masks notify where padding has been added \n",
    "            # and where is the sentence\n",
    "            attention_masks.append(encoded_dict['attention_mask'])\n",
    "        \n",
    "        return [input_ids,attention_masks]\n",
    "    \n",
    "    ##-----------------------------------------------------------##\n",
    "    ##------------------ Dataloader -----------------------------##\n",
    "    ##-----------------------------------------------------------##\n",
    "    def get_dataloader(self,samples, batch_size,is_train=False):\n",
    "        inputs,masks,labels = samples\n",
    "\n",
    "        # Convert the lists into tensors.\n",
    "        inputs = torch.cat(inputs, dim=0)\n",
    "        masks = torch.cat(masks, dim=0)\n",
    "        labels = torch.tensor(labels)\n",
    "\n",
    "        # convert to dataset\n",
    "        data = TensorDataset(inputs,masks,labels)\n",
    "\n",
    "        if(is_train==False):\n",
    "            # use random sampler for training to shuffle\n",
    "            # train data\n",
    "            sampler = SequentialSampler(data)\n",
    "        else:\n",
    "            # order does not matter for validation as we just \n",
    "            # need the metrics\n",
    "            sampler = RandomSampler(data)  \n",
    "\n",
    "        dataloader = DataLoader(data, sampler=sampler, batch_size=batch_size,drop_last=True)\n",
    "\n",
    "        return dataloader\n",
    "    \n",
    "    ##-----------------------------------------------------------##\n",
    "    ##----------------- Training Utilities ----------------------##\n",
    "    ##-----------------------------------------------------------## \n",
    "    def get_optimiser(self,learning_rate,model):\n",
    "        # using AdamW optimiser from transformers library\n",
    "        return AdamW(model.parameters(),\n",
    "                  lr = learning_rate, \n",
    "                  eps = 1e-8\n",
    "                )\n",
    "    \n",
    "    def get_scheduler(self,epochs,optimiser,train_dl):\n",
    "        total_steps = len(train_dl) * epochs\n",
    "        return get_linear_schedule_with_warmup(optimiser, \n",
    "                num_warmup_steps = 0, \n",
    "                num_training_steps = total_steps)\n",
    "    \n",
    "    def evalMetric(self, y_true, y_pred, prefix):\n",
    "        # calculate all the metrics and add prefix to them\n",
    "        # before saving in dictionary\n",
    "        accuracy = accuracy_score(y_true, y_pred)\n",
    "        mf1Score = f1_score(y_true, y_pred, average='macro')\n",
    "        f1Score = f1_score(y_true, y_pred)\n",
    "        area_under_c = roc_auc_score(y_true, y_pred)\n",
    "        recallScore = recall_score(y_true, y_pred)\n",
    "        precisionScore = precision_score(y_true, y_pred)\n",
    "\n",
    "        nonhate_f1Score = f1_score(y_true, y_pred, pos_label=0)\n",
    "        non_recallScore = recall_score(y_true, y_pred, pos_label=0)\n",
    "        non_precisionScore = precision_score(y_true, y_pred, pos_label=0)\n",
    "        return {prefix+\"accuracy\": accuracy, prefix+'mF1Score': mf1Score, \n",
    "            prefix+'f1Score': f1Score, prefix+'auc': area_under_c,\n",
    "            prefix+'precision': precisionScore, \n",
    "            prefix+'recall': recallScore, \n",
    "            prefix+'non_hatef1Score': nonhate_f1Score, \n",
    "            prefix+'non_recallScore': non_recallScore, \n",
    "            prefix+'non_precisionScore': non_precisionScore}\n",
    "    \n",
    "    ##-----------------------------------------------------------##\n",
    "    ##---------------- Different Train Loops --------------------##\n",
    "    ##-----------------------------------------------------------## \n",
    "    def evaluate(self,model,loader,which):\n",
    "        # to evaluate model on test and validation set\n",
    "\n",
    "        model.eval() # put model in eval mode\n",
    "\n",
    "        # maintain total loss to save in metrics\n",
    "        total_eval_loss = 0\n",
    "\n",
    "        # maintain predictions for each batch and calculate metrics\n",
    "        # at the end of the epoch\n",
    "        y_pred = np.zeros(shape=(0),dtype='int')\n",
    "        y_true = np.empty(shape=(0),dtype='int')\n",
    "\n",
    "        for batch in tqdm(loader):\n",
    "            # separate input, labels and attention mask\n",
    "            b_input_ids = batch[0].to(self.device)\n",
    "            b_input_mask = batch[1].to(self.device)\n",
    "            b_labels = batch[2].to(self.device)\n",
    "\n",
    "            with torch.no_grad(): # do not construct compute graph\n",
    "                outputs = model(b_input_ids, \n",
    "                                   token_type_ids=None, \n",
    "                                   attention_mask=b_input_mask,\n",
    "                                   labels=b_labels)\n",
    "            \n",
    "            # output is always a tuple, thus we have to \n",
    "            # separate it manually\n",
    "            loss = outputs[0]\n",
    "            logits = outputs[1]\n",
    "\n",
    "            # add the current loss\n",
    "            # loss.item() extracts loss value as a float\n",
    "            total_eval_loss += loss.item()\n",
    "\n",
    "            # calculate true labels and convert it into numpy array\n",
    "            b_y_true = b_labels.cpu().data.squeeze().numpy()\n",
    "            \n",
    "            # calculate predicted labels by taking max of \n",
    "            # prediction scores\n",
    "            b_y_pred = torch.max(logits,1)[1]\n",
    "            b_y_pred = b_y_pred.cpu().data.squeeze().numpy()\n",
    "\n",
    "            y_pred = np.concatenate((y_pred,b_y_pred))\n",
    "            y_true = np.concatenate((y_true,b_y_true))\n",
    "\n",
    "        # calculate metrics\n",
    "        metrics = self.evalMetric(y_true,y_pred,which+\"_\")\n",
    "\n",
    "        # Calculate the average loss over all of the batches.\n",
    "        avg_loss = total_eval_loss / len(loader)\n",
    "        # add it to the metric\n",
    "        metrics[which+'_avg_loss'] = avg_loss\n",
    "\n",
    "        return metrics\n",
    "    \n",
    "    \n",
    "    def run_train_loop(self,model,train_loader,optimiser,scheduler):\n",
    "\n",
    "        model.train() # put model in train mode\n",
    "\n",
    "        # maintain total loss to add to metric\n",
    "        total_loss = 0\n",
    "\n",
    "        # maintain predictions for each batch and calculate metrics\n",
    "        # at the end of the epoch\n",
    "        y_pred = np.zeros(shape=(0),dtype='int')\n",
    "        y_true = np.empty(shape=(0),dtype='int')\n",
    "\n",
    "        for batch in tqdm(train_loader):\n",
    "            # separate inputs, labels and attention mask\n",
    "            b_input_ids = batch[0].to(self.device)\n",
    "            b_input_mask = batch[1].to(self.device)\n",
    "            b_labels = batch[2].to(self.device)\n",
    "\n",
    "            # Ref: https://stackoverflow.com/questions/48001598/why-do-we-need-to-call-zero-grad-in-pytorch#:~:text=In%20PyTorch%20%2C%20we%20need%20to,backward()%20call.\n",
    "            model.zero_grad()                \n",
    "\n",
    "            outputs = model(b_input_ids, \n",
    "                             token_type_ids=None, \n",
    "                             attention_mask=b_input_mask, \n",
    "                             labels=b_labels)\n",
    "\n",
    "            # outputs is always returned as tuple\n",
    "            # Separate it manually\n",
    "            logits = outputs[1]\n",
    "\n",
    "            # define new loss function so that we can include\n",
    "            # weights\n",
    "            loss_fct = nn.CrossEntropyLoss(weight=torch.tensor(\n",
    "                        self.weights,dtype=torch.float)).to(self.device)\n",
    "            \n",
    "            loss = loss_fct(logits,b_labels)\n",
    "            \n",
    "            # calculate current loss\n",
    "            # loss.item() extracts loss value as a float\n",
    "            total_loss += loss.item()\n",
    "\n",
    "            # Back-propagation\n",
    "            loss.backward()\n",
    "\n",
    "            # calculate true labels\n",
    "            b_y_true = b_labels.cpu().data.squeeze().numpy()\n",
    "\n",
    "            # calculate predicted labels by taking max of \n",
    "            # prediction scores\n",
    "            b_y_pred = torch.max(logits,1)[1]\n",
    "            b_y_pred = b_y_pred.cpu().data.squeeze().numpy()\n",
    "\n",
    "            y_pred = np.concatenate((y_pred,b_y_pred))\n",
    "            y_true = np.concatenate((y_true,b_y_true))\n",
    "\n",
    "            # clip gradient to prevent exploding gradient\n",
    "            # problems\n",
    "            torch.nn.utils.clip_grad_norm_(model.parameters(), 1.0)\n",
    "\n",
    "            # gradient descent\n",
    "            optimiser.step()\n",
    "            \n",
    "            # schedule learning rate accordingly\n",
    "            scheduler.step()\n",
    "\n",
    "        # calculate avg loss \n",
    "        avg_train_loss = total_loss / len(train_loader)\n",
    "\n",
    "        # calculate metrics\n",
    "        train_metrics = self.evalMetric(y_true,y_pred,\"Train_\")\n",
    "        \n",
    "        # print results\n",
    "        print('avg_train_loss',avg_train_loss)\n",
    "        print('train_f1Score',train_metrics['Train_f1Score'])\n",
    "        print('train_accuracy',train_metrics['Train_accuracy'])\n",
    "\n",
    "        # add loss to metrics\n",
    "        train_metrics['Train_avg_loss'] = avg_train_loss\n",
    "\n",
    "        return train_metrics\n",
    "    \n",
    "    \n",
    "    ##------------------------------------------------------------##\n",
    "    ##----------------- Main Train Loop --------------------------##\n",
    "    ##------------------------------------------------------------##\n",
    "    def train(self,model,data_loaders,optimiser,scheduler,epochs,save_model):\n",
    "        # save train stats per epoch\n",
    "        train_stats = []\n",
    "        test_stats=[]\n",
    "        best_test={}\n",
    "        train_loader,val_loader,test_loader = data_loaders\n",
    "        # maintain best mF1 Score to save best model\n",
    "        best_mf1Score=-1.0\n",
    "        for epoch_i in range(0, epochs):\n",
    "            print(\"\")\n",
    "            print('======== Epoch {:} / {:} ========'.format(epoch_i + 1, epochs))\n",
    "            \n",
    "            print(\"\")\n",
    "            print('Training...')\n",
    "            # run trian loop\n",
    "            train_metrics = self.run_train_loop(model,train_loader,\n",
    "                                            optimiser,scheduler)\n",
    "\n",
    "            print(\"\")\n",
    "            print(\"Running Validation...\") \n",
    "            # test on validation set\n",
    "            val_metrics = self.evaluate(model,val_loader,\"Val\")\n",
    "            \n",
    "            print(\"Validation Loss: \",val_metrics['Val_avg_loss'])\n",
    "            print(\"Validation Accuracy: \",val_metrics['Val_accuracy'])\n",
    "            \n",
    "            stats = {}\n",
    "\n",
    "            # evaluate model on alternate epochs\n",
    "#             if(val_metrics['Val_mF1Score']>best_mf1Score):\n",
    "            if(epoch_i%2==1):\n",
    "                print(\"Testing Model....\")\n",
    "#                 best_mf1Score=val_metrics['Val_mF1Score']\n",
    "                if(save_model):\n",
    "                    torch.save(model.state_dict(), self.model_save_path+\n",
    "                        '/best_bert_'+self.name+'.pt')\n",
    "                # evaluate model on test set\n",
    "                test_metrics = self.evaluate(model,test_loader,'')\n",
    "                test_metrics['name']=self.name+'-'+str(epoch_i)\n",
    "                test_stats.append(test_metrics)\n",
    "            \n",
    "            if(val_metrics['Val_mF1Score']>best_mf1Score):\n",
    "                print(\"Best mF1Score....\")\n",
    "                best_mf1Score=val_metrics['Val_mF1Score']\n",
    "                if(save_model):\n",
    "                    torch.save(model.state_dict(), self.model_save_path+\n",
    "                        '/best_bert_'+self.name+'.pt')\n",
    "                # evaluate model on test set\n",
    "                best_test = self.evaluate(model,test_loader,'')\n",
    "                best_test['name']=self.name+'-'+str(epoch_i)+'_best'\n",
    "\n",
    "\n",
    "            stats['epoch']=epoch_i+1\n",
    "\n",
    "            # add train and val metrics of the epoch to \n",
    "            # same dictionary\n",
    "            stats.update(train_metrics)\n",
    "            stats.update(val_metrics)\n",
    "\n",
    "            train_stats.append(stats)\n",
    "            \n",
    "        test_stats.append(best_test)\n",
    "        return train_stats,test_stats\n",
    "    \n",
    "    ##-----------------------------------------------------------##\n",
    "    ##----------------------- Main Pipeline ---------------------##\n",
    "    ##-----------------------------------------------------------##\n",
    "    def run(self,args,df_train,df_val,df_test):\n",
    "        # get X and Y data points \n",
    "        X_train = df_train['Text'].values\n",
    "        Y_train = df_train['Label'].values\n",
    "        X_test = df_test['Text'].values\n",
    "        Y_test = df_test['Label'].values\n",
    "        X_val = df_val['Text'].values\n",
    "        Y_val = df_val['Label'].values\n",
    "        \n",
    "        # encode data\n",
    "        # returns list of data and attention masks\n",
    "        train_data = self.encode(X_train,args['max_len'])\n",
    "        val_data = self.encode(X_val,args['max_len'])\n",
    "        test_data = self.encode(X_test,args['max_len'])\n",
    "        \n",
    "        # add labels to data so that we can send them to\n",
    "        # dataloader function together\n",
    "        train_data.append(Y_train)\n",
    "        val_data.append(Y_val)\n",
    "        test_data.append(Y_test)\n",
    "        \n",
    "        # convert to dataloader\n",
    "        train_dl =self.get_dataloader(train_data,args['batch_size'],True)\n",
    "        val_dl =self.get_dataloader(val_data,args['batch_size'])                          \n",
    "        test_dl =self.get_dataloader(test_data,args['batch_size'])\n",
    "        \n",
    "        # intialise model\n",
    "#         model = BertForSequenceClassification.from_pretrained(\n",
    "#                 args['bert_model'], \n",
    "#                 num_labels = 2, \n",
    "#                 output_attentions = False, # Whether the model returns attentions weights.\n",
    "#                 output_hidden_states = False, # Whether the model returns all hidden-states.\n",
    "#             )\n",
    "#         model = self.load_model(args['model_path'],args)\n",
    "        model = AutoModelForSequenceClassification.from_pretrained(\"Hate-speech-CNERG/dehatebert-mono-english\")\n",
    "        model.to(self.device)\n",
    "        \n",
    "        optimiser = self.get_optimiser(args['learning_rate'],model)\n",
    "        \n",
    "        scheduler = self.get_scheduler(args['epochs'],optimiser,train_dl)\n",
    "        \n",
    "        # Run train loop and evaluate on validation data set\n",
    "        # on each epoch. Store best model from all epochs \n",
    "        # (best mF1 Score on Val set) and evaluate it on\n",
    "        # test set\n",
    "        train_stats,test_stats = self.train(model,[train_dl,val_dl,test_dl],\n",
    "                                optimiser,scheduler,args['epochs'],args['save_model'])\n",
    "        \n",
    "        return train_stats,test_stats\n",
    "        \n",
    "    ##-----------------------------------------------------------##\n",
    "    ##-------------------- Other Utilities ----------------------##\n",
    "    ##-----------------------------------------------------------##\n",
    "    def run_test(self,model,df_test,args):\n",
    "        # to evaluate test set on the final saved model\n",
    "        # to retrieve results if necessary\n",
    "        X_test = df_test['Text'].values\n",
    "        Y_test = df_test['Label'].values\n",
    "\n",
    "        test_data = self.encode(X_test,args['max_len'])\n",
    "\n",
    "        test_data.append(Y_test)\n",
    "\n",
    "        test_dl =self.get_dataloader(test_data,32)\n",
    "\n",
    "        metrics = self.evaluate(model,test_dl,\"Test\")\n",
    "\n",
    "        return metrics\n",
    "    \n",
    "    def load_model(self,path,args):\n",
    "        # load saved best model\n",
    "        saved_model = BertForSequenceClassification.from_pretrained(\n",
    "                args['bert_model'], \n",
    "                num_labels = 2, \n",
    "                output_attentions = False, # Whether the model returns attentions weights.\n",
    "                output_hidden_states = False, # Whether the model returns all hidden-states.\n",
    "            )\n",
    "        \n",
    "        saved_model.load_state_dict(torch.load(path))\n",
    "        \n",
    "        return saved_model"
   ]
  },
  {
   "cell_type": "markdown",
   "metadata": {},
   "source": [
    "## Utility Functions"
   ]
  },
  {
   "cell_type": "code",
   "execution_count": 1,
   "metadata": {},
   "outputs": [],
   "source": [
    "def load_dataset_part(args,index,seed,train_cnt):\n",
    "    # initialise constants \n",
    "    path = args['data_path']\n",
    "    # read dataframes\n",
    "    df_train = pd.read_csv(path+'train_'+str(index)+'.csv')\n",
    "    df_val = pd.read_csv(path+'val_'+str(index)+'.csv')\n",
    "    df_test = pd.read_csv(path+'test_'+str(index)+'.csv')\n",
    "    \n",
    "    # split train into hate and non-hate and take train_cnt\n",
    "    # samples of each\n",
    "    df_train_hate = df_train[df_train['Label'] == 1].sample(train_cnt,random_state=seed)\n",
    "    df_train_non_hate = df_train[df_train['Label'] == 0].sample(train_cnt,random_state=seed)\n",
    "    # concatenate hate and non_hate\n",
    "    df_train = pd.concat([df_train_hate, df_train_non_hate])\n",
    "    # shuffle the train data\n",
    "    df_train = df_train.sample(frac=1).reset_index(drop=True)\n",
    "\n",
    "    # clean data\n",
    "    df_train=preprocess(df_train,args['isArabic'])\n",
    "    df_val=preprocess(df_val,args['isArabic'])\n",
    "    df_test=preprocess(df_test,args['isArabic'])\n",
    "\n",
    "    return df_train, df_val, df_test"
   ]
  },
  {
   "cell_type": "code",
   "execution_count": 2,
   "metadata": {},
   "outputs": [],
   "source": [
    "def train_part_hatebert(args,run,train_cnt,index,all_test_metrics,model_args,seed):\n",
    "    model_name = args['model_name']\n",
    "    model_args['name']=model_name+'_'+str(train_cnt)+'_'+str(index)+'_'+str(run)\n",
    "    print(\"\\tInitialising Model....\")\n",
    "    model = HateBERT_FewShot(model_args)\n",
    "    print(\"\\tLoading Dataset....\")\n",
    "    df_train, df_val, df_test = load_dataset_part(args,index,seed,train_cnt)\n",
    "    print(\"\\tTraining Starts....\")\n",
    "    train_metrics, test_metrics = model.run(model_args, \n",
    "                    df_train, df_val, df_test)\n",
    "\n",
    "    # Save train metrics after generating path\n",
    "    res_path=args['res_base_path']+model_name+'_'+model_args['name']\n",
    "    save_metrics(res_path,train_metrics,\"train\")\n",
    "    \n",
    "    all_test_metrics.extend(test_metrics)"
   ]
  },
  {
   "cell_type": "code",
   "execution_count": 14,
   "metadata": {},
   "outputs": [],
   "source": [
    "def run_part_hatebert(run_args,model_args,train_cnt):\n",
    "    all_test_metrics=[]\n",
    "    seeds = [42,43,44]\n",
    "    for fold in [1, 2, 3, 4, 5]:\n",
    "        print(\"Fold: \",fold)\n",
    "        for run in [1,2,3]:\n",
    "            print(\"Run: \",run)\n",
    "            fix_random()\n",
    "            train_part_hatebert(run_args,run,train_cnt,fold,all_test_metrics,model_args,seeds[run-1])\n",
    "            print(\"Saving Test Metrics....\")\n",
    "            save_metrics(run_args['res_base_path']+run_args['model_name']+'_'+str(train_cnt),\n",
    "                         all_test_metrics,\"\")"
   ]
  },
  {
   "cell_type": "code",
   "execution_count": 8,
   "metadata": {},
   "outputs": [],
   "source": [
    "def preprocess(df,isArabic):\n",
    "    \n",
    "    X = df['Text']\n",
    "    X_new=[]\n",
    "    if(isArabic):\n",
    "        prep = ArabertPreprocessor('bert-base-arabertv02')\n",
    "        for text in tqdm(X):\n",
    "            text = prep.preprocess(text)\n",
    "            X_new.append(text)\n",
    "    else:\n",
    "        processer = Data_Preprocessing()\n",
    "        for text in tqdm(X):\n",
    "            text= processer.removeEmojis(text)\n",
    "            text = processer.removeUrls(text)\n",
    "            text=processer.removeSpecialChar(text)\n",
    "            X_new.append(text)\n",
    "\n",
    "    df['Text']=X_new\n",
    "    return df "
   ]
  },
  {
   "cell_type": "code",
   "execution_count": 9,
   "metadata": {},
   "outputs": [],
   "source": [
    "def save_metrics(path,metrics,which):\n",
    "    df = pd.DataFrame(metrics)\n",
    "    df.to_csv(path+\"_\"+which+\".csv\")"
   ]
  },
  {
   "cell_type": "code",
   "execution_count": 10,
   "metadata": {},
   "outputs": [],
   "source": [
    "def fix_random(seed_val=42):\n",
    "    random.seed(seed_val)\n",
    "    np.random.seed(seed_val)\n",
    "    torch.manual_seed(seed_val)\n",
    "    torch.cuda.manual_seed_all(seed_val)"
   ]
  },
  {
   "cell_type": "markdown",
   "metadata": {},
   "source": [
    "## Arabic "
   ]
  },
  {
   "cell_type": "code",
   "execution_count": null,
   "metadata": {
    "scrolled": true
   },
   "outputs": [
    {
     "name": "stdout",
     "output_type": "stream",
     "text": [
      "Fold:  1\n",
      "Run:  1\n",
      "\tInitialising Model....\n",
      "\tLoading Dataset....\n"
     ]
    },
    {
     "name": "stderr",
     "output_type": "stream",
     "text": [
      "100%|██████████| 64/64 [00:00<00:00, 2599.58it/s]\n",
      "100%|██████████| 523/523 [00:00<00:00, 8372.57it/s]\n",
      "100%|██████████| 1047/1047 [00:00<00:00, 4883.58it/s]\n",
      "  0%|          | 0/64 [00:00<?, ?it/s]"
     ]
    },
    {
     "name": "stdout",
     "output_type": "stream",
     "text": [
      "\tTraining Starts....\n"
     ]
    },
    {
     "name": "stderr",
     "output_type": "stream",
     "text": [
      "100%|██████████| 64/64 [00:00<00:00, 255.32it/s]\n",
      "100%|██████████| 523/523 [00:00<00:00, 5276.03it/s]\n",
      "100%|██████████| 1047/1047 [00:00<00:00, 4979.97it/s]\n"
     ]
    },
    {
     "name": "stdout",
     "output_type": "stream",
     "text": [
      "\n",
      "======== Epoch 1 / 10 ========\n",
      "\n",
      "Training...\n"
     ]
    },
    {
     "name": "stderr",
     "output_type": "stream",
     "text": [
      "100%|██████████| 8/8 [00:03<00:00,  2.30it/s]\n",
      "  5%|▍         | 3/65 [00:00<00:02, 28.48it/s]"
     ]
    },
    {
     "name": "stdout",
     "output_type": "stream",
     "text": [
      "avg_train_loss 0.8134631589055061\n",
      "train_f1Score 0.6133333333333333\n",
      "train_accuracy 0.546875\n",
      "\n",
      "Running Validation...\n"
     ]
    },
    {
     "name": "stderr",
     "output_type": "stream",
     "text": [
      "100%|██████████| 65/65 [00:02<00:00, 28.55it/s]\n",
      "  2%|▏         | 3/130 [00:00<00:04, 28.77it/s]"
     ]
    },
    {
     "name": "stdout",
     "output_type": "stream",
     "text": [
      "Validation Loss:  0.6725702482920427\n",
      "Validation Accuracy:  0.6\n",
      "Best mF1Score....\n"
     ]
    },
    {
     "name": "stderr",
     "output_type": "stream",
     "text": [
      "100%|██████████| 130/130 [00:04<00:00, 28.62it/s]\n",
      " 12%|█▎        | 1/8 [00:00<00:01,  6.97it/s]"
     ]
    },
    {
     "name": "stdout",
     "output_type": "stream",
     "text": [
      "\n",
      "======== Epoch 2 / 10 ========\n",
      "\n",
      "Training...\n"
     ]
    },
    {
     "name": "stderr",
     "output_type": "stream",
     "text": [
      "100%|██████████| 8/8 [00:01<00:00,  6.79it/s]\n",
      "  5%|▍         | 3/65 [00:00<00:02, 28.64it/s]"
     ]
    },
    {
     "name": "stdout",
     "output_type": "stream",
     "text": [
      "avg_train_loss 0.620705857872963\n",
      "train_f1Score 0.5901639344262296\n",
      "train_accuracy 0.609375\n",
      "\n",
      "Running Validation...\n"
     ]
    },
    {
     "name": "stderr",
     "output_type": "stream",
     "text": [
      "100%|██████████| 65/65 [00:02<00:00, 28.68it/s]\n",
      "  2%|▏         | 3/130 [00:00<00:04, 28.68it/s]"
     ]
    },
    {
     "name": "stdout",
     "output_type": "stream",
     "text": [
      "Validation Loss:  0.691746149613307\n",
      "Validation Accuracy:  0.5769230769230769\n",
      "Testing Model....\n"
     ]
    },
    {
     "name": "stderr",
     "output_type": "stream",
     "text": [
      "100%|██████████| 130/130 [00:04<00:00, 28.58it/s]\n",
      " 12%|█▎        | 1/8 [00:00<00:01,  6.97it/s]"
     ]
    },
    {
     "name": "stdout",
     "output_type": "stream",
     "text": [
      "\n",
      "======== Epoch 3 / 10 ========\n",
      "\n",
      "Training...\n"
     ]
    },
    {
     "name": "stderr",
     "output_type": "stream",
     "text": [
      "100%|██████████| 8/8 [00:01<00:00,  6.72it/s]\n",
      "  5%|▍         | 3/65 [00:00<00:02, 28.54it/s]"
     ]
    },
    {
     "name": "stdout",
     "output_type": "stream",
     "text": [
      "avg_train_loss 0.5773992463946342\n",
      "train_f1Score 0.6666666666666666\n",
      "train_accuracy 0.71875\n",
      "\n",
      "Running Validation...\n"
     ]
    },
    {
     "name": "stderr",
     "output_type": "stream",
     "text": [
      "100%|██████████| 65/65 [00:02<00:00, 28.58it/s]\n",
      "  2%|▏         | 3/130 [00:00<00:04, 28.65it/s]"
     ]
    },
    {
     "name": "stdout",
     "output_type": "stream",
     "text": [
      "Validation Loss:  0.6407024186391097\n",
      "Validation Accuracy:  0.6269230769230769\n",
      "Best mF1Score....\n"
     ]
    },
    {
     "name": "stderr",
     "output_type": "stream",
     "text": [
      "100%|██████████| 130/130 [00:04<00:00, 28.54it/s]\n",
      " 12%|█▎        | 1/8 [00:00<00:01,  6.83it/s]"
     ]
    },
    {
     "name": "stdout",
     "output_type": "stream",
     "text": [
      "\n",
      "======== Epoch 4 / 10 ========\n",
      "\n",
      "Training...\n"
     ]
    },
    {
     "name": "stderr",
     "output_type": "stream",
     "text": [
      "100%|██████████| 8/8 [00:01<00:00,  6.73it/s]\n",
      "  5%|▍         | 3/65 [00:00<00:02, 28.69it/s]"
     ]
    },
    {
     "name": "stdout",
     "output_type": "stream",
     "text": [
      "avg_train_loss 0.5231262408196926\n",
      "train_f1Score 0.7666666666666666\n",
      "train_accuracy 0.78125\n",
      "\n",
      "Running Validation...\n"
     ]
    },
    {
     "name": "stderr",
     "output_type": "stream",
     "text": [
      "100%|██████████| 65/65 [00:02<00:00, 28.58it/s]\n",
      "  2%|▏         | 3/130 [00:00<00:04, 28.67it/s]"
     ]
    },
    {
     "name": "stdout",
     "output_type": "stream",
     "text": [
      "Validation Loss:  0.6448502403039199\n",
      "Validation Accuracy:  0.6519230769230769\n",
      "Testing Model....\n"
     ]
    },
    {
     "name": "stderr",
     "output_type": "stream",
     "text": [
      "100%|██████████| 130/130 [00:04<00:00, 28.58it/s]\n",
      "  2%|▏         | 3/130 [00:00<00:04, 28.75it/s]"
     ]
    },
    {
     "name": "stdout",
     "output_type": "stream",
     "text": [
      "Best mF1Score....\n"
     ]
    },
    {
     "name": "stderr",
     "output_type": "stream",
     "text": [
      "100%|██████████| 130/130 [00:04<00:00, 28.54it/s]\n",
      " 12%|█▎        | 1/8 [00:00<00:01,  6.91it/s]"
     ]
    },
    {
     "name": "stdout",
     "output_type": "stream",
     "text": [
      "\n",
      "======== Epoch 5 / 10 ========\n",
      "\n",
      "Training...\n"
     ]
    },
    {
     "name": "stderr",
     "output_type": "stream",
     "text": [
      "100%|██████████| 8/8 [00:01<00:00,  6.71it/s]\n",
      "  5%|▍         | 3/65 [00:00<00:02, 28.68it/s]"
     ]
    },
    {
     "name": "stdout",
     "output_type": "stream",
     "text": [
      "avg_train_loss 0.40434984862804413\n",
      "train_f1Score 0.8529411764705882\n",
      "train_accuracy 0.84375\n",
      "\n",
      "Running Validation...\n"
     ]
    },
    {
     "name": "stderr",
     "output_type": "stream",
     "text": [
      "100%|██████████| 65/65 [00:02<00:00, 28.56it/s]\n",
      " 12%|█▎        | 1/8 [00:00<00:01,  6.88it/s]"
     ]
    },
    {
     "name": "stdout",
     "output_type": "stream",
     "text": [
      "Validation Loss:  0.6558221849111411\n",
      "Validation Accuracy:  0.65\n",
      "\n",
      "======== Epoch 6 / 10 ========\n",
      "\n",
      "Training...\n"
     ]
    },
    {
     "name": "stderr",
     "output_type": "stream",
     "text": [
      "100%|██████████| 8/8 [00:01<00:00,  6.74it/s]\n",
      "  5%|▍         | 3/65 [00:00<00:02, 28.44it/s]"
     ]
    },
    {
     "name": "stdout",
     "output_type": "stream",
     "text": [
      "avg_train_loss 0.37908296659588814\n",
      "train_f1Score 0.8484848484848485\n",
      "train_accuracy 0.84375\n",
      "\n",
      "Running Validation...\n"
     ]
    },
    {
     "name": "stderr",
     "output_type": "stream",
     "text": [
      "100%|██████████| 65/65 [00:02<00:00, 28.58it/s]\n",
      "  2%|▏         | 3/130 [00:00<00:04, 28.66it/s]"
     ]
    },
    {
     "name": "stdout",
     "output_type": "stream",
     "text": [
      "Validation Loss:  0.7085778289116346\n",
      "Validation Accuracy:  0.6519230769230769\n",
      "Testing Model....\n"
     ]
    },
    {
     "name": "stderr",
     "output_type": "stream",
     "text": [
      "100%|██████████| 130/130 [00:04<00:00, 28.54it/s]\n",
      " 12%|█▎        | 1/8 [00:00<00:01,  6.87it/s]"
     ]
    },
    {
     "name": "stdout",
     "output_type": "stream",
     "text": [
      "\n",
      "======== Epoch 7 / 10 ========\n",
      "\n",
      "Training...\n"
     ]
    },
    {
     "name": "stderr",
     "output_type": "stream",
     "text": [
      "100%|██████████| 8/8 [00:01<00:00,  6.71it/s]\n",
      "  5%|▍         | 3/65 [00:00<00:02, 28.72it/s]"
     ]
    },
    {
     "name": "stdout",
     "output_type": "stream",
     "text": [
      "avg_train_loss 0.36918674036860466\n",
      "train_f1Score 0.8333333333333334\n",
      "train_accuracy 0.84375\n",
      "\n",
      "Running Validation...\n"
     ]
    },
    {
     "name": "stderr",
     "output_type": "stream",
     "text": [
      "100%|██████████| 65/65 [00:02<00:00, 28.56it/s]\n",
      "  2%|▏         | 3/130 [00:00<00:04, 28.73it/s]"
     ]
    },
    {
     "name": "stdout",
     "output_type": "stream",
     "text": [
      "Validation Loss:  0.700447597182714\n",
      "Validation Accuracy:  0.6673076923076923\n",
      "Best mF1Score....\n"
     ]
    },
    {
     "name": "stderr",
     "output_type": "stream",
     "text": [
      "100%|██████████| 130/130 [00:04<00:00, 28.61it/s]\n",
      " 12%|█▎        | 1/8 [00:00<00:01,  6.92it/s]"
     ]
    },
    {
     "name": "stdout",
     "output_type": "stream",
     "text": [
      "\n",
      "======== Epoch 8 / 10 ========\n",
      "\n",
      "Training...\n"
     ]
    },
    {
     "name": "stderr",
     "output_type": "stream",
     "text": [
      "100%|██████████| 8/8 [00:01<00:00,  6.69it/s]\n",
      "  5%|▍         | 3/65 [00:00<00:02, 28.71it/s]"
     ]
    },
    {
     "name": "stdout",
     "output_type": "stream",
     "text": [
      "avg_train_loss 0.2968356553465128\n",
      "train_f1Score 0.8923076923076922\n",
      "train_accuracy 0.890625\n",
      "\n",
      "Running Validation...\n"
     ]
    },
    {
     "name": "stderr",
     "output_type": "stream",
     "text": [
      "100%|██████████| 65/65 [00:02<00:00, 28.70it/s]\n",
      "  2%|▏         | 3/130 [00:00<00:04, 28.73it/s]"
     ]
    },
    {
     "name": "stdout",
     "output_type": "stream",
     "text": [
      "Validation Loss:  0.719779075567539\n",
      "Validation Accuracy:  0.6576923076923077\n",
      "Testing Model....\n"
     ]
    },
    {
     "name": "stderr",
     "output_type": "stream",
     "text": [
      "100%|██████████| 130/130 [00:04<00:00, 28.69it/s]\n",
      " 12%|█▎        | 1/8 [00:00<00:01,  6.87it/s]"
     ]
    },
    {
     "name": "stdout",
     "output_type": "stream",
     "text": [
      "\n",
      "======== Epoch 9 / 10 ========\n",
      "\n",
      "Training...\n"
     ]
    },
    {
     "name": "stderr",
     "output_type": "stream",
     "text": [
      "100%|██████████| 8/8 [00:01<00:00,  6.82it/s]\n",
      "  5%|▍         | 3/65 [00:00<00:02, 28.50it/s]"
     ]
    },
    {
     "name": "stdout",
     "output_type": "stream",
     "text": [
      "avg_train_loss 0.2361819464713335\n",
      "train_f1Score 0.955223880597015\n",
      "train_accuracy 0.953125\n",
      "\n",
      "Running Validation...\n"
     ]
    },
    {
     "name": "stderr",
     "output_type": "stream",
     "text": [
      "100%|██████████| 65/65 [00:02<00:00, 28.58it/s]\n",
      " 12%|█▎        | 1/8 [00:00<00:01,  6.89it/s]"
     ]
    },
    {
     "name": "stdout",
     "output_type": "stream",
     "text": [
      "Validation Loss:  0.7376808141286556\n",
      "Validation Accuracy:  0.6634615384615384\n",
      "\n",
      "======== Epoch 10 / 10 ========\n",
      "\n",
      "Training...\n"
     ]
    },
    {
     "name": "stderr",
     "output_type": "stream",
     "text": [
      "100%|██████████| 8/8 [00:01<00:00,  6.69it/s]\n",
      "  5%|▍         | 3/65 [00:00<00:02, 28.27it/s]"
     ]
    },
    {
     "name": "stdout",
     "output_type": "stream",
     "text": [
      "avg_train_loss 0.2835518214851618\n",
      "train_f1Score 0.9090909090909091\n",
      "train_accuracy 0.90625\n",
      "\n",
      "Running Validation...\n"
     ]
    },
    {
     "name": "stderr",
     "output_type": "stream",
     "text": [
      "100%|██████████| 65/65 [00:02<00:00, 28.36it/s]\n",
      "  2%|▏         | 2/130 [00:00<00:08, 15.67it/s]"
     ]
    },
    {
     "name": "stdout",
     "output_type": "stream",
     "text": [
      "Validation Loss:  0.7417711267104515\n",
      "Validation Accuracy:  0.6634615384615384\n",
      "Testing Model....\n"
     ]
    },
    {
     "name": "stderr",
     "output_type": "stream",
     "text": [
      "100%|██████████| 130/130 [00:04<00:00, 28.20it/s]\n"
     ]
    },
    {
     "name": "stdout",
     "output_type": "stream",
     "text": [
      "Saving Test Metrics....\n",
      "Run:  2\n",
      "\tInitialising Model....\n",
      "\tLoading Dataset....\n"
     ]
    },
    {
     "name": "stderr",
     "output_type": "stream",
     "text": [
      "100%|██████████| 64/64 [00:00<00:00, 3964.84it/s]\n",
      "100%|██████████| 523/523 [00:00<00:00, 8430.45it/s]\n",
      "100%|██████████| 1047/1047 [00:00<00:00, 8347.63it/s]\n",
      "100%|██████████| 64/64 [00:00<00:00, 472.01it/s]\n",
      "  0%|          | 0/523 [00:00<?, ?it/s]"
     ]
    },
    {
     "name": "stdout",
     "output_type": "stream",
     "text": [
      "\tTraining Starts....\n"
     ]
    },
    {
     "name": "stderr",
     "output_type": "stream",
     "text": [
      "100%|██████████| 523/523 [00:00<00:00, 4756.17it/s]\n",
      "100%|██████████| 1047/1047 [00:00<00:00, 4726.00it/s]\n",
      "  0%|          | 0/8 [00:00<?, ?it/s]"
     ]
    },
    {
     "name": "stdout",
     "output_type": "stream",
     "text": [
      "\n",
      "======== Epoch 1 / 10 ========\n",
      "\n",
      "Training...\n"
     ]
    },
    {
     "name": "stderr",
     "output_type": "stream",
     "text": [
      "100%|██████████| 8/8 [00:02<00:00,  3.69it/s]\n",
      "  5%|▍         | 3/65 [00:00<00:02, 28.53it/s]"
     ]
    },
    {
     "name": "stdout",
     "output_type": "stream",
     "text": [
      "avg_train_loss 0.9098862782120705\n",
      "train_f1Score 0.5333333333333334\n",
      "train_accuracy 0.453125\n",
      "\n",
      "Running Validation...\n"
     ]
    },
    {
     "name": "stderr",
     "output_type": "stream",
     "text": [
      "100%|██████████| 65/65 [00:02<00:00, 28.57it/s]\n",
      "  2%|▏         | 3/130 [00:00<00:04, 28.53it/s]"
     ]
    },
    {
     "name": "stdout",
     "output_type": "stream",
     "text": [
      "Validation Loss:  0.7236248277700864\n",
      "Validation Accuracy:  0.525\n",
      "Best mF1Score....\n"
     ]
    },
    {
     "name": "stderr",
     "output_type": "stream",
     "text": [
      "100%|██████████| 130/130 [00:04<00:00, 28.59it/s]\n",
      " 12%|█▎        | 1/8 [00:00<00:01,  6.95it/s]"
     ]
    },
    {
     "name": "stdout",
     "output_type": "stream",
     "text": [
      "\n",
      "======== Epoch 2 / 10 ========\n",
      "\n",
      "Training...\n"
     ]
    },
    {
     "name": "stderr",
     "output_type": "stream",
     "text": [
      "100%|██████████| 8/8 [00:01<00:00,  6.74it/s]\n",
      "  5%|▍         | 3/65 [00:00<00:02, 28.52it/s]"
     ]
    },
    {
     "name": "stdout",
     "output_type": "stream",
     "text": [
      "avg_train_loss 0.6810367777943611\n",
      "train_f1Score 0.6666666666666665\n",
      "train_accuracy 0.546875\n",
      "\n",
      "Running Validation...\n"
     ]
    },
    {
     "name": "stderr",
     "output_type": "stream",
     "text": [
      "100%|██████████| 65/65 [00:02<00:00, 28.59it/s]\n",
      "  2%|▏         | 3/130 [00:00<00:04, 28.54it/s]"
     ]
    },
    {
     "name": "stdout",
     "output_type": "stream",
     "text": [
      "Validation Loss:  0.6634726506013137\n",
      "Validation Accuracy:  0.6038461538461538\n",
      "Testing Model....\n"
     ]
    },
    {
     "name": "stderr",
     "output_type": "stream",
     "text": [
      "100%|██████████| 130/130 [00:04<00:00, 28.57it/s]\n",
      "  2%|▏         | 3/130 [00:00<00:04, 28.74it/s]"
     ]
    },
    {
     "name": "stdout",
     "output_type": "stream",
     "text": [
      "Best mF1Score....\n"
     ]
    },
    {
     "name": "stderr",
     "output_type": "stream",
     "text": [
      "100%|██████████| 130/130 [00:04<00:00, 28.59it/s]\n",
      " 12%|█▎        | 1/8 [00:00<00:01,  6.91it/s]"
     ]
    },
    {
     "name": "stdout",
     "output_type": "stream",
     "text": [
      "\n",
      "======== Epoch 3 / 10 ========\n",
      "\n",
      "Training...\n"
     ]
    },
    {
     "name": "stderr",
     "output_type": "stream",
     "text": [
      "100%|██████████| 8/8 [00:01<00:00,  6.78it/s]\n",
      "  5%|▍         | 3/65 [00:00<00:02, 28.52it/s]"
     ]
    },
    {
     "name": "stdout",
     "output_type": "stream",
     "text": [
      "avg_train_loss 0.6157850734889507\n",
      "train_f1Score 0.4651162790697674\n",
      "train_accuracy 0.640625\n",
      "\n",
      "Running Validation...\n"
     ]
    },
    {
     "name": "stderr",
     "output_type": "stream",
     "text": [
      "100%|██████████| 65/65 [00:02<00:00, 28.46it/s]\n",
      " 12%|█▎        | 1/8 [00:00<00:01,  6.76it/s]"
     ]
    },
    {
     "name": "stdout",
     "output_type": "stream",
     "text": [
      "Validation Loss:  0.685570759498156\n",
      "Validation Accuracy:  0.5788461538461539\n",
      "\n",
      "======== Epoch 4 / 10 ========\n",
      "\n",
      "Training...\n"
     ]
    },
    {
     "name": "stderr",
     "output_type": "stream",
     "text": [
      "100%|██████████| 8/8 [00:01<00:00,  6.73it/s]\n",
      "  5%|▍         | 3/65 [00:00<00:02, 28.52it/s]"
     ]
    },
    {
     "name": "stdout",
     "output_type": "stream",
     "text": [
      "avg_train_loss 0.5678843036293983\n",
      "train_f1Score 0.6666666666666666\n",
      "train_accuracy 0.734375\n",
      "\n",
      "Running Validation...\n"
     ]
    },
    {
     "name": "stderr",
     "output_type": "stream",
     "text": [
      "100%|██████████| 65/65 [00:02<00:00, 28.55it/s]\n",
      "  2%|▏         | 3/130 [00:00<00:04, 28.76it/s]"
     ]
    },
    {
     "name": "stdout",
     "output_type": "stream",
     "text": [
      "Validation Loss:  0.6393788878734296\n",
      "Validation Accuracy:  0.6288461538461538\n",
      "Testing Model....\n"
     ]
    },
    {
     "name": "stderr",
     "output_type": "stream",
     "text": [
      "100%|██████████| 130/130 [00:04<00:00, 28.54it/s]\n",
      "  2%|▏         | 3/130 [00:00<00:04, 28.99it/s]"
     ]
    },
    {
     "name": "stdout",
     "output_type": "stream",
     "text": [
      "Best mF1Score....\n"
     ]
    },
    {
     "name": "stderr",
     "output_type": "stream",
     "text": [
      "100%|██████████| 130/130 [00:04<00:00, 28.57it/s]\n",
      " 12%|█▎        | 1/8 [00:00<00:01,  6.95it/s]"
     ]
    },
    {
     "name": "stdout",
     "output_type": "stream",
     "text": [
      "\n",
      "======== Epoch 5 / 10 ========\n",
      "\n",
      "Training...\n"
     ]
    },
    {
     "name": "stderr",
     "output_type": "stream",
     "text": [
      "100%|██████████| 8/8 [00:01<00:00,  6.72it/s]\n",
      "  5%|▍         | 3/65 [00:00<00:02, 28.51it/s]"
     ]
    },
    {
     "name": "stdout",
     "output_type": "stream",
     "text": [
      "avg_train_loss 0.5135705955326557\n",
      "train_f1Score 0.8611111111111113\n",
      "train_accuracy 0.84375\n",
      "\n",
      "Running Validation...\n"
     ]
    },
    {
     "name": "stderr",
     "output_type": "stream",
     "text": [
      "100%|██████████| 65/65 [00:02<00:00, 28.57it/s]\n",
      "  2%|▏         | 3/130 [00:00<00:04, 28.69it/s]"
     ]
    },
    {
     "name": "stdout",
     "output_type": "stream",
     "text": [
      "Validation Loss:  0.6551653284292954\n",
      "Validation Accuracy:  0.6307692307692307\n",
      "Best mF1Score....\n"
     ]
    },
    {
     "name": "stderr",
     "output_type": "stream",
     "text": [
      "100%|██████████| 130/130 [00:04<00:00, 28.57it/s]\n",
      "  0%|          | 0/8 [00:00<?, ?it/s]"
     ]
    },
    {
     "name": "stdout",
     "output_type": "stream",
     "text": [
      "\n",
      "======== Epoch 6 / 10 ========\n",
      "\n",
      "Training...\n"
     ]
    },
    {
     "name": "stderr",
     "output_type": "stream",
     "text": [
      "100%|██████████| 8/8 [00:01<00:00,  5.10it/s]\n",
      "  5%|▍         | 3/65 [00:00<00:02, 28.61it/s]"
     ]
    },
    {
     "name": "stdout",
     "output_type": "stream",
     "text": [
      "avg_train_loss 0.4002511091530323\n",
      "train_f1Score 0.870967741935484\n",
      "train_accuracy 0.875\n",
      "\n",
      "Running Validation...\n"
     ]
    },
    {
     "name": "stderr",
     "output_type": "stream",
     "text": [
      "100%|██████████| 65/65 [00:02<00:00, 28.49it/s]\n",
      "  2%|▏         | 3/130 [00:00<00:04, 28.76it/s]"
     ]
    },
    {
     "name": "stdout",
     "output_type": "stream",
     "text": [
      "Validation Loss:  0.6958649937923138\n",
      "Validation Accuracy:  0.6384615384615384\n",
      "Testing Model....\n"
     ]
    },
    {
     "name": "stderr",
     "output_type": "stream",
     "text": [
      "100%|██████████| 130/130 [00:04<00:00, 28.63it/s]\n",
      "  2%|▏         | 3/130 [00:00<00:04, 28.94it/s]"
     ]
    },
    {
     "name": "stdout",
     "output_type": "stream",
     "text": [
      "Best mF1Score....\n"
     ]
    },
    {
     "name": "stderr",
     "output_type": "stream",
     "text": [
      "100%|██████████| 130/130 [00:04<00:00, 28.72it/s]\n",
      " 12%|█▎        | 1/8 [00:00<00:00,  7.41it/s]"
     ]
    },
    {
     "name": "stdout",
     "output_type": "stream",
     "text": [
      "\n",
      "======== Epoch 7 / 10 ========\n",
      "\n",
      "Training...\n"
     ]
    },
    {
     "name": "stderr",
     "output_type": "stream",
     "text": [
      "100%|██████████| 8/8 [00:01<00:00,  7.16it/s]\n",
      "  5%|▍         | 3/65 [00:00<00:02, 28.59it/s]"
     ]
    },
    {
     "name": "stdout",
     "output_type": "stream",
     "text": [
      "avg_train_loss 0.3935240488499403\n",
      "train_f1Score 0.8333333333333334\n",
      "train_accuracy 0.84375\n",
      "\n",
      "Running Validation...\n"
     ]
    },
    {
     "name": "stderr",
     "output_type": "stream",
     "text": [
      "100%|██████████| 65/65 [00:02<00:00, 28.57it/s]\n",
      "  2%|▏         | 3/130 [00:00<00:04, 28.64it/s]"
     ]
    },
    {
     "name": "stdout",
     "output_type": "stream",
     "text": [
      "Validation Loss:  0.6789831399917603\n",
      "Validation Accuracy:  0.6576923076923077\n",
      "Best mF1Score....\n"
     ]
    },
    {
     "name": "stderr",
     "output_type": "stream",
     "text": [
      "100%|██████████| 130/130 [00:04<00:00, 28.52it/s]\n",
      " 12%|█▎        | 1/8 [00:00<00:00,  7.45it/s]"
     ]
    },
    {
     "name": "stdout",
     "output_type": "stream",
     "text": [
      "\n",
      "======== Epoch 8 / 10 ========\n",
      "\n",
      "Training...\n"
     ]
    },
    {
     "name": "stderr",
     "output_type": "stream",
     "text": [
      "100%|██████████| 8/8 [00:01<00:00,  7.17it/s]\n",
      "  5%|▍         | 3/65 [00:00<00:02, 28.60it/s]"
     ]
    },
    {
     "name": "stdout",
     "output_type": "stream",
     "text": [
      "avg_train_loss 0.2982335798442364\n",
      "train_f1Score 0.9393939393939394\n",
      "train_accuracy 0.9375\n",
      "\n",
      "Running Validation...\n"
     ]
    },
    {
     "name": "stderr",
     "output_type": "stream",
     "text": [
      "100%|██████████| 65/65 [00:02<00:00, 28.48it/s]\n",
      "  2%|▏         | 3/130 [00:00<00:04, 28.59it/s]"
     ]
    },
    {
     "name": "stdout",
     "output_type": "stream",
     "text": [
      "Validation Loss:  0.6990378586145548\n",
      "Validation Accuracy:  0.6519230769230769\n",
      "Testing Model....\n"
     ]
    },
    {
     "name": "stderr",
     "output_type": "stream",
     "text": [
      "100%|██████████| 130/130 [00:04<00:00, 27.88it/s]\n",
      "  0%|          | 0/8 [00:00<?, ?it/s]"
     ]
    },
    {
     "name": "stdout",
     "output_type": "stream",
     "text": [
      "\n",
      "======== Epoch 9 / 10 ========\n",
      "\n",
      "Training...\n"
     ]
    },
    {
     "name": "stderr",
     "output_type": "stream",
     "text": [
      "100%|██████████| 8/8 [00:01<00:00,  4.96it/s]\n",
      "  5%|▍         | 3/65 [00:00<00:02, 28.88it/s]"
     ]
    },
    {
     "name": "stdout",
     "output_type": "stream",
     "text": [
      "avg_train_loss 0.25525985285639763\n",
      "train_f1Score 0.955223880597015\n",
      "train_accuracy 0.953125\n",
      "\n",
      "Running Validation...\n"
     ]
    },
    {
     "name": "stderr",
     "output_type": "stream",
     "text": [
      "100%|██████████| 65/65 [00:02<00:00, 28.75it/s]\n",
      "  2%|▏         | 3/130 [00:00<00:04, 28.95it/s]"
     ]
    },
    {
     "name": "stdout",
     "output_type": "stream",
     "text": [
      "Validation Loss:  0.726459980240235\n",
      "Validation Accuracy:  0.6634615384615384\n",
      "Best mF1Score....\n"
     ]
    },
    {
     "name": "stderr",
     "output_type": "stream",
     "text": [
      "100%|██████████| 130/130 [00:04<00:00, 28.84it/s]\n",
      " 12%|█▎        | 1/8 [00:00<00:01,  6.92it/s]"
     ]
    },
    {
     "name": "stdout",
     "output_type": "stream",
     "text": [
      "\n",
      "======== Epoch 10 / 10 ========\n",
      "\n",
      "Training...\n"
     ]
    },
    {
     "name": "stderr",
     "output_type": "stream",
     "text": [
      "100%|██████████| 8/8 [00:01<00:00,  6.76it/s]\n",
      "  5%|▍         | 3/65 [00:00<00:02, 28.92it/s]"
     ]
    },
    {
     "name": "stdout",
     "output_type": "stream",
     "text": [
      "avg_train_loss 0.2919556424021721\n",
      "train_f1Score 0.9393939393939394\n",
      "train_accuracy 0.9375\n",
      "\n",
      "Running Validation...\n"
     ]
    },
    {
     "name": "stderr",
     "output_type": "stream",
     "text": [
      "100%|██████████| 65/65 [00:02<00:00, 28.73it/s]\n",
      "  2%|▏         | 3/130 [00:00<00:04, 28.79it/s]"
     ]
    },
    {
     "name": "stdout",
     "output_type": "stream",
     "text": [
      "Validation Loss:  0.7385906217189936\n",
      "Validation Accuracy:  0.6634615384615384\n",
      "Testing Model....\n"
     ]
    },
    {
     "name": "stderr",
     "output_type": "stream",
     "text": [
      "100%|██████████| 130/130 [00:04<00:00, 28.58it/s]\n",
      "  2%|▏         | 3/130 [00:00<00:04, 28.71it/s]"
     ]
    },
    {
     "name": "stdout",
     "output_type": "stream",
     "text": [
      "Best mF1Score....\n"
     ]
    },
    {
     "name": "stderr",
     "output_type": "stream",
     "text": [
      "100%|██████████| 130/130 [00:04<00:00, 28.54it/s]\n"
     ]
    },
    {
     "name": "stdout",
     "output_type": "stream",
     "text": [
      "Saving Test Metrics....\n",
      "Run:  3\n",
      "\tInitialising Model....\n",
      "\tLoading Dataset....\n"
     ]
    },
    {
     "name": "stderr",
     "output_type": "stream",
     "text": [
      "100%|██████████| 64/64 [00:00<00:00, 725.16it/s]\n",
      "100%|██████████| 523/523 [00:00<00:00, 8565.69it/s]\n",
      "100%|██████████| 1047/1047 [00:00<00:00, 8455.96it/s]\n",
      "100%|██████████| 64/64 [00:00<00:00, 1193.33it/s]\n",
      "100%|██████████| 523/523 [00:00<00:00, 5347.93it/s]\n",
      "  0%|          | 0/1047 [00:00<?, ?it/s]"
     ]
    },
    {
     "name": "stdout",
     "output_type": "stream",
     "text": [
      "\tTraining Starts....\n"
     ]
    },
    {
     "name": "stderr",
     "output_type": "stream",
     "text": [
      "100%|██████████| 1047/1047 [00:00<00:00, 5079.11it/s]\n",
      "  0%|          | 0/8 [00:00<?, ?it/s]"
     ]
    },
    {
     "name": "stdout",
     "output_type": "stream",
     "text": [
      "\n",
      "======== Epoch 1 / 10 ========\n",
      "\n",
      "Training...\n"
     ]
    },
    {
     "name": "stderr",
     "output_type": "stream",
     "text": [
      "100%|██████████| 8/8 [00:03<00:00,  2.12it/s]\n",
      "  5%|▍         | 3/65 [00:00<00:02, 28.37it/s]"
     ]
    },
    {
     "name": "stdout",
     "output_type": "stream",
     "text": [
      "avg_train_loss 0.9865948930382729\n",
      "train_f1Score 0.47222222222222215\n",
      "train_accuracy 0.40625\n",
      "\n",
      "Running Validation...\n"
     ]
    },
    {
     "name": "stderr",
     "output_type": "stream",
     "text": [
      "100%|██████████| 65/65 [00:02<00:00, 28.67it/s]\n",
      "  2%|▏         | 3/130 [00:00<00:04, 28.88it/s]"
     ]
    },
    {
     "name": "stdout",
     "output_type": "stream",
     "text": [
      "Validation Loss:  0.7419576667822324\n",
      "Validation Accuracy:  0.5211538461538462\n",
      "Best mF1Score....\n"
     ]
    },
    {
     "name": "stderr",
     "output_type": "stream",
     "text": [
      "100%|██████████| 130/130 [00:04<00:00, 28.56it/s]\n",
      " 12%|█▎        | 1/8 [00:00<00:01,  6.82it/s]"
     ]
    },
    {
     "name": "stdout",
     "output_type": "stream",
     "text": [
      "\n",
      "======== Epoch 2 / 10 ========\n",
      "\n",
      "Training...\n"
     ]
    },
    {
     "name": "stderr",
     "output_type": "stream",
     "text": [
      "100%|██████████| 8/8 [00:01<00:00,  6.77it/s]\n",
      "  5%|▍         | 3/65 [00:00<00:02, 28.71it/s]"
     ]
    },
    {
     "name": "stdout",
     "output_type": "stream",
     "text": [
      "avg_train_loss 0.6924550756812096\n",
      "train_f1Score 0.6808510638297872\n",
      "train_accuracy 0.53125\n",
      "\n",
      "Running Validation...\n"
     ]
    },
    {
     "name": "stderr",
     "output_type": "stream",
     "text": [
      "100%|██████████| 65/65 [00:02<00:00, 28.60it/s]\n",
      "  2%|▏         | 3/130 [00:00<00:04, 28.75it/s]"
     ]
    },
    {
     "name": "stdout",
     "output_type": "stream",
     "text": [
      "Validation Loss:  0.6733566540938157\n",
      "Validation Accuracy:  0.6115384615384616\n",
      "Testing Model....\n"
     ]
    },
    {
     "name": "stderr",
     "output_type": "stream",
     "text": [
      "100%|██████████| 130/130 [00:04<00:00, 28.52it/s]\n",
      "  2%|▏         | 3/130 [00:00<00:04, 28.83it/s]"
     ]
    },
    {
     "name": "stdout",
     "output_type": "stream",
     "text": [
      "Best mF1Score....\n"
     ]
    },
    {
     "name": "stderr",
     "output_type": "stream",
     "text": [
      "100%|██████████| 130/130 [00:04<00:00, 28.56it/s]\n",
      "  0%|          | 0/8 [00:00<?, ?it/s]"
     ]
    },
    {
     "name": "stdout",
     "output_type": "stream",
     "text": [
      "\n",
      "======== Epoch 3 / 10 ========\n",
      "\n",
      "Training...\n"
     ]
    },
    {
     "name": "stderr",
     "output_type": "stream",
     "text": [
      "100%|██████████| 8/8 [00:01<00:00,  4.09it/s]\n",
      "  5%|▍         | 3/65 [00:00<00:02, 29.05it/s]"
     ]
    },
    {
     "name": "stdout",
     "output_type": "stream",
     "text": [
      "avg_train_loss 0.6678585559129715\n",
      "train_f1Score 0.35555555555555557\n",
      "train_accuracy 0.546875\n",
      "\n",
      "Running Validation...\n"
     ]
    },
    {
     "name": "stderr",
     "output_type": "stream",
     "text": [
      "100%|██████████| 65/65 [00:02<00:00, 28.67it/s]\n",
      "/home/mithun-binny/anaconda3/lib/python3.8/site-packages/sklearn/metrics/_classification.py:1245: UndefinedMetricWarning: Precision is ill-defined and being set to 0.0 due to no predicted samples. Use `zero_division` parameter to control this behavior.\n",
      "  _warn_prf(average, modifier, msg_start, len(result))\n",
      " 12%|█▎        | 1/8 [00:00<00:01,  6.93it/s]"
     ]
    },
    {
     "name": "stdout",
     "output_type": "stream",
     "text": [
      "Validation Loss:  0.7033390989670387\n",
      "Validation Accuracy:  0.5057692307692307\n",
      "\n",
      "======== Epoch 4 / 10 ========\n",
      "\n",
      "Training...\n"
     ]
    },
    {
     "name": "stderr",
     "output_type": "stream",
     "text": [
      "100%|██████████| 8/8 [00:01<00:00,  6.71it/s]\n",
      "  5%|▍         | 3/65 [00:00<00:02, 28.48it/s]"
     ]
    },
    {
     "name": "stdout",
     "output_type": "stream",
     "text": [
      "avg_train_loss 0.658543661236763\n",
      "train_f1Score 0.21621621621621623\n",
      "train_accuracy 0.546875\n",
      "\n",
      "Running Validation...\n"
     ]
    },
    {
     "name": "stderr",
     "output_type": "stream",
     "text": [
      "100%|██████████| 65/65 [00:02<00:00, 28.56it/s]\n",
      "  2%|▏         | 3/130 [00:00<00:04, 28.73it/s]"
     ]
    },
    {
     "name": "stdout",
     "output_type": "stream",
     "text": [
      "Validation Loss:  0.6824158952786372\n",
      "Validation Accuracy:  0.5576923076923077\n",
      "Testing Model....\n"
     ]
    },
    {
     "name": "stderr",
     "output_type": "stream",
     "text": [
      "100%|██████████| 130/130 [00:04<00:00, 28.57it/s]\n",
      " 12%|█▎        | 1/8 [00:00<00:01,  5.76it/s]"
     ]
    },
    {
     "name": "stdout",
     "output_type": "stream",
     "text": [
      "\n",
      "======== Epoch 5 / 10 ========\n",
      "\n",
      "Training...\n"
     ]
    },
    {
     "name": "stderr",
     "output_type": "stream",
     "text": [
      "100%|██████████| 8/8 [00:01<00:00,  6.59it/s]\n",
      "  5%|▍         | 3/65 [00:00<00:02, 28.65it/s]"
     ]
    },
    {
     "name": "stdout",
     "output_type": "stream",
     "text": [
      "avg_train_loss 0.5919451378285885\n",
      "train_f1Score 0.5106382978723405\n",
      "train_accuracy 0.640625\n",
      "\n",
      "Running Validation...\n"
     ]
    },
    {
     "name": "stderr",
     "output_type": "stream",
     "text": [
      "100%|██████████| 65/65 [00:02<00:00, 28.53it/s]\n",
      "  2%|▏         | 3/130 [00:00<00:04, 28.76it/s]"
     ]
    },
    {
     "name": "stdout",
     "output_type": "stream",
     "text": [
      "Validation Loss:  0.6485361071733328\n",
      "Validation Accuracy:  0.6230769230769231\n",
      "Best mF1Score....\n"
     ]
    },
    {
     "name": "stderr",
     "output_type": "stream",
     "text": [
      "100%|██████████| 130/130 [00:04<00:00, 28.59it/s]\n",
      " 12%|█▎        | 1/8 [00:00<00:01,  6.88it/s]"
     ]
    },
    {
     "name": "stdout",
     "output_type": "stream",
     "text": [
      "\n",
      "======== Epoch 6 / 10 ========\n",
      "\n",
      "Training...\n"
     ]
    },
    {
     "name": "stderr",
     "output_type": "stream",
     "text": [
      "100%|██████████| 8/8 [00:01<00:00,  6.78it/s]\n",
      "  5%|▍         | 3/65 [00:00<00:02, 28.61it/s]"
     ]
    },
    {
     "name": "stdout",
     "output_type": "stream",
     "text": [
      "avg_train_loss 0.5290947258472443\n",
      "train_f1Score 0.7636363636363634\n",
      "train_accuracy 0.796875\n",
      "\n",
      "Running Validation...\n"
     ]
    },
    {
     "name": "stderr",
     "output_type": "stream",
     "text": [
      "100%|██████████| 65/65 [00:02<00:00, 28.42it/s]\n",
      "  2%|▏         | 3/130 [00:00<00:04, 28.58it/s]"
     ]
    },
    {
     "name": "stdout",
     "output_type": "stream",
     "text": [
      "Validation Loss:  0.6671860809509571\n",
      "Validation Accuracy:  0.6269230769230769\n",
      "Testing Model....\n"
     ]
    },
    {
     "name": "stderr",
     "output_type": "stream",
     "text": [
      "100%|██████████| 130/130 [00:04<00:00, 28.45it/s]\n",
      " 12%|█▎        | 1/8 [00:00<00:00,  7.01it/s]"
     ]
    },
    {
     "name": "stdout",
     "output_type": "stream",
     "text": [
      "\n",
      "======== Epoch 7 / 10 ========\n",
      "\n",
      "Training...\n"
     ]
    },
    {
     "name": "stderr",
     "output_type": "stream",
     "text": [
      "100%|██████████| 8/8 [00:01<00:00,  6.72it/s]\n",
      "  5%|▍         | 3/65 [00:00<00:02, 28.45it/s]"
     ]
    },
    {
     "name": "stdout",
     "output_type": "stream",
     "text": [
      "avg_train_loss 0.48519711196422577\n",
      "train_f1Score 0.8275862068965517\n",
      "train_accuracy 0.84375\n",
      "\n",
      "Running Validation...\n"
     ]
    },
    {
     "name": "stderr",
     "output_type": "stream",
     "text": [
      "100%|██████████| 65/65 [00:02<00:00, 28.39it/s]\n",
      "  2%|▏         | 3/130 [00:00<00:04, 28.57it/s]"
     ]
    },
    {
     "name": "stdout",
     "output_type": "stream",
     "text": [
      "Validation Loss:  0.6559466916781206\n",
      "Validation Accuracy:  0.6423076923076924\n",
      "Best mF1Score....\n"
     ]
    },
    {
     "name": "stderr",
     "output_type": "stream",
     "text": [
      "100%|██████████| 130/130 [00:04<00:00, 28.52it/s]\n",
      " 12%|█▎        | 1/8 [00:00<00:01,  6.93it/s]"
     ]
    },
    {
     "name": "stdout",
     "output_type": "stream",
     "text": [
      "\n",
      "======== Epoch 8 / 10 ========\n",
      "\n",
      "Training...\n"
     ]
    },
    {
     "name": "stderr",
     "output_type": "stream",
     "text": [
      "100%|██████████| 8/8 [00:01<00:00,  6.81it/s]\n",
      "  5%|▍         | 3/65 [00:00<00:02, 28.56it/s]"
     ]
    },
    {
     "name": "stdout",
     "output_type": "stream",
     "text": [
      "avg_train_loss 0.43057746812701225\n",
      "train_f1Score 0.8307692307692308\n",
      "train_accuracy 0.828125\n",
      "\n",
      "Running Validation...\n"
     ]
    },
    {
     "name": "stderr",
     "output_type": "stream",
     "text": [
      "100%|██████████| 65/65 [00:02<00:00, 28.63it/s]\n",
      "  2%|▏         | 3/130 [00:00<00:04, 28.58it/s]"
     ]
    },
    {
     "name": "stdout",
     "output_type": "stream",
     "text": [
      "Validation Loss:  0.6556988408932319\n",
      "Validation Accuracy:  0.6442307692307693\n",
      "Testing Model....\n"
     ]
    },
    {
     "name": "stderr",
     "output_type": "stream",
     "text": [
      "100%|██████████| 130/130 [00:04<00:00, 28.56it/s]\n",
      "  2%|▏         | 3/130 [00:00<00:04, 28.60it/s]"
     ]
    },
    {
     "name": "stdout",
     "output_type": "stream",
     "text": [
      "Best mF1Score....\n"
     ]
    },
    {
     "name": "stderr",
     "output_type": "stream",
     "text": [
      "100%|██████████| 130/130 [00:04<00:00, 28.60it/s]\n",
      "  0%|          | 0/8 [00:00<?, ?it/s]"
     ]
    },
    {
     "name": "stdout",
     "output_type": "stream",
     "text": [
      "\n",
      "======== Epoch 9 / 10 ========\n",
      "\n",
      "Training...\n"
     ]
    },
    {
     "name": "stderr",
     "output_type": "stream",
     "text": [
      "100%|██████████| 8/8 [00:03<00:00,  2.47it/s]\n",
      "  5%|▍         | 3/65 [00:00<00:02, 28.64it/s]"
     ]
    },
    {
     "name": "stdout",
     "output_type": "stream",
     "text": [
      "avg_train_loss 0.4381847009062767\n",
      "train_f1Score 0.8387096774193549\n",
      "train_accuracy 0.84375\n",
      "\n",
      "Running Validation...\n"
     ]
    },
    {
     "name": "stderr",
     "output_type": "stream",
     "text": [
      "100%|██████████| 65/65 [00:02<00:00, 28.53it/s]\n",
      "  2%|▏         | 3/130 [00:00<00:04, 28.54it/s]"
     ]
    },
    {
     "name": "stdout",
     "output_type": "stream",
     "text": [
      "Validation Loss:  0.6590658274980692\n",
      "Validation Accuracy:  0.6442307692307693\n",
      "Best mF1Score....\n"
     ]
    },
    {
     "name": "stderr",
     "output_type": "stream",
     "text": [
      "100%|██████████| 130/130 [00:04<00:00, 28.59it/s]\n",
      "  0%|          | 0/8 [00:00<?, ?it/s]"
     ]
    },
    {
     "name": "stdout",
     "output_type": "stream",
     "text": [
      "\n",
      "======== Epoch 10 / 10 ========\n",
      "\n",
      "Training...\n"
     ]
    },
    {
     "name": "stderr",
     "output_type": "stream",
     "text": [
      "100%|██████████| 8/8 [00:01<00:00,  6.19it/s]\n",
      "  5%|▍         | 3/65 [00:00<00:02, 28.61it/s]"
     ]
    },
    {
     "name": "stdout",
     "output_type": "stream",
     "text": [
      "avg_train_loss 0.432040024548769\n",
      "train_f1Score 0.8923076923076922\n",
      "train_accuracy 0.890625\n",
      "\n",
      "Running Validation...\n"
     ]
    },
    {
     "name": "stderr",
     "output_type": "stream",
     "text": [
      "100%|██████████| 65/65 [00:02<00:00, 28.68it/s]\n",
      "  2%|▏         | 3/130 [00:00<00:04, 28.59it/s]"
     ]
    },
    {
     "name": "stdout",
     "output_type": "stream",
     "text": [
      "Validation Loss:  0.6647526030357067\n",
      "Validation Accuracy:  0.6461538461538462\n",
      "Testing Model....\n"
     ]
    },
    {
     "name": "stderr",
     "output_type": "stream",
     "text": [
      "100%|██████████| 130/130 [00:04<00:00, 28.69it/s]\n",
      "  2%|▏         | 3/130 [00:00<00:04, 28.93it/s]"
     ]
    },
    {
     "name": "stdout",
     "output_type": "stream",
     "text": [
      "Best mF1Score....\n"
     ]
    },
    {
     "name": "stderr",
     "output_type": "stream",
     "text": [
      "100%|██████████| 130/130 [00:04<00:00, 28.70it/s]\n"
     ]
    },
    {
     "name": "stdout",
     "output_type": "stream",
     "text": [
      "Saving Test Metrics....\n",
      "Fold:  2\n",
      "Run:  1\n",
      "\tInitialising Model....\n",
      "\tLoading Dataset....\n"
     ]
    },
    {
     "name": "stderr",
     "output_type": "stream",
     "text": [
      "100%|██████████| 64/64 [00:00<00:00, 2311.85it/s]\n",
      "100%|██████████| 523/523 [00:00<00:00, 7154.34it/s]\n",
      "100%|██████████| 1047/1047 [00:00<00:00, 8216.43it/s]\n",
      "100%|██████████| 64/64 [00:00<00:00, 343.74it/s]\n",
      "  0%|          | 0/523 [00:00<?, ?it/s]"
     ]
    },
    {
     "name": "stdout",
     "output_type": "stream",
     "text": [
      "\tTraining Starts....\n"
     ]
    },
    {
     "name": "stderr",
     "output_type": "stream",
     "text": [
      "100%|██████████| 523/523 [00:00<00:00, 5445.34it/s]\n",
      "100%|██████████| 1047/1047 [00:00<00:00, 5403.23it/s]\n",
      "  0%|          | 0/8 [00:00<?, ?it/s]"
     ]
    },
    {
     "name": "stdout",
     "output_type": "stream",
     "text": [
      "\n",
      "======== Epoch 1 / 10 ========\n",
      "\n",
      "Training...\n"
     ]
    },
    {
     "name": "stderr",
     "output_type": "stream",
     "text": [
      "100%|██████████| 8/8 [00:02<00:00,  2.79it/s]\n",
      "  5%|▍         | 3/65 [00:00<00:02, 28.02it/s]"
     ]
    },
    {
     "name": "stdout",
     "output_type": "stream",
     "text": [
      "avg_train_loss 0.9401879385113716\n",
      "train_f1Score 0.4776119402985075\n",
      "train_accuracy 0.453125\n",
      "\n",
      "Running Validation...\n"
     ]
    },
    {
     "name": "stderr",
     "output_type": "stream",
     "text": [
      "100%|██████████| 65/65 [00:02<00:00, 28.68it/s]\n",
      "  2%|▏         | 3/130 [00:00<00:04, 28.72it/s]"
     ]
    },
    {
     "name": "stdout",
     "output_type": "stream",
     "text": [
      "Validation Loss:  0.7094439066373385\n",
      "Validation Accuracy:  0.5461538461538461\n",
      "Best mF1Score....\n"
     ]
    },
    {
     "name": "stderr",
     "output_type": "stream",
     "text": [
      "100%|██████████| 130/130 [00:04<00:00, 28.71it/s]\n",
      " 12%|█▎        | 1/8 [00:00<00:00,  7.03it/s]"
     ]
    },
    {
     "name": "stdout",
     "output_type": "stream",
     "text": [
      "\n",
      "======== Epoch 2 / 10 ========\n",
      "\n",
      "Training...\n"
     ]
    },
    {
     "name": "stderr",
     "output_type": "stream",
     "text": [
      "100%|██████████| 8/8 [00:01<00:00,  6.78it/s]\n",
      "  5%|▍         | 3/65 [00:00<00:02, 28.67it/s]"
     ]
    },
    {
     "name": "stdout",
     "output_type": "stream",
     "text": [
      "avg_train_loss 0.673013485968113\n",
      "train_f1Score 0.6578947368421052\n",
      "train_accuracy 0.59375\n",
      "\n",
      "Running Validation...\n"
     ]
    },
    {
     "name": "stderr",
     "output_type": "stream",
     "text": [
      "100%|██████████| 65/65 [00:02<00:00, 28.73it/s]\n",
      "  2%|▏         | 3/130 [00:00<00:04, 28.81it/s]"
     ]
    },
    {
     "name": "stdout",
     "output_type": "stream",
     "text": [
      "Validation Loss:  0.7008600400044368\n",
      "Validation Accuracy:  0.5230769230769231\n",
      "Testing Model....\n"
     ]
    },
    {
     "name": "stderr",
     "output_type": "stream",
     "text": [
      "100%|██████████| 130/130 [00:04<00:00, 28.72it/s]\n",
      " 12%|█▎        | 1/8 [00:00<00:01,  6.95it/s]"
     ]
    },
    {
     "name": "stdout",
     "output_type": "stream",
     "text": [
      "\n",
      "======== Epoch 3 / 10 ========\n",
      "\n",
      "Training...\n"
     ]
    },
    {
     "name": "stderr",
     "output_type": "stream",
     "text": [
      "100%|██████████| 8/8 [00:01<00:00,  6.78it/s]\n",
      "  5%|▍         | 3/65 [00:00<00:02, 28.56it/s]"
     ]
    },
    {
     "name": "stdout",
     "output_type": "stream",
     "text": [
      "avg_train_loss 0.6560974568128586\n",
      "train_f1Score 0.41860465116279066\n",
      "train_accuracy 0.609375\n",
      "\n",
      "Running Validation...\n"
     ]
    },
    {
     "name": "stderr",
     "output_type": "stream",
     "text": [
      "100%|██████████| 65/65 [00:02<00:00, 28.73it/s]\n",
      "  2%|▏         | 3/130 [00:00<00:04, 28.77it/s]"
     ]
    },
    {
     "name": "stdout",
     "output_type": "stream",
     "text": [
      "Validation Loss:  0.6820118042138906\n",
      "Validation Accuracy:  0.5557692307692308\n",
      "Best mF1Score....\n"
     ]
    },
    {
     "name": "stderr",
     "output_type": "stream",
     "text": [
      "100%|██████████| 130/130 [00:04<00:00, 28.66it/s]\n",
      " 12%|█▎        | 1/8 [00:00<00:01,  6.98it/s]"
     ]
    },
    {
     "name": "stdout",
     "output_type": "stream",
     "text": [
      "\n",
      "======== Epoch 4 / 10 ========\n",
      "\n",
      "Training...\n"
     ]
    },
    {
     "name": "stderr",
     "output_type": "stream",
     "text": [
      "100%|██████████| 8/8 [00:01<00:00,  6.79it/s]\n",
      "  5%|▍         | 3/65 [00:00<00:02, 28.67it/s]"
     ]
    },
    {
     "name": "stdout",
     "output_type": "stream",
     "text": [
      "avg_train_loss 0.5909233242273331\n",
      "train_f1Score 0.7017543859649122\n",
      "train_accuracy 0.734375\n",
      "\n",
      "Running Validation...\n"
     ]
    },
    {
     "name": "stderr",
     "output_type": "stream",
     "text": [
      "100%|██████████| 65/65 [00:02<00:00, 28.69it/s]\n",
      "  2%|▏         | 3/130 [00:00<00:04, 28.84it/s]"
     ]
    },
    {
     "name": "stdout",
     "output_type": "stream",
     "text": [
      "Validation Loss:  0.6663953276780935\n",
      "Validation Accuracy:  0.6115384615384616\n",
      "Testing Model....\n"
     ]
    },
    {
     "name": "stderr",
     "output_type": "stream",
     "text": [
      "100%|██████████| 130/130 [00:04<00:00, 28.70it/s]\n",
      "  2%|▏         | 3/130 [00:00<00:04, 28.95it/s]"
     ]
    },
    {
     "name": "stdout",
     "output_type": "stream",
     "text": [
      "Best mF1Score....\n"
     ]
    },
    {
     "name": "stderr",
     "output_type": "stream",
     "text": [
      "100%|██████████| 130/130 [00:04<00:00, 28.71it/s]\n",
      " 12%|█▎        | 1/8 [00:00<00:00,  7.00it/s]"
     ]
    },
    {
     "name": "stdout",
     "output_type": "stream",
     "text": [
      "\n",
      "======== Epoch 5 / 10 ========\n",
      "\n",
      "Training...\n"
     ]
    },
    {
     "name": "stderr",
     "output_type": "stream",
     "text": [
      "100%|██████████| 8/8 [00:01<00:00,  6.77it/s]\n",
      "  5%|▍         | 3/65 [00:00<00:02, 28.68it/s]"
     ]
    },
    {
     "name": "stdout",
     "output_type": "stream",
     "text": [
      "avg_train_loss 0.5134312957525253\n",
      "train_f1Score 0.8484848484848485\n",
      "train_accuracy 0.84375\n",
      "\n",
      "Running Validation...\n"
     ]
    },
    {
     "name": "stderr",
     "output_type": "stream",
     "text": [
      "100%|██████████| 65/65 [00:02<00:00, 28.71it/s]\n",
      "  2%|▏         | 3/130 [00:00<00:04, 28.77it/s]"
     ]
    },
    {
     "name": "stdout",
     "output_type": "stream",
     "text": [
      "Validation Loss:  0.6718529797517336\n",
      "Validation Accuracy:  0.6173076923076923\n",
      "Best mF1Score....\n"
     ]
    },
    {
     "name": "stderr",
     "output_type": "stream",
     "text": [
      "100%|██████████| 130/130 [00:04<00:00, 28.70it/s]\n",
      " 12%|█▎        | 1/8 [00:00<00:00,  7.02it/s]"
     ]
    },
    {
     "name": "stdout",
     "output_type": "stream",
     "text": [
      "\n",
      "======== Epoch 6 / 10 ========\n",
      "\n",
      "Training...\n"
     ]
    },
    {
     "name": "stderr",
     "output_type": "stream",
     "text": [
      "100%|██████████| 8/8 [00:01<00:00,  6.78it/s]\n",
      "  5%|▍         | 3/65 [00:00<00:02, 29.14it/s]"
     ]
    },
    {
     "name": "stdout",
     "output_type": "stream",
     "text": [
      "avg_train_loss 0.451290737837553\n",
      "train_f1Score 0.8666666666666666\n",
      "train_accuracy 0.875\n",
      "\n",
      "Running Validation...\n"
     ]
    },
    {
     "name": "stderr",
     "output_type": "stream",
     "text": [
      "100%|██████████| 65/65 [00:02<00:00, 28.74it/s]\n",
      "  2%|▏         | 3/130 [00:00<00:04, 28.76it/s]"
     ]
    },
    {
     "name": "stdout",
     "output_type": "stream",
     "text": [
      "Validation Loss:  0.6934023632453038\n",
      "Validation Accuracy:  0.6134615384615385\n",
      "Testing Model....\n"
     ]
    },
    {
     "name": "stderr",
     "output_type": "stream",
     "text": [
      "100%|██████████| 130/130 [00:04<00:00, 28.72it/s]\n",
      " 12%|█▎        | 1/8 [00:00<00:01,  6.97it/s]"
     ]
    },
    {
     "name": "stdout",
     "output_type": "stream",
     "text": [
      "\n",
      "======== Epoch 7 / 10 ========\n",
      "\n",
      "Training...\n"
     ]
    },
    {
     "name": "stderr",
     "output_type": "stream",
     "text": [
      "100%|██████████| 8/8 [00:01<00:00,  6.72it/s]\n",
      "  5%|▍         | 3/65 [00:00<00:02, 28.50it/s]"
     ]
    },
    {
     "name": "stdout",
     "output_type": "stream",
     "text": [
      "avg_train_loss 0.399217139929533\n",
      "train_f1Score 0.9032258064516129\n",
      "train_accuracy 0.90625\n",
      "\n",
      "Running Validation...\n"
     ]
    },
    {
     "name": "stderr",
     "output_type": "stream",
     "text": [
      "100%|██████████| 65/65 [00:02<00:00, 28.67it/s]\n",
      " 12%|█▎        | 1/8 [00:00<00:01,  6.98it/s]"
     ]
    },
    {
     "name": "stdout",
     "output_type": "stream",
     "text": [
      "Validation Loss:  0.7319510058714793\n",
      "Validation Accuracy:  0.6038461538461538\n",
      "\n",
      "======== Epoch 8 / 10 ========\n",
      "\n",
      "Training...\n"
     ]
    },
    {
     "name": "stderr",
     "output_type": "stream",
     "text": [
      "100%|██████████| 8/8 [00:01<00:00,  6.77it/s]\n",
      "  5%|▍         | 3/65 [00:00<00:02, 28.61it/s]"
     ]
    },
    {
     "name": "stdout",
     "output_type": "stream",
     "text": [
      "avg_train_loss 0.37725893035531044\n",
      "train_f1Score 0.8529411764705882\n",
      "train_accuracy 0.84375\n",
      "\n",
      "Running Validation...\n"
     ]
    },
    {
     "name": "stderr",
     "output_type": "stream",
     "text": [
      "100%|██████████| 65/65 [00:02<00:00, 28.65it/s]\n",
      "  2%|▏         | 3/130 [00:00<00:04, 28.79it/s]"
     ]
    },
    {
     "name": "stdout",
     "output_type": "stream",
     "text": [
      "Validation Loss:  0.7340854218372932\n",
      "Validation Accuracy:  0.6096153846153847\n",
      "Testing Model....\n"
     ]
    },
    {
     "name": "stderr",
     "output_type": "stream",
     "text": [
      "100%|██████████| 130/130 [00:04<00:00, 28.71it/s]\n",
      " 12%|█▎        | 1/8 [00:00<00:00,  7.01it/s]"
     ]
    },
    {
     "name": "stdout",
     "output_type": "stream",
     "text": [
      "\n",
      "======== Epoch 9 / 10 ========\n",
      "\n",
      "Training...\n"
     ]
    },
    {
     "name": "stderr",
     "output_type": "stream",
     "text": [
      "100%|██████████| 8/8 [00:01<00:00,  6.79it/s]\n",
      "  5%|▍         | 3/65 [00:00<00:02, 28.69it/s]"
     ]
    },
    {
     "name": "stdout",
     "output_type": "stream",
     "text": [
      "avg_train_loss 0.3109420072287321\n",
      "train_f1Score 0.9152542372881356\n",
      "train_accuracy 0.921875\n",
      "\n",
      "Running Validation...\n"
     ]
    },
    {
     "name": "stderr",
     "output_type": "stream",
     "text": [
      "100%|██████████| 65/65 [00:02<00:00, 28.73it/s]\n",
      "  2%|▏         | 3/130 [00:00<00:04, 28.78it/s]"
     ]
    },
    {
     "name": "stdout",
     "output_type": "stream",
     "text": [
      "Validation Loss:  0.7385729351868996\n",
      "Validation Accuracy:  0.6288461538461538\n",
      "Best mF1Score....\n"
     ]
    },
    {
     "name": "stderr",
     "output_type": "stream",
     "text": [
      "100%|██████████| 130/130 [00:04<00:00, 28.67it/s]\n",
      " 12%|█▎        | 1/8 [00:00<00:00,  7.03it/s]"
     ]
    },
    {
     "name": "stdout",
     "output_type": "stream",
     "text": [
      "\n",
      "======== Epoch 10 / 10 ========\n",
      "\n",
      "Training...\n"
     ]
    },
    {
     "name": "stderr",
     "output_type": "stream",
     "text": [
      "100%|██████████| 8/8 [00:01<00:00,  6.85it/s]\n",
      "  5%|▍         | 3/65 [00:00<00:02, 28.64it/s]"
     ]
    },
    {
     "name": "stdout",
     "output_type": "stream",
     "text": [
      "avg_train_loss 0.33725027553737164\n",
      "train_f1Score 0.8888888888888888\n",
      "train_accuracy 0.890625\n",
      "\n",
      "Running Validation...\n"
     ]
    },
    {
     "name": "stderr",
     "output_type": "stream",
     "text": [
      "100%|██████████| 65/65 [00:02<00:00, 28.72it/s]\n",
      "  2%|▏         | 3/130 [00:00<00:04, 28.73it/s]"
     ]
    },
    {
     "name": "stdout",
     "output_type": "stream",
     "text": [
      "Validation Loss:  0.7536130799696996\n",
      "Validation Accuracy:  0.6211538461538462\n",
      "Testing Model....\n"
     ]
    },
    {
     "name": "stderr",
     "output_type": "stream",
     "text": [
      "100%|██████████| 130/130 [00:04<00:00, 28.68it/s]\n"
     ]
    },
    {
     "name": "stdout",
     "output_type": "stream",
     "text": [
      "Saving Test Metrics....\n",
      "Run:  2\n",
      "\tInitialising Model....\n",
      "\tLoading Dataset....\n"
     ]
    },
    {
     "name": "stderr",
     "output_type": "stream",
     "text": [
      "100%|██████████| 64/64 [00:00<00:00, 3863.21it/s]\n",
      "100%|██████████| 523/523 [00:00<00:00, 8308.86it/s]\n",
      "100%|██████████| 1047/1047 [00:00<00:00, 8432.08it/s]\n",
      "100%|██████████| 64/64 [00:00<00:00, 1828.31it/s]\n",
      "100%|██████████| 523/523 [00:00<00:00, 5475.70it/s]\n",
      "  0%|          | 0/1047 [00:00<?, ?it/s]"
     ]
    },
    {
     "name": "stdout",
     "output_type": "stream",
     "text": [
      "\tTraining Starts....\n"
     ]
    },
    {
     "name": "stderr",
     "output_type": "stream",
     "text": [
      "100%|██████████| 1047/1047 [00:00<00:00, 4818.20it/s]\n",
      "  0%|          | 0/8 [00:00<?, ?it/s]"
     ]
    },
    {
     "name": "stdout",
     "output_type": "stream",
     "text": [
      "\n",
      "======== Epoch 1 / 10 ========\n",
      "\n",
      "Training...\n"
     ]
    },
    {
     "name": "stderr",
     "output_type": "stream",
     "text": [
      "100%|██████████| 8/8 [00:02<00:00,  2.73it/s]\n",
      "  5%|▍         | 3/65 [00:00<00:02, 28.47it/s]"
     ]
    },
    {
     "name": "stdout",
     "output_type": "stream",
     "text": [
      "avg_train_loss 0.9802458807826042\n",
      "train_f1Score 0.4931506849315069\n",
      "train_accuracy 0.421875\n",
      "\n",
      "Running Validation...\n"
     ]
    },
    {
     "name": "stderr",
     "output_type": "stream",
     "text": [
      "100%|██████████| 65/65 [00:02<00:00, 28.72it/s]\n",
      "  2%|▏         | 3/130 [00:00<00:04, 28.75it/s]"
     ]
    },
    {
     "name": "stdout",
     "output_type": "stream",
     "text": [
      "Validation Loss:  0.761036846270928\n",
      "Validation Accuracy:  0.5057692307692307\n",
      "Best mF1Score....\n"
     ]
    },
    {
     "name": "stderr",
     "output_type": "stream",
     "text": [
      "100%|██████████| 130/130 [00:04<00:00, 28.74it/s]\n",
      " 12%|█▎        | 1/8 [00:00<00:00,  7.02it/s]"
     ]
    },
    {
     "name": "stdout",
     "output_type": "stream",
     "text": [
      "\n",
      "======== Epoch 2 / 10 ========\n",
      "\n",
      "Training...\n"
     ]
    },
    {
     "name": "stderr",
     "output_type": "stream",
     "text": [
      "100%|██████████| 8/8 [00:01<00:00,  6.78it/s]\n",
      "  5%|▍         | 3/65 [00:00<00:02, 28.60it/s]"
     ]
    },
    {
     "name": "stdout",
     "output_type": "stream",
     "text": [
      "avg_train_loss 0.6932912245392799\n",
      "train_f1Score 0.6956521739130436\n",
      "train_accuracy 0.5625\n",
      "\n",
      "Running Validation...\n"
     ]
    },
    {
     "name": "stderr",
     "output_type": "stream",
     "text": [
      "100%|██████████| 65/65 [00:02<00:00, 28.74it/s]\n",
      "  2%|▏         | 3/130 [00:00<00:04, 28.76it/s]"
     ]
    },
    {
     "name": "stdout",
     "output_type": "stream",
     "text": [
      "Validation Loss:  0.6730285745400649\n",
      "Validation Accuracy:  0.6\n",
      "Testing Model....\n"
     ]
    },
    {
     "name": "stderr",
     "output_type": "stream",
     "text": [
      "100%|██████████| 130/130 [00:04<00:00, 28.73it/s]\n",
      "  2%|▏         | 3/130 [00:00<00:04, 28.93it/s]"
     ]
    },
    {
     "name": "stdout",
     "output_type": "stream",
     "text": [
      "Best mF1Score....\n"
     ]
    },
    {
     "name": "stderr",
     "output_type": "stream",
     "text": [
      "100%|██████████| 130/130 [00:04<00:00, 28.73it/s]\n",
      " 12%|█▎        | 1/8 [00:00<00:01,  6.97it/s]"
     ]
    },
    {
     "name": "stdout",
     "output_type": "stream",
     "text": [
      "\n",
      "======== Epoch 3 / 10 ========\n",
      "\n",
      "Training...\n"
     ]
    },
    {
     "name": "stderr",
     "output_type": "stream",
     "text": [
      "100%|██████████| 8/8 [00:01<00:00,  6.78it/s]\n",
      "  5%|▍         | 3/65 [00:00<00:02, 28.67it/s]"
     ]
    },
    {
     "name": "stdout",
     "output_type": "stream",
     "text": [
      "avg_train_loss 0.6444624066352844\n",
      "train_f1Score 0.5416666666666666\n",
      "train_accuracy 0.65625\n",
      "\n",
      "Running Validation...\n"
     ]
    },
    {
     "name": "stderr",
     "output_type": "stream",
     "text": [
      "100%|██████████| 65/65 [00:02<00:00, 28.71it/s]\n",
      " 12%|█▎        | 1/8 [00:00<00:01,  6.92it/s]"
     ]
    },
    {
     "name": "stdout",
     "output_type": "stream",
     "text": [
      "Validation Loss:  0.7209086193488194\n",
      "Validation Accuracy:  0.5038461538461538\n",
      "\n",
      "======== Epoch 4 / 10 ========\n",
      "\n",
      "Training...\n"
     ]
    },
    {
     "name": "stderr",
     "output_type": "stream",
     "text": [
      "100%|██████████| 8/8 [00:01<00:00,  6.83it/s]\n",
      "  5%|▍         | 3/65 [00:00<00:02, 28.65it/s]"
     ]
    },
    {
     "name": "stdout",
     "output_type": "stream",
     "text": [
      "avg_train_loss 0.6515568234026432\n",
      "train_f1Score 0.3\n",
      "train_accuracy 0.5625\n",
      "\n",
      "Running Validation...\n"
     ]
    },
    {
     "name": "stderr",
     "output_type": "stream",
     "text": [
      "100%|██████████| 65/65 [00:02<00:00, 28.73it/s]\n",
      "  2%|▏         | 3/130 [00:00<00:04, 28.84it/s]"
     ]
    },
    {
     "name": "stdout",
     "output_type": "stream",
     "text": [
      "Validation Loss:  0.6535611950434171\n",
      "Validation Accuracy:  0.6076923076923076\n",
      "Testing Model....\n"
     ]
    },
    {
     "name": "stderr",
     "output_type": "stream",
     "text": [
      "100%|██████████| 130/130 [00:04<00:00, 28.71it/s]\n",
      "  2%|▏         | 3/130 [00:00<00:04, 28.99it/s]"
     ]
    },
    {
     "name": "stdout",
     "output_type": "stream",
     "text": [
      "Best mF1Score....\n"
     ]
    },
    {
     "name": "stderr",
     "output_type": "stream",
     "text": [
      "100%|██████████| 130/130 [00:04<00:00, 28.70it/s]\n",
      " 12%|█▎        | 1/8 [00:00<00:01,  6.81it/s]"
     ]
    },
    {
     "name": "stdout",
     "output_type": "stream",
     "text": [
      "\n",
      "======== Epoch 5 / 10 ========\n",
      "\n",
      "Training...\n"
     ]
    },
    {
     "name": "stderr",
     "output_type": "stream",
     "text": [
      "100%|██████████| 8/8 [00:01<00:00,  6.85it/s]\n",
      "  5%|▍         | 3/65 [00:00<00:02, 28.54it/s]"
     ]
    },
    {
     "name": "stdout",
     "output_type": "stream",
     "text": [
      "avg_train_loss 0.5991735607385635\n",
      "train_f1Score 0.6666666666666666\n",
      "train_accuracy 0.6875\n",
      "\n",
      "Running Validation...\n"
     ]
    },
    {
     "name": "stderr",
     "output_type": "stream",
     "text": [
      "100%|██████████| 65/65 [00:02<00:00, 28.69it/s]\n",
      "  2%|▏         | 3/130 [00:00<00:04, 28.78it/s]"
     ]
    },
    {
     "name": "stdout",
     "output_type": "stream",
     "text": [
      "Validation Loss:  0.6286750843891731\n",
      "Validation Accuracy:  0.6519230769230769\n",
      "Best mF1Score....\n"
     ]
    },
    {
     "name": "stderr",
     "output_type": "stream",
     "text": [
      "100%|██████████| 130/130 [00:04<00:00, 28.71it/s]\n",
      " 12%|█▎        | 1/8 [00:00<00:01,  6.93it/s]"
     ]
    },
    {
     "name": "stdout",
     "output_type": "stream",
     "text": [
      "\n",
      "======== Epoch 6 / 10 ========\n",
      "\n",
      "Training...\n"
     ]
    },
    {
     "name": "stderr",
     "output_type": "stream",
     "text": [
      "100%|██████████| 8/8 [00:01<00:00,  6.77it/s]\n",
      "  5%|▍         | 3/65 [00:00<00:02, 28.75it/s]"
     ]
    },
    {
     "name": "stdout",
     "output_type": "stream",
     "text": [
      "avg_train_loss 0.5471556037664413\n",
      "train_f1Score 0.8333333333333334\n",
      "train_accuracy 0.8125\n",
      "\n",
      "Running Validation...\n"
     ]
    },
    {
     "name": "stderr",
     "output_type": "stream",
     "text": [
      "100%|██████████| 65/65 [00:02<00:00, 28.73it/s]\n",
      "  2%|▏         | 3/130 [00:00<00:04, 28.81it/s]"
     ]
    },
    {
     "name": "stdout",
     "output_type": "stream",
     "text": [
      "Validation Loss:  0.621595445046058\n",
      "Validation Accuracy:  0.6730769230769231\n",
      "Testing Model....\n"
     ]
    },
    {
     "name": "stderr",
     "output_type": "stream",
     "text": [
      "100%|██████████| 130/130 [00:04<00:00, 28.74it/s]\n",
      "  2%|▏         | 3/130 [00:00<00:04, 28.90it/s]"
     ]
    },
    {
     "name": "stdout",
     "output_type": "stream",
     "text": [
      "Best mF1Score....\n"
     ]
    },
    {
     "name": "stderr",
     "output_type": "stream",
     "text": [
      "100%|██████████| 130/130 [00:04<00:00, 28.72it/s]\n",
      " 12%|█▎        | 1/8 [00:00<00:01,  7.00it/s]"
     ]
    },
    {
     "name": "stdout",
     "output_type": "stream",
     "text": [
      "\n",
      "======== Epoch 7 / 10 ========\n",
      "\n",
      "Training...\n"
     ]
    },
    {
     "name": "stderr",
     "output_type": "stream",
     "text": [
      "100%|██████████| 8/8 [00:01<00:00,  6.75it/s]\n",
      "  5%|▍         | 3/65 [00:00<00:02, 28.60it/s]"
     ]
    },
    {
     "name": "stdout",
     "output_type": "stream",
     "text": [
      "avg_train_loss 0.5387417860329151\n",
      "train_f1Score 0.7169811320754718\n",
      "train_accuracy 0.765625\n",
      "\n",
      "Running Validation...\n"
     ]
    },
    {
     "name": "stderr",
     "output_type": "stream",
     "text": [
      "100%|██████████| 65/65 [00:02<00:00, 28.70it/s]\n",
      " 12%|█▎        | 1/8 [00:00<00:01,  6.91it/s]"
     ]
    },
    {
     "name": "stdout",
     "output_type": "stream",
     "text": [
      "Validation Loss:  0.6668631264796624\n",
      "Validation Accuracy:  0.6346153846153846\n",
      "\n",
      "======== Epoch 8 / 10 ========\n",
      "\n",
      "Training...\n"
     ]
    },
    {
     "name": "stderr",
     "output_type": "stream",
     "text": [
      "100%|██████████| 8/8 [00:01<00:00,  6.77it/s]\n",
      "  5%|▍         | 3/65 [00:00<00:02, 28.77it/s]"
     ]
    },
    {
     "name": "stdout",
     "output_type": "stream",
     "text": [
      "avg_train_loss 0.46799955517053604\n",
      "train_f1Score 0.7931034482758621\n",
      "train_accuracy 0.8125\n",
      "\n",
      "Running Validation...\n"
     ]
    },
    {
     "name": "stderr",
     "output_type": "stream",
     "text": [
      "100%|██████████| 65/65 [00:02<00:00, 28.71it/s]\n",
      "  2%|▏         | 3/130 [00:00<00:04, 28.76it/s]"
     ]
    },
    {
     "name": "stdout",
     "output_type": "stream",
     "text": [
      "Validation Loss:  0.6165830570917863\n",
      "Validation Accuracy:  0.6807692307692308\n",
      "Testing Model....\n"
     ]
    },
    {
     "name": "stderr",
     "output_type": "stream",
     "text": [
      "100%|██████████| 130/130 [00:04<00:00, 28.71it/s]\n",
      "  2%|▏         | 3/130 [00:00<00:04, 28.75it/s]"
     ]
    },
    {
     "name": "stdout",
     "output_type": "stream",
     "text": [
      "Best mF1Score....\n"
     ]
    },
    {
     "name": "stderr",
     "output_type": "stream",
     "text": [
      "100%|██████████| 130/130 [00:04<00:00, 28.71it/s]\n",
      " 12%|█▎        | 1/8 [00:00<00:01,  5.24it/s]"
     ]
    },
    {
     "name": "stdout",
     "output_type": "stream",
     "text": [
      "\n",
      "======== Epoch 9 / 10 ========\n",
      "\n",
      "Training...\n"
     ]
    },
    {
     "name": "stderr",
     "output_type": "stream",
     "text": [
      "100%|██████████| 8/8 [00:01<00:00,  6.55it/s]\n",
      "  5%|▍         | 3/65 [00:00<00:02, 28.68it/s]"
     ]
    },
    {
     "name": "stdout",
     "output_type": "stream",
     "text": [
      "avg_train_loss 0.48637736216187477\n",
      "train_f1Score 0.787878787878788\n",
      "train_accuracy 0.78125\n",
      "\n",
      "Running Validation...\n"
     ]
    },
    {
     "name": "stderr",
     "output_type": "stream",
     "text": [
      "100%|██████████| 65/65 [00:02<00:00, 28.73it/s]\n",
      " 12%|█▎        | 1/8 [00:00<00:01,  6.87it/s]"
     ]
    },
    {
     "name": "stdout",
     "output_type": "stream",
     "text": [
      "Validation Loss:  0.6081977614989648\n",
      "Validation Accuracy:  0.6807692307692308\n",
      "\n",
      "======== Epoch 10 / 10 ========\n",
      "\n",
      "Training...\n"
     ]
    },
    {
     "name": "stderr",
     "output_type": "stream",
     "text": [
      "100%|██████████| 8/8 [00:01<00:00,  6.57it/s]\n",
      "  5%|▍         | 3/65 [00:00<00:02, 28.71it/s]"
     ]
    },
    {
     "name": "stdout",
     "output_type": "stream",
     "text": [
      "avg_train_loss 0.44836457073688507\n",
      "train_f1Score 0.8307692307692308\n",
      "train_accuracy 0.828125\n",
      "\n",
      "Running Validation...\n"
     ]
    },
    {
     "name": "stderr",
     "output_type": "stream",
     "text": [
      "100%|██████████| 65/65 [00:02<00:00, 28.72it/s]\n",
      "  2%|▏         | 3/130 [00:00<00:04, 28.87it/s]"
     ]
    },
    {
     "name": "stdout",
     "output_type": "stream",
     "text": [
      "Validation Loss:  0.6076208050434406\n",
      "Validation Accuracy:  0.6826923076923077\n",
      "Testing Model....\n"
     ]
    },
    {
     "name": "stderr",
     "output_type": "stream",
     "text": [
      "100%|██████████| 130/130 [00:04<00:00, 28.72it/s]\n"
     ]
    },
    {
     "name": "stdout",
     "output_type": "stream",
     "text": [
      "Saving Test Metrics....\n",
      "Run:  3\n",
      "\tInitialising Model....\n",
      "\tLoading Dataset....\n"
     ]
    },
    {
     "name": "stderr",
     "output_type": "stream",
     "text": [
      "100%|██████████| 64/64 [00:00<00:00, 3777.96it/s]\n",
      "100%|██████████| 523/523 [00:00<00:00, 6883.01it/s]\n",
      "100%|██████████| 1047/1047 [00:00<00:00, 8445.23it/s]\n",
      "100%|██████████| 64/64 [00:00<00:00, 355.68it/s]\n",
      "  0%|          | 0/523 [00:00<?, ?it/s]"
     ]
    },
    {
     "name": "stdout",
     "output_type": "stream",
     "text": [
      "\tTraining Starts....\n"
     ]
    },
    {
     "name": "stderr",
     "output_type": "stream",
     "text": [
      "100%|██████████| 523/523 [00:00<00:00, 5372.30it/s]\n",
      "100%|██████████| 1047/1047 [00:00<00:00, 4969.99it/s]\n",
      "  0%|          | 0/8 [00:00<?, ?it/s]"
     ]
    },
    {
     "name": "stdout",
     "output_type": "stream",
     "text": [
      "\n",
      "======== Epoch 1 / 10 ========\n",
      "\n",
      "Training...\n"
     ]
    },
    {
     "name": "stderr",
     "output_type": "stream",
     "text": [
      "100%|██████████| 8/8 [00:02<00:00,  3.55it/s]\n",
      "  5%|▍         | 3/65 [00:00<00:02, 28.27it/s]"
     ]
    },
    {
     "name": "stdout",
     "output_type": "stream",
     "text": [
      "avg_train_loss 0.950306810438633\n",
      "train_f1Score 0.4383561643835617\n",
      "train_accuracy 0.359375\n",
      "\n",
      "Running Validation...\n"
     ]
    },
    {
     "name": "stderr",
     "output_type": "stream",
     "text": [
      "100%|██████████| 65/65 [00:02<00:00, 28.67it/s]\n",
      "  2%|▏         | 3/130 [00:00<00:04, 28.76it/s]"
     ]
    },
    {
     "name": "stdout",
     "output_type": "stream",
     "text": [
      "Validation Loss:  0.7255405847842876\n",
      "Validation Accuracy:  0.5211538461538462\n",
      "Best mF1Score....\n"
     ]
    },
    {
     "name": "stderr",
     "output_type": "stream",
     "text": [
      "100%|██████████| 130/130 [00:04<00:00, 28.72it/s]\n",
      " 12%|█▎        | 1/8 [00:00<00:00,  7.00it/s]"
     ]
    },
    {
     "name": "stdout",
     "output_type": "stream",
     "text": [
      "\n",
      "======== Epoch 2 / 10 ========\n",
      "\n",
      "Training...\n"
     ]
    },
    {
     "name": "stderr",
     "output_type": "stream",
     "text": [
      "100%|██████████| 8/8 [00:01<00:00,  6.83it/s]\n",
      "  5%|▍         | 3/65 [00:00<00:02, 29.13it/s]"
     ]
    },
    {
     "name": "stdout",
     "output_type": "stream",
     "text": [
      "avg_train_loss 0.6895128488540649\n",
      "train_f1Score 0.6888888888888889\n",
      "train_accuracy 0.5625\n",
      "\n",
      "Running Validation...\n"
     ]
    },
    {
     "name": "stderr",
     "output_type": "stream",
     "text": [
      "100%|██████████| 65/65 [00:02<00:00, 28.75it/s]\n",
      "  2%|▏         | 3/130 [00:00<00:04, 28.80it/s]"
     ]
    },
    {
     "name": "stdout",
     "output_type": "stream",
     "text": [
      "Validation Loss:  0.6746169502918536\n",
      "Validation Accuracy:  0.5884615384615385\n",
      "Testing Model....\n"
     ]
    },
    {
     "name": "stderr",
     "output_type": "stream",
     "text": [
      "100%|██████████| 130/130 [00:04<00:00, 28.71it/s]\n",
      "  2%|▏         | 3/130 [00:00<00:04, 28.94it/s]"
     ]
    },
    {
     "name": "stdout",
     "output_type": "stream",
     "text": [
      "Best mF1Score....\n"
     ]
    },
    {
     "name": "stderr",
     "output_type": "stream",
     "text": [
      "100%|██████████| 130/130 [00:04<00:00, 28.72it/s]\n",
      " 12%|█▎        | 1/8 [00:00<00:01,  6.94it/s]"
     ]
    },
    {
     "name": "stdout",
     "output_type": "stream",
     "text": [
      "\n",
      "======== Epoch 3 / 10 ========\n",
      "\n",
      "Training...\n"
     ]
    },
    {
     "name": "stderr",
     "output_type": "stream",
     "text": [
      "100%|██████████| 8/8 [00:01<00:00,  6.83it/s]\n",
      "  5%|▍         | 3/65 [00:00<00:02, 28.66it/s]"
     ]
    },
    {
     "name": "stdout",
     "output_type": "stream",
     "text": [
      "avg_train_loss 0.6628155931830406\n",
      "train_f1Score 0.2727272727272727\n",
      "train_accuracy 0.5\n",
      "\n",
      "Running Validation...\n"
     ]
    },
    {
     "name": "stderr",
     "output_type": "stream",
     "text": [
      "100%|██████████| 65/65 [00:02<00:00, 28.73it/s]\n",
      " 12%|█▎        | 1/8 [00:00<00:01,  6.96it/s]"
     ]
    },
    {
     "name": "stdout",
     "output_type": "stream",
     "text": [
      "Validation Loss:  0.6850503563880921\n",
      "Validation Accuracy:  0.5038461538461538\n",
      "\n",
      "======== Epoch 4 / 10 ========\n",
      "\n",
      "Training...\n"
     ]
    },
    {
     "name": "stderr",
     "output_type": "stream",
     "text": [
      "100%|██████████| 8/8 [00:01<00:00,  6.77it/s]\n",
      "  5%|▍         | 3/65 [00:00<00:02, 28.71it/s]"
     ]
    },
    {
     "name": "stdout",
     "output_type": "stream",
     "text": [
      "avg_train_loss 0.6583843305706978\n",
      "train_f1Score 0.21621621621621623\n",
      "train_accuracy 0.546875\n",
      "\n",
      "Running Validation...\n"
     ]
    },
    {
     "name": "stderr",
     "output_type": "stream",
     "text": [
      "100%|██████████| 65/65 [00:02<00:00, 28.71it/s]\n",
      "  2%|▏         | 3/130 [00:00<00:04, 28.79it/s]"
     ]
    },
    {
     "name": "stdout",
     "output_type": "stream",
     "text": [
      "Validation Loss:  0.6637141466140747\n",
      "Validation Accuracy:  0.5653846153846154\n",
      "Testing Model....\n"
     ]
    },
    {
     "name": "stderr",
     "output_type": "stream",
     "text": [
      "100%|██████████| 130/130 [00:04<00:00, 28.73it/s]\n",
      " 12%|█▎        | 1/8 [00:00<00:01,  6.56it/s]"
     ]
    },
    {
     "name": "stdout",
     "output_type": "stream",
     "text": [
      "\n",
      "======== Epoch 5 / 10 ========\n",
      "\n",
      "Training...\n"
     ]
    },
    {
     "name": "stderr",
     "output_type": "stream",
     "text": [
      "100%|██████████| 8/8 [00:01<00:00,  6.73it/s]\n",
      "  5%|▍         | 3/65 [00:00<00:02, 28.82it/s]"
     ]
    },
    {
     "name": "stdout",
     "output_type": "stream",
     "text": [
      "avg_train_loss 0.6257332935929298\n",
      "train_f1Score 0.6551724137931033\n",
      "train_accuracy 0.6875\n",
      "\n",
      "Running Validation...\n"
     ]
    },
    {
     "name": "stderr",
     "output_type": "stream",
     "text": [
      "100%|██████████| 65/65 [00:02<00:00, 28.73it/s]\n",
      "  2%|▏         | 3/130 [00:00<00:04, 28.75it/s]"
     ]
    },
    {
     "name": "stdout",
     "output_type": "stream",
     "text": [
      "Validation Loss:  0.642044570354315\n",
      "Validation Accuracy:  0.6346153846153846\n",
      "Best mF1Score....\n"
     ]
    },
    {
     "name": "stderr",
     "output_type": "stream",
     "text": [
      "100%|██████████| 130/130 [00:04<00:00, 28.73it/s]\n",
      " 12%|█▎        | 1/8 [00:00<00:01,  6.89it/s]"
     ]
    },
    {
     "name": "stdout",
     "output_type": "stream",
     "text": [
      "\n",
      "======== Epoch 6 / 10 ========\n",
      "\n",
      "Training...\n"
     ]
    },
    {
     "name": "stderr",
     "output_type": "stream",
     "text": [
      "100%|██████████| 8/8 [00:01<00:00,  6.76it/s]\n",
      "  5%|▍         | 3/65 [00:00<00:02, 28.66it/s]"
     ]
    },
    {
     "name": "stdout",
     "output_type": "stream",
     "text": [
      "avg_train_loss 0.5392623841762543\n",
      "train_f1Score 0.8484848484848485\n",
      "train_accuracy 0.84375\n",
      "\n",
      "Running Validation...\n"
     ]
    },
    {
     "name": "stderr",
     "output_type": "stream",
     "text": [
      "100%|██████████| 65/65 [00:02<00:00, 28.73it/s]\n",
      "  2%|▏         | 3/130 [00:00<00:04, 28.76it/s]"
     ]
    },
    {
     "name": "stdout",
     "output_type": "stream",
     "text": [
      "Validation Loss:  0.6288475398833935\n",
      "Validation Accuracy:  0.6403846153846153\n",
      "Testing Model....\n"
     ]
    },
    {
     "name": "stderr",
     "output_type": "stream",
     "text": [
      "100%|██████████| 130/130 [00:04<00:00, 28.69it/s]\n",
      "  2%|▏         | 3/130 [00:00<00:04, 28.94it/s]"
     ]
    },
    {
     "name": "stdout",
     "output_type": "stream",
     "text": [
      "Best mF1Score....\n"
     ]
    },
    {
     "name": "stderr",
     "output_type": "stream",
     "text": [
      "100%|██████████| 130/130 [00:04<00:00, 28.72it/s]\n",
      "  0%|          | 0/8 [00:00<?, ?it/s]"
     ]
    },
    {
     "name": "stdout",
     "output_type": "stream",
     "text": [
      "\n",
      "======== Epoch 7 / 10 ========\n",
      "\n",
      "Training...\n"
     ]
    },
    {
     "name": "stderr",
     "output_type": "stream",
     "text": [
      "100%|██████████| 8/8 [00:01<00:00,  5.72it/s]\n",
      "  5%|▍         | 3/65 [00:00<00:02, 28.68it/s]"
     ]
    },
    {
     "name": "stdout",
     "output_type": "stream",
     "text": [
      "avg_train_loss 0.4851868115365505\n",
      "train_f1Score 0.8387096774193549\n",
      "train_accuracy 0.84375\n",
      "\n",
      "Running Validation...\n"
     ]
    },
    {
     "name": "stderr",
     "output_type": "stream",
     "text": [
      "100%|██████████| 65/65 [00:02<00:00, 28.70it/s]\n",
      "  2%|▏         | 3/130 [00:00<00:04, 28.77it/s]"
     ]
    },
    {
     "name": "stdout",
     "output_type": "stream",
     "text": [
      "Validation Loss:  0.6279735611035273\n",
      "Validation Accuracy:  0.6461538461538462\n",
      "Best mF1Score....\n"
     ]
    },
    {
     "name": "stderr",
     "output_type": "stream",
     "text": [
      "100%|██████████| 130/130 [00:04<00:00, 28.71it/s]\n",
      " 12%|█▎        | 1/8 [00:00<00:01,  6.94it/s]"
     ]
    },
    {
     "name": "stdout",
     "output_type": "stream",
     "text": [
      "\n",
      "======== Epoch 8 / 10 ========\n",
      "\n",
      "Training...\n"
     ]
    },
    {
     "name": "stderr",
     "output_type": "stream",
     "text": [
      "100%|██████████| 8/8 [00:01<00:00,  6.77it/s]\n",
      "  5%|▍         | 3/65 [00:00<00:02, 28.56it/s]"
     ]
    },
    {
     "name": "stdout",
     "output_type": "stream",
     "text": [
      "avg_train_loss 0.42593859508633614\n",
      "train_f1Score 0.8524590163934426\n",
      "train_accuracy 0.859375\n",
      "\n",
      "Running Validation...\n"
     ]
    },
    {
     "name": "stderr",
     "output_type": "stream",
     "text": [
      "100%|██████████| 65/65 [00:02<00:00, 28.72it/s]\n",
      "  2%|▏         | 3/130 [00:00<00:04, 28.78it/s]"
     ]
    },
    {
     "name": "stdout",
     "output_type": "stream",
     "text": [
      "Validation Loss:  0.6328831645158621\n",
      "Validation Accuracy:  0.6519230769230769\n",
      "Testing Model....\n"
     ]
    },
    {
     "name": "stderr",
     "output_type": "stream",
     "text": [
      "100%|██████████| 130/130 [00:04<00:00, 28.72it/s]\n",
      "  2%|▏         | 3/130 [00:00<00:04, 28.94it/s]"
     ]
    },
    {
     "name": "stdout",
     "output_type": "stream",
     "text": [
      "Best mF1Score....\n"
     ]
    },
    {
     "name": "stderr",
     "output_type": "stream",
     "text": [
      "100%|██████████| 130/130 [00:04<00:00, 28.70it/s]\n",
      " 12%|█▎        | 1/8 [00:00<00:01,  6.89it/s]"
     ]
    },
    {
     "name": "stdout",
     "output_type": "stream",
     "text": [
      "\n",
      "======== Epoch 9 / 10 ========\n",
      "\n",
      "Training...\n"
     ]
    },
    {
     "name": "stderr",
     "output_type": "stream",
     "text": [
      "100%|██████████| 8/8 [00:01<00:00,  6.76it/s]\n",
      "  5%|▍         | 3/65 [00:00<00:02, 28.66it/s]"
     ]
    },
    {
     "name": "stdout",
     "output_type": "stream",
     "text": [
      "avg_train_loss 0.40213584527373314\n",
      "train_f1Score 0.896551724137931\n",
      "train_accuracy 0.90625\n",
      "\n",
      "Running Validation...\n"
     ]
    },
    {
     "name": "stderr",
     "output_type": "stream",
     "text": [
      "100%|██████████| 65/65 [00:02<00:00, 28.72it/s]\n",
      "  2%|▏         | 3/130 [00:00<00:04, 28.87it/s]"
     ]
    },
    {
     "name": "stdout",
     "output_type": "stream",
     "text": [
      "Validation Loss:  0.6343300200425661\n",
      "Validation Accuracy:  0.6615384615384615\n",
      "Best mF1Score....\n"
     ]
    },
    {
     "name": "stderr",
     "output_type": "stream",
     "text": [
      "100%|██████████| 130/130 [00:04<00:00, 28.68it/s]\n",
      " 12%|█▎        | 1/8 [00:00<00:00,  7.01it/s]"
     ]
    },
    {
     "name": "stdout",
     "output_type": "stream",
     "text": [
      "\n",
      "======== Epoch 10 / 10 ========\n",
      "\n",
      "Training...\n"
     ]
    },
    {
     "name": "stderr",
     "output_type": "stream",
     "text": [
      "100%|██████████| 8/8 [00:01<00:00,  6.75it/s]\n",
      "  5%|▍         | 3/65 [00:00<00:02, 28.63it/s]"
     ]
    },
    {
     "name": "stdout",
     "output_type": "stream",
     "text": [
      "avg_train_loss 0.4032571204006672\n",
      "train_f1Score 0.847457627118644\n",
      "train_accuracy 0.859375\n",
      "\n",
      "Running Validation...\n"
     ]
    },
    {
     "name": "stderr",
     "output_type": "stream",
     "text": [
      "100%|██████████| 65/65 [00:02<00:00, 28.69it/s]\n",
      "  2%|▏         | 3/130 [00:00<00:04, 28.74it/s]"
     ]
    },
    {
     "name": "stdout",
     "output_type": "stream",
     "text": [
      "Validation Loss:  0.6349596942846591\n",
      "Validation Accuracy:  0.6615384615384615\n",
      "Testing Model....\n"
     ]
    },
    {
     "name": "stderr",
     "output_type": "stream",
     "text": [
      "100%|██████████| 130/130 [00:04<00:00, 28.67it/s]\n"
     ]
    },
    {
     "name": "stdout",
     "output_type": "stream",
     "text": [
      "Saving Test Metrics....\n",
      "Fold:  3\n",
      "Run:  1\n",
      "\tInitialising Model....\n",
      "\tLoading Dataset....\n"
     ]
    },
    {
     "name": "stderr",
     "output_type": "stream",
     "text": [
      "100%|██████████| 64/64 [00:00<00:00, 1972.82it/s]\n",
      "100%|██████████| 523/523 [00:00<00:00, 6850.08it/s]\n",
      "100%|██████████| 1047/1047 [00:00<00:00, 8835.00it/s]\n",
      "100%|██████████| 64/64 [00:00<00:00, 2063.02it/s]\n",
      "100%|██████████| 523/523 [00:00<00:00, 5568.80it/s]\n",
      "  0%|          | 0/1047 [00:00<?, ?it/s]"
     ]
    },
    {
     "name": "stdout",
     "output_type": "stream",
     "text": [
      "\tTraining Starts....\n"
     ]
    },
    {
     "name": "stderr",
     "output_type": "stream",
     "text": [
      "100%|██████████| 1047/1047 [00:00<00:00, 5368.16it/s]\n",
      "  0%|          | 0/8 [00:00<?, ?it/s]"
     ]
    },
    {
     "name": "stdout",
     "output_type": "stream",
     "text": [
      "\n",
      "======== Epoch 1 / 10 ========\n",
      "\n",
      "Training...\n"
     ]
    },
    {
     "name": "stderr",
     "output_type": "stream",
     "text": [
      "100%|██████████| 8/8 [00:03<00:00,  2.59it/s]\n",
      "  5%|▍         | 3/65 [00:00<00:02, 28.51it/s]"
     ]
    },
    {
     "name": "stdout",
     "output_type": "stream",
     "text": [
      "avg_train_loss 0.902943029999733\n",
      "train_f1Score 0.547945205479452\n",
      "train_accuracy 0.484375\n",
      "\n",
      "Running Validation...\n"
     ]
    },
    {
     "name": "stderr",
     "output_type": "stream",
     "text": [
      "100%|██████████| 65/65 [00:02<00:00, 28.67it/s]\n",
      "  2%|▏         | 3/130 [00:00<00:04, 28.72it/s]"
     ]
    },
    {
     "name": "stdout",
     "output_type": "stream",
     "text": [
      "Validation Loss:  0.6721182924050552\n",
      "Validation Accuracy:  0.6057692307692307\n",
      "Best mF1Score....\n"
     ]
    },
    {
     "name": "stderr",
     "output_type": "stream",
     "text": [
      "100%|██████████| 130/130 [00:04<00:00, 28.71it/s]\n",
      " 12%|█▎        | 1/8 [00:00<00:01,  7.00it/s]"
     ]
    },
    {
     "name": "stdout",
     "output_type": "stream",
     "text": [
      "\n",
      "======== Epoch 2 / 10 ========\n",
      "\n",
      "Training...\n"
     ]
    },
    {
     "name": "stderr",
     "output_type": "stream",
     "text": [
      "100%|██████████| 8/8 [00:01<00:00,  6.81it/s]\n",
      "  5%|▍         | 3/65 [00:00<00:02, 28.69it/s]"
     ]
    },
    {
     "name": "stdout",
     "output_type": "stream",
     "text": [
      "avg_train_loss 0.6200253404676914\n",
      "train_f1Score 0.6875\n",
      "train_accuracy 0.6875\n",
      "\n",
      "Running Validation...\n"
     ]
    },
    {
     "name": "stderr",
     "output_type": "stream",
     "text": [
      "100%|██████████| 65/65 [00:02<00:00, 28.69it/s]\n",
      "  2%|▏         | 3/130 [00:00<00:04, 28.71it/s]"
     ]
    },
    {
     "name": "stdout",
     "output_type": "stream",
     "text": [
      "Validation Loss:  0.7036334193669833\n",
      "Validation Accuracy:  0.5692307692307692\n",
      "Testing Model....\n"
     ]
    },
    {
     "name": "stderr",
     "output_type": "stream",
     "text": [
      "100%|██████████| 130/130 [00:04<00:00, 28.65it/s]\n",
      " 12%|█▎        | 1/8 [00:00<00:01,  6.92it/s]"
     ]
    },
    {
     "name": "stdout",
     "output_type": "stream",
     "text": [
      "\n",
      "======== Epoch 3 / 10 ========\n",
      "\n",
      "Training...\n"
     ]
    },
    {
     "name": "stderr",
     "output_type": "stream",
     "text": [
      "100%|██████████| 8/8 [00:01<00:00,  6.74it/s]\n",
      "  5%|▍         | 3/65 [00:00<00:02, 28.61it/s]"
     ]
    },
    {
     "name": "stdout",
     "output_type": "stream",
     "text": [
      "avg_train_loss 0.5739578902721405\n",
      "train_f1Score 0.6\n",
      "train_accuracy 0.6875\n",
      "\n",
      "Running Validation...\n"
     ]
    },
    {
     "name": "stderr",
     "output_type": "stream",
     "text": [
      "100%|██████████| 65/65 [00:02<00:00, 28.71it/s]\n",
      "  2%|▏         | 3/130 [00:00<00:04, 28.84it/s]"
     ]
    },
    {
     "name": "stdout",
     "output_type": "stream",
     "text": [
      "Validation Loss:  0.6609901538262001\n",
      "Validation Accuracy:  0.6134615384615385\n",
      "Best mF1Score....\n"
     ]
    },
    {
     "name": "stderr",
     "output_type": "stream",
     "text": [
      "100%|██████████| 130/130 [00:04<00:00, 28.72it/s]\n",
      " 12%|█▎        | 1/8 [00:00<00:01,  6.82it/s]"
     ]
    },
    {
     "name": "stdout",
     "output_type": "stream",
     "text": [
      "\n",
      "======== Epoch 4 / 10 ========\n",
      "\n",
      "Training...\n"
     ]
    },
    {
     "name": "stderr",
     "output_type": "stream",
     "text": [
      "100%|██████████| 8/8 [00:01<00:00,  6.75it/s]\n",
      "  5%|▍         | 3/65 [00:00<00:02, 28.62it/s]"
     ]
    },
    {
     "name": "stdout",
     "output_type": "stream",
     "text": [
      "avg_train_loss 0.48572133481502533\n",
      "train_f1Score 0.8484848484848485\n",
      "train_accuracy 0.84375\n",
      "\n",
      "Running Validation...\n"
     ]
    },
    {
     "name": "stderr",
     "output_type": "stream",
     "text": [
      "100%|██████████| 65/65 [00:02<00:00, 28.66it/s]\n",
      "  2%|▏         | 3/130 [00:00<00:04, 28.72it/s]"
     ]
    },
    {
     "name": "stdout",
     "output_type": "stream",
     "text": [
      "Validation Loss:  0.6424803266158471\n",
      "Validation Accuracy:  0.6211538461538462\n",
      "Testing Model....\n"
     ]
    },
    {
     "name": "stderr",
     "output_type": "stream",
     "text": [
      "100%|██████████| 130/130 [00:04<00:00, 28.68it/s]\n",
      "  2%|▏         | 3/130 [00:00<00:04, 28.95it/s]"
     ]
    },
    {
     "name": "stdout",
     "output_type": "stream",
     "text": [
      "Best mF1Score....\n"
     ]
    },
    {
     "name": "stderr",
     "output_type": "stream",
     "text": [
      "100%|██████████| 130/130 [00:04<00:00, 28.71it/s]\n",
      " 12%|█▎        | 1/8 [00:00<00:01,  6.98it/s]"
     ]
    },
    {
     "name": "stdout",
     "output_type": "stream",
     "text": [
      "\n",
      "======== Epoch 5 / 10 ========\n",
      "\n",
      "Training...\n"
     ]
    },
    {
     "name": "stderr",
     "output_type": "stream",
     "text": [
      "100%|██████████| 8/8 [00:01<00:00,  6.84it/s]\n",
      "  5%|▍         | 3/65 [00:00<00:02, 28.68it/s]"
     ]
    },
    {
     "name": "stdout",
     "output_type": "stream",
     "text": [
      "avg_train_loss 0.38099661469459534\n",
      "train_f1Score 0.9090909090909091\n",
      "train_accuracy 0.90625\n",
      "\n",
      "Running Validation...\n"
     ]
    },
    {
     "name": "stderr",
     "output_type": "stream",
     "text": [
      "100%|██████████| 65/65 [00:02<00:00, 28.69it/s]\n",
      " 12%|█▎        | 1/8 [00:00<00:01,  6.90it/s]"
     ]
    },
    {
     "name": "stdout",
     "output_type": "stream",
     "text": [
      "Validation Loss:  0.7129399781043713\n",
      "Validation Accuracy:  0.6269230769230769\n",
      "\n",
      "======== Epoch 6 / 10 ========\n",
      "\n",
      "Training...\n"
     ]
    },
    {
     "name": "stderr",
     "output_type": "stream",
     "text": [
      "100%|██████████| 8/8 [00:01<00:00,  6.80it/s]\n",
      "  5%|▍         | 3/65 [00:00<00:02, 28.66it/s]"
     ]
    },
    {
     "name": "stdout",
     "output_type": "stream",
     "text": [
      "avg_train_loss 0.3672744296491146\n",
      "train_f1Score 0.8333333333333334\n",
      "train_accuracy 0.84375\n",
      "\n",
      "Running Validation...\n"
     ]
    },
    {
     "name": "stderr",
     "output_type": "stream",
     "text": [
      "100%|██████████| 65/65 [00:02<00:00, 28.71it/s]\n",
      "  2%|▏         | 3/130 [00:00<00:04, 28.80it/s]"
     ]
    },
    {
     "name": "stdout",
     "output_type": "stream",
     "text": [
      "Validation Loss:  0.7926905856682704\n",
      "Validation Accuracy:  0.6365384615384615\n",
      "Testing Model....\n"
     ]
    },
    {
     "name": "stderr",
     "output_type": "stream",
     "text": [
      "100%|██████████| 130/130 [00:04<00:00, 28.67it/s]\n",
      " 12%|█▎        | 1/8 [00:00<00:01,  6.92it/s]"
     ]
    },
    {
     "name": "stdout",
     "output_type": "stream",
     "text": [
      "\n",
      "======== Epoch 7 / 10 ========\n",
      "\n",
      "Training...\n"
     ]
    },
    {
     "name": "stderr",
     "output_type": "stream",
     "text": [
      "100%|██████████| 8/8 [00:01<00:00,  6.75it/s]\n",
      "  5%|▍         | 3/65 [00:00<00:02, 28.84it/s]"
     ]
    },
    {
     "name": "stdout",
     "output_type": "stream",
     "text": [
      "avg_train_loss 0.3077196814119816\n",
      "train_f1Score 0.870967741935484\n",
      "train_accuracy 0.875\n",
      "\n",
      "Running Validation...\n"
     ]
    },
    {
     "name": "stderr",
     "output_type": "stream",
     "text": [
      "100%|██████████| 65/65 [00:02<00:00, 28.69it/s]\n",
      "  2%|▏         | 3/130 [00:00<00:04, 28.77it/s]"
     ]
    },
    {
     "name": "stdout",
     "output_type": "stream",
     "text": [
      "Validation Loss:  0.7206732007173392\n",
      "Validation Accuracy:  0.6461538461538462\n",
      "Best mF1Score....\n"
     ]
    },
    {
     "name": "stderr",
     "output_type": "stream",
     "text": [
      "100%|██████████| 130/130 [00:04<00:00, 28.69it/s]\n",
      " 12%|█▎        | 1/8 [00:00<00:01,  6.87it/s]"
     ]
    },
    {
     "name": "stdout",
     "output_type": "stream",
     "text": [
      "\n",
      "======== Epoch 8 / 10 ========\n",
      "\n",
      "Training...\n"
     ]
    },
    {
     "name": "stderr",
     "output_type": "stream",
     "text": [
      "100%|██████████| 8/8 [00:01<00:00,  6.74it/s]\n",
      "  5%|▍         | 3/65 [00:00<00:02, 28.58it/s]"
     ]
    },
    {
     "name": "stdout",
     "output_type": "stream",
     "text": [
      "avg_train_loss 0.2600560002028942\n",
      "train_f1Score 0.9142857142857143\n",
      "train_accuracy 0.90625\n",
      "\n",
      "Running Validation...\n"
     ]
    },
    {
     "name": "stderr",
     "output_type": "stream",
     "text": [
      "100%|██████████| 65/65 [00:02<00:00, 28.71it/s]\n",
      "  2%|▏         | 3/130 [00:00<00:04, 28.74it/s]"
     ]
    },
    {
     "name": "stdout",
     "output_type": "stream",
     "text": [
      "Validation Loss:  0.74696956632229\n",
      "Validation Accuracy:  0.6557692307692308\n",
      "Testing Model....\n"
     ]
    },
    {
     "name": "stderr",
     "output_type": "stream",
     "text": [
      "100%|██████████| 130/130 [00:04<00:00, 28.68it/s]\n",
      "  2%|▏         | 3/130 [00:00<00:04, 28.95it/s]"
     ]
    },
    {
     "name": "stdout",
     "output_type": "stream",
     "text": [
      "Best mF1Score....\n"
     ]
    },
    {
     "name": "stderr",
     "output_type": "stream",
     "text": [
      "100%|██████████| 130/130 [00:04<00:00, 28.71it/s]\n",
      " 12%|█▎        | 1/8 [00:00<00:01,  6.96it/s]"
     ]
    },
    {
     "name": "stdout",
     "output_type": "stream",
     "text": [
      "\n",
      "======== Epoch 9 / 10 ========\n",
      "\n",
      "Training...\n"
     ]
    },
    {
     "name": "stderr",
     "output_type": "stream",
     "text": [
      "100%|██████████| 8/8 [00:01<00:00,  6.85it/s]\n",
      "  5%|▍         | 3/65 [00:00<00:02, 28.58it/s]"
     ]
    },
    {
     "name": "stdout",
     "output_type": "stream",
     "text": [
      "avg_train_loss 0.26429711002856493\n",
      "train_f1Score 0.8955223880597014\n",
      "train_accuracy 0.890625\n",
      "\n",
      "Running Validation...\n"
     ]
    },
    {
     "name": "stderr",
     "output_type": "stream",
     "text": [
      "100%|██████████| 65/65 [00:02<00:00, 28.68it/s]\n",
      " 12%|█▎        | 1/8 [00:00<00:01,  6.99it/s]"
     ]
    },
    {
     "name": "stdout",
     "output_type": "stream",
     "text": [
      "Validation Loss:  0.8052060515834735\n",
      "Validation Accuracy:  0.6365384615384615\n",
      "\n",
      "======== Epoch 10 / 10 ========\n",
      "\n",
      "Training...\n"
     ]
    },
    {
     "name": "stderr",
     "output_type": "stream",
     "text": [
      "100%|██████████| 8/8 [00:01<00:00,  6.78it/s]\n",
      "  5%|▍         | 3/65 [00:00<00:02, 28.64it/s]"
     ]
    },
    {
     "name": "stdout",
     "output_type": "stream",
     "text": [
      "avg_train_loss 0.22652445174753666\n",
      "train_f1Score 0.90625\n",
      "train_accuracy 0.90625\n",
      "\n",
      "Running Validation...\n"
     ]
    },
    {
     "name": "stderr",
     "output_type": "stream",
     "text": [
      "100%|██████████| 65/65 [00:02<00:00, 28.69it/s]\n",
      "  2%|▏         | 3/130 [00:00<00:04, 28.76it/s]"
     ]
    },
    {
     "name": "stdout",
     "output_type": "stream",
     "text": [
      "Validation Loss:  0.8233785973145411\n",
      "Validation Accuracy:  0.6384615384615384\n",
      "Testing Model....\n"
     ]
    },
    {
     "name": "stderr",
     "output_type": "stream",
     "text": [
      "100%|██████████| 130/130 [00:04<00:00, 28.68it/s]\n"
     ]
    },
    {
     "name": "stdout",
     "output_type": "stream",
     "text": [
      "Saving Test Metrics....\n",
      "Run:  2\n",
      "\tInitialising Model....\n",
      "\tLoading Dataset....\n"
     ]
    },
    {
     "name": "stderr",
     "output_type": "stream",
     "text": [
      "100%|██████████| 64/64 [00:00<00:00, 4506.14it/s]\n",
      "100%|██████████| 523/523 [00:00<00:00, 8693.19it/s]\n",
      "100%|██████████| 1047/1047 [00:00<00:00, 8807.85it/s]\n",
      "100%|██████████| 64/64 [00:00<00:00, 1621.34it/s]\n",
      "100%|██████████| 523/523 [00:00<00:00, 5422.47it/s]\n",
      "  0%|          | 0/1047 [00:00<?, ?it/s]"
     ]
    },
    {
     "name": "stdout",
     "output_type": "stream",
     "text": [
      "\tTraining Starts....\n"
     ]
    },
    {
     "name": "stderr",
     "output_type": "stream",
     "text": [
      "100%|██████████| 1047/1047 [00:00<00:00, 5407.12it/s]\n"
     ]
    },
    {
     "name": "stdout",
     "output_type": "stream",
     "text": [
      "\n",
      "======== Epoch 1 / 10 ========\n",
      "\n",
      "Training...\n"
     ]
    },
    {
     "name": "stderr",
     "output_type": "stream",
     "text": [
      "100%|██████████| 8/8 [00:02<00:00,  3.20it/s]\n",
      "  5%|▍         | 3/65 [00:00<00:02, 28.91it/s]"
     ]
    },
    {
     "name": "stdout",
     "output_type": "stream",
     "text": [
      "avg_train_loss 0.8343019261956215\n",
      "train_f1Score 0.5373134328358209\n",
      "train_accuracy 0.515625\n",
      "\n",
      "Running Validation...\n"
     ]
    },
    {
     "name": "stderr",
     "output_type": "stream",
     "text": [
      "100%|██████████| 65/65 [00:02<00:00, 28.69it/s]\n",
      "  2%|▏         | 3/130 [00:00<00:04, 28.67it/s]"
     ]
    },
    {
     "name": "stdout",
     "output_type": "stream",
     "text": [
      "Validation Loss:  0.6865080535411835\n",
      "Validation Accuracy:  0.5634615384615385\n",
      "Best mF1Score....\n"
     ]
    },
    {
     "name": "stderr",
     "output_type": "stream",
     "text": [
      "100%|██████████| 130/130 [00:04<00:00, 28.61it/s]\n",
      " 12%|█▎        | 1/8 [00:00<00:01,  6.91it/s]"
     ]
    },
    {
     "name": "stdout",
     "output_type": "stream",
     "text": [
      "\n",
      "======== Epoch 2 / 10 ========\n",
      "\n",
      "Training...\n"
     ]
    },
    {
     "name": "stderr",
     "output_type": "stream",
     "text": [
      "100%|██████████| 8/8 [00:01<00:00,  6.74it/s]\n",
      "  5%|▍         | 3/65 [00:00<00:02, 28.62it/s]"
     ]
    },
    {
     "name": "stdout",
     "output_type": "stream",
     "text": [
      "avg_train_loss 0.5694826655089855\n",
      "train_f1Score 0.75\n",
      "train_accuracy 0.75\n",
      "\n",
      "Running Validation...\n"
     ]
    },
    {
     "name": "stderr",
     "output_type": "stream",
     "text": [
      "100%|██████████| 65/65 [00:02<00:00, 28.64it/s]\n",
      "  2%|▏         | 3/130 [00:00<00:04, 28.78it/s]"
     ]
    },
    {
     "name": "stdout",
     "output_type": "stream",
     "text": [
      "Validation Loss:  0.7010618021854987\n",
      "Validation Accuracy:  0.5865384615384616\n",
      "Testing Model....\n"
     ]
    },
    {
     "name": "stderr",
     "output_type": "stream",
     "text": [
      "100%|██████████| 130/130 [00:04<00:00, 28.69it/s]\n",
      " 12%|█▎        | 1/8 [00:00<00:00,  7.01it/s]"
     ]
    },
    {
     "name": "stdout",
     "output_type": "stream",
     "text": [
      "\n",
      "======== Epoch 3 / 10 ========\n",
      "\n",
      "Training...\n"
     ]
    },
    {
     "name": "stderr",
     "output_type": "stream",
     "text": [
      "100%|██████████| 8/8 [00:01<00:00,  6.79it/s]\n",
      "  5%|▍         | 3/65 [00:00<00:02, 28.57it/s]"
     ]
    },
    {
     "name": "stdout",
     "output_type": "stream",
     "text": [
      "avg_train_loss 0.5154825076460838\n",
      "train_f1Score 0.7457627118644067\n",
      "train_accuracy 0.765625\n",
      "\n",
      "Running Validation...\n"
     ]
    },
    {
     "name": "stderr",
     "output_type": "stream",
     "text": [
      "100%|██████████| 65/65 [00:02<00:00, 28.66it/s]\n",
      "  2%|▏         | 3/130 [00:00<00:04, 28.77it/s]"
     ]
    },
    {
     "name": "stdout",
     "output_type": "stream",
     "text": [
      "Validation Loss:  0.6925328011696156\n",
      "Validation Accuracy:  0.6038461538461538\n",
      "Best mF1Score....\n"
     ]
    },
    {
     "name": "stderr",
     "output_type": "stream",
     "text": [
      "100%|██████████| 130/130 [00:04<00:00, 28.66it/s]\n",
      " 12%|█▎        | 1/8 [00:00<00:00,  7.00it/s]"
     ]
    },
    {
     "name": "stdout",
     "output_type": "stream",
     "text": [
      "\n",
      "======== Epoch 4 / 10 ========\n",
      "\n",
      "Training...\n"
     ]
    },
    {
     "name": "stderr",
     "output_type": "stream",
     "text": [
      "100%|██████████| 8/8 [00:01<00:00,  6.74it/s]\n",
      "  5%|▍         | 3/65 [00:00<00:02, 28.89it/s]"
     ]
    },
    {
     "name": "stdout",
     "output_type": "stream",
     "text": [
      "avg_train_loss 0.4380025453865528\n",
      "train_f1Score 0.8358208955223881\n",
      "train_accuracy 0.828125\n",
      "\n",
      "Running Validation...\n"
     ]
    },
    {
     "name": "stderr",
     "output_type": "stream",
     "text": [
      "100%|██████████| 65/65 [00:02<00:00, 28.94it/s]\n",
      "  2%|▏         | 3/130 [00:00<00:04, 28.99it/s]"
     ]
    },
    {
     "name": "stdout",
     "output_type": "stream",
     "text": [
      "Validation Loss:  0.6810966661343207\n",
      "Validation Accuracy:  0.6403846153846153\n",
      "Testing Model....\n"
     ]
    },
    {
     "name": "stderr",
     "output_type": "stream",
     "text": [
      "100%|██████████| 130/130 [00:04<00:00, 28.93it/s]\n",
      "  2%|▏         | 3/130 [00:00<00:04, 29.06it/s]"
     ]
    },
    {
     "name": "stdout",
     "output_type": "stream",
     "text": [
      "Best mF1Score....\n"
     ]
    },
    {
     "name": "stderr",
     "output_type": "stream",
     "text": [
      "100%|██████████| 130/130 [00:04<00:00, 28.91it/s]\n",
      " 12%|█▎        | 1/8 [00:00<00:01,  6.97it/s]"
     ]
    },
    {
     "name": "stdout",
     "output_type": "stream",
     "text": [
      "\n",
      "======== Epoch 5 / 10 ========\n",
      "\n",
      "Training...\n"
     ]
    },
    {
     "name": "stderr",
     "output_type": "stream",
     "text": [
      "100%|██████████| 8/8 [00:01<00:00,  6.78it/s]\n",
      "  5%|▍         | 3/65 [00:00<00:02, 28.88it/s]"
     ]
    },
    {
     "name": "stdout",
     "output_type": "stream",
     "text": [
      "avg_train_loss 0.4874161370098591\n",
      "train_f1Score 0.7272727272727272\n",
      "train_accuracy 0.71875\n",
      "\n",
      "Running Validation...\n"
     ]
    },
    {
     "name": "stderr",
     "output_type": "stream",
     "text": [
      "100%|██████████| 65/65 [00:02<00:00, 28.92it/s]\n",
      " 12%|█▎        | 1/8 [00:00<00:01,  6.91it/s]"
     ]
    },
    {
     "name": "stdout",
     "output_type": "stream",
     "text": [
      "Validation Loss:  0.7204182675251594\n",
      "Validation Accuracy:  0.6230769230769231\n",
      "\n",
      "======== Epoch 6 / 10 ========\n",
      "\n",
      "Training...\n"
     ]
    },
    {
     "name": "stderr",
     "output_type": "stream",
     "text": [
      "100%|██████████| 8/8 [00:01<00:00,  6.77it/s]\n",
      "  5%|▍         | 3/65 [00:00<00:02, 28.90it/s]"
     ]
    },
    {
     "name": "stdout",
     "output_type": "stream",
     "text": [
      "avg_train_loss 0.38836661353707314\n",
      "train_f1Score 0.8135593220338982\n",
      "train_accuracy 0.828125\n",
      "\n",
      "Running Validation...\n"
     ]
    },
    {
     "name": "stderr",
     "output_type": "stream",
     "text": [
      "100%|██████████| 65/65 [00:02<00:00, 28.94it/s]\n",
      "  2%|▏         | 3/130 [00:00<00:04, 29.00it/s]"
     ]
    },
    {
     "name": "stdout",
     "output_type": "stream",
     "text": [
      "Validation Loss:  0.7573816427817711\n",
      "Validation Accuracy:  0.6326923076923077\n",
      "Testing Model....\n"
     ]
    },
    {
     "name": "stderr",
     "output_type": "stream",
     "text": [
      "100%|██████████| 130/130 [00:04<00:00, 28.91it/s]\n",
      " 12%|█▎        | 1/8 [00:00<00:00,  7.06it/s]"
     ]
    },
    {
     "name": "stdout",
     "output_type": "stream",
     "text": [
      "\n",
      "======== Epoch 7 / 10 ========\n",
      "\n",
      "Training...\n"
     ]
    },
    {
     "name": "stderr",
     "output_type": "stream",
     "text": [
      "100%|██████████| 8/8 [00:01<00:00,  6.81it/s]\n",
      "  5%|▍         | 3/65 [00:00<00:02, 28.72it/s]"
     ]
    },
    {
     "name": "stdout",
     "output_type": "stream",
     "text": [
      "avg_train_loss 0.34372079372406006\n",
      "train_f1Score 0.8615384615384615\n",
      "train_accuracy 0.859375\n",
      "\n",
      "Running Validation...\n"
     ]
    },
    {
     "name": "stderr",
     "output_type": "stream",
     "text": [
      "100%|██████████| 65/65 [00:02<00:00, 28.67it/s]\n",
      "  2%|▏         | 3/130 [00:00<00:04, 28.73it/s]"
     ]
    },
    {
     "name": "stdout",
     "output_type": "stream",
     "text": [
      "Validation Loss:  0.7268587740568014\n",
      "Validation Accuracy:  0.6442307692307693\n",
      "Best mF1Score....\n"
     ]
    },
    {
     "name": "stderr",
     "output_type": "stream",
     "text": [
      "100%|██████████| 130/130 [00:04<00:00, 28.68it/s]\n",
      " 12%|█▎        | 1/8 [00:00<00:01,  6.93it/s]"
     ]
    },
    {
     "name": "stdout",
     "output_type": "stream",
     "text": [
      "\n",
      "======== Epoch 8 / 10 ========\n",
      "\n",
      "Training...\n"
     ]
    },
    {
     "name": "stderr",
     "output_type": "stream",
     "text": [
      "100%|██████████| 8/8 [00:01<00:00,  6.73it/s]\n",
      "  5%|▍         | 3/65 [00:00<00:02, 28.73it/s]"
     ]
    },
    {
     "name": "stdout",
     "output_type": "stream",
     "text": [
      "avg_train_loss 0.3931216560304165\n",
      "train_f1Score 0.8125\n",
      "train_accuracy 0.8125\n",
      "\n",
      "Running Validation...\n"
     ]
    },
    {
     "name": "stderr",
     "output_type": "stream",
     "text": [
      "100%|██████████| 65/65 [00:02<00:00, 28.72it/s]\n",
      "  2%|▏         | 3/130 [00:00<00:04, 28.77it/s]"
     ]
    },
    {
     "name": "stdout",
     "output_type": "stream",
     "text": [
      "Validation Loss:  0.7710430741310119\n",
      "Validation Accuracy:  0.6326923076923077\n",
      "Testing Model....\n"
     ]
    },
    {
     "name": "stderr",
     "output_type": "stream",
     "text": [
      "100%|██████████| 130/130 [00:04<00:00, 28.71it/s]\n",
      " 12%|█▎        | 1/8 [00:00<00:01,  6.89it/s]"
     ]
    },
    {
     "name": "stdout",
     "output_type": "stream",
     "text": [
      "\n",
      "======== Epoch 9 / 10 ========\n",
      "\n",
      "Training...\n"
     ]
    },
    {
     "name": "stderr",
     "output_type": "stream",
     "text": [
      "100%|██████████| 8/8 [00:01<00:00,  6.82it/s]\n",
      "  5%|▍         | 3/65 [00:00<00:02, 28.61it/s]"
     ]
    },
    {
     "name": "stdout",
     "output_type": "stream",
     "text": [
      "avg_train_loss 0.2921768929809332\n",
      "train_f1Score 0.9032258064516129\n",
      "train_accuracy 0.90625\n",
      "\n",
      "Running Validation...\n"
     ]
    },
    {
     "name": "stderr",
     "output_type": "stream",
     "text": [
      "100%|██████████| 65/65 [00:02<00:00, 28.71it/s]\n",
      " 12%|█▎        | 1/8 [00:00<00:01,  6.92it/s]"
     ]
    },
    {
     "name": "stdout",
     "output_type": "stream",
     "text": [
      "Validation Loss:  0.7656045340574704\n",
      "Validation Accuracy:  0.6403846153846153\n",
      "\n",
      "======== Epoch 10 / 10 ========\n",
      "\n",
      "Training...\n"
     ]
    },
    {
     "name": "stderr",
     "output_type": "stream",
     "text": [
      "100%|██████████| 8/8 [00:01<00:00,  6.77it/s]\n",
      "  5%|▍         | 3/65 [00:00<00:02, 28.77it/s]"
     ]
    },
    {
     "name": "stdout",
     "output_type": "stream",
     "text": [
      "avg_train_loss 0.27280582301318645\n",
      "train_f1Score 0.9354838709677419\n",
      "train_accuracy 0.9375\n",
      "\n",
      "Running Validation...\n"
     ]
    },
    {
     "name": "stderr",
     "output_type": "stream",
     "text": [
      "100%|██████████| 65/65 [00:02<00:00, 28.70it/s]\n",
      "  2%|▏         | 3/130 [00:00<00:04, 28.78it/s]"
     ]
    },
    {
     "name": "stdout",
     "output_type": "stream",
     "text": [
      "Validation Loss:  0.7737509422577344\n",
      "Validation Accuracy:  0.6403846153846153\n",
      "Testing Model....\n"
     ]
    },
    {
     "name": "stderr",
     "output_type": "stream",
     "text": [
      "100%|██████████| 130/130 [00:04<00:00, 28.73it/s]\n"
     ]
    },
    {
     "name": "stdout",
     "output_type": "stream",
     "text": [
      "Saving Test Metrics....\n",
      "Run:  3\n",
      "\tInitialising Model....\n",
      "\tLoading Dataset....\n"
     ]
    },
    {
     "name": "stderr",
     "output_type": "stream",
     "text": [
      "100%|██████████| 64/64 [00:00<00:00, 4100.69it/s]\n",
      "100%|██████████| 523/523 [00:00<00:00, 8859.93it/s]\n",
      "100%|██████████| 1047/1047 [00:00<00:00, 8755.40it/s]\n",
      "100%|██████████| 64/64 [00:00<00:00, 902.14it/s]\n",
      "100%|██████████| 523/523 [00:00<00:00, 5392.36it/s]\n",
      "  0%|          | 0/1047 [00:00<?, ?it/s]"
     ]
    },
    {
     "name": "stdout",
     "output_type": "stream",
     "text": [
      "\tTraining Starts....\n"
     ]
    },
    {
     "name": "stderr",
     "output_type": "stream",
     "text": [
      "100%|██████████| 1047/1047 [00:00<00:00, 5342.70it/s]\n",
      "  0%|          | 0/8 [00:00<?, ?it/s]"
     ]
    },
    {
     "name": "stdout",
     "output_type": "stream",
     "text": [
      "\n",
      "======== Epoch 1 / 10 ========\n",
      "\n",
      "Training...\n"
     ]
    },
    {
     "name": "stderr",
     "output_type": "stream",
     "text": [
      "100%|██████████| 8/8 [00:02<00:00,  3.02it/s]\n",
      "  5%|▍         | 3/65 [00:00<00:02, 28.54it/s]"
     ]
    },
    {
     "name": "stdout",
     "output_type": "stream",
     "text": [
      "avg_train_loss 0.9351834282279015\n",
      "train_f1Score 0.4857142857142857\n",
      "train_accuracy 0.4375\n",
      "\n",
      "Running Validation...\n"
     ]
    },
    {
     "name": "stderr",
     "output_type": "stream",
     "text": [
      "100%|██████████| 65/65 [00:02<00:00, 28.71it/s]\n",
      "  2%|▏         | 3/130 [00:00<00:04, 28.78it/s]"
     ]
    },
    {
     "name": "stdout",
     "output_type": "stream",
     "text": [
      "Validation Loss:  0.6936110583635476\n",
      "Validation Accuracy:  0.5788461538461539\n",
      "Best mF1Score....\n"
     ]
    },
    {
     "name": "stderr",
     "output_type": "stream",
     "text": [
      "100%|██████████| 130/130 [00:04<00:00, 28.70it/s]\n",
      " 12%|█▎        | 1/8 [00:00<00:01,  6.92it/s]"
     ]
    },
    {
     "name": "stdout",
     "output_type": "stream",
     "text": [
      "\n",
      "======== Epoch 2 / 10 ========\n",
      "\n",
      "Training...\n"
     ]
    },
    {
     "name": "stderr",
     "output_type": "stream",
     "text": [
      "100%|██████████| 8/8 [00:01<00:00,  6.80it/s]\n",
      "  5%|▍         | 3/65 [00:00<00:02, 28.70it/s]"
     ]
    },
    {
     "name": "stdout",
     "output_type": "stream",
     "text": [
      "avg_train_loss 0.6710891500115395\n",
      "train_f1Score 0.6835443037974684\n",
      "train_accuracy 0.609375\n",
      "\n",
      "Running Validation...\n"
     ]
    },
    {
     "name": "stderr",
     "output_type": "stream",
     "text": [
      "100%|██████████| 65/65 [00:02<00:00, 28.72it/s]\n",
      "  2%|▏         | 3/130 [00:00<00:04, 28.76it/s]"
     ]
    },
    {
     "name": "stdout",
     "output_type": "stream",
     "text": [
      "Validation Loss:  0.6706436281020824\n",
      "Validation Accuracy:  0.5884615384615385\n",
      "Testing Model....\n"
     ]
    },
    {
     "name": "stderr",
     "output_type": "stream",
     "text": [
      "100%|██████████| 130/130 [00:04<00:00, 28.71it/s]\n",
      "  2%|▏         | 3/130 [00:00<00:04, 29.00it/s]"
     ]
    },
    {
     "name": "stdout",
     "output_type": "stream",
     "text": [
      "Best mF1Score....\n"
     ]
    },
    {
     "name": "stderr",
     "output_type": "stream",
     "text": [
      "100%|██████████| 130/130 [00:04<00:00, 28.72it/s]\n",
      " 12%|█▎        | 1/8 [00:00<00:00,  7.01it/s]"
     ]
    },
    {
     "name": "stdout",
     "output_type": "stream",
     "text": [
      "\n",
      "======== Epoch 3 / 10 ========\n",
      "\n",
      "Training...\n"
     ]
    },
    {
     "name": "stderr",
     "output_type": "stream",
     "text": [
      "100%|██████████| 8/8 [00:01<00:00,  6.79it/s]\n",
      "  5%|▍         | 3/65 [00:00<00:02, 28.56it/s]"
     ]
    },
    {
     "name": "stdout",
     "output_type": "stream",
     "text": [
      "avg_train_loss 0.6770359575748444\n",
      "train_f1Score 0.24390243902439024\n",
      "train_accuracy 0.515625\n",
      "\n",
      "Running Validation...\n"
     ]
    },
    {
     "name": "stderr",
     "output_type": "stream",
     "text": [
      "100%|██████████| 65/65 [00:02<00:00, 28.72it/s]\n",
      " 12%|█▎        | 1/8 [00:00<00:01,  6.98it/s]"
     ]
    },
    {
     "name": "stdout",
     "output_type": "stream",
     "text": [
      "Validation Loss:  0.6864175379276276\n",
      "Validation Accuracy:  0.5769230769230769\n",
      "\n",
      "======== Epoch 4 / 10 ========\n",
      "\n",
      "Training...\n"
     ]
    },
    {
     "name": "stderr",
     "output_type": "stream",
     "text": [
      "100%|██████████| 8/8 [00:01<00:00,  6.78it/s]\n",
      "  5%|▍         | 3/65 [00:00<00:02, 28.63it/s]"
     ]
    },
    {
     "name": "stdout",
     "output_type": "stream",
     "text": [
      "avg_train_loss 0.6157519519329071\n",
      "train_f1Score 0.6799999999999999\n",
      "train_accuracy 0.75\n",
      "\n",
      "Running Validation...\n"
     ]
    },
    {
     "name": "stderr",
     "output_type": "stream",
     "text": [
      "100%|██████████| 65/65 [00:02<00:00, 28.73it/s]\n",
      "  2%|▏         | 3/130 [00:00<00:04, 28.76it/s]"
     ]
    },
    {
     "name": "stdout",
     "output_type": "stream",
     "text": [
      "Validation Loss:  0.6327850781954252\n",
      "Validation Accuracy:  0.6326923076923077\n",
      "Testing Model....\n"
     ]
    },
    {
     "name": "stderr",
     "output_type": "stream",
     "text": [
      "100%|██████████| 130/130 [00:04<00:00, 28.73it/s]\n",
      "  2%|▏         | 3/130 [00:00<00:04, 28.98it/s]"
     ]
    },
    {
     "name": "stdout",
     "output_type": "stream",
     "text": [
      "Best mF1Score....\n"
     ]
    },
    {
     "name": "stderr",
     "output_type": "stream",
     "text": [
      "100%|██████████| 130/130 [00:04<00:00, 28.72it/s]\n",
      " 12%|█▎        | 1/8 [00:00<00:01,  6.85it/s]"
     ]
    },
    {
     "name": "stdout",
     "output_type": "stream",
     "text": [
      "\n",
      "======== Epoch 5 / 10 ========\n",
      "\n",
      "Training...\n"
     ]
    },
    {
     "name": "stderr",
     "output_type": "stream",
     "text": [
      "100%|██████████| 8/8 [00:01<00:00,  6.78it/s]\n",
      "  5%|▍         | 3/65 [00:00<00:02, 28.71it/s]"
     ]
    },
    {
     "name": "stdout",
     "output_type": "stream",
     "text": [
      "avg_train_loss 0.5665388777852058\n",
      "train_f1Score 0.7936507936507936\n",
      "train_accuracy 0.796875\n",
      "\n",
      "Running Validation...\n"
     ]
    },
    {
     "name": "stderr",
     "output_type": "stream",
     "text": [
      "100%|██████████| 65/65 [00:02<00:00, 28.70it/s]\n",
      "  2%|▏         | 3/130 [00:00<00:04, 28.80it/s]"
     ]
    },
    {
     "name": "stdout",
     "output_type": "stream",
     "text": [
      "Validation Loss:  0.6164414859735049\n",
      "Validation Accuracy:  0.6442307692307693\n",
      "Best mF1Score....\n"
     ]
    },
    {
     "name": "stderr",
     "output_type": "stream",
     "text": [
      "100%|██████████| 130/130 [00:04<00:00, 28.67it/s]\n",
      " 12%|█▎        | 1/8 [00:00<00:01,  6.63it/s]"
     ]
    },
    {
     "name": "stdout",
     "output_type": "stream",
     "text": [
      "\n",
      "======== Epoch 6 / 10 ========\n",
      "\n",
      "Training...\n"
     ]
    },
    {
     "name": "stderr",
     "output_type": "stream",
     "text": [
      "100%|██████████| 8/8 [00:01<00:00,  6.80it/s]\n",
      "  5%|▍         | 3/65 [00:00<00:02, 28.66it/s]"
     ]
    },
    {
     "name": "stdout",
     "output_type": "stream",
     "text": [
      "avg_train_loss 0.505850300192833\n",
      "train_f1Score 0.8307692307692308\n",
      "train_accuracy 0.828125\n",
      "\n",
      "Running Validation...\n"
     ]
    },
    {
     "name": "stderr",
     "output_type": "stream",
     "text": [
      "100%|██████████| 65/65 [00:02<00:00, 28.73it/s]\n",
      "  2%|▏         | 3/130 [00:00<00:04, 28.79it/s]"
     ]
    },
    {
     "name": "stdout",
     "output_type": "stream",
     "text": [
      "Validation Loss:  0.615418750506181\n",
      "Validation Accuracy:  0.65\n",
      "Testing Model....\n"
     ]
    },
    {
     "name": "stderr",
     "output_type": "stream",
     "text": [
      "100%|██████████| 130/130 [00:04<00:00, 28.71it/s]\n",
      "  2%|▏         | 3/130 [00:00<00:04, 28.96it/s]"
     ]
    },
    {
     "name": "stdout",
     "output_type": "stream",
     "text": [
      "Best mF1Score....\n"
     ]
    },
    {
     "name": "stderr",
     "output_type": "stream",
     "text": [
      "100%|██████████| 130/130 [00:04<00:00, 28.73it/s]\n",
      " 12%|█▎        | 1/8 [00:00<00:01,  6.93it/s]"
     ]
    },
    {
     "name": "stdout",
     "output_type": "stream",
     "text": [
      "\n",
      "======== Epoch 7 / 10 ========\n",
      "\n",
      "Training...\n"
     ]
    },
    {
     "name": "stderr",
     "output_type": "stream",
     "text": [
      "100%|██████████| 8/8 [00:01<00:00,  6.74it/s]\n",
      "  5%|▍         | 3/65 [00:00<00:02, 28.52it/s]"
     ]
    },
    {
     "name": "stdout",
     "output_type": "stream",
     "text": [
      "avg_train_loss 0.45948342978954315\n",
      "train_f1Score 0.84375\n",
      "train_accuracy 0.84375\n",
      "\n",
      "Running Validation...\n"
     ]
    },
    {
     "name": "stderr",
     "output_type": "stream",
     "text": [
      "100%|██████████| 65/65 [00:02<00:00, 28.70it/s]\n",
      " 12%|█▎        | 1/8 [00:00<00:01,  6.94it/s]"
     ]
    },
    {
     "name": "stdout",
     "output_type": "stream",
     "text": [
      "Validation Loss:  0.6571628336723034\n",
      "Validation Accuracy:  0.6557692307692308\n",
      "\n",
      "======== Epoch 8 / 10 ========\n",
      "\n",
      "Training...\n"
     ]
    },
    {
     "name": "stderr",
     "output_type": "stream",
     "text": [
      "100%|██████████| 8/8 [00:01<00:00,  6.77it/s]\n",
      "  5%|▍         | 3/65 [00:00<00:02, 28.68it/s]"
     ]
    },
    {
     "name": "stdout",
     "output_type": "stream",
     "text": [
      "avg_train_loss 0.42109014838933945\n",
      "train_f1Score 0.8387096774193549\n",
      "train_accuracy 0.84375\n",
      "\n",
      "Running Validation...\n"
     ]
    },
    {
     "name": "stderr",
     "output_type": "stream",
     "text": [
      "100%|██████████| 65/65 [00:02<00:00, 28.65it/s]\n",
      "  2%|▏         | 3/130 [00:00<00:04, 28.81it/s]"
     ]
    },
    {
     "name": "stdout",
     "output_type": "stream",
     "text": [
      "Validation Loss:  0.6545563445641445\n",
      "Validation Accuracy:  0.6596153846153846\n",
      "Testing Model....\n"
     ]
    },
    {
     "name": "stderr",
     "output_type": "stream",
     "text": [
      "100%|██████████| 130/130 [00:04<00:00, 28.72it/s]\n",
      "  2%|▏         | 3/130 [00:00<00:04, 29.04it/s]"
     ]
    },
    {
     "name": "stdout",
     "output_type": "stream",
     "text": [
      "Best mF1Score....\n"
     ]
    },
    {
     "name": "stderr",
     "output_type": "stream",
     "text": [
      "100%|██████████| 130/130 [00:04<00:00, 28.72it/s]\n",
      "  0%|          | 0/8 [00:00<?, ?it/s]"
     ]
    },
    {
     "name": "stdout",
     "output_type": "stream",
     "text": [
      "\n",
      "======== Epoch 9 / 10 ========\n",
      "\n",
      "Training...\n"
     ]
    },
    {
     "name": "stderr",
     "output_type": "stream",
     "text": [
      "100%|██████████| 8/8 [00:01<00:00,  5.33it/s]\n",
      "  5%|▍         | 3/65 [00:00<00:02, 28.64it/s]"
     ]
    },
    {
     "name": "stdout",
     "output_type": "stream",
     "text": [
      "avg_train_loss 0.430562112480402\n",
      "train_f1Score 0.8387096774193549\n",
      "train_accuracy 0.84375\n",
      "\n",
      "Running Validation...\n"
     ]
    },
    {
     "name": "stderr",
     "output_type": "stream",
     "text": [
      "100%|██████████| 65/65 [00:02<00:00, 28.70it/s]\n",
      "  2%|▏         | 3/130 [00:00<00:04, 28.70it/s]"
     ]
    },
    {
     "name": "stdout",
     "output_type": "stream",
     "text": [
      "Validation Loss:  0.6251937630084845\n",
      "Validation Accuracy:  0.6634615384615384\n",
      "Best mF1Score....\n"
     ]
    },
    {
     "name": "stderr",
     "output_type": "stream",
     "text": [
      "100%|██████████| 130/130 [00:04<00:00, 28.72it/s]\n",
      " 12%|█▎        | 1/8 [00:00<00:01,  6.95it/s]"
     ]
    },
    {
     "name": "stdout",
     "output_type": "stream",
     "text": [
      "\n",
      "======== Epoch 10 / 10 ========\n",
      "\n",
      "Training...\n"
     ]
    },
    {
     "name": "stderr",
     "output_type": "stream",
     "text": [
      "100%|██████████| 8/8 [00:01<00:00,  6.78it/s]\n",
      "  5%|▍         | 3/65 [00:00<00:02, 28.67it/s]"
     ]
    },
    {
     "name": "stdout",
     "output_type": "stream",
     "text": [
      "avg_train_loss 0.43735844269394875\n",
      "train_f1Score 0.8387096774193549\n",
      "train_accuracy 0.84375\n",
      "\n",
      "Running Validation...\n"
     ]
    },
    {
     "name": "stderr",
     "output_type": "stream",
     "text": [
      "100%|██████████| 65/65 [00:02<00:00, 28.74it/s]\n",
      "  2%|▏         | 3/130 [00:00<00:04, 28.86it/s]"
     ]
    },
    {
     "name": "stdout",
     "output_type": "stream",
     "text": [
      "Validation Loss:  0.6244492450585732\n",
      "Validation Accuracy:  0.6653846153846154\n",
      "Testing Model....\n"
     ]
    },
    {
     "name": "stderr",
     "output_type": "stream",
     "text": [
      "100%|██████████| 130/130 [00:04<00:00, 28.72it/s]\n",
      "  2%|▏         | 3/130 [00:00<00:04, 28.93it/s]"
     ]
    },
    {
     "name": "stdout",
     "output_type": "stream",
     "text": [
      "Best mF1Score....\n"
     ]
    },
    {
     "name": "stderr",
     "output_type": "stream",
     "text": [
      "100%|██████████| 130/130 [00:04<00:00, 28.71it/s]\n"
     ]
    },
    {
     "name": "stdout",
     "output_type": "stream",
     "text": [
      "Saving Test Metrics....\n",
      "Fold:  4\n",
      "Run:  1\n",
      "\tInitialising Model....\n",
      "\tLoading Dataset....\n"
     ]
    },
    {
     "name": "stderr",
     "output_type": "stream",
     "text": [
      "100%|██████████| 64/64 [00:00<00:00, 3654.12it/s]\n",
      "100%|██████████| 523/523 [00:00<00:00, 8114.60it/s]\n",
      "100%|██████████| 1047/1047 [00:00<00:00, 8960.63it/s]\n",
      "100%|██████████| 64/64 [00:00<00:00, 939.79it/s]\n",
      "100%|██████████| 523/523 [00:00<00:00, 5534.22it/s]\n",
      "  0%|          | 0/1047 [00:00<?, ?it/s]"
     ]
    },
    {
     "name": "stdout",
     "output_type": "stream",
     "text": [
      "\tTraining Starts....\n"
     ]
    },
    {
     "name": "stderr",
     "output_type": "stream",
     "text": [
      "100%|██████████| 1047/1047 [00:00<00:00, 5247.97it/s]\n",
      "  0%|          | 0/8 [00:00<?, ?it/s]"
     ]
    },
    {
     "name": "stdout",
     "output_type": "stream",
     "text": [
      "\n",
      "======== Epoch 1 / 10 ========\n",
      "\n",
      "Training...\n"
     ]
    },
    {
     "name": "stderr",
     "output_type": "stream",
     "text": [
      "100%|██████████| 8/8 [00:02<00:00,  2.93it/s]\n",
      "  5%|▍         | 3/65 [00:00<00:02, 28.87it/s]"
     ]
    },
    {
     "name": "stdout",
     "output_type": "stream",
     "text": [
      "avg_train_loss 0.8919567316770554\n",
      "train_f1Score 0.5070422535211268\n",
      "train_accuracy 0.453125\n",
      "\n",
      "Running Validation...\n"
     ]
    },
    {
     "name": "stderr",
     "output_type": "stream",
     "text": [
      "100%|██████████| 65/65 [00:02<00:00, 28.92it/s]\n",
      "  2%|▏         | 3/130 [00:00<00:04, 29.02it/s]"
     ]
    },
    {
     "name": "stdout",
     "output_type": "stream",
     "text": [
      "Validation Loss:  0.7018490442862877\n",
      "Validation Accuracy:  0.5403846153846154\n",
      "Best mF1Score....\n"
     ]
    },
    {
     "name": "stderr",
     "output_type": "stream",
     "text": [
      "100%|██████████| 130/130 [00:04<00:00, 28.71it/s]\n",
      "  0%|          | 0/8 [00:00<?, ?it/s]"
     ]
    },
    {
     "name": "stdout",
     "output_type": "stream",
     "text": [
      "\n",
      "======== Epoch 2 / 10 ========\n",
      "\n",
      "Training...\n"
     ]
    },
    {
     "name": "stderr",
     "output_type": "stream",
     "text": [
      "100%|██████████| 8/8 [00:01<00:00,  5.97it/s]\n",
      "  5%|▍         | 3/65 [00:00<00:02, 28.41it/s]"
     ]
    },
    {
     "name": "stdout",
     "output_type": "stream",
     "text": [
      "avg_train_loss 0.6459000967442989\n",
      "train_f1Score 0.6842105263157896\n",
      "train_accuracy 0.625\n",
      "\n",
      "Running Validation...\n"
     ]
    },
    {
     "name": "stderr",
     "output_type": "stream",
     "text": [
      "100%|██████████| 65/65 [00:02<00:00, 28.52it/s]\n",
      "  2%|▏         | 3/130 [00:00<00:04, 28.11it/s]"
     ]
    },
    {
     "name": "stdout",
     "output_type": "stream",
     "text": [
      "Validation Loss:  0.6977946175978734\n",
      "Validation Accuracy:  0.5711538461538461\n",
      "Testing Model....\n"
     ]
    },
    {
     "name": "stderr",
     "output_type": "stream",
     "text": [
      "100%|██████████| 130/130 [00:04<00:00, 28.08it/s]\n",
      "  1%|          | 1/130 [00:00<00:21,  6.06it/s]"
     ]
    },
    {
     "name": "stdout",
     "output_type": "stream",
     "text": [
      "Best mF1Score....\n"
     ]
    },
    {
     "name": "stderr",
     "output_type": "stream",
     "text": [
      "100%|██████████| 130/130 [00:04<00:00, 27.55it/s]\n",
      "  0%|          | 0/8 [00:00<?, ?it/s]"
     ]
    },
    {
     "name": "stdout",
     "output_type": "stream",
     "text": [
      "\n",
      "======== Epoch 3 / 10 ========\n",
      "\n",
      "Training...\n"
     ]
    },
    {
     "name": "stderr",
     "output_type": "stream",
     "text": [
      "100%|██████████| 8/8 [00:03<00:00,  2.47it/s]\n",
      "  5%|▍         | 3/65 [00:00<00:02, 27.97it/s]"
     ]
    },
    {
     "name": "stdout",
     "output_type": "stream",
     "text": [
      "avg_train_loss 0.610968217253685\n",
      "train_f1Score 0.5531914893617021\n",
      "train_accuracy 0.671875\n",
      "\n",
      "Running Validation...\n"
     ]
    },
    {
     "name": "stderr",
     "output_type": "stream",
     "text": [
      "100%|██████████| 65/65 [00:02<00:00, 28.36it/s]\n",
      "  2%|▏         | 3/130 [00:00<00:04, 28.49it/s]"
     ]
    },
    {
     "name": "stdout",
     "output_type": "stream",
     "text": [
      "Validation Loss:  0.6658341939632709\n",
      "Validation Accuracy:  0.6211538461538462\n",
      "Best mF1Score....\n"
     ]
    },
    {
     "name": "stderr",
     "output_type": "stream",
     "text": [
      "100%|██████████| 130/130 [00:04<00:00, 28.37it/s]\n",
      "  0%|          | 0/8 [00:00<?, ?it/s]"
     ]
    },
    {
     "name": "stdout",
     "output_type": "stream",
     "text": [
      "\n",
      "======== Epoch 4 / 10 ========\n",
      "\n",
      "Training...\n"
     ]
    },
    {
     "name": "stderr",
     "output_type": "stream",
     "text": [
      "100%|██████████| 8/8 [00:02<00:00,  2.89it/s]\n",
      "  5%|▍         | 3/65 [00:00<00:02, 28.29it/s]"
     ]
    },
    {
     "name": "stdout",
     "output_type": "stream",
     "text": [
      "avg_train_loss 0.5413438864052296\n",
      "train_f1Score 0.8115942028985507\n",
      "train_accuracy 0.796875\n",
      "\n",
      "Running Validation...\n"
     ]
    },
    {
     "name": "stderr",
     "output_type": "stream",
     "text": [
      "100%|██████████| 65/65 [00:02<00:00, 28.50it/s]\n",
      "  2%|▏         | 3/130 [00:00<00:04, 28.78it/s]"
     ]
    },
    {
     "name": "stdout",
     "output_type": "stream",
     "text": [
      "Validation Loss:  0.6473337907057543\n",
      "Validation Accuracy:  0.6423076923076924\n",
      "Testing Model....\n"
     ]
    },
    {
     "name": "stderr",
     "output_type": "stream",
     "text": [
      "100%|██████████| 130/130 [00:04<00:00, 28.57it/s]\n",
      "  1%|          | 1/130 [00:00<00:22,  5.82it/s]"
     ]
    },
    {
     "name": "stdout",
     "output_type": "stream",
     "text": [
      "Best mF1Score....\n"
     ]
    },
    {
     "name": "stderr",
     "output_type": "stream",
     "text": [
      "100%|██████████| 130/130 [00:04<00:00, 27.18it/s]\n",
      "  0%|          | 0/8 [00:00<?, ?it/s]"
     ]
    },
    {
     "name": "stdout",
     "output_type": "stream",
     "text": [
      "\n",
      "======== Epoch 5 / 10 ========\n",
      "\n",
      "Training...\n"
     ]
    },
    {
     "name": "stderr",
     "output_type": "stream",
     "text": [
      "100%|██████████| 8/8 [00:03<00:00,  2.42it/s]\n",
      "  5%|▍         | 3/65 [00:00<00:02, 28.25it/s]"
     ]
    },
    {
     "name": "stdout",
     "output_type": "stream",
     "text": [
      "avg_train_loss 0.5320380441844463\n",
      "train_f1Score 0.711864406779661\n",
      "train_accuracy 0.734375\n",
      "\n",
      "Running Validation...\n"
     ]
    },
    {
     "name": "stderr",
     "output_type": "stream",
     "text": [
      "100%|██████████| 65/65 [00:02<00:00, 28.24it/s]\n",
      "  0%|          | 0/8 [00:00<?, ?it/s]"
     ]
    },
    {
     "name": "stdout",
     "output_type": "stream",
     "text": [
      "Validation Loss:  0.673508065021955\n",
      "Validation Accuracy:  0.6519230769230769\n",
      "\n",
      "======== Epoch 6 / 10 ========\n",
      "\n",
      "Training...\n"
     ]
    },
    {
     "name": "stderr",
     "output_type": "stream",
     "text": [
      "100%|██████████| 8/8 [00:03<00:00,  2.55it/s]\n",
      "  5%|▍         | 3/65 [00:00<00:02, 28.38it/s]"
     ]
    },
    {
     "name": "stdout",
     "output_type": "stream",
     "text": [
      "avg_train_loss 0.4141921289265156\n",
      "train_f1Score 0.8529411764705882\n",
      "train_accuracy 0.84375\n",
      "\n",
      "Running Validation...\n"
     ]
    },
    {
     "name": "stderr",
     "output_type": "stream",
     "text": [
      "100%|██████████| 65/65 [00:02<00:00, 28.42it/s]\n",
      "  2%|▏         | 3/130 [00:00<00:04, 28.48it/s]"
     ]
    },
    {
     "name": "stdout",
     "output_type": "stream",
     "text": [
      "Validation Loss:  0.6589013489393087\n",
      "Validation Accuracy:  0.6480769230769231\n",
      "Testing Model....\n"
     ]
    },
    {
     "name": "stderr",
     "output_type": "stream",
     "text": [
      "100%|██████████| 130/130 [00:04<00:00, 28.45it/s]\n",
      "  0%|          | 0/130 [00:00<?, ?it/s]"
     ]
    },
    {
     "name": "stdout",
     "output_type": "stream",
     "text": [
      "Best mF1Score....\n"
     ]
    },
    {
     "name": "stderr",
     "output_type": "stream",
     "text": [
      "100%|██████████| 130/130 [00:04<00:00, 28.33it/s]\n",
      "  0%|          | 0/8 [00:00<?, ?it/s]"
     ]
    },
    {
     "name": "stdout",
     "output_type": "stream",
     "text": [
      "\n",
      "======== Epoch 7 / 10 ========\n",
      "\n",
      "Training...\n"
     ]
    },
    {
     "name": "stderr",
     "output_type": "stream",
     "text": [
      "100%|██████████| 8/8 [00:04<00:00,  1.86it/s]\n",
      "  5%|▍         | 3/65 [00:00<00:02, 28.84it/s]"
     ]
    },
    {
     "name": "stdout",
     "output_type": "stream",
     "text": [
      "avg_train_loss 0.38421153277158737\n",
      "train_f1Score 0.8611111111111113\n",
      "train_accuracy 0.84375\n",
      "\n",
      "Running Validation...\n"
     ]
    },
    {
     "name": "stderr",
     "output_type": "stream",
     "text": [
      "100%|██████████| 65/65 [00:02<00:00, 28.74it/s]\n",
      "  2%|▏         | 3/130 [00:00<00:04, 28.61it/s]"
     ]
    },
    {
     "name": "stdout",
     "output_type": "stream",
     "text": [
      "Validation Loss:  0.7023839331590213\n",
      "Validation Accuracy:  0.6730769230769231\n",
      "Best mF1Score....\n"
     ]
    },
    {
     "name": "stderr",
     "output_type": "stream",
     "text": [
      "100%|██████████| 130/130 [00:04<00:00, 28.68it/s]\n",
      "  0%|          | 0/8 [00:00<?, ?it/s]"
     ]
    },
    {
     "name": "stdout",
     "output_type": "stream",
     "text": [
      "\n",
      "======== Epoch 8 / 10 ========\n",
      "\n",
      "Training...\n"
     ]
    },
    {
     "name": "stderr",
     "output_type": "stream",
     "text": [
      "100%|██████████| 8/8 [00:01<00:00,  5.69it/s]\n",
      "  5%|▍         | 3/65 [00:00<00:02, 28.79it/s]"
     ]
    },
    {
     "name": "stdout",
     "output_type": "stream",
     "text": [
      "avg_train_loss 0.30232958123087883\n",
      "train_f1Score 0.90625\n",
      "train_accuracy 0.90625\n",
      "\n",
      "Running Validation...\n"
     ]
    },
    {
     "name": "stderr",
     "output_type": "stream",
     "text": [
      "100%|██████████| 65/65 [00:02<00:00, 28.67it/s]\n",
      "  2%|▏         | 3/130 [00:00<00:04, 28.90it/s]"
     ]
    },
    {
     "name": "stdout",
     "output_type": "stream",
     "text": [
      "Validation Loss:  0.7232070063169186\n",
      "Validation Accuracy:  0.6730769230769231\n",
      "Testing Model....\n"
     ]
    },
    {
     "name": "stderr",
     "output_type": "stream",
     "text": [
      "100%|██████████| 130/130 [00:04<00:00, 28.67it/s]\n",
      "  2%|▏         | 3/130 [00:00<00:04, 28.76it/s]"
     ]
    },
    {
     "name": "stdout",
     "output_type": "stream",
     "text": [
      "Best mF1Score....\n"
     ]
    },
    {
     "name": "stderr",
     "output_type": "stream",
     "text": [
      "100%|██████████| 130/130 [00:04<00:00, 28.62it/s]\n",
      "  0%|          | 0/8 [00:00<?, ?it/s]"
     ]
    },
    {
     "name": "stdout",
     "output_type": "stream",
     "text": [
      "\n",
      "======== Epoch 9 / 10 ========\n",
      "\n",
      "Training...\n"
     ]
    },
    {
     "name": "stderr",
     "output_type": "stream",
     "text": [
      "100%|██████████| 8/8 [00:01<00:00,  4.31it/s]\n",
      "  5%|▍         | 3/65 [00:00<00:02, 28.71it/s]"
     ]
    },
    {
     "name": "stdout",
     "output_type": "stream",
     "text": [
      "avg_train_loss 0.2803298085927963\n",
      "train_f1Score 0.9180327868852458\n",
      "train_accuracy 0.921875\n",
      "\n",
      "Running Validation...\n"
     ]
    },
    {
     "name": "stderr",
     "output_type": "stream",
     "text": [
      "100%|██████████| 65/65 [00:02<00:00, 28.72it/s]\n",
      "  2%|▏         | 3/130 [00:00<00:04, 28.68it/s]"
     ]
    },
    {
     "name": "stdout",
     "output_type": "stream",
     "text": [
      "Validation Loss:  0.7150943231124144\n",
      "Validation Accuracy:  0.675\n",
      "Best mF1Score....\n"
     ]
    },
    {
     "name": "stderr",
     "output_type": "stream",
     "text": [
      "100%|██████████| 130/130 [00:04<00:00, 28.64it/s]\n",
      "  0%|          | 0/8 [00:00<?, ?it/s]"
     ]
    },
    {
     "name": "stdout",
     "output_type": "stream",
     "text": [
      "\n",
      "======== Epoch 10 / 10 ========\n",
      "\n",
      "Training...\n"
     ]
    },
    {
     "name": "stderr",
     "output_type": "stream",
     "text": [
      "100%|██████████| 8/8 [00:01<00:00,  5.40it/s]\n",
      "  5%|▍         | 3/65 [00:00<00:02, 28.77it/s]"
     ]
    },
    {
     "name": "stdout",
     "output_type": "stream",
     "text": [
      "avg_train_loss 0.26046133786439896\n",
      "train_f1Score 0.9090909090909091\n",
      "train_accuracy 0.90625\n",
      "\n",
      "Running Validation...\n"
     ]
    },
    {
     "name": "stderr",
     "output_type": "stream",
     "text": [
      "100%|██████████| 65/65 [00:02<00:00, 28.59it/s]\n",
      "  2%|▏         | 3/130 [00:00<00:04, 29.04it/s]"
     ]
    },
    {
     "name": "stdout",
     "output_type": "stream",
     "text": [
      "Validation Loss:  0.7149681669015151\n",
      "Validation Accuracy:  0.6730769230769231\n",
      "Testing Model....\n"
     ]
    },
    {
     "name": "stderr",
     "output_type": "stream",
     "text": [
      "100%|██████████| 130/130 [00:04<00:00, 28.73it/s]\n"
     ]
    },
    {
     "name": "stdout",
     "output_type": "stream",
     "text": [
      "Saving Test Metrics....\n",
      "Run:  2\n",
      "\tInitialising Model....\n",
      "\tLoading Dataset....\n"
     ]
    },
    {
     "name": "stderr",
     "output_type": "stream",
     "text": [
      "100%|██████████| 64/64 [00:00<00:00, 1067.85it/s]\n",
      "100%|██████████| 523/523 [00:00<00:00, 6327.25it/s]\n",
      "100%|██████████| 1047/1047 [00:00<00:00, 8140.96it/s]\n",
      "  0%|          | 0/64 [00:00<?, ?it/s]"
     ]
    },
    {
     "name": "stdout",
     "output_type": "stream",
     "text": [
      "\tTraining Starts....\n"
     ]
    },
    {
     "name": "stderr",
     "output_type": "stream",
     "text": [
      "100%|██████████| 64/64 [00:01<00:00, 57.18it/s]\n",
      "100%|██████████| 523/523 [00:00<00:00, 4802.96it/s]\n",
      "100%|██████████| 1047/1047 [00:00<00:00, 4837.09it/s]\n",
      "  0%|          | 0/8 [00:00<?, ?it/s]"
     ]
    },
    {
     "name": "stdout",
     "output_type": "stream",
     "text": [
      "\n",
      "======== Epoch 1 / 10 ========\n",
      "\n",
      "Training...\n"
     ]
    },
    {
     "name": "stderr",
     "output_type": "stream",
     "text": [
      "100%|██████████| 8/8 [00:02<00:00,  3.34it/s]\n",
      "  5%|▍         | 3/65 [00:00<00:02, 28.57it/s]"
     ]
    },
    {
     "name": "stdout",
     "output_type": "stream",
     "text": [
      "avg_train_loss 0.940559983253479\n",
      "train_f1Score 0.5641025641025642\n",
      "train_accuracy 0.46875\n",
      "\n",
      "Running Validation...\n"
     ]
    },
    {
     "name": "stderr",
     "output_type": "stream",
     "text": [
      "100%|██████████| 65/65 [00:02<00:00, 28.32it/s]\n",
      "  2%|▏         | 3/130 [00:00<00:05, 23.74it/s]"
     ]
    },
    {
     "name": "stdout",
     "output_type": "stream",
     "text": [
      "Validation Loss:  0.7479340489094074\n",
      "Validation Accuracy:  0.5134615384615384\n",
      "Best mF1Score....\n"
     ]
    },
    {
     "name": "stderr",
     "output_type": "stream",
     "text": [
      "100%|██████████| 130/130 [00:04<00:00, 28.36it/s]\n",
      "  0%|          | 0/8 [00:00<?, ?it/s]"
     ]
    },
    {
     "name": "stdout",
     "output_type": "stream",
     "text": [
      "\n",
      "======== Epoch 2 / 10 ========\n",
      "\n",
      "Training...\n"
     ]
    },
    {
     "name": "stderr",
     "output_type": "stream",
     "text": [
      "100%|██████████| 8/8 [00:03<00:00,  2.60it/s]\n",
      "  5%|▍         | 3/65 [00:00<00:02, 28.75it/s]"
     ]
    },
    {
     "name": "stdout",
     "output_type": "stream",
     "text": [
      "avg_train_loss 0.6499296575784683\n",
      "train_f1Score 0.6904761904761905\n",
      "train_accuracy 0.59375\n",
      "\n",
      "Running Validation...\n"
     ]
    },
    {
     "name": "stderr",
     "output_type": "stream",
     "text": [
      "100%|██████████| 65/65 [00:02<00:00, 28.55it/s]\n",
      "  2%|▏         | 3/130 [00:00<00:04, 28.65it/s]"
     ]
    },
    {
     "name": "stdout",
     "output_type": "stream",
     "text": [
      "Validation Loss:  0.6747509708771339\n",
      "Validation Accuracy:  0.5942307692307692\n",
      "Testing Model....\n"
     ]
    },
    {
     "name": "stderr",
     "output_type": "stream",
     "text": [
      "100%|██████████| 130/130 [00:04<00:00, 28.46it/s]\n",
      "  2%|▏         | 2/130 [00:00<00:08, 15.00it/s]"
     ]
    },
    {
     "name": "stdout",
     "output_type": "stream",
     "text": [
      "Best mF1Score....\n"
     ]
    },
    {
     "name": "stderr",
     "output_type": "stream",
     "text": [
      "100%|██████████| 130/130 [00:04<00:00, 28.21it/s]\n"
     ]
    },
    {
     "name": "stdout",
     "output_type": "stream",
     "text": [
      "\n",
      "======== Epoch 3 / 10 ========\n",
      "\n",
      "Training...\n"
     ]
    },
    {
     "name": "stderr",
     "output_type": "stream",
     "text": [
      "100%|██████████| 8/8 [00:11<00:00,  1.41s/it]\n",
      "  0%|          | 0/65 [00:00<?, ?it/s]"
     ]
    },
    {
     "name": "stdout",
     "output_type": "stream",
     "text": [
      "avg_train_loss 0.6560011990368366\n",
      "train_f1Score 0.4\n",
      "train_accuracy 0.625\n",
      "\n",
      "Running Validation...\n"
     ]
    },
    {
     "name": "stderr",
     "output_type": "stream",
     "text": [
      "100%|██████████| 65/65 [00:02<00:00, 28.32it/s]\n",
      " 12%|█▎        | 1/8 [00:00<00:01,  6.14it/s]"
     ]
    },
    {
     "name": "stdout",
     "output_type": "stream",
     "text": [
      "Validation Loss:  0.6987071106067071\n",
      "Validation Accuracy:  0.5692307692307692\n",
      "\n",
      "======== Epoch 4 / 10 ========\n",
      "\n",
      "Training...\n"
     ]
    },
    {
     "name": "stderr",
     "output_type": "stream",
     "text": [
      "100%|██████████| 8/8 [00:01<00:00,  6.65it/s]\n",
      "  5%|▍         | 3/65 [00:00<00:02, 28.31it/s]"
     ]
    },
    {
     "name": "stdout",
     "output_type": "stream",
     "text": [
      "avg_train_loss 0.5747559815645218\n",
      "train_f1Score 0.64\n",
      "train_accuracy 0.71875\n",
      "\n",
      "Running Validation...\n"
     ]
    },
    {
     "name": "stderr",
     "output_type": "stream",
     "text": [
      "100%|██████████| 65/65 [00:02<00:00, 28.54it/s]\n",
      "  2%|▏         | 2/130 [00:00<00:06, 18.59it/s]"
     ]
    },
    {
     "name": "stdout",
     "output_type": "stream",
     "text": [
      "Validation Loss:  0.6391444229162656\n",
      "Validation Accuracy:  0.6346153846153846\n",
      "Testing Model....\n"
     ]
    },
    {
     "name": "stderr",
     "output_type": "stream",
     "text": [
      "100%|██████████| 130/130 [00:04<00:00, 28.19it/s]\n",
      "  2%|▏         | 3/130 [00:00<00:04, 28.60it/s]"
     ]
    },
    {
     "name": "stdout",
     "output_type": "stream",
     "text": [
      "Best mF1Score....\n"
     ]
    },
    {
     "name": "stderr",
     "output_type": "stream",
     "text": [
      "100%|██████████| 130/130 [00:04<00:00, 28.55it/s]\n",
      "  0%|          | 0/8 [00:00<?, ?it/s]"
     ]
    },
    {
     "name": "stdout",
     "output_type": "stream",
     "text": [
      "\n",
      "======== Epoch 5 / 10 ========\n",
      "\n",
      "Training...\n"
     ]
    },
    {
     "name": "stderr",
     "output_type": "stream",
     "text": [
      "100%|██████████| 8/8 [00:01<00:00,  5.24it/s]\n",
      "  5%|▍         | 3/65 [00:00<00:02, 28.70it/s]"
     ]
    },
    {
     "name": "stdout",
     "output_type": "stream",
     "text": [
      "avg_train_loss 0.5248701572418213\n",
      "train_f1Score 0.8405797101449275\n",
      "train_accuracy 0.828125\n",
      "\n",
      "Running Validation...\n"
     ]
    },
    {
     "name": "stderr",
     "output_type": "stream",
     "text": [
      "100%|██████████| 65/65 [00:02<00:00, 28.48it/s]\n",
      "  2%|▏         | 3/130 [00:00<00:04, 25.68it/s]"
     ]
    },
    {
     "name": "stdout",
     "output_type": "stream",
     "text": [
      "Validation Loss:  0.633870658507714\n",
      "Validation Accuracy:  0.6480769230769231\n",
      "Best mF1Score....\n"
     ]
    },
    {
     "name": "stderr",
     "output_type": "stream",
     "text": [
      "100%|██████████| 130/130 [00:04<00:00, 28.38it/s]\n",
      "  0%|          | 0/8 [00:00<?, ?it/s]"
     ]
    },
    {
     "name": "stdout",
     "output_type": "stream",
     "text": [
      "\n",
      "======== Epoch 6 / 10 ========\n",
      "\n",
      "Training...\n"
     ]
    },
    {
     "name": "stderr",
     "output_type": "stream",
     "text": [
      "100%|██████████| 8/8 [00:02<00:00,  3.45it/s]\n",
      "  5%|▍         | 3/65 [00:00<00:02, 28.69it/s]"
     ]
    },
    {
     "name": "stdout",
     "output_type": "stream",
     "text": [
      "avg_train_loss 0.46557503193616867\n",
      "train_f1Score 0.7796610169491525\n",
      "train_accuracy 0.796875\n",
      "\n",
      "Running Validation...\n"
     ]
    },
    {
     "name": "stderr",
     "output_type": "stream",
     "text": [
      "100%|██████████| 65/65 [00:02<00:00, 28.43it/s]\n",
      "  2%|▏         | 3/130 [00:00<00:04, 28.60it/s]"
     ]
    },
    {
     "name": "stdout",
     "output_type": "stream",
     "text": [
      "Validation Loss:  0.6633303293815026\n",
      "Validation Accuracy:  0.6557692307692308\n",
      "Testing Model....\n"
     ]
    },
    {
     "name": "stderr",
     "output_type": "stream",
     "text": [
      "100%|██████████| 130/130 [00:04<00:00, 28.44it/s]\n",
      "  2%|▏         | 3/130 [00:00<00:04, 26.18it/s]"
     ]
    },
    {
     "name": "stdout",
     "output_type": "stream",
     "text": [
      "Best mF1Score....\n"
     ]
    },
    {
     "name": "stderr",
     "output_type": "stream",
     "text": [
      "100%|██████████| 130/130 [00:04<00:00, 28.46it/s]\n",
      "  0%|          | 0/8 [00:00<?, ?it/s]"
     ]
    },
    {
     "name": "stdout",
     "output_type": "stream",
     "text": [
      "\n",
      "======== Epoch 7 / 10 ========\n",
      "\n",
      "Training...\n"
     ]
    },
    {
     "name": "stderr",
     "output_type": "stream",
     "text": [
      "100%|██████████| 8/8 [00:02<00:00,  3.07it/s]\n",
      "  5%|▍         | 3/65 [00:00<00:02, 28.57it/s]"
     ]
    },
    {
     "name": "stdout",
     "output_type": "stream",
     "text": [
      "avg_train_loss 0.37520939856767654\n",
      "train_f1Score 0.870967741935484\n",
      "train_accuracy 0.875\n",
      "\n",
      "Running Validation...\n"
     ]
    },
    {
     "name": "stderr",
     "output_type": "stream",
     "text": [
      "100%|██████████| 65/65 [00:02<00:00, 28.35it/s]\n",
      "  2%|▏         | 3/130 [00:00<00:04, 28.47it/s]"
     ]
    },
    {
     "name": "stdout",
     "output_type": "stream",
     "text": [
      "Validation Loss:  0.6573405252053187\n",
      "Validation Accuracy:  0.6596153846153846\n",
      "Best mF1Score....\n"
     ]
    },
    {
     "name": "stderr",
     "output_type": "stream",
     "text": [
      "100%|██████████| 130/130 [00:04<00:00, 28.60it/s]\n",
      "  0%|          | 0/8 [00:00<?, ?it/s]"
     ]
    },
    {
     "name": "stdout",
     "output_type": "stream",
     "text": [
      "\n",
      "======== Epoch 8 / 10 ========\n",
      "\n",
      "Training...\n"
     ]
    },
    {
     "name": "stderr",
     "output_type": "stream",
     "text": [
      "100%|██████████| 8/8 [00:01<00:00,  5.99it/s]\n",
      "  5%|▍         | 3/65 [00:00<00:02, 28.70it/s]"
     ]
    },
    {
     "name": "stdout",
     "output_type": "stream",
     "text": [
      "avg_train_loss 0.3340598866343498\n",
      "train_f1Score 0.9253731343283582\n",
      "train_accuracy 0.921875\n",
      "\n",
      "Running Validation...\n"
     ]
    },
    {
     "name": "stderr",
     "output_type": "stream",
     "text": [
      "100%|██████████| 65/65 [00:02<00:00, 28.41it/s]\n",
      "  2%|▏         | 3/130 [00:00<00:04, 28.77it/s]"
     ]
    },
    {
     "name": "stdout",
     "output_type": "stream",
     "text": [
      "Validation Loss:  0.6676262355767764\n",
      "Validation Accuracy:  0.6634615384615384\n",
      "Testing Model....\n"
     ]
    },
    {
     "name": "stderr",
     "output_type": "stream",
     "text": [
      "100%|██████████| 130/130 [00:04<00:00, 27.23it/s]\n",
      "  2%|▏         | 3/130 [00:00<00:04, 28.62it/s]"
     ]
    },
    {
     "name": "stdout",
     "output_type": "stream",
     "text": [
      "Best mF1Score....\n"
     ]
    },
    {
     "name": "stderr",
     "output_type": "stream",
     "text": [
      "100%|██████████| 130/130 [00:04<00:00, 28.10it/s]\n",
      "  0%|          | 0/8 [00:00<?, ?it/s]"
     ]
    },
    {
     "name": "stdout",
     "output_type": "stream",
     "text": [
      "\n",
      "======== Epoch 9 / 10 ========\n",
      "\n",
      "Training...\n"
     ]
    },
    {
     "name": "stderr",
     "output_type": "stream",
     "text": [
      "100%|██████████| 8/8 [00:01<00:00,  5.24it/s]\n",
      "  5%|▍         | 3/65 [00:00<00:02, 28.29it/s]"
     ]
    },
    {
     "name": "stdout",
     "output_type": "stream",
     "text": [
      "avg_train_loss 0.29592033475637436\n",
      "train_f1Score 0.9411764705882353\n",
      "train_accuracy 0.9375\n",
      "\n",
      "Running Validation...\n"
     ]
    },
    {
     "name": "stderr",
     "output_type": "stream",
     "text": [
      "100%|██████████| 65/65 [00:02<00:00, 28.50it/s]\n",
      "  2%|▏         | 3/130 [00:00<00:04, 28.37it/s]"
     ]
    },
    {
     "name": "stdout",
     "output_type": "stream",
     "text": [
      "Validation Loss:  0.6837484618792167\n",
      "Validation Accuracy:  0.6653846153846154\n",
      "Best mF1Score....\n"
     ]
    },
    {
     "name": "stderr",
     "output_type": "stream",
     "text": [
      "100%|██████████| 130/130 [00:04<00:00, 28.42it/s]\n",
      "  0%|          | 0/8 [00:00<?, ?it/s]"
     ]
    },
    {
     "name": "stdout",
     "output_type": "stream",
     "text": [
      "\n",
      "======== Epoch 10 / 10 ========\n",
      "\n",
      "Training...\n"
     ]
    },
    {
     "name": "stderr",
     "output_type": "stream",
     "text": [
      "100%|██████████| 8/8 [00:01<00:00,  6.17it/s]\n",
      "  5%|▍         | 3/65 [00:00<00:02, 28.40it/s]"
     ]
    },
    {
     "name": "stdout",
     "output_type": "stream",
     "text": [
      "avg_train_loss 0.34791265055537224\n",
      "train_f1Score 0.8857142857142857\n",
      "train_accuracy 0.875\n",
      "\n",
      "Running Validation...\n"
     ]
    },
    {
     "name": "stderr",
     "output_type": "stream",
     "text": [
      "100%|██████████| 65/65 [00:02<00:00, 28.38it/s]\n",
      "  2%|▏         | 3/130 [00:00<00:04, 28.59it/s]"
     ]
    },
    {
     "name": "stdout",
     "output_type": "stream",
     "text": [
      "Validation Loss:  0.6919081318836946\n",
      "Validation Accuracy:  0.6653846153846154\n",
      "Testing Model....\n"
     ]
    },
    {
     "name": "stderr",
     "output_type": "stream",
     "text": [
      "100%|██████████| 130/130 [00:04<00:00, 28.46it/s]\n"
     ]
    },
    {
     "name": "stdout",
     "output_type": "stream",
     "text": [
      "Saving Test Metrics....\n",
      "Run:  3\n",
      "\tInitialising Model....\n",
      "\tLoading Dataset....\n"
     ]
    },
    {
     "name": "stderr",
     "output_type": "stream",
     "text": [
      "100%|██████████| 64/64 [00:00<00:00, 3445.68it/s]\n",
      "100%|██████████| 523/523 [00:00<00:00, 8439.37it/s]\n",
      "100%|██████████| 1047/1047 [00:00<00:00, 3496.37it/s]\n",
      "  0%|          | 0/64 [00:00<?, ?it/s]"
     ]
    },
    {
     "name": "stdout",
     "output_type": "stream",
     "text": [
      "\tTraining Starts....\n"
     ]
    },
    {
     "name": "stderr",
     "output_type": "stream",
     "text": [
      "100%|██████████| 64/64 [00:00<00:00, 183.68it/s]\n",
      "100%|██████████| 523/523 [00:00<00:00, 4788.01it/s]\n",
      "100%|██████████| 1047/1047 [00:00<00:00, 4825.55it/s]\n",
      "  0%|          | 0/8 [00:00<?, ?it/s]"
     ]
    },
    {
     "name": "stdout",
     "output_type": "stream",
     "text": [
      "\n",
      "======== Epoch 1 / 10 ========\n",
      "\n",
      "Training...\n"
     ]
    },
    {
     "name": "stderr",
     "output_type": "stream",
     "text": [
      "100%|██████████| 8/8 [00:03<00:00,  2.50it/s]\n",
      "  5%|▍         | 3/65 [00:00<00:02, 28.47it/s]"
     ]
    },
    {
     "name": "stdout",
     "output_type": "stream",
     "text": [
      "avg_train_loss 0.9393665716052055\n",
      "train_f1Score 0.5066666666666667\n",
      "train_accuracy 0.421875\n",
      "\n",
      "Running Validation...\n"
     ]
    },
    {
     "name": "stderr",
     "output_type": "stream",
     "text": [
      "100%|██████████| 65/65 [00:02<00:00, 28.46it/s]\n",
      "  2%|▏         | 3/130 [00:00<00:04, 28.63it/s]"
     ]
    },
    {
     "name": "stdout",
     "output_type": "stream",
     "text": [
      "Validation Loss:  0.7324158182510963\n",
      "Validation Accuracy:  0.5038461538461538\n",
      "Best mF1Score....\n"
     ]
    },
    {
     "name": "stderr",
     "output_type": "stream",
     "text": [
      "100%|██████████| 130/130 [00:04<00:00, 28.39it/s]\n",
      "  0%|          | 0/8 [00:00<?, ?it/s]"
     ]
    },
    {
     "name": "stdout",
     "output_type": "stream",
     "text": [
      "\n",
      "======== Epoch 2 / 10 ========\n",
      "\n",
      "Training...\n"
     ]
    },
    {
     "name": "stderr",
     "output_type": "stream",
     "text": [
      "100%|██████████| 8/8 [00:03<00:00,  2.01it/s]\n",
      "  5%|▍         | 3/65 [00:00<00:02, 28.62it/s]"
     ]
    },
    {
     "name": "stdout",
     "output_type": "stream",
     "text": [
      "avg_train_loss 0.6834501102566719\n",
      "train_f1Score 0.6436781609195402\n",
      "train_accuracy 0.515625\n",
      "\n",
      "Running Validation...\n"
     ]
    },
    {
     "name": "stderr",
     "output_type": "stream",
     "text": [
      "100%|██████████| 65/65 [00:02<00:00, 28.45it/s]\n",
      "  2%|▏         | 3/130 [00:00<00:04, 28.73it/s]"
     ]
    },
    {
     "name": "stdout",
     "output_type": "stream",
     "text": [
      "Validation Loss:  0.682078782411722\n",
      "Validation Accuracy:  0.5615384615384615\n",
      "Testing Model....\n"
     ]
    },
    {
     "name": "stderr",
     "output_type": "stream",
     "text": [
      "100%|██████████| 130/130 [00:04<00:00, 28.29it/s]\n",
      "  2%|▏         | 3/130 [00:00<00:04, 28.49it/s]"
     ]
    },
    {
     "name": "stdout",
     "output_type": "stream",
     "text": [
      "Best mF1Score....\n"
     ]
    },
    {
     "name": "stderr",
     "output_type": "stream",
     "text": [
      "100%|██████████| 130/130 [00:04<00:00, 28.28it/s]\n",
      "  0%|          | 0/8 [00:00<?, ?it/s]"
     ]
    },
    {
     "name": "stdout",
     "output_type": "stream",
     "text": [
      "\n",
      "======== Epoch 3 / 10 ========\n",
      "\n",
      "Training...\n"
     ]
    },
    {
     "name": "stderr",
     "output_type": "stream",
     "text": [
      "100%|██████████| 8/8 [00:01<00:00,  6.28it/s]\n",
      "  5%|▍         | 3/65 [00:00<00:02, 28.29it/s]"
     ]
    },
    {
     "name": "stdout",
     "output_type": "stream",
     "text": [
      "avg_train_loss 0.684934675693512\n",
      "train_f1Score 0.1951219512195122\n",
      "train_accuracy 0.484375\n",
      "\n",
      "Running Validation...\n"
     ]
    },
    {
     "name": "stderr",
     "output_type": "stream",
     "text": [
      "100%|██████████| 65/65 [00:02<00:00, 28.31it/s]\n",
      " 12%|█▎        | 1/8 [00:00<00:01,  6.51it/s]"
     ]
    },
    {
     "name": "stdout",
     "output_type": "stream",
     "text": [
      "Validation Loss:  0.6981267415560208\n",
      "Validation Accuracy:  0.5134615384615384\n",
      "\n",
      "======== Epoch 4 / 10 ========\n",
      "\n",
      "Training...\n"
     ]
    },
    {
     "name": "stderr",
     "output_type": "stream",
     "text": [
      "100%|██████████| 8/8 [00:01<00:00,  6.61it/s]\n",
      "  5%|▍         | 3/65 [00:00<00:02, 28.94it/s]"
     ]
    },
    {
     "name": "stdout",
     "output_type": "stream",
     "text": [
      "avg_train_loss 0.6659859642386436\n",
      "train_f1Score 0.16666666666666666\n",
      "train_accuracy 0.53125\n",
      "\n",
      "Running Validation...\n"
     ]
    },
    {
     "name": "stderr",
     "output_type": "stream",
     "text": [
      "100%|██████████| 65/65 [00:02<00:00, 28.44it/s]\n",
      "  2%|▏         | 3/130 [00:00<00:04, 28.79it/s]"
     ]
    },
    {
     "name": "stdout",
     "output_type": "stream",
     "text": [
      "Validation Loss:  0.6703084404651936\n",
      "Validation Accuracy:  0.575\n",
      "Testing Model....\n"
     ]
    },
    {
     "name": "stderr",
     "output_type": "stream",
     "text": [
      "100%|██████████| 130/130 [00:04<00:00, 28.47it/s]\n",
      "  0%|          | 0/8 [00:00<?, ?it/s]"
     ]
    },
    {
     "name": "stdout",
     "output_type": "stream",
     "text": [
      "\n",
      "======== Epoch 5 / 10 ========\n",
      "\n",
      "Training...\n"
     ]
    },
    {
     "name": "stderr",
     "output_type": "stream",
     "text": [
      "100%|██████████| 8/8 [00:01<00:00,  4.53it/s]\n",
      "  5%|▍         | 3/65 [00:00<00:02, 29.04it/s]"
     ]
    },
    {
     "name": "stdout",
     "output_type": "stream",
     "text": [
      "avg_train_loss 0.61478266492486\n",
      "train_f1Score 0.4444444444444445\n",
      "train_accuracy 0.609375\n",
      "\n",
      "Running Validation...\n"
     ]
    },
    {
     "name": "stderr",
     "output_type": "stream",
     "text": [
      "100%|██████████| 65/65 [00:02<00:00, 28.47it/s]\n",
      "  2%|▏         | 3/130 [00:00<00:04, 28.51it/s]"
     ]
    },
    {
     "name": "stdout",
     "output_type": "stream",
     "text": [
      "Validation Loss:  0.6404155437762921\n",
      "Validation Accuracy:  0.6538461538461539\n",
      "Best mF1Score....\n"
     ]
    },
    {
     "name": "stderr",
     "output_type": "stream",
     "text": [
      "100%|██████████| 130/130 [00:04<00:00, 28.52it/s]\n",
      "  0%|          | 0/8 [00:00<?, ?it/s]"
     ]
    },
    {
     "name": "stdout",
     "output_type": "stream",
     "text": [
      "\n",
      "======== Epoch 6 / 10 ========\n",
      "\n",
      "Training...\n"
     ]
    },
    {
     "name": "stderr",
     "output_type": "stream",
     "text": [
      "100%|██████████| 8/8 [00:01<00:00,  4.92it/s]\n",
      "  5%|▍         | 3/65 [00:00<00:02, 28.22it/s]"
     ]
    },
    {
     "name": "stdout",
     "output_type": "stream",
     "text": [
      "avg_train_loss 0.5382529571652412\n",
      "train_f1Score 0.7999999999999999\n",
      "train_accuracy 0.8125\n",
      "\n",
      "Running Validation...\n"
     ]
    },
    {
     "name": "stderr",
     "output_type": "stream",
     "text": [
      "100%|██████████| 65/65 [00:02<00:00, 28.34it/s]\n",
      "  2%|▏         | 3/130 [00:00<00:04, 28.61it/s]"
     ]
    },
    {
     "name": "stdout",
     "output_type": "stream",
     "text": [
      "Validation Loss:  0.6296870598426232\n",
      "Validation Accuracy:  0.6730769230769231\n",
      "Testing Model....\n"
     ]
    },
    {
     "name": "stderr",
     "output_type": "stream",
     "text": [
      "100%|██████████| 130/130 [00:04<00:00, 28.49it/s]\n",
      "  2%|▏         | 3/130 [00:00<00:04, 28.69it/s]"
     ]
    },
    {
     "name": "stdout",
     "output_type": "stream",
     "text": [
      "Best mF1Score....\n"
     ]
    },
    {
     "name": "stderr",
     "output_type": "stream",
     "text": [
      "100%|██████████| 130/130 [00:04<00:00, 27.85it/s]\n",
      "  0%|          | 0/8 [00:00<?, ?it/s]"
     ]
    },
    {
     "name": "stdout",
     "output_type": "stream",
     "text": [
      "\n",
      "======== Epoch 7 / 10 ========\n",
      "\n",
      "Training...\n"
     ]
    },
    {
     "name": "stderr",
     "output_type": "stream",
     "text": [
      "100%|██████████| 8/8 [00:01<00:00,  5.05it/s]\n",
      "  5%|▍         | 3/65 [00:00<00:02, 28.60it/s]"
     ]
    },
    {
     "name": "stdout",
     "output_type": "stream",
     "text": [
      "avg_train_loss 0.5327553823590279\n",
      "train_f1Score 0.75\n",
      "train_accuracy 0.78125\n",
      "\n",
      "Running Validation...\n"
     ]
    },
    {
     "name": "stderr",
     "output_type": "stream",
     "text": [
      "100%|██████████| 65/65 [00:02<00:00, 28.42it/s]\n",
      "  2%|▏         | 3/130 [00:00<00:04, 28.67it/s]"
     ]
    },
    {
     "name": "stdout",
     "output_type": "stream",
     "text": [
      "Validation Loss:  0.6133374149982745\n",
      "Validation Accuracy:  0.6865384615384615\n",
      "Best mF1Score....\n"
     ]
    },
    {
     "name": "stderr",
     "output_type": "stream",
     "text": [
      " 58%|█████▊    | 75/130 [00:02<00:01, 28.46it/s]"
     ]
    }
   ],
   "source": [
    "run_args={\n",
    "    'model_name':'few_shot',\n",
    "    'data_path':'Data_Processed/Let-Mi/',\n",
    "    'train_cnt':256,\n",
    "    'res_base_path': 'Results/Let-Mi/HateBert_fewData_fewShot/',\n",
    "    'model_save_path': 'Saved_Models/Let-Mi/',\n",
    "    'isArabic': True,\n",
    "}\n",
    "\n",
    "model_args={\n",
    "        'seed_val': 42,\n",
    "        'batch_size': 8,\n",
    "        'bert_model': \"Hate-speech-CNERG/dehatebert-mono-english\",\n",
    "        'learning_rate': 2e-5,\n",
    "        'epochs': 10,\n",
    "        'max_len': 128,\n",
    "        'device': 'cuda',\n",
    "        'weights': [1.0, 1.0],\n",
    "        'save_model': False,\n",
    "        'model_save_path': '',\n",
    "        'isArabic': True,\n",
    "        'model_path': \"\",\n",
    "    }\n",
    "run_part_hatebert(run_args,model_args)"
   ]
  },
  {
   "cell_type": "markdown",
   "metadata": {},
   "source": [
    "## Spanish"
   ]
  },
  {
   "cell_type": "code",
   "execution_count": null,
   "metadata": {},
   "outputs": [],
   "source": [
    "run_args={\n",
    "    'model_name':'few_shot',\n",
    "    'data_path':'Data_Processed/AMI-Spanish/',\n",
    "    'train_cnt':256,\n",
    "    'res_base_path': 'Results/AMI-Spanish/HateBert_fewData_fewShot/',\n",
    "    'model_save_path': 'Saved_Models/AMI-Spanish/',\n",
    "    'isArabic': False,\n",
    "}\n",
    "\n",
    "model_args={\n",
    "        'seed_val': 42,\n",
    "        'batch_size': 8,\n",
    "        'bert_model': \"Hate-speech-CNERG/dehatebert-mono-english\",\n",
    "        'learning_rate': 2e-5,\n",
    "        'epochs': 10,\n",
    "        'max_len': 128,\n",
    "        'device': 'cuda',\n",
    "        'weights': [1.0, 1.0],\n",
    "        'save_model': False,\n",
    "        'model_save_path': '',\n",
    "        'isArabic': False,\n",
    "        'model_path': \"\",\n",
    "    }\n",
    "run_part_hatebert(run_args,model_args)"
   ]
  },
  {
   "cell_type": "markdown",
   "metadata": {},
   "source": [
    "## Italian"
   ]
  },
  {
   "cell_type": "code",
   "execution_count": null,
   "metadata": {
    "scrolled": true
   },
   "outputs": [
    {
     "name": "stdout",
     "output_type": "stream",
     "text": [
      "Train Count:  64\n",
      "Fold:  1\n",
      "Run:  1\n",
      "\tInitialising Model....\n",
      "\tLoading Dataset....\n"
     ]
    },
    {
     "name": "stderr",
     "output_type": "stream",
     "text": [
      "100%|██████████| 128/128 [00:00<00:00, 248.18it/s]\n",
      "100%|██████████| 991/991 [00:00<00:00, 1173.55it/s]\n",
      "100%|██████████| 1983/1983 [00:01<00:00, 1203.59it/s]\n",
      "100%|██████████| 128/128 [00:00<00:00, 1103.87it/s]\n",
      "  0%|          | 0/991 [00:00<?, ?it/s]"
     ]
    },
    {
     "name": "stdout",
     "output_type": "stream",
     "text": [
      "\tTraining Starts....\n"
     ]
    },
    {
     "name": "stderr",
     "output_type": "stream",
     "text": [
      "100%|██████████| 991/991 [00:00<00:00, 3426.62it/s]\n",
      "100%|██████████| 1983/1983 [00:00<00:00, 3419.70it/s]\n",
      "  0%|          | 0/16 [00:00<?, ?it/s]"
     ]
    },
    {
     "name": "stdout",
     "output_type": "stream",
     "text": [
      "\n",
      "======== Epoch 1 / 10 ========\n",
      "\n",
      "Training...\n"
     ]
    },
    {
     "name": "stderr",
     "output_type": "stream",
     "text": [
      "100%|██████████| 16/16 [00:05<00:00,  3.16it/s]\n",
      "  2%|▏         | 2/123 [00:00<00:08, 14.17it/s]"
     ]
    },
    {
     "name": "stdout",
     "output_type": "stream",
     "text": [
      "avg_train_loss 0.8175952695310116\n",
      "train_f1Score 0.5203252032520326\n",
      "train_accuracy 0.5390625\n",
      "\n",
      "Running Validation...\n"
     ]
    },
    {
     "name": "stderr",
     "output_type": "stream",
     "text": [
      "100%|██████████| 123/123 [00:09<00:00, 13.63it/s]\n",
      "  1%|          | 2/247 [00:00<00:18, 13.48it/s]"
     ]
    },
    {
     "name": "stdout",
     "output_type": "stream",
     "text": [
      "Validation Loss:  0.7093353743960218\n",
      "Validation Accuracy:  0.5548780487804879\n",
      "Best mF1Score....\n"
     ]
    },
    {
     "name": "stderr",
     "output_type": "stream",
     "text": [
      "100%|██████████| 247/247 [00:14<00:00, 16.65it/s]\n",
      "  6%|▋         | 1/16 [00:00<00:02,  6.79it/s]"
     ]
    },
    {
     "name": "stdout",
     "output_type": "stream",
     "text": [
      "\n",
      "======== Epoch 2 / 10 ========\n",
      "\n",
      "Training...\n"
     ]
    },
    {
     "name": "stderr",
     "output_type": "stream",
     "text": [
      "100%|██████████| 16/16 [00:02<00:00,  6.61it/s]\n",
      "  2%|▏         | 3/123 [00:00<00:04, 28.30it/s]"
     ]
    },
    {
     "name": "stdout",
     "output_type": "stream",
     "text": [
      "avg_train_loss 0.6574746668338776\n",
      "train_f1Score 0.6046511627906976\n",
      "train_accuracy 0.6015625\n",
      "\n",
      "Running Validation...\n"
     ]
    },
    {
     "name": "stderr",
     "output_type": "stream",
     "text": [
      "100%|██████████| 123/123 [00:04<00:00, 27.59it/s]\n",
      "  1%|          | 3/247 [00:00<00:08, 28.48it/s]"
     ]
    },
    {
     "name": "stdout",
     "output_type": "stream",
     "text": [
      "Validation Loss:  0.6625041862328848\n",
      "Validation Accuracy:  0.5904471544715447\n",
      "Testing Model....\n"
     ]
    },
    {
     "name": "stderr",
     "output_type": "stream",
     "text": [
      "100%|██████████| 247/247 [00:09<00:00, 24.76it/s]\n",
      "  1%|          | 2/247 [00:00<00:16, 15.20it/s]"
     ]
    },
    {
     "name": "stdout",
     "output_type": "stream",
     "text": [
      "Best mF1Score....\n"
     ]
    },
    {
     "name": "stderr",
     "output_type": "stream",
     "text": [
      "100%|██████████| 247/247 [00:18<00:00, 13.50it/s]\n",
      "  0%|          | 0/16 [00:00<?, ?it/s]"
     ]
    },
    {
     "name": "stdout",
     "output_type": "stream",
     "text": [
      "\n",
      "======== Epoch 3 / 10 ========\n",
      "\n",
      "Training...\n"
     ]
    },
    {
     "name": "stderr",
     "output_type": "stream",
     "text": [
      "100%|██████████| 16/16 [00:04<00:00,  3.30it/s]\n",
      "  2%|▏         | 2/123 [00:00<00:08, 13.91it/s]"
     ]
    },
    {
     "name": "stdout",
     "output_type": "stream",
     "text": [
      "avg_train_loss 0.6201469898223877\n",
      "train_f1Score 0.6333333333333334\n",
      "train_accuracy 0.65625\n",
      "\n",
      "Running Validation...\n"
     ]
    },
    {
     "name": "stderr",
     "output_type": "stream",
     "text": [
      "100%|██████████| 123/123 [00:09<00:00, 13.31it/s]\n",
      "  1%|          | 2/247 [00:00<00:17, 13.64it/s]"
     ]
    },
    {
     "name": "stdout",
     "output_type": "stream",
     "text": [
      "Validation Loss:  0.6632768674110009\n",
      "Validation Accuracy:  0.6178861788617886\n",
      "Best mF1Score....\n"
     ]
    },
    {
     "name": "stderr",
     "output_type": "stream",
     "text": [
      " 37%|███▋      | 92/247 [00:06<00:11, 13.52it/s]"
     ]
    }
   ],
   "source": [
    "run_args={\n",
    "    'model_name':'few_shot',\n",
    "    'data_path':'Data_Processed/AMI-2020/',\n",
    "    'train_cnt':256,\n",
    "    'res_base_path': 'Results/AMI-2020/HateBert_fewData_fewShot/',\n",
    "    'model_save_path': 'Saved_Models/AMI-2020/',\n",
    "    'isArabic': False,\n",
    "}\n",
    "\n",
    "model_args={\n",
    "        'seed_val': 42,\n",
    "        'batch_size': 8,\n",
    "        'bert_model': \"Hate-speech-CNERG/dehatebert-mono-english\",\n",
    "        'learning_rate': 2e-5,\n",
    "        'epochs': 10,\n",
    "        'max_len': 128,\n",
    "        'device': 'cuda',\n",
    "        'weights': [1.0, 1.0],\n",
    "        'save_model': False,\n",
    "        'model_save_path': '',\n",
    "        'isArabic': False,\n",
    "        'model_path': \"\",\n",
    "    }\n",
    "for train_cnt in [64,128,256,512]:\n",
    "    print(\"Train Count: \",train_cnt)\n",
    "    run_part_hatebert(run_args,model_args,train_cnt)"
   ]
  },
  {
   "cell_type": "markdown",
   "metadata": {},
   "source": [
    "## Hindi"
   ]
  },
  {
   "cell_type": "code",
   "execution_count": null,
   "metadata": {},
   "outputs": [],
   "source": [
    "run_args={\n",
    "    'model_name':'few_shot',\n",
    "    'data_path':'Data_Processed/Shared_Task_hin/',\n",
    "    'train_cnt':256,\n",
    "    'res_base_path': 'Results/Shared_Task_hin/HateBert_fewData_fewShot/',\n",
    "    'model_save_path': 'Saved_Models/Shared_Task_hin/',\n",
    "    'isArabic': False,\n",
    "}\n",
    "\n",
    "model_args={\n",
    "        'seed_val': 42,\n",
    "        'batch_size': 8,\n",
    "        'bert_model': \"Hate-speech-CNERG/dehatebert-mono-english\",\n",
    "        'learning_rate': 2e-5,\n",
    "        'epochs': 10,\n",
    "        'max_len': 128,\n",
    "        'device': 'cuda:1',\n",
    "        'weights': [1.0, 1.0],\n",
    "        'save_model': False,\n",
    "        'model_save_path': '',\n",
    "        'isArabic': False,\n",
    "        'model_path': \"\",\n",
    "    }\n",
    "for train_cnt in [64,128,256,512]:\n",
    "    print(\"Train Count: \",train_cnt)\n",
    "    run_part_hatebert(run_args,model_args,train_cnt)"
   ]
  },
  {
   "cell_type": "markdown",
   "metadata": {},
   "source": [
    "## Bengali"
   ]
  },
  {
   "cell_type": "code",
   "execution_count": null,
   "metadata": {},
   "outputs": [],
   "source": [
    "run_args={\n",
    "    'model_name':'few_shot',\n",
    "    'data_path':'Data_Processed/Shared_Task_iben/',\n",
    "    'train_cnt':256,\n",
    "    'res_base_path': 'Results/Shared_Task_iben/HateBert_fewData_fewShot/',\n",
    "    'model_save_path': 'Saved_Models/Shared_Task_iben/',\n",
    "    'isArabic': False,\n",
    "}\n",
    "\n",
    "model_args={\n",
    "        'seed_val': 42,\n",
    "        'batch_size': 8,\n",
    "        'bert_model': \"Hate-speech-CNERG/dehatebert-mono-english\",\n",
    "        'learning_rate': 2e-5,\n",
    "        'epochs': 10,\n",
    "        'max_len': 128,\n",
    "        'device': 'cuda:1',\n",
    "        'weights': [1.0, 1.0],\n",
    "        'save_model': False,\n",
    "        'model_save_path': '',\n",
    "        'isArabic': False,\n",
    "        'model_path': \"\",\n",
    "    }\n",
    "for train_cnt in [64,128,256,512]:\n",
    "    print(\"Train Count: \",train_cnt)\n",
    "    run_part_hatebert(run_args,model_args,train_cnt)"
   ]
  },
  {
   "cell_type": "markdown",
   "metadata": {},
   "source": [
    "## Arabic Translated"
   ]
  },
  {
   "cell_type": "code",
   "execution_count": null,
   "metadata": {},
   "outputs": [],
   "source": [
    "run_args={\n",
    "    'model_name':'few_shot',\n",
    "    'data_path':'Data_Processed/Let-Mi_Translated/',\n",
    "    'train_cnt':256,\n",
    "    'res_base_path': 'Results/Let-Mi/translated_HateBert_fewData_fewShot/',\n",
    "    'model_save_path': 'Saved_Models/Let-Mi/',\n",
    "    'isArabic': False,\n",
    "}\n",
    "\n",
    "model_args={\n",
    "        'seed_val': 42,\n",
    "        'batch_size': 8,\n",
    "        'bert_model': \"Hate-speech-CNERG/dehatebert-mono-english\",\n",
    "        'learning_rate': 2e-5,\n",
    "        'epochs': 10,\n",
    "        'max_len': 128,\n",
    "        'device': 'cuda',\n",
    "        'weights': [1.0, 1.0],\n",
    "        'save_model': False,\n",
    "        'model_save_path': '',\n",
    "        'isArabic': False,\n",
    "        'model_path': \"\",\n",
    "    }\n",
    "run_part_hatebert(run_args,model_args)"
   ]
  },
  {
   "cell_type": "markdown",
   "metadata": {},
   "source": [
    "## Italian Translated"
   ]
  },
  {
   "cell_type": "code",
   "execution_count": null,
   "metadata": {},
   "outputs": [],
   "source": [
    "run_args={\n",
    "    'model_name':'few_shot',\n",
    "    'data_path':'Data_Processed/AMI-2020_Translated/',\n",
    "    'train_cnt':256,\n",
    "    'res_base_path': 'Results/AMI-2020/translated_HateBert_fewData_fewShot/',\n",
    "    'model_save_path': 'Saved_Models/AMI-2020/',\n",
    "    'isArabic': False,\n",
    "}\n",
    "\n",
    "model_args={\n",
    "        'seed_val': 42,\n",
    "        'batch_size': 8,\n",
    "        'bert_model': \"Hate-speech-CNERG/dehatebert-mono-english\",\n",
    "        'learning_rate': 2e-5,\n",
    "        'epochs': 10,\n",
    "        'max_len': 128,\n",
    "        'device': 'cuda',\n",
    "        'weights': [1.0, 1.0],\n",
    "        'save_model': False,\n",
    "        'model_save_path': '',\n",
    "        'isArabic': False,\n",
    "        'model_path': \"\",\n",
    "    }\n",
    "run_part_hatebert(run_args,model_args)"
   ]
  },
  {
   "cell_type": "markdown",
   "metadata": {},
   "source": [
    "## Spanish Translated"
   ]
  },
  {
   "cell_type": "code",
   "execution_count": null,
   "metadata": {
    "scrolled": true
   },
   "outputs": [
    {
     "name": "stdout",
     "output_type": "stream",
     "text": [
      "Train Count:  64\n",
      "Fold:  1\n",
      "Run:  1\n",
      "\tInitialising Model....\n"
     ]
    },
    {
     "name": "stderr",
     "output_type": "stream",
     "text": [
      "\r\n",
      "  0%|          | 0/128 [00:00<?, ?it/s]"
     ]
    },
    {
     "name": "stdout",
     "output_type": "stream",
     "text": [
      "\tLoading Dataset....\n"
     ]
    },
    {
     "name": "stderr",
     "output_type": "stream",
     "text": [
      "100%|██████████| 128/128 [00:00<00:00, 711.92it/s]\n",
      "100%|██████████| 330/330 [00:00<00:00, 788.04it/s]\n",
      "100%|██████████| 660/660 [00:00<00:00, 807.88it/s]\n",
      "100%|██████████| 128/128 [00:00<00:00, 2699.46it/s]\n",
      "100%|██████████| 330/330 [00:00<00:00, 3742.95it/s]\n",
      "  0%|          | 0/660 [00:00<?, ?it/s]"
     ]
    },
    {
     "name": "stdout",
     "output_type": "stream",
     "text": [
      "\tTraining Starts....\n"
     ]
    },
    {
     "name": "stderr",
     "output_type": "stream",
     "text": [
      "100%|██████████| 660/660 [00:00<00:00, 2900.34it/s]\n",
      "  0%|          | 0/16 [00:00<?, ?it/s]"
     ]
    },
    {
     "name": "stdout",
     "output_type": "stream",
     "text": [
      "\n",
      "======== Epoch 1 / 10 ========\n",
      "\n",
      "Training...\n"
     ]
    },
    {
     "name": "stderr",
     "output_type": "stream",
     "text": [
      " 62%|██████▎   | 10/16 [00:03<00:01,  3.16it/s]"
     ]
    }
   ],
   "source": [
    "run_args={\n",
    "    'model_name':'few_shot',\n",
    "    'data_path':'Data_Processed/AMI-Spanish_Translated/',\n",
    "    'train_cnt':256,\n",
    "    'res_base_path': 'Results/AMI-Spanish/translated_HateBert_fewData_fewShot/',\n",
    "    'model_save_path': 'Saved_Models/AMI-Spanish/',\n",
    "    'isArabic': False,\n",
    "}\n",
    "\n",
    "model_args={\n",
    "        'seed_val': 42,\n",
    "        'batch_size': 8,\n",
    "        'bert_model': \"Hate-speech-CNERG/dehatebert-mono-english\",\n",
    "        'learning_rate': 2e-5,\n",
    "        'epochs': 10,\n",
    "        'max_len': 128,\n",
    "        'device': 'cuda',\n",
    "        'weights': [1.0, 1.0],\n",
    "        'save_model': False,\n",
    "        'model_save_path': '',\n",
    "        'isArabic': False,\n",
    "        'model_path': \"\",\n",
    "    }\n",
    "for train_cnt in [64,128,256,512]:\n",
    "    print(\"Train Count: \",train_cnt)\n",
    "    run_part_hatebert(run_args,model_args,train_cnt)"
   ]
  },
  {
   "cell_type": "markdown",
   "metadata": {},
   "source": [
    "# One Shot Learning\n",
    "\n",
    "Here we are checking the performance of the model trained on the English Dataset on other Datasets and their translated versions without any finetuning"
   ]
  },
  {
   "cell_type": "markdown",
   "metadata": {},
   "source": [
    "## Utility Functions"
   ]
  },
  {
   "cell_type": "code",
   "execution_count": 2,
   "metadata": {},
   "outputs": [],
   "source": [
    "def preprocess(df,isArabic):\n",
    "    \n",
    "    X = df['Text']\n",
    "    X_new=[]\n",
    "    if(isArabic):\n",
    "        prep = ArabertPreprocessor('bert-base-arabertv02')\n",
    "        for text in tqdm(X):\n",
    "            text = prep.preprocess(text)\n",
    "            X_new.append(text)\n",
    "    else:\n",
    "        processer = Data_Preprocessing()\n",
    "        for text in tqdm(X):\n",
    "            text= processer.removeEmojis(text)\n",
    "            text = processer.removeUrls(text)\n",
    "            text=processer.removeSpecialChar(text)\n",
    "            X_new.append(text)\n",
    "\n",
    "    df['Text']=X_new\n",
    "    return df "
   ]
  },
  {
   "cell_type": "code",
   "execution_count": 3,
   "metadata": {},
   "outputs": [],
   "source": [
    "def one_shot_output(model_path,data_path,obj,args):\n",
    "    saved_model=obj.load_model(model_path,args)\n",
    "    device = torch.device(args['device'])\n",
    "    saved_model=saved_model.to(device)\n",
    "    \n",
    "    df = pd.read_csv(data_path)\n",
    "    \n",
    "    # preprocessing\n",
    "    df = preprocess(df,args['isArabic'])\n",
    "    \n",
    "    metrics = obj.run_test(saved_model,df,args)\n",
    "    \n",
    "    return metrics"
   ]
  },
  {
   "cell_type": "markdown",
   "metadata": {},
   "source": [
    "### Arabic"
   ]
  },
  {
   "cell_type": "code",
   "execution_count": 48,
   "metadata": {
    "collapsed": true
   },
   "outputs": [
    {
     "name": "stderr",
     "output_type": "stream",
     "text": [
      "Some weights of the model checkpoint at bert-base-multilingual-cased were not used when initializing BertForSequenceClassification: ['cls.predictions.bias', 'cls.predictions.transform.dense.weight', 'cls.predictions.transform.dense.bias', 'cls.predictions.decoder.weight', 'cls.seq_relationship.weight', 'cls.seq_relationship.bias', 'cls.predictions.transform.LayerNorm.weight', 'cls.predictions.transform.LayerNorm.bias']\n",
      "- This IS expected if you are initializing BertForSequenceClassification from the checkpoint of a model trained on another task or with another architecture (e.g. initializing a BertForSequenceClassification model from a BertForPreTraining model).\n",
      "- This IS NOT expected if you are initializing BertForSequenceClassification from the checkpoint of a model that you expect to be exactly identical (initializing a BertForSequenceClassification model from a BertForSequenceClassification model).\n",
      "Some weights of BertForSequenceClassification were not initialized from the model checkpoint at bert-base-multilingual-cased and are newly initialized: ['classifier.weight', 'classifier.bias']\n",
      "You should probably TRAIN this model on a down-stream task to be able to use it for predictions and inference.\n",
      "100%|██████████| 5240/5240 [00:00<00:00, 14053.52it/s]\n",
      "100%|██████████| 5240/5240 [00:01<00:00, 3739.79it/s]\n",
      "100%|██████████| 163/163 [00:27<00:00,  5.92it/s]\n"
     ]
    }
   ],
   "source": [
    "DATA_PATH = \"Data_Processed/Let-Mi/all.csv\"\n",
    "MODEL_PATH = \"Saved_Models/Shared_Task_eng_1/best_bert_5_all.pt\"\n",
    "\n",
    "args={\n",
    "        'seed_val': 42,\n",
    "        'batch_size': 8,\n",
    "        'bert_model': \"bert-base-multilingual-cased\",\n",
    "        'learning_rate': 2e-5,\n",
    "        'epochs': 10,\n",
    "        'max_len': 128,\n",
    "        'device': 'cuda',\n",
    "        'weights': [1.0, 8.0],\n",
    "        'save_model': False,\n",
    "        'model_save_path': '',\n",
    "        'name': 'bert_one_shot',\n",
    "        'isArabic': True,\n",
    "    }\n",
    "\n",
    "model = BERT(args)\n",
    "\n",
    "metrics = one_shot_output(MODEL_PATH,DATA_PATH,model,args)"
   ]
  },
  {
   "cell_type": "code",
   "execution_count": 93,
   "metadata": {},
   "outputs": [
    {
     "data": {
      "text/plain": [
       "{'Test_accuracy': 0.5080521472392638,\n",
       " 'Test_mF1Score': 0.3582618088308851,\n",
       " 'Test_f1Score': 0.04821958456973294,\n",
       " 'Test_auc': 0.5016587899692947,\n",
       " 'Test_precision': 0.5284552845528455,\n",
       " 'Test_recall': 0.025262339681305868,\n",
       " 'Test_non_hatef1Score': 0.6683040330920372,\n",
       " 'Test_non_recallScore': 0.9780552402572834,\n",
       " 'Test_non_precisionScore': 0.5075593952483801,\n",
       " 'Test_avg_loss': 1.5742717615665833}"
      ]
     },
     "execution_count": 93,
     "metadata": {},
     "output_type": "execute_result"
    }
   ],
   "source": [
    "metrics"
   ]
  },
  {
   "cell_type": "markdown",
   "metadata": {},
   "source": [
    "### Italian"
   ]
  },
  {
   "cell_type": "code",
   "execution_count": 94,
   "metadata": {
    "collapsed": true
   },
   "outputs": [
    {
     "name": "stderr",
     "output_type": "stream",
     "text": [
      "Some weights of the model checkpoint at bert-base-multilingual-cased were not used when initializing BertForSequenceClassification: ['cls.predictions.bias', 'cls.predictions.transform.dense.weight', 'cls.predictions.transform.dense.bias', 'cls.predictions.decoder.weight', 'cls.seq_relationship.weight', 'cls.seq_relationship.bias', 'cls.predictions.transform.LayerNorm.weight', 'cls.predictions.transform.LayerNorm.bias']\n",
      "- This IS expected if you are initializing BertForSequenceClassification from the checkpoint of a model trained on another task or with another architecture (e.g. initializing a BertForSequenceClassification model from a BertForPreTraining model).\n",
      "- This IS NOT expected if you are initializing BertForSequenceClassification from the checkpoint of a model that you expect to be exactly identical (initializing a BertForSequenceClassification model from a BertForSequenceClassification model).\n",
      "Some weights of BertForSequenceClassification were not initialized from the model checkpoint at bert-base-multilingual-cased and are newly initialized: ['classifier.weight', 'classifier.bias']\n",
      "You should probably TRAIN this model on a down-stream task to be able to use it for predictions and inference.\n",
      "100%|██████████| 9922/9922 [00:02<00:00, 3517.93it/s]\n",
      "100%|██████████| 9922/9922 [00:02<00:00, 4041.95it/s]\n",
      "100%|██████████| 310/310 [00:26<00:00, 11.71it/s]\n"
     ]
    }
   ],
   "source": [
    "DATA_PATH = \"Data_Processed/AMI-2020/all.csv\"\n",
    "MODEL_PATH = \"Saved_Models/Shared_Task_eng_1/best_bert_3_all.pt\"\n",
    "\n",
    "args={\n",
    "        'seed_val': 42,\n",
    "        'batch_size': 8,\n",
    "        'bert_model': \"bert-base-multilingual-cased\",\n",
    "        'learning_rate': 2e-5,\n",
    "        'epochs': 10,\n",
    "        'max_len': 128,\n",
    "        'device': 'cuda',\n",
    "        'weights': [1.0, 8.0],\n",
    "        'save_model': False,\n",
    "        'model_save_path': '',\n",
    "        'name': 'bert_one_shot',\n",
    "        'isArabic': False,\n",
    "    }\n",
    "\n",
    "model = BERT(args)\n",
    "\n",
    "metrics = one_shot_output(MODEL_PATH,DATA_PATH,model,args)"
   ]
  },
  {
   "cell_type": "code",
   "execution_count": 95,
   "metadata": {},
   "outputs": [
    {
     "data": {
      "text/plain": [
       "{'Test_accuracy': 0.4881048387096774,\n",
       " 'Test_mF1Score': 0.4206912490220223,\n",
       " 'Test_f1Score': 0.22307221542227662,\n",
       " 'Test_auc': 0.47740993693965234,\n",
       " 'Test_precision': 0.41920644048303624,\n",
       " 'Test_recall': 0.15196998123827393,\n",
       " 'Test_non_hatef1Score': 0.618310282621768,\n",
       " 'Test_non_recallScore': 0.8028498926410307,\n",
       " 'Test_non_precisionScore': 0.5027502750275028,\n",
       " 'Test_avg_loss': 1.142462940369883}"
      ]
     },
     "execution_count": 95,
     "metadata": {},
     "output_type": "execute_result"
    }
   ],
   "source": [
    "metrics"
   ]
  },
  {
   "cell_type": "markdown",
   "metadata": {},
   "source": [
    "### Hindi "
   ]
  },
  {
   "cell_type": "code",
   "execution_count": 96,
   "metadata": {
    "collapsed": true
   },
   "outputs": [
    {
     "name": "stderr",
     "output_type": "stream",
     "text": [
      "Some weights of the model checkpoint at bert-base-multilingual-cased were not used when initializing BertForSequenceClassification: ['cls.predictions.bias', 'cls.predictions.transform.dense.weight', 'cls.predictions.transform.dense.bias', 'cls.predictions.decoder.weight', 'cls.seq_relationship.weight', 'cls.seq_relationship.bias', 'cls.predictions.transform.LayerNorm.weight', 'cls.predictions.transform.LayerNorm.bias']\n",
      "- This IS expected if you are initializing BertForSequenceClassification from the checkpoint of a model trained on another task or with another architecture (e.g. initializing a BertForSequenceClassification model from a BertForPreTraining model).\n",
      "- This IS NOT expected if you are initializing BertForSequenceClassification from the checkpoint of a model that you expect to be exactly identical (initializing a BertForSequenceClassification model from a BertForSequenceClassification model).\n",
      "Some weights of BertForSequenceClassification were not initialized from the model checkpoint at bert-base-multilingual-cased and are newly initialized: ['classifier.weight', 'classifier.bias']\n",
      "You should probably TRAIN this model on a down-stream task to be able to use it for predictions and inference.\n",
      "100%|██████████| 6181/6181 [00:02<00:00, 2784.11it/s]\n",
      "100%|██████████| 6181/6181 [00:01<00:00, 3794.71it/s]\n",
      "100%|██████████| 193/193 [00:16<00:00, 11.83it/s]\n"
     ]
    }
   ],
   "source": [
    "DATA_PATH = \"Data_Processed/Shared_Task_hin/all.csv\"\n",
    "MODEL_PATH = \"Saved_Models/Shared_Task_eng_1/best_bert_3_all.pt\"\n",
    "\n",
    "args={\n",
    "        'seed_val': 42,\n",
    "        'batch_size': 8,\n",
    "        'bert_model': \"bert-base-multilingual-cased\",\n",
    "        'learning_rate': 2e-5,\n",
    "        'epochs': 10,\n",
    "        'max_len': 128,\n",
    "        'device': 'cuda',\n",
    "        'weights': [1.0, 8.0],\n",
    "        'save_model': False,\n",
    "        'model_save_path': '',\n",
    "        'name': 'bert_one_shot',\n",
    "        'isArabic': False,\n",
    "    }\n",
    "\n",
    "model = BERT(args)\n",
    "\n",
    "metrics = one_shot_output(MODEL_PATH,DATA_PATH,model,args)"
   ]
  },
  {
   "cell_type": "code",
   "execution_count": 97,
   "metadata": {},
   "outputs": [
    {
     "data": {
      "text/plain": [
       "{'Test_accuracy': 0.7639248704663213,\n",
       " 'Test_mF1Score': 0.4962449171948354,\n",
       " 'Test_f1Score': 0.12903225806451613,\n",
       " 'Test_auc': 0.5193810380413171,\n",
       " 'Test_precision': 0.3612040133779264,\n",
       " 'Test_recall': 0.07854545454545454,\n",
       " 'Test_non_hatef1Score': 0.8634575763251546,\n",
       " 'Test_non_recallScore': 0.9602166215371798,\n",
       " 'Test_non_precisionScore': 0.7844138165730815,\n",
       " 'Test_avg_loss': 0.6544648472972484}"
      ]
     },
     "execution_count": 97,
     "metadata": {},
     "output_type": "execute_result"
    }
   ],
   "source": [
    "metrics"
   ]
  },
  {
   "cell_type": "markdown",
   "metadata": {},
   "source": [
    "### Bengali "
   ]
  },
  {
   "cell_type": "code",
   "execution_count": 98,
   "metadata": {
    "collapsed": true
   },
   "outputs": [
    {
     "name": "stderr",
     "output_type": "stream",
     "text": [
      "Some weights of the model checkpoint at bert-base-multilingual-cased were not used when initializing BertForSequenceClassification: ['cls.predictions.bias', 'cls.predictions.transform.dense.weight', 'cls.predictions.transform.dense.bias', 'cls.predictions.decoder.weight', 'cls.seq_relationship.weight', 'cls.seq_relationship.bias', 'cls.predictions.transform.LayerNorm.weight', 'cls.predictions.transform.LayerNorm.bias']\n",
      "- This IS expected if you are initializing BertForSequenceClassification from the checkpoint of a model trained on another task or with another architecture (e.g. initializing a BertForSequenceClassification model from a BertForPreTraining model).\n",
      "- This IS NOT expected if you are initializing BertForSequenceClassification from the checkpoint of a model that you expect to be exactly identical (initializing a BertForSequenceClassification model from a BertForSequenceClassification model).\n",
      "Some weights of BertForSequenceClassification were not initialized from the model checkpoint at bert-base-multilingual-cased and are newly initialized: ['classifier.weight', 'classifier.bias']\n",
      "You should probably TRAIN this model on a down-stream task to be able to use it for predictions and inference.\n",
      "100%|██████████| 5971/5971 [00:01<00:00, 5454.12it/s]\n",
      "100%|██████████| 5971/5971 [00:00<00:00, 6324.69it/s]\n",
      "100%|██████████| 186/186 [00:15<00:00, 11.82it/s]\n"
     ]
    }
   ],
   "source": [
    "DATA_PATH = \"Data_Processed/Shared_Task_iben/all.csv\"\n",
    "MODEL_PATH = \"Saved_Models/Shared_Task_eng_1/best_bert_3_all.pt\"\n",
    "\n",
    "args={\n",
    "        'seed_val': 42,\n",
    "        'batch_size': 8,\n",
    "        'bert_model': \"bert-base-multilingual-cased\",\n",
    "        'learning_rate': 2e-5,\n",
    "        'epochs': 10,\n",
    "        'max_len': 128,\n",
    "        'device': 'cuda',\n",
    "        'weights': [1.0, 8.0],\n",
    "        'save_model': False,\n",
    "        'model_save_path': '',\n",
    "        'name': 'bert_one_shot',\n",
    "        'isArabic': False,\n",
    "    }\n",
    "\n",
    "model = BERT(args)\n",
    "\n",
    "metrics = one_shot_output(MODEL_PATH,DATA_PATH,model,args)"
   ]
  },
  {
   "cell_type": "code",
   "execution_count": 99,
   "metadata": {},
   "outputs": [
    {
     "data": {
      "text/plain": [
       "{'Test_accuracy': 0.811491935483871,\n",
       " 'Test_mF1Score': 0.4557765651587162,\n",
       " 'Test_f1Score': 0.015789473684210523,\n",
       " 'Test_auc': 0.5013903268056837,\n",
       " 'Test_precision': 0.2571428571428571,\n",
       " 'Test_recall': 0.008144796380090498,\n",
       " 'Test_non_hatef1Score': 0.8957636566332218,\n",
       " 'Test_non_recallScore': 0.9946358572312771,\n",
       " 'Test_non_precisionScore': 0.814770998816968,\n",
       " 'Test_avg_loss': 0.5455881597934872}"
      ]
     },
     "execution_count": 99,
     "metadata": {},
     "output_type": "execute_result"
    }
   ],
   "source": [
    "metrics"
   ]
  },
  {
   "cell_type": "markdown",
   "metadata": {},
   "source": [
    "### Spanish"
   ]
  },
  {
   "cell_type": "code",
   "execution_count": 100,
   "metadata": {
    "collapsed": true
   },
   "outputs": [
    {
     "name": "stderr",
     "output_type": "stream",
     "text": [
      "Some weights of the model checkpoint at bert-base-multilingual-cased were not used when initializing BertForSequenceClassification: ['cls.predictions.bias', 'cls.predictions.transform.dense.weight', 'cls.predictions.transform.dense.bias', 'cls.predictions.decoder.weight', 'cls.seq_relationship.weight', 'cls.seq_relationship.bias', 'cls.predictions.transform.LayerNorm.weight', 'cls.predictions.transform.LayerNorm.bias']\n",
      "- This IS expected if you are initializing BertForSequenceClassification from the checkpoint of a model trained on another task or with another architecture (e.g. initializing a BertForSequenceClassification model from a BertForPreTraining model).\n",
      "- This IS NOT expected if you are initializing BertForSequenceClassification from the checkpoint of a model that you expect to be exactly identical (initializing a BertForSequenceClassification model from a BertForSequenceClassification model).\n",
      "Some weights of BertForSequenceClassification were not initialized from the model checkpoint at bert-base-multilingual-cased and are newly initialized: ['classifier.weight', 'classifier.bias']\n",
      "You should probably TRAIN this model on a down-stream task to be able to use it for predictions and inference.\n",
      "100%|██████████| 3307/3307 [00:01<00:00, 2459.28it/s]\n",
      "100%|██████████| 3307/3307 [00:00<00:00, 3355.03it/s]\n",
      "100%|██████████| 103/103 [00:08<00:00, 11.84it/s]\n"
     ]
    }
   ],
   "source": [
    "DATA_PATH = \"Data_Processed/AMI-Spanish/all.csv\"\n",
    "MODEL_PATH = \"Saved_Models/Shared_Task_eng_1/best_bert_3_all.pt\"\n",
    "\n",
    "args={\n",
    "        'seed_val': 42,\n",
    "        'batch_size': 8,\n",
    "        'bert_model': \"bert-base-multilingual-cased\",\n",
    "        'learning_rate': 2e-5,\n",
    "        'epochs': 10,\n",
    "        'max_len': 128,\n",
    "        'device': 'cuda',\n",
    "        'weights': [1.0, 8.0],\n",
    "        'save_model': False,\n",
    "        'model_save_path': '',\n",
    "        'name': 'bert_one_shot',\n",
    "        'isArabic': False,\n",
    "    }\n",
    "\n",
    "model = BERT(args)\n",
    "\n",
    "metrics = one_shot_output(MODEL_PATH,DATA_PATH,model,args)"
   ]
  },
  {
   "cell_type": "code",
   "execution_count": 101,
   "metadata": {},
   "outputs": [
    {
     "data": {
      "text/plain": [
       "{'Test_accuracy': 0.529126213592233,\n",
       " 'Test_mF1Score': 0.4593614718614719,\n",
       " 'Test_f1Score': 0.2651515151515152,\n",
       " 'Test_auc': 0.5269658635159238,\n",
       " 'Test_precision': 0.5907172995780591,\n",
       " 'Test_recall': 0.17094017094017094,\n",
       " 'Test_non_hatef1Score': 0.6535714285714287,\n",
       " 'Test_non_recallScore': 0.8829915560916767,\n",
       " 'Test_non_precisionScore': 0.518781006378455,\n",
       " 'Test_avg_loss': 0.9959583759886547}"
      ]
     },
     "execution_count": 101,
     "metadata": {},
     "output_type": "execute_result"
    }
   ],
   "source": [
    "metrics"
   ]
  },
  {
   "cell_type": "markdown",
   "metadata": {},
   "source": [
    "### Arabic Translated "
   ]
  },
  {
   "cell_type": "code",
   "execution_count": 8,
   "metadata": {
    "collapsed": true
   },
   "outputs": [
    {
     "name": "stderr",
     "output_type": "stream",
     "text": [
      "Some weights of the model checkpoint at bert-base-multilingual-cased were not used when initializing BertForSequenceClassification: ['cls.predictions.bias', 'cls.predictions.transform.dense.weight', 'cls.predictions.transform.dense.bias', 'cls.predictions.decoder.weight', 'cls.seq_relationship.weight', 'cls.seq_relationship.bias', 'cls.predictions.transform.LayerNorm.weight', 'cls.predictions.transform.LayerNorm.bias']\n",
      "- This IS expected if you are initializing BertForSequenceClassification from the checkpoint of a model trained on another task or with another architecture (e.g. initializing a BertForSequenceClassification model from a BertForPreTraining model).\n",
      "- This IS NOT expected if you are initializing BertForSequenceClassification from the checkpoint of a model that you expect to be exactly identical (initializing a BertForSequenceClassification model from a BertForSequenceClassification model).\n",
      "Some weights of BertForSequenceClassification were not initialized from the model checkpoint at bert-base-multilingual-cased and are newly initialized: ['classifier.weight', 'classifier.bias']\n",
      "You should probably TRAIN this model on a down-stream task to be able to use it for predictions and inference.\n",
      "100%|██████████| 5240/5240 [00:01<00:00, 2814.13it/s]\n",
      "100%|██████████| 5240/5240 [00:01<00:00, 3765.77it/s]\n",
      "100%|██████████| 163/163 [00:13<00:00, 12.14it/s]\n"
     ]
    }
   ],
   "source": [
    "DATA_PATH = \"Data_Processed/Let-Mi_Translated/all.csv\"\n",
    "MODEL_PATH = \"Saved_Models/Shared_Task_eng_1/best_bert_3_all.pt\"\n",
    "\n",
    "args={\n",
    "        'seed_val': 42,\n",
    "        'batch_size': 8,\n",
    "        'bert_model': \"bert-base-multilingual-cased\",\n",
    "        'learning_rate': 2e-5,\n",
    "        'epochs': 10,\n",
    "        'max_len': 128,\n",
    "        'device': 'cuda',\n",
    "        'weights': [1.0, 8.0],\n",
    "        'save_model': False,\n",
    "        'model_save_path': '',\n",
    "        'name': 'bert_one_shot',\n",
    "        'isArabic': False,\n",
    "    }\n",
    "\n",
    "model = BERT(args)\n",
    "\n",
    "metrics = one_shot_output(MODEL_PATH,DATA_PATH,model,args)"
   ]
  },
  {
   "cell_type": "code",
   "execution_count": 9,
   "metadata": {},
   "outputs": [
    {
     "data": {
      "text/plain": [
       "{'Test_accuracy': 0.5362346625766872,\n",
       " 'Test_mF1Score': 0.4070005913777842,\n",
       " 'Test_f1Score': 0.1301690039554117,\n",
       " 'Test_auc': 0.5300651178548914,\n",
       " 'Test_precision': 0.8701923076923077,\n",
       " 'Test_recall': 0.07034589972794403,\n",
       " 'Test_non_hatef1Score': 0.6838321788001568,\n",
       " 'Test_non_recallScore': 0.9897843359818388,\n",
       " 'Test_non_precisionScore': 0.5223642172523961,\n",
       " 'Test_avg_loss': 1.1201041296947223}"
      ]
     },
     "execution_count": 9,
     "metadata": {},
     "output_type": "execute_result"
    }
   ],
   "source": [
    "metrics"
   ]
  },
  {
   "cell_type": "markdown",
   "metadata": {},
   "source": [
    "## Italian Translated"
   ]
  },
  {
   "cell_type": "code",
   "execution_count": 10,
   "metadata": {
    "collapsed": true
   },
   "outputs": [
    {
     "name": "stderr",
     "output_type": "stream",
     "text": [
      "Some weights of the model checkpoint at bert-base-multilingual-cased were not used when initializing BertForSequenceClassification: ['cls.predictions.bias', 'cls.predictions.transform.dense.weight', 'cls.predictions.transform.dense.bias', 'cls.predictions.decoder.weight', 'cls.seq_relationship.weight', 'cls.seq_relationship.bias', 'cls.predictions.transform.LayerNorm.weight', 'cls.predictions.transform.LayerNorm.bias']\n",
      "- This IS expected if you are initializing BertForSequenceClassification from the checkpoint of a model trained on another task or with another architecture (e.g. initializing a BertForSequenceClassification model from a BertForPreTraining model).\n",
      "- This IS NOT expected if you are initializing BertForSequenceClassification from the checkpoint of a model that you expect to be exactly identical (initializing a BertForSequenceClassification model from a BertForSequenceClassification model).\n",
      "Some weights of BertForSequenceClassification were not initialized from the model checkpoint at bert-base-multilingual-cased and are newly initialized: ['classifier.weight', 'classifier.bias']\n",
      "You should probably TRAIN this model on a down-stream task to be able to use it for predictions and inference.\n",
      "100%|██████████| 9922/9922 [00:02<00:00, 3646.07it/s]\n",
      "100%|██████████| 9922/9922 [00:02<00:00, 4288.16it/s]\n",
      "100%|██████████| 310/310 [00:25<00:00, 12.07it/s]\n"
     ]
    }
   ],
   "source": [
    "DATA_PATH = \"Data_Processed/AMI-2020_Translated/all.csv\"\n",
    "MODEL_PATH = \"Saved_Models/Shared_Task_eng_1/best_bert_3_all.pt\"\n",
    "\n",
    "args={\n",
    "        'seed_val': 42,\n",
    "        'batch_size': 8,\n",
    "        'bert_model': \"bert-base-multilingual-cased\",\n",
    "        'learning_rate': 2e-5,\n",
    "        'epochs': 10,\n",
    "        'max_len': 128,\n",
    "        'device': 'cuda',\n",
    "        'weights': [1.0, 8.0],\n",
    "        'save_model': False,\n",
    "        'model_save_path': '',\n",
    "        'name': 'bert_one_shot',\n",
    "        'isArabic': False,\n",
    "    }\n",
    "\n",
    "model = BERT(args)\n",
    "\n",
    "metrics = one_shot_output(MODEL_PATH,DATA_PATH,model,args)"
   ]
  },
  {
   "cell_type": "code",
   "execution_count": 11,
   "metadata": {},
   "outputs": [
    {
     "data": {
      "text/plain": [
       "{'Test_accuracy': 0.5763104838709677,\n",
       " 'Test_mF1Score': 0.551683735968867,\n",
       " 'Test_f1Score': 0.44660961158657014,\n",
       " 'Test_auc': 0.5692229849069164,\n",
       " 'Test_precision': 0.6061472480343102,\n",
       " 'Test_recall': 0.353554304773817,\n",
       " 'Test_non_hatef1Score': 0.6567578603511638,\n",
       " 'Test_non_recallScore': 0.7848916650400156,\n",
       " 'Test_non_precisionScore': 0.564588598708228,\n",
       " 'Test_avg_loss': 1.121682591784385}"
      ]
     },
     "execution_count": 11,
     "metadata": {},
     "output_type": "execute_result"
    }
   ],
   "source": [
    "metrics"
   ]
  },
  {
   "cell_type": "markdown",
   "metadata": {},
   "source": [
    "## Spanish Translated"
   ]
  },
  {
   "cell_type": "code",
   "execution_count": 12,
   "metadata": {
    "collapsed": true
   },
   "outputs": [
    {
     "name": "stderr",
     "output_type": "stream",
     "text": [
      "Some weights of the model checkpoint at bert-base-multilingual-cased were not used when initializing BertForSequenceClassification: ['cls.predictions.bias', 'cls.predictions.transform.dense.weight', 'cls.predictions.transform.dense.bias', 'cls.predictions.decoder.weight', 'cls.seq_relationship.weight', 'cls.seq_relationship.bias', 'cls.predictions.transform.LayerNorm.weight', 'cls.predictions.transform.LayerNorm.bias']\n",
      "- This IS expected if you are initializing BertForSequenceClassification from the checkpoint of a model trained on another task or with another architecture (e.g. initializing a BertForSequenceClassification model from a BertForPreTraining model).\n",
      "- This IS NOT expected if you are initializing BertForSequenceClassification from the checkpoint of a model that you expect to be exactly identical (initializing a BertForSequenceClassification model from a BertForSequenceClassification model).\n",
      "Some weights of BertForSequenceClassification were not initialized from the model checkpoint at bert-base-multilingual-cased and are newly initialized: ['classifier.weight', 'classifier.bias']\n",
      "You should probably TRAIN this model on a down-stream task to be able to use it for predictions and inference.\n",
      "100%|██████████| 3307/3307 [00:01<00:00, 2379.24it/s]\n",
      "100%|██████████| 3307/3307 [00:00<00:00, 3336.86it/s]\n",
      "100%|██████████| 103/103 [00:08<00:00, 12.08it/s]\n"
     ]
    }
   ],
   "source": [
    "DATA_PATH = \"Data_Processed/AMI-Spanish_Translated/all.csv\"\n",
    "MODEL_PATH = \"Saved_Models/Shared_Task_eng_1/best_bert_3_all.pt\"\n",
    "\n",
    "args={\n",
    "        'seed_val': 42,\n",
    "        'batch_size': 8,\n",
    "        'bert_model': \"bert-base-multilingual-cased\",\n",
    "        'learning_rate': 2e-5,\n",
    "        'epochs': 10,\n",
    "        'max_len': 128,\n",
    "        'device': 'cuda',\n",
    "        'weights': [1.0, 8.0],\n",
    "        'save_model': False,\n",
    "        'model_save_path': '',\n",
    "        'name': 'bert_one_shot',\n",
    "        'isArabic': False,\n",
    "    }\n",
    "\n",
    "model = BERT(args)\n",
    "\n",
    "metrics = one_shot_output(MODEL_PATH,DATA_PATH,model,args)"
   ]
  },
  {
   "cell_type": "code",
   "execution_count": 13,
   "metadata": {},
   "outputs": [
    {
     "data": {
      "text/plain": [
       "{'Test_accuracy': 0.6592839805825242,\n",
       " 'Test_mF1Score': 0.6561029150729152,\n",
       " 'Test_f1Score': 0.6891779684472737,\n",
       " 'Test_auc': 0.6598918773225166,\n",
       " 'Test_precision': 0.6303797468354431,\n",
       " 'Test_recall': 0.76007326007326,\n",
       " 'Test_non_hatef1Score': 0.6230278616985565,\n",
       " 'Test_non_recallScore': 0.5597104945717732,\n",
       " 'Test_non_precisionScore': 0.7024981074943225,\n",
       " 'Test_avg_loss': 0.9711520723926211}"
      ]
     },
     "execution_count": 13,
     "metadata": {},
     "output_type": "execute_result"
    }
   ],
   "source": [
    "metrics"
   ]
  },
  {
   "cell_type": "markdown",
   "metadata": {},
   "source": [
    "# Few Shot Learning\n",
    "\n",
    "Here we are checking the performance of the model trained on the English Dataset on other Datasets and their translated versions with finetuning"
   ]
  },
  {
   "cell_type": "markdown",
   "metadata": {},
   "source": [
    "## Arabic"
   ]
  },
  {
   "cell_type": "code",
   "execution_count": null,
   "metadata": {
    "collapsed": true
   },
   "outputs": [
    {
     "name": "stdout",
     "output_type": "stream",
     "text": [
      "Fold:  1\n",
      "\tInitialising Model....\n"
     ]
    },
    {
     "name": "stderr",
     "output_type": "stream",
     "text": [
      " 38%|███▊      | 1400/3670 [00:00<00:00, 13992.71it/s]"
     ]
    },
    {
     "name": "stdout",
     "output_type": "stream",
     "text": [
      "\tLoading Dataset....\n"
     ]
    },
    {
     "name": "stderr",
     "output_type": "stream",
     "text": [
      "100%|██████████| 3670/3670 [00:00<00:00, 14123.65it/s]\n",
      "100%|██████████| 523/523 [00:00<00:00, 13960.02it/s]\n",
      "100%|██████████| 1047/1047 [00:00<00:00, 14165.97it/s]\n",
      " 20%|██        | 747/3670 [00:00<00:00, 3705.02it/s]"
     ]
    },
    {
     "name": "stdout",
     "output_type": "stream",
     "text": [
      "\tTraining Starts....\n"
     ]
    },
    {
     "name": "stderr",
     "output_type": "stream",
     "text": [
      "100%|██████████| 3670/3670 [00:00<00:00, 3760.07it/s]\n",
      "100%|██████████| 523/523 [00:00<00:00, 3768.04it/s]\n",
      "100%|██████████| 1047/1047 [00:00<00:00, 3832.11it/s]\n",
      "Some weights of the model checkpoint at bert-base-multilingual-cased were not used when initializing BertForSequenceClassification: ['cls.predictions.bias', 'cls.predictions.transform.dense.weight', 'cls.predictions.transform.dense.bias', 'cls.predictions.decoder.weight', 'cls.seq_relationship.weight', 'cls.seq_relationship.bias', 'cls.predictions.transform.LayerNorm.weight', 'cls.predictions.transform.LayerNorm.bias']\n",
      "- This IS expected if you are initializing BertForSequenceClassification from the checkpoint of a model trained on another task or with another architecture (e.g. initializing a BertForSequenceClassification model from a BertForPreTraining model).\n",
      "- This IS NOT expected if you are initializing BertForSequenceClassification from the checkpoint of a model that you expect to be exactly identical (initializing a BertForSequenceClassification model from a BertForSequenceClassification model).\n",
      "Some weights of BertForSequenceClassification were not initialized from the model checkpoint at bert-base-multilingual-cased and are newly initialized: ['classifier.weight', 'classifier.bias']\n",
      "You should probably TRAIN this model on a down-stream task to be able to use it for predictions and inference.\n",
      "  0%|          | 2/458 [00:00<00:42, 10.68it/s]"
     ]
    },
    {
     "name": "stdout",
     "output_type": "stream",
     "text": [
      "\n",
      "======== Epoch 1 / 10 ========\n",
      "\n",
      "Training...\n"
     ]
    },
    {
     "name": "stderr",
     "output_type": "stream",
     "text": [
      "100%|██████████| 458/458 [00:43<00:00, 10.48it/s]\n",
      "  8%|▊         | 5/65 [00:00<00:01, 46.89it/s]"
     ]
    },
    {
     "name": "stdout",
     "output_type": "stream",
     "text": [
      "avg_train_loss 0.5556299138049632\n",
      "train_f1Score 0.7172258246405412\n",
      "train_accuracy 0.7262554585152838\n",
      "\n",
      "Running Validation...\n"
     ]
    },
    {
     "name": "stderr",
     "output_type": "stream",
     "text": [
      "100%|██████████| 65/65 [00:01<00:00, 45.97it/s]\n",
      "  0%|          | 2/458 [00:00<00:42, 10.75it/s]"
     ]
    },
    {
     "name": "stdout",
     "output_type": "stream",
     "text": [
      "Validation Loss:  0.4599911410074968\n",
      "Validation Accuracy:  0.825\n",
      "\n",
      "======== Epoch 2 / 10 ========\n",
      "\n",
      "Training...\n"
     ]
    },
    {
     "name": "stderr",
     "output_type": "stream",
     "text": [
      "100%|██████████| 458/458 [00:44<00:00, 10.28it/s]\n",
      "  8%|▊         | 5/65 [00:00<00:01, 46.89it/s]"
     ]
    },
    {
     "name": "stdout",
     "output_type": "stream",
     "text": [
      "avg_train_loss 0.3998546272060757\n",
      "train_f1Score 0.84375\n",
      "train_accuracy 0.8498908296943232\n",
      "\n",
      "Running Validation...\n"
     ]
    },
    {
     "name": "stderr",
     "output_type": "stream",
     "text": [
      "100%|██████████| 65/65 [00:01<00:00, 45.54it/s]\n",
      "  4%|▍         | 5/130 [00:00<00:02, 45.54it/s]"
     ]
    },
    {
     "name": "stdout",
     "output_type": "stream",
     "text": [
      "Validation Loss:  0.37586062114972335\n",
      "Validation Accuracy:  0.8634615384615385\n",
      "Testing Model....\n"
     ]
    },
    {
     "name": "stderr",
     "output_type": "stream",
     "text": [
      "100%|██████████| 130/130 [00:02<00:00, 45.37it/s]\n",
      "  0%|          | 2/458 [00:00<00:43, 10.42it/s]"
     ]
    },
    {
     "name": "stdout",
     "output_type": "stream",
     "text": [
      "\n",
      "======== Epoch 3 / 10 ========\n",
      "\n",
      "Training...\n"
     ]
    },
    {
     "name": "stderr",
     "output_type": "stream",
     "text": [
      "100%|██████████| 458/458 [00:44<00:00, 10.29it/s]\n",
      "  8%|▊         | 5/65 [00:00<00:01, 46.49it/s]"
     ]
    },
    {
     "name": "stdout",
     "output_type": "stream",
     "text": [
      "avg_train_loss 0.3086706751217358\n",
      "train_f1Score 0.9066740515092773\n",
      "train_accuracy 0.9080240174672489\n",
      "\n",
      "Running Validation...\n"
     ]
    },
    {
     "name": "stderr",
     "output_type": "stream",
     "text": [
      "100%|██████████| 65/65 [00:01<00:00, 45.39it/s]\n",
      "  0%|          | 2/458 [00:00<00:42, 10.74it/s]"
     ]
    },
    {
     "name": "stdout",
     "output_type": "stream",
     "text": [
      "Validation Loss:  0.7223696017494569\n",
      "Validation Accuracy:  0.8134615384615385\n",
      "\n",
      "======== Epoch 4 / 10 ========\n",
      "\n",
      "Training...\n"
     ]
    },
    {
     "name": "stderr",
     "output_type": "stream",
     "text": [
      "100%|██████████| 458/458 [00:44<00:00, 10.37it/s]\n",
      "  8%|▊         | 5/65 [00:00<00:01, 45.96it/s]"
     ]
    },
    {
     "name": "stdout",
     "output_type": "stream",
     "text": [
      "avg_train_loss 0.23343644701920482\n",
      "train_f1Score 0.9412092504876011\n",
      "train_accuracy 0.9424126637554585\n",
      "\n",
      "Running Validation...\n"
     ]
    },
    {
     "name": "stderr",
     "output_type": "stream",
     "text": [
      "100%|██████████| 65/65 [00:01<00:00, 45.32it/s]\n",
      "  4%|▍         | 5/130 [00:00<00:02, 45.67it/s]"
     ]
    },
    {
     "name": "stdout",
     "output_type": "stream",
     "text": [
      "Validation Loss:  0.61942672591943\n",
      "Validation Accuracy:  0.8615384615384616\n",
      "Testing Model....\n"
     ]
    },
    {
     "name": "stderr",
     "output_type": "stream",
     "text": [
      "100%|██████████| 130/130 [00:02<00:00, 45.27it/s]\n",
      "  0%|          | 2/458 [00:00<00:42, 10.74it/s]"
     ]
    },
    {
     "name": "stdout",
     "output_type": "stream",
     "text": [
      "\n",
      "======== Epoch 5 / 10 ========\n",
      "\n",
      "Training...\n"
     ]
    },
    {
     "name": "stderr",
     "output_type": "stream",
     "text": [
      "100%|██████████| 458/458 [00:44<00:00, 10.38it/s]\n",
      "  8%|▊         | 5/65 [00:00<00:01, 45.75it/s]"
     ]
    },
    {
     "name": "stdout",
     "output_type": "stream",
     "text": [
      "avg_train_loss 0.18935952942379178\n",
      "train_f1Score 0.9552822806036894\n",
      "train_accuracy 0.9563318777292577\n",
      "\n",
      "Running Validation...\n"
     ]
    },
    {
     "name": "stderr",
     "output_type": "stream",
     "text": [
      "100%|██████████| 65/65 [00:01<00:00, 45.29it/s]\n",
      "  0%|          | 2/458 [00:00<00:43, 10.48it/s]"
     ]
    },
    {
     "name": "stdout",
     "output_type": "stream",
     "text": [
      "Validation Loss:  0.7088674664497375\n",
      "Validation Accuracy:  0.8480769230769231\n",
      "\n",
      "======== Epoch 6 / 10 ========\n",
      "\n",
      "Training...\n"
     ]
    },
    {
     "name": "stderr",
     "output_type": "stream",
     "text": [
      "100%|██████████| 458/458 [00:43<00:00, 10.45it/s]\n",
      "  8%|▊         | 5/65 [00:00<00:01, 46.38it/s]"
     ]
    },
    {
     "name": "stdout",
     "output_type": "stream",
     "text": [
      "avg_train_loss 0.12228880167885899\n",
      "train_f1Score 0.9725533684502357\n",
      "train_accuracy 0.9729803493449781\n",
      "\n",
      "Running Validation...\n"
     ]
    },
    {
     "name": "stderr",
     "output_type": "stream",
     "text": [
      "100%|██████████| 65/65 [00:01<00:00, 45.32it/s]\n",
      "  4%|▍         | 5/130 [00:00<00:02, 45.54it/s]"
     ]
    },
    {
     "name": "stdout",
     "output_type": "stream",
     "text": [
      "Validation Loss:  0.9904291463586\n",
      "Validation Accuracy:  0.8192307692307692\n",
      "Testing Model....\n"
     ]
    },
    {
     "name": "stderr",
     "output_type": "stream",
     "text": [
      "100%|██████████| 130/130 [00:02<00:00, 45.23it/s]\n",
      "  0%|          | 2/458 [00:00<00:42, 10.64it/s]"
     ]
    },
    {
     "name": "stdout",
     "output_type": "stream",
     "text": [
      "\n",
      "======== Epoch 7 / 10 ========\n",
      "\n",
      "Training...\n"
     ]
    },
    {
     "name": "stderr",
     "output_type": "stream",
     "text": [
      "100%|██████████| 458/458 [00:43<00:00, 10.49it/s]\n",
      "  8%|▊         | 5/65 [00:00<00:01, 45.72it/s]"
     ]
    },
    {
     "name": "stdout",
     "output_type": "stream",
     "text": [
      "avg_train_loss 0.06999223077401323\n",
      "train_f1Score 0.9852654990269669\n",
      "train_accuracy 0.9855349344978166\n",
      "\n",
      "Running Validation...\n"
     ]
    },
    {
     "name": "stderr",
     "output_type": "stream",
     "text": [
      "100%|██████████| 65/65 [00:01<00:00, 45.28it/s]\n",
      "  0%|          | 2/458 [00:00<00:41, 10.95it/s]"
     ]
    },
    {
     "name": "stdout",
     "output_type": "stream",
     "text": [
      "Validation Loss:  0.823555488540576\n",
      "Validation Accuracy:  0.8673076923076923\n",
      "\n",
      "======== Epoch 8 / 10 ========\n",
      "\n",
      "Training...\n"
     ]
    },
    {
     "name": "stderr",
     "output_type": "stream",
     "text": [
      "100%|██████████| 458/458 [00:43<00:00, 10.49it/s]\n",
      "  8%|▊         | 5/65 [00:00<00:01, 46.33it/s]"
     ]
    },
    {
     "name": "stdout",
     "output_type": "stream",
     "text": [
      "avg_train_loss 0.06254166377683915\n",
      "train_f1Score 0.9880522367324257\n",
      "train_accuracy 0.988264192139738\n",
      "\n",
      "Running Validation...\n"
     ]
    },
    {
     "name": "stderr",
     "output_type": "stream",
     "text": [
      "100%|██████████| 65/65 [00:01<00:00, 45.31it/s]\n",
      "  4%|▍         | 5/130 [00:00<00:02, 45.55it/s]"
     ]
    },
    {
     "name": "stdout",
     "output_type": "stream",
     "text": [
      "Validation Loss:  0.8250347041739867\n",
      "Validation Accuracy:  0.8615384615384616\n",
      "Testing Model....\n"
     ]
    },
    {
     "name": "stderr",
     "output_type": "stream",
     "text": [
      "100%|██████████| 130/130 [00:02<00:00, 45.22it/s]\n",
      "  0%|          | 2/458 [00:00<00:41, 10.90it/s]"
     ]
    },
    {
     "name": "stdout",
     "output_type": "stream",
     "text": [
      "\n",
      "======== Epoch 9 / 10 ========\n",
      "\n",
      "Training...\n"
     ]
    },
    {
     "name": "stderr",
     "output_type": "stream",
     "text": [
      "100%|██████████| 458/458 [00:43<00:00, 10.52it/s]\n",
      "  8%|▊         | 5/65 [00:00<00:01, 45.52it/s]"
     ]
    },
    {
     "name": "stdout",
     "output_type": "stream",
     "text": [
      "avg_train_loss 0.038874188462459366\n",
      "train_f1Score 0.9930651872399445\n",
      "train_accuracy 0.9931768558951966\n",
      "\n",
      "Running Validation...\n"
     ]
    },
    {
     "name": "stderr",
     "output_type": "stream",
     "text": [
      "100%|██████████| 65/65 [00:01<00:00, 45.27it/s]\n",
      "  0%|          | 2/458 [00:00<00:41, 10.96it/s]"
     ]
    },
    {
     "name": "stdout",
     "output_type": "stream",
     "text": [
      "Validation Loss:  0.923526438153707\n",
      "Validation Accuracy:  0.8615384615384616\n",
      "\n",
      "======== Epoch 10 / 10 ========\n",
      "\n",
      "Training...\n"
     ]
    },
    {
     "name": "stderr",
     "output_type": "stream",
     "text": [
      "100%|██████████| 458/458 [00:43<00:00, 10.52it/s]\n",
      "  8%|▊         | 5/65 [00:00<00:01, 46.42it/s]"
     ]
    },
    {
     "name": "stdout",
     "output_type": "stream",
     "text": [
      "avg_train_loss 0.03439311798678215\n",
      "train_f1Score 0.9938990571270105\n",
      "train_accuracy 0.993995633187773\n",
      "\n",
      "Running Validation...\n"
     ]
    },
    {
     "name": "stderr",
     "output_type": "stream",
     "text": [
      "100%|██████████| 65/65 [00:01<00:00, 45.30it/s]\n",
      "  4%|▍         | 5/130 [00:00<00:02, 45.62it/s]"
     ]
    },
    {
     "name": "stdout",
     "output_type": "stream",
     "text": [
      "Validation Loss:  0.9544480784581257\n",
      "Validation Accuracy:  0.8576923076923076\n",
      "Testing Model....\n"
     ]
    },
    {
     "name": "stderr",
     "output_type": "stream",
     "text": [
      "100%|██████████| 130/130 [00:02<00:00, 45.19it/s]\n"
     ]
    },
    {
     "name": "stdout",
     "output_type": "stream",
     "text": [
      "Saving Test Metrics....\n",
      "Fold:  2\n",
      "\tInitialising Model....\n"
     ]
    },
    {
     "name": "stderr",
     "output_type": "stream",
     "text": [
      "\r\n",
      "  0%|          | 0/3670 [00:00<?, ?it/s]"
     ]
    },
    {
     "name": "stdout",
     "output_type": "stream",
     "text": [
      "\tLoading Dataset....\n"
     ]
    },
    {
     "name": "stderr",
     "output_type": "stream",
     "text": [
      "100%|██████████| 3670/3670 [00:00<00:00, 13010.07it/s]\n",
      "100%|██████████| 523/523 [00:00<00:00, 14167.20it/s]\n",
      "100%|██████████| 1047/1047 [00:00<00:00, 14245.01it/s]\n",
      " 20%|██        | 741/3670 [00:00<00:00, 3685.05it/s]"
     ]
    },
    {
     "name": "stdout",
     "output_type": "stream",
     "text": [
      "\tTraining Starts....\n"
     ]
    },
    {
     "name": "stderr",
     "output_type": "stream",
     "text": [
      "100%|██████████| 3670/3670 [00:00<00:00, 3780.17it/s]\n",
      "100%|██████████| 523/523 [00:00<00:00, 3825.26it/s]\n",
      "100%|██████████| 1047/1047 [00:00<00:00, 3821.32it/s]\n",
      "Some weights of the model checkpoint at bert-base-multilingual-cased were not used when initializing BertForSequenceClassification: ['cls.predictions.bias', 'cls.predictions.transform.dense.weight', 'cls.predictions.transform.dense.bias', 'cls.predictions.decoder.weight', 'cls.seq_relationship.weight', 'cls.seq_relationship.bias', 'cls.predictions.transform.LayerNorm.weight', 'cls.predictions.transform.LayerNorm.bias']\n",
      "- This IS expected if you are initializing BertForSequenceClassification from the checkpoint of a model trained on another task or with another architecture (e.g. initializing a BertForSequenceClassification model from a BertForPreTraining model).\n",
      "- This IS NOT expected if you are initializing BertForSequenceClassification from the checkpoint of a model that you expect to be exactly identical (initializing a BertForSequenceClassification model from a BertForSequenceClassification model).\n",
      "Some weights of BertForSequenceClassification were not initialized from the model checkpoint at bert-base-multilingual-cased and are newly initialized: ['classifier.weight', 'classifier.bias']\n",
      "You should probably TRAIN this model on a down-stream task to be able to use it for predictions and inference.\n",
      "  0%|          | 2/458 [00:00<00:44, 10.28it/s]"
     ]
    },
    {
     "name": "stdout",
     "output_type": "stream",
     "text": [
      "\n",
      "======== Epoch 1 / 10 ========\n",
      "\n",
      "Training...\n"
     ]
    },
    {
     "name": "stderr",
     "output_type": "stream",
     "text": [
      "100%|██████████| 458/458 [00:45<00:00, 10.17it/s]\n",
      "  8%|▊         | 5/65 [00:00<00:01, 46.06it/s]"
     ]
    },
    {
     "name": "stdout",
     "output_type": "stream",
     "text": [
      "avg_train_loss 0.5670265793540071\n",
      "train_f1Score 0.7092320966350302\n",
      "train_accuracy 0.7240720524017468\n",
      "\n",
      "Running Validation...\n"
     ]
    },
    {
     "name": "stderr",
     "output_type": "stream",
     "text": [
      "100%|██████████| 65/65 [00:01<00:00, 45.22it/s]\n",
      "  0%|          | 2/458 [00:00<00:43, 10.44it/s]"
     ]
    },
    {
     "name": "stdout",
     "output_type": "stream",
     "text": [
      "Validation Loss:  0.5088454199525027\n",
      "Validation Accuracy:  0.8115384615384615\n",
      "\n",
      "======== Epoch 2 / 10 ========\n",
      "\n",
      "Training...\n"
     ]
    },
    {
     "name": "stderr",
     "output_type": "stream",
     "text": [
      "100%|██████████| 458/458 [00:45<00:00, 10.03it/s]\n",
      "  8%|▊         | 5/65 [00:00<00:01, 45.86it/s]"
     ]
    },
    {
     "name": "stdout",
     "output_type": "stream",
     "text": [
      "avg_train_loss 0.41706864648055303\n",
      "train_f1Score 0.8320874065554917\n",
      "train_accuracy 0.8406113537117904\n",
      "\n",
      "Running Validation...\n"
     ]
    },
    {
     "name": "stderr",
     "output_type": "stream",
     "text": [
      "100%|██████████| 65/65 [00:01<00:00, 45.18it/s]\n",
      "  4%|▍         | 5/130 [00:00<00:02, 45.42it/s]"
     ]
    },
    {
     "name": "stdout",
     "output_type": "stream",
     "text": [
      "Validation Loss:  0.38866789375360195\n",
      "Validation Accuracy:  0.8557692307692307\n",
      "Testing Model....\n"
     ]
    },
    {
     "name": "stderr",
     "output_type": "stream",
     "text": [
      "100%|██████████| 130/130 [00:02<00:00, 44.51it/s]\n",
      "  0%|          | 2/458 [00:00<00:44, 10.22it/s]"
     ]
    },
    {
     "name": "stdout",
     "output_type": "stream",
     "text": [
      "\n",
      "======== Epoch 3 / 10 ========\n",
      "\n",
      "Training...\n"
     ]
    },
    {
     "name": "stderr",
     "output_type": "stream",
     "text": [
      " 77%|███████▋  | 352/458 [01:11<00:21,  4.89it/s]"
     ]
    }
   ],
   "source": [
    "run_args={\n",
    "    'model_name':'few_shot',\n",
    "    'data_path':'Data_Processed/Let-Mi/',\n",
    "    'train_cnt':256,\n",
    "    'res_base_path': 'Results/Let-Mi/fewShot/',\n",
    "    'model_save_path': 'Saved_Models/Let-Mi/',\n",
    "    'isArabic': True,\n",
    "}\n",
    "\n",
    "model_args={\n",
    "        'seed_val': 42,\n",
    "        'batch_size': 8,\n",
    "        'bert_model': \"bert-base-multilingual-cased\",\n",
    "        'learning_rate': 2e-5,\n",
    "        'epochs': 10,\n",
    "        'max_len': 128,\n",
    "        'device': 'cuda',\n",
    "        'weights': [1.0, 1.0],\n",
    "        'save_model': False,\n",
    "        'model_save_path': '',\n",
    "        'isArabic': True,\n",
    "        'model_path': \"Saved_Models/Shared_Task_eng_1/best_bert_3_all.pt\",\n",
    "    }\n",
    "run(run_args,model_args)"
   ]
  },
  {
   "cell_type": "markdown",
   "metadata": {},
   "source": [
    "## Spanish"
   ]
  },
  {
   "cell_type": "code",
   "execution_count": null,
   "metadata": {
    "collapsed": true
   },
   "outputs": [
    {
     "name": "stdout",
     "output_type": "stream",
     "text": [
      "Fold:  1\n",
      "\tInitialising Model....\n"
     ]
    },
    {
     "name": "stderr",
     "output_type": "stream",
     "text": [
      " 10%|█         | 235/2317 [00:00<00:00, 2347.45it/s]"
     ]
    },
    {
     "name": "stdout",
     "output_type": "stream",
     "text": [
      "\tLoading Dataset....\n"
     ]
    },
    {
     "name": "stderr",
     "output_type": "stream",
     "text": [
      "100%|██████████| 2317/2317 [00:00<00:00, 2369.03it/s]\n",
      "100%|██████████| 330/330 [00:00<00:00, 2426.60it/s]\n",
      "100%|██████████| 660/660 [00:00<00:00, 2445.49it/s]\n",
      " 27%|██▋       | 634/2317 [00:00<00:00, 3140.35it/s]"
     ]
    },
    {
     "name": "stdout",
     "output_type": "stream",
     "text": [
      "\tTraining Starts....\n"
     ]
    },
    {
     "name": "stderr",
     "output_type": "stream",
     "text": [
      "100%|██████████| 2317/2317 [00:00<00:00, 2776.25it/s]\n",
      "100%|██████████| 330/330 [00:00<00:00, 3354.22it/s]\n",
      "100%|██████████| 660/660 [00:00<00:00, 3318.21it/s]\n",
      "Some weights of the model checkpoint at bert-base-multilingual-cased were not used when initializing BertForSequenceClassification: ['cls.predictions.bias', 'cls.predictions.transform.dense.weight', 'cls.predictions.transform.dense.bias', 'cls.predictions.decoder.weight', 'cls.seq_relationship.weight', 'cls.seq_relationship.bias', 'cls.predictions.transform.LayerNorm.weight', 'cls.predictions.transform.LayerNorm.bias']\n",
      "- This IS expected if you are initializing BertForSequenceClassification from the checkpoint of a model trained on another task or with another architecture (e.g. initializing a BertForSequenceClassification model from a BertForPreTraining model).\n",
      "- This IS NOT expected if you are initializing BertForSequenceClassification from the checkpoint of a model that you expect to be exactly identical (initializing a BertForSequenceClassification model from a BertForSequenceClassification model).\n",
      "Some weights of BertForSequenceClassification were not initialized from the model checkpoint at bert-base-multilingual-cased and are newly initialized: ['classifier.weight', 'classifier.bias']\n",
      "You should probably TRAIN this model on a down-stream task to be able to use it for predictions and inference.\n",
      "  0%|          | 1/289 [00:00<00:54,  5.32it/s]"
     ]
    },
    {
     "name": "stdout",
     "output_type": "stream",
     "text": [
      "\n",
      "======== Epoch 1 / 10 ========\n",
      "\n",
      "Training...\n"
     ]
    },
    {
     "name": "stderr",
     "output_type": "stream",
     "text": [
      "100%|██████████| 289/289 [00:42<00:00,  6.87it/s]\n",
      " 12%|█▏        | 5/41 [00:00<00:00, 45.87it/s]"
     ]
    },
    {
     "name": "stdout",
     "output_type": "stream",
     "text": [
      "avg_train_loss 0.71527979778171\n",
      "train_f1Score 0.485999050783104\n",
      "train_accuracy 0.5315743944636678\n",
      "\n",
      "Running Validation...\n"
     ]
    },
    {
     "name": "stderr",
     "output_type": "stream",
     "text": [
      "100%|██████████| 41/41 [00:00<00:00, 44.55it/s]\n",
      "  1%|          | 2/289 [00:00<00:27, 10.29it/s]"
     ]
    },
    {
     "name": "stdout",
     "output_type": "stream",
     "text": [
      "Validation Loss:  0.6653372601764959\n",
      "Validation Accuracy:  0.6310975609756098\n",
      "\n",
      "======== Epoch 2 / 10 ========\n",
      "\n",
      "Training...\n"
     ]
    },
    {
     "name": "stderr",
     "output_type": "stream",
     "text": [
      "100%|██████████| 289/289 [00:56<00:00,  5.07it/s]\n",
      "  7%|▋         | 3/41 [00:00<00:01, 22.23it/s]"
     ]
    },
    {
     "name": "stdout",
     "output_type": "stream",
     "text": [
      "avg_train_loss 0.5959913835290394\n",
      "train_f1Score 0.7123176661264181\n",
      "train_accuracy 0.6929065743944637\n",
      "\n",
      "Running Validation...\n"
     ]
    },
    {
     "name": "stderr",
     "output_type": "stream",
     "text": [
      "100%|██████████| 41/41 [00:01<00:00, 20.87it/s]\n",
      "  4%|▎         | 3/82 [00:00<00:03, 20.48it/s]"
     ]
    },
    {
     "name": "stdout",
     "output_type": "stream",
     "text": [
      "Validation Loss:  0.5722530062605695\n",
      "Validation Accuracy:  0.7317073170731707\n",
      "Testing Model....\n"
     ]
    },
    {
     "name": "stderr",
     "output_type": "stream",
     "text": [
      "100%|██████████| 82/82 [00:04<00:00, 19.98it/s]\n",
      "  0%|          | 1/289 [00:00<00:57,  5.02it/s]"
     ]
    },
    {
     "name": "stdout",
     "output_type": "stream",
     "text": [
      "\n",
      "======== Epoch 3 / 10 ========\n",
      "\n",
      "Training...\n"
     ]
    },
    {
     "name": "stderr",
     "output_type": "stream",
     "text": [
      "100%|██████████| 289/289 [00:59<00:00,  4.83it/s]\n",
      "  5%|▍         | 2/41 [00:00<00:01, 19.52it/s]"
     ]
    },
    {
     "name": "stdout",
     "output_type": "stream",
     "text": [
      "avg_train_loss 0.5192106330064754\n",
      "train_f1Score 0.7799747580984433\n",
      "train_accuracy 0.7737889273356401\n",
      "\n",
      "Running Validation...\n"
     ]
    },
    {
     "name": "stderr",
     "output_type": "stream",
     "text": [
      " 78%|███████▊  | 32/41 [00:01<00:00, 19.92it/s]"
     ]
    }
   ],
   "source": [
    "run_args={\n",
    "    'model_name':'few_shot',\n",
    "    'data_path':'Data_Processed/AMI-Spanish/',\n",
    "    'train_cnt':256,\n",
    "    'res_base_path': 'Results/AMI-Spanish/fewShot/',\n",
    "    'model_save_path': 'Saved_Models/AMI-Spanish/',\n",
    "    'isArabic': False,\n",
    "}\n",
    "\n",
    "model_args={\n",
    "        'seed_val': 42,\n",
    "        'batch_size': 8,\n",
    "        'bert_model': \"bert-base-multilingual-cased\",\n",
    "        'learning_rate': 2e-5,\n",
    "        'epochs': 10,\n",
    "        'max_len': 128,\n",
    "        'device': 'cuda',\n",
    "        'weights': [1.0, 1.0],\n",
    "        'save_model': False,\n",
    "        'model_save_path': '',\n",
    "        'isArabic': False,\n",
    "        'model_path': \"Saved_Models/Shared_Task_eng_1/best_bert_3_all.pt\",\n",
    "    }\n",
    "run(run_args,model_args)"
   ]
  },
  {
   "cell_type": "markdown",
   "metadata": {},
   "source": [
    "## Hindi"
   ]
  },
  {
   "cell_type": "code",
   "execution_count": null,
   "metadata": {
    "collapsed": true
   },
   "outputs": [
    {
     "name": "stdout",
     "output_type": "stream",
     "text": [
      "Fold:  1\n",
      "\tInitialising Model....\n"
     ]
    },
    {
     "name": "stderr",
     "output_type": "stream",
     "text": [
      "  7%|▋         | 285/4327 [00:00<00:01, 2839.92it/s]"
     ]
    },
    {
     "name": "stdout",
     "output_type": "stream",
     "text": [
      "\tLoading Dataset....\n"
     ]
    },
    {
     "name": "stderr",
     "output_type": "stream",
     "text": [
      "100%|██████████| 4327/4327 [00:01<00:00, 2755.89it/s]\n",
      "100%|██████████| 618/618 [00:00<00:00, 2824.46it/s]\n",
      "100%|██████████| 1236/1236 [00:00<00:00, 2763.65it/s]\n",
      " 17%|█▋        | 749/4327 [00:00<00:00, 3752.48it/s]"
     ]
    },
    {
     "name": "stdout",
     "output_type": "stream",
     "text": [
      "\tTraining Starts....\n"
     ]
    },
    {
     "name": "stderr",
     "output_type": "stream",
     "text": [
      "100%|██████████| 4327/4327 [00:01<00:00, 3812.91it/s]\n",
      "100%|██████████| 618/618 [00:00<00:00, 3804.58it/s]\n",
      "100%|██████████| 1236/1236 [00:00<00:00, 3946.10it/s]\n",
      "Some weights of the model checkpoint at bert-base-multilingual-cased were not used when initializing BertForSequenceClassification: ['cls.predictions.bias', 'cls.predictions.transform.dense.weight', 'cls.predictions.transform.dense.bias', 'cls.predictions.decoder.weight', 'cls.seq_relationship.weight', 'cls.seq_relationship.bias', 'cls.predictions.transform.LayerNorm.weight', 'cls.predictions.transform.LayerNorm.bias']\n",
      "- This IS expected if you are initializing BertForSequenceClassification from the checkpoint of a model trained on another task or with another architecture (e.g. initializing a BertForSequenceClassification model from a BertForPreTraining model).\n",
      "- This IS NOT expected if you are initializing BertForSequenceClassification from the checkpoint of a model that you expect to be exactly identical (initializing a BertForSequenceClassification model from a BertForSequenceClassification model).\n",
      "Some weights of BertForSequenceClassification were not initialized from the model checkpoint at bert-base-multilingual-cased and are newly initialized: ['classifier.weight', 'classifier.bias']\n",
      "You should probably TRAIN this model on a down-stream task to be able to use it for predictions and inference.\n",
      "  0%|          | 2/540 [00:00<00:53, 10.09it/s]"
     ]
    },
    {
     "name": "stdout",
     "output_type": "stream",
     "text": [
      "\n",
      "======== Epoch 1 / 10 ========\n",
      "\n",
      "Training...\n"
     ]
    },
    {
     "name": "stderr",
     "output_type": "stream",
     "text": [
      "100%|██████████| 540/540 [00:51<00:00, 10.44it/s]\n",
      "  6%|▋         | 5/77 [00:00<00:01, 48.02it/s]"
     ]
    },
    {
     "name": "stdout",
     "output_type": "stream",
     "text": [
      "avg_train_loss 0.6370941555748383\n",
      "train_f1Score 0.46449957228400346\n",
      "train_accuracy 0.7101851851851851\n",
      "\n",
      "Running Validation...\n"
     ]
    },
    {
     "name": "stderr",
     "output_type": "stream",
     "text": [
      "100%|██████████| 77/77 [00:01<00:00, 45.94it/s]\n",
      "  0%|          | 2/540 [00:00<00:50, 10.67it/s]"
     ]
    },
    {
     "name": "stdout",
     "output_type": "stream",
     "text": [
      "Validation Loss:  0.44010104761495217\n",
      "Validation Accuracy:  0.8652597402597403\n",
      "\n",
      "======== Epoch 2 / 10 ========\n",
      "\n",
      "Training...\n"
     ]
    },
    {
     "name": "stderr",
     "output_type": "stream",
     "text": [
      "100%|██████████| 540/540 [00:52<00:00, 10.24it/s]\n",
      "  6%|▋         | 5/77 [00:00<00:01, 47.08it/s]"
     ]
    },
    {
     "name": "stdout",
     "output_type": "stream",
     "text": [
      "avg_train_loss 0.4936746807424007\n",
      "train_f1Score 0.6772777167947311\n",
      "train_accuracy 0.8638888888888889\n",
      "\n",
      "Running Validation...\n"
     ]
    },
    {
     "name": "stderr",
     "output_type": "stream",
     "text": [
      "100%|██████████| 77/77 [00:01<00:00, 45.59it/s]\n",
      "  3%|▎         | 5/154 [00:00<00:03, 45.72it/s]"
     ]
    },
    {
     "name": "stdout",
     "output_type": "stream",
     "text": [
      "Validation Loss:  0.4073442340671242\n",
      "Validation Accuracy:  0.8603896103896104\n",
      "Testing Model....\n"
     ]
    },
    {
     "name": "stderr",
     "output_type": "stream",
     "text": [
      "100%|██████████| 154/154 [00:03<00:00, 45.45it/s]\n",
      "  0%|          | 2/540 [00:00<00:51, 10.53it/s]"
     ]
    },
    {
     "name": "stdout",
     "output_type": "stream",
     "text": [
      "\n",
      "======== Epoch 3 / 10 ========\n",
      "\n",
      "Training...\n"
     ]
    },
    {
     "name": "stderr",
     "output_type": "stream",
     "text": [
      "100%|██████████| 540/540 [00:52<00:00, 10.26it/s]\n",
      "  6%|▋         | 5/77 [00:00<00:01, 46.40it/s]"
     ]
    },
    {
     "name": "stdout",
     "output_type": "stream",
     "text": [
      "avg_train_loss 0.5174121857638022\n",
      "train_f1Score 0.7406989853438556\n",
      "train_accuracy 0.8935185185185185\n",
      "\n",
      "Running Validation...\n"
     ]
    },
    {
     "name": "stderr",
     "output_type": "stream",
     "text": [
      "100%|██████████| 77/77 [00:01<00:00, 45.49it/s]\n",
      "  0%|          | 2/540 [00:00<00:50, 10.57it/s]"
     ]
    },
    {
     "name": "stdout",
     "output_type": "stream",
     "text": [
      "Validation Loss:  0.33339020048643087\n",
      "Validation Accuracy:  0.887987012987013\n",
      "\n",
      "======== Epoch 4 / 10 ========\n",
      "\n",
      "Training...\n"
     ]
    },
    {
     "name": "stderr",
     "output_type": "stream",
     "text": [
      "100%|██████████| 540/540 [00:52<00:00, 10.20it/s]\n",
      "  6%|▋         | 5/77 [00:00<00:01, 46.02it/s]"
     ]
    },
    {
     "name": "stdout",
     "output_type": "stream",
     "text": [
      "avg_train_loss 0.4568759047891945\n",
      "train_f1Score 0.8024622271964185\n",
      "train_accuracy 0.9182870370370371\n",
      "\n",
      "Running Validation...\n"
     ]
    },
    {
     "name": "stderr",
     "output_type": "stream",
     "text": [
      "100%|██████████| 77/77 [00:01<00:00, 45.04it/s]\n",
      "  3%|▎         | 5/154 [00:00<00:03, 45.14it/s]"
     ]
    },
    {
     "name": "stdout",
     "output_type": "stream",
     "text": [
      "Validation Loss:  0.47130339979738384\n",
      "Validation Accuracy:  0.8814935064935064\n",
      "Testing Model....\n"
     ]
    },
    {
     "name": "stderr",
     "output_type": "stream",
     "text": [
      "100%|██████████| 154/154 [00:03<00:00, 39.14it/s]\n",
      "  0%|          | 1/540 [00:00<01:42,  5.28it/s]"
     ]
    },
    {
     "name": "stdout",
     "output_type": "stream",
     "text": [
      "\n",
      "======== Epoch 5 / 10 ========\n",
      "\n",
      "Training...\n"
     ]
    },
    {
     "name": "stderr",
     "output_type": "stream",
     "text": [
      " 24%|██▍       | 130/540 [00:26<01:23,  4.93it/s]"
     ]
    }
   ],
   "source": [
    "run_args={\n",
    "    'model_name':'few_shot',\n",
    "    'data_path':'Data_Processed/Shared_Task_hin/',\n",
    "    'train_cnt':256,\n",
    "    'res_base_path': 'Results/Shared_Task_hin/fewShot/',\n",
    "    'model_save_path': 'Saved_Models/Shared_Task_hin/',\n",
    "    'isArabic': False,\n",
    "}\n",
    "\n",
    "model_args={\n",
    "        'seed_val': 42,\n",
    "        'batch_size': 8,\n",
    "        'bert_model': \"bert-base-multilingual-cased\",\n",
    "        'learning_rate': 2e-5,\n",
    "        'epochs': 10,\n",
    "        'max_len': 128,\n",
    "        'device': 'cuda',\n",
    "        'weights': [1.0, 4.5],\n",
    "        'save_model': False,\n",
    "        'model_save_path': '',\n",
    "        'isArabic': False,\n",
    "        'model_path': \"Saved_Models/Shared_Task_eng_1/best_bert_3_all.pt\",\n",
    "    }\n",
    "run(run_args,model_args)"
   ]
  },
  {
   "cell_type": "markdown",
   "metadata": {},
   "source": [
    "## Arabic Translated"
   ]
  },
  {
   "cell_type": "code",
   "execution_count": null,
   "metadata": {
    "collapsed": true
   },
   "outputs": [
    {
     "name": "stdout",
     "output_type": "stream",
     "text": [
      "Fold:  1\n",
      "\tInitialising Model....\n"
     ]
    },
    {
     "name": "stderr",
     "output_type": "stream",
     "text": [
      "\n",
      "\n",
      "  0%|          | 0/3670 [00:00<?, ?it/s]\u001b[A\u001b[A\n",
      "\n",
      "  8%|▊         | 300/3670 [00:00<00:01, 2993.71it/s]\u001b[A\u001b[A"
     ]
    },
    {
     "name": "stdout",
     "output_type": "stream",
     "text": [
      "\tLoading Dataset....\n"
     ]
    },
    {
     "name": "stderr",
     "output_type": "stream",
     "text": [
      "\n",
      "\n",
      " 16%|█▋        | 599/3670 [00:00<00:01, 2988.03it/s]\u001b[A\u001b[A\n",
      "\n",
      " 24%|██▍       | 881/3670 [00:00<00:00, 2930.88it/s]\u001b[A\u001b[A\n",
      "\n",
      " 31%|███▏      | 1148/3670 [00:00<00:00, 2847.27it/s]\u001b[A\u001b[A\n",
      "\n",
      " 39%|███▉      | 1432/3670 [00:00<00:00, 2843.52it/s]\u001b[A\u001b[A\n",
      "\n",
      " 47%|████▋     | 1723/3670 [00:00<00:00, 2861.46it/s]\u001b[A\u001b[A\n",
      "\n",
      " 55%|█████▌    | 2026/3670 [00:00<00:00, 2909.73it/s]\u001b[A\u001b[A\n",
      "\n",
      " 63%|██████▎   | 2305/3670 [00:00<00:00, 2872.64it/s]\u001b[A\u001b[A\n",
      "\n",
      " 70%|███████   | 2584/3670 [00:00<00:00, 2846.57it/s]\u001b[A\u001b[A\n",
      "\n",
      " 78%|███████▊  | 2865/3670 [00:01<00:00, 2834.45it/s]\u001b[A\u001b[A\n",
      "\n",
      " 86%|████████▌ | 3145/3670 [00:01<00:00, 2821.82it/s]\u001b[A\u001b[A\n",
      "\n",
      "100%|██████████| 3670/3670 [00:01<00:00, 2853.45it/s]\u001b[A\u001b[A\n",
      "\n",
      "\n",
      "  0%|          | 0/523 [00:00<?, ?it/s]\u001b[A\u001b[A\n",
      "\n",
      "100%|██████████| 523/523 [00:00<00:00, 2837.61it/s]\u001b[A\u001b[A\n",
      "\n",
      "\n",
      "  0%|          | 0/1047 [00:00<?, ?it/s]\u001b[A\u001b[A\n",
      "\n",
      " 28%|██▊       | 298/1047 [00:00<00:00, 2976.26it/s]\u001b[A\u001b[A\n",
      "\n",
      " 56%|█████▌    | 584/1047 [00:00<00:00, 2938.63it/s]\u001b[A\u001b[A\n",
      "\n",
      "100%|██████████| 1047/1047 [00:00<00:00, 2920.04it/s][A\u001b[A\n",
      "\n",
      "\n",
      "  0%|          | 0/3670 [00:00<?, ?it/s]\u001b[A\u001b[A\n",
      "\n",
      " 10%|█         | 370/3670 [00:00<00:00, 3699.99it/s]\u001b[A\u001b[A\n",
      "\n"
     ]
    },
    {
     "name": "stdout",
     "output_type": "stream",
     "text": [
      "\tTraining Starts....\n"
     ]
    },
    {
     "name": "stderr",
     "output_type": "stream",
     "text": [
      " 20%|██        | 748/3670 [00:00<00:00, 3722.53it/s]\u001b[A\u001b[A\n",
      "\n",
      " 30%|███       | 1115/3670 [00:00<00:00, 3705.42it/s]\u001b[A\u001b[A\n",
      "\n",
      " 40%|████      | 1483/3670 [00:00<00:00, 3697.65it/s]\u001b[A\u001b[A\n",
      "\n",
      " 50%|█████     | 1853/3670 [00:00<00:00, 3697.87it/s]\u001b[A\u001b[A\n",
      "\n",
      " 61%|██████    | 2233/3670 [00:00<00:00, 3724.98it/s]\u001b[A\u001b[A\n",
      "\n",
      " 71%|███████   | 2601/3670 [00:00<00:00, 3709.04it/s]\u001b[A\u001b[A\n",
      "\n",
      " 81%|████████  | 2967/3670 [00:00<00:00, 3691.85it/s]\u001b[A\u001b[A\n",
      "\n",
      "100%|██████████| 3670/3670 [00:00<00:00, 3712.13it/s]\u001b[A\u001b[A\n",
      "\n",
      "\n",
      "  0%|          | 0/523 [00:00<?, ?it/s]\u001b[A\u001b[A\n",
      "\n",
      "100%|██████████| 523/523 [00:00<00:00, 3614.72it/s]\u001b[A\u001b[A\n",
      "\n",
      "\n",
      "  0%|          | 0/1047 [00:00<?, ?it/s]\u001b[A\u001b[A\n",
      "\n",
      " 10%|█         | 108/1047 [00:00<00:01, 578.81it/s]\u001b[A\u001b[A\n",
      "\n",
      " 44%|████▍     | 462/1047 [00:00<00:00, 772.62it/s]\u001b[A\u001b[A\n",
      "\n",
      "100%|██████████| 1047/1047 [00:00<00:00, 2360.27it/s][A\u001b[A\n",
      "Some weights of the model checkpoint at bert-base-multilingual-cased were not used when initializing BertForSequenceClassification: ['cls.predictions.bias', 'cls.predictions.transform.dense.weight', 'cls.predictions.transform.dense.bias', 'cls.predictions.decoder.weight', 'cls.seq_relationship.weight', 'cls.seq_relationship.bias', 'cls.predictions.transform.LayerNorm.weight', 'cls.predictions.transform.LayerNorm.bias']\n",
      "- This IS expected if you are initializing BertForSequenceClassification from the checkpoint of a model trained on another task or with another architecture (e.g. initializing a BertForSequenceClassification model from a BertForPreTraining model).\n",
      "- This IS NOT expected if you are initializing BertForSequenceClassification from the checkpoint of a model that you expect to be exactly identical (initializing a BertForSequenceClassification model from a BertForSequenceClassification model).\n",
      "Some weights of BertForSequenceClassification were not initialized from the model checkpoint at bert-base-multilingual-cased and are newly initialized: ['classifier.weight', 'classifier.bias']\n",
      "You should probably TRAIN this model on a down-stream task to be able to use it for predictions and inference.\n",
      "\n",
      "\n",
      "  0%|          | 0/458 [00:00<?, ?it/s]\u001b[A\u001b[A\n",
      "\n",
      "  0%|          | 2/458 [00:00<00:43, 10.43it/s]\u001b[A\u001b[A"
     ]
    },
    {
     "name": "stdout",
     "output_type": "stream",
     "text": [
      "\n",
      "======== Epoch 1 / 10 ========\n",
      "\n",
      "Training...\n"
     ]
    },
    {
     "name": "stderr",
     "output_type": "stream",
     "text": [
      "\n",
      "\n",
      "  1%|          | 4/458 [00:00<00:43, 10.46it/s]\u001b[A\u001b[A\n",
      "\n",
      "  1%|▏         | 6/458 [00:00<00:43, 10.51it/s]\u001b[A\u001b[A\n",
      "\n",
      "  2%|▏         | 8/458 [00:00<00:42, 10.51it/s]\u001b[A\u001b[A\n",
      "\n",
      "  2%|▏         | 10/458 [00:00<00:42, 10.51it/s]\u001b[A\u001b[A\n",
      "\n",
      "  3%|▎         | 12/458 [00:01<00:42, 10.51it/s]\u001b[A\u001b[A\n",
      "\n",
      "  3%|▎         | 14/458 [00:01<00:42, 10.51it/s]\u001b[A\u001b[A\n",
      "\n",
      "  3%|▎         | 16/458 [00:01<00:42, 10.52it/s]\u001b[A\u001b[A\n",
      "\n",
      "  4%|▍         | 18/458 [00:01<00:41, 10.52it/s]\u001b[A\u001b[A\n",
      "\n",
      "  4%|▍         | 20/458 [00:01<00:41, 10.52it/s]\u001b[A\u001b[A\n",
      "\n",
      "  5%|▍         | 22/458 [00:02<00:41, 10.52it/s]\u001b[A\u001b[A\n",
      "\n",
      "  5%|▌         | 24/458 [00:02<00:41, 10.51it/s]\u001b[A\u001b[A\n",
      "\n",
      "  6%|▌         | 26/458 [00:02<00:41, 10.52it/s]\u001b[A\u001b[A\n",
      "\n",
      "  6%|▌         | 28/458 [00:02<00:40, 10.51it/s]\u001b[A\u001b[A\n",
      "\n",
      "  7%|▋         | 30/458 [00:02<00:40, 10.50it/s]\u001b[A\u001b[A\n",
      "\n",
      "  7%|▋         | 32/458 [00:03<00:40, 10.50it/s]\u001b[A\u001b[A\n",
      "\n",
      "  7%|▋         | 34/458 [00:03<00:40, 10.50it/s]\u001b[A\u001b[A\n",
      "\n",
      "  8%|▊         | 36/458 [00:03<00:40, 10.51it/s]\u001b[A\u001b[A\n",
      "\n",
      "  8%|▊         | 38/458 [00:03<00:39, 10.51it/s]\u001b[A\u001b[A\n",
      "\n",
      "  9%|▊         | 40/458 [00:03<00:39, 10.51it/s]\u001b[A\u001b[A\n",
      "\n",
      "  9%|▉         | 42/458 [00:03<00:39, 10.51it/s]\u001b[A\u001b[A\n",
      "\n",
      " 10%|▉         | 44/458 [00:04<00:39, 10.50it/s]\u001b[A\u001b[A\n",
      "\n",
      " 10%|█         | 46/458 [00:04<00:39, 10.51it/s]\u001b[A\u001b[A\n",
      "\n",
      " 10%|█         | 48/458 [00:04<00:39, 10.51it/s]\u001b[A\u001b[A\n",
      "\n",
      " 11%|█         | 50/458 [00:04<00:38, 10.51it/s]\u001b[A\u001b[A\n",
      "\n",
      " 11%|█▏        | 52/458 [00:04<00:38, 10.50it/s]\u001b[A\u001b[A\n",
      "\n",
      " 12%|█▏        | 54/458 [00:05<00:38, 10.50it/s]\u001b[A\u001b[A\n",
      "\n",
      " 12%|█▏        | 56/458 [00:05<00:38, 10.49it/s]\u001b[A\u001b[A\n",
      "\n",
      " 13%|█▎        | 58/458 [00:05<00:38, 10.52it/s]\u001b[A\u001b[A\n",
      "\n",
      " 13%|█▎        | 60/458 [00:05<00:37, 10.51it/s]\u001b[A\u001b[A\n",
      "\n",
      " 14%|█▎        | 62/458 [00:05<00:38, 10.38it/s]\u001b[A\u001b[A\n",
      "\n",
      " 14%|█▍        | 64/458 [00:06<00:37, 10.41it/s]\u001b[A\u001b[A\n",
      "\n",
      " 14%|█▍        | 66/458 [00:06<00:37, 10.43it/s]\u001b[A\u001b[A\n",
      "\n",
      " 15%|█▍        | 68/458 [00:06<00:37, 10.45it/s]\u001b[A\u001b[A\n",
      "\n",
      " 15%|█▌        | 70/458 [00:06<00:37, 10.45it/s]\u001b[A\u001b[A\n",
      "\n",
      " 16%|█▌        | 72/458 [00:06<00:36, 10.45it/s]\u001b[A\u001b[A\n",
      "\n",
      " 16%|█▌        | 74/458 [00:07<00:36, 10.46it/s]\u001b[A\u001b[A\n",
      "\n",
      " 17%|█▋        | 76/458 [00:07<00:36, 10.47it/s]\u001b[A\u001b[A\n",
      "\n",
      " 17%|█▋        | 78/458 [00:07<00:36, 10.47it/s]\u001b[A\u001b[A\n",
      "\n",
      " 17%|█▋        | 80/458 [00:07<00:36, 10.47it/s]\u001b[A\u001b[A\n",
      "\n",
      " 18%|█▊        | 82/458 [00:07<00:35, 10.47it/s]\u001b[A\u001b[A\n",
      "\n",
      " 18%|█▊        | 84/458 [00:08<00:35, 10.46it/s]\u001b[A\u001b[A\n",
      "\n",
      " 19%|█▉        | 86/458 [00:08<00:35, 10.46it/s]\u001b[A\u001b[A\n",
      "\n",
      " 19%|█▉        | 88/458 [00:08<00:35, 10.46it/s]\u001b[A\u001b[A\n",
      "\n",
      " 20%|█▉        | 90/458 [00:08<00:35, 10.46it/s]\u001b[A\u001b[A\n",
      "\n"
     ]
    }
   ],
   "source": [
    "run_args={\n",
    "    'model_name':'few_shot',\n",
    "    'data_path':'Data_Processed/Let-Mi_Translated/',\n",
    "    'train_cnt':256,\n",
    "    'res_base_path': 'Results/Let-Mi/translated_fewShot/',\n",
    "    'model_save_path': 'Saved_Models/Let-Mi_Translated/',\n",
    "    'isArabic': False,\n",
    "}\n",
    "\n",
    "model_args={\n",
    "        'seed_val': 42,\n",
    "        'batch_size': 8,\n",
    "        'bert_model': \"bert-base-multilingual-cased\",\n",
    "        'learning_rate': 2e-5,\n",
    "        'epochs': 10,\n",
    "        'max_len': 128,\n",
    "        'device': 'cuda',\n",
    "        'weights': [1.0, 1.0],\n",
    "        'save_model': False,\n",
    "        'model_save_path': '',\n",
    "        'isArabic': False,\n",
    "        'model_path': \"Saved_Models/Shared_Task_eng_1/best_bert_3_all.pt\",\n",
    "    }\n",
    "run(run_args,model_args)"
   ]
  },
  {
   "cell_type": "markdown",
   "metadata": {},
   "source": [
    "## Spanish Translated"
   ]
  },
  {
   "cell_type": "code",
   "execution_count": null,
   "metadata": {
    "collapsed": true
   },
   "outputs": [
    {
     "name": "stdout",
     "output_type": "stream",
     "text": [
      "Fold:  1\n",
      "\tInitialising Model....\n"
     ]
    },
    {
     "name": "stderr",
     "output_type": "stream",
     "text": [
      "\n",
      "\n",
      "  0%|          | 0/2317 [00:00<?, ?it/s]\u001b[A\u001b[A\n",
      "\n",
      " 10%|█         | 233/2317 [00:00<00:00, 2328.68it/s]\u001b[A\u001b[A"
     ]
    },
    {
     "name": "stdout",
     "output_type": "stream",
     "text": [
      "\tLoading Dataset....\n"
     ]
    },
    {
     "name": "stderr",
     "output_type": "stream",
     "text": [
      "\n",
      "\n",
      " 20%|█▉        | 463/2317 [00:00<00:00, 2319.92it/s]\u001b[A\u001b[A\n",
      "\n",
      " 30%|██▉       | 685/2317 [00:00<00:00, 2288.88it/s]\u001b[A\u001b[A\n",
      "\n",
      " 40%|███▉      | 922/2317 [00:00<00:00, 2311.04it/s]\u001b[A\u001b[A\n",
      "\n",
      " 50%|████▉     | 1156/2317 [00:00<00:00, 2316.28it/s]\u001b[A\u001b[A\n",
      "\n",
      " 60%|█████▉    | 1390/2317 [00:00<00:00, 2321.27it/s]\u001b[A\u001b[A\n",
      "\n",
      " 70%|███████   | 1628/2317 [00:00<00:00, 2335.13it/s]\u001b[A\u001b[A\n",
      "\n",
      " 80%|████████  | 1862/2317 [00:00<00:00, 2336.10it/s]\u001b[A\u001b[A\n",
      "\n",
      "100%|██████████| 2317/2317 [00:00<00:00, 2338.86it/s]\u001b[A\u001b[A\n",
      "\n",
      "\n",
      "  0%|          | 0/330 [00:00<?, ?it/s]\u001b[A\u001b[A\n",
      "\n",
      "100%|██████████| 330/330 [00:00<00:00, 2406.77it/s]\u001b[A\u001b[A\n",
      "\n",
      "\n",
      "  0%|          | 0/660 [00:00<?, ?it/s]\u001b[A\u001b[A\n",
      "\n",
      " 37%|███▋      | 243/660 [00:00<00:00, 2427.59it/s]\u001b[A\u001b[A\n",
      "\n",
      "100%|██████████| 660/660 [00:00<00:00, 2406.82it/s]\u001b[A\u001b[A\n",
      "\n",
      "\n",
      "  0%|          | 0/2317 [00:00<?, ?it/s]\u001b[A\u001b[A\n",
      "\n",
      " 14%|█▎        | 314/2317 [00:00<00:00, 3133.75it/s]\u001b[A\u001b[A\n",
      "\n"
     ]
    },
    {
     "name": "stdout",
     "output_type": "stream",
     "text": [
      "\tTraining Starts....\n"
     ]
    },
    {
     "name": "stderr",
     "output_type": "stream",
     "text": [
      " 27%|██▋       | 630/2317 [00:00<00:00, 3140.52it/s]\u001b[A\u001b[A\n",
      "\n",
      " 41%|████      | 951/2317 [00:00<00:00, 3159.36it/s]\u001b[A\u001b[A\n",
      "\n",
      " 55%|█████▍    | 1268/2317 [00:00<00:00, 3160.67it/s]\u001b[A\u001b[A\n",
      "\n",
      " 69%|██████▉   | 1599/2317 [00:00<00:00, 3202.50it/s]\u001b[A\u001b[A\n",
      "\n",
      " 83%|████████▎ | 1921/2317 [00:00<00:00, 3202.79it/s]\u001b[A\u001b[A\n",
      "\n",
      "100%|██████████| 2317/2317 [00:00<00:00, 3192.00it/s]\u001b[A\u001b[A\n",
      "\n",
      "\n",
      "100%|██████████| 330/330 [00:00<00:00, 3352.61it/s]\n",
      "\n",
      "\n",
      "  0%|          | 0/660 [00:00<?, ?it/s]\u001b[A\u001b[A\n",
      "\n",
      " 51%|█████     | 334/660 [00:00<00:00, 3339.86it/s]\u001b[A\u001b[A\n",
      "\n",
      "100%|██████████| 660/660 [00:00<00:00, 3282.68it/s]\u001b[A\u001b[A\n",
      "Some weights of the model checkpoint at bert-base-multilingual-cased were not used when initializing BertForSequenceClassification: ['cls.predictions.bias', 'cls.predictions.transform.dense.weight', 'cls.predictions.transform.dense.bias', 'cls.predictions.decoder.weight', 'cls.seq_relationship.weight', 'cls.seq_relationship.bias', 'cls.predictions.transform.LayerNorm.weight', 'cls.predictions.transform.LayerNorm.bias']\n",
      "- This IS expected if you are initializing BertForSequenceClassification from the checkpoint of a model trained on another task or with another architecture (e.g. initializing a BertForSequenceClassification model from a BertForPreTraining model).\n",
      "- This IS NOT expected if you are initializing BertForSequenceClassification from the checkpoint of a model that you expect to be exactly identical (initializing a BertForSequenceClassification model from a BertForSequenceClassification model).\n",
      "Some weights of BertForSequenceClassification were not initialized from the model checkpoint at bert-base-multilingual-cased and are newly initialized: ['classifier.weight', 'classifier.bias']\n",
      "You should probably TRAIN this model on a down-stream task to be able to use it for predictions and inference.\n",
      "\n",
      "\n",
      "  0%|          | 0/289 [00:00<?, ?it/s]\u001b[A\u001b[A\n",
      "\n",
      "  1%|          | 2/289 [00:00<00:27, 10.53it/s]\u001b[A\u001b[A"
     ]
    },
    {
     "name": "stdout",
     "output_type": "stream",
     "text": [
      "\n",
      "======== Epoch 1 / 10 ========\n",
      "\n",
      "Training...\n"
     ]
    },
    {
     "name": "stderr",
     "output_type": "stream",
     "text": [
      "\n",
      "\n",
      "  1%|▏         | 4/289 [00:00<00:27, 10.49it/s]\u001b[A\u001b[A\n",
      "\n",
      "  2%|▏         | 6/289 [00:00<00:26, 10.50it/s]\u001b[A\u001b[A\n",
      "\n",
      "  3%|▎         | 8/289 [00:00<00:26, 10.52it/s]\u001b[A\u001b[A\n",
      "\n",
      "  3%|▎         | 10/289 [00:00<00:26, 10.54it/s]\u001b[A\u001b[A\n",
      "\n",
      "  4%|▍         | 12/289 [00:01<00:26, 10.56it/s]\u001b[A\u001b[A\n",
      "\n",
      "  5%|▍         | 14/289 [00:01<00:26, 10.56it/s]\u001b[A\u001b[A\n",
      "\n",
      "  6%|▌         | 16/289 [00:01<00:25, 10.58it/s]\u001b[A\u001b[A\n",
      "\n",
      "  6%|▌         | 18/289 [00:01<00:25, 10.58it/s]\u001b[A\u001b[A\n",
      "\n",
      "  7%|▋         | 20/289 [00:01<00:25, 10.57it/s]\u001b[A\u001b[A\n",
      "\n",
      "  8%|▊         | 22/289 [00:02<00:25, 10.57it/s]\u001b[A\u001b[A\n",
      "\n",
      "  8%|▊         | 24/289 [00:02<00:25, 10.57it/s]\u001b[A\u001b[A\n",
      "\n",
      "  9%|▉         | 26/289 [00:02<00:24, 10.57it/s]\u001b[A\u001b[A\n",
      "\n",
      " 10%|▉         | 28/289 [00:02<00:24, 10.56it/s]\u001b[A\u001b[A\n",
      "\n",
      " 10%|█         | 30/289 [00:02<00:24, 10.57it/s]\u001b[A\u001b[A\n",
      "\n",
      " 11%|█         | 32/289 [00:03<00:24, 10.57it/s]\u001b[A\u001b[A\n",
      "\n",
      " 12%|█▏        | 34/289 [00:03<00:24, 10.57it/s]\u001b[A\u001b[A\n",
      "\n",
      " 12%|█▏        | 36/289 [00:03<00:23, 10.56it/s]\u001b[A\u001b[A\n",
      "\n",
      " 13%|█▎        | 38/289 [00:03<00:23, 10.57it/s]\u001b[A\u001b[A\n",
      "\n",
      " 14%|█▍        | 40/289 [00:03<00:23, 10.56it/s]\u001b[A\u001b[A\n",
      "\n",
      " 15%|█▍        | 42/289 [00:03<00:23, 10.56it/s]\u001b[A\u001b[A\n",
      "\n",
      " 15%|█▌        | 44/289 [00:04<00:23, 10.57it/s]\u001b[A\u001b[A\n",
      "\n",
      " 16%|█▌        | 46/289 [00:04<00:23, 10.56it/s]\u001b[A\u001b[A\n",
      "\n",
      " 17%|█▋        | 48/289 [00:04<00:22, 10.56it/s]\u001b[A\u001b[A\n",
      "\n",
      " 17%|█▋        | 50/289 [00:04<00:22, 10.57it/s]\u001b[A\u001b[A\n",
      "\n",
      " 18%|█▊        | 52/289 [00:04<00:22, 10.56it/s]\u001b[A\u001b[A\n",
      "\n",
      " 19%|█▊        | 54/289 [00:05<00:22, 10.56it/s]\u001b[A\u001b[A\n",
      "\n",
      " 19%|█▉        | 56/289 [00:05<00:22, 10.56it/s]\u001b[A\u001b[A\n",
      "\n",
      " 20%|██        | 58/289 [00:05<00:21, 10.58it/s]\u001b[A\u001b[A\n",
      "\n",
      " 21%|██        | 60/289 [00:05<00:21, 10.55it/s]\u001b[A\u001b[A\n",
      "\n",
      " 21%|██▏       | 62/289 [00:05<00:21, 10.55it/s]\u001b[A\u001b[A\n",
      "\n",
      " 22%|██▏       | 64/289 [00:06<00:21, 10.54it/s]\u001b[A\u001b[A\n",
      "\n",
      " 23%|██▎       | 66/289 [00:06<00:21, 10.53it/s]\u001b[A\u001b[A\n",
      "\n",
      " 24%|██▎       | 68/289 [00:06<00:20, 10.54it/s]\u001b[A\u001b[A\n",
      "\n",
      " 24%|██▍       | 70/289 [00:06<00:20, 10.53it/s]\u001b[A\u001b[A\n",
      "\n",
      " 25%|██▍       | 72/289 [00:06<00:20, 10.54it/s]\u001b[A\u001b[A\n",
      "\n",
      " 26%|██▌       | 74/289 [00:07<00:20, 10.55it/s]\u001b[A\u001b[A\n",
      "\n"
     ]
    }
   ],
   "source": [
    "run_args={\n",
    "    'model_name':'few_shot',\n",
    "    'data_path':'Data_Processed/AMI-Spanish_Translated/',\n",
    "    'train_cnt':256,\n",
    "    'res_base_path': 'Results/AMI-Spanish/translated_fewShot/',\n",
    "    'model_save_path': 'Saved_Models/AMI-Spanish/',\n",
    "    'isArabic': False,\n",
    "}\n",
    "\n",
    "model_args={\n",
    "        'seed_val': 42,\n",
    "        'batch_size': 8,\n",
    "        'bert_model': \"bert-base-multilingual-cased\",\n",
    "        'learning_rate': 2e-5,\n",
    "        'epochs': 10,\n",
    "        'max_len': 128,\n",
    "        'device': 'cuda',\n",
    "        'weights': [1.0, 1.0],\n",
    "        'save_model': False,\n",
    "        'model_save_path': '',\n",
    "        'isArabic': False,\n",
    "        'model_path': \"Saved_Models/Shared_Task_eng_1/best_bert_3_all.pt\",\n",
    "    }\n",
    "run(run_args,model_args)"
   ]
  },
  {
   "cell_type": "markdown",
   "metadata": {},
   "source": [
    "## Less data points few Shot"
   ]
  },
  {
   "cell_type": "code",
   "execution_count": null,
   "metadata": {},
   "outputs": [],
   "source": []
  },
  {
   "cell_type": "code",
   "execution_count": null,
   "metadata": {},
   "outputs": [],
   "source": [
    "def train_part(args,run,index,all_test_metrics,model_args,seed):\n",
    "    model_name = args['model_name']\n",
    "    model_args['name']=model_name+'_'+str(index)\n",
    "    print(\"\\tInitialising Model....\")\n",
    "    model = BERT_FewShot(model_args)\n",
    "    print(\"\\tLoading Dataset....\")\n",
    "    df_train, df_val, df_test = load_dataset_part(args,index,seed)\n",
    "    print(\"\\tTraining Starts....\")\n",
    "    train_metrics, test_metrics = model.run(model_args, \n",
    "                    df_train, df_val, df_test)\n",
    "\n",
    "    # Save train metrics after generating path\n",
    "    res_path=args['res_base_path']+model_name+'_'+model_args['name']\n",
    "    save_metrics(res_path,train_metrics,\"train\")\n",
    "    \n",
    "    all_test_metrics.extend(test_metrics)"
   ]
  },
  {
   "cell_type": "code",
   "execution_count": null,
   "metadata": {},
   "outputs": [],
   "source": [
    "def run_part(run_args,model_args):\n",
    "    all_test_metrics=[]\n",
    "    seeds = [42,43,44]\n",
    "    for fold in [1, 2, 3, 4, 5]:\n",
    "        print(\"Fold: \",fold)\n",
    "        for run in [1,2,3]:\n",
    "            print(\"Run: \",run)\n",
    "            fix_random()\n",
    "            train_part(run_args,run,fold,all_test_metrics,model_args,seeds[run-1])\n",
    "            print(\"Saving Test Metrics....\")\n",
    "            save_metrics(run_args['res_base_path']+run_args['model_name'],\n",
    "                         all_test_metrics,\"\")"
   ]
  },
  {
   "cell_type": "markdown",
   "metadata": {},
   "source": [
    "## Arabic few data"
   ]
  },
  {
   "cell_type": "code",
   "execution_count": null,
   "metadata": {
    "scrolled": true
   },
   "outputs": [
    {
     "name": "stdout",
     "output_type": "stream",
     "text": [
      "Fold:  1\n",
      "Run:  1\n",
      "\tInitialising Model....\n"
     ]
    },
    {
     "name": "stderr",
     "output_type": "stream",
     "text": [
      "\n",
      "\n",
      "100%|██████████| 64/64 [00:00<00:00, 13248.87it/s]\n",
      "\n",
      "\n",
      "100%|██████████| 523/523 [00:00<00:00, 13902.51it/s]\n",
      "\n",
      "\n",
      "100%|██████████| 1047/1047 [00:00<00:00, 14241.86it/s]\n",
      "\n",
      "\n",
      "100%|██████████| 64/64 [00:00<00:00, 3756.86it/s]\n",
      "\n",
      "\n",
      "  0%|          | 0/523 [00:00<?, ?it/s]\u001b[A\u001b[A\n",
      "\n"
     ]
    },
    {
     "name": "stdout",
     "output_type": "stream",
     "text": [
      "\tLoading Dataset....\n",
      "\tTraining Starts....\n"
     ]
    },
    {
     "name": "stderr",
     "output_type": "stream",
     "text": [
      "100%|██████████| 523/523 [00:00<00:00, 3679.62it/s]\u001b[A\u001b[A\n",
      "\n",
      "\n",
      "  0%|          | 0/1047 [00:00<?, ?it/s]\u001b[A\u001b[A\n",
      "\n",
      " 37%|███▋      | 383/1047 [00:00<00:00, 3826.12it/s]\u001b[A\u001b[A\n",
      "\n",
      "100%|██████████| 1047/1047 [00:00<00:00, 3811.86it/s][A\u001b[A\n",
      "Some weights of the model checkpoint at bert-base-multilingual-cased were not used when initializing BertForSequenceClassification: ['cls.predictions.bias', 'cls.predictions.transform.dense.weight', 'cls.predictions.transform.dense.bias', 'cls.predictions.decoder.weight', 'cls.seq_relationship.weight', 'cls.seq_relationship.bias', 'cls.predictions.transform.LayerNorm.weight', 'cls.predictions.transform.LayerNorm.bias']\n",
      "- This IS expected if you are initializing BertForSequenceClassification from the checkpoint of a model trained on another task or with another architecture (e.g. initializing a BertForSequenceClassification model from a BertForPreTraining model).\n",
      "- This IS NOT expected if you are initializing BertForSequenceClassification from the checkpoint of a model that you expect to be exactly identical (initializing a BertForSequenceClassification model from a BertForSequenceClassification model).\n",
      "Some weights of BertForSequenceClassification were not initialized from the model checkpoint at bert-base-multilingual-cased and are newly initialized: ['classifier.weight', 'classifier.bias']\n",
      "You should probably TRAIN this model on a down-stream task to be able to use it for predictions and inference.\n",
      "\n",
      "\n",
      "  0%|          | 0/8 [00:00<?, ?it/s]\u001b[A\u001b[A\n",
      "\n",
      " 25%|██▌       | 2/8 [00:00<00:00, 11.15it/s]\u001b[A\u001b[A"
     ]
    },
    {
     "name": "stdout",
     "output_type": "stream",
     "text": [
      "\n",
      "======== Epoch 1 / 10 ========\n",
      "\n",
      "Training...\n"
     ]
    },
    {
     "name": "stderr",
     "output_type": "stream",
     "text": [
      "\n",
      "\n",
      " 50%|█████     | 4/8 [00:00<00:00, 10.96it/s]\u001b[A\u001b[A\n",
      "\n",
      " 75%|███████▌  | 6/8 [00:00<00:00, 10.83it/s]\u001b[A\u001b[A\n",
      "\n",
      "100%|██████████| 8/8 [00:00<00:00, 10.67it/s]\u001b[A\u001b[A\n",
      "\n",
      "\n",
      "  0%|          | 0/65 [00:00<?, ?it/s]\u001b[A\u001b[A\n",
      "\n",
      "  8%|▊         | 5/65 [00:00<00:01, 48.20it/s]\u001b[A\u001b[A"
     ]
    },
    {
     "name": "stdout",
     "output_type": "stream",
     "text": [
      "avg_train_loss 0.9341118633747101\n",
      "train_f1Score 0.42857142857142855\n",
      "train_accuracy 0.5\n",
      "\n",
      "Running Validation...\n"
     ]
    },
    {
     "name": "stderr",
     "output_type": "stream",
     "text": [
      "\n",
      "\n",
      " 15%|█▌        | 10/65 [00:00<00:01, 47.83it/s]\u001b[A\u001b[A\n",
      "\n",
      " 23%|██▎       | 15/65 [00:00<00:01, 47.63it/s]\u001b[A\u001b[A\n",
      "\n",
      " 31%|███       | 20/65 [00:00<00:00, 47.46it/s]\u001b[A\u001b[A\n",
      "\n",
      " 38%|███▊      | 25/65 [00:00<00:00, 47.33it/s]\u001b[A\u001b[A\n",
      "\n",
      " 46%|████▌     | 30/65 [00:00<00:00, 47.25it/s]\u001b[A\u001b[A\n",
      "\n",
      " 54%|█████▍    | 35/65 [00:00<00:00, 47.20it/s]\u001b[A\u001b[A\n",
      "\n",
      " 62%|██████▏   | 40/65 [00:00<00:00, 47.15it/s]\u001b[A\u001b[A\n",
      "\n",
      " 69%|██████▉   | 45/65 [00:00<00:00, 46.97it/s]\u001b[A\u001b[A\n",
      "\n",
      " 77%|███████▋  | 50/65 [00:01<00:00, 46.96it/s]\u001b[A\u001b[A\n",
      "\n",
      " 85%|████████▍ | 55/65 [00:01<00:00, 46.99it/s]\u001b[A\u001b[A\n",
      "\n",
      " 92%|█████████▏| 60/65 [00:01<00:00, 47.01it/s]\u001b[A\u001b[A\n",
      "\n",
      "100%|██████████| 65/65 [00:01<00:00, 47.05it/s]\u001b[A\u001b[A\n",
      "\n",
      "\n",
      "  0%|          | 0/130 [00:00<?, ?it/s]\u001b[A\u001b[A\n",
      "\n",
      "  4%|▍         | 5/130 [00:00<00:02, 47.68it/s]\u001b[A\u001b[A"
     ]
    },
    {
     "name": "stdout",
     "output_type": "stream",
     "text": [
      "Validation Loss:  0.8531785997060629\n",
      "Validation Accuracy:  0.4980769230769231\n",
      "Best mF1Score....\n"
     ]
    },
    {
     "name": "stderr",
     "output_type": "stream",
     "text": [
      "\n",
      "\n",
      "  8%|▊         | 10/130 [00:00<00:02, 47.46it/s]\u001b[A\u001b[A\n",
      "\n",
      " 12%|█▏        | 15/130 [00:00<00:02, 47.36it/s]\u001b[A\u001b[A\n",
      "\n",
      " 15%|█▌        | 20/130 [00:00<00:02, 47.26it/s]\u001b[A\u001b[A\n",
      "\n",
      " 19%|█▉        | 25/130 [00:00<00:02, 47.22it/s]\u001b[A\u001b[A\n",
      "\n",
      " 23%|██▎       | 30/130 [00:00<00:02, 47.09it/s]\u001b[A\u001b[A\n",
      "\n",
      " 27%|██▋       | 35/130 [00:00<00:02, 47.02it/s]\u001b[A\u001b[A\n",
      "\n",
      " 31%|███       | 40/130 [00:00<00:01, 47.04it/s]\u001b[A\u001b[A\n",
      "\n",
      " 35%|███▍      | 45/130 [00:00<00:01, 46.90it/s]\u001b[A\u001b[A\n",
      "\n",
      " 38%|███▊      | 50/130 [00:01<00:01, 46.88it/s]\u001b[A\u001b[A\n",
      "\n",
      " 42%|████▏     | 55/130 [00:01<00:01, 46.93it/s]\u001b[A\u001b[A\n",
      "\n",
      " 46%|████▌     | 60/130 [00:01<00:01, 46.90it/s]\u001b[A\u001b[A\n",
      "\n",
      " 50%|█████     | 65/130 [00:01<00:01, 46.89it/s]\u001b[A\u001b[A\n",
      "\n",
      " 54%|█████▍    | 70/130 [00:01<00:01, 46.94it/s]\u001b[A\u001b[A\n",
      "\n",
      " 58%|█████▊    | 75/130 [00:01<00:01, 46.91it/s]\u001b[A\u001b[A\n",
      "\n",
      " 62%|██████▏   | 80/130 [00:01<00:01, 46.86it/s]\u001b[A\u001b[A\n",
      "\n",
      " 65%|██████▌   | 85/130 [00:01<00:00, 46.87it/s]\u001b[A\u001b[A\n",
      "\n",
      " 69%|██████▉   | 90/130 [00:01<00:00, 46.87it/s]\u001b[A\u001b[A\n",
      "\n",
      " 73%|███████▎  | 95/130 [00:02<00:00, 46.82it/s]\u001b[A\u001b[A\n",
      "\n",
      " 77%|███████▋  | 100/130 [00:02<00:00, 46.85it/s]\u001b[A\u001b[A\n",
      "\n",
      " 81%|████████  | 105/130 [00:02<00:00, 46.88it/s]\u001b[A\u001b[A\n",
      "\n",
      " 85%|████████▍ | 110/130 [00:02<00:00, 46.82it/s]\u001b[A\u001b[A\n",
      "\n",
      " 88%|████████▊ | 115/130 [00:02<00:00, 46.80it/s]\u001b[A\u001b[A\n",
      "\n",
      " 92%|█████████▏| 120/130 [00:02<00:00, 46.73it/s]\u001b[A\u001b[A\n",
      "\n",
      " 96%|█████████▌| 125/130 [00:02<00:00, 46.74it/s]\u001b[A\u001b[A\n",
      "\n",
      "100%|██████████| 130/130 [00:02<00:00, 46.87it/s]\u001b[A\u001b[A\n",
      "\n",
      "\n",
      "  0%|          | 0/8 [00:00<?, ?it/s]\u001b[A\u001b[A\n",
      "\n",
      " 25%|██▌       | 2/8 [00:00<00:00, 10.89it/s]\u001b[A\u001b[A"
     ]
    },
    {
     "name": "stdout",
     "output_type": "stream",
     "text": [
      "\n",
      "======== Epoch 2 / 10 ========\n",
      "\n",
      "Training...\n"
     ]
    },
    {
     "name": "stderr",
     "output_type": "stream",
     "text": [
      "\n",
      "\n",
      " 50%|█████     | 4/8 [00:00<00:00, 10.76it/s]\u001b[A\u001b[A\n",
      "\n",
      " 75%|███████▌  | 6/8 [00:00<00:00, 10.68it/s]\u001b[A\u001b[A\n",
      "\n",
      "100%|██████████| 8/8 [00:00<00:00, 10.54it/s]\u001b[A\u001b[A\n",
      "\n",
      "\n",
      "  0%|          | 0/65 [00:00<?, ?it/s]\u001b[A\u001b[A\n",
      "\n",
      "  8%|▊         | 5/65 [00:00<00:01, 47.94it/s]\u001b[A\u001b[A"
     ]
    },
    {
     "name": "stdout",
     "output_type": "stream",
     "text": [
      "avg_train_loss 0.6439959220588207\n",
      "train_f1Score 0.7088607594936708\n",
      "train_accuracy 0.640625\n",
      "\n",
      "Running Validation...\n"
     ]
    },
    {
     "name": "stderr",
     "output_type": "stream",
     "text": [
      "\n",
      "\n",
      " 15%|█▌        | 10/65 [00:00<00:01, 47.57it/s]\u001b[A\u001b[A\n",
      "\n",
      " 23%|██▎       | 15/65 [00:00<00:01, 47.37it/s]\u001b[A\u001b[A\n",
      "\n",
      " 31%|███       | 20/65 [00:00<00:00, 47.21it/s]\u001b[A\u001b[A\n",
      "\n",
      " 38%|███▊      | 25/65 [00:00<00:00, 47.05it/s]\u001b[A\u001b[A\n",
      "\n",
      " 46%|████▌     | 30/65 [00:00<00:00, 47.00it/s]\u001b[A\u001b[A\n",
      "\n",
      " 54%|█████▍    | 35/65 [00:00<00:00, 46.96it/s]\u001b[A\u001b[A\n",
      "\n",
      " 62%|██████▏   | 40/65 [00:00<00:00, 46.76it/s]\u001b[A\u001b[A\n",
      "\n",
      " 69%|██████▉   | 45/65 [00:00<00:00, 46.58it/s]\u001b[A\u001b[A\n",
      "\n",
      " 77%|███████▋  | 50/65 [00:01<00:00, 46.51it/s]\u001b[A\u001b[A\n",
      "\n",
      " 85%|████████▍ | 55/65 [00:01<00:00, 46.58it/s]\u001b[A\u001b[A\n",
      "\n",
      " 92%|█████████▏| 60/65 [00:01<00:00, 46.67it/s]\u001b[A\u001b[A\n",
      "\n",
      "100%|██████████| 65/65 [00:01<00:00, 46.74it/s]\u001b[A\u001b[A\n",
      "\n",
      "\n",
      "  0%|          | 0/130 [00:00<?, ?it/s]\u001b[A\u001b[A\n",
      "\n",
      "  4%|▍         | 5/130 [00:00<00:02, 47.38it/s]\u001b[A\u001b[A"
     ]
    },
    {
     "name": "stdout",
     "output_type": "stream",
     "text": [
      "Validation Loss:  0.6601833160106952\n",
      "Validation Accuracy:  0.6288461538461538\n",
      "Testing Model....\n"
     ]
    },
    {
     "name": "stderr",
     "output_type": "stream",
     "text": [
      "\n",
      "\n",
      "  8%|▊         | 10/130 [00:00<00:02, 47.12it/s]\u001b[A\u001b[A\n",
      "\n",
      " 12%|█▏        | 15/130 [00:00<00:02, 47.00it/s]\u001b[A\u001b[A\n",
      "\n",
      " 15%|█▌        | 20/130 [00:00<00:02, 46.95it/s]\u001b[A\u001b[A\n",
      "\n",
      " 19%|█▉        | 25/130 [00:00<00:02, 46.74it/s]\u001b[A\u001b[A\n",
      "\n",
      " 23%|██▎       | 30/130 [00:00<00:02, 46.53it/s]\u001b[A\u001b[A\n",
      "\n",
      " 27%|██▋       | 35/130 [00:00<00:02, 46.60it/s]\u001b[A\u001b[A\n",
      "\n",
      " 31%|███       | 40/130 [00:00<00:01, 46.58it/s]\u001b[A\u001b[A\n",
      "\n",
      " 35%|███▍      | 45/130 [00:00<00:01, 46.63it/s]\u001b[A\u001b[A\n",
      "\n",
      " 38%|███▊      | 50/130 [00:01<00:01, 46.59it/s]\u001b[A\u001b[A\n",
      "\n",
      " 42%|████▏     | 55/130 [00:01<00:01, 46.54it/s]\u001b[A\u001b[A\n",
      "\n",
      " 46%|████▌     | 60/130 [00:01<00:01, 46.59it/s]\u001b[A\u001b[A\n",
      "\n",
      " 50%|█████     | 65/130 [00:01<00:01, 46.64it/s]\u001b[A\u001b[A\n",
      "\n",
      " 54%|█████▍    | 70/130 [00:01<00:01, 46.53it/s]\u001b[A\u001b[A\n",
      "\n",
      " 58%|█████▊    | 75/130 [00:01<00:01, 46.48it/s]\u001b[A\u001b[A\n",
      "\n",
      " 62%|██████▏   | 80/130 [00:01<00:01, 46.56it/s]\u001b[A\u001b[A\n",
      "\n",
      " 65%|██████▌   | 85/130 [00:01<00:00, 46.52it/s]\u001b[A\u001b[A\n",
      "\n",
      " 69%|██████▉   | 90/130 [00:01<00:00, 46.54it/s]\u001b[A\u001b[A\n",
      "\n",
      " 73%|███████▎  | 95/130 [00:02<00:00, 46.53it/s]\u001b[A\u001b[A\n",
      "\n",
      " 77%|███████▋  | 100/130 [00:02<00:00, 46.48it/s]\u001b[A\u001b[A\n",
      "\n",
      " 81%|████████  | 105/130 [00:02<00:00, 46.48it/s]\u001b[A\u001b[A\n",
      "\n",
      " 85%|████████▍ | 110/130 [00:02<00:00, 46.46it/s]\u001b[A\u001b[A\n",
      "\n",
      " 88%|████████▊ | 115/130 [00:02<00:00, 46.43it/s]\u001b[A\u001b[A\n",
      "\n",
      " 92%|█████████▏| 120/130 [00:02<00:00, 46.47it/s]\u001b[A\u001b[A\n",
      "\n",
      " 96%|█████████▌| 125/130 [00:02<00:00, 46.45it/s]\u001b[A\u001b[A\n",
      "\n",
      "100%|██████████| 130/130 [00:02<00:00, 46.52it/s]\u001b[A\u001b[A\n",
      "\n",
      "\n",
      "  0%|          | 0/130 [00:00<?, ?it/s]\u001b[A\u001b[A\n",
      "\n",
      "  4%|▍         | 5/130 [00:00<00:02, 47.15it/s]\u001b[A\u001b[A"
     ]
    },
    {
     "name": "stdout",
     "output_type": "stream",
     "text": [
      "Best mF1Score....\n"
     ]
    },
    {
     "name": "stderr",
     "output_type": "stream",
     "text": [
      "\n",
      "\n",
      "  8%|▊         | 10/130 [00:00<00:02, 46.95it/s]\u001b[A\u001b[A\n",
      "\n",
      " 12%|█▏        | 15/130 [00:00<00:02, 46.81it/s]\u001b[A\u001b[A\n",
      "\n",
      " 15%|█▌        | 20/130 [00:00<00:02, 46.69it/s]\u001b[A\u001b[A\n",
      "\n",
      " 19%|█▉        | 25/130 [00:00<00:02, 46.61it/s]\u001b[A\u001b[A\n",
      "\n",
      " 23%|██▎       | 30/130 [00:00<00:02, 46.55it/s]\u001b[A\u001b[A\n",
      "\n",
      " 27%|██▋       | 35/130 [00:00<00:02, 46.55it/s]\u001b[A\u001b[A\n",
      "\n",
      " 31%|███       | 40/130 [00:00<00:01, 46.51it/s]\u001b[A\u001b[A\n",
      "\n",
      " 35%|███▍      | 45/130 [00:00<00:01, 46.42it/s]\u001b[A\u001b[A\n",
      "\n",
      " 38%|███▊      | 50/130 [00:01<00:01, 46.40it/s]\u001b[A\u001b[A\n",
      "\n",
      " 42%|████▏     | 55/130 [00:01<00:01, 46.43it/s]\u001b[A\u001b[A\n",
      "\n",
      " 46%|████▌     | 60/130 [00:01<00:01, 46.45it/s]\u001b[A\u001b[A\n",
      "\n",
      " 50%|█████     | 65/130 [00:01<00:01, 46.42it/s]\u001b[A\u001b[A\n",
      "\n",
      " 54%|█████▍    | 70/130 [00:01<00:01, 46.39it/s]\u001b[A\u001b[A\n",
      "\n",
      " 58%|█████▊    | 75/130 [00:01<00:01, 46.39it/s]\u001b[A\u001b[A\n",
      "\n",
      " 62%|██████▏   | 80/130 [00:01<00:01, 46.38it/s]\u001b[A\u001b[A\n",
      "\n",
      " 65%|██████▌   | 85/130 [00:01<00:00, 46.40it/s]\u001b[A\u001b[A\n",
      "\n",
      " 69%|██████▉   | 90/130 [00:01<00:00, 46.37it/s]\u001b[A\u001b[A\n",
      "\n",
      " 73%|███████▎  | 95/130 [00:02<00:00, 46.31it/s]\u001b[A\u001b[A\n",
      "\n",
      " 77%|███████▋  | 100/130 [00:02<00:00, 46.30it/s]\u001b[A\u001b[A\n",
      "\n",
      " 81%|████████  | 105/130 [00:02<00:00, 46.36it/s]\u001b[A\u001b[A\n",
      "\n",
      " 85%|████████▍ | 110/130 [00:02<00:00, 46.36it/s]\u001b[A\u001b[A\n",
      "\n",
      " 88%|████████▊ | 115/130 [00:02<00:00, 46.34it/s]\u001b[A\u001b[A\n",
      "\n",
      " 92%|█████████▏| 120/130 [00:02<00:00, 46.34it/s]\u001b[A\u001b[A\n",
      "\n",
      " 96%|█████████▌| 125/130 [00:02<00:00, 46.26it/s]\u001b[A\u001b[A\n",
      "\n",
      "100%|██████████| 130/130 [00:02<00:00, 46.38it/s]\u001b[A\u001b[A\n",
      "\n",
      "\n",
      "  0%|          | 0/8 [00:00<?, ?it/s]\u001b[A\u001b[A\n",
      "\n",
      " 25%|██▌       | 2/8 [00:00<00:00, 10.81it/s]\u001b[A\u001b[A"
     ]
    },
    {
     "name": "stdout",
     "output_type": "stream",
     "text": [
      "\n",
      "======== Epoch 3 / 10 ========\n",
      "\n",
      "Training...\n"
     ]
    },
    {
     "name": "stderr",
     "output_type": "stream",
     "text": [
      "\n",
      "\n",
      " 50%|█████     | 4/8 [00:00<00:00, 10.69it/s]\u001b[A\u001b[A\n",
      "\n",
      " 75%|███████▌  | 6/8 [00:00<00:00, 10.60it/s]\u001b[A\u001b[A\n",
      "\n",
      "100%|██████████| 8/8 [00:00<00:00, 10.49it/s]\u001b[A\u001b[A\n",
      "\n",
      "\n",
      "  0%|          | 0/65 [00:00<?, ?it/s]\u001b[A\u001b[A\n",
      "\n",
      "  8%|▊         | 5/65 [00:00<00:01, 47.47it/s]\u001b[A\u001b[A"
     ]
    },
    {
     "name": "stdout",
     "output_type": "stream",
     "text": [
      "avg_train_loss 0.3843393921852112\n",
      "train_f1Score 0.8571428571428571\n",
      "train_accuracy 0.859375\n",
      "\n",
      "Running Validation...\n"
     ]
    },
    {
     "name": "stderr",
     "output_type": "stream",
     "text": [
      "\n",
      "\n",
      " 15%|█▌        | 10/65 [00:00<00:01, 47.13it/s]\u001b[A\u001b[A\n",
      "\n",
      " 23%|██▎       | 15/65 [00:00<00:01, 46.93it/s]\u001b[A\u001b[A\n",
      "\n",
      " 31%|███       | 20/65 [00:00<00:00, 46.74it/s]\u001b[A\u001b[A\n",
      "\n",
      " 38%|███▊      | 25/65 [00:00<00:00, 46.65it/s]\u001b[A\u001b[A\n",
      "\n",
      " 46%|████▌     | 30/65 [00:00<00:00, 46.59it/s]\u001b[A\u001b[A\n",
      "\n",
      " 54%|█████▍    | 35/65 [00:00<00:00, 46.46it/s]\u001b[A\u001b[A\n",
      "\n",
      " 62%|██████▏   | 40/65 [00:00<00:00, 46.27it/s]\u001b[A\u001b[A\n",
      "\n",
      " 69%|██████▉   | 45/65 [00:00<00:00, 46.04it/s]\u001b[A\u001b[A\n",
      "\n",
      " 77%|███████▋  | 50/65 [00:01<00:00, 46.13it/s]\u001b[A\u001b[A\n",
      "\n",
      " 85%|████████▍ | 55/65 [00:01<00:00, 46.20it/s]\u001b[A\u001b[A\n",
      "\n",
      " 92%|█████████▏| 60/65 [00:01<00:00, 46.21it/s]\u001b[A\u001b[A\n",
      "\n",
      "100%|██████████| 65/65 [00:01<00:00, 46.29it/s]\u001b[A\u001b[A\n",
      "\n",
      "\n",
      "  0%|          | 0/130 [00:00<?, ?it/s]\u001b[A\u001b[A\n",
      "\n",
      "  4%|▍         | 5/130 [00:00<00:02, 46.65it/s]\u001b[A\u001b[A"
     ]
    },
    {
     "name": "stdout",
     "output_type": "stream",
     "text": [
      "Validation Loss:  0.6601508246018336\n",
      "Validation Accuracy:  0.6519230769230769\n",
      "Best mF1Score....\n"
     ]
    },
    {
     "name": "stderr",
     "output_type": "stream",
     "text": [
      "\n",
      "\n",
      "  8%|▊         | 10/130 [00:00<00:02, 46.53it/s]\u001b[A\u001b[A\n",
      "\n",
      " 12%|█▏        | 15/130 [00:00<00:02, 46.47it/s]\u001b[A\u001b[A\n",
      "\n",
      " 15%|█▌        | 20/130 [00:00<00:02, 46.37it/s]\u001b[A\u001b[A\n",
      "\n",
      " 19%|█▉        | 25/130 [00:00<00:02, 46.29it/s]\u001b[A\u001b[A\n",
      "\n",
      " 23%|██▎       | 30/130 [00:00<00:02, 46.27it/s]\u001b[A\u001b[A\n",
      "\n",
      " 27%|██▋       | 35/130 [00:00<00:02, 46.26it/s]\u001b[A\u001b[A\n",
      "\n",
      " 31%|███       | 40/130 [00:00<00:01, 46.26it/s]\u001b[A\u001b[A\n",
      "\n",
      " 35%|███▍      | 45/130 [00:00<00:01, 46.13it/s]\u001b[A\u001b[A\n",
      "\n",
      " 38%|███▊      | 50/130 [00:01<00:01, 46.13it/s]\u001b[A\u001b[A\n",
      "\n",
      " 42%|████▏     | 55/130 [00:01<00:01, 46.17it/s]\u001b[A\u001b[A\n",
      "\n",
      " 46%|████▌     | 60/130 [00:01<00:01, 46.15it/s]\u001b[A\u001b[A\n",
      "\n",
      " 50%|█████     | 65/130 [00:01<00:01, 46.07it/s]\u001b[A\u001b[A\n",
      "\n",
      " 54%|█████▍    | 70/130 [00:01<00:01, 46.11it/s]\u001b[A\u001b[A\n",
      "\n",
      " 58%|█████▊    | 75/130 [00:01<00:01, 46.16it/s]\u001b[A\u001b[A\n",
      "\n",
      " 62%|██████▏   | 80/130 [00:01<00:01, 46.18it/s]\u001b[A\u001b[A\n",
      "\n",
      " 65%|██████▌   | 85/130 [00:01<00:00, 46.13it/s]\u001b[A\u001b[A\n",
      "\n",
      " 69%|██████▉   | 90/130 [00:01<00:00, 46.03it/s]\u001b[A\u001b[A\n",
      "\n",
      " 73%|███████▎  | 95/130 [00:02<00:00, 46.01it/s]\u001b[A\u001b[A\n",
      "\n",
      " 77%|███████▋  | 100/130 [00:02<00:00, 46.04it/s]\u001b[A\u001b[A\n",
      "\n",
      " 81%|████████  | 105/130 [00:02<00:00, 46.11it/s]\u001b[A\u001b[A\n",
      "\n",
      " 85%|████████▍ | 110/130 [00:02<00:00, 46.02it/s]\u001b[A\u001b[A\n",
      "\n",
      " 88%|████████▊ | 115/130 [00:02<00:00, 46.07it/s]\u001b[A\u001b[A\n",
      "\n",
      " 92%|█████████▏| 120/130 [00:02<00:00, 46.12it/s]\u001b[A\u001b[A\n",
      "\n",
      " 96%|█████████▌| 125/130 [00:02<00:00, 46.10it/s]\u001b[A\u001b[A\n",
      "\n",
      "100%|██████████| 130/130 [00:02<00:00, 46.13it/s]\u001b[A\u001b[A\n",
      "\n",
      "\n",
      "  0%|          | 0/8 [00:00<?, ?it/s]\u001b[A\u001b[A\n",
      "\n",
      " 25%|██▌       | 2/8 [00:00<00:00, 10.73it/s]\u001b[A\u001b[A"
     ]
    },
    {
     "name": "stdout",
     "output_type": "stream",
     "text": [
      "\n",
      "======== Epoch 4 / 10 ========\n",
      "\n",
      "Training...\n"
     ]
    },
    {
     "name": "stderr",
     "output_type": "stream",
     "text": [
      "\n",
      "\n",
      " 50%|█████     | 4/8 [00:00<00:00, 10.62it/s]\u001b[A\u001b[A\n",
      "\n",
      " 75%|███████▌  | 6/8 [00:00<00:00, 10.55it/s]\u001b[A\u001b[A\n",
      "\n",
      "100%|██████████| 8/8 [00:00<00:00, 10.45it/s]\u001b[A\u001b[A\n",
      "\n",
      "\n",
      "  0%|          | 0/65 [00:00<?, ?it/s]\u001b[A\u001b[A\n",
      "\n",
      "  8%|▊         | 5/65 [00:00<00:01, 47.27it/s]\u001b[A\u001b[A"
     ]
    },
    {
     "name": "stdout",
     "output_type": "stream",
     "text": [
      "avg_train_loss 0.232836427167058\n",
      "train_f1Score 0.9696969696969697\n",
      "train_accuracy 0.96875\n",
      "\n",
      "Running Validation...\n"
     ]
    },
    {
     "name": "stderr",
     "output_type": "stream",
     "text": [
      "\n",
      "\n",
      " 15%|█▌        | 10/65 [00:00<00:01, 46.84it/s]\u001b[A\u001b[A\n",
      "\n",
      " 23%|██▎       | 15/65 [00:00<00:01, 46.58it/s]\u001b[A\u001b[A\n",
      "\n",
      " 31%|███       | 20/65 [00:00<00:00, 46.42it/s]\u001b[A\u001b[A\n",
      "\n",
      " 38%|███▊      | 25/65 [00:00<00:00, 46.31it/s]\u001b[A\u001b[A\n",
      "\n",
      " 46%|████▌     | 30/65 [00:00<00:00, 46.22it/s]\u001b[A\u001b[A\n",
      "\n",
      " 54%|█████▍    | 35/65 [00:00<00:00, 46.20it/s]\u001b[A\u001b[A\n",
      "\n",
      " 62%|██████▏   | 40/65 [00:00<00:00, 46.02it/s]\u001b[A\u001b[A\n",
      "\n",
      " 69%|██████▉   | 45/65 [00:00<00:00, 45.85it/s]\u001b[A\u001b[A\n",
      "\n",
      " 77%|███████▋  | 50/65 [00:01<00:00, 45.89it/s]\u001b[A\u001b[A\n",
      "\n",
      " 85%|████████▍ | 55/65 [00:01<00:00, 45.89it/s]\u001b[A\u001b[A\n",
      "\n",
      " 92%|█████████▏| 60/65 [00:01<00:00, 45.86it/s]\u001b[A\u001b[A\n",
      "\n",
      "100%|██████████| 65/65 [00:01<00:00, 45.96it/s]\u001b[A\u001b[A\n",
      "\n",
      "\n",
      "  0%|          | 0/130 [00:00<?, ?it/s]\u001b[A\u001b[A\n",
      "\n",
      "  4%|▍         | 5/130 [00:00<00:02, 46.80it/s]\u001b[A\u001b[A"
     ]
    },
    {
     "name": "stdout",
     "output_type": "stream",
     "text": [
      "Validation Loss:  0.7170095379535969\n",
      "Validation Accuracy:  0.6711538461538461\n",
      "Testing Model....\n"
     ]
    },
    {
     "name": "stderr",
     "output_type": "stream",
     "text": [
      "\n",
      "\n",
      "  8%|▊         | 10/130 [00:00<00:02, 46.52it/s]\u001b[A\u001b[A\n",
      "\n",
      " 12%|█▏        | 15/130 [00:00<00:02, 46.38it/s]\u001b[A\u001b[A\n",
      "\n",
      " 15%|█▌        | 20/130 [00:00<00:02, 46.23it/s]\u001b[A\u001b[A\n",
      "\n",
      " 19%|█▉        | 25/130 [00:00<00:02, 46.07it/s]\u001b[A\u001b[A\n",
      "\n",
      " 23%|██▎       | 30/130 [00:00<00:02, 45.99it/s]\u001b[A\u001b[A\n",
      "\n",
      " 27%|██▋       | 35/130 [00:00<00:02, 45.95it/s]\u001b[A\u001b[A\n",
      "\n",
      " 31%|███       | 40/130 [00:00<00:01, 45.88it/s]\u001b[A\u001b[A\n",
      "\n",
      " 35%|███▍      | 45/130 [00:00<00:01, 45.76it/s]\u001b[A\u001b[A\n",
      "\n",
      " 38%|███▊      | 50/130 [00:01<00:01, 45.81it/s]\u001b[A\u001b[A\n",
      "\n",
      " 42%|████▏     | 55/130 [00:01<00:01, 45.75it/s]\u001b[A\u001b[A\n",
      "\n",
      " 46%|████▌     | 60/130 [00:01<00:01, 45.79it/s]\u001b[A\u001b[A\n",
      "\n",
      " 50%|█████     | 65/130 [00:01<00:01, 45.85it/s]\u001b[A\u001b[A\n",
      "\n",
      " 54%|█████▍    | 70/130 [00:01<00:01, 45.75it/s]\u001b[A\u001b[A\n",
      "\n",
      " 58%|█████▊    | 75/130 [00:01<00:01, 45.78it/s]\u001b[A\u001b[A\n",
      "\n",
      " 62%|██████▏   | 80/130 [00:01<00:01, 45.80it/s]\u001b[A\u001b[A\n",
      "\n",
      " 65%|██████▌   | 85/130 [00:01<00:00, 45.81it/s]\u001b[A\u001b[A\n",
      "\n",
      " 69%|██████▉   | 90/130 [00:01<00:00, 45.69it/s]\u001b[A\u001b[A\n",
      "\n",
      " 73%|███████▎  | 95/130 [00:02<00:00, 45.70it/s]\u001b[A\u001b[A\n",
      "\n",
      " 77%|███████▋  | 100/130 [00:02<00:00, 45.74it/s]\u001b[A\u001b[A\n",
      "\n",
      " 81%|████████  | 105/130 [00:02<00:00, 45.70it/s]\u001b[A\u001b[A\n",
      "\n",
      " 85%|████████▍ | 110/130 [00:02<00:00, 45.72it/s]\u001b[A\u001b[A\n",
      "\n",
      " 88%|████████▊ | 115/130 [00:02<00:00, 45.67it/s]\u001b[A\u001b[A\n",
      "\n",
      " 92%|█████████▏| 120/130 [00:02<00:00, 45.72it/s]\u001b[A\u001b[A\n",
      "\n",
      " 96%|█████████▌| 125/130 [00:02<00:00, 45.76it/s]\u001b[A\u001b[A\n",
      "\n",
      "100%|██████████| 130/130 [00:02<00:00, 45.79it/s]\u001b[A\u001b[A\n",
      "\n",
      "\n",
      "  0%|          | 0/130 [00:00<?, ?it/s]\u001b[A\u001b[A\n",
      "\n",
      "  4%|▍         | 5/130 [00:00<00:02, 46.39it/s]\u001b[A\u001b[A"
     ]
    },
    {
     "name": "stdout",
     "output_type": "stream",
     "text": [
      "Best mF1Score....\n"
     ]
    },
    {
     "name": "stderr",
     "output_type": "stream",
     "text": [
      "\n",
      "\n",
      "  8%|▊         | 10/130 [00:00<00:02, 46.21it/s]\u001b[A\u001b[A\n",
      "\n",
      " 12%|█▏        | 15/130 [00:00<00:02, 46.08it/s]\u001b[A\u001b[A\n",
      "\n",
      " 15%|█▌        | 20/130 [00:00<00:02, 45.97it/s]\u001b[A\u001b[A\n",
      "\n",
      " 19%|█▉        | 25/130 [00:00<00:02, 45.94it/s]\u001b[A\u001b[A\n",
      "\n",
      " 23%|██▎       | 30/130 [00:00<00:02, 45.80it/s]\u001b[A\u001b[A\n",
      "\n",
      " 27%|██▋       | 35/130 [00:00<00:02, 45.79it/s]\u001b[A\u001b[A\n",
      "\n",
      " 31%|███       | 40/130 [00:00<00:01, 45.71it/s]\u001b[A\u001b[A\n",
      "\n",
      " 35%|███▍      | 45/130 [00:00<00:01, 45.71it/s]\u001b[A\u001b[A\n",
      "\n",
      " 38%|███▊      | 50/130 [00:01<00:01, 45.73it/s]\u001b[A\u001b[A\n",
      "\n",
      " 42%|████▏     | 55/130 [00:01<00:01, 45.73it/s]\u001b[A\u001b[A\n",
      "\n",
      " 46%|████▌     | 60/130 [00:01<00:01, 45.79it/s]\u001b[A\u001b[A\n",
      "\n",
      " 50%|█████     | 65/130 [00:01<00:01, 45.76it/s]\u001b[A\u001b[A\n",
      "\n",
      " 54%|█████▍    | 70/130 [00:01<00:01, 45.71it/s]\u001b[A\u001b[A\n",
      "\n",
      " 58%|█████▊    | 75/130 [00:01<00:01, 45.60it/s]\u001b[A\u001b[A\n",
      "\n",
      " 62%|██████▏   | 80/130 [00:01<00:01, 45.63it/s]\u001b[A\u001b[A\n",
      "\n",
      " 65%|██████▌   | 85/130 [00:01<00:00, 45.54it/s]\u001b[A\u001b[A\n",
      "\n",
      " 69%|██████▉   | 90/130 [00:01<00:00, 45.62it/s]\u001b[A\u001b[A\n",
      "\n",
      " 73%|███████▎  | 95/130 [00:02<00:00, 45.65it/s]\u001b[A\u001b[A\n",
      "\n",
      " 77%|███████▋  | 100/130 [00:02<00:00, 45.66it/s]\u001b[A\u001b[A\n",
      "\n",
      " 81%|████████  | 105/130 [00:02<00:00, 45.72it/s]\u001b[A\u001b[A\n",
      "\n",
      " 85%|████████▍ | 110/130 [00:02<00:00, 45.68it/s]\u001b[A\u001b[A\n",
      "\n",
      " 88%|████████▊ | 115/130 [00:02<00:00, 45.65it/s]\u001b[A\u001b[A\n",
      "\n",
      " 92%|█████████▏| 120/130 [00:02<00:00, 45.56it/s]\u001b[A\u001b[A\n",
      "\n",
      " 96%|█████████▌| 125/130 [00:02<00:00, 45.54it/s]\u001b[A\u001b[A\n",
      "\n",
      "100%|██████████| 130/130 [00:02<00:00, 45.66it/s]\u001b[A\u001b[A\n",
      "\n",
      "\n",
      "  0%|          | 0/8 [00:00<?, ?it/s]\u001b[A\u001b[A\n",
      "\n",
      " 25%|██▌       | 2/8 [00:00<00:00, 10.71it/s]\u001b[A\u001b[A"
     ]
    },
    {
     "name": "stdout",
     "output_type": "stream",
     "text": [
      "\n",
      "======== Epoch 5 / 10 ========\n",
      "\n",
      "Training...\n"
     ]
    },
    {
     "name": "stderr",
     "output_type": "stream",
     "text": [
      "\n",
      "\n",
      " 50%|█████     | 4/8 [00:00<00:00, 10.59it/s]\u001b[A\u001b[A\n",
      "\n",
      " 75%|███████▌  | 6/8 [00:00<00:00, 10.50it/s]\u001b[A\u001b[A\n",
      "\n",
      "100%|██████████| 8/8 [00:00<00:00, 10.40it/s]\u001b[A\u001b[A\n",
      "\n",
      "\n",
      "  0%|          | 0/65 [00:00<?, ?it/s]\u001b[A\u001b[A\n",
      "\n",
      "  8%|▊         | 5/65 [00:00<00:01, 46.55it/s]\u001b[A\u001b[A"
     ]
    },
    {
     "name": "stdout",
     "output_type": "stream",
     "text": [
      "avg_train_loss 0.20464838854968548\n",
      "train_f1Score 0.955223880597015\n",
      "train_accuracy 0.953125\n",
      "\n",
      "Running Validation...\n"
     ]
    },
    {
     "name": "stderr",
     "output_type": "stream",
     "text": [
      "\n",
      "\n",
      " 15%|█▌        | 10/65 [00:00<00:01, 46.28it/s]\u001b[A\u001b[A\n",
      "\n",
      " 23%|██▎       | 15/65 [00:00<00:01, 46.09it/s]\u001b[A\u001b[A\n",
      "\n",
      " 31%|███       | 20/65 [00:00<00:00, 45.95it/s]\u001b[A\u001b[A\n",
      "\n",
      " 38%|███▊      | 25/65 [00:00<00:00, 45.91it/s]\u001b[A\u001b[A\n",
      "\n",
      " 46%|████▌     | 30/65 [00:00<00:00, 45.84it/s]\u001b[A\u001b[A\n",
      "\n",
      " 54%|█████▍    | 35/65 [00:00<00:00, 45.83it/s]\u001b[A\u001b[A\n",
      "\n",
      " 62%|██████▏   | 40/65 [00:00<00:00, 45.53it/s]\u001b[A\u001b[A\n",
      "\n",
      " 69%|██████▉   | 45/65 [00:00<00:00, 45.30it/s]\u001b[A\u001b[A\n",
      "\n",
      " 77%|███████▋  | 50/65 [00:01<00:00, 45.36it/s]\u001b[A\u001b[A\n",
      "\n",
      " 85%|████████▍ | 55/65 [00:01<00:00, 45.46it/s]\u001b[A\u001b[A\n",
      "\n",
      " 92%|█████████▏| 60/65 [00:01<00:00, 45.45it/s]\u001b[A\u001b[A\n",
      "\n",
      "100%|██████████| 65/65 [00:01<00:00, 45.53it/s]\u001b[A\u001b[A\n",
      "\n",
      "\n",
      "  0%|          | 0/8 [00:00<?, ?it/s]\u001b[A\u001b[A\n",
      "\n",
      " 25%|██▌       | 2/8 [00:00<00:00, 10.64it/s]\u001b[A\u001b[A"
     ]
    },
    {
     "name": "stdout",
     "output_type": "stream",
     "text": [
      "Validation Loss:  0.8071412721505532\n",
      "Validation Accuracy:  0.6711538461538461\n",
      "\n",
      "======== Epoch 6 / 10 ========\n",
      "\n",
      "Training...\n"
     ]
    },
    {
     "name": "stderr",
     "output_type": "stream",
     "text": [
      "\n",
      "\n",
      " 50%|█████     | 4/8 [00:00<00:00, 10.52it/s]\u001b[A\u001b[A\n",
      "\n",
      " 75%|███████▌  | 6/8 [00:00<00:00, 10.46it/s]\u001b[A\u001b[A\n",
      "\n",
      "100%|██████████| 8/8 [00:00<00:00, 10.35it/s]\u001b[A\u001b[A\n",
      "\n",
      "\n",
      "  0%|          | 0/65 [00:00<?, ?it/s]\u001b[A\u001b[A\n",
      "\n",
      "  8%|▊         | 5/65 [00:00<00:01, 46.64it/s]\u001b[A\u001b[A"
     ]
    },
    {
     "name": "stdout",
     "output_type": "stream",
     "text": [
      "avg_train_loss 0.17631203960627317\n",
      "train_f1Score 0.9523809523809523\n",
      "train_accuracy 0.953125\n",
      "\n",
      "Running Validation...\n"
     ]
    },
    {
     "name": "stderr",
     "output_type": "stream",
     "text": [
      "\n",
      "\n",
      " 15%|█▌        | 10/65 [00:00<00:01, 46.29it/s]\u001b[A\u001b[A\n",
      "\n",
      " 23%|██▎       | 15/65 [00:00<00:01, 46.07it/s]\u001b[A\u001b[A\n",
      "\n",
      " 31%|███       | 20/65 [00:00<00:00, 45.91it/s]\u001b[A\u001b[A\n",
      "\n",
      " 38%|███▊      | 25/65 [00:00<00:00, 45.75it/s]\u001b[A\u001b[A\n",
      "\n",
      " 46%|████▌     | 30/65 [00:00<00:00, 45.67it/s]\u001b[A\u001b[A\n",
      "\n",
      " 54%|█████▍    | 35/65 [00:00<00:00, 45.53it/s]\u001b[A\u001b[A\n",
      "\n",
      " 62%|██████▏   | 40/65 [00:00<00:00, 45.35it/s]\u001b[A\u001b[A\n",
      "\n",
      " 69%|██████▉   | 45/65 [00:00<00:00, 45.21it/s]\u001b[A\u001b[A\n",
      "\n",
      " 77%|███████▋  | 50/65 [00:01<00:00, 45.30it/s]\u001b[A\u001b[A\n",
      "\n",
      " 85%|████████▍ | 55/65 [00:01<00:00, 45.31it/s]\u001b[A\u001b[A\n",
      "\n",
      " 92%|█████████▏| 60/65 [00:01<00:00, 45.34it/s]\u001b[A\u001b[A\n",
      "\n",
      "100%|██████████| 65/65 [00:01<00:00, 45.41it/s]\u001b[A\u001b[A\n",
      "\n",
      "\n",
      "  0%|          | 0/130 [00:00<?, ?it/s]\u001b[A\u001b[A\n",
      "\n",
      "  4%|▍         | 5/130 [00:00<00:02, 46.12it/s]\u001b[A\u001b[A"
     ]
    },
    {
     "name": "stdout",
     "output_type": "stream",
     "text": [
      "Validation Loss:  0.8124293573773824\n",
      "Validation Accuracy:  0.676923076923077\n",
      "Testing Model....\n"
     ]
    },
    {
     "name": "stderr",
     "output_type": "stream",
     "text": [
      "\n",
      "\n",
      "  8%|▊         | 10/130 [00:00<00:02, 45.85it/s]\u001b[A\u001b[A\n",
      "\n",
      " 12%|█▏        | 15/130 [00:00<00:02, 45.72it/s]\u001b[A\u001b[A\n",
      "\n",
      " 15%|█▌        | 20/130 [00:00<00:02, 45.48it/s]\u001b[A\u001b[A\n",
      "\n",
      " 19%|█▉        | 25/130 [00:00<00:02, 45.41it/s]\u001b[A\u001b[A\n",
      "\n",
      " 23%|██▎       | 30/130 [00:00<00:02, 45.36it/s]\u001b[A\u001b[A\n",
      "\n",
      " 27%|██▋       | 35/130 [00:00<00:02, 45.33it/s]\u001b[A\u001b[A\n",
      "\n",
      " 31%|███       | 40/130 [00:00<00:01, 45.29it/s]\u001b[A\u001b[A\n",
      "\n",
      " 35%|███▍      | 45/130 [00:00<00:01, 45.25it/s]\u001b[A\u001b[A\n",
      "\n",
      " 38%|███▊      | 50/130 [00:01<00:01, 45.26it/s]\u001b[A\u001b[A\n",
      "\n",
      " 42%|████▏     | 55/130 [00:01<00:01, 45.29it/s]\u001b[A\u001b[A\n",
      "\n",
      " 46%|████▌     | 60/130 [00:01<00:01, 45.23it/s]\u001b[A\u001b[A\n",
      "\n",
      " 50%|█████     | 65/130 [00:01<00:01, 45.19it/s]\u001b[A\u001b[A\n",
      "\n",
      " 54%|█████▍    | 70/130 [00:01<00:01, 45.12it/s]\u001b[A\u001b[A\n",
      "\n",
      " 58%|█████▊    | 75/130 [00:01<00:01, 45.11it/s]\u001b[A\u001b[A\n",
      "\n",
      " 62%|██████▏   | 80/130 [00:01<00:01, 45.12it/s]\u001b[A\u001b[A\n",
      "\n",
      " 65%|██████▌   | 85/130 [00:01<00:00, 45.13it/s]\u001b[A\u001b[A\n",
      "\n",
      " 69%|██████▉   | 90/130 [00:01<00:00, 45.14it/s]\u001b[A\u001b[A\n",
      "\n",
      " 73%|███████▎  | 95/130 [00:02<00:00, 45.10it/s]\u001b[A\u001b[A\n",
      "\n",
      " 77%|███████▋  | 100/130 [00:02<00:00, 45.09it/s]\u001b[A\u001b[A\n",
      "\n",
      " 81%|████████  | 105/130 [00:02<00:00, 45.15it/s]\u001b[A\u001b[A\n",
      "\n",
      " 85%|████████▍ | 110/130 [00:02<00:00, 45.09it/s]\u001b[A\u001b[A\n",
      "\n",
      " 88%|████████▊ | 115/130 [00:02<00:00, 45.07it/s]\u001b[A\u001b[A\n",
      "\n",
      " 92%|█████████▏| 120/130 [00:02<00:00, 45.11it/s]\u001b[A\u001b[A\n",
      "\n",
      " 96%|█████████▌| 125/130 [00:02<00:00, 45.10it/s]\u001b[A\u001b[A\n",
      "\n",
      "100%|██████████| 130/130 [00:02<00:00, 45.18it/s]\u001b[A\u001b[A\n",
      "\n",
      "\n",
      "  0%|          | 0/130 [00:00<?, ?it/s]\u001b[A\u001b[A\n",
      "\n",
      "  4%|▍         | 5/130 [00:00<00:02, 45.66it/s]\u001b[A\u001b[A"
     ]
    },
    {
     "name": "stdout",
     "output_type": "stream",
     "text": [
      "Best mF1Score....\n"
     ]
    },
    {
     "name": "stderr",
     "output_type": "stream",
     "text": [
      "\n",
      "\n",
      "  8%|▊         | 10/130 [00:00<00:02, 45.49it/s]\u001b[A\u001b[A\n",
      "\n",
      " 12%|█▏        | 15/130 [00:00<00:02, 45.41it/s]\u001b[A\u001b[A\n",
      "\n",
      " 15%|█▌        | 20/130 [00:00<00:02, 45.29it/s]\u001b[A\u001b[A\n",
      "\n",
      " 19%|█▉        | 25/130 [00:00<00:02, 45.23it/s]\u001b[A\u001b[A\n",
      "\n",
      " 23%|██▎       | 30/130 [00:00<00:02, 45.19it/s]\u001b[A\u001b[A\n",
      "\n",
      " 27%|██▋       | 35/130 [00:00<00:02, 45.14it/s]\u001b[A\u001b[A\n",
      "\n",
      " 31%|███       | 40/130 [00:00<00:01, 45.14it/s]\u001b[A\u001b[A\n",
      "\n",
      " 35%|███▍      | 45/130 [00:00<00:01, 45.02it/s]\u001b[A\u001b[A\n",
      "\n",
      " 38%|███▊      | 50/130 [00:01<00:01, 45.04it/s]\u001b[A\u001b[A\n",
      "\n",
      " 42%|████▏     | 55/130 [00:01<00:01, 44.99it/s]\u001b[A\u001b[A\n",
      "\n",
      " 46%|████▌     | 60/130 [00:01<00:01, 44.98it/s]\u001b[A\u001b[A\n",
      "\n",
      " 50%|█████     | 65/130 [00:01<00:01, 44.98it/s]\u001b[A\u001b[A\n",
      "\n",
      " 54%|█████▍    | 70/130 [00:01<00:01, 44.98it/s]\u001b[A\u001b[A\n",
      "\n",
      " 58%|█████▊    | 75/130 [00:01<00:01, 44.99it/s]\u001b[A\u001b[A\n",
      "\n",
      " 62%|██████▏   | 80/130 [00:01<00:01, 45.02it/s]\u001b[A\u001b[A\n",
      "\n",
      " 65%|██████▌   | 85/130 [00:01<00:01, 45.00it/s]\u001b[A\u001b[A\n",
      "\n",
      " 69%|██████▉   | 90/130 [00:01<00:00, 44.94it/s]\u001b[A\u001b[A\n",
      "\n",
      " 73%|███████▎  | 95/130 [00:02<00:00, 44.99it/s]\u001b[A\u001b[A\n",
      "\n",
      " 77%|███████▋  | 100/130 [00:02<00:00, 44.96it/s]\u001b[A\u001b[A\n",
      "\n",
      " 81%|████████  | 105/130 [00:02<00:00, 45.01it/s]\u001b[A\u001b[A\n",
      "\n",
      " 85%|████████▍ | 110/130 [00:02<00:00, 44.99it/s]\u001b[A\u001b[A\n",
      "\n",
      " 88%|████████▊ | 115/130 [00:02<00:00, 44.98it/s]\u001b[A\u001b[A\n",
      "\n",
      " 92%|█████████▏| 120/130 [00:02<00:00, 45.03it/s]\u001b[A\u001b[A\n",
      "\n",
      " 96%|█████████▌| 125/130 [00:02<00:00, 44.98it/s]\u001b[A\u001b[A\n",
      "\n",
      "100%|██████████| 130/130 [00:02<00:00, 45.01it/s]\u001b[A\u001b[A\n",
      "\n",
      "\n",
      "  0%|          | 0/8 [00:00<?, ?it/s]\u001b[A\u001b[A\n",
      "\n",
      " 25%|██▌       | 2/8 [00:00<00:00, 10.56it/s]\u001b[A\u001b[A"
     ]
    },
    {
     "name": "stdout",
     "output_type": "stream",
     "text": [
      "\n",
      "======== Epoch 7 / 10 ========\n",
      "\n",
      "Training...\n"
     ]
    },
    {
     "name": "stderr",
     "output_type": "stream",
     "text": [
      "\n",
      "\n",
      " 50%|█████     | 4/8 [00:00<00:00, 10.46it/s]\u001b[A\u001b[A\n",
      "\n",
      " 75%|███████▌  | 6/8 [00:00<00:00, 10.39it/s]\u001b[A\u001b[A\n",
      "\n",
      "100%|██████████| 8/8 [00:00<00:00, 10.29it/s]\u001b[A\u001b[A\n",
      "\n",
      "\n",
      "  0%|          | 0/65 [00:00<?, ?it/s]\u001b[A\u001b[A\n",
      "\n",
      "  8%|▊         | 5/65 [00:00<00:01, 46.34it/s]\u001b[A\u001b[A"
     ]
    },
    {
     "name": "stdout",
     "output_type": "stream",
     "text": [
      "avg_train_loss 0.08157879486680031\n",
      "train_f1Score 1.0\n",
      "train_accuracy 1.0\n",
      "\n",
      "Running Validation...\n"
     ]
    },
    {
     "name": "stderr",
     "output_type": "stream",
     "text": [
      "\n",
      "\n",
      " 15%|█▌        | 10/65 [00:00<00:01, 45.93it/s]\u001b[A\u001b[A\n",
      "\n",
      " 23%|██▎       | 15/65 [00:00<00:01, 45.68it/s]\u001b[A\u001b[A\n",
      "\n",
      " 31%|███       | 20/65 [00:00<00:00, 45.47it/s]\u001b[A\u001b[A\n",
      "\n",
      " 38%|███▊      | 25/65 [00:00<00:00, 45.33it/s]\u001b[A\u001b[A\n",
      "\n",
      " 46%|████▌     | 30/65 [00:00<00:00, 45.24it/s]\u001b[A\u001b[A\n",
      "\n",
      " 54%|█████▍    | 35/65 [00:00<00:00, 45.13it/s]\u001b[A\u001b[A\n",
      "\n",
      " 62%|██████▏   | 40/65 [00:00<00:00, 45.04it/s]\u001b[A\u001b[A\n",
      "\n",
      " 69%|██████▉   | 45/65 [00:00<00:00, 44.99it/s]\u001b[A\u001b[A\n",
      "\n",
      " 77%|███████▋  | 50/65 [00:01<00:00, 44.97it/s]\u001b[A\u001b[A\n",
      "\n",
      " 85%|████████▍ | 55/65 [00:01<00:00, 45.02it/s]\u001b[A\u001b[A\n",
      "\n",
      " 92%|█████████▏| 60/65 [00:01<00:00, 45.00it/s]\u001b[A\u001b[A\n",
      "\n",
      "100%|██████████| 65/65 [00:01<00:00, 45.03it/s]\u001b[A\u001b[A\n",
      "\n",
      "\n",
      "  0%|          | 0/8 [00:00<?, ?it/s]\u001b[A\u001b[A\n",
      "\n",
      " 25%|██▌       | 2/8 [00:00<00:00, 10.50it/s]\u001b[A\u001b[A"
     ]
    },
    {
     "name": "stdout",
     "output_type": "stream",
     "text": [
      "Validation Loss:  0.9660624750531637\n",
      "Validation Accuracy:  0.675\n",
      "\n",
      "======== Epoch 8 / 10 ========\n",
      "\n",
      "Training...\n"
     ]
    },
    {
     "name": "stderr",
     "output_type": "stream",
     "text": [
      "\n",
      "\n",
      " 50%|█████     | 4/8 [00:00<00:00, 10.42it/s]\u001b[A\u001b[A\n",
      "\n",
      " 75%|███████▌  | 6/8 [00:00<00:00, 10.35it/s]\u001b[A\u001b[A\n",
      "\n",
      "100%|██████████| 8/8 [00:00<00:00, 10.27it/s]\u001b[A\u001b[A\n",
      "\n",
      "\n",
      "  0%|          | 0/65 [00:00<?, ?it/s]\u001b[A\u001b[A\n",
      "\n",
      "  8%|▊         | 5/65 [00:00<00:01, 45.60it/s]\u001b[A\u001b[A"
     ]
    },
    {
     "name": "stdout",
     "output_type": "stream",
     "text": [
      "avg_train_loss 0.07052893750369549\n",
      "train_f1Score 1.0\n",
      "train_accuracy 1.0\n",
      "\n",
      "Running Validation...\n"
     ]
    },
    {
     "name": "stderr",
     "output_type": "stream",
     "text": [
      "\n",
      "\n",
      " 15%|█▌        | 10/65 [00:00<00:01, 45.42it/s]\u001b[A\u001b[A\n",
      "\n",
      " 23%|██▎       | 15/65 [00:00<00:01, 45.34it/s]\u001b[A\u001b[A\n",
      "\n",
      " 31%|███       | 20/65 [00:00<00:00, 45.24it/s]\u001b[A\u001b[A\n",
      "\n",
      " 38%|███▊      | 25/65 [00:00<00:00, 45.14it/s]\u001b[A\u001b[A\n",
      "\n",
      " 46%|████▌     | 30/65 [00:00<00:00, 45.13it/s]\u001b[A\u001b[A\n",
      "\n",
      " 54%|█████▍    | 35/65 [00:00<00:00, 45.07it/s]\u001b[A\u001b[A\n",
      "\n",
      " 62%|██████▏   | 40/65 [00:00<00:00, 44.98it/s]\u001b[A\u001b[A\n",
      "\n",
      " 69%|██████▉   | 45/65 [00:00<00:00, 44.96it/s]\u001b[A\u001b[A\n",
      "\n",
      " 77%|███████▋  | 50/65 [00:01<00:00, 44.88it/s]\u001b[A\u001b[A\n",
      "\n",
      " 85%|████████▍ | 55/65 [00:01<00:00, 44.89it/s]\u001b[A\u001b[A\n",
      "\n",
      " 92%|█████████▏| 60/65 [00:01<00:00, 44.84it/s]\u001b[A\u001b[A\n",
      "\n",
      "100%|██████████| 65/65 [00:01<00:00, 44.93it/s]\u001b[A\u001b[A\n",
      "\n",
      "\n",
      "  0%|          | 0/130 [00:00<?, ?it/s]\u001b[A\u001b[A\n",
      "\n",
      "  4%|▍         | 5/130 [00:00<00:02, 45.62it/s]\u001b[A\u001b[A"
     ]
    },
    {
     "name": "stdout",
     "output_type": "stream",
     "text": [
      "Validation Loss:  1.08794164451269\n",
      "Validation Accuracy:  0.6634615384615384\n",
      "Testing Model....\n"
     ]
    },
    {
     "name": "stderr",
     "output_type": "stream",
     "text": [
      "\n",
      "\n",
      "  8%|▊         | 10/130 [00:00<00:02, 45.39it/s]\u001b[A\u001b[A\n",
      "\n",
      " 12%|█▏        | 15/130 [00:00<00:02, 45.25it/s]\u001b[A\u001b[A\n",
      "\n",
      " 15%|█▌        | 20/130 [00:00<00:02, 45.09it/s]\u001b[A\u001b[A\n",
      "\n",
      " 19%|█▉        | 25/130 [00:00<00:02, 45.05it/s]\u001b[A\u001b[A\n",
      "\n",
      " 23%|██▎       | 30/130 [00:00<00:02, 44.95it/s]\u001b[A\u001b[A\n",
      "\n",
      " 27%|██▋       | 35/130 [00:00<00:02, 44.94it/s]\u001b[A\u001b[A\n",
      "\n",
      " 31%|███       | 40/130 [00:00<00:02, 44.94it/s]\u001b[A\u001b[A\n",
      "\n",
      " 35%|███▍      | 45/130 [00:01<00:01, 44.94it/s]\u001b[A\u001b[A\n",
      "\n",
      " 38%|███▊      | 50/130 [00:01<00:01, 44.93it/s]\u001b[A\u001b[A\n",
      "\n",
      " 42%|████▏     | 55/130 [00:01<00:01, 44.94it/s]\u001b[A\u001b[A\n",
      "\n",
      " 46%|████▌     | 60/130 [00:01<00:01, 44.95it/s]\u001b[A\u001b[A\n",
      "\n",
      " 50%|█████     | 65/130 [00:01<00:01, 44.96it/s]\u001b[A\u001b[A\n",
      "\n",
      " 54%|█████▍    | 70/130 [00:01<00:01, 44.94it/s]\u001b[A\u001b[A\n",
      "\n",
      " 58%|█████▊    | 75/130 [00:01<00:01, 44.95it/s]\u001b[A\u001b[A\n",
      "\n",
      " 62%|██████▏   | 80/130 [00:01<00:01, 44.89it/s]\u001b[A\u001b[A\n",
      "\n",
      " 65%|██████▌   | 85/130 [00:01<00:01, 44.84it/s]\u001b[A\u001b[A\n",
      "\n",
      " 69%|██████▉   | 90/130 [00:02<00:00, 44.87it/s]\u001b[A\u001b[A\n",
      "\n",
      " 73%|███████▎  | 95/130 [00:02<00:00, 44.83it/s]\u001b[A\u001b[A\n",
      "\n",
      " 77%|███████▋  | 100/130 [00:02<00:00, 44.86it/s]\u001b[A\u001b[A\n",
      "\n",
      " 81%|████████  | 105/130 [00:02<00:00, 44.83it/s]\u001b[A\u001b[A\n",
      "\n",
      " 85%|████████▍ | 110/130 [00:02<00:00, 44.86it/s]\u001b[A\u001b[A\n",
      "\n",
      " 88%|████████▊ | 115/130 [00:02<00:00, 44.81it/s]\u001b[A\u001b[A\n",
      "\n",
      " 92%|█████████▏| 120/130 [00:02<00:00, 44.85it/s]\u001b[A\u001b[A\n",
      "\n",
      " 96%|█████████▌| 125/130 [00:02<00:00, 44.86it/s]\u001b[A\u001b[A\n",
      "\n",
      "100%|██████████| 130/130 [00:02<00:00, 44.89it/s]\u001b[A\u001b[A\n",
      "\n",
      "\n",
      "  0%|          | 0/8 [00:00<?, ?it/s]\u001b[A\u001b[A\n",
      "\n",
      " 25%|██▌       | 2/8 [00:00<00:00, 10.50it/s]\u001b[A\u001b[A"
     ]
    },
    {
     "name": "stdout",
     "output_type": "stream",
     "text": [
      "\n",
      "======== Epoch 9 / 10 ========\n",
      "\n",
      "Training...\n"
     ]
    },
    {
     "name": "stderr",
     "output_type": "stream",
     "text": [
      "\n",
      "\n",
      " 38%|███▊      | 3/8 [00:00<00:00, 10.34it/s]\u001b[A\u001b[A\n",
      "\n",
      " 62%|██████▎   | 5/8 [00:00<00:00, 10.27it/s]\u001b[A\u001b[A\n",
      "\n",
      "100%|██████████| 8/8 [00:00<00:00, 10.22it/s]\u001b[A\u001b[A\n",
      "\n",
      "\n",
      "  0%|          | 0/65 [00:00<?, ?it/s]\u001b[A\u001b[A\n",
      "\n",
      "  8%|▊         | 5/65 [00:00<00:01, 45.80it/s]\u001b[A\u001b[A"
     ]
    },
    {
     "name": "stdout",
     "output_type": "stream",
     "text": [
      "avg_train_loss 0.06384149566292763\n",
      "train_f1Score 1.0\n",
      "train_accuracy 1.0\n",
      "\n",
      "Running Validation...\n"
     ]
    },
    {
     "name": "stderr",
     "output_type": "stream",
     "text": [
      "\n",
      "\n",
      " 15%|█▌        | 10/65 [00:00<00:01, 45.55it/s]\u001b[A\u001b[A\n",
      "\n",
      " 23%|██▎       | 15/65 [00:00<00:01, 45.42it/s]\u001b[A\u001b[A\n",
      "\n",
      " 31%|███       | 20/65 [00:00<00:00, 45.23it/s]\u001b[A\u001b[A\n",
      "\n",
      " 38%|███▊      | 25/65 [00:00<00:00, 45.14it/s]\u001b[A\u001b[A\n",
      "\n",
      " 46%|████▌     | 30/65 [00:00<00:00, 45.00it/s]\u001b[A\u001b[A\n",
      "\n",
      " 54%|█████▍    | 35/65 [00:00<00:00, 44.98it/s]\u001b[A\u001b[A\n",
      "\n",
      " 62%|██████▏   | 40/65 [00:00<00:00, 44.94it/s]\u001b[A\u001b[A\n",
      "\n",
      " 69%|██████▉   | 45/65 [00:01<00:00, 44.93it/s]\u001b[A\u001b[A\n",
      "\n",
      " 77%|███████▋  | 50/65 [00:01<00:00, 44.93it/s]\u001b[A\u001b[A\n",
      "\n",
      " 85%|████████▍ | 55/65 [00:01<00:00, 44.86it/s]\u001b[A\u001b[A\n",
      "\n",
      " 92%|█████████▏| 60/65 [00:01<00:00, 44.88it/s]\u001b[A\u001b[A\n",
      "\n",
      "100%|██████████| 65/65 [00:01<00:00, 44.91it/s]\u001b[A\u001b[A\n",
      "\n",
      "\n",
      "  0%|          | 0/8 [00:00<?, ?it/s]\u001b[A\u001b[A\n",
      "\n",
      " 25%|██▌       | 2/8 [00:00<00:00, 10.50it/s]\u001b[A\u001b[A"
     ]
    },
    {
     "name": "stdout",
     "output_type": "stream",
     "text": [
      "Validation Loss:  1.147485993229426\n",
      "Validation Accuracy:  0.6596153846153846\n",
      "\n",
      "======== Epoch 10 / 10 ========\n",
      "\n",
      "Training...\n"
     ]
    },
    {
     "name": "stderr",
     "output_type": "stream",
     "text": [
      "\n",
      "\n",
      " 50%|█████     | 4/8 [00:00<00:00, 10.43it/s]\u001b[A\u001b[A\n",
      "\n",
      " 75%|███████▌  | 6/8 [00:00<00:00, 10.37it/s]\u001b[A\u001b[A\n",
      "\n",
      "100%|██████████| 8/8 [00:00<00:00, 10.29it/s]\u001b[A\u001b[A\n",
      "\n",
      "\n",
      "  0%|          | 0/65 [00:00<?, ?it/s]\u001b[A\u001b[A\n",
      "\n",
      "  8%|▊         | 5/65 [00:00<00:01, 46.03it/s]\u001b[A\u001b[A"
     ]
    },
    {
     "name": "stdout",
     "output_type": "stream",
     "text": [
      "avg_train_loss 0.06018767599016428\n",
      "train_f1Score 1.0\n",
      "train_accuracy 1.0\n",
      "\n",
      "Running Validation...\n"
     ]
    },
    {
     "name": "stderr",
     "output_type": "stream",
     "text": [
      "\n",
      "\n",
      " 15%|█▌        | 10/65 [00:00<00:01, 45.68it/s]\u001b[A\u001b[A\n",
      "\n",
      " 23%|██▎       | 15/65 [00:00<00:01, 45.46it/s]\u001b[A\u001b[A\n",
      "\n",
      " 31%|███       | 20/65 [00:00<00:00, 45.31it/s]\u001b[A\u001b[A\n",
      "\n",
      " 38%|███▊      | 25/65 [00:00<00:00, 45.19it/s]\u001b[A\u001b[A\n",
      "\n",
      " 46%|████▌     | 30/65 [00:00<00:00, 45.02it/s]\u001b[A\u001b[A\n",
      "\n",
      " 54%|█████▍    | 35/65 [00:00<00:00, 44.98it/s]\u001b[A\u001b[A\n",
      "\n",
      " 62%|██████▏   | 40/65 [00:00<00:00, 44.90it/s]\u001b[A\u001b[A\n",
      "\n",
      " 69%|██████▉   | 45/65 [00:01<00:00, 44.92it/s]\u001b[A\u001b[A\n",
      "\n",
      " 77%|███████▋  | 50/65 [00:01<00:00, 44.92it/s]\u001b[A\u001b[A\n",
      "\n",
      " 85%|████████▍ | 55/65 [00:01<00:00, 44.98it/s]\u001b[A\u001b[A\n",
      "\n",
      " 92%|█████████▏| 60/65 [00:01<00:00, 44.91it/s]\u001b[A\u001b[A\n",
      "\n",
      "100%|██████████| 65/65 [00:01<00:00, 44.96it/s]\u001b[A\u001b[A\n",
      "\n",
      "\n",
      "  0%|          | 0/130 [00:00<?, ?it/s]\u001b[A\u001b[A\n",
      "\n",
      "  4%|▍         | 5/130 [00:00<00:02, 45.24it/s]\u001b[A\u001b[A"
     ]
    },
    {
     "name": "stdout",
     "output_type": "stream",
     "text": [
      "Validation Loss:  1.1685984409772432\n",
      "Validation Accuracy:  0.6615384615384615\n",
      "Testing Model....\n"
     ]
    },
    {
     "name": "stderr",
     "output_type": "stream",
     "text": [
      "\n",
      "\n",
      "  8%|▊         | 10/130 [00:00<00:02, 45.17it/s]\u001b[A\u001b[A\n",
      "\n",
      " 12%|█▏        | 15/130 [00:00<00:02, 45.08it/s]\u001b[A\u001b[A\n",
      "\n",
      " 15%|█▌        | 20/130 [00:00<00:02, 45.07it/s]\u001b[A\u001b[A\n",
      "\n",
      " 19%|█▉        | 25/130 [00:00<00:02, 45.00it/s]\u001b[A\u001b[A\n",
      "\n",
      " 23%|██▎       | 30/130 [00:00<00:02, 44.97it/s]\u001b[A\u001b[A\n",
      "\n",
      " 27%|██▋       | 35/130 [00:00<00:02, 44.89it/s]\u001b[A\u001b[A\n",
      "\n",
      " 31%|███       | 40/130 [00:00<00:02, 44.87it/s]\u001b[A\u001b[A\n",
      "\n",
      " 35%|███▍      | 45/130 [00:01<00:01, 44.83it/s]\u001b[A\u001b[A\n",
      "\n",
      " 38%|███▊      | 50/130 [00:01<00:01, 44.88it/s]\u001b[A\u001b[A\n",
      "\n",
      " 42%|████▏     | 55/130 [00:01<00:01, 44.82it/s]\u001b[A\u001b[A\n",
      "\n",
      " 46%|████▌     | 60/130 [00:01<00:01, 44.86it/s]\u001b[A\u001b[A\n",
      "\n",
      " 50%|█████     | 65/130 [00:01<00:01, 44.82it/s]\u001b[A\u001b[A\n",
      "\n",
      " 54%|█████▍    | 70/130 [00:01<00:01, 44.82it/s]\u001b[A\u001b[A\n",
      "\n",
      " 58%|█████▊    | 75/130 [00:01<00:01, 44.80it/s]\u001b[A\u001b[A\n",
      "\n",
      " 62%|██████▏   | 80/130 [00:01<00:01, 44.87it/s]\u001b[A\u001b[A\n",
      "\n",
      " 65%|██████▌   | 85/130 [00:01<00:01, 44.82it/s]\u001b[A\u001b[A\n",
      "\n",
      " 69%|██████▉   | 90/130 [00:02<00:00, 44.88it/s]\u001b[A\u001b[A\n",
      "\n",
      " 73%|███████▎  | 95/130 [00:02<00:00, 44.91it/s]\u001b[A\u001b[A\n",
      "\n",
      " 77%|███████▋  | 100/130 [00:02<00:00, 44.85it/s]\u001b[A\u001b[A\n",
      "\n",
      " 81%|████████  | 105/130 [00:02<00:00, 44.86it/s]\u001b[A\u001b[A\n",
      "\n",
      " 85%|████████▍ | 110/130 [00:02<00:00, 44.82it/s]\u001b[A\u001b[A\n",
      "\n",
      " 88%|████████▊ | 115/130 [00:02<00:00, 44.85it/s]\u001b[A\u001b[A\n",
      "\n",
      " 92%|█████████▏| 120/130 [00:02<00:00, 44.82it/s]\u001b[A\u001b[A\n",
      "\n",
      " 96%|█████████▌| 125/130 [00:02<00:00, 44.86it/s]\u001b[A\u001b[A\n",
      "\n",
      "100%|██████████| 130/130 [00:02<00:00, 44.85it/s]\u001b[A\u001b[A\n"
     ]
    },
    {
     "name": "stdout",
     "output_type": "stream",
     "text": [
      "Saving Test Metrics....\n",
      "Run:  2\n",
      "\tInitialising Model....\n"
     ]
    },
    {
     "name": "stderr",
     "output_type": "stream",
     "text": [
      "\n",
      "\n",
      "100%|██████████| 64/64 [00:00<00:00, 14130.41it/s]\n",
      "\n",
      "\n",
      "100%|██████████| 523/523 [00:00<00:00, 13789.07it/s]\n",
      "\n",
      "\n",
      "100%|██████████| 1047/1047 [00:00<00:00, 14081.21it/s]\n",
      "\n",
      "\n",
      "100%|██████████| 64/64 [00:00<00:00, 3720.06it/s]\n",
      "\n",
      "\n",
      "  0%|          | 0/523 [00:00<?, ?it/s]\u001b[A\u001b[A\n",
      "\n"
     ]
    },
    {
     "name": "stdout",
     "output_type": "stream",
     "text": [
      "\tLoading Dataset....\n",
      "\tTraining Starts....\n"
     ]
    },
    {
     "name": "stderr",
     "output_type": "stream",
     "text": [
      "100%|██████████| 523/523 [00:00<00:00, 3514.00it/s]\u001b[A\u001b[A\n",
      "\n",
      "\n",
      "  0%|          | 0/1047 [00:00<?, ?it/s]\u001b[A\u001b[A\n",
      "\n",
      " 36%|███▌      | 376/1047 [00:00<00:00, 3750.36it/s]\u001b[A\u001b[A\n",
      "\n",
      "100%|██████████| 1047/1047 [00:00<00:00, 3726.75it/s][A\u001b[A\n",
      "Some weights of the model checkpoint at bert-base-multilingual-cased were not used when initializing BertForSequenceClassification: ['cls.predictions.bias', 'cls.predictions.transform.dense.weight', 'cls.predictions.transform.dense.bias', 'cls.predictions.decoder.weight', 'cls.seq_relationship.weight', 'cls.seq_relationship.bias', 'cls.predictions.transform.LayerNorm.weight', 'cls.predictions.transform.LayerNorm.bias']\n",
      "- This IS expected if you are initializing BertForSequenceClassification from the checkpoint of a model trained on another task or with another architecture (e.g. initializing a BertForSequenceClassification model from a BertForPreTraining model).\n",
      "- This IS NOT expected if you are initializing BertForSequenceClassification from the checkpoint of a model that you expect to be exactly identical (initializing a BertForSequenceClassification model from a BertForSequenceClassification model).\n",
      "Some weights of BertForSequenceClassification were not initialized from the model checkpoint at bert-base-multilingual-cased and are newly initialized: ['classifier.weight', 'classifier.bias']\n",
      "You should probably TRAIN this model on a down-stream task to be able to use it for predictions and inference.\n",
      "\n",
      "\n",
      "  0%|          | 0/8 [00:00<?, ?it/s]\u001b[A\u001b[A\n",
      "\n",
      " 25%|██▌       | 2/8 [00:00<00:00, 10.99it/s]\u001b[A\u001b[A"
     ]
    },
    {
     "name": "stdout",
     "output_type": "stream",
     "text": [
      "\n",
      "======== Epoch 1 / 10 ========\n",
      "\n",
      "Training...\n"
     ]
    },
    {
     "name": "stderr",
     "output_type": "stream",
     "text": [
      "\n",
      "\n",
      " 50%|█████     | 4/8 [00:00<00:00, 10.81it/s]\u001b[A\u001b[A\n",
      "\n",
      " 75%|███████▌  | 6/8 [00:00<00:00, 10.66it/s]\u001b[A\u001b[A\n",
      "\n",
      "100%|██████████| 8/8 [00:00<00:00, 10.51it/s]\u001b[A\u001b[A\n",
      "\n",
      "\n",
      "  0%|          | 0/65 [00:00<?, ?it/s]\u001b[A\u001b[A\n",
      "\n",
      "  8%|▊         | 5/65 [00:00<00:01, 47.21it/s]\u001b[A\u001b[A"
     ]
    },
    {
     "name": "stdout",
     "output_type": "stream",
     "text": [
      "avg_train_loss 0.9940396696329117\n",
      "train_f1Score 0.42105263157894735\n",
      "train_accuracy 0.484375\n",
      "\n",
      "Running Validation...\n"
     ]
    },
    {
     "name": "stderr",
     "output_type": "stream",
     "text": [
      "\n",
      "\n",
      " 15%|█▌        | 10/65 [00:00<00:01, 46.86it/s]\u001b[A\u001b[A\n",
      "\n",
      " 23%|██▎       | 15/65 [00:00<00:01, 46.65it/s]\u001b[A\u001b[A\n",
      "\n",
      " 31%|███       | 20/65 [00:00<00:00, 46.47it/s]\u001b[A\u001b[A\n",
      "\n",
      " 38%|███▊      | 25/65 [00:00<00:00, 46.39it/s]\u001b[A\u001b[A\n",
      "\n",
      " 46%|████▌     | 30/65 [00:00<00:00, 46.20it/s]\u001b[A\u001b[A\n",
      "\n",
      " 54%|█████▍    | 35/65 [00:00<00:00, 46.08it/s]\u001b[A\u001b[A\n",
      "\n",
      " 62%|██████▏   | 40/65 [00:00<00:00, 45.86it/s]\u001b[A\u001b[A\n",
      "\n",
      " 69%|██████▉   | 45/65 [00:00<00:00, 45.75it/s]\u001b[A\u001b[A\n",
      "\n",
      " 77%|███████▋  | 50/65 [00:01<00:00, 45.80it/s]\u001b[A\u001b[A\n",
      "\n",
      " 85%|████████▍ | 55/65 [00:01<00:00, 45.83it/s]\u001b[A\u001b[A\n",
      "\n",
      " 92%|█████████▏| 60/65 [00:01<00:00, 45.88it/s]\u001b[A\u001b[A\n",
      "\n",
      "100%|██████████| 65/65 [00:01<00:00, 45.94it/s]\u001b[A\u001b[A\n",
      "/home/user/anaconda3/lib/python3.7/site-packages/sklearn/metrics/_classification.py:1248: UndefinedMetricWarning: Precision is ill-defined and being set to 0.0 due to no predicted samples. Use `zero_division` parameter to control this behavior.\n",
      "  _warn_prf(average, modifier, msg_start, len(result))\n",
      "\n",
      "\n",
      "  0%|          | 0/130 [00:00<?, ?it/s]\u001b[A\u001b[A\n",
      "\n",
      "  4%|▍         | 5/130 [00:00<00:02, 46.41it/s]\u001b[A\u001b[A"
     ]
    },
    {
     "name": "stdout",
     "output_type": "stream",
     "text": [
      "Validation Loss:  0.8579578500527602\n",
      "Validation Accuracy:  0.49423076923076925\n",
      "Best mF1Score....\n"
     ]
    },
    {
     "name": "stderr",
     "output_type": "stream",
     "text": [
      "\n",
      "\n",
      "  8%|▊         | 10/130 [00:00<00:02, 46.27it/s]\u001b[A\u001b[A\n",
      "\n",
      " 12%|█▏        | 15/130 [00:00<00:02, 46.19it/s]\u001b[A\u001b[A\n",
      "\n",
      " 15%|█▌        | 20/130 [00:00<00:02, 46.04it/s]\u001b[A\u001b[A\n",
      "\n",
      " 19%|█▉        | 25/130 [00:00<00:02, 45.92it/s]\u001b[A\u001b[A\n",
      "\n",
      " 23%|██▎       | 30/130 [00:00<00:02, 45.92it/s]\u001b[A\u001b[A\n",
      "\n",
      " 27%|██▋       | 35/130 [00:00<00:02, 45.87it/s]\u001b[A\u001b[A\n",
      "\n",
      " 31%|███       | 40/130 [00:00<00:01, 45.86it/s]\u001b[A\u001b[A\n",
      "\n",
      " 35%|███▍      | 45/130 [00:00<00:01, 45.72it/s]\u001b[A\u001b[A\n",
      "\n",
      " 38%|███▊      | 50/130 [00:01<00:01, 45.74it/s]\u001b[A\u001b[A\n",
      "\n",
      " 42%|████▏     | 55/130 [00:01<00:01, 45.78it/s]\u001b[A\u001b[A\n",
      "\n",
      " 46%|████▌     | 60/130 [00:01<00:01, 45.80it/s]\u001b[A\u001b[A\n",
      "\n",
      " 50%|█████     | 65/130 [00:01<00:01, 45.54it/s]\u001b[A\u001b[A\n",
      "\n",
      " 54%|█████▍    | 70/130 [00:01<00:01, 45.58it/s]\u001b[A\u001b[A\n",
      "\n",
      " 58%|█████▊    | 75/130 [00:01<00:01, 45.65it/s]\u001b[A\u001b[A\n",
      "\n",
      " 62%|██████▏   | 80/130 [00:01<00:01, 45.69it/s]\u001b[A\u001b[A\n",
      "\n",
      " 65%|██████▌   | 85/130 [00:01<00:00, 45.64it/s]\u001b[A\u001b[A\n",
      "\n",
      " 69%|██████▉   | 90/130 [00:01<00:00, 45.58it/s]\u001b[A\u001b[A\n",
      "\n",
      " 73%|███████▎  | 95/130 [00:02<00:00, 45.62it/s]\u001b[A\u001b[A\n",
      "\n",
      " 77%|███████▋  | 100/130 [00:02<00:00, 45.66it/s]\u001b[A\u001b[A\n",
      "\n",
      " 81%|████████  | 105/130 [00:02<00:00, 45.66it/s]\u001b[A\u001b[A\n",
      "\n",
      " 85%|████████▍ | 110/130 [00:02<00:00, 45.69it/s]\u001b[A\u001b[A\n",
      "\n",
      " 88%|████████▊ | 115/130 [00:02<00:00, 45.65it/s]\u001b[A\u001b[A\n",
      "\n",
      " 92%|█████████▏| 120/130 [00:02<00:00, 45.67it/s]\u001b[A\u001b[A\n",
      "\n",
      " 96%|█████████▌| 125/130 [00:02<00:00, 45.63it/s]\u001b[A\u001b[A\n",
      "\n",
      "100%|██████████| 130/130 [00:02<00:00, 45.70it/s]\u001b[A\u001b[A\n",
      "\n",
      "\n",
      "  0%|          | 0/8 [00:00<?, ?it/s]\u001b[A\u001b[A\n",
      "\n",
      " 25%|██▌       | 2/8 [00:00<00:00, 10.70it/s]\u001b[A\u001b[A"
     ]
    },
    {
     "name": "stdout",
     "output_type": "stream",
     "text": [
      "\n",
      "======== Epoch 2 / 10 ========\n",
      "\n",
      "Training...\n"
     ]
    },
    {
     "name": "stderr",
     "output_type": "stream",
     "text": [
      "\n",
      "\n",
      " 50%|█████     | 4/8 [00:00<00:00, 10.59it/s]\u001b[A\u001b[A\n",
      "\n",
      " 75%|███████▌  | 6/8 [00:00<00:00, 10.51it/s]\u001b[A\u001b[A\n",
      "\n",
      "100%|██████████| 8/8 [00:00<00:00, 10.40it/s]\u001b[A\u001b[A\n",
      "\n",
      "\n",
      "  0%|          | 0/65 [00:00<?, ?it/s]\u001b[A\u001b[A\n",
      "\n",
      "  8%|▊         | 5/65 [00:00<00:01, 46.91it/s]\u001b[A\u001b[A"
     ]
    },
    {
     "name": "stdout",
     "output_type": "stream",
     "text": [
      "avg_train_loss 0.7400213554501534\n",
      "train_f1Score 0.6593406593406593\n",
      "train_accuracy 0.515625\n",
      "\n",
      "Running Validation...\n"
     ]
    },
    {
     "name": "stderr",
     "output_type": "stream",
     "text": [
      "\n",
      "\n",
      " 15%|█▌        | 10/65 [00:00<00:01, 46.53it/s]\u001b[A\u001b[A\n",
      "\n",
      " 23%|██▎       | 15/65 [00:00<00:01, 46.31it/s]\u001b[A\u001b[A\n",
      "\n",
      " 31%|███       | 20/65 [00:00<00:00, 46.17it/s]\u001b[A\u001b[A\n",
      "\n",
      " 38%|███▊      | 25/65 [00:00<00:00, 46.09it/s]\u001b[A\u001b[A\n",
      "\n",
      " 46%|████▌     | 30/65 [00:00<00:00, 46.05it/s]\u001b[A\u001b[A\n",
      "\n",
      " 54%|█████▍    | 35/65 [00:00<00:00, 45.89it/s]\u001b[A\u001b[A\n",
      "\n",
      " 62%|██████▏   | 40/65 [00:00<00:00, 45.68it/s]\u001b[A\u001b[A\n",
      "\n",
      " 69%|██████▉   | 45/65 [00:00<00:00, 45.42it/s]\u001b[A\u001b[A\n",
      "\n",
      " 77%|███████▋  | 50/65 [00:01<00:00, 45.51it/s]\u001b[A\u001b[A\n",
      "\n",
      " 85%|████████▍ | 55/65 [00:01<00:00, 45.56it/s]\u001b[A\u001b[A\n",
      "\n",
      " 92%|█████████▏| 60/65 [00:01<00:00, 45.59it/s]\u001b[A\u001b[A\n",
      "\n",
      "100%|██████████| 65/65 [00:01<00:00, 45.70it/s]\u001b[A\u001b[A\n",
      "\n",
      "\n",
      "  0%|          | 0/130 [00:00<?, ?it/s]\u001b[A\u001b[A\n",
      "\n",
      "  4%|▍         | 5/130 [00:00<00:02, 46.20it/s]\u001b[A\u001b[A"
     ]
    },
    {
     "name": "stdout",
     "output_type": "stream",
     "text": [
      "Validation Loss:  0.6635610699653626\n",
      "Validation Accuracy:  0.6673076923076923\n",
      "Testing Model....\n"
     ]
    },
    {
     "name": "stderr",
     "output_type": "stream",
     "text": [
      "\n",
      "\n",
      "  8%|▊         | 10/130 [00:00<00:02, 46.00it/s]\u001b[A\u001b[A\n",
      "\n",
      " 12%|█▏        | 15/130 [00:00<00:02, 45.93it/s]\u001b[A\u001b[A\n",
      "\n",
      " 15%|█▌        | 20/130 [00:00<00:02, 45.82it/s]\u001b[A\u001b[A\n",
      "\n",
      " 19%|█▉        | 25/130 [00:00<00:02, 45.66it/s]\u001b[A\u001b[A\n",
      "\n",
      " 23%|██▎       | 30/130 [00:00<00:02, 45.70it/s]\u001b[A\u001b[A\n",
      "\n",
      " 27%|██▋       | 35/130 [00:00<00:02, 45.65it/s]\u001b[A\u001b[A\n",
      "\n",
      " 31%|███       | 40/130 [00:00<00:01, 45.71it/s]\u001b[A\u001b[A\n",
      "\n",
      " 35%|███▍      | 45/130 [00:00<00:01, 45.63it/s]\u001b[A\u001b[A\n",
      "\n",
      " 38%|███▊      | 50/130 [00:01<00:01, 45.65it/s]\u001b[A\u001b[A\n",
      "\n",
      " 42%|████▏     | 55/130 [00:01<00:01, 45.57it/s]\u001b[A\u001b[A\n",
      "\n",
      " 46%|████▌     | 60/130 [00:01<00:01, 45.58it/s]\u001b[A\u001b[A\n",
      "\n",
      " 50%|█████     | 65/130 [00:01<00:01, 45.53it/s]\u001b[A\u001b[A\n",
      "\n",
      " 54%|█████▍    | 70/130 [00:01<00:01, 45.50it/s]\u001b[A\u001b[A\n",
      "\n",
      " 58%|█████▊    | 75/130 [00:01<00:01, 45.54it/s]\u001b[A\u001b[A\n",
      "\n",
      " 62%|██████▏   | 80/130 [00:01<00:01, 45.55it/s]\u001b[A\u001b[A\n",
      "\n",
      " 65%|██████▌   | 85/130 [00:01<00:00, 45.51it/s]\u001b[A\u001b[A\n",
      "\n",
      " 69%|██████▉   | 90/130 [00:01<00:00, 45.48it/s]\u001b[A\u001b[A\n",
      "\n",
      " 73%|███████▎  | 95/130 [00:02<00:00, 45.53it/s]\u001b[A\u001b[A\n",
      "\n",
      " 77%|███████▋  | 100/130 [00:02<00:00, 45.46it/s]\u001b[A\u001b[A\n",
      "\n",
      " 81%|████████  | 105/130 [00:02<00:00, 45.52it/s]\u001b[A\u001b[A\n",
      "\n",
      " 85%|████████▍ | 110/130 [00:02<00:00, 45.50it/s]\u001b[A\u001b[A\n",
      "\n",
      " 88%|████████▊ | 115/130 [00:02<00:00, 45.48it/s]\u001b[A\u001b[A\n",
      "\n",
      " 92%|█████████▏| 120/130 [00:02<00:00, 45.49it/s]\u001b[A\u001b[A\n",
      "\n",
      " 96%|█████████▌| 125/130 [00:02<00:00, 45.49it/s]\u001b[A\u001b[A\n",
      "\n",
      "100%|██████████| 130/130 [00:02<00:00, 45.54it/s]\u001b[A\u001b[A\n",
      "\n",
      "\n",
      "  0%|          | 0/130 [00:00<?, ?it/s]\u001b[A\u001b[A\n",
      "\n",
      "  4%|▍         | 5/130 [00:00<00:02, 46.25it/s]\u001b[A\u001b[A"
     ]
    },
    {
     "name": "stdout",
     "output_type": "stream",
     "text": [
      "Best mF1Score....\n"
     ]
    },
    {
     "name": "stderr",
     "output_type": "stream",
     "text": [
      "\n",
      "\n",
      "  8%|▊         | 10/130 [00:00<00:02, 45.97it/s]\u001b[A\u001b[A\n",
      "\n",
      " 12%|█▏        | 15/130 [00:00<00:02, 45.89it/s]\u001b[A\u001b[A\n",
      "\n",
      " 15%|█▌        | 20/130 [00:00<00:02, 45.73it/s]\u001b[A\u001b[A\n",
      "\n",
      " 19%|█▉        | 25/130 [00:00<00:02, 45.68it/s]\u001b[A\u001b[A\n",
      "\n",
      " 23%|██▎       | 30/130 [00:00<00:02, 45.63it/s]\u001b[A\u001b[A\n",
      "\n",
      " 27%|██▋       | 35/130 [00:00<00:02, 45.64it/s]\u001b[A\u001b[A\n",
      "\n",
      " 31%|███       | 40/130 [00:00<00:01, 45.59it/s]\u001b[A\u001b[A\n",
      "\n",
      " 35%|███▍      | 45/130 [00:00<00:01, 45.38it/s]\u001b[A\u001b[A\n",
      "\n",
      " 38%|███▊      | 50/130 [00:01<00:01, 45.39it/s]\u001b[A\u001b[A\n",
      "\n",
      " 42%|████▏     | 55/130 [00:01<00:01, 45.39it/s]\u001b[A\u001b[A\n",
      "\n",
      " 46%|████▌     | 60/130 [00:01<00:01, 45.42it/s]\u001b[A\u001b[A\n",
      "\n",
      " 50%|█████     | 65/130 [00:01<00:01, 45.41it/s]\u001b[A\u001b[A\n",
      "\n",
      " 54%|█████▍    | 70/130 [00:01<00:01, 45.41it/s]\u001b[A\u001b[A\n",
      "\n",
      " 58%|█████▊    | 75/130 [00:01<00:01, 45.35it/s]\u001b[A\u001b[A\n",
      "\n",
      " 62%|██████▏   | 80/130 [00:01<00:01, 45.36it/s]\u001b[A\u001b[A\n",
      "\n",
      " 65%|██████▌   | 85/130 [00:01<00:00, 45.33it/s]\u001b[A\u001b[A\n",
      "\n",
      " 69%|██████▉   | 90/130 [00:01<00:00, 45.36it/s]\u001b[A\u001b[A\n",
      "\n",
      " 73%|███████▎  | 95/130 [00:02<00:00, 45.35it/s]\u001b[A\u001b[A\n",
      "\n",
      " 77%|███████▋  | 100/130 [00:02<00:00, 45.45it/s]\u001b[A\u001b[A\n",
      "\n",
      " 81%|████████  | 105/130 [00:02<00:00, 45.42it/s]\u001b[A\u001b[A\n",
      "\n",
      " 85%|████████▍ | 110/130 [00:02<00:00, 45.35it/s]\u001b[A\u001b[A\n",
      "\n",
      " 88%|████████▊ | 115/130 [00:02<00:00, 45.34it/s]\u001b[A\u001b[A\n",
      "\n",
      " 92%|█████████▏| 120/130 [00:02<00:00, 45.30it/s]\u001b[A\u001b[A\n",
      "\n",
      " 96%|█████████▌| 125/130 [00:02<00:00, 45.27it/s]\u001b[A\u001b[A\n",
      "\n",
      "100%|██████████| 130/130 [00:02<00:00, 45.39it/s]\u001b[A\u001b[A\n",
      "\n",
      "\n",
      "  0%|          | 0/8 [00:00<?, ?it/s]\u001b[A\u001b[A\n",
      "\n",
      " 25%|██▌       | 2/8 [00:00<00:00, 10.64it/s]\u001b[A\u001b[A"
     ]
    },
    {
     "name": "stdout",
     "output_type": "stream",
     "text": [
      "\n",
      "======== Epoch 3 / 10 ========\n",
      "\n",
      "Training...\n"
     ]
    },
    {
     "name": "stderr",
     "output_type": "stream",
     "text": [
      "\n",
      "\n",
      " 50%|█████     | 4/8 [00:00<00:00, 10.53it/s]\u001b[A\u001b[A\n",
      "\n",
      " 75%|███████▌  | 6/8 [00:00<00:00, 10.45it/s]\u001b[A\u001b[A\n",
      "\n",
      "100%|██████████| 8/8 [00:00<00:00, 10.34it/s]\u001b[A\u001b[A\n",
      "\n",
      "\n",
      "  0%|          | 0/65 [00:00<?, ?it/s]\u001b[A\u001b[A\n",
      "\n",
      "  8%|▊         | 5/65 [00:00<00:01, 46.50it/s]\u001b[A\u001b[A"
     ]
    },
    {
     "name": "stdout",
     "output_type": "stream",
     "text": [
      "avg_train_loss 0.5595998018980026\n",
      "train_f1Score 0.631578947368421\n",
      "train_accuracy 0.671875\n",
      "\n",
      "Running Validation...\n"
     ]
    },
    {
     "name": "stderr",
     "output_type": "stream",
     "text": [
      "\n",
      "\n",
      " 15%|█▌        | 10/65 [00:00<00:01, 46.12it/s]\u001b[A\u001b[A\n",
      "\n",
      " 23%|██▎       | 15/65 [00:00<00:01, 45.90it/s]\u001b[A\u001b[A\n",
      "\n",
      " 31%|███       | 20/65 [00:00<00:00, 45.73it/s]\u001b[A\u001b[A\n",
      "\n",
      " 38%|███▊      | 25/65 [00:00<00:00, 45.63it/s]\u001b[A\u001b[A\n",
      "\n",
      " 46%|████▌     | 30/65 [00:00<00:00, 45.52it/s]\u001b[A\u001b[A\n",
      "\n",
      " 54%|█████▍    | 35/65 [00:00<00:00, 45.44it/s]\u001b[A\u001b[A\n",
      "\n",
      " 62%|██████▏   | 40/65 [00:00<00:00, 45.25it/s]\u001b[A\u001b[A\n",
      "\n",
      " 69%|██████▉   | 45/65 [00:00<00:00, 45.09it/s]\u001b[A\u001b[A\n",
      "\n",
      " 77%|███████▋  | 50/65 [00:01<00:00, 45.12it/s]\u001b[A\u001b[A\n",
      "\n",
      " 85%|████████▍ | 55/65 [00:01<00:00, 45.18it/s]\u001b[A\u001b[A\n",
      "\n",
      " 92%|█████████▏| 60/65 [00:01<00:00, 45.19it/s]\u001b[A\u001b[A\n",
      "\n",
      "100%|██████████| 65/65 [00:01<00:00, 45.27it/s]\u001b[A\u001b[A\n",
      "\n",
      "\n",
      "  0%|          | 0/8 [00:00<?, ?it/s]\u001b[A\u001b[A\n",
      "\n",
      " 25%|██▌       | 2/8 [00:00<00:00, 10.65it/s]\u001b[A\u001b[A"
     ]
    },
    {
     "name": "stdout",
     "output_type": "stream",
     "text": [
      "Validation Loss:  0.6802021210010235\n",
      "Validation Accuracy:  0.6423076923076924\n",
      "\n",
      "======== Epoch 4 / 10 ========\n",
      "\n",
      "Training...\n"
     ]
    },
    {
     "name": "stderr",
     "output_type": "stream",
     "text": [
      "\n",
      "\n",
      " 50%|█████     | 4/8 [00:00<00:00, 10.54it/s]\u001b[A\u001b[A\n",
      "\n",
      " 75%|███████▌  | 6/8 [00:00<00:00, 10.47it/s]\u001b[A\u001b[A\n",
      "\n",
      "100%|██████████| 8/8 [00:00<00:00, 10.35it/s]\u001b[A\u001b[A\n",
      "\n",
      "\n",
      "  0%|          | 0/65 [00:00<?, ?it/s]\u001b[A\u001b[A\n",
      "\n",
      "  8%|▊         | 5/65 [00:00<00:01, 46.56it/s]\u001b[A\u001b[A"
     ]
    },
    {
     "name": "stdout",
     "output_type": "stream",
     "text": [
      "avg_train_loss 0.4227747172117233\n",
      "train_f1Score 0.8125\n",
      "train_accuracy 0.8125\n",
      "\n",
      "Running Validation...\n"
     ]
    },
    {
     "name": "stderr",
     "output_type": "stream",
     "text": [
      "\n",
      "\n",
      " 15%|█▌        | 10/65 [00:00<00:01, 46.18it/s]\u001b[A\u001b[A\n",
      "\n",
      " 23%|██▎       | 15/65 [00:00<00:01, 45.92it/s]\u001b[A\u001b[A\n",
      "\n",
      " 31%|███       | 20/65 [00:00<00:00, 45.70it/s]\u001b[A\u001b[A\n",
      "\n",
      " 38%|███▊      | 25/65 [00:00<00:00, 45.58it/s]\u001b[A\u001b[A\n",
      "\n",
      " 46%|████▌     | 30/65 [00:00<00:00, 45.49it/s]\u001b[A\u001b[A\n",
      "\n",
      " 54%|█████▍    | 35/65 [00:00<00:00, 45.44it/s]\u001b[A\u001b[A\n",
      "\n",
      " 62%|██████▏   | 40/65 [00:00<00:00, 45.26it/s]\u001b[A\u001b[A\n",
      "\n",
      " 69%|██████▉   | 45/65 [00:00<00:00, 45.05it/s]\u001b[A\u001b[A\n",
      "\n",
      " 77%|███████▋  | 50/65 [00:01<00:00, 45.09it/s]\u001b[A\u001b[A\n",
      "\n",
      " 85%|████████▍ | 55/65 [00:01<00:00, 45.15it/s]\u001b[A\u001b[A\n",
      "\n",
      " 92%|█████████▏| 60/65 [00:01<00:00, 45.17it/s]\u001b[A\u001b[A\n",
      "\n",
      "100%|██████████| 65/65 [00:01<00:00, 45.24it/s]\u001b[A\u001b[A\n",
      "\n",
      "\n",
      "  0%|          | 0/130 [00:00<?, ?it/s]\u001b[A\u001b[A\n",
      "\n",
      "  4%|▍         | 5/130 [00:00<00:02, 45.68it/s]\u001b[A\u001b[A"
     ]
    },
    {
     "name": "stdout",
     "output_type": "stream",
     "text": [
      "Validation Loss:  0.7432591160902611\n",
      "Validation Accuracy:  0.6557692307692308\n",
      "Testing Model....\n"
     ]
    },
    {
     "name": "stderr",
     "output_type": "stream",
     "text": [
      "\n",
      "\n",
      "  8%|▊         | 10/130 [00:00<00:02, 45.50it/s]\u001b[A\u001b[A\n",
      "\n",
      " 12%|█▏        | 15/130 [00:00<00:02, 45.41it/s]\u001b[A\u001b[A\n",
      "\n",
      " 15%|█▌        | 20/130 [00:00<00:02, 45.25it/s]\u001b[A\u001b[A\n",
      "\n",
      " 19%|█▉        | 25/130 [00:00<00:02, 45.23it/s]\u001b[A\u001b[A\n",
      "\n",
      " 23%|██▎       | 30/130 [00:00<00:02, 45.14it/s]\u001b[A\u001b[A\n",
      "\n",
      " 27%|██▋       | 35/130 [00:00<00:02, 45.17it/s]\u001b[A\u001b[A\n",
      "\n",
      " 31%|███       | 40/130 [00:00<00:01, 45.09it/s]\u001b[A\u001b[A\n",
      "\n",
      " 35%|███▍      | 45/130 [00:00<00:01, 45.14it/s]\u001b[A\u001b[A\n",
      "\n",
      " 38%|███▊      | 50/130 [00:01<00:01, 45.09it/s]\u001b[A\u001b[A\n",
      "\n",
      " 42%|████▏     | 55/130 [00:01<00:01, 45.05it/s]\u001b[A\u001b[A\n",
      "\n",
      " 46%|████▌     | 60/130 [00:01<00:01, 45.09it/s]\u001b[A\u001b[A\n",
      "\n",
      " 50%|█████     | 65/130 [00:01<00:01, 45.04it/s]\u001b[A\u001b[A\n",
      "\n",
      " 54%|█████▍    | 70/130 [00:01<00:01, 45.01it/s]\u001b[A\u001b[A\n",
      "\n",
      " 58%|█████▊    | 75/130 [00:01<00:01, 44.99it/s]\u001b[A\u001b[A\n",
      "\n",
      " 62%|██████▏   | 80/130 [00:01<00:01, 44.92it/s]\u001b[A\u001b[A\n",
      "\n",
      " 65%|██████▌   | 85/130 [00:01<00:01, 44.97it/s]\u001b[A\u001b[A\n",
      "\n",
      " 69%|██████▉   | 90/130 [00:01<00:00, 44.91it/s]\u001b[A\u001b[A\n",
      "\n",
      " 73%|███████▎  | 95/130 [00:02<00:00, 44.98it/s]\u001b[A\u001b[A\n",
      "\n",
      " 77%|███████▋  | 100/130 [00:02<00:00, 45.02it/s]\u001b[A\u001b[A\n",
      "\n",
      " 81%|████████  | 105/130 [00:02<00:00, 45.02it/s]\u001b[A\u001b[A\n",
      "\n",
      " 85%|████████▍ | 110/130 [00:02<00:00, 45.02it/s]\u001b[A\u001b[A\n",
      "\n",
      " 88%|████████▊ | 115/130 [00:02<00:00, 44.97it/s]\u001b[A\u001b[A\n",
      "\n",
      " 92%|█████████▏| 120/130 [00:02<00:00, 45.00it/s]\u001b[A\u001b[A\n",
      "\n",
      " 96%|█████████▌| 125/130 [00:02<00:00, 45.03it/s]\u001b[A\u001b[A\n",
      "\n",
      "100%|██████████| 130/130 [00:02<00:00, 45.04it/s]\u001b[A\u001b[A\n",
      "\n",
      "\n",
      "  0%|          | 0/8 [00:00<?, ?it/s]\u001b[A\u001b[A\n",
      "\n",
      " 25%|██▌       | 2/8 [00:00<00:00, 10.45it/s]\u001b[A\u001b[A"
     ]
    },
    {
     "name": "stdout",
     "output_type": "stream",
     "text": [
      "\n",
      "======== Epoch 5 / 10 ========\n",
      "\n",
      "Training...\n"
     ]
    },
    {
     "name": "stderr",
     "output_type": "stream",
     "text": [
      "\n",
      "\n",
      " 50%|█████     | 4/8 [00:00<00:00, 10.37it/s]\u001b[A\u001b[A\n",
      "\n",
      " 75%|███████▌  | 6/8 [00:00<00:00, 10.32it/s]\u001b[A\u001b[A\n",
      "\n",
      "100%|██████████| 8/8 [00:00<00:00, 10.22it/s]\u001b[A\u001b[A\n",
      "\n",
      "\n",
      "  0%|          | 0/65 [00:00<?, ?it/s]\u001b[A\u001b[A\n",
      "\n",
      "  8%|▊         | 5/65 [00:00<00:01, 45.36it/s]\u001b[A\u001b[A"
     ]
    },
    {
     "name": "stdout",
     "output_type": "stream",
     "text": [
      "avg_train_loss 0.28556221164762974\n",
      "train_f1Score 0.8666666666666666\n",
      "train_accuracy 0.875\n",
      "\n",
      "Running Validation...\n"
     ]
    },
    {
     "name": "stderr",
     "output_type": "stream",
     "text": [
      "\n",
      "\n",
      " 15%|█▌        | 10/65 [00:00<00:01, 45.29it/s]\u001b[A\u001b[A\n",
      "\n",
      " 23%|██▎       | 15/65 [00:00<00:01, 45.25it/s]\u001b[A\u001b[A\n",
      "\n",
      " 31%|███       | 20/65 [00:00<00:00, 45.17it/s]\u001b[A\u001b[A\n",
      "\n",
      " 38%|███▊      | 25/65 [00:00<00:00, 45.13it/s]\u001b[A\u001b[A\n",
      "\n",
      " 46%|████▌     | 30/65 [00:00<00:00, 45.07it/s]\u001b[A\u001b[A\n",
      "\n",
      " 54%|█████▍    | 35/65 [00:00<00:00, 45.06it/s]\u001b[A\u001b[A\n",
      "\n",
      " 62%|██████▏   | 40/65 [00:00<00:00, 45.00it/s]\u001b[A\u001b[A\n",
      "\n",
      " 69%|██████▉   | 45/65 [00:00<00:00, 44.98it/s]\u001b[A\u001b[A\n",
      "\n",
      " 77%|███████▋  | 50/65 [00:01<00:00, 44.92it/s]\u001b[A\u001b[A\n",
      "\n",
      " 85%|████████▍ | 55/65 [00:01<00:00, 44.93it/s]\u001b[A\u001b[A\n",
      "\n",
      " 92%|█████████▏| 60/65 [00:01<00:00, 44.91it/s]\u001b[A\u001b[A\n",
      "\n",
      "100%|██████████| 65/65 [00:01<00:00, 44.96it/s]\u001b[A\u001b[A\n",
      "\n",
      "\n",
      "  0%|          | 0/8 [00:00<?, ?it/s]\u001b[A\u001b[A\n",
      "\n",
      " 25%|██▌       | 2/8 [00:00<00:00, 10.44it/s]\u001b[A\u001b[A"
     ]
    },
    {
     "name": "stdout",
     "output_type": "stream",
     "text": [
      "Validation Loss:  0.7534082653430793\n",
      "Validation Accuracy:  0.6634615384615384\n",
      "\n",
      "======== Epoch 6 / 10 ========\n",
      "\n",
      "Training...\n"
     ]
    },
    {
     "name": "stderr",
     "output_type": "stream",
     "text": [
      "\n",
      "\n",
      " 50%|█████     | 4/8 [00:00<00:00, 10.33it/s]\u001b[A\u001b[A\n",
      "\n",
      " 75%|███████▌  | 6/8 [00:00<00:00, 10.27it/s]\u001b[A\u001b[A\n",
      "\n",
      "100%|██████████| 8/8 [00:00<00:00, 10.15it/s]\u001b[A\u001b[A\n",
      "\n",
      "\n",
      "  0%|          | 0/65 [00:00<?, ?it/s]\u001b[A\u001b[A\n",
      "\n",
      "  8%|▊         | 5/65 [00:00<00:01, 45.26it/s]\u001b[A\u001b[A"
     ]
    },
    {
     "name": "stdout",
     "output_type": "stream",
     "text": [
      "avg_train_loss 0.2342003034427762\n",
      "train_f1Score 0.923076923076923\n",
      "train_accuracy 0.921875\n",
      "\n",
      "Running Validation...\n"
     ]
    },
    {
     "name": "stderr",
     "output_type": "stream",
     "text": [
      "\n",
      "\n",
      " 15%|█▌        | 10/65 [00:00<00:01, 45.24it/s]\u001b[A\u001b[A\n",
      "\n",
      " 23%|██▎       | 15/65 [00:00<00:01, 45.19it/s]\u001b[A\u001b[A\n",
      "\n",
      " 31%|███       | 20/65 [00:00<00:00, 45.17it/s]\u001b[A\u001b[A\n",
      "\n",
      " 38%|███▊      | 25/65 [00:00<00:00, 45.13it/s]\u001b[A\u001b[A\n",
      "\n",
      " 46%|████▌     | 30/65 [00:00<00:00, 45.02it/s]\u001b[A\u001b[A\n",
      "\n",
      " 54%|█████▍    | 35/65 [00:00<00:00, 45.02it/s]\u001b[A\u001b[A\n",
      "\n",
      " 62%|██████▏   | 40/65 [00:00<00:00, 44.94it/s]\u001b[A\u001b[A\n",
      "\n",
      " 69%|██████▉   | 45/65 [00:00<00:00, 44.95it/s]\u001b[A\u001b[A\n",
      "\n",
      " 77%|███████▋  | 50/65 [00:01<00:00, 44.90it/s]\u001b[A\u001b[A\n",
      "\n",
      " 85%|████████▍ | 55/65 [00:01<00:00, 44.90it/s]\u001b[A\u001b[A\n",
      "\n",
      " 92%|█████████▏| 60/65 [00:01<00:00, 44.92it/s]\u001b[A\u001b[A\n",
      "\n",
      "100%|██████████| 65/65 [00:01<00:00, 44.95it/s]\u001b[A\u001b[A\n",
      "\n",
      "\n",
      "  0%|          | 0/130 [00:00<?, ?it/s]\u001b[A\u001b[A\n",
      "\n",
      "  4%|▍         | 5/130 [00:00<00:02, 45.22it/s]\u001b[A\u001b[A"
     ]
    },
    {
     "name": "stdout",
     "output_type": "stream",
     "text": [
      "Validation Loss:  0.821823684985821\n",
      "Validation Accuracy:  0.6519230769230769\n",
      "Testing Model....\n"
     ]
    },
    {
     "name": "stderr",
     "output_type": "stream",
     "text": [
      "\n",
      "\n",
      "  8%|▊         | 10/130 [00:00<00:02, 45.16it/s]\u001b[A\u001b[A\n",
      "\n",
      " 12%|█▏        | 15/130 [00:00<00:02, 45.11it/s]\u001b[A\u001b[A\n",
      "\n",
      " 15%|█▌        | 20/130 [00:00<00:02, 45.10it/s]\u001b[A\u001b[A\n",
      "\n",
      " 19%|█▉        | 25/130 [00:00<00:02, 45.01it/s]\u001b[A\u001b[A\n",
      "\n",
      " 23%|██▎       | 30/130 [00:00<00:02, 44.99it/s]\u001b[A\u001b[A\n",
      "\n",
      " 27%|██▋       | 35/130 [00:00<00:02, 44.91it/s]\u001b[A\u001b[A\n",
      "\n",
      " 31%|███       | 40/130 [00:00<00:02, 44.90it/s]\u001b[A\u001b[A\n",
      "\n",
      " 35%|███▍      | 45/130 [00:01<00:01, 44.89it/s]\u001b[A\u001b[A\n",
      "\n",
      " 38%|███▊      | 50/130 [00:01<00:01, 44.90it/s]\u001b[A\u001b[A\n",
      "\n",
      " 42%|████▏     | 55/130 [00:01<00:01, 44.85it/s]\u001b[A\u001b[A\n",
      "\n",
      " 46%|████▌     | 60/130 [00:01<00:01, 44.87it/s]\u001b[A\u001b[A\n",
      "\n",
      " 50%|█████     | 65/130 [00:01<00:01, 44.82it/s]\u001b[A\u001b[A\n",
      "\n",
      " 54%|█████▍    | 70/130 [00:01<00:01, 44.85it/s]\u001b[A\u001b[A\n",
      "\n",
      " 58%|█████▊    | 75/130 [00:01<00:01, 44.81it/s]\u001b[A\u001b[A\n",
      "\n",
      " 62%|██████▏   | 80/130 [00:01<00:01, 44.82it/s]\u001b[A\u001b[A\n",
      "\n",
      " 65%|██████▌   | 85/130 [00:01<00:01, 44.80it/s]\u001b[A\u001b[A\n",
      "\n",
      " 69%|██████▉   | 90/130 [00:02<00:00, 44.85it/s]\u001b[A\u001b[A\n",
      "\n",
      " 73%|███████▎  | 95/130 [00:02<00:00, 44.87it/s]\u001b[A\u001b[A\n",
      "\n",
      " 77%|███████▋  | 100/130 [00:02<00:00, 44.89it/s]\u001b[A\u001b[A\n",
      "\n",
      " 81%|████████  | 105/130 [00:02<00:00, 44.89it/s]\u001b[A\u001b[A\n",
      "\n",
      " 85%|████████▍ | 110/130 [00:02<00:00, 44.88it/s]\u001b[A\u001b[A\n",
      "\n",
      " 88%|████████▊ | 115/130 [00:02<00:00, 44.85it/s]\u001b[A\u001b[A\n",
      "\n",
      " 92%|█████████▏| 120/130 [00:02<00:00, 44.83it/s]\u001b[A\u001b[A\n",
      "\n",
      " 96%|█████████▌| 125/130 [00:02<00:00, 44.76it/s]\u001b[A\u001b[A\n",
      "\n",
      "100%|██████████| 130/130 [00:02<00:00, 44.84it/s]\u001b[A\u001b[A\n",
      "\n",
      "\n",
      "  0%|          | 0/8 [00:00<?, ?it/s]\u001b[A\u001b[A\n",
      "\n",
      " 25%|██▌       | 2/8 [00:00<00:00, 10.53it/s]\u001b[A\u001b[A"
     ]
    },
    {
     "name": "stdout",
     "output_type": "stream",
     "text": [
      "\n",
      "======== Epoch 7 / 10 ========\n",
      "\n",
      "Training...\n"
     ]
    },
    {
     "name": "stderr",
     "output_type": "stream",
     "text": [
      "\n",
      "\n",
      " 50%|█████     | 4/8 [00:00<00:00, 10.43it/s]\u001b[A\u001b[A\n",
      "\n",
      " 75%|███████▌  | 6/8 [00:00<00:00, 10.37it/s]\u001b[A\u001b[A\n",
      "\n",
      "100%|██████████| 8/8 [00:00<00:00, 10.28it/s]\u001b[A\u001b[A\n",
      "\n",
      "\n",
      "  0%|          | 0/65 [00:00<?, ?it/s]\u001b[A\u001b[A\n",
      "\n",
      "  8%|▊         | 5/65 [00:00<00:01, 46.21it/s]\u001b[A\u001b[A"
     ]
    },
    {
     "name": "stdout",
     "output_type": "stream",
     "text": [
      "avg_train_loss 0.11302111949771643\n",
      "train_f1Score 0.9846153846153847\n",
      "train_accuracy 0.984375\n",
      "\n",
      "Running Validation...\n"
     ]
    },
    {
     "name": "stderr",
     "output_type": "stream",
     "text": [
      "\n",
      "\n",
      " 15%|█▌        | 10/65 [00:00<00:01, 45.77it/s]\u001b[A\u001b[A\n",
      "\n",
      " 23%|██▎       | 15/65 [00:00<00:01, 45.49it/s]\u001b[A\u001b[A\n",
      "\n",
      " 31%|███       | 20/65 [00:00<00:00, 45.19it/s]\u001b[A\u001b[A\n",
      "\n",
      " 38%|███▊      | 25/65 [00:00<00:00, 45.13it/s]\u001b[A\u001b[A\n",
      "\n",
      " 46%|████▌     | 30/65 [00:00<00:00, 45.05it/s]\u001b[A\u001b[A\n",
      "\n",
      " 54%|█████▍    | 35/65 [00:00<00:00, 44.97it/s]\u001b[A\u001b[A\n",
      "\n",
      " 62%|██████▏   | 40/65 [00:00<00:00, 44.89it/s]\u001b[A\u001b[A\n",
      "\n",
      " 69%|██████▉   | 45/65 [00:01<00:00, 44.87it/s]\u001b[A\u001b[A\n",
      "\n",
      " 77%|███████▋  | 50/65 [00:01<00:00, 44.87it/s]\u001b[A\u001b[A\n",
      "\n",
      " 85%|████████▍ | 55/65 [00:01<00:00, 44.88it/s]\u001b[A\u001b[A\n",
      "\n",
      " 92%|█████████▏| 60/65 [00:01<00:00, 44.79it/s]\u001b[A\u001b[A\n",
      "\n",
      "100%|██████████| 65/65 [00:01<00:00, 44.86it/s]\u001b[A\u001b[A\n",
      "\n",
      "\n",
      "  0%|          | 0/8 [00:00<?, ?it/s]\u001b[A\u001b[A\n",
      "\n",
      " 25%|██▌       | 2/8 [00:00<00:00, 10.48it/s]\u001b[A\u001b[A"
     ]
    },
    {
     "name": "stdout",
     "output_type": "stream",
     "text": [
      "Validation Loss:  0.8490895225451542\n",
      "Validation Accuracy:  0.6461538461538462\n",
      "\n",
      "======== Epoch 8 / 10 ========\n",
      "\n",
      "Training...\n"
     ]
    },
    {
     "name": "stderr",
     "output_type": "stream",
     "text": [
      "\n",
      "\n",
      " 50%|█████     | 4/8 [00:00<00:00, 10.39it/s]\u001b[A\u001b[A\n",
      "\n",
      " 75%|███████▌  | 6/8 [00:00<00:00, 10.30it/s]\u001b[A\u001b[A\n",
      "\n",
      "100%|██████████| 8/8 [00:00<00:00, 10.23it/s]\u001b[A\u001b[A\n",
      "\n",
      "\n",
      "  0%|          | 0/65 [00:00<?, ?it/s]\u001b[A\u001b[A\n",
      "\n",
      "  8%|▊         | 5/65 [00:00<00:01, 45.74it/s]\u001b[A\u001b[A"
     ]
    },
    {
     "name": "stdout",
     "output_type": "stream",
     "text": [
      "avg_train_loss 0.10236009769141674\n",
      "train_f1Score 0.9841269841269841\n",
      "train_accuracy 0.984375\n",
      "\n",
      "Running Validation...\n"
     ]
    },
    {
     "name": "stderr",
     "output_type": "stream",
     "text": [
      "\n",
      "\n",
      " 15%|█▌        | 10/65 [00:00<00:01, 45.53it/s]\u001b[A\u001b[A\n",
      "\n",
      " 23%|██▎       | 15/65 [00:00<00:01, 45.37it/s]\u001b[A\u001b[A\n",
      "\n",
      " 31%|███       | 20/65 [00:00<00:00, 45.24it/s]\u001b[A\u001b[A\n",
      "\n",
      " 38%|███▊      | 25/65 [00:00<00:00, 45.09it/s]\u001b[A\u001b[A\n",
      "\n",
      " 46%|████▌     | 30/65 [00:00<00:00, 45.08it/s]\u001b[A\u001b[A\n",
      "\n",
      " 54%|█████▍    | 35/65 [00:00<00:00, 44.98it/s]\u001b[A\u001b[A\n",
      "\n",
      " 62%|██████▏   | 40/65 [00:00<00:00, 44.85it/s]\u001b[A\u001b[A\n",
      "\n",
      " 69%|██████▉   | 45/65 [00:01<00:00, 44.73it/s]\u001b[A\u001b[A\n",
      "\n",
      " 77%|███████▋  | 50/65 [00:01<00:00, 44.88it/s]\u001b[A\u001b[A\n",
      "\n",
      " 85%|████████▍ | 55/65 [00:01<00:00, 44.78it/s]\u001b[A\u001b[A\n",
      "\n",
      " 92%|█████████▏| 60/65 [00:01<00:00, 44.87it/s]\u001b[A\u001b[A\n",
      "\n",
      "100%|██████████| 65/65 [00:01<00:00, 44.85it/s]\u001b[A\u001b[A\n",
      "\n",
      "\n",
      "  0%|          | 0/130 [00:00<?, ?it/s]\u001b[A\u001b[A\n",
      "\n",
      "  4%|▍         | 5/130 [00:00<00:02, 45.05it/s]\u001b[A\u001b[A"
     ]
    },
    {
     "name": "stdout",
     "output_type": "stream",
     "text": [
      "Validation Loss:  0.950861826309791\n",
      "Validation Accuracy:  0.6557692307692308\n",
      "Testing Model....\n"
     ]
    },
    {
     "name": "stderr",
     "output_type": "stream",
     "text": [
      "\n",
      "\n",
      "  8%|▊         | 10/130 [00:00<00:02, 45.04it/s]\u001b[A\u001b[A\n",
      "\n",
      " 12%|█▏        | 15/130 [00:00<00:02, 44.98it/s]\u001b[A\u001b[A\n",
      "\n",
      " 15%|█▌        | 20/130 [00:00<00:02, 44.92it/s]\u001b[A\u001b[A\n",
      "\n",
      " 19%|█▉        | 25/130 [00:00<00:02, 44.95it/s]\u001b[A\u001b[A\n",
      "\n",
      " 23%|██▎       | 30/130 [00:00<00:02, 44.88it/s]\u001b[A\u001b[A\n",
      "\n",
      " 27%|██▋       | 35/130 [00:00<00:02, 44.94it/s]\u001b[A\u001b[A\n",
      "\n",
      " 31%|███       | 40/130 [00:00<00:02, 44.90it/s]\u001b[A\u001b[A\n",
      "\n",
      " 35%|███▍      | 45/130 [00:01<00:01, 44.77it/s]\u001b[A\u001b[A\n",
      "\n",
      " 38%|███▊      | 50/130 [00:01<00:01, 44.69it/s]\u001b[A\u001b[A\n",
      "\n",
      " 42%|████▏     | 55/130 [00:01<00:01, 44.76it/s]\u001b[A\u001b[A\n",
      "\n",
      " 46%|████▌     | 60/130 [00:01<00:01, 44.77it/s]\u001b[A\u001b[A\n",
      "\n",
      " 50%|█████     | 65/130 [00:01<00:01, 44.69it/s]\u001b[A\u001b[A\n",
      "\n",
      " 54%|█████▍    | 70/130 [00:01<00:01, 44.84it/s]\u001b[A\u001b[A\n",
      "\n",
      " 58%|█████▊    | 75/130 [00:01<00:01, 44.89it/s]\u001b[A\u001b[A\n",
      "\n",
      " 62%|██████▏   | 80/130 [00:01<00:01, 44.93it/s]\u001b[A\u001b[A\n",
      "\n",
      " 65%|██████▌   | 85/130 [00:01<00:01, 44.86it/s]\u001b[A\u001b[A\n",
      "\n",
      " 69%|██████▉   | 90/130 [00:02<00:00, 44.79it/s]\u001b[A\u001b[A\n",
      "\n",
      " 73%|███████▎  | 95/130 [00:02<00:00, 44.71it/s]\u001b[A\u001b[A\n",
      "\n",
      " 77%|███████▋  | 100/130 [00:02<00:00, 44.81it/s]\u001b[A\u001b[A\n",
      "\n",
      " 81%|████████  | 105/130 [00:02<00:00, 44.79it/s]\u001b[A\u001b[A\n",
      "\n",
      " 85%|████████▍ | 110/130 [00:02<00:00, 44.86it/s]\u001b[A\u001b[A\n",
      "\n",
      " 88%|████████▊ | 115/130 [00:02<00:00, 44.77it/s]\u001b[A\u001b[A\n",
      "\n",
      " 92%|█████████▏| 120/130 [00:02<00:00, 44.80it/s]\u001b[A\u001b[A\n",
      "\n",
      " 96%|█████████▌| 125/130 [00:02<00:00, 44.66it/s]\u001b[A\u001b[A\n",
      "\n",
      "100%|██████████| 130/130 [00:02<00:00, 44.79it/s]\u001b[A\u001b[A\n",
      "\n",
      "\n",
      "  0%|          | 0/8 [00:00<?, ?it/s]\u001b[A\u001b[A\n",
      "\n",
      " 25%|██▌       | 2/8 [00:00<00:00, 10.31it/s]\u001b[A\u001b[A"
     ]
    },
    {
     "name": "stdout",
     "output_type": "stream",
     "text": [
      "\n",
      "======== Epoch 9 / 10 ========\n",
      "\n",
      "Training...\n"
     ]
    },
    {
     "name": "stderr",
     "output_type": "stream",
     "text": [
      "\n",
      "\n",
      " 38%|███▊      | 3/8 [00:00<00:00, 10.17it/s]\u001b[A\u001b[A\n",
      "\n",
      " 50%|█████     | 4/8 [00:00<00:00, 10.08it/s]\u001b[A\u001b[A\n",
      "\n",
      " 62%|██████▎   | 5/8 [00:00<00:00, 10.03it/s]\u001b[A\u001b[A\n",
      "\n",
      " 75%|███████▌  | 6/8 [00:00<00:00,  9.99it/s]\u001b[A\u001b[A\n",
      "\n",
      " 88%|████████▊ | 7/8 [00:00<00:00,  9.96it/s]\u001b[A\u001b[A\n",
      "\n",
      "100%|██████████| 8/8 [00:00<00:00,  9.98it/s]\u001b[A\u001b[A\n",
      "\n",
      "\n",
      "  0%|          | 0/65 [00:00<?, ?it/s]\u001b[A\u001b[A\n",
      "\n",
      "  8%|▊         | 5/65 [00:00<00:01, 45.03it/s]\u001b[A\u001b[A"
     ]
    },
    {
     "name": "stdout",
     "output_type": "stream",
     "text": [
      "avg_train_loss 0.060560161247849464\n",
      "train_f1Score 1.0\n",
      "train_accuracy 1.0\n",
      "\n",
      "Running Validation...\n"
     ]
    },
    {
     "name": "stderr",
     "output_type": "stream",
     "text": [
      "\n",
      "\n",
      " 15%|█▌        | 10/65 [00:00<00:01, 45.01it/s]\u001b[A\u001b[A\n",
      "\n",
      " 23%|██▎       | 15/65 [00:00<00:01, 44.98it/s]\u001b[A\u001b[A\n",
      "\n",
      " 31%|███       | 20/65 [00:00<00:01, 44.96it/s]\u001b[A\u001b[A\n",
      "\n",
      " 38%|███▊      | 25/65 [00:00<00:00, 44.88it/s]\u001b[A\u001b[A\n",
      "\n",
      " 46%|████▌     | 30/65 [00:00<00:00, 44.87it/s]\u001b[A\u001b[A\n",
      "\n",
      " 54%|█████▍    | 35/65 [00:00<00:00, 44.82it/s]\u001b[A\u001b[A\n",
      "\n",
      " 62%|██████▏   | 40/65 [00:00<00:00, 44.85it/s]\u001b[A\u001b[A\n",
      "\n",
      " 69%|██████▉   | 45/65 [00:01<00:00, 44.81it/s]\u001b[A\u001b[A\n",
      "\n",
      " 77%|███████▋  | 50/65 [00:01<00:00, 44.85it/s]\u001b[A\u001b[A\n",
      "\n",
      " 85%|████████▍ | 55/65 [00:01<00:00, 44.80it/s]\u001b[A\u001b[A\n",
      "\n",
      " 92%|█████████▏| 60/65 [00:01<00:00, 44.84it/s]\u001b[A\u001b[A\n",
      "\n",
      "100%|██████████| 65/65 [00:01<00:00, 44.83it/s]\u001b[A\u001b[A\n",
      "\n",
      "\n",
      "  0%|          | 0/8 [00:00<?, ?it/s]\u001b[A\u001b[A\n",
      "\n",
      " 25%|██▌       | 2/8 [00:00<00:00, 10.44it/s]\u001b[A\u001b[A"
     ]
    },
    {
     "name": "stdout",
     "output_type": "stream",
     "text": [
      "Validation Loss:  1.009655794272056\n",
      "Validation Accuracy:  0.6557692307692308\n",
      "\n",
      "======== Epoch 10 / 10 ========\n",
      "\n",
      "Training...\n"
     ]
    },
    {
     "name": "stderr",
     "output_type": "stream",
     "text": [
      "\n",
      "\n",
      " 38%|███▊      | 3/8 [00:00<00:00, 10.27it/s]\u001b[A\u001b[A\n",
      "\n",
      " 50%|█████     | 4/8 [00:00<00:00, 10.14it/s]\u001b[A\u001b[A\n",
      "\n",
      " 62%|██████▎   | 5/8 [00:00<00:00, 10.06it/s]\u001b[A\u001b[A\n",
      "\n",
      " 75%|███████▌  | 6/8 [00:00<00:00, 10.00it/s]\u001b[A\u001b[A\n",
      "\n",
      "100%|██████████| 8/8 [00:00<00:00, 10.03it/s]\u001b[A\u001b[A\n",
      "\n",
      "\n",
      "  0%|          | 0/65 [00:00<?, ?it/s]\u001b[A\u001b[A\n",
      "\n",
      "  8%|▊         | 5/65 [00:00<00:01, 45.10it/s]\u001b[A\u001b[A"
     ]
    },
    {
     "name": "stdout",
     "output_type": "stream",
     "text": [
      "avg_train_loss 0.05451314803212881\n",
      "train_f1Score 1.0\n",
      "train_accuracy 1.0\n",
      "\n",
      "Running Validation...\n"
     ]
    },
    {
     "name": "stderr",
     "output_type": "stream",
     "text": [
      "\n",
      "\n",
      " 15%|█▌        | 10/65 [00:00<00:01, 45.06it/s]\u001b[A\u001b[A\n",
      "\n",
      " 23%|██▎       | 15/65 [00:00<00:01, 44.96it/s]\u001b[A\u001b[A\n",
      "\n",
      " 31%|███       | 20/65 [00:00<00:01, 44.94it/s]\u001b[A\u001b[A\n",
      "\n",
      " 38%|███▊      | 25/65 [00:00<00:00, 44.87it/s]\u001b[A\u001b[A\n",
      "\n",
      " 46%|████▌     | 30/65 [00:00<00:00, 44.89it/s]\u001b[A\u001b[A\n",
      "\n",
      " 54%|█████▍    | 35/65 [00:00<00:00, 44.90it/s]\u001b[A\u001b[A\n",
      "\n",
      " 62%|██████▏   | 40/65 [00:00<00:00, 44.86it/s]\u001b[A\u001b[A\n",
      "\n",
      " 69%|██████▉   | 45/65 [00:01<00:00, 44.87it/s]\u001b[A\u001b[A\n",
      "\n",
      " 77%|███████▋  | 50/65 [00:01<00:00, 44.82it/s]\u001b[A\u001b[A\n",
      "\n",
      " 85%|████████▍ | 55/65 [00:01<00:00, 44.84it/s]\u001b[A\u001b[A\n",
      "\n",
      " 92%|█████████▏| 60/65 [00:01<00:00, 44.83it/s]\u001b[A\u001b[A\n",
      "\n",
      "100%|██████████| 65/65 [00:01<00:00, 44.83it/s]\u001b[A\u001b[A\n",
      "\n",
      "\n",
      "  0%|          | 0/130 [00:00<?, ?it/s]\u001b[A\u001b[A\n",
      "\n",
      "  4%|▍         | 5/130 [00:00<00:02, 45.50it/s]\u001b[A\u001b[A"
     ]
    },
    {
     "name": "stdout",
     "output_type": "stream",
     "text": [
      "Validation Loss:  1.0329263108280988\n",
      "Validation Accuracy:  0.6519230769230769\n",
      "Testing Model....\n"
     ]
    },
    {
     "name": "stderr",
     "output_type": "stream",
     "text": [
      "\n",
      "\n",
      "  8%|▊         | 10/130 [00:00<00:02, 45.28it/s]\u001b[A\u001b[A\n",
      "\n",
      " 12%|█▏        | 15/130 [00:00<00:02, 45.18it/s]\u001b[A\u001b[A\n",
      "\n",
      " 15%|█▌        | 20/130 [00:00<00:02, 45.04it/s]\u001b[A\u001b[A\n",
      "\n",
      " 19%|█▉        | 25/130 [00:00<00:02, 45.00it/s]\u001b[A\u001b[A\n",
      "\n",
      " 23%|██▎       | 30/130 [00:00<00:02, 44.89it/s]\u001b[A\u001b[A\n",
      "\n",
      " 27%|██▋       | 35/130 [00:00<00:02, 44.89it/s]\u001b[A\u001b[A\n",
      "\n",
      " 31%|███       | 40/130 [00:00<00:02, 44.80it/s]\u001b[A\u001b[A\n",
      "\n",
      " 35%|███▍      | 45/130 [00:01<00:01, 44.85it/s]\u001b[A\u001b[A\n",
      "\n",
      " 38%|███▊      | 50/130 [00:01<00:01, 44.87it/s]\u001b[A\u001b[A\n",
      "\n",
      " 42%|████▏     | 55/130 [00:01<00:01, 44.81it/s]\u001b[A\u001b[A\n",
      "\n",
      " 46%|████▌     | 60/130 [00:01<00:01, 44.85it/s]\u001b[A\u001b[A\n",
      "\n",
      " 50%|█████     | 65/130 [00:01<00:01, 44.81it/s]\u001b[A\u001b[A\n",
      "\n",
      " 54%|█████▍    | 70/130 [00:01<00:01, 44.84it/s]\u001b[A\u001b[A\n",
      "\n",
      " 58%|█████▊    | 75/130 [00:01<00:01, 44.80it/s]\u001b[A\u001b[A\n",
      "\n",
      " 62%|██████▏   | 80/130 [00:01<00:01, 44.83it/s]\u001b[A\u001b[A\n",
      "\n",
      " 65%|██████▌   | 85/130 [00:01<00:01, 44.75it/s]\u001b[A\u001b[A\n",
      "\n",
      " 69%|██████▉   | 90/130 [00:02<00:00, 44.80it/s]\u001b[A\u001b[A\n",
      "\n",
      " 73%|███████▎  | 95/130 [00:02<00:00, 44.83it/s]\u001b[A\u001b[A\n",
      "\n",
      " 77%|███████▋  | 100/130 [00:02<00:00, 44.85it/s]\u001b[A\u001b[A\n",
      "\n",
      " 81%|████████  | 105/130 [00:02<00:00, 44.84it/s]\u001b[A\u001b[A\n",
      "\n",
      " 85%|████████▍ | 110/130 [00:02<00:00, 44.84it/s]\u001b[A\u001b[A\n",
      "\n",
      " 88%|████████▊ | 115/130 [00:02<00:00, 44.83it/s]\u001b[A\u001b[A\n",
      "\n",
      " 92%|█████████▏| 120/130 [00:02<00:00, 44.84it/s]\u001b[A\u001b[A\n",
      "\n",
      " 96%|█████████▌| 125/130 [00:02<00:00, 44.78it/s]\u001b[A\u001b[A\n",
      "\n",
      "100%|██████████| 130/130 [00:02<00:00, 44.81it/s]\u001b[A\u001b[A\n"
     ]
    },
    {
     "name": "stdout",
     "output_type": "stream",
     "text": [
      "Saving Test Metrics....\n",
      "Run:  3\n",
      "\tInitialising Model....\n"
     ]
    },
    {
     "name": "stderr",
     "output_type": "stream",
     "text": [
      "\n",
      "\n",
      "100%|██████████| 64/64 [00:00<00:00, 13928.06it/s]\n",
      "\n",
      "\n",
      "100%|██████████| 523/523 [00:00<00:00, 13861.04it/s]\n",
      "\n",
      "\n",
      "100%|██████████| 1047/1047 [00:00<00:00, 14105.27it/s]\n",
      "\n",
      "\n",
      "100%|██████████| 64/64 [00:00<00:00, 3708.24it/s]\n",
      "\n",
      "\n",
      "  0%|          | 0/523 [00:00<?, ?it/s]\u001b[A\u001b[A\n",
      "\n"
     ]
    },
    {
     "name": "stdout",
     "output_type": "stream",
     "text": [
      "\tLoading Dataset....\n",
      "\tTraining Starts....\n"
     ]
    },
    {
     "name": "stderr",
     "output_type": "stream",
     "text": [
      "100%|██████████| 523/523 [00:00<00:00, 3523.18it/s]\u001b[A\u001b[A\n",
      "\n",
      "\n",
      "  0%|          | 0/1047 [00:00<?, ?it/s]\u001b[A\u001b[A\n",
      "\n",
      " 36%|███▌      | 378/1047 [00:00<00:00, 3777.92it/s]\u001b[A\u001b[A\n",
      "\n",
      "100%|██████████| 1047/1047 [00:00<00:00, 3735.56it/s][A\u001b[A\n",
      "Some weights of the model checkpoint at bert-base-multilingual-cased were not used when initializing BertForSequenceClassification: ['cls.predictions.bias', 'cls.predictions.transform.dense.weight', 'cls.predictions.transform.dense.bias', 'cls.predictions.decoder.weight', 'cls.seq_relationship.weight', 'cls.seq_relationship.bias', 'cls.predictions.transform.LayerNorm.weight', 'cls.predictions.transform.LayerNorm.bias']\n",
      "- This IS expected if you are initializing BertForSequenceClassification from the checkpoint of a model trained on another task or with another architecture (e.g. initializing a BertForSequenceClassification model from a BertForPreTraining model).\n",
      "- This IS NOT expected if you are initializing BertForSequenceClassification from the checkpoint of a model that you expect to be exactly identical (initializing a BertForSequenceClassification model from a BertForSequenceClassification model).\n",
      "Some weights of BertForSequenceClassification were not initialized from the model checkpoint at bert-base-multilingual-cased and are newly initialized: ['classifier.weight', 'classifier.bias']\n",
      "You should probably TRAIN this model on a down-stream task to be able to use it for predictions and inference.\n",
      "\n",
      "\n",
      "  0%|          | 0/8 [00:00<?, ?it/s]\u001b[A\u001b[A\n",
      "\n",
      " 25%|██▌       | 2/8 [00:00<00:00, 11.04it/s]\u001b[A\u001b[A"
     ]
    },
    {
     "name": "stdout",
     "output_type": "stream",
     "text": [
      "\n",
      "======== Epoch 1 / 10 ========\n",
      "\n",
      "Training...\n"
     ]
    },
    {
     "name": "stderr",
     "output_type": "stream",
     "text": [
      "\n",
      "\n",
      " 50%|█████     | 4/8 [00:00<00:00, 10.84it/s]\u001b[A\u001b[A\n",
      "\n",
      " 75%|███████▌  | 6/8 [00:00<00:00, 10.69it/s]\u001b[A\u001b[A\n",
      "\n",
      "100%|██████████| 8/8 [00:00<00:00, 10.52it/s]\u001b[A\u001b[A\n",
      "\n",
      "\n",
      "  0%|          | 0/65 [00:00<?, ?it/s]\u001b[A\u001b[A\n",
      "\n",
      "  8%|▊         | 5/65 [00:00<00:01, 47.00it/s]\u001b[A\u001b[A"
     ]
    },
    {
     "name": "stdout",
     "output_type": "stream",
     "text": [
      "avg_train_loss 1.016744613647461\n",
      "train_f1Score 0.4150943396226415\n",
      "train_accuracy 0.515625\n",
      "\n",
      "Running Validation...\n"
     ]
    },
    {
     "name": "stderr",
     "output_type": "stream",
     "text": [
      "\n",
      "\n",
      " 15%|█▌        | 10/65 [00:00<00:01, 46.71it/s]\u001b[A\u001b[A\n",
      "\n",
      " 23%|██▎       | 15/65 [00:00<00:01, 46.49it/s]\u001b[A\u001b[A\n",
      "\n",
      " 31%|███       | 20/65 [00:00<00:00, 46.36it/s]\u001b[A\u001b[A\n",
      "\n",
      " 38%|███▊      | 25/65 [00:00<00:00, 46.27it/s]\u001b[A\u001b[A\n",
      "\n",
      " 46%|████▌     | 30/65 [00:00<00:00, 46.15it/s]\u001b[A\u001b[A\n",
      "\n",
      " 54%|█████▍    | 35/65 [00:00<00:00, 46.07it/s]\u001b[A\u001b[A\n",
      "\n",
      " 62%|██████▏   | 40/65 [00:00<00:00, 45.86it/s]\u001b[A\u001b[A\n",
      "\n",
      " 69%|██████▉   | 45/65 [00:00<00:00, 45.67it/s]\u001b[A\u001b[A\n",
      "\n",
      " 77%|███████▋  | 50/65 [00:01<00:00, 45.73it/s]\u001b[A\u001b[A\n",
      "\n",
      " 85%|████████▍ | 55/65 [00:01<00:00, 45.74it/s]\u001b[A\u001b[A\n",
      "\n",
      " 92%|█████████▏| 60/65 [00:01<00:00, 45.81it/s]\u001b[A\u001b[A\n",
      "\n",
      "100%|██████████| 65/65 [00:01<00:00, 45.89it/s]\u001b[A\u001b[A\n",
      "\n",
      "\n",
      "  0%|          | 0/130 [00:00<?, ?it/s]\u001b[A\u001b[A\n",
      "\n",
      "  4%|▍         | 5/130 [00:00<00:02, 46.35it/s]\u001b[A\u001b[A"
     ]
    },
    {
     "name": "stdout",
     "output_type": "stream",
     "text": [
      "Validation Loss:  0.7977155309457046\n",
      "Validation Accuracy:  0.5288461538461539\n",
      "Best mF1Score....\n"
     ]
    },
    {
     "name": "stderr",
     "output_type": "stream",
     "text": [
      "\n",
      "\n",
      "  8%|▊         | 10/130 [00:00<00:02, 46.19it/s]\u001b[A\u001b[A\n",
      "\n",
      " 12%|█▏        | 15/130 [00:00<00:02, 46.11it/s]\u001b[A\u001b[A\n",
      "\n",
      " 15%|█▌        | 20/130 [00:00<00:02, 45.89it/s]\u001b[A\u001b[A\n",
      "\n",
      " 19%|█▉        | 25/130 [00:00<00:02, 45.83it/s]\u001b[A\u001b[A\n",
      "\n",
      " 23%|██▎       | 30/130 [00:00<00:02, 45.84it/s]\u001b[A\u001b[A\n",
      "\n",
      " 27%|██▋       | 35/130 [00:00<00:02, 45.75it/s]\u001b[A\u001b[A\n",
      "\n",
      " 31%|███       | 40/130 [00:00<00:01, 45.75it/s]\u001b[A\u001b[A\n",
      "\n",
      " 35%|███▍      | 45/130 [00:00<00:01, 45.75it/s]\u001b[A\u001b[A\n",
      "\n",
      " 38%|███▊      | 50/130 [00:01<00:01, 45.72it/s]\u001b[A\u001b[A\n",
      "\n",
      " 42%|████▏     | 55/130 [00:01<00:01, 45.77it/s]\u001b[A\u001b[A\n",
      "\n",
      " 46%|████▌     | 60/130 [00:01<00:01, 45.77it/s]\u001b[A\u001b[A\n",
      "\n",
      " 50%|█████     | 65/130 [00:01<00:01, 45.66it/s]\u001b[A\u001b[A\n",
      "\n",
      " 54%|█████▍    | 70/130 [00:01<00:01, 45.69it/s]\u001b[A\u001b[A\n",
      "\n",
      " 58%|█████▊    | 75/130 [00:01<00:01, 45.62it/s]\u001b[A\u001b[A\n",
      "\n",
      " 62%|██████▏   | 80/130 [00:01<00:01, 45.58it/s]\u001b[A\u001b[A\n",
      "\n",
      " 65%|██████▌   | 85/130 [00:01<00:00, 45.60it/s]\u001b[A\u001b[A\n",
      "\n",
      " 69%|██████▉   | 90/130 [00:01<00:00, 45.65it/s]\u001b[A\u001b[A\n",
      "\n",
      " 73%|███████▎  | 95/130 [00:02<00:00, 45.67it/s]\u001b[A\u001b[A\n",
      "\n",
      " 77%|███████▋  | 100/130 [00:02<00:00, 45.73it/s]\u001b[A\u001b[A\n",
      "\n",
      " 81%|████████  | 105/130 [00:02<00:00, 45.60it/s]\u001b[A\u001b[A\n",
      "\n",
      " 85%|████████▍ | 110/130 [00:02<00:00, 45.63it/s]\u001b[A\u001b[A\n",
      "\n",
      " 88%|████████▊ | 115/130 [00:02<00:00, 45.59it/s]\u001b[A\u001b[A\n",
      "\n",
      " 92%|█████████▏| 120/130 [00:02<00:00, 45.61it/s]\u001b[A\u001b[A\n",
      "\n",
      " 96%|█████████▌| 125/130 [00:02<00:00, 45.54it/s]\u001b[A\u001b[A\n",
      "\n",
      "100%|██████████| 130/130 [00:02<00:00, 45.67it/s]\u001b[A\u001b[A\n",
      "\n",
      "\n",
      "  0%|          | 0/8 [00:00<?, ?it/s]\u001b[A\u001b[A\n",
      "\n",
      " 25%|██▌       | 2/8 [00:00<00:00, 10.68it/s]\u001b[A\u001b[A"
     ]
    },
    {
     "name": "stdout",
     "output_type": "stream",
     "text": [
      "\n",
      "======== Epoch 2 / 10 ========\n",
      "\n",
      "Training...\n"
     ]
    },
    {
     "name": "stderr",
     "output_type": "stream",
     "text": [
      "\n",
      "\n",
      " 50%|█████     | 4/8 [00:00<00:00, 10.57it/s]\u001b[A\u001b[A\n",
      "\n",
      " 75%|███████▌  | 6/8 [00:00<00:00, 10.50it/s]\u001b[A\u001b[A\n",
      "\n",
      "100%|██████████| 8/8 [00:00<00:00, 10.40it/s]\u001b[A\u001b[A\n",
      "\n",
      "\n",
      "  0%|          | 0/65 [00:00<?, ?it/s]\u001b[A\u001b[A\n",
      "\n",
      "  8%|▊         | 5/65 [00:00<00:01, 46.98it/s]\u001b[A\u001b[A"
     ]
    },
    {
     "name": "stdout",
     "output_type": "stream",
     "text": [
      "avg_train_loss 0.6678725481033325\n",
      "train_f1Score 0.6933333333333334\n",
      "train_accuracy 0.640625\n",
      "\n",
      "Running Validation...\n"
     ]
    },
    {
     "name": "stderr",
     "output_type": "stream",
     "text": [
      "\n",
      "\n",
      " 15%|█▌        | 10/65 [00:00<00:01, 46.62it/s]\u001b[A\u001b[A\n",
      "\n",
      " 23%|██▎       | 15/65 [00:00<00:01, 46.39it/s]\u001b[A\u001b[A\n",
      "\n",
      " 31%|███       | 20/65 [00:00<00:00, 46.22it/s]\u001b[A\u001b[A\n",
      "\n",
      " 38%|███▊      | 25/65 [00:00<00:00, 46.00it/s]\u001b[A\u001b[A\n",
      "\n",
      " 46%|████▌     | 30/65 [00:00<00:00, 45.92it/s]\u001b[A\u001b[A\n",
      "\n",
      " 54%|█████▍    | 35/65 [00:00<00:00, 45.86it/s]\u001b[A\u001b[A\n",
      "\n",
      " 62%|██████▏   | 40/65 [00:00<00:00, 45.61it/s]\u001b[A\u001b[A\n",
      "\n",
      " 69%|██████▉   | 45/65 [00:00<00:00, 45.44it/s]\u001b[A\u001b[A\n",
      "\n",
      " 77%|███████▋  | 50/65 [00:01<00:00, 45.51it/s]\u001b[A\u001b[A\n",
      "\n",
      " 85%|████████▍ | 55/65 [00:01<00:00, 45.61it/s]\u001b[A\u001b[A\n",
      "\n",
      " 92%|█████████▏| 60/65 [00:01<00:00, 45.68it/s]\u001b[A\u001b[A\n",
      "\n",
      "100%|██████████| 65/65 [00:01<00:00, 45.71it/s]\u001b[A\u001b[A\n",
      "\n",
      "\n",
      "  0%|          | 0/130 [00:00<?, ?it/s]\u001b[A\u001b[A\n",
      "\n",
      "  4%|▍         | 5/130 [00:00<00:02, 46.28it/s]\u001b[A\u001b[A"
     ]
    },
    {
     "name": "stdout",
     "output_type": "stream",
     "text": [
      "Validation Loss:  0.6789438091791593\n",
      "Validation Accuracy:  0.6153846153846154\n",
      "Testing Model....\n"
     ]
    },
    {
     "name": "stderr",
     "output_type": "stream",
     "text": [
      "\n",
      "\n",
      "  8%|▊         | 10/130 [00:00<00:02, 46.12it/s]\u001b[A\u001b[A\n",
      "\n",
      " 12%|█▏        | 15/130 [00:00<00:02, 45.87it/s]\u001b[A\u001b[A\n",
      "\n",
      " 15%|█▌        | 20/130 [00:00<00:02, 45.65it/s]\u001b[A\u001b[A\n",
      "\n",
      " 19%|█▉        | 25/130 [00:00<00:02, 45.57it/s]\u001b[A\u001b[A\n",
      "\n",
      " 23%|██▎       | 30/130 [00:00<00:02, 45.61it/s]\u001b[A\u001b[A\n",
      "\n",
      " 27%|██▋       | 35/130 [00:00<00:02, 45.56it/s]\u001b[A\u001b[A\n",
      "\n",
      " 31%|███       | 40/130 [00:00<00:01, 45.63it/s]\u001b[A\u001b[A\n",
      "\n",
      " 35%|███▍      | 45/130 [00:00<00:01, 45.63it/s]\u001b[A\u001b[A\n",
      "\n",
      " 38%|███▊      | 50/130 [00:01<00:01, 45.66it/s]\u001b[A\u001b[A\n",
      "\n",
      " 42%|████▏     | 55/130 [00:01<00:01, 45.72it/s]\u001b[A\u001b[A\n",
      "\n",
      " 46%|████▌     | 60/130 [00:01<00:01, 45.55it/s]\u001b[A\u001b[A\n",
      "\n",
      " 50%|█████     | 65/130 [00:01<00:01, 45.57it/s]\u001b[A\u001b[A\n",
      "\n",
      " 54%|█████▍    | 70/130 [00:01<00:01, 45.50it/s]\u001b[A\u001b[A\n",
      "\n",
      " 58%|█████▊    | 75/130 [00:01<00:01, 45.47it/s]\u001b[A\u001b[A\n",
      "\n",
      " 62%|██████▏   | 80/130 [00:01<00:01, 45.57it/s]\u001b[A\u001b[A\n",
      "\n",
      " 65%|██████▌   | 85/130 [00:01<00:00, 45.61it/s]\u001b[A\u001b[A\n",
      "\n",
      " 69%|██████▉   | 90/130 [00:01<00:00, 45.60it/s]\u001b[A\u001b[A\n",
      "\n",
      " 73%|███████▎  | 95/130 [00:02<00:00, 45.63it/s]\u001b[A\u001b[A\n",
      "\n",
      " 77%|███████▋  | 100/130 [00:02<00:00, 45.60it/s]\u001b[A\u001b[A\n",
      "\n",
      " 81%|████████  | 105/130 [00:02<00:00, 45.53it/s]\u001b[A\u001b[A\n",
      "\n",
      " 85%|████████▍ | 110/130 [00:02<00:00, 45.50it/s]\u001b[A\u001b[A\n",
      "\n",
      " 88%|████████▊ | 115/130 [00:02<00:00, 45.47it/s]\u001b[A\u001b[A\n",
      "\n",
      " 92%|█████████▏| 120/130 [00:02<00:00, 45.50it/s]\u001b[A\u001b[A\n",
      "\n",
      " 96%|█████████▌| 125/130 [00:02<00:00, 45.50it/s]\u001b[A\u001b[A\n",
      "\n",
      "100%|██████████| 130/130 [00:02<00:00, 45.56it/s]\u001b[A\u001b[A\n",
      "\n",
      "\n",
      "  0%|          | 0/130 [00:00<?, ?it/s]\u001b[A\u001b[A\n",
      "\n",
      "  4%|▍         | 5/130 [00:00<00:02, 46.27it/s]\u001b[A\u001b[A"
     ]
    },
    {
     "name": "stdout",
     "output_type": "stream",
     "text": [
      "Best mF1Score....\n"
     ]
    },
    {
     "name": "stderr",
     "output_type": "stream",
     "text": [
      "\n",
      "\n",
      "  8%|▊         | 10/130 [00:00<00:02, 46.14it/s]\u001b[A\u001b[A\n",
      "\n",
      " 12%|█▏        | 15/130 [00:00<00:02, 45.97it/s]\u001b[A\u001b[A\n",
      "\n",
      " 15%|█▌        | 20/130 [00:00<00:02, 45.81it/s]\u001b[A\u001b[A\n",
      "\n",
      " 19%|█▉        | 25/130 [00:00<00:02, 45.62it/s]\u001b[A\u001b[A\n",
      "\n",
      " 23%|██▎       | 30/130 [00:00<00:02, 45.63it/s]\u001b[A\u001b[A\n",
      "\n",
      " 27%|██▋       | 35/130 [00:00<00:02, 45.55it/s]\u001b[A\u001b[A\n",
      "\n",
      " 31%|███       | 40/130 [00:00<00:01, 45.58it/s]\u001b[A\u001b[A\n",
      "\n",
      " 35%|███▍      | 45/130 [00:00<00:01, 45.51it/s]\u001b[A\u001b[A\n",
      "\n",
      " 38%|███▊      | 50/130 [00:01<00:01, 45.40it/s]\u001b[A\u001b[A\n",
      "\n",
      " 42%|████▏     | 55/130 [00:01<00:01, 45.44it/s]\u001b[A\u001b[A\n",
      "\n",
      " 46%|████▌     | 60/130 [00:01<00:01, 45.51it/s]\u001b[A\u001b[A\n",
      "\n",
      " 50%|█████     | 65/130 [00:01<00:01, 45.50it/s]\u001b[A\u001b[A\n",
      "\n",
      " 54%|█████▍    | 70/130 [00:01<00:01, 45.48it/s]\u001b[A\u001b[A\n",
      "\n",
      " 58%|█████▊    | 75/130 [00:01<00:01, 45.53it/s]\u001b[A\u001b[A\n",
      "\n",
      " 62%|██████▏   | 80/130 [00:01<00:01, 45.44it/s]\u001b[A\u001b[A\n",
      "\n",
      " 65%|██████▌   | 85/130 [00:01<00:00, 45.43it/s]\u001b[A\u001b[A\n",
      "\n",
      " 69%|██████▉   | 90/130 [00:01<00:00, 45.38it/s]\u001b[A\u001b[A\n",
      "\n",
      " 73%|███████▎  | 95/130 [00:02<00:00, 45.35it/s]\u001b[A\u001b[A\n",
      "\n",
      " 77%|███████▋  | 100/130 [00:02<00:00, 45.32it/s]\u001b[A\u001b[A\n",
      "\n",
      " 81%|████████  | 105/130 [00:02<00:00, 45.34it/s]\u001b[A\u001b[A\n",
      "\n",
      " 85%|████████▍ | 110/130 [00:02<00:00, 45.31it/s]\u001b[A\u001b[A\n",
      "\n",
      " 88%|████████▊ | 115/130 [00:02<00:00, 45.23it/s]\u001b[A\u001b[A\n",
      "\n",
      " 92%|█████████▏| 120/130 [00:02<00:00, 45.31it/s]\u001b[A\u001b[A\n",
      "\n",
      " 96%|█████████▌| 125/130 [00:02<00:00, 45.30it/s]\u001b[A\u001b[A\n",
      "\n",
      "100%|██████████| 130/130 [00:02<00:00, 45.43it/s]\u001b[A\u001b[A\n",
      "\n",
      "\n",
      "  0%|          | 0/8 [00:00<?, ?it/s]\u001b[A\u001b[A\n",
      "\n",
      " 25%|██▌       | 2/8 [00:00<00:00, 10.68it/s]\u001b[A\u001b[A"
     ]
    },
    {
     "name": "stdout",
     "output_type": "stream",
     "text": [
      "\n",
      "======== Epoch 3 / 10 ========\n",
      "\n",
      "Training...\n"
     ]
    },
    {
     "name": "stderr",
     "output_type": "stream",
     "text": [
      "\n",
      "\n",
      " 50%|█████     | 4/8 [00:00<00:00, 10.55it/s]\u001b[A\u001b[A\n",
      "\n",
      " 75%|███████▌  | 6/8 [00:00<00:00, 10.48it/s]\u001b[A\u001b[A\n",
      "\n",
      "100%|██████████| 8/8 [00:00<00:00, 10.36it/s]\u001b[A\u001b[A\n",
      "\n",
      "\n",
      "  0%|          | 0/65 [00:00<?, ?it/s]\u001b[A\u001b[A\n",
      "\n",
      "  8%|▊         | 5/65 [00:00<00:01, 46.55it/s]\u001b[A\u001b[A"
     ]
    },
    {
     "name": "stdout",
     "output_type": "stream",
     "text": [
      "avg_train_loss 0.5483926869928837\n",
      "train_f1Score 0.7636363636363634\n",
      "train_accuracy 0.796875\n",
      "\n",
      "Running Validation...\n"
     ]
    },
    {
     "name": "stderr",
     "output_type": "stream",
     "text": [
      "\n",
      "\n",
      " 15%|█▌        | 10/65 [00:00<00:01, 46.16it/s]\u001b[A\u001b[A\n",
      "\n",
      " 23%|██▎       | 15/65 [00:00<00:01, 45.92it/s]\u001b[A\u001b[A\n",
      "\n",
      " 31%|███       | 20/65 [00:00<00:00, 45.71it/s]\u001b[A\u001b[A\n",
      "\n",
      " 38%|███▊      | 25/65 [00:00<00:00, 45.61it/s]\u001b[A\u001b[A\n",
      "\n",
      " 46%|████▌     | 30/65 [00:00<00:00, 45.55it/s]\u001b[A\u001b[A\n",
      "\n",
      " 54%|█████▍    | 35/65 [00:00<00:00, 45.50it/s]\u001b[A\u001b[A\n",
      "\n",
      " 62%|██████▏   | 40/65 [00:00<00:00, 45.26it/s]\u001b[A\u001b[A\n",
      "\n",
      " 69%|██████▉   | 45/65 [00:00<00:00, 45.14it/s]\u001b[A\u001b[A\n",
      "\n",
      " 77%|███████▋  | 50/65 [00:01<00:00, 45.17it/s]\u001b[A\u001b[A\n",
      "\n",
      " 85%|████████▍ | 55/65 [00:01<00:00, 45.23it/s]\u001b[A\u001b[A\n",
      "\n",
      " 92%|█████████▏| 60/65 [00:01<00:00, 45.25it/s]\u001b[A\u001b[A\n",
      "\n",
      "100%|██████████| 65/65 [00:01<00:00, 45.29it/s]\u001b[A\u001b[A\n",
      "\n",
      "\n",
      "  0%|          | 0/130 [00:00<?, ?it/s]\u001b[A\u001b[A\n",
      "\n",
      "  4%|▍         | 5/130 [00:00<00:02, 46.14it/s]\u001b[A\u001b[A"
     ]
    },
    {
     "name": "stdout",
     "output_type": "stream",
     "text": [
      "Validation Loss:  0.6424682424618647\n",
      "Validation Accuracy:  0.6326923076923077\n",
      "Best mF1Score....\n"
     ]
    },
    {
     "name": "stderr",
     "output_type": "stream",
     "text": [
      "\n",
      "\n",
      "  8%|▊         | 10/130 [00:00<00:02, 45.91it/s]\u001b[A\u001b[A\n",
      "\n",
      " 12%|█▏        | 15/130 [00:00<00:02, 45.70it/s]\u001b[A\u001b[A\n",
      "\n",
      " 15%|█▌        | 20/130 [00:00<00:02, 45.40it/s]\u001b[A\u001b[A\n",
      "\n",
      " 19%|█▉        | 25/130 [00:00<00:02, 45.28it/s]\u001b[A\u001b[A\n",
      "\n",
      " 23%|██▎       | 30/130 [00:00<00:02, 45.27it/s]\u001b[A\u001b[A\n",
      "\n",
      " 27%|██▋       | 35/130 [00:00<00:02, 45.28it/s]\u001b[A\u001b[A\n",
      "\n",
      " 31%|███       | 40/130 [00:00<00:01, 45.19it/s]\u001b[A\u001b[A\n",
      "\n",
      " 35%|███▍      | 45/130 [00:00<00:01, 45.21it/s]\u001b[A\u001b[A\n",
      "\n",
      " 38%|███▊      | 50/130 [00:01<00:01, 45.23it/s]\u001b[A\u001b[A\n",
      "\n",
      " 42%|████▏     | 55/130 [00:01<00:01, 45.23it/s]\u001b[A\u001b[A\n",
      "\n",
      " 46%|████▌     | 60/130 [00:01<00:01, 45.17it/s]\u001b[A\u001b[A\n",
      "\n",
      " 50%|█████     | 65/130 [00:01<00:01, 45.06it/s]\u001b[A\u001b[A\n",
      "\n",
      " 54%|█████▍    | 70/130 [00:01<00:01, 45.11it/s]\u001b[A\u001b[A\n",
      "\n",
      " 58%|█████▊    | 75/130 [00:01<00:01, 45.06it/s]\u001b[A\u001b[A\n",
      "\n",
      " 62%|██████▏   | 80/130 [00:01<00:01, 45.07it/s]\u001b[A\u001b[A\n",
      "\n",
      " 65%|██████▌   | 85/130 [00:01<00:00, 45.11it/s]\u001b[A\u001b[A\n",
      "\n",
      " 69%|██████▉   | 90/130 [00:01<00:00, 45.05it/s]\u001b[A\u001b[A\n",
      "\n",
      " 73%|███████▎  | 95/130 [00:02<00:00, 45.10it/s]\u001b[A\u001b[A\n",
      "\n",
      " 77%|███████▋  | 100/130 [00:02<00:00, 45.07it/s]\u001b[A\u001b[A\n",
      "\n",
      " 81%|████████  | 105/130 [00:02<00:00, 45.10it/s]\u001b[A\u001b[A\n",
      "\n",
      " 85%|████████▍ | 110/130 [00:02<00:00, 45.07it/s]\u001b[A\u001b[A\n",
      "\n",
      " 88%|████████▊ | 115/130 [00:02<00:00, 45.02it/s]\u001b[A\u001b[A\n",
      "\n",
      " 92%|█████████▏| 120/130 [00:02<00:00, 45.00it/s]\u001b[A\u001b[A\n",
      "\n",
      " 96%|█████████▌| 125/130 [00:02<00:00, 45.01it/s]\u001b[A\u001b[A\n",
      "\n",
      "100%|██████████| 130/130 [00:02<00:00, 45.11it/s]\u001b[A\u001b[A\n",
      "\n",
      "\n",
      "  0%|          | 0/8 [00:00<?, ?it/s]\u001b[A\u001b[A\n",
      "\n",
      " 25%|██▌       | 2/8 [00:00<00:00, 10.40it/s]\u001b[A\u001b[A"
     ]
    },
    {
     "name": "stdout",
     "output_type": "stream",
     "text": [
      "\n",
      "======== Epoch 4 / 10 ========\n",
      "\n",
      "Training...\n"
     ]
    },
    {
     "name": "stderr",
     "output_type": "stream",
     "text": [
      "\n",
      "\n",
      " 38%|███▊      | 3/8 [00:00<00:00, 10.25it/s]\u001b[A\u001b[A\n",
      "\n",
      " 62%|██████▎   | 5/8 [00:00<00:00, 10.24it/s]\u001b[A\u001b[A\n",
      "\n",
      " 75%|███████▌  | 6/8 [00:00<00:00, 10.16it/s]\u001b[A\u001b[A\n",
      "\n",
      "100%|██████████| 8/8 [00:00<00:00, 10.15it/s]\u001b[A\u001b[A\n",
      "\n",
      "\n",
      "  0%|          | 0/65 [00:00<?, ?it/s]\u001b[A\u001b[A\n",
      "\n",
      "  8%|▊         | 5/65 [00:00<00:01, 45.36it/s]\u001b[A\u001b[A"
     ]
    },
    {
     "name": "stdout",
     "output_type": "stream",
     "text": [
      "avg_train_loss 0.44850392267107964\n",
      "train_f1Score 0.8450704225352113\n",
      "train_accuracy 0.828125\n",
      "\n",
      "Running Validation...\n"
     ]
    },
    {
     "name": "stderr",
     "output_type": "stream",
     "text": [
      "\n",
      "\n",
      " 15%|█▌        | 10/65 [00:00<00:01, 45.34it/s]\u001b[A\u001b[A\n",
      "\n",
      " 23%|██▎       | 15/65 [00:00<00:01, 45.27it/s]\u001b[A\u001b[A\n",
      "\n",
      " 31%|███       | 20/65 [00:00<00:00, 45.23it/s]\u001b[A\u001b[A\n",
      "\n",
      " 38%|███▊      | 25/65 [00:00<00:00, 45.19it/s]\u001b[A\u001b[A\n",
      "\n",
      " 46%|████▌     | 30/65 [00:00<00:00, 45.07it/s]\u001b[A\u001b[A\n",
      "\n",
      " 54%|█████▍    | 35/65 [00:00<00:00, 45.09it/s]\u001b[A\u001b[A\n",
      "\n",
      " 62%|██████▏   | 40/65 [00:00<00:00, 45.00it/s]\u001b[A\u001b[A\n",
      "\n",
      " 69%|██████▉   | 45/65 [00:00<00:00, 44.97it/s]\u001b[A\u001b[A\n",
      "\n",
      " 77%|███████▋  | 50/65 [00:01<00:00, 44.90it/s]\u001b[A\u001b[A\n",
      "\n",
      " 85%|████████▍ | 55/65 [00:01<00:00, 44.96it/s]\u001b[A\u001b[A\n",
      "\n",
      " 92%|█████████▏| 60/65 [00:01<00:00, 44.88it/s]\u001b[A\u001b[A\n",
      "\n",
      "100%|██████████| 65/65 [00:01<00:00, 44.99it/s]\u001b[A\u001b[A\n",
      "\n",
      "\n",
      "  0%|          | 0/130 [00:00<?, ?it/s]\u001b[A\u001b[A\n",
      "\n",
      "  4%|▍         | 5/130 [00:00<00:02, 45.52it/s]\u001b[A\u001b[A"
     ]
    },
    {
     "name": "stdout",
     "output_type": "stream",
     "text": [
      "Validation Loss:  0.6465312458001651\n",
      "Validation Accuracy:  0.6538461538461539\n",
      "Testing Model....\n"
     ]
    },
    {
     "name": "stderr",
     "output_type": "stream",
     "text": [
      "\n",
      "\n",
      "  8%|▊         | 10/130 [00:00<00:02, 45.23it/s]\u001b[A\u001b[A\n",
      "\n",
      " 12%|█▏        | 15/130 [00:00<00:02, 45.16it/s]\u001b[A\u001b[A\n",
      "\n",
      " 15%|█▌        | 20/130 [00:00<00:02, 45.05it/s]\u001b[A\u001b[A\n",
      "\n",
      " 19%|█▉        | 25/130 [00:00<00:02, 45.07it/s]\u001b[A\u001b[A\n",
      "\n",
      " 23%|██▎       | 30/130 [00:00<00:02, 44.97it/s]\u001b[A\u001b[A\n",
      "\n",
      " 27%|██▋       | 35/130 [00:00<00:02, 44.96it/s]\u001b[A\u001b[A\n",
      "\n",
      " 31%|███       | 40/130 [00:00<00:02, 44.91it/s]\u001b[A\u001b[A\n",
      "\n",
      " 35%|███▍      | 45/130 [00:01<00:01, 44.92it/s]\u001b[A\u001b[A\n",
      "\n",
      " 38%|███▊      | 50/130 [00:01<00:01, 44.86it/s]\u001b[A\u001b[A\n",
      "\n",
      " 42%|████▏     | 55/130 [00:01<00:01, 44.92it/s]\u001b[A\u001b[A\n",
      "\n",
      " 46%|████▌     | 60/130 [00:01<00:01, 44.92it/s]\u001b[A\u001b[A\n",
      "\n",
      " 50%|█████     | 65/130 [00:01<00:01, 44.85it/s]\u001b[A\u001b[A\n",
      "\n",
      " 54%|█████▍    | 70/130 [00:01<00:01, 44.91it/s]\u001b[A\u001b[A\n",
      "\n",
      " 58%|█████▊    | 75/130 [00:01<00:01, 44.87it/s]\u001b[A\u001b[A\n",
      "\n",
      " 62%|██████▏   | 80/130 [00:01<00:01, 44.93it/s]\u001b[A\u001b[A\n",
      "\n",
      " 65%|██████▌   | 85/130 [00:01<00:01, 44.88it/s]\u001b[A\u001b[A\n",
      "\n",
      " 69%|██████▉   | 90/130 [00:02<00:00, 44.91it/s]\u001b[A\u001b[A\n",
      "\n",
      " 73%|███████▎  | 95/130 [00:02<00:00, 44.87it/s]\u001b[A\u001b[A\n",
      "\n",
      " 77%|███████▋  | 100/130 [00:02<00:00, 44.88it/s]\u001b[A\u001b[A\n",
      "\n",
      " 81%|████████  | 105/130 [00:02<00:00, 44.82it/s]\u001b[A\u001b[A\n",
      "\n",
      " 85%|████████▍ | 110/130 [00:02<00:00, 44.85it/s]\u001b[A\u001b[A\n",
      "\n",
      " 88%|████████▊ | 115/130 [00:02<00:00, 44.80it/s]\u001b[A\u001b[A\n",
      "\n",
      " 92%|█████████▏| 120/130 [00:02<00:00, 44.85it/s]\u001b[A\u001b[A\n",
      "\n",
      " 96%|█████████▌| 125/130 [00:02<00:00, 44.87it/s]\u001b[A\u001b[A\n",
      "\n",
      "100%|██████████| 130/130 [00:02<00:00, 44.87it/s]\u001b[A\u001b[A\n",
      "\n",
      "\n",
      "  0%|          | 0/130 [00:00<?, ?it/s]\u001b[A\u001b[A\n",
      "\n",
      "  4%|▍         | 5/130 [00:00<00:02, 45.52it/s]\u001b[A\u001b[A"
     ]
    },
    {
     "name": "stdout",
     "output_type": "stream",
     "text": [
      "Best mF1Score....\n"
     ]
    },
    {
     "name": "stderr",
     "output_type": "stream",
     "text": [
      "\n",
      "\n",
      "  8%|▊         | 10/130 [00:00<00:02, 45.38it/s]\u001b[A\u001b[A\n",
      "\n",
      " 12%|█▏        | 15/130 [00:00<00:02, 45.21it/s]\u001b[A\u001b[A\n",
      "\n",
      " 15%|█▌        | 20/130 [00:00<00:02, 45.11it/s]\u001b[A\u001b[A\n",
      "\n",
      " 19%|█▉        | 25/130 [00:00<00:02, 45.00it/s]\u001b[A\u001b[A\n",
      "\n",
      " 23%|██▎       | 30/130 [00:00<00:02, 44.98it/s]\u001b[A\u001b[A\n",
      "\n",
      " 27%|██▋       | 35/130 [00:00<00:02, 44.89it/s]\u001b[A\u001b[A\n",
      "\n",
      " 31%|███       | 40/130 [00:00<00:02, 44.88it/s]\u001b[A\u001b[A\n",
      "\n",
      " 35%|███▍      | 45/130 [00:01<00:01, 44.83it/s]\u001b[A\u001b[A\n",
      "\n",
      " 38%|███▊      | 50/130 [00:01<00:01, 44.86it/s]\u001b[A\u001b[A\n",
      "\n",
      " 42%|████▏     | 55/130 [00:01<00:01, 44.84it/s]\u001b[A\u001b[A\n",
      "\n",
      " 46%|████▌     | 60/130 [00:01<00:01, 44.87it/s]\u001b[A\u001b[A\n",
      "\n",
      " 50%|█████     | 65/130 [00:01<00:01, 44.81it/s]\u001b[A\u001b[A\n",
      "\n",
      " 54%|█████▍    | 70/130 [00:01<00:01, 44.90it/s]\u001b[A\u001b[A\n",
      "\n",
      " 58%|█████▊    | 75/130 [00:01<00:01, 44.74it/s]\u001b[A\u001b[A\n",
      "\n",
      " 62%|██████▏   | 80/130 [00:01<00:01, 44.82it/s]\u001b[A\u001b[A\n",
      "\n",
      " 65%|██████▌   | 85/130 [00:01<00:01, 44.76it/s]\u001b[A\u001b[A\n",
      "\n",
      " 69%|██████▉   | 90/130 [00:02<00:00, 44.80it/s]\u001b[A\u001b[A\n",
      "\n",
      " 73%|███████▎  | 95/130 [00:02<00:00, 44.72it/s]\u001b[A\u001b[A\n",
      "\n",
      " 77%|███████▋  | 100/130 [00:02<00:00, 44.79it/s]\u001b[A\u001b[A\n",
      "\n",
      " 81%|████████  | 105/130 [00:02<00:00, 44.63it/s]\u001b[A\u001b[A\n",
      "\n",
      " 85%|████████▍ | 110/130 [00:02<00:00, 44.71it/s]\u001b[A\u001b[A\n",
      "\n",
      " 88%|████████▊ | 115/130 [00:02<00:00, 44.80it/s]\u001b[A\u001b[A\n",
      "\n",
      " 92%|█████████▏| 120/130 [00:02<00:00, 44.86it/s]\u001b[A\u001b[A\n",
      "\n",
      " 96%|█████████▌| 125/130 [00:02<00:00, 44.90it/s]\u001b[A\u001b[A\n",
      "\n",
      "100%|██████████| 130/130 [00:02<00:00, 44.84it/s]\u001b[A\u001b[A\n",
      "\n",
      "\n",
      "  0%|          | 0/8 [00:00<?, ?it/s]\u001b[A\u001b[A\n",
      "\n",
      " 25%|██▌       | 2/8 [00:00<00:00, 10.47it/s]\u001b[A\u001b[A"
     ]
    },
    {
     "name": "stdout",
     "output_type": "stream",
     "text": [
      "\n",
      "======== Epoch 5 / 10 ========\n",
      "\n",
      "Training...\n"
     ]
    },
    {
     "name": "stderr",
     "output_type": "stream",
     "text": [
      "\n",
      "\n",
      " 50%|█████     | 4/8 [00:00<00:00, 10.36it/s]\u001b[A\u001b[A\n",
      "\n",
      " 75%|███████▌  | 6/8 [00:00<00:00, 10.30it/s]\u001b[A\u001b[A\n",
      "\n",
      "100%|██████████| 8/8 [00:00<00:00, 10.19it/s]\u001b[A\u001b[A\n",
      "\n",
      "\n",
      "  0%|          | 0/65 [00:00<?, ?it/s]\u001b[A\u001b[A\n",
      "\n",
      "  8%|▊         | 5/65 [00:00<00:01, 45.63it/s]\u001b[A\u001b[A"
     ]
    },
    {
     "name": "stdout",
     "output_type": "stream",
     "text": [
      "avg_train_loss 0.26805287040770054\n",
      "train_f1Score 0.967741935483871\n",
      "train_accuracy 0.96875\n",
      "\n",
      "Running Validation...\n"
     ]
    },
    {
     "name": "stderr",
     "output_type": "stream",
     "text": [
      "\n",
      "\n",
      " 15%|█▌        | 10/65 [00:00<00:01, 45.30it/s]\u001b[A\u001b[A\n",
      "\n",
      " 23%|██▎       | 15/65 [00:00<00:01, 45.04it/s]\u001b[A\u001b[A\n",
      "\n",
      " 31%|███       | 20/65 [00:00<00:01, 44.97it/s]\u001b[A\u001b[A\n",
      "\n",
      " 38%|███▊      | 25/65 [00:00<00:00, 44.93it/s]\u001b[A\u001b[A\n",
      "\n",
      " 46%|████▌     | 30/65 [00:00<00:00, 44.81it/s]\u001b[A\u001b[A\n",
      "\n",
      " 54%|█████▍    | 35/65 [00:00<00:00, 44.90it/s]\u001b[A\u001b[A\n",
      "\n",
      " 62%|██████▏   | 40/65 [00:00<00:00, 44.79it/s]\u001b[A\u001b[A\n",
      "\n",
      " 69%|██████▉   | 45/65 [00:01<00:00, 44.79it/s]\u001b[A\u001b[A\n",
      "\n",
      " 77%|███████▋  | 50/65 [00:01<00:00, 44.59it/s]\u001b[A\u001b[A\n",
      "\n",
      " 85%|████████▍ | 55/65 [00:01<00:00, 44.72it/s]\u001b[A\u001b[A\n",
      "\n",
      " 92%|█████████▏| 60/65 [00:01<00:00, 44.65it/s]\u001b[A\u001b[A\n",
      "\n",
      "100%|██████████| 65/65 [00:01<00:00, 44.69it/s]\u001b[A\u001b[A\n",
      "\n",
      "\n",
      "  0%|          | 0/130 [00:00<?, ?it/s]\u001b[A\u001b[A\n",
      "\n",
      "  4%|▍         | 5/130 [00:00<00:02, 45.26it/s]\u001b[A\u001b[A"
     ]
    },
    {
     "name": "stdout",
     "output_type": "stream",
     "text": [
      "Validation Loss:  0.679091507425675\n",
      "Validation Accuracy:  0.6653846153846154\n",
      "Best mF1Score....\n"
     ]
    },
    {
     "name": "stderr",
     "output_type": "stream",
     "text": [
      "\n",
      "\n",
      "  8%|▊         | 10/130 [00:00<00:02, 45.08it/s]\u001b[A\u001b[A\n",
      "\n",
      " 12%|█▏        | 15/130 [00:00<00:02, 44.99it/s]\u001b[A\u001b[A\n",
      "\n",
      " 15%|█▌        | 20/130 [00:00<00:02, 44.95it/s]\u001b[A\u001b[A\n",
      "\n",
      " 19%|█▉        | 25/130 [00:00<00:02, 44.88it/s]\u001b[A\u001b[A\n",
      "\n",
      " 23%|██▎       | 30/130 [00:00<00:02, 44.96it/s]\u001b[A\u001b[A\n",
      "\n",
      " 27%|██▋       | 35/130 [00:00<00:02, 44.83it/s]\u001b[A\u001b[A\n",
      "\n",
      " 31%|███       | 40/130 [00:00<00:02, 44.66it/s]\u001b[A\u001b[A\n",
      "\n",
      " 35%|███▍      | 45/130 [00:01<00:01, 44.76it/s]\u001b[A\u001b[A\n",
      "\n",
      " 38%|███▊      | 50/130 [00:01<00:01, 44.79it/s]\u001b[A\u001b[A\n",
      "\n",
      " 42%|████▏     | 55/130 [00:01<00:01, 44.85it/s]\u001b[A\u001b[A\n",
      "\n",
      " 46%|████▌     | 60/130 [00:01<00:01, 44.87it/s]\u001b[A\u001b[A\n",
      "\n",
      " 50%|█████     | 65/130 [00:01<00:01, 44.67it/s]\u001b[A\u001b[A\n",
      "\n",
      " 54%|█████▍    | 70/130 [00:01<00:01, 44.59it/s]\u001b[A\u001b[A\n",
      "\n",
      " 58%|█████▊    | 75/130 [00:01<00:01, 44.57it/s]\u001b[A\u001b[A\n",
      "\n",
      " 62%|██████▏   | 80/130 [00:01<00:01, 44.70it/s]\u001b[A\u001b[A\n",
      "\n",
      " 65%|██████▌   | 85/130 [00:01<00:01, 44.48it/s]\u001b[A\u001b[A\n",
      "\n",
      " 69%|██████▉   | 90/130 [00:02<00:00, 44.50it/s]\u001b[A\u001b[A\n",
      "\n",
      " 73%|███████▎  | 95/130 [00:02<00:00, 44.43it/s]\u001b[A\u001b[A\n",
      "\n",
      " 77%|███████▋  | 100/130 [00:02<00:00, 44.58it/s]\u001b[A\u001b[A\n",
      "\n",
      " 81%|████████  | 105/130 [00:02<00:00, 44.69it/s]\u001b[A\u001b[A\n",
      "\n",
      " 85%|████████▍ | 110/130 [00:02<00:00, 44.61it/s]\u001b[A\u001b[A\n",
      "\n",
      " 88%|████████▊ | 115/130 [00:02<00:00, 44.52it/s]\u001b[A\u001b[A\n",
      "\n",
      " 92%|█████████▏| 120/130 [00:02<00:00, 44.51it/s]\u001b[A\u001b[A\n",
      "\n",
      " 96%|█████████▌| 125/130 [00:02<00:00, 44.68it/s]\u001b[A\u001b[A\n",
      "\n",
      "100%|██████████| 130/130 [00:02<00:00, 44.65it/s]\u001b[A\u001b[A\n",
      "\n",
      "\n",
      "  0%|          | 0/8 [00:00<?, ?it/s]\u001b[A\u001b[A\n",
      "\n",
      " 25%|██▌       | 2/8 [00:00<00:00, 10.29it/s]\u001b[A\u001b[A"
     ]
    },
    {
     "name": "stdout",
     "output_type": "stream",
     "text": [
      "\n",
      "======== Epoch 6 / 10 ========\n",
      "\n",
      "Training...\n"
     ]
    },
    {
     "name": "stderr",
     "output_type": "stream",
     "text": [
      "\n",
      "\n",
      " 38%|███▊      | 3/8 [00:00<00:00, 10.16it/s]\u001b[A\u001b[A\n",
      "\n",
      " 50%|█████     | 4/8 [00:00<00:00, 10.08it/s]\u001b[A\u001b[A\n",
      "\n",
      " 62%|██████▎   | 5/8 [00:00<00:00, 10.04it/s]\u001b[A\u001b[A\n",
      "\n",
      " 75%|███████▌  | 6/8 [00:00<00:00, 10.01it/s]\u001b[A\u001b[A\n",
      "\n",
      " 88%|████████▊ | 7/8 [00:00<00:00,  9.97it/s]\u001b[A\u001b[A\n",
      "\n",
      "100%|██████████| 8/8 [00:00<00:00,  9.99it/s]\u001b[A\u001b[A\n",
      "\n",
      "\n",
      "  0%|          | 0/65 [00:00<?, ?it/s]\u001b[A\u001b[A\n",
      "\n",
      "  8%|▊         | 5/65 [00:00<00:01, 44.91it/s]\u001b[A\u001b[A"
     ]
    },
    {
     "name": "stdout",
     "output_type": "stream",
     "text": [
      "avg_train_loss 0.2232254184782505\n",
      "train_f1Score 0.96875\n",
      "train_accuracy 0.96875\n",
      "\n",
      "Running Validation...\n"
     ]
    },
    {
     "name": "stderr",
     "output_type": "stream",
     "text": [
      "\n",
      "\n",
      " 15%|█▌        | 10/65 [00:00<00:01, 44.91it/s]\u001b[A\u001b[A\n",
      "\n",
      " 23%|██▎       | 15/65 [00:00<00:01, 44.91it/s]\u001b[A\u001b[A\n",
      "\n",
      " 31%|███       | 20/65 [00:00<00:01, 44.79it/s]\u001b[A\u001b[A\n",
      "\n",
      " 38%|███▊      | 25/65 [00:00<00:00, 44.92it/s]\u001b[A\u001b[A\n",
      "\n",
      " 46%|████▌     | 30/65 [00:00<00:00, 44.95it/s]\u001b[A\u001b[A\n",
      "\n",
      " 54%|█████▍    | 35/65 [00:00<00:00, 44.77it/s]\u001b[A\u001b[A\n",
      "\n",
      " 62%|██████▏   | 40/65 [00:00<00:00, 44.74it/s]\u001b[A\u001b[A\n",
      "\n",
      " 69%|██████▉   | 45/65 [00:01<00:00, 44.77it/s]\u001b[A\u001b[A\n",
      "\n",
      " 77%|███████▋  | 50/65 [00:01<00:00, 44.75it/s]\u001b[A\u001b[A\n",
      "\n",
      " 85%|████████▍ | 55/65 [00:01<00:00, 44.78it/s]\u001b[A\u001b[A\n",
      "\n",
      " 92%|█████████▏| 60/65 [00:01<00:00, 44.70it/s]\u001b[A\u001b[A\n",
      "\n",
      "100%|██████████| 65/65 [00:01<00:00, 44.74it/s]\u001b[A\u001b[A\n",
      "\n",
      "\n",
      "  0%|          | 0/130 [00:00<?, ?it/s]\u001b[A\u001b[A\n",
      "\n",
      "  4%|▍         | 5/130 [00:00<00:02, 44.98it/s]\u001b[A\u001b[A"
     ]
    },
    {
     "name": "stdout",
     "output_type": "stream",
     "text": [
      "Validation Loss:  0.7834682258275839\n",
      "Validation Accuracy:  0.6461538461538462\n",
      "Testing Model....\n"
     ]
    },
    {
     "name": "stderr",
     "output_type": "stream",
     "text": [
      "\n",
      "\n",
      "  8%|▊         | 10/130 [00:00<00:02, 45.01it/s]\u001b[A\u001b[A\n",
      "\n",
      " 12%|█▏        | 15/130 [00:00<00:02, 44.94it/s]\u001b[A\u001b[A\n",
      "\n",
      " 15%|█▌        | 20/130 [00:00<00:02, 44.80it/s]\u001b[A\u001b[A\n",
      "\n",
      " 19%|█▉        | 25/130 [00:00<00:02, 44.85it/s]\u001b[A\u001b[A\n",
      "\n",
      " 23%|██▎       | 30/130 [00:00<00:02, 44.76it/s]\u001b[A\u001b[A\n",
      "\n",
      " 27%|██▋       | 35/130 [00:00<00:02, 44.75it/s]\u001b[A\u001b[A\n",
      "\n",
      " 31%|███       | 40/130 [00:00<00:02, 44.66it/s]\u001b[A\u001b[A\n",
      "\n",
      " 35%|███▍      | 45/130 [00:01<00:01, 44.52it/s]\u001b[A\u001b[A\n",
      "\n",
      " 38%|███▊      | 50/130 [00:01<00:01, 44.64it/s]\u001b[A\u001b[A\n",
      "\n",
      " 42%|████▏     | 55/130 [00:01<00:01, 44.72it/s]\u001b[A\u001b[A\n",
      "\n",
      " 46%|████▌     | 60/130 [00:01<00:01, 44.78it/s]\u001b[A\u001b[A\n",
      "\n",
      " 50%|█████     | 65/130 [00:01<00:01, 44.83it/s]\u001b[A\u001b[A\n",
      "\n",
      " 54%|█████▍    | 70/130 [00:01<00:01, 44.87it/s]\u001b[A\u001b[A\n",
      "\n",
      " 58%|█████▊    | 75/130 [00:01<00:01, 44.89it/s]\u001b[A\u001b[A\n",
      "\n",
      " 62%|██████▏   | 80/130 [00:01<00:01, 44.74it/s]\u001b[A\u001b[A\n",
      "\n",
      " 65%|██████▌   | 85/130 [00:01<00:01, 44.62it/s]\u001b[A\u001b[A\n",
      "\n",
      " 69%|██████▉   | 90/130 [00:02<00:00, 44.54it/s]\u001b[A\u001b[A\n",
      "\n",
      " 73%|███████▎  | 95/130 [00:02<00:00, 44.62it/s]\u001b[A\u001b[A\n",
      "\n",
      " 77%|███████▋  | 100/130 [00:02<00:00, 44.48it/s]\u001b[A\u001b[A\n",
      "\n",
      " 81%|████████  | 105/130 [00:02<00:00, 44.63it/s]\u001b[A\u001b[A\n",
      "\n",
      " 85%|████████▍ | 110/130 [00:02<00:00, 44.72it/s]\u001b[A\u001b[A\n",
      "\n",
      " 88%|████████▊ | 115/130 [00:02<00:00, 44.74it/s]\u001b[A\u001b[A\n",
      "\n",
      " 92%|█████████▏| 120/130 [00:02<00:00, 44.47it/s]\u001b[A\u001b[A\n",
      "\n",
      " 96%|█████████▌| 125/130 [00:02<00:00, 44.40it/s]\u001b[A\u001b[A\n",
      "\n",
      "100%|██████████| 130/130 [00:02<00:00, 44.66it/s]\u001b[A\u001b[A\n",
      "\n",
      "\n",
      "  0%|          | 0/8 [00:00<?, ?it/s]\u001b[A\u001b[A\n",
      "\n",
      " 25%|██▌       | 2/8 [00:00<00:00, 10.29it/s]\u001b[A\u001b[A"
     ]
    },
    {
     "name": "stdout",
     "output_type": "stream",
     "text": [
      "\n",
      "======== Epoch 7 / 10 ========\n",
      "\n",
      "Training...\n"
     ]
    },
    {
     "name": "stderr",
     "output_type": "stream",
     "text": [
      "\n",
      "\n",
      " 38%|███▊      | 3/8 [00:00<00:00, 10.16it/s]\u001b[A\u001b[A\n",
      "\n",
      " 50%|█████     | 4/8 [00:00<00:00, 10.08it/s]\u001b[A\u001b[A\n",
      "\n",
      " 62%|██████▎   | 5/8 [00:00<00:00, 10.02it/s]\u001b[A\u001b[A\n",
      "\n",
      " 75%|███████▌  | 6/8 [00:00<00:00,  9.99it/s]\u001b[A\u001b[A\n",
      "\n",
      "100%|██████████| 8/8 [00:00<00:00, 10.01it/s]\u001b[A\u001b[A\n",
      "\n",
      "\n",
      "  0%|          | 0/65 [00:00<?, ?it/s]\u001b[A\u001b[A\n",
      "\n",
      "  8%|▊         | 5/65 [00:00<00:01, 45.42it/s]\u001b[A\u001b[A"
     ]
    },
    {
     "name": "stdout",
     "output_type": "stream",
     "text": [
      "avg_train_loss 0.14771794062107801\n",
      "train_f1Score 0.9841269841269841\n",
      "train_accuracy 0.984375\n",
      "\n",
      "Running Validation...\n"
     ]
    },
    {
     "name": "stderr",
     "output_type": "stream",
     "text": [
      "\n",
      "\n",
      " 15%|█▌        | 10/65 [00:00<00:01, 45.16it/s]\u001b[A\u001b[A\n",
      "\n",
      " 23%|██▎       | 15/65 [00:00<00:01, 45.10it/s]\u001b[A\u001b[A\n",
      "\n",
      " 31%|███       | 20/65 [00:00<00:01, 44.93it/s]\u001b[A\u001b[A\n",
      "\n",
      " 38%|███▊      | 25/65 [00:00<00:00, 44.94it/s]\u001b[A\u001b[A\n",
      "\n",
      " 46%|████▌     | 30/65 [00:00<00:00, 44.99it/s]\u001b[A\u001b[A\n",
      "\n",
      " 54%|█████▍    | 35/65 [00:00<00:00, 44.86it/s]\u001b[A\u001b[A\n",
      "\n",
      " 62%|██████▏   | 40/65 [00:00<00:00, 44.85it/s]\u001b[A\u001b[A\n",
      "\n",
      " 69%|██████▉   | 45/65 [00:01<00:00, 44.69it/s]\u001b[A\u001b[A\n",
      "\n",
      " 77%|███████▋  | 50/65 [00:01<00:00, 44.81it/s]\u001b[A\u001b[A\n",
      "\n",
      " 85%|████████▍ | 55/65 [00:01<00:00, 44.68it/s]\u001b[A\u001b[A\n",
      "\n",
      " 92%|█████████▏| 60/65 [00:01<00:00, 44.77it/s]\u001b[A\u001b[A\n",
      "\n",
      "100%|██████████| 65/65 [00:01<00:00, 44.74it/s]\u001b[A\u001b[A\n",
      "\n",
      "\n",
      "  0%|          | 0/8 [00:00<?, ?it/s]\u001b[A\u001b[A\n",
      "\n",
      " 25%|██▌       | 2/8 [00:00<00:00, 10.34it/s]\u001b[A\u001b[A"
     ]
    },
    {
     "name": "stdout",
     "output_type": "stream",
     "text": [
      "Validation Loss:  0.8039369713801604\n",
      "Validation Accuracy:  0.6634615384615384\n",
      "\n",
      "======== Epoch 8 / 10 ========\n",
      "\n",
      "Training...\n"
     ]
    },
    {
     "name": "stderr",
     "output_type": "stream",
     "text": [
      "\n",
      "\n",
      " 38%|███▊      | 3/8 [00:00<00:00, 10.20it/s]\u001b[A\u001b[A\n",
      "\n",
      " 50%|█████     | 4/8 [00:00<00:00, 10.10it/s]\u001b[A\u001b[A\n",
      "\n",
      " 62%|██████▎   | 5/8 [00:00<00:00, 10.03it/s]\u001b[A\u001b[A\n",
      "\n",
      " 75%|███████▌  | 6/8 [00:00<00:00, 10.00it/s]\u001b[A\u001b[A\n",
      "\n",
      " 88%|████████▊ | 7/8 [00:00<00:00,  9.99it/s]\u001b[A\u001b[A\n",
      "\n",
      "100%|██████████| 8/8 [00:00<00:00,  9.99it/s]\u001b[A\u001b[A\n",
      "\n",
      "\n",
      "  0%|          | 0/65 [00:00<?, ?it/s]\u001b[A\u001b[A\n",
      "\n",
      "  8%|▊         | 5/65 [00:00<00:01, 44.97it/s]\u001b[A\u001b[A"
     ]
    },
    {
     "name": "stdout",
     "output_type": "stream",
     "text": [
      "avg_train_loss 0.10640480555593967\n",
      "train_f1Score 1.0\n",
      "train_accuracy 1.0\n",
      "\n",
      "Running Validation...\n"
     ]
    },
    {
     "name": "stderr",
     "output_type": "stream",
     "text": [
      "\n",
      "\n",
      " 15%|█▌        | 10/65 [00:00<00:01, 44.96it/s]\u001b[A\u001b[A\n",
      "\n",
      " 23%|██▎       | 15/65 [00:00<00:01, 44.93it/s]\u001b[A\u001b[A\n",
      "\n",
      " 31%|███       | 20/65 [00:00<00:01, 44.94it/s]\u001b[A\u001b[A\n",
      "\n",
      " 38%|███▊      | 25/65 [00:00<00:00, 44.93it/s]\u001b[A\u001b[A\n",
      "\n",
      " 46%|████▌     | 30/65 [00:00<00:00, 44.87it/s]\u001b[A\u001b[A\n",
      "\n",
      " 54%|█████▍    | 35/65 [00:00<00:00, 44.88it/s]\u001b[A\u001b[A\n",
      "\n",
      " 62%|██████▏   | 40/65 [00:00<00:00, 44.84it/s]\u001b[A\u001b[A\n",
      "\n",
      " 69%|██████▉   | 45/65 [00:01<00:00, 44.84it/s]\u001b[A\u001b[A\n",
      "\n",
      " 77%|███████▋  | 50/65 [00:01<00:00, 44.81it/s]\u001b[A\u001b[A\n",
      "\n",
      " 85%|████████▍ | 55/65 [00:01<00:00, 44.83it/s]\u001b[A\u001b[A\n",
      "\n",
      " 92%|█████████▏| 60/65 [00:01<00:00, 44.81it/s]\u001b[A\u001b[A\n",
      "\n",
      "100%|██████████| 65/65 [00:01<00:00, 44.83it/s]\u001b[A\u001b[A\n",
      "\n",
      "\n",
      "  0%|          | 0/130 [00:00<?, ?it/s]\u001b[A\u001b[A\n",
      "\n",
      "  4%|▍         | 5/130 [00:00<00:02, 45.55it/s]\u001b[A\u001b[A"
     ]
    },
    {
     "name": "stdout",
     "output_type": "stream",
     "text": [
      "Validation Loss:  0.8648645856059515\n",
      "Validation Accuracy:  0.6673076923076923\n",
      "Testing Model....\n"
     ]
    },
    {
     "name": "stderr",
     "output_type": "stream",
     "text": [
      "\n",
      "\n",
      "  8%|▊         | 10/130 [00:00<00:02, 45.36it/s]\u001b[A\u001b[A\n",
      "\n",
      " 12%|█▏        | 15/130 [00:00<00:02, 45.22it/s]\u001b[A\u001b[A\n",
      "\n",
      " 15%|█▌        | 20/130 [00:00<00:02, 45.02it/s]\u001b[A\u001b[A\n",
      "\n",
      " 19%|█▉        | 25/130 [00:00<00:02, 45.03it/s]\u001b[A\u001b[A\n",
      "\n",
      " 23%|██▎       | 30/130 [00:00<00:02, 44.93it/s]\u001b[A\u001b[A\n",
      "\n",
      " 27%|██▋       | 35/130 [00:00<00:02, 44.93it/s]\u001b[A\u001b[A\n",
      "\n",
      " 31%|███       | 40/130 [00:00<00:02, 44.91it/s]\u001b[A\u001b[A\n",
      "\n",
      " 35%|███▍      | 45/130 [00:01<00:01, 44.90it/s]\u001b[A\u001b[A\n",
      "\n",
      " 38%|███▊      | 50/130 [00:01<00:01, 44.89it/s]\u001b[A\u001b[A\n",
      "\n",
      " 42%|████▏     | 55/130 [00:01<00:01, 44.86it/s]\u001b[A\u001b[A\n",
      "\n",
      " 46%|████▌     | 60/130 [00:01<00:01, 44.85it/s]\u001b[A\u001b[A\n",
      "\n",
      " 50%|█████     | 65/130 [00:01<00:01, 44.85it/s]\u001b[A\u001b[A\n",
      "\n",
      " 54%|█████▍    | 70/130 [00:01<00:01, 44.89it/s]\u001b[A\u001b[A\n",
      "\n",
      " 58%|█████▊    | 75/130 [00:01<00:01, 44.80it/s]\u001b[A\u001b[A\n",
      "\n",
      " 62%|██████▏   | 80/130 [00:01<00:01, 44.83it/s]\u001b[A\u001b[A\n",
      "\n",
      " 65%|██████▌   | 85/130 [00:01<00:01, 44.78it/s]\u001b[A\u001b[A\n",
      "\n",
      " 69%|██████▉   | 90/130 [00:02<00:00, 44.82it/s]\u001b[A\u001b[A\n",
      "\n",
      " 73%|███████▎  | 95/130 [00:02<00:00, 44.84it/s]\u001b[A\u001b[A\n",
      "\n",
      " 77%|███████▋  | 100/130 [00:02<00:00, 44.82it/s]\u001b[A\u001b[A\n",
      "\n",
      " 81%|████████  | 105/130 [00:02<00:00, 44.79it/s]\u001b[A\u001b[A\n",
      "\n",
      " 85%|████████▍ | 110/130 [00:02<00:00, 44.84it/s]\u001b[A\u001b[A\n",
      "\n",
      " 88%|████████▊ | 115/130 [00:02<00:00, 44.85it/s]\u001b[A\u001b[A\n",
      "\n",
      " 92%|█████████▏| 120/130 [00:02<00:00, 44.81it/s]\u001b[A\u001b[A\n",
      "\n",
      " 96%|█████████▌| 125/130 [00:02<00:00, 44.79it/s]\u001b[A\u001b[A\n",
      "\n",
      "100%|██████████| 130/130 [00:02<00:00, 44.83it/s]\u001b[A\u001b[A\n",
      "\n",
      "\n",
      "  0%|          | 0/130 [00:00<?, ?it/s]\u001b[A\u001b[A\n",
      "\n",
      "  4%|▍         | 5/130 [00:00<00:02, 45.29it/s]\u001b[A\u001b[A"
     ]
    },
    {
     "name": "stdout",
     "output_type": "stream",
     "text": [
      "Best mF1Score....\n"
     ]
    },
    {
     "name": "stderr",
     "output_type": "stream",
     "text": [
      "\n",
      "\n",
      "  8%|▊         | 10/130 [00:00<00:02, 45.13it/s]\u001b[A\u001b[A\n",
      "\n",
      " 12%|█▏        | 15/130 [00:00<00:02, 45.03it/s]\u001b[A\u001b[A\n",
      "\n",
      " 15%|█▌        | 20/130 [00:00<00:02, 45.01it/s]\u001b[A\u001b[A\n",
      "\n",
      " 19%|█▉        | 25/130 [00:00<00:02, 44.87it/s]\u001b[A\u001b[A\n",
      "\n",
      " 23%|██▎       | 30/130 [00:00<00:02, 44.90it/s]\u001b[A\u001b[A\n",
      "\n",
      " 27%|██▋       | 35/130 [00:00<00:02, 44.88it/s]\u001b[A\u001b[A\n",
      "\n",
      " 31%|███       | 40/130 [00:00<00:02, 44.87it/s]\u001b[A\u001b[A\n",
      "\n",
      " 35%|███▍      | 45/130 [00:01<00:01, 44.86it/s]\u001b[A\u001b[A\n",
      "\n",
      " 38%|███▊      | 50/130 [00:01<00:01, 44.86it/s]\u001b[A\u001b[A\n",
      "\n",
      " 42%|████▏     | 55/130 [00:01<00:01, 44.85it/s]\u001b[A\u001b[A\n",
      "\n",
      " 46%|████▌     | 60/130 [00:01<00:01, 44.80it/s]\u001b[A\u001b[A\n",
      "\n",
      " 50%|█████     | 65/130 [00:01<00:01, 44.80it/s]\u001b[A\u001b[A\n",
      "\n",
      " 54%|█████▍    | 70/130 [00:01<00:01, 44.78it/s]\u001b[A\u001b[A\n",
      "\n",
      " 58%|█████▊    | 75/130 [00:01<00:01, 44.85it/s]\u001b[A\u001b[A\n",
      "\n",
      " 62%|██████▏   | 80/130 [00:01<00:01, 44.82it/s]\u001b[A\u001b[A\n",
      "\n",
      " 65%|██████▌   | 85/130 [00:01<00:01, 44.86it/s]\u001b[A\u001b[A\n",
      "\n",
      " 69%|██████▉   | 90/130 [00:02<00:00, 44.79it/s]\u001b[A\u001b[A\n",
      "\n",
      " 73%|███████▎  | 95/130 [00:02<00:00, 44.84it/s]\u001b[A\u001b[A\n",
      "\n",
      " 77%|███████▋  | 100/130 [00:02<00:00, 44.90it/s]\u001b[A\u001b[A\n",
      "\n",
      " 81%|████████  | 105/130 [00:02<00:00, 44.84it/s]\u001b[A\u001b[A\n",
      "\n",
      " 85%|████████▍ | 110/130 [00:02<00:00, 44.85it/s]\u001b[A\u001b[A\n",
      "\n",
      " 88%|████████▊ | 115/130 [00:02<00:00, 44.84it/s]\u001b[A\u001b[A\n",
      "\n",
      " 92%|█████████▏| 120/130 [00:02<00:00, 44.81it/s]\u001b[A\u001b[A\n",
      "\n",
      " 96%|█████████▌| 125/130 [00:02<00:00, 44.77it/s]\u001b[A\u001b[A\n",
      "\n",
      "100%|██████████| 130/130 [00:02<00:00, 44.82it/s]\u001b[A\u001b[A\n",
      "\n",
      "\n",
      "  0%|          | 0/8 [00:00<?, ?it/s]\u001b[A\u001b[A\n",
      "\n",
      " 25%|██▌       | 2/8 [00:00<00:00, 10.45it/s]\u001b[A\u001b[A"
     ]
    },
    {
     "name": "stdout",
     "output_type": "stream",
     "text": [
      "\n",
      "======== Epoch 9 / 10 ========\n",
      "\n",
      "Training...\n"
     ]
    },
    {
     "name": "stderr",
     "output_type": "stream",
     "text": [
      "\n",
      "\n",
      " 50%|█████     | 4/8 [00:00<00:00, 10.37it/s]\u001b[A\u001b[A\n",
      "\n",
      " 75%|███████▌  | 6/8 [00:00<00:00, 10.33it/s]\u001b[A\u001b[A\n",
      "\n",
      "100%|██████████| 8/8 [00:00<00:00, 10.27it/s]\u001b[A\u001b[A\n",
      "\n",
      "\n",
      "  0%|          | 0/65 [00:00<?, ?it/s]\u001b[A\u001b[A\n",
      "\n",
      "  8%|▊         | 5/65 [00:00<00:01, 46.05it/s]\u001b[A\u001b[A"
     ]
    },
    {
     "name": "stdout",
     "output_type": "stream",
     "text": [
      "avg_train_loss 0.09642276354134083\n",
      "train_f1Score 1.0\n",
      "train_accuracy 1.0\n",
      "\n",
      "Running Validation...\n"
     ]
    },
    {
     "name": "stderr",
     "output_type": "stream",
     "text": [
      "\n",
      "\n",
      " 15%|█▌        | 10/65 [00:00<00:01, 45.74it/s]\u001b[A\u001b[A\n",
      "\n",
      " 23%|██▎       | 15/65 [00:00<00:01, 45.36it/s]\u001b[A\u001b[A\n",
      "\n",
      " 31%|███       | 20/65 [00:00<00:00, 45.30it/s]\u001b[A\u001b[A\n",
      "\n",
      " 38%|███▊      | 25/65 [00:00<00:00, 45.10it/s]\u001b[A\u001b[A\n",
      "\n",
      " 46%|████▌     | 30/65 [00:00<00:00, 45.09it/s]\u001b[A\u001b[A\n",
      "\n",
      " 54%|█████▍    | 35/65 [00:00<00:00, 45.08it/s]\u001b[A\u001b[A\n",
      "\n",
      " 62%|██████▏   | 40/65 [00:00<00:00, 44.95it/s]\u001b[A\u001b[A\n",
      "\n",
      " 69%|██████▉   | 45/65 [00:01<00:00, 44.78it/s]\u001b[A\u001b[A\n",
      "\n",
      " 77%|███████▋  | 50/65 [00:01<00:00, 44.81it/s]\u001b[A\u001b[A\n",
      "\n",
      " 85%|████████▍ | 55/65 [00:01<00:00, 44.85it/s]\u001b[A\u001b[A\n",
      "\n",
      " 92%|█████████▏| 60/65 [00:01<00:00, 44.81it/s]\u001b[A\u001b[A\n",
      "\n",
      "100%|██████████| 65/65 [00:01<00:00, 44.89it/s]\u001b[A\u001b[A\n",
      "\n",
      "\n",
      "  0%|          | 0/8 [00:00<?, ?it/s]\u001b[A\u001b[A\n",
      "\n",
      " 25%|██▌       | 2/8 [00:00<00:00, 10.43it/s]\u001b[A\u001b[A"
     ]
    },
    {
     "name": "stdout",
     "output_type": "stream",
     "text": [
      "Validation Loss:  0.9284248869006451\n",
      "Validation Accuracy:  0.6615384615384615\n",
      "\n",
      "======== Epoch 10 / 10 ========\n",
      "\n",
      "Training...\n"
     ]
    },
    {
     "name": "stderr",
     "output_type": "stream",
     "text": [
      "\n",
      "\n",
      " 50%|█████     | 4/8 [00:00<00:00, 10.36it/s]\u001b[A\u001b[A\n",
      "\n",
      " 75%|███████▌  | 6/8 [00:00<00:00, 10.32it/s]\u001b[A\u001b[A\n",
      "\n",
      "100%|██████████| 8/8 [00:00<00:00, 10.27it/s]\u001b[A\u001b[A\n",
      "\n",
      "\n",
      "  0%|          | 0/65 [00:00<?, ?it/s]\u001b[A\u001b[A\n",
      "\n",
      "  8%|▊         | 5/65 [00:00<00:01, 45.63it/s]\u001b[A\u001b[A"
     ]
    },
    {
     "name": "stdout",
     "output_type": "stream",
     "text": [
      "avg_train_loss 0.09182373713701963\n",
      "train_f1Score 1.0\n",
      "train_accuracy 1.0\n",
      "\n",
      "Running Validation...\n"
     ]
    },
    {
     "name": "stderr",
     "output_type": "stream",
     "text": [
      "\n",
      "\n",
      " 15%|█▌        | 10/65 [00:00<00:01, 45.31it/s]\u001b[A\u001b[A\n",
      "\n",
      " 23%|██▎       | 15/65 [00:00<00:01, 45.19it/s]\u001b[A\u001b[A\n",
      "\n",
      " 31%|███       | 20/65 [00:00<00:00, 45.16it/s]\u001b[A\u001b[A\n",
      "\n",
      " 38%|███▊      | 25/65 [00:00<00:00, 45.08it/s]\u001b[A\u001b[A\n",
      "\n",
      " 46%|████▌     | 30/65 [00:00<00:00, 44.98it/s]\u001b[A\u001b[A\n",
      "\n",
      " 54%|█████▍    | 35/65 [00:00<00:00, 44.92it/s]\u001b[A\u001b[A\n",
      "\n",
      " 62%|██████▏   | 40/65 [00:00<00:00, 44.84it/s]\u001b[A\u001b[A\n",
      "\n",
      " 69%|██████▉   | 45/65 [00:01<00:00, 44.87it/s]\u001b[A\u001b[A\n",
      "\n",
      " 77%|███████▋  | 50/65 [00:01<00:00, 44.75it/s]\u001b[A\u001b[A\n",
      "\n",
      " 85%|████████▍ | 55/65 [00:01<00:00, 44.80it/s]\u001b[A\u001b[A\n",
      "\n",
      " 92%|█████████▏| 60/65 [00:01<00:00, 44.76it/s]\u001b[A\u001b[A\n",
      "\n",
      "100%|██████████| 65/65 [00:01<00:00, 44.83it/s]\u001b[A\u001b[A\n",
      "\n",
      "\n",
      "  0%|          | 0/130 [00:00<?, ?it/s]\u001b[A\u001b[A\n",
      "\n",
      "  4%|▍         | 5/130 [00:00<00:02, 45.40it/s]\u001b[A\u001b[A"
     ]
    },
    {
     "name": "stdout",
     "output_type": "stream",
     "text": [
      "Validation Loss:  0.945193749666214\n",
      "Validation Accuracy:  0.6615384615384615\n",
      "Testing Model....\n"
     ]
    },
    {
     "name": "stderr",
     "output_type": "stream",
     "text": [
      "\n",
      "\n",
      "  8%|▊         | 10/130 [00:00<00:02, 45.14it/s]\u001b[A\u001b[A\n",
      "\n",
      " 12%|█▏        | 15/130 [00:00<00:02, 45.07it/s]\u001b[A\u001b[A\n",
      "\n",
      " 15%|█▌        | 20/130 [00:00<00:02, 44.95it/s]\u001b[A\u001b[A\n",
      "\n",
      " 19%|█▉        | 25/130 [00:00<00:02, 44.96it/s]\u001b[A\u001b[A\n",
      "\n",
      " 23%|██▎       | 30/130 [00:00<00:02, 44.96it/s]\u001b[A\u001b[A\n",
      "\n",
      " 27%|██▋       | 35/130 [00:00<00:02, 44.89it/s]\u001b[A\u001b[A\n",
      "\n",
      " 31%|███       | 40/130 [00:00<00:02, 44.87it/s]\u001b[A\u001b[A\n",
      "\n",
      " 35%|███▍      | 45/130 [00:01<00:01, 44.89it/s]\u001b[A\u001b[A\n",
      "\n",
      " 38%|███▊      | 50/130 [00:01<00:01, 44.88it/s]\u001b[A\u001b[A\n",
      "\n",
      " 42%|████▏     | 55/130 [00:01<00:01, 44.85it/s]\u001b[A\u001b[A\n",
      "\n",
      " 46%|████▌     | 60/130 [00:01<00:01, 44.86it/s]\u001b[A\u001b[A\n",
      "\n",
      " 50%|█████     | 65/130 [00:01<00:01, 44.82it/s]\u001b[A\u001b[A\n",
      "\n",
      " 54%|█████▍    | 70/130 [00:01<00:01, 44.87it/s]\u001b[A\u001b[A\n",
      "\n",
      " 58%|█████▊    | 75/130 [00:01<00:01, 44.84it/s]\u001b[A\u001b[A\n",
      "\n",
      " 62%|██████▏   | 80/130 [00:01<00:01, 44.85it/s]\u001b[A\u001b[A\n",
      "\n",
      " 65%|██████▌   | 85/130 [00:01<00:01, 44.76it/s]\u001b[A\u001b[A\n",
      "\n",
      " 69%|██████▉   | 90/130 [00:02<00:00, 44.84it/s]\u001b[A\u001b[A\n",
      "\n",
      " 73%|███████▎  | 95/130 [00:02<00:00, 44.79it/s]\u001b[A\u001b[A\n",
      "\n",
      " 77%|███████▋  | 100/130 [00:02<00:00, 44.85it/s]\u001b[A\u001b[A\n",
      "\n",
      " 81%|████████  | 105/130 [00:02<00:00, 44.89it/s]\u001b[A\u001b[A\n",
      "\n",
      " 85%|████████▍ | 110/130 [00:02<00:00, 44.85it/s]\u001b[A\u001b[A\n",
      "\n",
      " 88%|████████▊ | 115/130 [00:02<00:00, 44.80it/s]\u001b[A\u001b[A\n",
      "\n",
      " 92%|█████████▏| 120/130 [00:02<00:00, 44.67it/s]\u001b[A\u001b[A\n",
      "\n",
      " 96%|█████████▌| 125/130 [00:02<00:00, 44.79it/s]\u001b[A\u001b[A\n",
      "\n",
      "100%|██████████| 130/130 [00:02<00:00, 44.82it/s]\u001b[A\u001b[A\n"
     ]
    },
    {
     "name": "stdout",
     "output_type": "stream",
     "text": [
      "Saving Test Metrics....\n",
      "Fold:  2\n",
      "Run:  1\n",
      "\tInitialising Model....\n"
     ]
    },
    {
     "name": "stderr",
     "output_type": "stream",
     "text": [
      "\n",
      "\n",
      "100%|██████████| 64/64 [00:00<00:00, 3626.77it/s]\n",
      "\n",
      "\n",
      "  0%|          | 0/523 [00:00<?, ?it/s]\u001b[A\u001b[A"
     ]
    },
    {
     "name": "stdout",
     "output_type": "stream",
     "text": [
      "\tLoading Dataset....\n"
     ]
    },
    {
     "name": "stderr",
     "output_type": "stream",
     "text": [
      "100%|██████████| 523/523 [00:00<00:00, 13356.52it/s]\n",
      "\n",
      "\n",
      "100%|██████████| 1047/1047 [00:00<00:00, 14064.84it/s]\n",
      "\n",
      "\n",
      "100%|██████████| 64/64 [00:00<00:00, 3592.55it/s]\n",
      "\n",
      "\n",
      "  0%|          | 0/523 [00:00<?, ?it/s]\u001b[A\u001b[A\n",
      "\n",
      "100%|██████████| 523/523 [00:00<00:00, 3634.42it/s]\u001b[A\u001b[A\n",
      "\n",
      "\n",
      "  0%|          | 0/1047 [00:00<?, ?it/s]\u001b[A\u001b[A\n",
      "\n"
     ]
    },
    {
     "name": "stdout",
     "output_type": "stream",
     "text": [
      "\tTraining Starts....\n"
     ]
    },
    {
     "name": "stderr",
     "output_type": "stream",
     "text": [
      " 34%|███▍      | 360/1047 [00:00<00:00, 3598.83it/s]\u001b[A\u001b[A\n",
      "\n",
      "100%|██████████| 1047/1047 [00:00<00:00, 3676.69it/s][A\u001b[A\n",
      "Some weights of the model checkpoint at bert-base-multilingual-cased were not used when initializing BertForSequenceClassification: ['cls.predictions.bias', 'cls.predictions.transform.dense.weight', 'cls.predictions.transform.dense.bias', 'cls.predictions.decoder.weight', 'cls.seq_relationship.weight', 'cls.seq_relationship.bias', 'cls.predictions.transform.LayerNorm.weight', 'cls.predictions.transform.LayerNorm.bias']\n",
      "- This IS expected if you are initializing BertForSequenceClassification from the checkpoint of a model trained on another task or with another architecture (e.g. initializing a BertForSequenceClassification model from a BertForPreTraining model).\n",
      "- This IS NOT expected if you are initializing BertForSequenceClassification from the checkpoint of a model that you expect to be exactly identical (initializing a BertForSequenceClassification model from a BertForSequenceClassification model).\n",
      "Some weights of BertForSequenceClassification were not initialized from the model checkpoint at bert-base-multilingual-cased and are newly initialized: ['classifier.weight', 'classifier.bias']\n",
      "You should probably TRAIN this model on a down-stream task to be able to use it for predictions and inference.\n",
      "\n",
      "\n",
      "  0%|          | 0/8 [00:00<?, ?it/s]\u001b[A\u001b[A\n",
      "\n",
      " 25%|██▌       | 2/8 [00:00<00:00, 10.98it/s]\u001b[A\u001b[A"
     ]
    },
    {
     "name": "stdout",
     "output_type": "stream",
     "text": [
      "\n",
      "======== Epoch 1 / 10 ========\n",
      "\n",
      "Training...\n"
     ]
    },
    {
     "name": "stderr",
     "output_type": "stream",
     "text": [
      "\n",
      "\n",
      " 50%|█████     | 4/8 [00:00<00:00, 10.79it/s]\u001b[A\u001b[A\n",
      "\n",
      " 75%|███████▌  | 6/8 [00:00<00:00, 10.67it/s]\u001b[A\u001b[A\n",
      "\n",
      "100%|██████████| 8/8 [00:00<00:00, 10.49it/s]\u001b[A\u001b[A\n",
      "\n",
      "\n",
      "  0%|          | 0/65 [00:00<?, ?it/s]\u001b[A\u001b[A\n",
      "\n",
      "  8%|▊         | 5/65 [00:00<00:01, 47.27it/s]\u001b[A\u001b[A"
     ]
    },
    {
     "name": "stdout",
     "output_type": "stream",
     "text": [
      "avg_train_loss 1.0270254984498024\n",
      "train_f1Score 0.3076923076923077\n",
      "train_accuracy 0.4375\n",
      "\n",
      "Running Validation...\n"
     ]
    },
    {
     "name": "stderr",
     "output_type": "stream",
     "text": [
      "\n",
      "\n",
      " 15%|█▌        | 10/65 [00:00<00:01, 46.79it/s]\u001b[A\u001b[A\n",
      "\n",
      " 23%|██▎       | 15/65 [00:00<00:01, 46.49it/s]\u001b[A\u001b[A\n",
      "\n",
      " 31%|███       | 20/65 [00:00<00:00, 46.33it/s]\u001b[A\u001b[A\n",
      "\n",
      " 38%|███▊      | 25/65 [00:00<00:00, 46.21it/s]\u001b[A\u001b[A\n",
      "\n",
      " 46%|████▌     | 30/65 [00:00<00:00, 46.10it/s]\u001b[A\u001b[A\n",
      "\n",
      " 54%|█████▍    | 35/65 [00:00<00:00, 46.03it/s]\u001b[A\u001b[A\n",
      "\n",
      " 62%|██████▏   | 40/65 [00:00<00:00, 45.91it/s]\u001b[A\u001b[A\n",
      "\n",
      " 69%|██████▉   | 45/65 [00:00<00:00, 45.68it/s]\u001b[A\u001b[A\n",
      "\n",
      " 77%|███████▋  | 50/65 [00:01<00:00, 45.69it/s]\u001b[A\u001b[A\n",
      "\n",
      " 85%|████████▍ | 55/65 [00:01<00:00, 45.75it/s]\u001b[A\u001b[A\n",
      "\n",
      " 92%|█████████▏| 60/65 [00:01<00:00, 45.67it/s]\u001b[A\u001b[A\n",
      "\n",
      "100%|██████████| 65/65 [00:01<00:00, 45.81it/s]\u001b[A\u001b[A\n",
      "\n",
      "\n",
      "  0%|          | 0/130 [00:00<?, ?it/s]\u001b[A\u001b[A\n",
      "\n",
      "  4%|▍         | 5/130 [00:00<00:02, 46.67it/s]\u001b[A\u001b[A"
     ]
    },
    {
     "name": "stdout",
     "output_type": "stream",
     "text": [
      "Validation Loss:  0.8684208503136268\n",
      "Validation Accuracy:  0.5\n",
      "Best mF1Score....\n"
     ]
    },
    {
     "name": "stderr",
     "output_type": "stream",
     "text": [
      "\n",
      "\n",
      "  8%|▊         | 10/130 [00:00<00:02, 46.42it/s]\u001b[A\u001b[A\n",
      "\n",
      " 12%|█▏        | 15/130 [00:00<00:02, 46.11it/s]\u001b[A\u001b[A\n",
      "\n",
      " 15%|█▌        | 20/130 [00:00<00:02, 46.03it/s]\u001b[A\u001b[A\n",
      "\n",
      " 19%|█▉        | 25/130 [00:00<00:02, 45.88it/s]\u001b[A\u001b[A\n",
      "\n",
      " 23%|██▎       | 30/130 [00:00<00:02, 45.82it/s]\u001b[A\u001b[A\n",
      "\n",
      " 27%|██▋       | 35/130 [00:00<00:02, 45.84it/s]\u001b[A\u001b[A\n",
      "\n",
      " 31%|███       | 40/130 [00:00<00:01, 45.80it/s]\u001b[A\u001b[A\n",
      "\n",
      " 35%|███▍      | 45/130 [00:00<00:01, 45.75it/s]\u001b[A\u001b[A\n",
      "\n",
      " 38%|███▊      | 50/130 [00:01<00:01, 45.62it/s]\u001b[A\u001b[A\n",
      "\n",
      " 42%|████▏     | 55/130 [00:01<00:01, 45.68it/s]\u001b[A\u001b[A\n",
      "\n",
      " 46%|████▌     | 60/130 [00:01<00:01, 45.68it/s]\u001b[A\u001b[A\n",
      "\n",
      " 50%|█████     | 65/130 [00:01<00:01, 45.69it/s]\u001b[A\u001b[A\n",
      "\n",
      " 54%|█████▍    | 70/130 [00:01<00:01, 45.64it/s]\u001b[A\u001b[A\n",
      "\n",
      " 58%|█████▊    | 75/130 [00:01<00:01, 45.64it/s]\u001b[A\u001b[A\n",
      "\n",
      " 62%|██████▏   | 80/130 [00:01<00:01, 45.71it/s]\u001b[A\u001b[A\n",
      "\n",
      " 65%|██████▌   | 85/130 [00:01<00:00, 45.62it/s]\u001b[A\u001b[A\n",
      "\n",
      " 69%|██████▉   | 90/130 [00:01<00:00, 45.67it/s]\u001b[A\u001b[A\n",
      "\n",
      " 73%|███████▎  | 95/130 [00:02<00:00, 45.58it/s]\u001b[A\u001b[A\n",
      "\n",
      " 77%|███████▋  | 100/130 [00:02<00:00, 45.61it/s]\u001b[A\u001b[A\n",
      "\n",
      " 81%|████████  | 105/130 [00:02<00:00, 45.65it/s]\u001b[A\u001b[A\n",
      "\n",
      " 85%|████████▍ | 110/130 [00:02<00:00, 45.65it/s]\u001b[A\u001b[A\n",
      "\n",
      " 88%|████████▊ | 115/130 [00:02<00:00, 45.58it/s]\u001b[A\u001b[A\n",
      "\n",
      " 92%|█████████▏| 120/130 [00:02<00:00, 45.63it/s]\u001b[A\u001b[A\n",
      "\n",
      " 96%|█████████▌| 125/130 [00:02<00:00, 45.68it/s]\u001b[A\u001b[A\n",
      "\n",
      "100%|██████████| 130/130 [00:02<00:00, 45.66it/s]\u001b[A\u001b[A\n",
      "\n",
      "\n",
      "  0%|          | 0/8 [00:00<?, ?it/s]\u001b[A\u001b[A\n",
      "\n",
      " 25%|██▌       | 2/8 [00:00<00:00, 10.67it/s]\u001b[A\u001b[A"
     ]
    },
    {
     "name": "stdout",
     "output_type": "stream",
     "text": [
      "\n",
      "======== Epoch 2 / 10 ========\n",
      "\n",
      "Training...\n"
     ]
    },
    {
     "name": "stderr",
     "output_type": "stream",
     "text": [
      "\n",
      "\n",
      " 50%|█████     | 4/8 [00:00<00:00, 10.57it/s]\u001b[A\u001b[A\n",
      "\n",
      " 75%|███████▌  | 6/8 [00:00<00:00, 10.48it/s]\u001b[A\u001b[A\n",
      "\n",
      "100%|██████████| 8/8 [00:00<00:00, 10.39it/s]\u001b[A\u001b[A\n",
      "\n",
      "\n",
      "  0%|          | 0/65 [00:00<?, ?it/s]\u001b[A\u001b[A\n",
      "\n",
      "  8%|▊         | 5/65 [00:00<00:01, 46.89it/s]\u001b[A\u001b[A"
     ]
    },
    {
     "name": "stdout",
     "output_type": "stream",
     "text": [
      "avg_train_loss 0.6636525616049767\n",
      "train_f1Score 0.6666666666666666\n",
      "train_accuracy 0.609375\n",
      "\n",
      "Running Validation...\n"
     ]
    },
    {
     "name": "stderr",
     "output_type": "stream",
     "text": [
      "\n",
      "\n",
      " 15%|█▌        | 10/65 [00:00<00:01, 46.58it/s]\u001b[A\u001b[A\n",
      "\n",
      " 23%|██▎       | 15/65 [00:00<00:01, 46.30it/s]\u001b[A\u001b[A\n",
      "\n",
      " 31%|███       | 20/65 [00:00<00:00, 46.13it/s]\u001b[A\u001b[A\n",
      "\n",
      " 38%|███▊      | 25/65 [00:00<00:00, 46.01it/s]\u001b[A\u001b[A\n",
      "\n",
      " 46%|████▌     | 30/65 [00:00<00:00, 45.91it/s]\u001b[A\u001b[A\n",
      "\n",
      " 54%|█████▍    | 35/65 [00:00<00:00, 45.89it/s]\u001b[A\u001b[A\n",
      "\n",
      " 62%|██████▏   | 40/65 [00:00<00:00, 45.69it/s]\u001b[A\u001b[A\n",
      "\n",
      " 69%|██████▉   | 45/65 [00:00<00:00, 45.49it/s]\u001b[A\u001b[A\n",
      "\n",
      " 77%|███████▋  | 50/65 [00:01<00:00, 45.58it/s]\u001b[A\u001b[A\n",
      "\n",
      " 85%|████████▍ | 55/65 [00:01<00:00, 45.67it/s]\u001b[A\u001b[A\n",
      "\n",
      " 92%|█████████▏| 60/65 [00:01<00:00, 45.64it/s]\u001b[A\u001b[A\n",
      "\n",
      "100%|██████████| 65/65 [00:01<00:00, 45.70it/s]\u001b[A\u001b[A\n",
      "\n",
      "\n",
      "  0%|          | 0/130 [00:00<?, ?it/s]\u001b[A\u001b[A\n",
      "\n",
      "  4%|▍         | 5/130 [00:00<00:02, 46.38it/s]\u001b[A\u001b[A"
     ]
    },
    {
     "name": "stdout",
     "output_type": "stream",
     "text": [
      "Validation Loss:  0.71025478381377\n",
      "Validation Accuracy:  0.525\n",
      "Testing Model....\n"
     ]
    },
    {
     "name": "stderr",
     "output_type": "stream",
     "text": [
      "\n",
      "\n",
      "  8%|▊         | 10/130 [00:00<00:02, 46.21it/s]\u001b[A\u001b[A\n",
      "\n",
      " 12%|█▏        | 15/130 [00:00<00:02, 46.00it/s]\u001b[A\u001b[A\n",
      "\n",
      " 15%|█▌        | 20/130 [00:00<00:02, 45.82it/s]\u001b[A\u001b[A\n",
      "\n",
      " 19%|█▉        | 25/130 [00:00<00:02, 45.66it/s]\u001b[A\u001b[A\n",
      "\n",
      " 23%|██▎       | 30/130 [00:00<00:02, 45.67it/s]\u001b[A\u001b[A\n",
      "\n",
      " 27%|██▋       | 35/130 [00:00<00:02, 45.68it/s]\u001b[A\u001b[A\n",
      "\n",
      " 31%|███       | 40/130 [00:00<00:01, 45.67it/s]\u001b[A\u001b[A\n",
      "\n",
      " 35%|███▍      | 45/130 [00:00<00:01, 45.63it/s]\u001b[A\u001b[A\n",
      "\n",
      " 38%|███▊      | 50/130 [00:01<00:01, 45.59it/s]\u001b[A\u001b[A\n",
      "\n",
      " 42%|████▏     | 55/130 [00:01<00:01, 45.63it/s]\u001b[A\u001b[A\n",
      "\n",
      " 46%|████▌     | 60/130 [00:01<00:01, 45.57it/s]\u001b[A\u001b[A\n",
      "\n",
      " 50%|█████     | 65/130 [00:01<00:01, 45.52it/s]\u001b[A\u001b[A\n",
      "\n",
      " 54%|█████▍    | 70/130 [00:01<00:01, 45.46it/s]\u001b[A\u001b[A\n",
      "\n",
      " 58%|█████▊    | 75/130 [00:01<00:01, 45.53it/s]\u001b[A\u001b[A\n",
      "\n",
      " 62%|██████▏   | 80/130 [00:01<00:01, 45.56it/s]\u001b[A\u001b[A\n",
      "\n",
      " 65%|██████▌   | 85/130 [00:01<00:00, 45.59it/s]\u001b[A\u001b[A\n",
      "\n",
      " 69%|██████▉   | 90/130 [00:01<00:00, 45.55it/s]\u001b[A\u001b[A\n",
      "\n",
      " 73%|███████▎  | 95/130 [00:02<00:00, 45.49it/s]\u001b[A\u001b[A\n",
      "\n",
      " 77%|███████▋  | 100/130 [00:02<00:00, 45.54it/s]\u001b[A\u001b[A\n",
      "\n",
      " 81%|████████  | 105/130 [00:02<00:00, 45.42it/s]\u001b[A\u001b[A\n",
      "\n",
      " 85%|████████▍ | 110/130 [00:02<00:00, 45.43it/s]\u001b[A\u001b[A\n",
      "\n",
      " 88%|████████▊ | 115/130 [00:02<00:00, 45.43it/s]\u001b[A\u001b[A\n",
      "\n",
      " 92%|█████████▏| 120/130 [00:02<00:00, 45.45it/s]\u001b[A\u001b[A\n",
      "\n",
      " 96%|█████████▌| 125/130 [00:02<00:00, 45.39it/s]\u001b[A\u001b[A\n",
      "\n",
      "100%|██████████| 130/130 [00:02<00:00, 45.52it/s]\u001b[A\u001b[A\n",
      "\n",
      "\n",
      "  0%|          | 0/130 [00:00<?, ?it/s]\u001b[A\u001b[A\n",
      "\n",
      "  4%|▍         | 5/130 [00:00<00:02, 46.22it/s]\u001b[A\u001b[A"
     ]
    },
    {
     "name": "stdout",
     "output_type": "stream",
     "text": [
      "Best mF1Score....\n"
     ]
    },
    {
     "name": "stderr",
     "output_type": "stream",
     "text": [
      "\n",
      "\n",
      "  8%|▊         | 10/130 [00:00<00:02, 46.02it/s]\u001b[A\u001b[A\n",
      "\n",
      " 12%|█▏        | 15/130 [00:00<00:02, 45.81it/s]\u001b[A\u001b[A\n",
      "\n",
      " 15%|█▌        | 20/130 [00:00<00:02, 45.75it/s]\u001b[A\u001b[A\n",
      "\n",
      " 19%|█▉        | 25/130 [00:00<00:02, 45.64it/s]\u001b[A\u001b[A\n",
      "\n",
      " 23%|██▎       | 30/130 [00:00<00:02, 45.64it/s]\u001b[A\u001b[A\n",
      "\n",
      " 27%|██▋       | 35/130 [00:00<00:02, 45.56it/s]\u001b[A\u001b[A\n",
      "\n",
      " 31%|███       | 40/130 [00:00<00:01, 45.52it/s]\u001b[A\u001b[A\n",
      "\n",
      " 35%|███▍      | 45/130 [00:00<00:01, 45.34it/s]\u001b[A\u001b[A\n",
      "\n",
      " 38%|███▊      | 50/130 [00:01<00:01, 45.41it/s]\u001b[A\u001b[A\n",
      "\n",
      " 42%|████▏     | 55/130 [00:01<00:01, 45.40it/s]\u001b[A\u001b[A\n",
      "\n",
      " 46%|████▌     | 60/130 [00:01<00:01, 45.41it/s]\u001b[A\u001b[A\n",
      "\n",
      " 50%|█████     | 65/130 [00:01<00:01, 45.40it/s]\u001b[A\u001b[A\n",
      "\n",
      " 54%|█████▍    | 70/130 [00:01<00:01, 45.36it/s]\u001b[A\u001b[A\n",
      "\n",
      " 58%|█████▊    | 75/130 [00:01<00:01, 45.40it/s]\u001b[A\u001b[A\n",
      "\n",
      " 62%|██████▏   | 80/130 [00:01<00:01, 45.43it/s]\u001b[A\u001b[A\n",
      "\n",
      " 65%|██████▌   | 85/130 [00:01<00:00, 45.32it/s]\u001b[A\u001b[A\n",
      "\n",
      " 69%|██████▉   | 90/130 [00:01<00:00, 45.27it/s]\u001b[A\u001b[A\n",
      "\n",
      " 73%|███████▎  | 95/130 [00:02<00:00, 45.25it/s]\u001b[A\u001b[A\n",
      "\n",
      " 77%|███████▋  | 100/130 [00:02<00:00, 45.26it/s]\u001b[A\u001b[A\n",
      "\n",
      " 81%|████████  | 105/130 [00:02<00:00, 45.30it/s]\u001b[A\u001b[A\n",
      "\n",
      " 85%|████████▍ | 110/130 [00:02<00:00, 45.26it/s]\u001b[A\u001b[A\n",
      "\n",
      " 88%|████████▊ | 115/130 [00:02<00:00, 45.31it/s]\u001b[A\u001b[A\n",
      "\n",
      " 92%|█████████▏| 120/130 [00:02<00:00, 45.34it/s]\u001b[A\u001b[A\n",
      "\n",
      " 96%|█████████▌| 125/130 [00:02<00:00, 45.34it/s]\u001b[A\u001b[A\n",
      "\n",
      "100%|██████████| 130/130 [00:02<00:00, 45.37it/s]\u001b[A\u001b[A\n",
      "\n",
      "\n",
      "  0%|          | 0/8 [00:00<?, ?it/s]\u001b[A\u001b[A\n",
      "\n",
      " 25%|██▌       | 2/8 [00:00<00:00, 10.65it/s]\u001b[A\u001b[A"
     ]
    },
    {
     "name": "stdout",
     "output_type": "stream",
     "text": [
      "\n",
      "======== Epoch 3 / 10 ========\n",
      "\n",
      "Training...\n"
     ]
    },
    {
     "name": "stderr",
     "output_type": "stream",
     "text": [
      "\n",
      "\n",
      " 50%|█████     | 4/8 [00:00<00:00, 10.54it/s]\u001b[A\u001b[A\n",
      "\n",
      " 75%|███████▌  | 6/8 [00:00<00:00, 10.46it/s]\u001b[A\u001b[A\n",
      "\n",
      "100%|██████████| 8/8 [00:00<00:00, 10.36it/s]\u001b[A\u001b[A\n",
      "\n",
      "\n",
      "  0%|          | 0/65 [00:00<?, ?it/s]\u001b[A\u001b[A\n",
      "\n",
      "  8%|▊         | 5/65 [00:00<00:01, 46.20it/s]\u001b[A\u001b[A"
     ]
    },
    {
     "name": "stdout",
     "output_type": "stream",
     "text": [
      "avg_train_loss 0.5035686455667019\n",
      "train_f1Score 0.7058823529411765\n",
      "train_accuracy 0.765625\n",
      "\n",
      "Running Validation...\n"
     ]
    },
    {
     "name": "stderr",
     "output_type": "stream",
     "text": [
      "\n",
      "\n",
      " 15%|█▌        | 10/65 [00:00<00:01, 45.96it/s]\u001b[A\u001b[A\n",
      "\n",
      " 23%|██▎       | 15/65 [00:00<00:01, 45.80it/s]\u001b[A\u001b[A\n",
      "\n",
      " 31%|███       | 20/65 [00:00<00:00, 45.62it/s]\u001b[A\u001b[A\n",
      "\n",
      " 38%|███▊      | 25/65 [00:00<00:00, 45.53it/s]\u001b[A\u001b[A\n",
      "\n",
      " 46%|████▌     | 30/65 [00:00<00:00, 45.43it/s]\u001b[A\u001b[A\n",
      "\n",
      " 54%|█████▍    | 35/65 [00:00<00:00, 45.34it/s]\u001b[A\u001b[A\n",
      "\n",
      " 62%|██████▏   | 40/65 [00:00<00:00, 45.20it/s]\u001b[A\u001b[A\n",
      "\n",
      " 69%|██████▉   | 45/65 [00:00<00:00, 45.09it/s]\u001b[A\u001b[A\n",
      "\n",
      " 77%|███████▋  | 50/65 [00:01<00:00, 45.16it/s]\u001b[A\u001b[A\n",
      "\n",
      " 85%|████████▍ | 55/65 [00:01<00:00, 45.15it/s]\u001b[A\u001b[A\n",
      "\n",
      " 92%|█████████▏| 60/65 [00:01<00:00, 45.20it/s]\u001b[A\u001b[A\n",
      "\n",
      "100%|██████████| 65/65 [00:01<00:00, 45.23it/s]\u001b[A\u001b[A\n",
      "\n",
      "\n",
      "  0%|          | 0/130 [00:00<?, ?it/s]\u001b[A\u001b[A\n",
      "\n",
      "  4%|▍         | 5/130 [00:00<00:02, 45.94it/s]\u001b[A\u001b[A"
     ]
    },
    {
     "name": "stdout",
     "output_type": "stream",
     "text": [
      "Validation Loss:  0.6956072092056275\n",
      "Validation Accuracy:  0.6115384615384616\n",
      "Best mF1Score....\n"
     ]
    },
    {
     "name": "stderr",
     "output_type": "stream",
     "text": [
      "\n",
      "\n",
      "  8%|▊         | 10/130 [00:00<00:02, 45.75it/s]\u001b[A\u001b[A\n",
      "\n",
      " 12%|█▏        | 15/130 [00:00<00:02, 45.62it/s]\u001b[A\u001b[A\n",
      "\n",
      " 15%|█▌        | 20/130 [00:00<00:02, 45.47it/s]\u001b[A\u001b[A\n",
      "\n",
      " 19%|█▉        | 25/130 [00:00<00:02, 45.33it/s]\u001b[A\u001b[A\n",
      "\n",
      " 23%|██▎       | 30/130 [00:00<00:02, 45.22it/s]\u001b[A\u001b[A\n",
      "\n",
      " 27%|██▋       | 35/130 [00:00<00:02, 45.15it/s]\u001b[A\u001b[A\n",
      "\n",
      " 31%|███       | 40/130 [00:00<00:01, 45.14it/s]\u001b[A\u001b[A\n",
      "\n",
      " 35%|███▍      | 45/130 [00:00<00:01, 45.08it/s]\u001b[A\u001b[A\n",
      "\n",
      " 38%|███▊      | 50/130 [00:01<00:01, 45.13it/s]\u001b[A\u001b[A\n",
      "\n",
      " 42%|████▏     | 55/130 [00:01<00:01, 45.07it/s]\u001b[A\u001b[A\n",
      "\n",
      " 46%|████▌     | 60/130 [00:01<00:01, 45.09it/s]\u001b[A\u001b[A\n",
      "\n",
      " 50%|█████     | 65/130 [00:01<00:01, 45.07it/s]\u001b[A\u001b[A\n",
      "\n",
      " 54%|█████▍    | 70/130 [00:01<00:01, 45.08it/s]\u001b[A\u001b[A\n",
      "\n",
      " 58%|█████▊    | 75/130 [00:01<00:01, 45.07it/s]\u001b[A\u001b[A\n",
      "\n",
      " 62%|██████▏   | 80/130 [00:01<00:01, 45.03it/s]\u001b[A\u001b[A\n",
      "\n",
      " 65%|██████▌   | 85/130 [00:01<00:00, 45.02it/s]\u001b[A\u001b[A\n",
      "\n",
      " 69%|██████▉   | 90/130 [00:01<00:00, 45.05it/s]\u001b[A\u001b[A\n",
      "\n",
      " 73%|███████▎  | 95/130 [00:02<00:00, 45.01it/s]\u001b[A\u001b[A\n",
      "\n",
      " 77%|███████▋  | 100/130 [00:02<00:00, 45.02it/s]\u001b[A\u001b[A\n",
      "\n",
      " 81%|████████  | 105/130 [00:02<00:00, 45.02it/s]\u001b[A\u001b[A\n",
      "\n",
      " 85%|████████▍ | 110/130 [00:02<00:00, 45.00it/s]\u001b[A\u001b[A\n",
      "\n",
      " 88%|████████▊ | 115/130 [00:02<00:00, 44.99it/s]\u001b[A\u001b[A\n",
      "\n",
      " 92%|█████████▏| 120/130 [00:02<00:00, 44.98it/s]\u001b[A\u001b[A\n",
      "\n",
      " 96%|█████████▌| 125/130 [00:02<00:00, 44.99it/s]\u001b[A\u001b[A\n",
      "\n",
      "100%|██████████| 130/130 [00:02<00:00, 45.06it/s]\u001b[A\u001b[A\n",
      "\n",
      "\n",
      "  0%|          | 0/8 [00:00<?, ?it/s]\u001b[A\u001b[A\n",
      "\n",
      " 25%|██▌       | 2/8 [00:00<00:00, 10.47it/s]\u001b[A\u001b[A"
     ]
    },
    {
     "name": "stdout",
     "output_type": "stream",
     "text": [
      "\n",
      "======== Epoch 4 / 10 ========\n",
      "\n",
      "Training...\n"
     ]
    },
    {
     "name": "stderr",
     "output_type": "stream",
     "text": [
      "\n",
      "\n",
      " 38%|███▊      | 3/8 [00:00<00:00, 10.28it/s]\u001b[A\u001b[A\n",
      "\n",
      " 50%|█████     | 4/8 [00:00<00:00, 10.17it/s]\u001b[A\u001b[A\n",
      "\n",
      " 62%|██████▎   | 5/8 [00:00<00:00, 10.11it/s]\u001b[A\u001b[A\n",
      "\n",
      " 75%|███████▌  | 6/8 [00:00<00:00, 10.07it/s]\u001b[A\u001b[A\n",
      "\n",
      "100%|██████████| 8/8 [00:00<00:00, 10.08it/s]\u001b[A\u001b[A\n",
      "\n",
      "\n",
      "  0%|          | 0/65 [00:00<?, ?it/s]\u001b[A\u001b[A\n",
      "\n",
      "  8%|▊         | 5/65 [00:00<00:01, 45.79it/s]\u001b[A\u001b[A"
     ]
    },
    {
     "name": "stdout",
     "output_type": "stream",
     "text": [
      "avg_train_loss 0.4034194126725197\n",
      "train_f1Score 0.8405797101449275\n",
      "train_accuracy 0.828125\n",
      "\n",
      "Running Validation...\n"
     ]
    },
    {
     "name": "stderr",
     "output_type": "stream",
     "text": [
      "\n",
      "\n",
      " 15%|█▌        | 10/65 [00:00<00:01, 45.57it/s]\u001b[A\u001b[A\n",
      "\n",
      " 23%|██▎       | 15/65 [00:00<00:01, 45.47it/s]\u001b[A\u001b[A\n",
      "\n",
      " 31%|███       | 20/65 [00:00<00:00, 45.29it/s]\u001b[A\u001b[A\n",
      "\n",
      " 38%|███▊      | 25/65 [00:00<00:00, 45.19it/s]\u001b[A\u001b[A\n",
      "\n",
      " 46%|████▌     | 30/65 [00:00<00:00, 45.13it/s]\u001b[A\u001b[A\n",
      "\n",
      " 54%|█████▍    | 35/65 [00:00<00:00, 45.07it/s]\u001b[A\u001b[A\n",
      "\n",
      " 62%|██████▏   | 40/65 [00:00<00:00, 44.99it/s]\u001b[A\u001b[A\n",
      "\n",
      " 69%|██████▉   | 45/65 [00:00<00:00, 44.97it/s]\u001b[A\u001b[A\n",
      "\n",
      " 77%|███████▋  | 50/65 [00:01<00:00, 44.89it/s]\u001b[A\u001b[A\n",
      "\n",
      " 85%|████████▍ | 55/65 [00:01<00:00, 44.92it/s]\u001b[A\u001b[A\n",
      "\n",
      " 92%|█████████▏| 60/65 [00:01<00:00, 44.86it/s]\u001b[A\u001b[A\n",
      "\n",
      "100%|██████████| 65/65 [00:01<00:00, 44.96it/s]\u001b[A\u001b[A\n",
      "\n",
      "\n",
      "  0%|          | 0/130 [00:00<?, ?it/s]\u001b[A\u001b[A\n",
      "\n",
      "  4%|▍         | 5/130 [00:00<00:02, 45.22it/s]\u001b[A\u001b[A"
     ]
    },
    {
     "name": "stdout",
     "output_type": "stream",
     "text": [
      "Validation Loss:  0.733736194555576\n",
      "Validation Accuracy:  0.6230769230769231\n",
      "Testing Model....\n"
     ]
    },
    {
     "name": "stderr",
     "output_type": "stream",
     "text": [
      "\n",
      "\n",
      "  8%|▊         | 10/130 [00:00<00:02, 45.14it/s]\u001b[A\u001b[A\n",
      "\n",
      " 12%|█▏        | 15/130 [00:00<00:02, 45.06it/s]\u001b[A\u001b[A\n",
      "\n",
      " 15%|█▌        | 20/130 [00:00<00:02, 45.06it/s]\u001b[A\u001b[A\n",
      "\n",
      " 19%|█▉        | 25/130 [00:00<00:02, 45.00it/s]\u001b[A\u001b[A\n",
      "\n",
      " 23%|██▎       | 30/130 [00:00<00:02, 45.01it/s]\u001b[A\u001b[A\n",
      "\n",
      " 27%|██▋       | 35/130 [00:00<00:02, 44.96it/s]\u001b[A\u001b[A\n",
      "\n",
      " 31%|███       | 40/130 [00:00<00:02, 44.95it/s]\u001b[A\u001b[A\n",
      "\n",
      " 35%|███▍      | 45/130 [00:01<00:01, 44.89it/s]\u001b[A\u001b[A\n",
      "\n",
      " 38%|███▊      | 50/130 [00:01<00:01, 44.90it/s]\u001b[A\u001b[A\n",
      "\n",
      " 42%|████▏     | 55/130 [00:01<00:01, 44.84it/s]\u001b[A\u001b[A\n",
      "\n",
      " 46%|████▌     | 60/130 [00:01<00:01, 44.87it/s]\u001b[A\u001b[A\n",
      "\n",
      " 50%|█████     | 65/130 [00:01<00:01, 44.82it/s]\u001b[A\u001b[A\n",
      "\n",
      " 54%|█████▍    | 70/130 [00:01<00:01, 44.84it/s]\u001b[A\u001b[A\n",
      "\n",
      " 58%|█████▊    | 75/130 [00:01<00:01, 44.81it/s]\u001b[A\u001b[A\n",
      "\n",
      " 62%|██████▏   | 80/130 [00:01<00:01, 44.85it/s]\u001b[A\u001b[A\n",
      "\n",
      " 65%|██████▌   | 85/130 [00:01<00:01, 44.80it/s]\u001b[A\u001b[A\n",
      "\n",
      " 69%|██████▉   | 90/130 [00:02<00:00, 44.84it/s]\u001b[A\u001b[A\n",
      "\n",
      " 73%|███████▎  | 95/130 [00:02<00:00, 44.80it/s]\u001b[A\u001b[A\n",
      "\n",
      " 77%|███████▋  | 100/130 [00:02<00:00, 44.84it/s]\u001b[A\u001b[A\n",
      "\n",
      " 81%|████████  | 105/130 [00:02<00:00, 44.82it/s]\u001b[A\u001b[A\n",
      "\n",
      " 85%|████████▍ | 110/130 [00:02<00:00, 44.85it/s]\u001b[A\u001b[A\n",
      "\n",
      " 88%|████████▊ | 115/130 [00:02<00:00, 44.88it/s]\u001b[A\u001b[A\n",
      "\n",
      " 92%|█████████▏| 120/130 [00:02<00:00, 44.83it/s]\u001b[A\u001b[A\n",
      "\n",
      " 96%|█████████▌| 125/130 [00:02<00:00, 44.83it/s]\u001b[A\u001b[A\n",
      "\n",
      "100%|██████████| 130/130 [00:02<00:00, 44.84it/s]\u001b[A\u001b[A\n",
      "\n",
      "\n",
      "  0%|          | 0/130 [00:00<?, ?it/s]\u001b[A\u001b[A\n",
      "\n",
      "  4%|▍         | 5/130 [00:00<00:02, 45.21it/s]\u001b[A\u001b[A"
     ]
    },
    {
     "name": "stdout",
     "output_type": "stream",
     "text": [
      "Best mF1Score....\n"
     ]
    },
    {
     "name": "stderr",
     "output_type": "stream",
     "text": [
      "\n",
      "\n",
      "  8%|▊         | 10/130 [00:00<00:02, 45.13it/s]\u001b[A\u001b[A\n",
      "\n",
      " 12%|█▏        | 15/130 [00:00<00:02, 45.03it/s]\u001b[A\u001b[A\n",
      "\n",
      " 15%|█▌        | 20/130 [00:00<00:02, 45.05it/s]\u001b[A\u001b[A\n",
      "\n",
      " 19%|█▉        | 25/130 [00:00<00:02, 44.92it/s]\u001b[A\u001b[A\n",
      "\n",
      " 23%|██▎       | 30/130 [00:00<00:02, 44.84it/s]\u001b[A\u001b[A\n",
      "\n",
      " 27%|██▋       | 35/130 [00:00<00:02, 44.88it/s]\u001b[A\u001b[A\n",
      "\n",
      " 31%|███       | 40/130 [00:00<00:02, 44.77it/s]\u001b[A\u001b[A\n",
      "\n",
      " 35%|███▍      | 45/130 [00:01<00:01, 44.82it/s]\u001b[A\u001b[A\n",
      "\n",
      " 38%|███▊      | 50/130 [00:01<00:01, 44.71it/s]\u001b[A\u001b[A\n",
      "\n",
      " 42%|████▏     | 55/130 [00:01<00:01, 44.60it/s]\u001b[A\u001b[A\n",
      "\n",
      " 46%|████▌     | 60/130 [00:01<00:01, 44.71it/s]\u001b[A\u001b[A\n",
      "\n",
      " 50%|█████     | 65/130 [00:01<00:01, 44.80it/s]\u001b[A\u001b[A\n",
      "\n",
      " 54%|█████▍    | 70/130 [00:01<00:01, 44.85it/s]\u001b[A\u001b[A\n",
      "\n",
      " 58%|█████▊    | 75/130 [00:01<00:01, 44.88it/s]\u001b[A\u001b[A\n",
      "\n",
      " 62%|██████▏   | 80/130 [00:01<00:01, 44.71it/s]\u001b[A\u001b[A\n",
      "\n",
      " 65%|██████▌   | 85/130 [00:01<00:01, 44.62it/s]\u001b[A\u001b[A\n",
      "\n",
      " 69%|██████▉   | 90/130 [00:02<00:00, 44.49it/s]\u001b[A\u001b[A\n",
      "\n",
      " 73%|███████▎  | 95/130 [00:02<00:00, 44.61it/s]\u001b[A\u001b[A\n",
      "\n",
      " 77%|███████▋  | 100/130 [00:02<00:00, 44.40it/s]\u001b[A\u001b[A\n",
      "\n",
      " 81%|████████  | 105/130 [00:02<00:00, 44.48it/s]\u001b[A\u001b[A\n",
      "\n",
      " 85%|████████▍ | 110/130 [00:02<00:00, 44.40it/s]\u001b[A\u001b[A\n",
      "\n",
      " 88%|████████▊ | 115/130 [00:02<00:00, 44.50it/s]\u001b[A\u001b[A\n",
      "\n",
      " 92%|█████████▏| 120/130 [00:02<00:00, 44.30it/s]\u001b[A\u001b[A\n",
      "\n",
      " 96%|█████████▌| 125/130 [00:02<00:00, 44.26it/s]\u001b[A\u001b[A\n",
      "\n",
      "100%|██████████| 130/130 [00:02<00:00, 44.62it/s]\u001b[A\u001b[A\n",
      "\n",
      "\n",
      "  0%|          | 0/8 [00:00<?, ?it/s]\u001b[A\u001b[A\n",
      "\n",
      " 25%|██▌       | 2/8 [00:00<00:00, 10.35it/s]\u001b[A\u001b[A"
     ]
    },
    {
     "name": "stdout",
     "output_type": "stream",
     "text": [
      "\n",
      "======== Epoch 5 / 10 ========\n",
      "\n",
      "Training...\n"
     ]
    },
    {
     "name": "stderr",
     "output_type": "stream",
     "text": [
      "\n",
      "\n",
      " 38%|███▊      | 3/8 [00:00<00:00, 10.20it/s]\u001b[A\u001b[A\n",
      "\n",
      " 50%|█████     | 4/8 [00:00<00:00, 10.10it/s]\u001b[A\u001b[A\n",
      "\n",
      " 62%|██████▎   | 5/8 [00:00<00:00, 10.04it/s]\u001b[A\u001b[A\n",
      "\n",
      " 75%|███████▌  | 6/8 [00:00<00:00, 10.00it/s]\u001b[A\u001b[A\n",
      "\n",
      " 88%|████████▊ | 7/8 [00:00<00:00,  9.97it/s]\u001b[A\u001b[A\n",
      "\n",
      "100%|██████████| 8/8 [00:00<00:00,  9.99it/s]\u001b[A\u001b[A\n",
      "\n",
      "\n",
      "  0%|          | 0/65 [00:00<?, ?it/s]\u001b[A\u001b[A\n",
      "\n",
      "  8%|▊         | 5/65 [00:00<00:01, 44.98it/s]\u001b[A\u001b[A"
     ]
    },
    {
     "name": "stdout",
     "output_type": "stream",
     "text": [
      "avg_train_loss 0.23177447728812695\n",
      "train_f1Score 0.9523809523809523\n",
      "train_accuracy 0.953125\n",
      "\n",
      "Running Validation...\n"
     ]
    },
    {
     "name": "stderr",
     "output_type": "stream",
     "text": [
      "\n",
      "\n",
      " 15%|█▌        | 10/65 [00:00<00:01, 44.96it/s]\u001b[A\u001b[A\n",
      "\n",
      " 23%|██▎       | 15/65 [00:00<00:01, 44.89it/s]\u001b[A\u001b[A\n",
      "\n",
      " 31%|███       | 20/65 [00:00<00:01, 44.90it/s]\u001b[A\u001b[A\n",
      "\n",
      " 38%|███▊      | 25/65 [00:00<00:00, 44.68it/s]\u001b[A\u001b[A\n",
      "\n",
      " 46%|████▌     | 30/65 [00:00<00:00, 44.78it/s]\u001b[A\u001b[A\n",
      "\n",
      " 54%|█████▍    | 35/65 [00:00<00:00, 44.83it/s]\u001b[A\u001b[A\n",
      "\n",
      " 62%|██████▏   | 40/65 [00:00<00:00, 44.76it/s]\u001b[A\u001b[A\n",
      "\n",
      " 69%|██████▉   | 45/65 [00:01<00:00, 44.50it/s]\u001b[A\u001b[A\n",
      "\n",
      " 77%|███████▋  | 50/65 [00:01<00:00, 44.40it/s]\u001b[A\u001b[A\n",
      "\n",
      " 85%|████████▍ | 55/65 [00:01<00:00, 44.62it/s]\u001b[A\u001b[A\n",
      "\n",
      " 92%|█████████▏| 60/65 [00:01<00:00, 44.54it/s]\u001b[A\u001b[A\n",
      "\n",
      "100%|██████████| 65/65 [00:01<00:00, 44.63it/s]\u001b[A\u001b[A\n",
      "\n",
      "\n",
      "  0%|          | 0/8 [00:00<?, ?it/s]\u001b[A\u001b[A\n",
      "\n",
      " 25%|██▌       | 2/8 [00:00<00:00, 10.51it/s]\u001b[A\u001b[A"
     ]
    },
    {
     "name": "stdout",
     "output_type": "stream",
     "text": [
      "Validation Loss:  0.9576581241992804\n",
      "Validation Accuracy:  0.5711538461538461\n",
      "\n",
      "======== Epoch 6 / 10 ========\n",
      "\n",
      "Training...\n"
     ]
    },
    {
     "name": "stderr",
     "output_type": "stream",
     "text": [
      "\n",
      "\n",
      " 38%|███▊      | 3/8 [00:00<00:00, 10.35it/s]\u001b[A\u001b[A\n",
      "\n",
      " 50%|█████     | 4/8 [00:00<00:00, 10.20it/s]\u001b[A\u001b[A\n",
      "\n",
      " 62%|██████▎   | 5/8 [00:00<00:00, 10.11it/s]\u001b[A\u001b[A\n",
      "\n",
      " 75%|███████▌  | 6/8 [00:00<00:00, 10.07it/s]\u001b[A\u001b[A\n",
      "\n",
      " 88%|████████▊ | 7/8 [00:00<00:00, 10.04it/s]\u001b[A\u001b[A\n",
      "\n",
      "100%|██████████| 8/8 [00:00<00:00, 10.06it/s]\u001b[A\u001b[A\n",
      "\n",
      "\n",
      "  0%|          | 0/65 [00:00<?, ?it/s]\u001b[A\u001b[A\n",
      "\n",
      "  8%|▊         | 5/65 [00:00<00:01, 45.19it/s]\u001b[A\u001b[A"
     ]
    },
    {
     "name": "stdout",
     "output_type": "stream",
     "text": [
      "avg_train_loss 0.2009903434664011\n",
      "train_f1Score 0.9411764705882353\n",
      "train_accuracy 0.9375\n",
      "\n",
      "Running Validation...\n"
     ]
    },
    {
     "name": "stderr",
     "output_type": "stream",
     "text": [
      "\n",
      "\n",
      " 15%|█▌        | 10/65 [00:00<00:01, 45.05it/s]\u001b[A\u001b[A\n",
      "\n",
      " 23%|██▎       | 15/65 [00:00<00:01, 44.98it/s]\u001b[A\u001b[A\n",
      "\n",
      " 31%|███       | 20/65 [00:00<00:01, 44.83it/s]\u001b[A\u001b[A\n",
      "\n",
      " 38%|███▊      | 25/65 [00:00<00:00, 44.87it/s]\u001b[A\u001b[A\n",
      "\n",
      " 46%|████▌     | 30/65 [00:00<00:00, 44.81it/s]\u001b[A\u001b[A\n",
      "\n",
      " 54%|█████▍    | 35/65 [00:00<00:00, 44.74it/s]\u001b[A\u001b[A\n",
      "\n",
      " 62%|██████▏   | 40/65 [00:00<00:00, 44.70it/s]\u001b[A\u001b[A\n",
      "\n",
      " 69%|██████▉   | 45/65 [00:01<00:00, 44.80it/s]\u001b[A\u001b[A\n",
      "\n",
      " 77%|███████▋  | 50/65 [00:01<00:00, 44.69it/s]\u001b[A\u001b[A\n",
      "\n",
      " 85%|████████▍ | 55/65 [00:01<00:00, 44.66it/s]\u001b[A\u001b[A\n",
      "\n",
      " 92%|█████████▏| 60/65 [00:01<00:00, 44.66it/s]\u001b[A\u001b[A\n",
      "\n",
      "100%|██████████| 65/65 [00:01<00:00, 44.68it/s]\u001b[A\u001b[A\n",
      "\n",
      "\n",
      "  0%|          | 0/130 [00:00<?, ?it/s]\u001b[A\u001b[A\n",
      "\n",
      "  4%|▍         | 5/130 [00:00<00:02, 44.80it/s]\u001b[A\u001b[A"
     ]
    },
    {
     "name": "stdout",
     "output_type": "stream",
     "text": [
      "Validation Loss:  1.0049468535643358\n",
      "Validation Accuracy:  0.5942307692307692\n",
      "Testing Model....\n"
     ]
    },
    {
     "name": "stderr",
     "output_type": "stream",
     "text": [
      "\n",
      "\n",
      "  8%|▊         | 10/130 [00:00<00:02, 44.84it/s]\u001b[A\u001b[A\n",
      "\n",
      " 12%|█▏        | 15/130 [00:00<00:02, 44.89it/s]\u001b[A\u001b[A\n",
      "\n",
      " 15%|█▌        | 20/130 [00:00<00:02, 44.82it/s]\u001b[A\u001b[A\n",
      "\n",
      " 19%|█▉        | 25/130 [00:00<00:02, 44.63it/s]\u001b[A\u001b[A\n",
      "\n",
      " 23%|██▎       | 30/130 [00:00<00:02, 44.55it/s]\u001b[A\u001b[A\n",
      "\n",
      " 27%|██▋       | 35/130 [00:00<00:02, 44.59it/s]\u001b[A\u001b[A\n",
      "\n",
      " 31%|███       | 40/130 [00:00<00:02, 44.71it/s]\u001b[A\u001b[A\n",
      "\n",
      " 35%|███▍      | 45/130 [00:01<00:01, 44.81it/s]\u001b[A\u001b[A\n",
      "\n",
      " 38%|███▊      | 50/130 [00:01<00:01, 44.86it/s]\u001b[A\u001b[A\n",
      "\n",
      " 42%|████▏     | 55/130 [00:01<00:01, 44.90it/s]\u001b[A\u001b[A\n",
      "\n",
      " 46%|████▌     | 60/130 [00:01<00:01, 44.61it/s]\u001b[A\u001b[A\n",
      "\n",
      " 50%|█████     | 65/130 [00:01<00:01, 44.60it/s]\u001b[A\u001b[A\n",
      "\n",
      " 54%|█████▍    | 70/130 [00:01<00:01, 44.51it/s]\u001b[A\u001b[A\n",
      "\n",
      " 58%|█████▊    | 75/130 [00:01<00:01, 44.52it/s]\u001b[A\u001b[A\n",
      "\n",
      " 62%|██████▏   | 80/130 [00:01<00:01, 44.43it/s]\u001b[A\u001b[A\n",
      "\n",
      " 65%|██████▌   | 85/130 [00:01<00:01, 44.42it/s]\u001b[A\u001b[A\n",
      "\n",
      " 69%|██████▉   | 90/130 [00:02<00:00, 44.51it/s]\u001b[A\u001b[A\n",
      "\n",
      " 73%|███████▎  | 95/130 [00:02<00:00, 44.40it/s]\u001b[A\u001b[A\n",
      "\n",
      " 77%|███████▋  | 100/130 [00:02<00:00, 44.34it/s]\u001b[A\u001b[A\n",
      "\n",
      " 81%|████████  | 105/130 [00:02<00:00, 44.36it/s]\u001b[A\u001b[A\n",
      "\n",
      " 85%|████████▍ | 110/130 [00:02<00:00, 44.38it/s]\u001b[A\u001b[A\n",
      "\n",
      " 88%|████████▊ | 115/130 [00:02<00:00, 44.32it/s]\u001b[A\u001b[A\n",
      "\n",
      " 92%|█████████▏| 120/130 [00:02<00:00, 44.44it/s]\u001b[A\u001b[A\n",
      "\n",
      " 96%|█████████▌| 125/130 [00:02<00:00, 44.35it/s]\u001b[A\u001b[A\n",
      "\n",
      "100%|██████████| 130/130 [00:02<00:00, 44.52it/s]\u001b[A\u001b[A\n",
      "\n",
      "\n",
      "  0%|          | 0/8 [00:00<?, ?it/s]\u001b[A\u001b[A\n",
      "\n",
      " 25%|██▌       | 2/8 [00:00<00:00, 10.42it/s]\u001b[A\u001b[A"
     ]
    },
    {
     "name": "stdout",
     "output_type": "stream",
     "text": [
      "\n",
      "======== Epoch 7 / 10 ========\n",
      "\n",
      "Training...\n"
     ]
    },
    {
     "name": "stderr",
     "output_type": "stream",
     "text": [
      "\n",
      "\n",
      " 50%|█████     | 4/8 [00:00<00:00, 10.33it/s]\u001b[A\u001b[A\n",
      "\n",
      " 75%|███████▌  | 6/8 [00:00<00:00, 10.30it/s]\u001b[A\u001b[A\n",
      "\n",
      "100%|██████████| 8/8 [00:00<00:00, 10.24it/s]\u001b[A\u001b[A\n",
      "\n",
      "\n",
      "  0%|          | 0/65 [00:00<?, ?it/s]\u001b[A\u001b[A\n",
      "\n",
      "  8%|▊         | 5/65 [00:00<00:01, 45.53it/s]\u001b[A\u001b[A"
     ]
    },
    {
     "name": "stdout",
     "output_type": "stream",
     "text": [
      "avg_train_loss 0.10843348409980536\n",
      "train_f1Score 1.0\n",
      "train_accuracy 1.0\n",
      "\n",
      "Running Validation...\n"
     ]
    },
    {
     "name": "stderr",
     "output_type": "stream",
     "text": [
      "\n",
      "\n",
      " 15%|█▌        | 10/65 [00:00<00:01, 45.15it/s]\u001b[A\u001b[A\n",
      "\n",
      " 23%|██▎       | 15/65 [00:00<00:01, 44.95it/s]\u001b[A\u001b[A\n",
      "\n",
      " 31%|███       | 20/65 [00:00<00:01, 44.92it/s]\u001b[A\u001b[A\n",
      "\n",
      " 38%|███▊      | 25/65 [00:00<00:00, 45.01it/s]\u001b[A\u001b[A\n",
      "\n",
      " 46%|████▌     | 30/65 [00:00<00:00, 44.75it/s]\u001b[A\u001b[A\n",
      "\n",
      " 54%|█████▍    | 35/65 [00:00<00:00, 44.68it/s]\u001b[A\u001b[A\n",
      "\n",
      " 62%|██████▏   | 40/65 [00:00<00:00, 44.53it/s]\u001b[A\u001b[A\n",
      "\n",
      " 69%|██████▉   | 45/65 [00:01<00:00, 44.63it/s]\u001b[A\u001b[A\n",
      "\n",
      " 77%|███████▋  | 50/65 [00:01<00:00, 44.40it/s]\u001b[A\u001b[A\n",
      "\n",
      " 85%|████████▍ | 55/65 [00:01<00:00, 44.29it/s]\u001b[A\u001b[A\n",
      "\n",
      " 92%|█████████▏| 60/65 [00:01<00:00, 44.54it/s]\u001b[A\u001b[A\n",
      "\n",
      "100%|██████████| 65/65 [00:01<00:00, 44.56it/s]\u001b[A\u001b[A\n",
      "\n",
      "\n",
      "  0%|          | 0/8 [00:00<?, ?it/s]\u001b[A\u001b[A\n",
      "\n",
      " 25%|██▌       | 2/8 [00:00<00:00, 10.39it/s]\u001b[A\u001b[A"
     ]
    },
    {
     "name": "stdout",
     "output_type": "stream",
     "text": [
      "Validation Loss:  1.0134893554907578\n",
      "Validation Accuracy:  0.6211538461538462\n",
      "\n",
      "======== Epoch 8 / 10 ========\n",
      "\n",
      "Training...\n"
     ]
    },
    {
     "name": "stderr",
     "output_type": "stream",
     "text": [
      "\n",
      "\n",
      " 50%|█████     | 4/8 [00:00<00:00, 10.34it/s]\u001b[A\u001b[A\n",
      "\n",
      " 75%|███████▌  | 6/8 [00:00<00:00, 10.32it/s]\u001b[A\u001b[A\n",
      "\n",
      "100%|██████████| 8/8 [00:00<00:00, 10.26it/s]\u001b[A\u001b[A\n",
      "\n",
      "\n",
      "  0%|          | 0/65 [00:00<?, ?it/s]\u001b[A\u001b[A\n",
      "\n",
      "  8%|▊         | 5/65 [00:00<00:01, 45.86it/s]\u001b[A\u001b[A"
     ]
    },
    {
     "name": "stdout",
     "output_type": "stream",
     "text": [
      "avg_train_loss 0.09453600458800793\n",
      "train_f1Score 1.0\n",
      "train_accuracy 1.0\n",
      "\n",
      "Running Validation...\n"
     ]
    },
    {
     "name": "stderr",
     "output_type": "stream",
     "text": [
      "\n",
      "\n",
      " 15%|█▌        | 10/65 [00:00<00:01, 45.39it/s]\u001b[A\u001b[A\n",
      "\n",
      " 23%|██▎       | 15/65 [00:00<00:01, 45.11it/s]\u001b[A\u001b[A\n",
      "\n",
      " 31%|███       | 20/65 [00:00<00:01, 44.92it/s]\u001b[A\u001b[A\n",
      "\n",
      " 38%|███▊      | 25/65 [00:00<00:00, 44.86it/s]\u001b[A\u001b[A\n",
      "\n",
      " 46%|████▌     | 30/65 [00:00<00:00, 44.77it/s]\u001b[A\u001b[A\n",
      "\n",
      " 54%|█████▍    | 35/65 [00:00<00:00, 44.86it/s]\u001b[A\u001b[A\n",
      "\n",
      " 62%|██████▏   | 40/65 [00:00<00:00, 44.61it/s]\u001b[A\u001b[A\n",
      "\n",
      " 69%|██████▉   | 45/65 [00:01<00:00, 44.45it/s]\u001b[A\u001b[A\n",
      "\n",
      " 77%|███████▋  | 50/65 [00:01<00:00, 44.65it/s]\u001b[A\u001b[A\n",
      "\n",
      " 85%|████████▍ | 55/65 [00:01<00:00, 44.62it/s]\u001b[A\u001b[A\n",
      "\n",
      " 92%|█████████▏| 60/65 [00:01<00:00, 44.39it/s]\u001b[A\u001b[A\n",
      "\n",
      "100%|██████████| 65/65 [00:01<00:00, 44.54it/s]\u001b[A\u001b[A\n",
      "\n",
      "\n",
      "  0%|          | 0/130 [00:00<?, ?it/s]\u001b[A\u001b[A\n",
      "\n",
      "  4%|▍         | 5/130 [00:00<00:02, 45.15it/s]\u001b[A\u001b[A"
     ]
    },
    {
     "name": "stdout",
     "output_type": "stream",
     "text": [
      "Validation Loss:  1.0554022738566766\n",
      "Validation Accuracy:  0.6326923076923077\n",
      "Testing Model....\n"
     ]
    },
    {
     "name": "stderr",
     "output_type": "stream",
     "text": [
      "\n",
      "\n",
      "  8%|▊         | 10/130 [00:00<00:02, 45.08it/s]\u001b[A\u001b[A\n",
      "\n",
      " 12%|█▏        | 15/130 [00:00<00:02, 44.99it/s]\u001b[A\u001b[A\n",
      "\n",
      " 15%|█▌        | 20/130 [00:00<00:02, 45.03it/s]\u001b[A\u001b[A\n",
      "\n",
      " 19%|█▉        | 25/130 [00:00<00:02, 45.03it/s]\u001b[A\u001b[A\n",
      "\n",
      " 23%|██▎       | 30/130 [00:00<00:02, 44.74it/s]\u001b[A\u001b[A\n",
      "\n",
      " 27%|██▋       | 35/130 [00:00<00:02, 44.58it/s]\u001b[A\u001b[A\n",
      "\n",
      " 31%|███       | 40/130 [00:00<00:02, 44.70it/s]\u001b[A\u001b[A\n",
      "\n",
      " 35%|███▍      | 45/130 [00:01<00:01, 44.67it/s]\u001b[A\u001b[A\n",
      "\n",
      " 38%|███▊      | 50/130 [00:01<00:01, 44.63it/s]\u001b[A\u001b[A\n",
      "\n",
      " 42%|████▏     | 55/130 [00:01<00:01, 44.74it/s]\u001b[A\u001b[A\n",
      "\n",
      " 46%|████▌     | 60/130 [00:01<00:01, 44.86it/s]\u001b[A\u001b[A\n",
      "\n",
      " 50%|█████     | 65/130 [00:01<00:01, 44.90it/s]\u001b[A\u001b[A\n",
      "\n",
      " 54%|█████▍    | 70/130 [00:01<00:01, 44.87it/s]\u001b[A\u001b[A\n",
      "\n",
      " 58%|█████▊    | 75/130 [00:01<00:01, 44.67it/s]\u001b[A\u001b[A\n",
      "\n",
      " 62%|██████▏   | 80/130 [00:01<00:01, 44.75it/s]\u001b[A\u001b[A\n",
      "\n",
      " 65%|██████▌   | 85/130 [00:01<00:01, 44.82it/s]\u001b[A\u001b[A\n",
      "\n",
      " 69%|██████▉   | 90/130 [00:02<00:00, 44.66it/s]\u001b[A\u001b[A\n",
      "\n",
      " 73%|███████▎  | 95/130 [00:02<00:00, 44.68it/s]\u001b[A\u001b[A\n",
      "\n",
      " 77%|███████▋  | 100/130 [00:02<00:00, 44.67it/s]\u001b[A\u001b[A\n",
      "\n",
      " 81%|████████  | 105/130 [00:02<00:00, 44.47it/s]\u001b[A\u001b[A\n",
      "\n",
      " 85%|████████▍ | 110/130 [00:02<00:00, 44.52it/s]\u001b[A\u001b[A\n",
      "\n",
      " 88%|████████▊ | 115/130 [00:02<00:00, 44.64it/s]\u001b[A\u001b[A\n",
      "\n",
      " 92%|█████████▏| 120/130 [00:02<00:00, 44.54it/s]\u001b[A\u001b[A\n",
      "\n",
      " 96%|█████████▌| 125/130 [00:02<00:00, 44.59it/s]\u001b[A\u001b[A\n",
      "\n",
      "100%|██████████| 130/130 [00:02<00:00, 44.67it/s]\u001b[A\u001b[A\n",
      "\n",
      "\n",
      "  0%|          | 0/130 [00:00<?, ?it/s]\u001b[A\u001b[A\n",
      "\n",
      "  4%|▍         | 5/130 [00:00<00:02, 44.87it/s]\u001b[A\u001b[A"
     ]
    },
    {
     "name": "stdout",
     "output_type": "stream",
     "text": [
      "Best mF1Score....\n"
     ]
    },
    {
     "name": "stderr",
     "output_type": "stream",
     "text": [
      "\n",
      "\n",
      "  8%|▊         | 10/130 [00:00<00:02, 44.90it/s]\u001b[A\u001b[A\n",
      "\n",
      " 12%|█▏        | 15/130 [00:00<00:02, 44.80it/s]\u001b[A\u001b[A\n",
      "\n",
      " 15%|█▌        | 20/130 [00:00<00:02, 44.74it/s]\u001b[A\u001b[A\n",
      "\n",
      " 19%|█▉        | 25/130 [00:00<00:02, 44.84it/s]\u001b[A\u001b[A\n",
      "\n",
      " 23%|██▎       | 30/130 [00:00<00:02, 44.92it/s]\u001b[A\u001b[A\n",
      "\n",
      " 27%|██▋       | 35/130 [00:00<00:02, 44.71it/s]\u001b[A\u001b[A\n",
      "\n",
      " 31%|███       | 40/130 [00:00<00:02, 44.69it/s]\u001b[A\u001b[A\n",
      "\n",
      " 35%|███▍      | 45/130 [00:01<00:01, 44.57it/s]\u001b[A\u001b[A\n",
      "\n",
      " 38%|███▊      | 50/130 [00:01<00:01, 44.67it/s]\u001b[A\u001b[A\n",
      "\n",
      " 42%|████▏     | 55/130 [00:01<00:01, 44.44it/s]\u001b[A\u001b[A\n",
      "\n",
      " 46%|████▌     | 60/130 [00:01<00:01, 44.31it/s]\u001b[A\u001b[A\n",
      "\n",
      " 50%|█████     | 65/130 [00:01<00:01, 44.51it/s]\u001b[A\u001b[A\n",
      "\n",
      " 54%|█████▍    | 70/130 [00:01<00:01, 44.50it/s]\u001b[A\u001b[A\n",
      "\n",
      " 58%|█████▊    | 75/130 [00:01<00:01, 44.32it/s]\u001b[A\u001b[A\n",
      "\n",
      " 62%|██████▏   | 80/130 [00:01<00:01, 44.41it/s]\u001b[A\u001b[A\n",
      "\n",
      " 65%|██████▌   | 85/130 [00:01<00:01, 44.54it/s]\u001b[A\u001b[A\n",
      "\n",
      " 69%|██████▉   | 90/130 [00:02<00:00, 44.43it/s]\u001b[A\u001b[A\n",
      "\n",
      " 73%|███████▎  | 95/130 [00:02<00:00, 44.57it/s]\u001b[A\u001b[A\n",
      "\n",
      " 77%|███████▋  | 100/130 [00:02<00:00, 44.40it/s]\u001b[A\u001b[A\n",
      "\n",
      " 81%|████████  | 105/130 [00:02<00:00, 44.46it/s]\u001b[A\u001b[A\n",
      "\n",
      " 85%|████████▍ | 110/130 [00:02<00:00, 44.39it/s]\u001b[A\u001b[A\n",
      "\n",
      " 88%|████████▊ | 115/130 [00:02<00:00, 44.56it/s]\u001b[A\u001b[A\n",
      "\n",
      " 92%|█████████▏| 120/130 [00:02<00:00, 44.68it/s]\u001b[A\u001b[A\n",
      "\n",
      " 96%|█████████▌| 125/130 [00:02<00:00, 44.61it/s]\u001b[A\u001b[A\n",
      "\n",
      "100%|██████████| 130/130 [00:02<00:00, 44.53it/s]\u001b[A\u001b[A\n",
      "\n",
      "\n",
      "  0%|          | 0/8 [00:00<?, ?it/s]\u001b[A\u001b[A\n",
      "\n",
      " 25%|██▌       | 2/8 [00:00<00:00, 10.36it/s]\u001b[A\u001b[A"
     ]
    },
    {
     "name": "stdout",
     "output_type": "stream",
     "text": [
      "\n",
      "======== Epoch 9 / 10 ========\n",
      "\n",
      "Training...\n"
     ]
    },
    {
     "name": "stderr",
     "output_type": "stream",
     "text": [
      "\n",
      "\n",
      " 38%|███▊      | 3/8 [00:00<00:00, 10.23it/s]\u001b[A\u001b[A\n",
      "\n",
      " 50%|█████     | 4/8 [00:00<00:00, 10.14it/s]\u001b[A\u001b[A\n",
      "\n",
      " 62%|██████▎   | 5/8 [00:00<00:00, 10.06it/s]\u001b[A\u001b[A\n",
      "\n",
      "100%|██████████| 8/8 [00:00<00:00, 10.12it/s]\u001b[A\u001b[A\n",
      "\n",
      "\n",
      "  0%|          | 0/65 [00:00<?, ?it/s]\u001b[A\u001b[A\n",
      "\n",
      "  8%|▊         | 5/65 [00:00<00:01, 45.47it/s]\u001b[A\u001b[A"
     ]
    },
    {
     "name": "stdout",
     "output_type": "stream",
     "text": [
      "avg_train_loss 0.08317901939153671\n",
      "train_f1Score 1.0\n",
      "train_accuracy 1.0\n",
      "\n",
      "Running Validation...\n"
     ]
    },
    {
     "name": "stderr",
     "output_type": "stream",
     "text": [
      "\n",
      "\n",
      " 15%|█▌        | 10/65 [00:00<00:01, 45.23it/s]\u001b[A\u001b[A\n",
      "\n",
      " 23%|██▎       | 15/65 [00:00<00:01, 45.02it/s]\u001b[A\u001b[A\n",
      "\n",
      " 31%|███       | 20/65 [00:00<00:01, 44.85it/s]\u001b[A\u001b[A\n",
      "\n",
      " 38%|███▊      | 25/65 [00:00<00:00, 44.88it/s]\u001b[A\u001b[A\n",
      "\n",
      " 46%|████▌     | 30/65 [00:00<00:00, 44.89it/s]\u001b[A\u001b[A\n",
      "\n",
      " 54%|█████▍    | 35/65 [00:00<00:00, 44.69it/s]\u001b[A\u001b[A\n",
      "\n",
      " 62%|██████▏   | 40/65 [00:00<00:00, 44.77it/s]\u001b[A\u001b[A\n",
      "\n",
      " 69%|██████▉   | 45/65 [00:01<00:00, 44.85it/s]\u001b[A\u001b[A\n",
      "\n",
      " 77%|███████▋  | 50/65 [00:01<00:00, 44.89it/s]\u001b[A\u001b[A\n",
      "\n",
      " 85%|████████▍ | 55/65 [00:01<00:00, 44.81it/s]\u001b[A\u001b[A\n",
      "\n",
      " 92%|█████████▏| 60/65 [00:01<00:00, 44.70it/s]\u001b[A\u001b[A\n",
      "\n",
      "100%|██████████| 65/65 [00:01<00:00, 44.74it/s]\u001b[A\u001b[A\n",
      "\n",
      "\n",
      "  0%|          | 0/130 [00:00<?, ?it/s]\u001b[A\u001b[A\n",
      "\n",
      "  4%|▍         | 5/130 [00:00<00:02, 45.18it/s]\u001b[A\u001b[A"
     ]
    },
    {
     "name": "stdout",
     "output_type": "stream",
     "text": [
      "Validation Loss:  1.0926893857809215\n",
      "Validation Accuracy:  0.6326923076923077\n",
      "Best mF1Score....\n"
     ]
    },
    {
     "name": "stderr",
     "output_type": "stream",
     "text": [
      "\n",
      "\n",
      "  8%|▊         | 10/130 [00:00<00:02, 45.13it/s]\u001b[A\u001b[A\n",
      "\n",
      " 12%|█▏        | 15/130 [00:00<00:02, 44.88it/s]\u001b[A\u001b[A\n",
      "\n",
      " 15%|█▌        | 20/130 [00:00<00:02, 44.92it/s]\u001b[A\u001b[A\n",
      "\n",
      " 19%|█▉        | 25/130 [00:00<00:02, 44.93it/s]\u001b[A\u001b[A\n",
      "\n",
      " 23%|██▎       | 30/130 [00:00<00:02, 44.94it/s]\u001b[A\u001b[A\n",
      "\n",
      " 27%|██▋       | 35/130 [00:00<00:02, 44.97it/s]\u001b[A\u001b[A\n",
      "\n",
      " 31%|███       | 40/130 [00:00<00:02, 44.90it/s]\u001b[A\u001b[A\n",
      "\n",
      " 35%|███▍      | 45/130 [00:01<00:01, 44.62it/s]\u001b[A\u001b[A\n",
      "\n",
      " 38%|███▊      | 50/130 [00:01<00:01, 44.71it/s]\u001b[A\u001b[A\n",
      "\n",
      " 42%|████▏     | 55/130 [00:01<00:01, 44.65it/s]\u001b[A\u001b[A\n",
      "\n",
      " 46%|████▌     | 60/130 [00:01<00:01, 44.63it/s]\u001b[A\u001b[A\n",
      "\n",
      " 50%|█████     | 65/130 [00:01<00:01, 44.74it/s]\u001b[A\u001b[A\n",
      "\n",
      " 54%|█████▍    | 70/130 [00:01<00:01, 44.61it/s]\u001b[A\u001b[A\n",
      "\n",
      " 58%|█████▊    | 75/130 [00:01<00:01, 44.72it/s]\u001b[A\u001b[A\n",
      "\n",
      " 62%|██████▏   | 80/130 [00:01<00:01, 44.78it/s]\u001b[A\u001b[A\n",
      "\n",
      " 65%|██████▌   | 85/130 [00:01<00:01, 44.78it/s]\u001b[A\u001b[A\n",
      "\n",
      " 69%|██████▉   | 90/130 [00:02<00:00, 44.61it/s]\u001b[A\u001b[A\n",
      "\n",
      " 73%|███████▎  | 95/130 [00:02<00:00, 44.71it/s]\u001b[A\u001b[A\n",
      "\n",
      " 77%|███████▋  | 100/130 [00:02<00:00, 44.66it/s]\u001b[A\u001b[A\n",
      "\n",
      " 81%|████████  | 105/130 [00:02<00:00, 44.61it/s]\u001b[A\u001b[A\n",
      "\n",
      " 85%|████████▍ | 110/130 [00:02<00:00, 44.62it/s]\u001b[A\u001b[A\n",
      "\n",
      " 88%|████████▊ | 115/130 [00:02<00:00, 44.65it/s]\u001b[A\u001b[A\n",
      "\n",
      " 92%|█████████▏| 120/130 [00:02<00:00, 44.77it/s]\u001b[A\u001b[A\n",
      "\n",
      " 96%|█████████▌| 125/130 [00:02<00:00, 44.62it/s]\u001b[A\u001b[A\n",
      "\n",
      "100%|██████████| 130/130 [00:02<00:00, 44.72it/s]\u001b[A\u001b[A\n",
      "\n",
      "\n",
      "  0%|          | 0/8 [00:00<?, ?it/s]\u001b[A\u001b[A\n",
      "\n",
      " 25%|██▌       | 2/8 [00:00<00:00, 10.46it/s]\u001b[A\u001b[A"
     ]
    },
    {
     "name": "stdout",
     "output_type": "stream",
     "text": [
      "\n",
      "======== Epoch 10 / 10 ========\n",
      "\n",
      "Training...\n"
     ]
    },
    {
     "name": "stderr",
     "output_type": "stream",
     "text": [
      "\n",
      "\n",
      " 38%|███▊      | 3/8 [00:00<00:00, 10.31it/s]\u001b[A\u001b[A\n",
      "\n",
      " 50%|█████     | 4/8 [00:00<00:00, 10.20it/s]\u001b[A\u001b[A\n",
      "\n",
      " 62%|██████▎   | 5/8 [00:00<00:00, 10.12it/s]\u001b[A\u001b[A\n",
      "\n",
      " 75%|███████▌  | 6/8 [00:00<00:00, 10.07it/s]\u001b[A\u001b[A\n",
      "\n",
      " 88%|████████▊ | 7/8 [00:00<00:00, 10.03it/s]\u001b[A\u001b[A\n",
      "\n",
      "100%|██████████| 8/8 [00:00<00:00, 10.06it/s]\u001b[A\u001b[A\n",
      "\n",
      "\n",
      "  0%|          | 0/65 [00:00<?, ?it/s]\u001b[A\u001b[A\n",
      "\n",
      "  8%|▊         | 5/65 [00:00<00:01, 44.97it/s]\u001b[A\u001b[A"
     ]
    },
    {
     "name": "stdout",
     "output_type": "stream",
     "text": [
      "avg_train_loss 0.08090782910585403\n",
      "train_f1Score 1.0\n",
      "train_accuracy 1.0\n",
      "\n",
      "Running Validation...\n"
     ]
    },
    {
     "name": "stderr",
     "output_type": "stream",
     "text": [
      "\n",
      "\n",
      " 15%|█▌        | 10/65 [00:00<00:01, 44.88it/s]\u001b[A\u001b[A\n",
      "\n",
      " 23%|██▎       | 15/65 [00:00<00:01, 44.90it/s]\u001b[A\u001b[A\n",
      "\n",
      " 31%|███       | 20/65 [00:00<00:01, 44.81it/s]\u001b[A\u001b[A\n",
      "\n",
      " 38%|███▊      | 25/65 [00:00<00:00, 44.84it/s]\u001b[A\u001b[A\n",
      "\n",
      " 46%|████▌     | 30/65 [00:00<00:00, 44.79it/s]\u001b[A\u001b[A\n",
      "\n",
      " 54%|█████▍    | 35/65 [00:00<00:00, 44.90it/s]\u001b[A\u001b[A\n",
      "\n",
      " 62%|██████▏   | 40/65 [00:00<00:00, 44.82it/s]\u001b[A\u001b[A\n",
      "\n",
      " 69%|██████▉   | 45/65 [00:01<00:00, 44.91it/s]\u001b[A\u001b[A\n",
      "\n",
      " 77%|███████▋  | 50/65 [00:01<00:00, 44.83it/s]\u001b[A\u001b[A\n",
      "\n",
      " 85%|████████▍ | 55/65 [00:01<00:00, 44.80it/s]\u001b[A\u001b[A\n",
      "\n",
      " 92%|█████████▏| 60/65 [00:01<00:00, 44.80it/s]\u001b[A\u001b[A\n",
      "\n",
      "100%|██████████| 65/65 [00:01<00:00, 44.79it/s]\u001b[A\u001b[A\n",
      "\n",
      "\n",
      "  0%|          | 0/130 [00:00<?, ?it/s]\u001b[A\u001b[A\n",
      "\n",
      "  4%|▍         | 5/130 [00:00<00:02, 45.24it/s]\u001b[A\u001b[A"
     ]
    },
    {
     "name": "stdout",
     "output_type": "stream",
     "text": [
      "Validation Loss:  1.111799804522441\n",
      "Validation Accuracy:  0.6307692307692307\n",
      "Testing Model....\n"
     ]
    },
    {
     "name": "stderr",
     "output_type": "stream",
     "text": [
      "\n",
      "\n",
      "  8%|▊         | 10/130 [00:00<00:02, 45.15it/s]\u001b[A\u001b[A\n",
      "\n",
      " 12%|█▏        | 15/130 [00:00<00:02, 45.05it/s]\u001b[A\u001b[A\n",
      "\n",
      " 15%|█▌        | 20/130 [00:00<00:02, 45.01it/s]\u001b[A\u001b[A\n",
      "\n",
      " 19%|█▉        | 25/130 [00:00<00:02, 44.92it/s]\u001b[A\u001b[A\n",
      "\n",
      " 23%|██▎       | 30/130 [00:00<00:02, 44.92it/s]\u001b[A\u001b[A\n",
      "\n",
      " 27%|██▋       | 35/130 [00:00<00:02, 44.84it/s]\u001b[A\u001b[A\n",
      "\n",
      " 31%|███       | 40/130 [00:00<00:02, 44.86it/s]\u001b[A\u001b[A\n",
      "\n",
      " 35%|███▍      | 45/130 [00:01<00:01, 44.70it/s]\u001b[A\u001b[A\n",
      "\n",
      " 38%|███▊      | 50/130 [00:01<00:01, 44.78it/s]\u001b[A\u001b[A\n",
      "\n",
      " 42%|████▏     | 55/130 [00:01<00:01, 44.81it/s]\u001b[A\u001b[A\n",
      "\n",
      " 46%|████▌     | 60/130 [00:01<00:01, 44.82it/s]\u001b[A\u001b[A\n",
      "\n",
      " 50%|█████     | 65/130 [00:01<00:01, 44.75it/s]\u001b[A\u001b[A\n",
      "\n",
      " 54%|█████▍    | 70/130 [00:01<00:01, 44.66it/s]\u001b[A\u001b[A\n",
      "\n",
      " 58%|█████▊    | 75/130 [00:01<00:01, 44.71it/s]\u001b[A\u001b[A\n",
      "\n",
      " 62%|██████▏   | 80/130 [00:01<00:01, 44.74it/s]\u001b[A\u001b[A\n",
      "\n",
      " 65%|██████▌   | 85/130 [00:01<00:01, 44.79it/s]\u001b[A\u001b[A\n",
      "\n",
      " 69%|██████▉   | 90/130 [00:02<00:00, 44.70it/s]\u001b[A\u001b[A\n",
      "\n",
      " 73%|███████▎  | 95/130 [00:02<00:00, 44.78it/s]\u001b[A\u001b[A\n",
      "\n",
      " 77%|███████▋  | 100/130 [00:02<00:00, 44.81it/s]\u001b[A\u001b[A\n",
      "\n",
      " 81%|████████  | 105/130 [00:02<00:00, 44.64it/s]\u001b[A\u001b[A\n",
      "\n",
      " 85%|████████▍ | 110/130 [00:02<00:00, 44.74it/s]\u001b[A\u001b[A\n",
      "\n",
      " 88%|████████▊ | 115/130 [00:02<00:00, 44.67it/s]\u001b[A\u001b[A\n",
      "\n",
      " 92%|█████████▏| 120/130 [00:02<00:00, 44.67it/s]\u001b[A\u001b[A\n",
      "\n",
      " 96%|█████████▌| 125/130 [00:02<00:00, 44.52it/s]\u001b[A\u001b[A\n",
      "\n",
      "100%|██████████| 130/130 [00:02<00:00, 44.73it/s]\u001b[A\u001b[A\n"
     ]
    },
    {
     "name": "stdout",
     "output_type": "stream",
     "text": [
      "Saving Test Metrics....\n",
      "Run:  2\n",
      "\tInitialising Model....\n"
     ]
    },
    {
     "name": "stderr",
     "output_type": "stream",
     "text": [
      "\n",
      "\n",
      "100%|██████████| 64/64 [00:00<00:00, 14629.43it/s]\n",
      "\n",
      "\n",
      "100%|██████████| 523/523 [00:00<00:00, 13924.39it/s]\n",
      "\n",
      "\n",
      "100%|██████████| 1047/1047 [00:00<00:00, 14108.08it/s]\n",
      "\n",
      "\n",
      "100%|██████████| 64/64 [00:00<00:00, 3802.90it/s]\n",
      "\n",
      "\n",
      "  0%|          | 0/523 [00:00<?, ?it/s]\u001b[A\u001b[A\n",
      "\n"
     ]
    },
    {
     "name": "stdout",
     "output_type": "stream",
     "text": [
      "\tLoading Dataset....\n",
      "\tTraining Starts....\n"
     ]
    },
    {
     "name": "stderr",
     "output_type": "stream",
     "text": [
      "100%|██████████| 523/523 [00:00<00:00, 3649.91it/s]\u001b[A\u001b[A\n",
      "\n",
      "\n",
      "  0%|          | 0/1047 [00:00<?, ?it/s]\u001b[A\u001b[A\n",
      "\n",
      " 36%|███▌      | 375/1047 [00:00<00:00, 3743.52it/s]\u001b[A\u001b[A\n",
      "\n",
      "100%|██████████| 1047/1047 [00:00<00:00, 3669.85it/s][A\u001b[A\n",
      "Some weights of the model checkpoint at bert-base-multilingual-cased were not used when initializing BertForSequenceClassification: ['cls.predictions.bias', 'cls.predictions.transform.dense.weight', 'cls.predictions.transform.dense.bias', 'cls.predictions.decoder.weight', 'cls.seq_relationship.weight', 'cls.seq_relationship.bias', 'cls.predictions.transform.LayerNorm.weight', 'cls.predictions.transform.LayerNorm.bias']\n",
      "- This IS expected if you are initializing BertForSequenceClassification from the checkpoint of a model trained on another task or with another architecture (e.g. initializing a BertForSequenceClassification model from a BertForPreTraining model).\n",
      "- This IS NOT expected if you are initializing BertForSequenceClassification from the checkpoint of a model that you expect to be exactly identical (initializing a BertForSequenceClassification model from a BertForSequenceClassification model).\n",
      "Some weights of BertForSequenceClassification were not initialized from the model checkpoint at bert-base-multilingual-cased and are newly initialized: ['classifier.weight', 'classifier.bias']\n",
      "You should probably TRAIN this model on a down-stream task to be able to use it for predictions and inference.\n",
      "\n",
      "\n",
      "  0%|          | 0/8 [00:00<?, ?it/s]\u001b[A\u001b[A\n",
      "\n",
      " 25%|██▌       | 2/8 [00:00<00:00, 10.85it/s]\u001b[A\u001b[A"
     ]
    },
    {
     "name": "stdout",
     "output_type": "stream",
     "text": [
      "\n",
      "======== Epoch 1 / 10 ========\n",
      "\n",
      "Training...\n"
     ]
    },
    {
     "name": "stderr",
     "output_type": "stream",
     "text": [
      "\n",
      "\n",
      " 50%|█████     | 4/8 [00:00<00:00, 10.71it/s]\u001b[A\u001b[A\n",
      "\n",
      " 75%|███████▌  | 6/8 [00:00<00:00, 10.61it/s]\u001b[A\u001b[A\n",
      "\n",
      "100%|██████████| 8/8 [00:00<00:00, 10.48it/s]\u001b[A\u001b[A\n",
      "\n",
      "\n",
      "  0%|          | 0/65 [00:00<?, ?it/s]\u001b[A\u001b[A\n",
      "\n",
      "  8%|▊         | 5/65 [00:00<00:01, 47.15it/s]\u001b[A\u001b[A"
     ]
    },
    {
     "name": "stdout",
     "output_type": "stream",
     "text": [
      "avg_train_loss 0.9919168204069138\n",
      "train_f1Score 0.4074074074074074\n",
      "train_accuracy 0.5\n",
      "\n",
      "Running Validation...\n"
     ]
    },
    {
     "name": "stderr",
     "output_type": "stream",
     "text": [
      "\n",
      "\n",
      " 15%|█▌        | 10/65 [00:00<00:01, 46.82it/s]\u001b[A\u001b[A\n",
      "\n",
      " 23%|██▎       | 15/65 [00:00<00:01, 46.55it/s]\u001b[A\u001b[A\n",
      "\n",
      " 31%|███       | 20/65 [00:00<00:00, 46.37it/s]\u001b[A\u001b[A\n",
      "\n",
      " 38%|███▊      | 25/65 [00:00<00:00, 46.24it/s]\u001b[A\u001b[A\n",
      "\n",
      " 46%|████▌     | 30/65 [00:00<00:00, 46.12it/s]\u001b[A\u001b[A\n",
      "\n",
      " 54%|█████▍    | 35/65 [00:00<00:00, 46.06it/s]\u001b[A\u001b[A\n",
      "\n",
      " 62%|██████▏   | 40/65 [00:00<00:00, 45.84it/s]\u001b[A\u001b[A\n",
      "\n",
      " 69%|██████▉   | 45/65 [00:00<00:00, 45.70it/s]\u001b[A\u001b[A\n",
      "\n",
      " 77%|███████▋  | 50/65 [00:01<00:00, 45.75it/s]\u001b[A\u001b[A\n",
      "\n",
      " 85%|████████▍ | 55/65 [00:01<00:00, 45.72it/s]\u001b[A\u001b[A\n",
      "\n",
      " 92%|█████████▏| 60/65 [00:01<00:00, 45.75it/s]\u001b[A\u001b[A\n",
      "\n",
      "100%|██████████| 65/65 [00:01<00:00, 45.86it/s]\u001b[A\u001b[A\n",
      "\n",
      "\n",
      "  0%|          | 0/130 [00:00<?, ?it/s]\u001b[A\u001b[A\n",
      "\n",
      "  4%|▍         | 5/130 [00:00<00:02, 46.38it/s]\u001b[A\u001b[A"
     ]
    },
    {
     "name": "stdout",
     "output_type": "stream",
     "text": [
      "Validation Loss:  0.8070519662820376\n",
      "Validation Accuracy:  0.5403846153846154\n",
      "Best mF1Score....\n"
     ]
    },
    {
     "name": "stderr",
     "output_type": "stream",
     "text": [
      "\n",
      "\n",
      "  8%|▊         | 10/130 [00:00<00:02, 46.19it/s]\u001b[A\u001b[A\n",
      "\n",
      " 12%|█▏        | 15/130 [00:00<00:02, 46.08it/s]\u001b[A\u001b[A\n",
      "\n",
      " 15%|█▌        | 20/130 [00:00<00:02, 45.95it/s]\u001b[A\u001b[A\n",
      "\n",
      " 19%|█▉        | 25/130 [00:00<00:02, 45.87it/s]\u001b[A\u001b[A\n",
      "\n",
      " 23%|██▎       | 30/130 [00:00<00:02, 45.79it/s]\u001b[A\u001b[A\n",
      "\n",
      " 27%|██▋       | 35/130 [00:00<00:02, 45.79it/s]\u001b[A\u001b[A\n",
      "\n",
      " 31%|███       | 40/130 [00:00<00:01, 45.80it/s]\u001b[A\u001b[A\n",
      "\n",
      " 35%|███▍      | 45/130 [00:00<00:01, 45.65it/s]\u001b[A\u001b[A\n",
      "\n",
      " 38%|███▊      | 50/130 [00:01<00:01, 45.70it/s]\u001b[A\u001b[A\n",
      "\n",
      " 42%|████▏     | 55/130 [00:01<00:01, 45.63it/s]\u001b[A\u001b[A\n",
      "\n",
      " 46%|████▌     | 60/130 [00:01<00:01, 45.69it/s]\u001b[A\u001b[A\n",
      "\n",
      " 50%|█████     | 65/130 [00:01<00:01, 45.65it/s]\u001b[A\u001b[A\n",
      "\n",
      " 54%|█████▍    | 70/130 [00:01<00:01, 45.70it/s]\u001b[A\u001b[A\n",
      "\n",
      " 58%|█████▊    | 75/130 [00:01<00:01, 45.73it/s]\u001b[A\u001b[A\n",
      "\n",
      " 62%|██████▏   | 80/130 [00:01<00:01, 45.70it/s]\u001b[A\u001b[A\n",
      "\n",
      " 65%|██████▌   | 85/130 [00:01<00:00, 45.68it/s]\u001b[A\u001b[A\n",
      "\n",
      " 69%|██████▉   | 90/130 [00:01<00:00, 45.57it/s]\u001b[A\u001b[A\n",
      "\n",
      " 73%|███████▎  | 95/130 [00:02<00:00, 45.62it/s]\u001b[A\u001b[A\n",
      "\n",
      " 77%|███████▋  | 100/130 [00:02<00:00, 45.56it/s]\u001b[A\u001b[A\n",
      "\n",
      " 81%|████████  | 105/130 [00:02<00:00, 45.61it/s]\u001b[A\u001b[A\n",
      "\n",
      " 85%|████████▍ | 110/130 [00:02<00:00, 45.63it/s]\u001b[A\u001b[A\n",
      "\n",
      " 88%|████████▊ | 115/130 [00:02<00:00, 45.63it/s]\u001b[A\u001b[A\n",
      "\n",
      " 92%|█████████▏| 120/130 [00:02<00:00, 45.66it/s]\u001b[A\u001b[A\n",
      "\n",
      " 96%|█████████▌| 125/130 [00:02<00:00, 45.69it/s]\u001b[A\u001b[A\n",
      "\n",
      "100%|██████████| 130/130 [00:02<00:00, 45.67it/s]\u001b[A\u001b[A\n",
      "\n",
      "\n",
      "  0%|          | 0/8 [00:00<?, ?it/s]\u001b[A\u001b[A\n",
      "\n",
      " 25%|██▌       | 2/8 [00:00<00:00, 10.70it/s]\u001b[A\u001b[A"
     ]
    },
    {
     "name": "stdout",
     "output_type": "stream",
     "text": [
      "\n",
      "======== Epoch 2 / 10 ========\n",
      "\n",
      "Training...\n"
     ]
    },
    {
     "name": "stderr",
     "output_type": "stream",
     "text": [
      "\n",
      "\n",
      " 50%|█████     | 4/8 [00:00<00:00, 10.57it/s]\u001b[A\u001b[A\n",
      "\n",
      " 75%|███████▌  | 6/8 [00:00<00:00, 10.50it/s]\u001b[A\u001b[A\n",
      "\n",
      "100%|██████████| 8/8 [00:00<00:00, 10.39it/s]\u001b[A\u001b[A\n",
      "\n",
      "\n",
      "  0%|          | 0/65 [00:00<?, ?it/s]\u001b[A\u001b[A\n",
      "\n",
      "  8%|▊         | 5/65 [00:00<00:01, 46.72it/s]\u001b[A\u001b[A"
     ]
    },
    {
     "name": "stdout",
     "output_type": "stream",
     "text": [
      "avg_train_loss 0.606020737439394\n",
      "train_f1Score 0.7164179104477612\n",
      "train_accuracy 0.703125\n",
      "\n",
      "Running Validation...\n"
     ]
    },
    {
     "name": "stderr",
     "output_type": "stream",
     "text": [
      "\n",
      "\n",
      " 15%|█▌        | 10/65 [00:00<00:01, 46.41it/s]\u001b[A\u001b[A\n",
      "\n",
      " 23%|██▎       | 15/65 [00:00<00:01, 46.26it/s]\u001b[A\u001b[A\n",
      "\n",
      " 31%|███       | 20/65 [00:00<00:00, 46.10it/s]\u001b[A\u001b[A\n",
      "\n",
      " 38%|███▊      | 25/65 [00:00<00:00, 45.98it/s]\u001b[A\u001b[A\n",
      "\n",
      " 46%|████▌     | 30/65 [00:00<00:00, 45.92it/s]\u001b[A\u001b[A\n",
      "\n",
      " 54%|█████▍    | 35/65 [00:00<00:00, 45.80it/s]\u001b[A\u001b[A\n",
      "\n",
      " 62%|██████▏   | 40/65 [00:00<00:00, 45.64it/s]\u001b[A\u001b[A\n",
      "\n",
      " 69%|██████▉   | 45/65 [00:00<00:00, 45.44it/s]\u001b[A\u001b[A\n",
      "\n",
      " 77%|███████▋  | 50/65 [00:01<00:00, 45.49it/s]\u001b[A\u001b[A\n",
      "\n",
      " 85%|████████▍ | 55/65 [00:01<00:00, 45.47it/s]\u001b[A\u001b[A\n",
      "\n",
      " 92%|█████████▏| 60/65 [00:01<00:00, 45.53it/s]\u001b[A\u001b[A\n",
      "\n",
      "100%|██████████| 65/65 [00:01<00:00, 45.63it/s]\u001b[A\u001b[A\n",
      "\n",
      "\n",
      "  0%|          | 0/130 [00:00<?, ?it/s]\u001b[A\u001b[A\n",
      "\n",
      "  4%|▍         | 5/130 [00:00<00:02, 46.18it/s]\u001b[A\u001b[A"
     ]
    },
    {
     "name": "stdout",
     "output_type": "stream",
     "text": [
      "Validation Loss:  0.6900513534362499\n",
      "Validation Accuracy:  0.5865384615384616\n",
      "Testing Model....\n"
     ]
    },
    {
     "name": "stderr",
     "output_type": "stream",
     "text": [
      "\n",
      "\n",
      "  8%|▊         | 10/130 [00:00<00:02, 46.05it/s]\u001b[A\u001b[A\n",
      "\n",
      " 12%|█▏        | 15/130 [00:00<00:02, 45.99it/s]\u001b[A\u001b[A\n",
      "\n",
      " 15%|█▌        | 20/130 [00:00<00:02, 45.79it/s]\u001b[A\u001b[A\n",
      "\n",
      " 19%|█▉        | 25/130 [00:00<00:02, 45.63it/s]\u001b[A\u001b[A\n",
      "\n",
      " 23%|██▎       | 30/130 [00:00<00:02, 45.59it/s]\u001b[A\u001b[A\n",
      "\n",
      " 27%|██▋       | 35/130 [00:00<00:02, 45.62it/s]\u001b[A\u001b[A\n",
      "\n",
      " 31%|███       | 40/130 [00:00<00:01, 45.68it/s]\u001b[A\u001b[A\n",
      "\n",
      " 35%|███▍      | 45/130 [00:00<00:01, 45.46it/s]\u001b[A\u001b[A\n",
      "\n",
      " 38%|███▊      | 50/130 [00:01<00:01, 45.52it/s]\u001b[A\u001b[A\n",
      "\n",
      " 42%|████▏     | 55/130 [00:01<00:01, 45.56it/s]\u001b[A\u001b[A\n",
      "\n",
      " 46%|████▌     | 60/130 [00:01<00:01, 45.62it/s]\u001b[A\u001b[A\n",
      "\n",
      " 50%|█████     | 65/130 [00:01<00:01, 45.52it/s]\u001b[A\u001b[A\n",
      "\n",
      " 54%|█████▍    | 70/130 [00:01<00:01, 45.45it/s]\u001b[A\u001b[A\n",
      "\n",
      " 58%|█████▊    | 75/130 [00:01<00:01, 45.42it/s]\u001b[A\u001b[A\n",
      "\n",
      " 62%|██████▏   | 80/130 [00:01<00:01, 45.48it/s]\u001b[A\u001b[A\n",
      "\n",
      " 65%|██████▌   | 85/130 [00:01<00:00, 45.47it/s]\u001b[A\u001b[A\n",
      "\n",
      " 69%|██████▉   | 90/130 [00:01<00:00, 45.39it/s]\u001b[A\u001b[A\n",
      "\n",
      " 73%|███████▎  | 95/130 [00:02<00:00, 45.46it/s]\u001b[A\u001b[A\n",
      "\n",
      " 77%|███████▋  | 100/130 [00:02<00:00, 45.50it/s]\u001b[A\u001b[A\n",
      "\n",
      " 81%|████████  | 105/130 [00:02<00:00, 45.51it/s]\u001b[A\u001b[A\n",
      "\n",
      " 85%|████████▍ | 110/130 [00:02<00:00, 45.47it/s]\u001b[A\u001b[A\n",
      "\n",
      " 88%|████████▊ | 115/130 [00:02<00:00, 45.39it/s]\u001b[A\u001b[A\n",
      "\n",
      " 92%|█████████▏| 120/130 [00:02<00:00, 45.36it/s]\u001b[A\u001b[A\n",
      "\n",
      " 96%|█████████▌| 125/130 [00:02<00:00, 45.45it/s]\u001b[A\u001b[A\n",
      "\n",
      "100%|██████████| 130/130 [00:02<00:00, 45.50it/s]\u001b[A\u001b[A\n",
      "\n",
      "\n",
      "  0%|          | 0/130 [00:00<?, ?it/s]\u001b[A\u001b[A\n",
      "\n",
      "  4%|▍         | 5/130 [00:00<00:02, 46.18it/s]\u001b[A\u001b[A"
     ]
    },
    {
     "name": "stdout",
     "output_type": "stream",
     "text": [
      "Best mF1Score....\n"
     ]
    },
    {
     "name": "stderr",
     "output_type": "stream",
     "text": [
      "\n",
      "\n",
      "  8%|▊         | 10/130 [00:00<00:02, 45.94it/s]\u001b[A\u001b[A\n",
      "\n",
      " 12%|█▏        | 15/130 [00:00<00:02, 45.90it/s]\u001b[A\u001b[A\n",
      "\n",
      " 15%|█▌        | 20/130 [00:00<00:02, 45.75it/s]\u001b[A\u001b[A\n",
      "\n",
      " 19%|█▉        | 25/130 [00:00<00:02, 45.63it/s]\u001b[A\u001b[A\n",
      "\n",
      " 23%|██▎       | 30/130 [00:00<00:02, 45.57it/s]\u001b[A\u001b[A\n",
      "\n",
      " 27%|██▋       | 35/130 [00:00<00:02, 45.59it/s]\u001b[A\u001b[A\n",
      "\n",
      " 31%|███       | 40/130 [00:00<00:01, 45.53it/s]\u001b[A\u001b[A\n",
      "\n",
      " 35%|███▍      | 45/130 [00:00<00:01, 45.41it/s]\u001b[A\u001b[A\n",
      "\n",
      " 38%|███▊      | 50/130 [00:01<00:01, 45.35it/s]\u001b[A\u001b[A\n",
      "\n",
      " 42%|████▏     | 55/130 [00:01<00:01, 45.33it/s]\u001b[A\u001b[A\n",
      "\n",
      " 46%|████▌     | 60/130 [00:01<00:01, 45.35it/s]\u001b[A\u001b[A\n",
      "\n",
      " 50%|█████     | 65/130 [00:01<00:01, 45.32it/s]\u001b[A\u001b[A\n",
      "\n",
      " 54%|█████▍    | 70/130 [00:01<00:01, 45.32it/s]\u001b[A\u001b[A\n",
      "\n",
      " 58%|█████▊    | 75/130 [00:01<00:01, 45.31it/s]\u001b[A\u001b[A\n",
      "\n",
      " 62%|██████▏   | 80/130 [00:01<00:01, 45.33it/s]\u001b[A\u001b[A\n",
      "\n",
      " 65%|██████▌   | 85/130 [00:01<00:00, 45.23it/s]\u001b[A\u001b[A\n",
      "\n",
      " 69%|██████▉   | 90/130 [00:01<00:00, 45.24it/s]\u001b[A\u001b[A\n",
      "\n",
      " 73%|███████▎  | 95/130 [00:02<00:00, 45.24it/s]\u001b[A\u001b[A\n",
      "\n",
      " 77%|███████▋  | 100/130 [00:02<00:00, 45.26it/s]\u001b[A\u001b[A\n",
      "\n",
      " 81%|████████  | 105/130 [00:02<00:00, 45.20it/s]\u001b[A\u001b[A\n",
      "\n",
      " 85%|████████▍ | 110/130 [00:02<00:00, 45.23it/s]\u001b[A\u001b[A\n",
      "\n",
      " 88%|████████▊ | 115/130 [00:02<00:00, 45.23it/s]\u001b[A\u001b[A\n",
      "\n",
      " 92%|█████████▏| 120/130 [00:02<00:00, 45.25it/s]\u001b[A\u001b[A\n",
      "\n",
      " 96%|█████████▌| 125/130 [00:02<00:00, 45.23it/s]\u001b[A\u001b[A\n",
      "\n",
      "100%|██████████| 130/130 [00:02<00:00, 45.32it/s]\u001b[A\u001b[A\n",
      "\n",
      "\n",
      "  0%|          | 0/8 [00:00<?, ?it/s]\u001b[A\u001b[A\n",
      "\n",
      " 25%|██▌       | 2/8 [00:00<00:00, 10.66it/s]\u001b[A\u001b[A"
     ]
    },
    {
     "name": "stdout",
     "output_type": "stream",
     "text": [
      "\n",
      "======== Epoch 3 / 10 ========\n",
      "\n",
      "Training...\n"
     ]
    },
    {
     "name": "stderr",
     "output_type": "stream",
     "text": [
      "\n",
      "\n",
      " 50%|█████     | 4/8 [00:00<00:00, 10.53it/s]\u001b[A\u001b[A\n",
      "\n",
      " 75%|███████▌  | 6/8 [00:00<00:00, 10.45it/s]\u001b[A\u001b[A\n",
      "\n",
      "100%|██████████| 8/8 [00:00<00:00, 10.34it/s]\u001b[A\u001b[A\n",
      "\n",
      "\n",
      "  0%|          | 0/65 [00:00<?, ?it/s]\u001b[A\u001b[A\n",
      "\n",
      "  8%|▊         | 5/65 [00:00<00:01, 46.41it/s]\u001b[A\u001b[A"
     ]
    },
    {
     "name": "stdout",
     "output_type": "stream",
     "text": [
      "avg_train_loss 0.47300421074032784\n",
      "train_f1Score 0.7931034482758621\n",
      "train_accuracy 0.8125\n",
      "\n",
      "Running Validation...\n"
     ]
    },
    {
     "name": "stderr",
     "output_type": "stream",
     "text": [
      "\n",
      "\n",
      " 15%|█▌        | 10/65 [00:00<00:01, 46.06it/s]\u001b[A\u001b[A\n",
      "\n",
      " 23%|██▎       | 15/65 [00:00<00:01, 45.85it/s]\u001b[A\u001b[A\n",
      "\n",
      " 31%|███       | 20/65 [00:00<00:00, 45.66it/s]\u001b[A\u001b[A\n",
      "\n",
      " 38%|███▊      | 25/65 [00:00<00:00, 45.55it/s]\u001b[A\u001b[A\n",
      "\n",
      " 46%|████▌     | 30/65 [00:00<00:00, 45.47it/s]\u001b[A\u001b[A\n",
      "\n",
      " 54%|█████▍    | 35/65 [00:00<00:00, 45.43it/s]\u001b[A\u001b[A\n",
      "\n",
      " 62%|██████▏   | 40/65 [00:00<00:00, 45.17it/s]\u001b[A\u001b[A\n",
      "\n",
      " 69%|██████▉   | 45/65 [00:00<00:00, 45.08it/s]\u001b[A\u001b[A\n",
      "\n",
      " 77%|███████▋  | 50/65 [00:01<00:00, 45.12it/s]\u001b[A\u001b[A\n",
      "\n",
      " 85%|████████▍ | 55/65 [00:01<00:00, 45.14it/s]\u001b[A\u001b[A\n",
      "\n",
      " 92%|█████████▏| 60/65 [00:01<00:00, 45.10it/s]\u001b[A\u001b[A\n",
      "\n",
      "100%|██████████| 65/65 [00:01<00:00, 45.21it/s]\u001b[A\u001b[A\n",
      "\n",
      "\n",
      "  0%|          | 0/130 [00:00<?, ?it/s]\u001b[A\u001b[A\n",
      "\n",
      "  4%|▍         | 5/130 [00:00<00:02, 45.73it/s]\u001b[A\u001b[A"
     ]
    },
    {
     "name": "stdout",
     "output_type": "stream",
     "text": [
      "Validation Loss:  0.7097955038914314\n",
      "Validation Accuracy:  0.6192307692307693\n",
      "Best mF1Score....\n"
     ]
    },
    {
     "name": "stderr",
     "output_type": "stream",
     "text": [
      "\n",
      "\n",
      "  8%|▊         | 10/130 [00:00<00:02, 45.53it/s]\u001b[A\u001b[A\n",
      "\n",
      " 12%|█▏        | 15/130 [00:00<00:02, 45.43it/s]\u001b[A\u001b[A\n",
      "\n",
      " 15%|█▌        | 20/130 [00:00<00:02, 45.33it/s]\u001b[A\u001b[A\n",
      "\n",
      " 19%|█▉        | 25/130 [00:00<00:02, 45.27it/s]\u001b[A\u001b[A\n",
      "\n",
      " 23%|██▎       | 30/130 [00:00<00:02, 45.19it/s]\u001b[A\u001b[A\n",
      "\n",
      " 27%|██▋       | 35/130 [00:00<00:02, 45.15it/s]\u001b[A\u001b[A\n",
      "\n",
      " 31%|███       | 40/130 [00:00<00:01, 45.15it/s]\u001b[A\u001b[A\n",
      "\n",
      " 35%|███▍      | 45/130 [00:00<00:01, 45.09it/s]\u001b[A\u001b[A\n",
      "\n",
      " 38%|███▊      | 50/130 [00:01<00:01, 45.09it/s]\u001b[A\u001b[A\n",
      "\n",
      " 42%|████▏     | 55/130 [00:01<00:01, 45.03it/s]\u001b[A\u001b[A\n",
      "\n",
      " 46%|████▌     | 60/130 [00:01<00:01, 45.02it/s]\u001b[A\u001b[A\n",
      "\n",
      " 50%|█████     | 65/130 [00:01<00:01, 45.00it/s]\u001b[A\u001b[A\n",
      "\n",
      " 54%|█████▍    | 70/130 [00:01<00:01, 44.99it/s]\u001b[A\u001b[A\n",
      "\n",
      " 58%|█████▊    | 75/130 [00:01<00:01, 44.96it/s]\u001b[A\u001b[A\n",
      "\n",
      " 62%|██████▏   | 80/130 [00:01<00:01, 44.95it/s]\u001b[A\u001b[A\n",
      "\n",
      " 65%|██████▌   | 85/130 [00:01<00:01, 44.95it/s]\u001b[A\u001b[A\n",
      "\n",
      " 69%|██████▉   | 90/130 [00:01<00:00, 44.94it/s]\u001b[A\u001b[A\n",
      "\n",
      " 73%|███████▎  | 95/130 [00:02<00:00, 44.93it/s]\u001b[A\u001b[A\n",
      "\n",
      " 77%|███████▋  | 100/130 [00:02<00:00, 44.97it/s]\u001b[A\u001b[A\n",
      "\n",
      " 81%|████████  | 105/130 [00:02<00:00, 44.91it/s]\u001b[A\u001b[A\n",
      "\n",
      " 85%|████████▍ | 110/130 [00:02<00:00, 44.98it/s]\u001b[A\u001b[A\n",
      "\n",
      " 88%|████████▊ | 115/130 [00:02<00:00, 44.88it/s]\u001b[A\u001b[A\n",
      "\n",
      " 92%|█████████▏| 120/130 [00:02<00:00, 44.91it/s]\u001b[A\u001b[A\n",
      "\n",
      " 96%|█████████▌| 125/130 [00:02<00:00, 44.93it/s]\u001b[A\u001b[A\n",
      "\n",
      "100%|██████████| 130/130 [00:02<00:00, 45.00it/s]\u001b[A\u001b[A\n",
      "\n",
      "\n",
      "  0%|          | 0/8 [00:00<?, ?it/s]\u001b[A\u001b[A\n",
      "\n",
      " 25%|██▌       | 2/8 [00:00<00:00, 10.55it/s]\u001b[A\u001b[A"
     ]
    },
    {
     "name": "stdout",
     "output_type": "stream",
     "text": [
      "\n",
      "======== Epoch 4 / 10 ========\n",
      "\n",
      "Training...\n"
     ]
    },
    {
     "name": "stderr",
     "output_type": "stream",
     "text": [
      "\n",
      "\n",
      " 50%|█████     | 4/8 [00:00<00:00, 10.44it/s]\u001b[A\u001b[A\n",
      "\n",
      " 75%|███████▌  | 6/8 [00:00<00:00, 10.36it/s]\u001b[A\u001b[A\n",
      "\n",
      "100%|██████████| 8/8 [00:00<00:00, 10.26it/s]\u001b[A\u001b[A\n",
      "\n",
      "\n",
      "  0%|          | 0/65 [00:00<?, ?it/s]\u001b[A\u001b[A\n",
      "\n",
      "  8%|▊         | 5/65 [00:00<00:01, 45.96it/s]\u001b[A\u001b[A"
     ]
    },
    {
     "name": "stdout",
     "output_type": "stream",
     "text": [
      "avg_train_loss 0.32575803250074387\n",
      "train_f1Score 0.8923076923076922\n",
      "train_accuracy 0.890625\n",
      "\n",
      "Running Validation...\n"
     ]
    },
    {
     "name": "stderr",
     "output_type": "stream",
     "text": [
      "\n",
      "\n",
      " 15%|█▌        | 10/65 [00:00<00:01, 45.73it/s]\u001b[A\u001b[A\n",
      "\n",
      " 23%|██▎       | 15/65 [00:00<00:01, 45.53it/s]\u001b[A\u001b[A\n",
      "\n",
      " 31%|███       | 20/65 [00:00<00:00, 45.37it/s]\u001b[A\u001b[A\n",
      "\n",
      " 38%|███▊      | 25/65 [00:00<00:00, 45.21it/s]\u001b[A\u001b[A\n",
      "\n",
      " 46%|████▌     | 30/65 [00:00<00:00, 45.14it/s]\u001b[A\u001b[A\n",
      "\n",
      " 54%|█████▍    | 35/65 [00:00<00:00, 45.07it/s]\u001b[A\u001b[A\n",
      "\n",
      " 62%|██████▏   | 40/65 [00:00<00:00, 45.01it/s]\u001b[A\u001b[A\n",
      "\n",
      " 69%|██████▉   | 45/65 [00:00<00:00, 44.99it/s]\u001b[A\u001b[A\n",
      "\n",
      " 77%|███████▋  | 50/65 [00:01<00:00, 44.91it/s]\u001b[A\u001b[A\n",
      "\n",
      " 85%|████████▍ | 55/65 [00:01<00:00, 44.92it/s]\u001b[A\u001b[A\n",
      "\n",
      " 92%|█████████▏| 60/65 [00:01<00:00, 44.87it/s]\u001b[A\u001b[A\n",
      "\n",
      "100%|██████████| 65/65 [00:01<00:00, 44.97it/s]\u001b[A\u001b[A\n",
      "\n",
      "\n",
      "  0%|          | 0/130 [00:00<?, ?it/s]\u001b[A\u001b[A\n",
      "\n",
      "  4%|▍         | 5/130 [00:00<00:02, 45.12it/s]\u001b[A\u001b[A"
     ]
    },
    {
     "name": "stdout",
     "output_type": "stream",
     "text": [
      "Validation Loss:  0.7872128401811306\n",
      "Validation Accuracy:  0.6230769230769231\n",
      "Testing Model....\n"
     ]
    },
    {
     "name": "stderr",
     "output_type": "stream",
     "text": [
      "\n",
      "\n",
      "  8%|▊         | 10/130 [00:00<00:02, 45.09it/s]\u001b[A\u001b[A\n",
      "\n",
      " 12%|█▏        | 15/130 [00:00<00:02, 45.01it/s]\u001b[A\u001b[A\n",
      "\n",
      " 15%|█▌        | 20/130 [00:00<00:02, 44.97it/s]\u001b[A\u001b[A\n",
      "\n",
      " 19%|█▉        | 25/130 [00:00<00:02, 44.89it/s]\u001b[A\u001b[A\n",
      "\n",
      " 23%|██▎       | 30/130 [00:00<00:02, 44.90it/s]\u001b[A\u001b[A\n",
      "\n",
      " 27%|██▋       | 35/130 [00:00<00:02, 44.84it/s]\u001b[A\u001b[A\n",
      "\n",
      " 31%|███       | 40/130 [00:00<00:02, 44.88it/s]\u001b[A\u001b[A\n",
      "\n",
      " 35%|███▍      | 45/130 [00:01<00:01, 44.83it/s]\u001b[A\u001b[A\n",
      "\n",
      " 38%|███▊      | 50/130 [00:01<00:01, 44.87it/s]\u001b[A\u001b[A\n",
      "\n",
      " 42%|████▏     | 55/130 [00:01<00:01, 44.82it/s]\u001b[A\u001b[A\n",
      "\n",
      " 46%|████▌     | 60/130 [00:01<00:01, 44.85it/s]\u001b[A\u001b[A\n",
      "\n",
      " 50%|█████     | 65/130 [00:01<00:01, 44.80it/s]\u001b[A\u001b[A\n",
      "\n",
      " 54%|█████▍    | 70/130 [00:01<00:01, 44.84it/s]\u001b[A\u001b[A\n",
      "\n",
      " 58%|█████▊    | 75/130 [00:01<00:01, 44.87it/s]\u001b[A\u001b[A\n",
      "\n",
      " 62%|██████▏   | 80/130 [00:01<00:01, 44.90it/s]\u001b[A\u001b[A\n",
      "\n",
      " 65%|██████▌   | 85/130 [00:01<00:01, 44.92it/s]\u001b[A\u001b[A\n",
      "\n",
      " 69%|██████▉   | 90/130 [00:02<00:00, 44.72it/s]\u001b[A\u001b[A\n",
      "\n",
      " 73%|███████▎  | 95/130 [00:02<00:00, 44.80it/s]\u001b[A\u001b[A\n",
      "\n",
      " 77%|███████▋  | 100/130 [00:02<00:00, 44.86it/s]\u001b[A\u001b[A\n",
      "\n",
      " 81%|████████  | 105/130 [00:02<00:00, 44.89it/s]\u001b[A\u001b[A\n",
      "\n",
      " 85%|████████▍ | 110/130 [00:02<00:00, 44.73it/s]\u001b[A\u001b[A\n",
      "\n",
      " 88%|████████▊ | 115/130 [00:02<00:00, 44.61it/s]\u001b[A\u001b[A\n",
      "\n",
      " 92%|█████████▏| 120/130 [00:02<00:00, 44.65it/s]\u001b[A\u001b[A\n",
      "\n",
      " 96%|█████████▌| 125/130 [00:02<00:00, 44.65it/s]\u001b[A\u001b[A\n",
      "\n",
      "100%|██████████| 130/130 [00:02<00:00, 44.78it/s]\u001b[A\u001b[A\n",
      "\n",
      "\n",
      "  0%|          | 0/130 [00:00<?, ?it/s]\u001b[A\u001b[A\n",
      "\n",
      "  4%|▍         | 5/130 [00:00<00:02, 45.45it/s]\u001b[A\u001b[A"
     ]
    },
    {
     "name": "stdout",
     "output_type": "stream",
     "text": [
      "Best mF1Score....\n"
     ]
    },
    {
     "name": "stderr",
     "output_type": "stream",
     "text": [
      "\n",
      "\n",
      "  8%|▊         | 10/130 [00:00<00:02, 45.20it/s]\u001b[A\u001b[A\n",
      "\n",
      " 12%|█▏        | 15/130 [00:00<00:02, 44.86it/s]\u001b[A\u001b[A\n",
      "\n",
      " 15%|█▌        | 20/130 [00:00<00:02, 44.91it/s]\u001b[A\u001b[A\n",
      "\n",
      " 19%|█▉        | 25/130 [00:00<00:02, 44.93it/s]\u001b[A\u001b[A\n",
      "\n",
      " 23%|██▎       | 30/130 [00:00<00:02, 44.81it/s]\u001b[A\u001b[A\n",
      "\n",
      " 27%|██▋       | 35/130 [00:00<00:02, 44.66it/s]\u001b[A\u001b[A\n",
      "\n",
      " 31%|███       | 40/130 [00:00<00:02, 44.59it/s]\u001b[A\u001b[A\n",
      "\n",
      " 35%|███▍      | 45/130 [00:01<00:01, 44.59it/s]\u001b[A\u001b[A\n",
      "\n",
      " 38%|███▊      | 50/130 [00:01<00:01, 44.51it/s]\u001b[A\u001b[A\n",
      "\n",
      " 42%|████▏     | 55/130 [00:01<00:01, 44.49it/s]\u001b[A\u001b[A\n",
      "\n",
      " 46%|████▌     | 60/130 [00:01<00:01, 44.40it/s]\u001b[A\u001b[A\n",
      "\n",
      " 50%|█████     | 65/130 [00:01<00:01, 44.55it/s]\u001b[A\u001b[A\n",
      "\n",
      " 54%|█████▍    | 70/130 [00:01<00:01, 44.36it/s]\u001b[A\u001b[A\n",
      "\n",
      " 58%|█████▊    | 75/130 [00:01<00:01, 44.45it/s]\u001b[A\u001b[A\n",
      "\n",
      " 62%|██████▏   | 80/130 [00:01<00:01, 44.50it/s]\u001b[A\u001b[A\n",
      "\n",
      " 65%|██████▌   | 85/130 [00:01<00:01, 44.54it/s]\u001b[A\u001b[A\n",
      "\n",
      " 69%|██████▉   | 90/130 [00:02<00:00, 44.57it/s]\u001b[A\u001b[A\n",
      "\n",
      " 73%|███████▎  | 95/130 [00:02<00:00, 44.60it/s]\u001b[A\u001b[A\n",
      "\n",
      " 77%|███████▋  | 100/130 [00:02<00:00, 44.62it/s]\u001b[A\u001b[A\n",
      "\n",
      " 81%|████████  | 105/130 [00:02<00:00, 44.64it/s]\u001b[A\u001b[A\n",
      "\n",
      " 85%|████████▍ | 110/130 [00:02<00:00, 44.64it/s]\u001b[A\u001b[A\n",
      "\n",
      " 88%|████████▊ | 115/130 [00:02<00:00, 44.36it/s]\u001b[A\u001b[A\n",
      "\n",
      " 92%|█████████▏| 120/130 [00:02<00:00, 44.33it/s]\u001b[A\u001b[A\n",
      "\n",
      " 96%|█████████▌| 125/130 [00:02<00:00, 44.33it/s]\u001b[A\u001b[A\n",
      "\n",
      "100%|██████████| 130/130 [00:02<00:00, 44.51it/s]\u001b[A\u001b[A\n",
      "\n",
      "\n",
      "  0%|          | 0/8 [00:00<?, ?it/s]\u001b[A\u001b[A\n",
      "\n",
      " 25%|██▌       | 2/8 [00:00<00:00, 10.45it/s]\u001b[A\u001b[A"
     ]
    },
    {
     "name": "stdout",
     "output_type": "stream",
     "text": [
      "\n",
      "======== Epoch 5 / 10 ========\n",
      "\n",
      "Training...\n"
     ]
    },
    {
     "name": "stderr",
     "output_type": "stream",
     "text": [
      "\n",
      "\n",
      " 50%|█████     | 4/8 [00:00<00:00, 10.34it/s]\u001b[A\u001b[A\n",
      "\n",
      " 75%|███████▌  | 6/8 [00:00<00:00, 10.26it/s]\u001b[A\u001b[A\n",
      "\n",
      "100%|██████████| 8/8 [00:00<00:00, 10.15it/s]\u001b[A\u001b[A\n",
      "\n",
      "\n",
      "  0%|          | 0/65 [00:00<?, ?it/s]\u001b[A\u001b[A\n",
      "\n",
      "  8%|▊         | 5/65 [00:00<00:01, 45.08it/s]\u001b[A\u001b[A"
     ]
    },
    {
     "name": "stdout",
     "output_type": "stream",
     "text": [
      "avg_train_loss 0.23667474277317524\n",
      "train_f1Score 0.9523809523809523\n",
      "train_accuracy 0.953125\n",
      "\n",
      "Running Validation...\n"
     ]
    },
    {
     "name": "stderr",
     "output_type": "stream",
     "text": [
      "\n",
      "\n",
      " 15%|█▌        | 10/65 [00:00<00:01, 44.93it/s]\u001b[A\u001b[A\n",
      "\n",
      " 23%|██▎       | 15/65 [00:00<00:01, 44.63it/s]\u001b[A\u001b[A\n",
      "\n",
      " 31%|███       | 20/65 [00:00<00:01, 44.51it/s]\u001b[A\u001b[A\n",
      "\n",
      " 38%|███▊      | 25/65 [00:00<00:00, 44.48it/s]\u001b[A\u001b[A\n",
      "\n",
      " 46%|████▌     | 30/65 [00:00<00:00, 44.39it/s]\u001b[A\u001b[A\n",
      "\n",
      " 54%|█████▍    | 35/65 [00:00<00:00, 44.54it/s]\u001b[A\u001b[A\n",
      "\n",
      " 62%|██████▏   | 40/65 [00:00<00:00, 44.67it/s]\u001b[A\u001b[A\n",
      "\n",
      " 69%|██████▉   | 45/65 [00:01<00:00, 44.78it/s]\u001b[A\u001b[A\n",
      "\n",
      " 77%|███████▋  | 50/65 [00:01<00:00, 44.48it/s]\u001b[A\u001b[A\n",
      "\n",
      " 85%|████████▍ | 55/65 [00:01<00:00, 44.30it/s]\u001b[A\u001b[A\n",
      "\n",
      " 92%|█████████▏| 60/65 [00:01<00:00, 44.50it/s]\u001b[A\u001b[A\n",
      "\n",
      "100%|██████████| 65/65 [00:01<00:00, 44.46it/s]\u001b[A\u001b[A\n",
      "\n",
      "\n",
      "  0%|          | 0/130 [00:00<?, ?it/s]\u001b[A\u001b[A\n",
      "\n",
      "  4%|▍         | 5/130 [00:00<00:02, 44.46it/s]\u001b[A\u001b[A"
     ]
    },
    {
     "name": "stdout",
     "output_type": "stream",
     "text": [
      "Validation Loss:  0.8786118062642905\n",
      "Validation Accuracy:  0.6269230769230769\n",
      "Best mF1Score....\n"
     ]
    },
    {
     "name": "stderr",
     "output_type": "stream",
     "text": [
      "\n",
      "\n",
      "  8%|▊         | 10/130 [00:00<00:02, 44.46it/s]\u001b[A\u001b[A\n",
      "\n",
      " 12%|█▏        | 15/130 [00:00<00:02, 44.65it/s]\u001b[A\u001b[A\n",
      "\n",
      " 15%|█▌        | 20/130 [00:00<00:02, 44.45it/s]\u001b[A\u001b[A\n",
      "\n",
      " 19%|█▉        | 25/130 [00:00<00:02, 44.51it/s]\u001b[A\u001b[A\n",
      "\n",
      " 23%|██▎       | 30/130 [00:00<00:02, 44.55it/s]\u001b[A\u001b[A\n",
      "\n",
      " 27%|██▋       | 35/130 [00:00<00:02, 44.60it/s]\u001b[A\u001b[A\n",
      "\n",
      " 31%|███       | 40/130 [00:00<00:02, 44.62it/s]\u001b[A\u001b[A\n",
      "\n",
      " 35%|███▍      | 45/130 [00:01<00:01, 44.62it/s]\u001b[A\u001b[A\n",
      "\n",
      " 38%|███▊      | 50/130 [00:01<00:01, 44.63it/s]\u001b[A\u001b[A\n",
      "\n",
      " 42%|████▏     | 55/130 [00:01<00:01, 44.49it/s]\u001b[A\u001b[A\n",
      "\n",
      " 46%|████▌     | 60/130 [00:01<00:01, 44.23it/s]\u001b[A\u001b[A\n",
      "\n",
      " 50%|█████     | 65/130 [00:01<00:01, 44.39it/s]\u001b[A\u001b[A\n",
      "\n",
      " 54%|█████▍    | 70/130 [00:01<00:01, 44.49it/s]\u001b[A\u001b[A\n",
      "\n",
      " 58%|█████▊    | 75/130 [00:01<00:01, 44.24it/s]\u001b[A\u001b[A\n",
      "\n",
      " 62%|██████▏   | 80/130 [00:01<00:01, 44.38it/s]\u001b[A\u001b[A\n",
      "\n",
      " 65%|██████▌   | 85/130 [00:01<00:01, 44.47it/s]\u001b[A\u001b[A\n",
      "\n",
      " 69%|██████▉   | 90/130 [00:02<00:00, 44.53it/s]\u001b[A\u001b[A\n",
      "\n",
      " 73%|███████▎  | 95/130 [00:02<00:00, 44.57it/s]\u001b[A\u001b[A\n",
      "\n",
      " 77%|███████▋  | 100/130 [00:02<00:00, 44.44it/s]\u001b[A\u001b[A\n",
      "\n",
      " 81%|████████  | 105/130 [00:02<00:00, 44.26it/s]\u001b[A\u001b[A\n",
      "\n",
      " 85%|████████▍ | 110/130 [00:02<00:00, 44.24it/s]\u001b[A\u001b[A\n",
      "\n",
      " 88%|████████▊ | 115/130 [00:02<00:00, 44.41it/s]\u001b[A\u001b[A\n",
      "\n",
      " 92%|█████████▏| 120/130 [00:02<00:00, 44.28it/s]\u001b[A\u001b[A\n",
      "\n",
      " 96%|█████████▌| 125/130 [00:02<00:00, 44.39it/s]\u001b[A\u001b[A\n",
      "\n",
      "100%|██████████| 130/130 [00:02<00:00, 44.44it/s]\u001b[A\u001b[A\n",
      "\n",
      "\n",
      "  0%|          | 0/8 [00:00<?, ?it/s]\u001b[A\u001b[A\n",
      "\n",
      " 25%|██▌       | 2/8 [00:00<00:00, 10.40it/s]\u001b[A\u001b[A"
     ]
    },
    {
     "name": "stdout",
     "output_type": "stream",
     "text": [
      "\n",
      "======== Epoch 6 / 10 ========\n",
      "\n",
      "Training...\n"
     ]
    },
    {
     "name": "stderr",
     "output_type": "stream",
     "text": [
      "\n",
      "\n",
      " 50%|█████     | 4/8 [00:00<00:00, 10.29it/s]\u001b[A\u001b[A\n",
      "\n",
      " 62%|██████▎   | 5/8 [00:00<00:00, 10.20it/s]\u001b[A\u001b[A\n",
      "\n",
      " 75%|███████▌  | 6/8 [00:00<00:00, 10.12it/s]\u001b[A\u001b[A\n",
      "\n",
      " 88%|████████▊ | 7/8 [00:00<00:00, 10.07it/s]\u001b[A\u001b[A\n",
      "\n",
      "100%|██████████| 8/8 [00:00<00:00, 10.07it/s]\u001b[A\u001b[A\n",
      "\n",
      "\n",
      "  0%|          | 0/65 [00:00<?, ?it/s]\u001b[A\u001b[A\n",
      "\n",
      "  8%|▊         | 5/65 [00:00<00:01, 45.11it/s]\u001b[A\u001b[A"
     ]
    },
    {
     "name": "stdout",
     "output_type": "stream",
     "text": [
      "avg_train_loss 0.21067554224282503\n",
      "train_f1Score 0.9523809523809523\n",
      "train_accuracy 0.953125\n",
      "\n",
      "Running Validation...\n"
     ]
    },
    {
     "name": "stderr",
     "output_type": "stream",
     "text": [
      "\n",
      "\n",
      " 15%|█▌        | 10/65 [00:00<00:01, 45.07it/s]\u001b[A\u001b[A\n",
      "\n",
      " 23%|██▎       | 15/65 [00:00<00:01, 44.95it/s]\u001b[A\u001b[A\n",
      "\n",
      " 31%|███       | 20/65 [00:00<00:01, 44.73it/s]\u001b[A\u001b[A\n",
      "\n",
      " 38%|███▊      | 25/65 [00:00<00:00, 44.65it/s]\u001b[A\u001b[A\n",
      "\n",
      " 46%|████▌     | 30/65 [00:00<00:00, 44.60it/s]\u001b[A\u001b[A\n",
      "\n",
      " 54%|█████▍    | 35/65 [00:00<00:00, 44.72it/s]\u001b[A\u001b[A\n",
      "\n",
      " 62%|██████▏   | 40/65 [00:00<00:00, 44.80it/s]\u001b[A\u001b[A\n",
      "\n",
      " 69%|██████▉   | 45/65 [00:01<00:00, 44.60it/s]\u001b[A\u001b[A\n",
      "\n",
      " 77%|███████▋  | 50/65 [00:01<00:00, 44.59it/s]\u001b[A\u001b[A\n",
      "\n",
      " 85%|████████▍ | 55/65 [00:01<00:00, 44.46it/s]\u001b[A\u001b[A\n",
      "\n",
      " 92%|█████████▏| 60/65 [00:01<00:00, 44.56it/s]\u001b[A\u001b[A\n",
      "\n",
      "100%|██████████| 65/65 [00:01<00:00, 44.55it/s]\u001b[A\u001b[A\n",
      "\n",
      "\n",
      "  0%|          | 0/130 [00:00<?, ?it/s]\u001b[A\u001b[A\n",
      "\n",
      "  4%|▍         | 5/130 [00:00<00:02, 44.71it/s]\u001b[A\u001b[A"
     ]
    },
    {
     "name": "stdout",
     "output_type": "stream",
     "text": [
      "Validation Loss:  1.0261417471445524\n",
      "Validation Accuracy:  0.6269230769230769\n",
      "Testing Model....\n"
     ]
    },
    {
     "name": "stderr",
     "output_type": "stream",
     "text": [
      "\n",
      "\n",
      "  8%|▊         | 10/130 [00:00<00:02, 44.72it/s]\u001b[A\u001b[A\n",
      "\n",
      " 12%|█▏        | 15/130 [00:00<00:02, 44.68it/s]\u001b[A\u001b[A\n",
      "\n",
      " 15%|█▌        | 20/130 [00:00<00:02, 44.44it/s]\u001b[A\u001b[A\n",
      "\n",
      " 19%|█▉        | 25/130 [00:00<00:02, 44.50it/s]\u001b[A\u001b[A\n",
      "\n",
      " 23%|██▎       | 30/130 [00:00<00:02, 44.63it/s]\u001b[A\u001b[A\n",
      "\n",
      " 27%|██▋       | 35/130 [00:00<00:02, 44.45it/s]\u001b[A\u001b[A\n",
      "\n",
      " 31%|███       | 40/130 [00:00<00:02, 44.47it/s]\u001b[A\u001b[A\n",
      "\n",
      " 35%|███▍      | 45/130 [00:01<00:01, 44.53it/s]\u001b[A\u001b[A\n",
      "\n",
      " 38%|███▊      | 50/130 [00:01<00:01, 44.57it/s]\u001b[A\u001b[A\n",
      "\n",
      " 42%|████▏     | 55/130 [00:01<00:01, 44.58it/s]\u001b[A\u001b[A\n",
      "\n",
      " 46%|████▌     | 60/130 [00:01<00:01, 44.61it/s]\u001b[A\u001b[A\n",
      "\n",
      " 50%|█████     | 65/130 [00:01<00:01, 44.61it/s]\u001b[A\u001b[A\n",
      "\n",
      " 54%|█████▍    | 70/130 [00:01<00:01, 44.63it/s]\u001b[A\u001b[A\n",
      "\n",
      " 58%|█████▊    | 75/130 [00:01<00:01, 44.64it/s]\u001b[A\u001b[A\n",
      "\n",
      " 62%|██████▏   | 80/130 [00:01<00:01, 44.65it/s]\u001b[A\u001b[A\n",
      "\n",
      " 65%|██████▌   | 85/130 [00:01<00:01, 44.65it/s]\u001b[A\u001b[A\n",
      "\n",
      " 69%|██████▉   | 90/130 [00:02<00:00, 44.66it/s]\u001b[A\u001b[A\n",
      "\n",
      " 73%|███████▎  | 95/130 [00:02<00:00, 44.66it/s]\u001b[A\u001b[A\n",
      "\n",
      " 77%|███████▋  | 100/130 [00:02<00:00, 44.66it/s]\u001b[A\u001b[A\n",
      "\n",
      " 81%|████████  | 105/130 [00:02<00:00, 44.60it/s]\u001b[A\u001b[A\n",
      "\n",
      " 85%|████████▍ | 110/130 [00:02<00:00, 44.31it/s]\u001b[A\u001b[A\n",
      "\n",
      " 88%|████████▊ | 115/130 [00:02<00:00, 44.21it/s]\u001b[A\u001b[A\n",
      "\n",
      " 92%|█████████▏| 120/130 [00:02<00:00, 44.34it/s]\u001b[A\u001b[A\n",
      "\n",
      " 96%|█████████▌| 125/130 [00:02<00:00, 44.28it/s]\u001b[A\u001b[A\n",
      "\n",
      "100%|██████████| 130/130 [00:02<00:00, 44.51it/s]\u001b[A\u001b[A\n",
      "\n",
      "\n",
      "  0%|          | 0/8 [00:00<?, ?it/s]\u001b[A\u001b[A\n",
      "\n",
      " 25%|██▌       | 2/8 [00:00<00:00, 10.44it/s]\u001b[A\u001b[A"
     ]
    },
    {
     "name": "stdout",
     "output_type": "stream",
     "text": [
      "\n",
      "======== Epoch 7 / 10 ========\n",
      "\n",
      "Training...\n"
     ]
    },
    {
     "name": "stderr",
     "output_type": "stream",
     "text": [
      "\n",
      "\n",
      " 38%|███▊      | 3/8 [00:00<00:00, 10.27it/s]\u001b[A\u001b[A\n",
      "\n",
      " 50%|█████     | 4/8 [00:00<00:00, 10.15it/s]\u001b[A\u001b[A\n",
      "\n",
      " 62%|██████▎   | 5/8 [00:00<00:00, 10.07it/s]\u001b[A\u001b[A\n",
      "\n",
      " 75%|███████▌  | 6/8 [00:00<00:00, 10.03it/s]\u001b[A\u001b[A\n",
      "\n",
      " 88%|████████▊ | 7/8 [00:00<00:00, 10.01it/s]\u001b[A\u001b[A\n",
      "\n",
      "100%|██████████| 8/8 [00:00<00:00, 10.02it/s]\u001b[A\u001b[A\n",
      "\n",
      "\n",
      "  0%|          | 0/65 [00:00<?, ?it/s]\u001b[A\u001b[A\n",
      "\n",
      "  8%|▊         | 5/65 [00:00<00:01, 45.05it/s]\u001b[A\u001b[A"
     ]
    },
    {
     "name": "stdout",
     "output_type": "stream",
     "text": [
      "avg_train_loss 0.20204181503504515\n",
      "train_f1Score 0.9523809523809523\n",
      "train_accuracy 0.953125\n",
      "\n",
      "Running Validation...\n"
     ]
    },
    {
     "name": "stderr",
     "output_type": "stream",
     "text": [
      "\n",
      "\n",
      " 15%|█▌        | 10/65 [00:00<00:01, 45.01it/s]\u001b[A\u001b[A\n",
      "\n",
      " 23%|██▎       | 15/65 [00:00<00:01, 44.87it/s]\u001b[A\u001b[A\n",
      "\n",
      " 31%|███       | 20/65 [00:00<00:01, 44.93it/s]\u001b[A\u001b[A\n",
      "\n",
      " 38%|███▊      | 25/65 [00:00<00:00, 44.70it/s]\u001b[A\u001b[A\n",
      "\n",
      " 46%|████▌     | 30/65 [00:00<00:00, 44.68it/s]\u001b[A\u001b[A\n",
      "\n",
      " 54%|█████▍    | 35/65 [00:00<00:00, 44.56it/s]\u001b[A\u001b[A\n",
      "\n",
      " 62%|██████▏   | 40/65 [00:00<00:00, 44.51it/s]\u001b[A\u001b[A\n",
      "\n",
      " 69%|██████▉   | 45/65 [00:01<00:00, 44.56it/s]\u001b[A\u001b[A\n",
      "\n",
      " 77%|███████▋  | 50/65 [00:01<00:00, 44.67it/s]\u001b[A\u001b[A\n",
      "\n",
      " 85%|████████▍ | 55/65 [00:01<00:00, 44.76it/s]\u001b[A\u001b[A\n",
      "\n",
      " 92%|█████████▏| 60/65 [00:01<00:00, 44.83it/s]\u001b[A\u001b[A\n",
      "\n",
      "100%|██████████| 65/65 [00:01<00:00, 44.69it/s]\u001b[A\u001b[A\n",
      "\n",
      "\n",
      "  0%|          | 0/130 [00:00<?, ?it/s]\u001b[A\u001b[A\n",
      "\n",
      "  4%|▍         | 5/130 [00:00<00:02, 44.38it/s]\u001b[A\u001b[A"
     ]
    },
    {
     "name": "stdout",
     "output_type": "stream",
     "text": [
      "Validation Loss:  1.0967111115272228\n",
      "Validation Accuracy:  0.6403846153846153\n",
      "Best mF1Score....\n"
     ]
    },
    {
     "name": "stderr",
     "output_type": "stream",
     "text": [
      "\n",
      "\n",
      "  8%|▊         | 10/130 [00:00<00:02, 44.37it/s]\u001b[A\u001b[A\n",
      "\n",
      " 12%|█▏        | 15/130 [00:00<00:02, 44.43it/s]\u001b[A\u001b[A\n",
      "\n",
      " 15%|█▌        | 20/130 [00:00<00:02, 44.43it/s]\u001b[A\u001b[A\n",
      "\n",
      " 19%|█▉        | 25/130 [00:00<00:02, 44.51it/s]\u001b[A\u001b[A\n",
      "\n",
      " 23%|██▎       | 30/130 [00:00<00:02, 44.44it/s]\u001b[A\u001b[A\n",
      "\n",
      " 27%|██▋       | 35/130 [00:00<00:02, 44.54it/s]\u001b[A\u001b[A\n",
      "\n",
      " 31%|███       | 40/130 [00:00<00:02, 44.66it/s]\u001b[A\u001b[A\n",
      "\n",
      " 35%|███▍      | 45/130 [00:01<00:01, 44.76it/s]\u001b[A\u001b[A\n",
      "\n",
      " 38%|███▊      | 50/130 [00:01<00:01, 44.54it/s]\u001b[A\u001b[A\n",
      "\n",
      " 42%|████▏     | 55/130 [00:01<00:01, 44.56it/s]\u001b[A\u001b[A\n",
      "\n",
      " 46%|████▌     | 60/130 [00:01<00:01, 44.47it/s]\u001b[A\u001b[A\n",
      "\n",
      " 50%|█████     | 65/130 [00:01<00:01, 44.63it/s]\u001b[A\u001b[A\n",
      "\n",
      " 54%|█████▍    | 70/130 [00:01<00:01, 44.74it/s]\u001b[A\u001b[A\n",
      "\n",
      " 58%|█████▊    | 75/130 [00:01<00:01, 44.67it/s]\u001b[A\u001b[A\n",
      "\n",
      " 62%|██████▏   | 80/130 [00:01<00:01, 44.44it/s]\u001b[A\u001b[A\n",
      "\n",
      " 65%|██████▌   | 85/130 [00:01<00:01, 44.50it/s]\u001b[A\u001b[A\n",
      "\n",
      " 69%|██████▉   | 90/130 [00:02<00:00, 44.61it/s]\u001b[A\u001b[A\n",
      "\n",
      " 73%|███████▎  | 95/130 [00:02<00:00, 44.58it/s]\u001b[A\u001b[A\n",
      "\n",
      " 77%|███████▋  | 100/130 [00:02<00:00, 44.66it/s]\u001b[A\u001b[A\n",
      "\n",
      " 81%|████████  | 105/130 [00:02<00:00, 44.77it/s]\u001b[A\u001b[A\n",
      "\n",
      " 85%|████████▍ | 110/130 [00:02<00:00, 44.79it/s]\u001b[A\u001b[A\n",
      "\n",
      " 88%|████████▊ | 115/130 [00:02<00:00, 44.56it/s]\u001b[A\u001b[A\n",
      "\n",
      " 92%|█████████▏| 120/130 [00:02<00:00, 44.54it/s]\u001b[A\u001b[A\n",
      "\n",
      " 96%|█████████▌| 125/130 [00:02<00:00, 44.50it/s]\u001b[A\u001b[A\n",
      "\n",
      "100%|██████████| 130/130 [00:02<00:00, 44.58it/s]\u001b[A\u001b[A\n",
      "\n",
      "\n",
      "  0%|          | 0/8 [00:00<?, ?it/s]\u001b[A\u001b[A\n",
      "\n",
      " 25%|██▌       | 2/8 [00:00<00:00, 10.44it/s]\u001b[A\u001b[A"
     ]
    },
    {
     "name": "stdout",
     "output_type": "stream",
     "text": [
      "\n",
      "======== Epoch 8 / 10 ========\n",
      "\n",
      "Training...\n"
     ]
    },
    {
     "name": "stderr",
     "output_type": "stream",
     "text": [
      "\n",
      "\n",
      " 50%|█████     | 4/8 [00:00<00:00, 10.38it/s]\u001b[A\u001b[A\n",
      "\n",
      " 75%|███████▌  | 6/8 [00:00<00:00, 10.33it/s]\u001b[A\u001b[A\n",
      "\n",
      "100%|██████████| 8/8 [00:00<00:00, 10.25it/s]\u001b[A\u001b[A\n",
      "\n",
      "\n",
      "  0%|          | 0/65 [00:00<?, ?it/s]\u001b[A\u001b[A\n",
      "\n",
      "  8%|▊         | 5/65 [00:00<00:01, 45.64it/s]\u001b[A\u001b[A"
     ]
    },
    {
     "name": "stdout",
     "output_type": "stream",
     "text": [
      "avg_train_loss 0.12161816749721766\n",
      "train_f1Score 0.9841269841269841\n",
      "train_accuracy 0.984375\n",
      "\n",
      "Running Validation...\n"
     ]
    },
    {
     "name": "stderr",
     "output_type": "stream",
     "text": [
      "\n",
      "\n",
      " 15%|█▌        | 10/65 [00:00<00:01, 45.21it/s]\u001b[A\u001b[A\n",
      "\n",
      " 23%|██▎       | 15/65 [00:00<00:01, 45.14it/s]\u001b[A\u001b[A\n",
      "\n",
      " 31%|███       | 20/65 [00:00<00:01, 44.95it/s]\u001b[A\u001b[A\n",
      "\n",
      " 38%|███▊      | 25/65 [00:00<00:00, 44.90it/s]\u001b[A\u001b[A\n",
      "\n",
      " 46%|████▌     | 30/65 [00:00<00:00, 44.75it/s]\u001b[A\u001b[A\n",
      "\n",
      " 54%|█████▍    | 35/65 [00:00<00:00, 44.73it/s]\u001b[A\u001b[A\n",
      "\n",
      " 62%|██████▏   | 40/65 [00:00<00:00, 44.66it/s]\u001b[A\u001b[A\n",
      "\n",
      " 69%|██████▉   | 45/65 [00:01<00:00, 44.61it/s]\u001b[A\u001b[A\n",
      "\n",
      " 77%|███████▋  | 50/65 [00:01<00:00, 44.66it/s]\u001b[A\u001b[A\n",
      "\n",
      " 85%|████████▍ | 55/65 [00:01<00:00, 44.58it/s]\u001b[A\u001b[A\n",
      "\n",
      " 92%|█████████▏| 60/65 [00:01<00:00, 44.68it/s]\u001b[A\u001b[A\n",
      "\n",
      "100%|██████████| 65/65 [00:01<00:00, 44.63it/s]\u001b[A\u001b[A\n",
      "\n",
      "\n",
      "  0%|          | 0/130 [00:00<?, ?it/s]\u001b[A\u001b[A\n",
      "\n",
      "  4%|▍         | 5/130 [00:00<00:02, 44.84it/s]\u001b[A\u001b[A"
     ]
    },
    {
     "name": "stdout",
     "output_type": "stream",
     "text": [
      "Validation Loss:  1.1367932478968914\n",
      "Validation Accuracy:  0.6403846153846153\n",
      "Testing Model....\n"
     ]
    },
    {
     "name": "stderr",
     "output_type": "stream",
     "text": [
      "\n",
      "\n",
      "  8%|▊         | 10/130 [00:00<00:02, 44.81it/s]\u001b[A\u001b[A\n",
      "\n",
      " 12%|█▏        | 15/130 [00:00<00:02, 44.83it/s]\u001b[A\u001b[A\n",
      "\n",
      " 15%|█▌        | 20/130 [00:00<00:02, 44.64it/s]\u001b[A\u001b[A\n",
      "\n",
      " 19%|█▉        | 25/130 [00:00<00:02, 44.75it/s]\u001b[A\u001b[A\n",
      "\n",
      " 23%|██▎       | 30/130 [00:00<00:02, 44.66it/s]\u001b[A\u001b[A\n",
      "\n",
      " 27%|██▋       | 35/130 [00:00<00:02, 44.77it/s]\u001b[A\u001b[A\n",
      "\n",
      " 31%|███       | 40/130 [00:00<00:02, 44.61it/s]\u001b[A\u001b[A\n",
      "\n",
      " 35%|███▍      | 45/130 [00:01<00:01, 44.72it/s]\u001b[A\u001b[A\n",
      "\n",
      " 38%|███▊      | 50/130 [00:01<00:01, 44.76it/s]\u001b[A\u001b[A\n",
      "\n",
      " 42%|████▏     | 55/130 [00:01<00:01, 44.82it/s]\u001b[A\u001b[A\n",
      "\n",
      " 46%|████▌     | 60/130 [00:01<00:01, 44.77it/s]\u001b[A\u001b[A\n",
      "\n",
      " 50%|█████     | 65/130 [00:01<00:01, 44.64it/s]\u001b[A\u001b[A\n",
      "\n",
      " 54%|█████▍    | 70/130 [00:01<00:01, 44.65it/s]\u001b[A\u001b[A\n",
      "\n",
      " 58%|█████▊    | 75/130 [00:01<00:01, 44.64it/s]\u001b[A\u001b[A\n",
      "\n",
      " 62%|██████▏   | 80/130 [00:01<00:01, 44.65it/s]\u001b[A\u001b[A\n",
      "\n",
      " 65%|██████▌   | 85/130 [00:01<00:01, 44.50it/s]\u001b[A\u001b[A\n",
      "\n",
      " 69%|██████▉   | 90/130 [00:02<00:00, 44.65it/s]\u001b[A\u001b[A\n",
      "\n",
      " 73%|███████▎  | 95/130 [00:02<00:00, 44.74it/s]\u001b[A\u001b[A\n",
      "\n",
      " 77%|███████▋  | 100/130 [00:02<00:00, 44.81it/s]\u001b[A\u001b[A\n",
      "\n",
      " 81%|████████  | 105/130 [00:02<00:00, 44.85it/s]\u001b[A\u001b[A\n",
      "\n",
      " 85%|████████▍ | 110/130 [00:02<00:00, 44.89it/s]\u001b[A\u001b[A\n",
      "\n",
      " 88%|████████▊ | 115/130 [00:02<00:00, 44.64it/s]\u001b[A\u001b[A\n",
      "\n",
      " 92%|█████████▏| 120/130 [00:02<00:00, 44.58it/s]\u001b[A\u001b[A\n",
      "\n",
      " 96%|█████████▌| 125/130 [00:02<00:00, 44.62it/s]\u001b[A\u001b[A\n",
      "\n",
      "100%|██████████| 130/130 [00:02<00:00, 44.66it/s]\u001b[A\u001b[A\n",
      "\n",
      "\n",
      "  0%|          | 0/8 [00:00<?, ?it/s]\u001b[A\u001b[A\n",
      "\n",
      " 25%|██▌       | 2/8 [00:00<00:00, 10.39it/s]\u001b[A\u001b[A"
     ]
    },
    {
     "name": "stdout",
     "output_type": "stream",
     "text": [
      "\n",
      "======== Epoch 9 / 10 ========\n",
      "\n",
      "Training...\n"
     ]
    },
    {
     "name": "stderr",
     "output_type": "stream",
     "text": [
      "\n",
      "\n",
      " 38%|███▊      | 3/8 [00:00<00:00, 10.23it/s]\u001b[A\u001b[A\n",
      "\n",
      " 50%|█████     | 4/8 [00:00<00:00, 10.14it/s]\u001b[A\u001b[A\n",
      "\n",
      " 62%|██████▎   | 5/8 [00:00<00:00, 10.07it/s]\u001b[A\u001b[A\n",
      "\n",
      " 75%|███████▌  | 6/8 [00:00<00:00, 10.02it/s]\u001b[A\u001b[A\n",
      "\n",
      " 88%|████████▊ | 7/8 [00:00<00:00,  9.99it/s]\u001b[A\u001b[A\n",
      "\n",
      "100%|██████████| 8/8 [00:00<00:00, 10.01it/s]\u001b[A\u001b[A\n",
      "\n",
      "\n",
      "  0%|          | 0/65 [00:00<?, ?it/s]\u001b[A\u001b[A\n",
      "\n",
      "  8%|▊         | 5/65 [00:00<00:01, 44.97it/s]\u001b[A\u001b[A"
     ]
    },
    {
     "name": "stdout",
     "output_type": "stream",
     "text": [
      "avg_train_loss 0.2052679480984807\n",
      "train_f1Score 0.9538461538461539\n",
      "train_accuracy 0.953125\n",
      "\n",
      "Running Validation...\n"
     ]
    },
    {
     "name": "stderr",
     "output_type": "stream",
     "text": [
      "\n",
      "\n",
      " 15%|█▌        | 10/65 [00:00<00:01, 44.94it/s]\u001b[A\u001b[A\n",
      "\n",
      " 23%|██▎       | 15/65 [00:00<00:01, 44.94it/s]\u001b[A\u001b[A\n",
      "\n",
      " 31%|███       | 20/65 [00:00<00:01, 44.90it/s]\u001b[A\u001b[A\n",
      "\n",
      " 38%|███▊      | 25/65 [00:00<00:00, 44.92it/s]\u001b[A\u001b[A\n",
      "\n",
      " 46%|████▌     | 30/65 [00:00<00:00, 44.89it/s]\u001b[A\u001b[A\n",
      "\n",
      " 54%|█████▍    | 35/65 [00:00<00:00, 44.91it/s]\u001b[A\u001b[A\n",
      "\n",
      " 62%|██████▏   | 40/65 [00:00<00:00, 44.85it/s]\u001b[A\u001b[A\n",
      "\n",
      " 69%|██████▉   | 45/65 [00:01<00:00, 44.87it/s]\u001b[A\u001b[A\n",
      "\n",
      " 77%|███████▋  | 50/65 [00:01<00:00, 44.76it/s]\u001b[A\u001b[A\n",
      "\n",
      " 85%|████████▍ | 55/65 [00:01<00:00, 44.83it/s]\u001b[A\u001b[A\n",
      "\n",
      " 92%|█████████▏| 60/65 [00:01<00:00, 44.84it/s]\u001b[A\u001b[A\n",
      "\n",
      "100%|██████████| 65/65 [00:01<00:00, 44.80it/s]\u001b[A\u001b[A\n",
      "\n",
      "\n",
      "  0%|          | 0/8 [00:00<?, ?it/s]\u001b[A\u001b[A\n",
      "\n",
      " 25%|██▌       | 2/8 [00:00<00:00, 10.45it/s]\u001b[A\u001b[A"
     ]
    },
    {
     "name": "stdout",
     "output_type": "stream",
     "text": [
      "Validation Loss:  1.1457230875125297\n",
      "Validation Accuracy:  0.6288461538461538\n",
      "\n",
      "======== Epoch 10 / 10 ========\n",
      "\n",
      "Training...\n"
     ]
    },
    {
     "name": "stderr",
     "output_type": "stream",
     "text": [
      "\n",
      "\n",
      " 50%|█████     | 4/8 [00:00<00:00, 10.31it/s]\u001b[A\u001b[A\n",
      "\n",
      " 62%|██████▎   | 5/8 [00:00<00:00, 10.20it/s]\u001b[A\u001b[A\n",
      "\n",
      " 75%|███████▌  | 6/8 [00:00<00:00, 10.11it/s]\u001b[A\u001b[A\n",
      "\n",
      " 88%|████████▊ | 7/8 [00:00<00:00, 10.06it/s]\u001b[A\u001b[A\n",
      "\n",
      "100%|██████████| 8/8 [00:00<00:00, 10.06it/s]\u001b[A\u001b[A\n",
      "\n",
      "\n",
      "  0%|          | 0/65 [00:00<?, ?it/s]\u001b[A\u001b[A\n",
      "\n",
      "  8%|▊         | 5/65 [00:00<00:01, 45.03it/s]\u001b[A\u001b[A"
     ]
    },
    {
     "name": "stdout",
     "output_type": "stream",
     "text": [
      "avg_train_loss 0.12175016291439533\n",
      "train_f1Score 0.9841269841269841\n",
      "train_accuracy 0.984375\n",
      "\n",
      "Running Validation...\n"
     ]
    },
    {
     "name": "stderr",
     "output_type": "stream",
     "text": [
      "\n",
      "\n",
      " 15%|█▌        | 10/65 [00:00<00:01, 44.98it/s]\u001b[A\u001b[A\n",
      "\n",
      " 23%|██▎       | 15/65 [00:00<00:01, 44.97it/s]\u001b[A\u001b[A\n",
      "\n",
      " 31%|███       | 20/65 [00:00<00:01, 44.96it/s]\u001b[A\u001b[A\n",
      "\n",
      " 38%|███▊      | 25/65 [00:00<00:00, 44.95it/s]\u001b[A\u001b[A\n",
      "\n",
      " 46%|████▌     | 30/65 [00:00<00:00, 44.89it/s]\u001b[A\u001b[A\n",
      "\n",
      " 54%|█████▍    | 35/65 [00:00<00:00, 44.90it/s]\u001b[A\u001b[A\n",
      "\n",
      " 62%|██████▏   | 40/65 [00:00<00:00, 44.82it/s]\u001b[A\u001b[A\n",
      "\n",
      " 69%|██████▉   | 45/65 [00:01<00:00, 44.84it/s]\u001b[A\u001b[A\n",
      "\n",
      " 77%|███████▋  | 50/65 [00:01<00:00, 44.74it/s]\u001b[A\u001b[A\n",
      "\n",
      " 85%|████████▍ | 55/65 [00:01<00:00, 44.81it/s]\u001b[A\u001b[A\n",
      "\n",
      " 92%|█████████▏| 60/65 [00:01<00:00, 44.84it/s]\u001b[A\u001b[A\n",
      "\n",
      "100%|██████████| 65/65 [00:01<00:00, 44.82it/s]\u001b[A\u001b[A\n",
      "\n",
      "\n",
      "  0%|          | 0/130 [00:00<?, ?it/s]\u001b[A\u001b[A\n",
      "\n",
      "  4%|▍         | 5/130 [00:00<00:02, 45.18it/s]\u001b[A\u001b[A"
     ]
    },
    {
     "name": "stdout",
     "output_type": "stream",
     "text": [
      "Validation Loss:  1.147364509334931\n",
      "Validation Accuracy:  0.6269230769230769\n",
      "Testing Model....\n"
     ]
    },
    {
     "name": "stderr",
     "output_type": "stream",
     "text": [
      "\n",
      "\n",
      "  8%|▊         | 10/130 [00:00<00:02, 44.95it/s]\u001b[A\u001b[A\n",
      "\n",
      " 12%|█▏        | 15/130 [00:00<00:02, 44.90it/s]\u001b[A\u001b[A\n",
      "\n",
      " 15%|█▌        | 20/130 [00:00<00:02, 44.93it/s]\u001b[A\u001b[A\n",
      "\n",
      " 19%|█▉        | 25/130 [00:00<00:02, 44.82it/s]\u001b[A\u001b[A\n",
      "\n",
      " 23%|██▎       | 30/130 [00:00<00:02, 44.84it/s]\u001b[A\u001b[A\n",
      "\n",
      " 27%|██▋       | 35/130 [00:00<00:02, 44.80it/s]\u001b[A\u001b[A\n",
      "\n",
      " 31%|███       | 40/130 [00:00<00:02, 44.81it/s]\u001b[A\u001b[A\n",
      "\n",
      " 35%|███▍      | 45/130 [00:01<00:01, 44.77it/s]\u001b[A\u001b[A\n",
      "\n",
      " 38%|███▊      | 50/130 [00:01<00:01, 44.74it/s]\u001b[A\u001b[A\n",
      "\n",
      " 42%|████▏     | 55/130 [00:01<00:01, 44.70it/s]\u001b[A\u001b[A\n",
      "\n",
      " 46%|████▌     | 60/130 [00:01<00:01, 44.78it/s]\u001b[A\u001b[A\n",
      "\n",
      " 50%|█████     | 65/130 [00:01<00:01, 44.73it/s]\u001b[A\u001b[A\n",
      "\n",
      " 54%|█████▍    | 70/130 [00:01<00:01, 44.78it/s]\u001b[A\u001b[A\n",
      "\n",
      " 58%|█████▊    | 75/130 [00:01<00:01, 44.84it/s]\u001b[A\u001b[A\n",
      "\n",
      " 62%|██████▏   | 80/130 [00:01<00:01, 44.79it/s]\u001b[A\u001b[A\n",
      "\n",
      " 65%|██████▌   | 85/130 [00:01<00:01, 44.81it/s]\u001b[A\u001b[A\n",
      "\n",
      " 69%|██████▉   | 90/130 [00:02<00:00, 44.78it/s]\u001b[A\u001b[A\n",
      "\n",
      " 73%|███████▎  | 95/130 [00:02<00:00, 44.75it/s]\u001b[A\u001b[A\n",
      "\n",
      " 77%|███████▋  | 100/130 [00:02<00:00, 44.72it/s]\u001b[A\u001b[A\n",
      "\n",
      " 81%|████████  | 105/130 [00:02<00:00, 44.74it/s]\u001b[A\u001b[A\n",
      "\n",
      " 85%|████████▍ | 110/130 [00:02<00:00, 44.69it/s]\u001b[A\u001b[A\n",
      "\n",
      " 88%|████████▊ | 115/130 [00:02<00:00, 44.66it/s]\u001b[A\u001b[A\n",
      "\n",
      " 92%|█████████▏| 120/130 [00:02<00:00, 44.78it/s]\u001b[A\u001b[A\n",
      "\n",
      " 96%|█████████▌| 125/130 [00:02<00:00, 44.76it/s]\u001b[A\u001b[A\n",
      "\n",
      "100%|██████████| 130/130 [00:02<00:00, 44.75it/s]\u001b[A\u001b[A\n"
     ]
    },
    {
     "name": "stdout",
     "output_type": "stream",
     "text": [
      "Saving Test Metrics....\n",
      "Run:  3\n",
      "\tInitialising Model....\n"
     ]
    },
    {
     "name": "stderr",
     "output_type": "stream",
     "text": [
      "\n",
      "\n",
      "100%|██████████| 64/64 [00:00<00:00, 14019.71it/s]\n",
      "\n",
      "\n",
      "100%|██████████| 523/523 [00:00<00:00, 13996.18it/s]\n",
      "\n",
      "\n",
      "100%|██████████| 1047/1047 [00:00<00:00, 14284.02it/s]\n",
      "\n",
      "\n",
      "100%|██████████| 64/64 [00:00<00:00, 3795.32it/s]\n",
      "\n",
      "\n",
      "  0%|          | 0/523 [00:00<?, ?it/s]\u001b[A\u001b[A\n",
      "\n"
     ]
    },
    {
     "name": "stdout",
     "output_type": "stream",
     "text": [
      "\tLoading Dataset....\n",
      "\tTraining Starts....\n"
     ]
    },
    {
     "name": "stderr",
     "output_type": "stream",
     "text": [
      "100%|██████████| 523/523 [00:00<00:00, 3711.15it/s]\u001b[A\u001b[A\n",
      "\n",
      "\n",
      "  0%|          | 0/1047 [00:00<?, ?it/s]\u001b[A\u001b[A\n",
      "\n",
      " 37%|███▋      | 384/1047 [00:00<00:00, 3836.47it/s]\u001b[A\u001b[A\n",
      "\n",
      "100%|██████████| 1047/1047 [00:00<00:00, 3754.79it/s][A\u001b[A\n",
      "Some weights of the model checkpoint at bert-base-multilingual-cased were not used when initializing BertForSequenceClassification: ['cls.predictions.bias', 'cls.predictions.transform.dense.weight', 'cls.predictions.transform.dense.bias', 'cls.predictions.decoder.weight', 'cls.seq_relationship.weight', 'cls.seq_relationship.bias', 'cls.predictions.transform.LayerNorm.weight', 'cls.predictions.transform.LayerNorm.bias']\n",
      "- This IS expected if you are initializing BertForSequenceClassification from the checkpoint of a model trained on another task or with another architecture (e.g. initializing a BertForSequenceClassification model from a BertForPreTraining model).\n",
      "- This IS NOT expected if you are initializing BertForSequenceClassification from the checkpoint of a model that you expect to be exactly identical (initializing a BertForSequenceClassification model from a BertForSequenceClassification model).\n",
      "Some weights of BertForSequenceClassification were not initialized from the model checkpoint at bert-base-multilingual-cased and are newly initialized: ['classifier.weight', 'classifier.bias']\n",
      "You should probably TRAIN this model on a down-stream task to be able to use it for predictions and inference.\n",
      "\n",
      "\n",
      "  0%|          | 0/8 [00:00<?, ?it/s]\u001b[A\u001b[A\n",
      "\n",
      " 25%|██▌       | 2/8 [00:00<00:00, 10.36it/s]\u001b[A\u001b[A"
     ]
    },
    {
     "name": "stdout",
     "output_type": "stream",
     "text": [
      "\n",
      "======== Epoch 1 / 10 ========\n",
      "\n",
      "Training...\n"
     ]
    },
    {
     "name": "stderr",
     "output_type": "stream",
     "text": [
      "\n",
      "\n",
      " 50%|█████     | 4/8 [00:00<00:00, 10.36it/s]\u001b[A\u001b[A\n",
      "\n",
      " 75%|███████▌  | 6/8 [00:00<00:00, 10.37it/s]\u001b[A\u001b[A\n",
      "\n",
      "100%|██████████| 8/8 [00:00<00:00, 10.36it/s]\u001b[A\u001b[A\n",
      "\n",
      "\n",
      "  0%|          | 0/65 [00:00<?, ?it/s]\u001b[A\u001b[A\n",
      "\n",
      "  8%|▊         | 5/65 [00:00<00:01, 47.30it/s]\u001b[A\u001b[A"
     ]
    },
    {
     "name": "stdout",
     "output_type": "stream",
     "text": [
      "avg_train_loss 0.8967638835310936\n",
      "train_f1Score 0.42307692307692313\n",
      "train_accuracy 0.53125\n",
      "\n",
      "Running Validation...\n"
     ]
    },
    {
     "name": "stderr",
     "output_type": "stream",
     "text": [
      "\n",
      "\n",
      " 15%|█▌        | 10/65 [00:00<00:01, 46.93it/s]\u001b[A\u001b[A\n",
      "\n",
      " 23%|██▎       | 15/65 [00:00<00:01, 46.65it/s]\u001b[A\u001b[A\n",
      "\n",
      " 31%|███       | 20/65 [00:00<00:00, 46.48it/s]\u001b[A\u001b[A\n",
      "\n",
      " 38%|███▊      | 25/65 [00:00<00:00, 46.27it/s]\u001b[A\u001b[A\n",
      "\n",
      " 46%|████▌     | 30/65 [00:00<00:00, 46.15it/s]\u001b[A\u001b[A\n",
      "\n",
      " 54%|█████▍    | 35/65 [00:00<00:00, 46.09it/s]\u001b[A\u001b[A\n",
      "\n",
      " 62%|██████▏   | 40/65 [00:00<00:00, 45.84it/s]\u001b[A\u001b[A\n",
      "\n",
      " 69%|██████▉   | 45/65 [00:00<00:00, 45.61it/s]\u001b[A\u001b[A\n",
      "\n",
      " 77%|███████▋  | 50/65 [00:01<00:00, 45.67it/s]\u001b[A\u001b[A\n",
      "\n",
      " 85%|████████▍ | 55/65 [00:01<00:00, 45.75it/s]\u001b[A\u001b[A\n",
      "\n",
      " 92%|█████████▏| 60/65 [00:01<00:00, 45.78it/s]\u001b[A\u001b[A\n",
      "\n",
      "100%|██████████| 65/65 [00:01<00:00, 45.88it/s]\u001b[A\u001b[A\n",
      "\n",
      "\n",
      "  0%|          | 0/130 [00:00<?, ?it/s]\u001b[A\u001b[A\n",
      "\n",
      "  4%|▍         | 5/130 [00:00<00:02, 46.70it/s]\u001b[A\u001b[A"
     ]
    },
    {
     "name": "stdout",
     "output_type": "stream",
     "text": [
      "Validation Loss:  0.7097031139410459\n",
      "Validation Accuracy:  0.5826923076923077\n",
      "Best mF1Score....\n"
     ]
    },
    {
     "name": "stderr",
     "output_type": "stream",
     "text": [
      "\n",
      "\n",
      "  8%|▊         | 10/130 [00:00<00:02, 46.44it/s]\u001b[A\u001b[A\n",
      "\n",
      " 12%|█▏        | 15/130 [00:00<00:02, 46.28it/s]\u001b[A\u001b[A\n",
      "\n",
      " 15%|█▌        | 20/130 [00:00<00:02, 45.99it/s]\u001b[A\u001b[A\n",
      "\n",
      " 19%|█▉        | 25/130 [00:00<00:02, 45.81it/s]\u001b[A\u001b[A\n",
      "\n",
      " 23%|██▎       | 30/130 [00:00<00:02, 45.79it/s]\u001b[A\u001b[A\n",
      "\n",
      " 27%|██▋       | 35/130 [00:00<00:02, 45.81it/s]\u001b[A\u001b[A\n",
      "\n",
      " 31%|███       | 40/130 [00:00<00:01, 45.79it/s]\u001b[A\u001b[A\n",
      "\n",
      " 35%|███▍      | 45/130 [00:00<00:01, 45.77it/s]\u001b[A\u001b[A\n",
      "\n",
      " 38%|███▊      | 50/130 [00:01<00:01, 45.69it/s]\u001b[A\u001b[A\n",
      "\n",
      " 42%|████▏     | 55/130 [00:01<00:01, 45.69it/s]\u001b[A\u001b[A\n",
      "\n",
      " 46%|████▌     | 60/130 [00:01<00:01, 45.71it/s]\u001b[A\u001b[A\n",
      "\n",
      " 50%|█████     | 65/130 [00:01<00:01, 45.69it/s]\u001b[A\u001b[A\n",
      "\n",
      " 54%|█████▍    | 70/130 [00:01<00:01, 45.62it/s]\u001b[A\u001b[A\n",
      "\n",
      " 58%|█████▊    | 75/130 [00:01<00:01, 45.63it/s]\u001b[A\u001b[A\n",
      "\n",
      " 62%|██████▏   | 80/130 [00:01<00:01, 45.69it/s]\u001b[A\u001b[A\n",
      "\n",
      " 65%|██████▌   | 85/130 [00:01<00:00, 45.63it/s]\u001b[A\u001b[A\n",
      "\n",
      " 69%|██████▉   | 90/130 [00:01<00:00, 45.65it/s]\u001b[A\u001b[A\n",
      "\n",
      " 73%|███████▎  | 95/130 [00:02<00:00, 45.60it/s]\u001b[A\u001b[A\n",
      "\n",
      " 77%|███████▋  | 100/130 [00:02<00:00, 45.63it/s]\u001b[A\u001b[A\n",
      "\n",
      " 81%|████████  | 105/130 [00:02<00:00, 45.67it/s]\u001b[A\u001b[A\n",
      "\n",
      " 85%|████████▍ | 110/130 [00:02<00:00, 45.58it/s]\u001b[A\u001b[A\n",
      "\n",
      " 88%|████████▊ | 115/130 [00:02<00:00, 45.54it/s]\u001b[A\u001b[A\n",
      "\n",
      " 92%|█████████▏| 120/130 [00:02<00:00, 45.57it/s]\u001b[A\u001b[A\n",
      "\n",
      " 96%|█████████▌| 125/130 [00:02<00:00, 45.64it/s]\u001b[A\u001b[A\n",
      "\n",
      "100%|██████████| 130/130 [00:02<00:00, 45.66it/s]\u001b[A\u001b[A\n",
      "\n",
      "\n",
      "  0%|          | 0/8 [00:00<?, ?it/s]\u001b[A\u001b[A\n",
      "\n",
      " 25%|██▌       | 2/8 [00:00<00:00, 10.72it/s]\u001b[A\u001b[A"
     ]
    },
    {
     "name": "stdout",
     "output_type": "stream",
     "text": [
      "\n",
      "======== Epoch 2 / 10 ========\n",
      "\n",
      "Training...\n"
     ]
    },
    {
     "name": "stderr",
     "output_type": "stream",
     "text": [
      "\n",
      "\n",
      " 50%|█████     | 4/8 [00:00<00:00, 10.60it/s]\u001b[A\u001b[A\n",
      "\n",
      " 75%|███████▌  | 6/8 [00:00<00:00, 10.51it/s]\u001b[A\u001b[A\n",
      "\n",
      "100%|██████████| 8/8 [00:00<00:00, 10.41it/s]\u001b[A\u001b[A\n",
      "\n",
      "\n",
      "  0%|          | 0/65 [00:00<?, ?it/s]\u001b[A\u001b[A\n",
      "\n",
      "  8%|▊         | 5/65 [00:00<00:01, 46.55it/s]\u001b[A\u001b[A"
     ]
    },
    {
     "name": "stdout",
     "output_type": "stream",
     "text": [
      "avg_train_loss 0.6458130180835724\n",
      "train_f1Score 0.6206896551724138\n",
      "train_accuracy 0.65625\n",
      "\n",
      "Running Validation...\n"
     ]
    },
    {
     "name": "stderr",
     "output_type": "stream",
     "text": [
      "\n",
      "\n",
      " 15%|█▌        | 10/65 [00:00<00:01, 46.29it/s]\u001b[A\u001b[A\n",
      "\n",
      " 23%|██▎       | 15/65 [00:00<00:01, 46.13it/s]\u001b[A\u001b[A\n",
      "\n",
      " 31%|███       | 20/65 [00:00<00:00, 45.96it/s]\u001b[A\u001b[A\n",
      "\n",
      " 38%|███▊      | 25/65 [00:00<00:00, 45.92it/s]\u001b[A\u001b[A\n",
      "\n",
      " 46%|████▌     | 30/65 [00:00<00:00, 45.88it/s]\u001b[A\u001b[A\n",
      "\n",
      " 54%|█████▍    | 35/65 [00:00<00:00, 45.75it/s]\u001b[A\u001b[A\n",
      "\n",
      " 62%|██████▏   | 40/65 [00:00<00:00, 45.50it/s]\u001b[A\u001b[A\n",
      "\n",
      " 69%|██████▉   | 45/65 [00:00<00:00, 45.36it/s]\u001b[A\u001b[A\n",
      "\n",
      " 77%|███████▋  | 50/65 [00:01<00:00, 45.36it/s]\u001b[A\u001b[A\n",
      "\n",
      " 85%|████████▍ | 55/65 [00:01<00:00, 45.48it/s]\u001b[A\u001b[A\n",
      "\n",
      " 92%|█████████▏| 60/65 [00:01<00:00, 45.52it/s]\u001b[A\u001b[A\n",
      "\n",
      "100%|██████████| 65/65 [00:01<00:00, 45.58it/s]\u001b[A\u001b[A\n",
      "\n",
      "\n",
      "  0%|          | 0/130 [00:00<?, ?it/s]\u001b[A\u001b[A\n",
      "\n",
      "  4%|▍         | 5/130 [00:00<00:02, 46.31it/s]\u001b[A\u001b[A"
     ]
    },
    {
     "name": "stdout",
     "output_type": "stream",
     "text": [
      "Validation Loss:  0.7144345673230978\n",
      "Validation Accuracy:  0.6134615384615385\n",
      "Testing Model....\n"
     ]
    },
    {
     "name": "stderr",
     "output_type": "stream",
     "text": [
      "\n",
      "\n",
      "  8%|▊         | 10/130 [00:00<00:02, 46.12it/s]\u001b[A\u001b[A\n",
      "\n",
      " 12%|█▏        | 15/130 [00:00<00:02, 45.90it/s]\u001b[A\u001b[A\n",
      "\n",
      " 15%|█▌        | 20/130 [00:00<00:02, 45.75it/s]\u001b[A\u001b[A\n",
      "\n",
      " 19%|█▉        | 25/130 [00:00<00:02, 45.64it/s]\u001b[A\u001b[A\n",
      "\n",
      " 23%|██▎       | 30/130 [00:00<00:02, 45.57it/s]\u001b[A\u001b[A\n",
      "\n",
      " 27%|██▋       | 35/130 [00:00<00:02, 45.57it/s]\u001b[A\u001b[A\n",
      "\n",
      " 31%|███       | 40/130 [00:00<00:01, 45.59it/s]\u001b[A\u001b[A\n",
      "\n",
      " 35%|███▍      | 45/130 [00:00<00:01, 45.47it/s]\u001b[A\u001b[A\n",
      "\n",
      " 38%|███▊      | 50/130 [00:01<00:01, 45.54it/s]\u001b[A\u001b[A\n",
      "\n",
      " 42%|████▏     | 55/130 [00:01<00:01, 45.52it/s]\u001b[A\u001b[A\n",
      "\n",
      " 46%|████▌     | 60/130 [00:01<00:01, 45.50it/s]\u001b[A\u001b[A\n",
      "\n",
      " 50%|█████     | 65/130 [00:01<00:01, 45.48it/s]\u001b[A\u001b[A\n",
      "\n",
      " 54%|█████▍    | 70/130 [00:01<00:01, 45.43it/s]\u001b[A\u001b[A\n",
      "\n",
      " 58%|█████▊    | 75/130 [00:01<00:01, 45.45it/s]\u001b[A\u001b[A\n",
      "\n",
      " 62%|██████▏   | 80/130 [00:01<00:01, 45.42it/s]\u001b[A\u001b[A\n",
      "\n",
      " 65%|██████▌   | 85/130 [00:01<00:00, 45.40it/s]\u001b[A\u001b[A\n",
      "\n",
      " 69%|██████▉   | 90/130 [00:01<00:00, 45.38it/s]\u001b[A\u001b[A\n",
      "\n",
      " 73%|███████▎  | 95/130 [00:02<00:00, 45.41it/s]\u001b[A\u001b[A\n",
      "\n",
      " 77%|███████▋  | 100/130 [00:02<00:00, 45.42it/s]\u001b[A\u001b[A\n",
      "\n",
      " 81%|████████  | 105/130 [00:02<00:00, 45.43it/s]\u001b[A\u001b[A\n",
      "\n",
      " 85%|████████▍ | 110/130 [00:02<00:00, 45.41it/s]\u001b[A\u001b[A\n",
      "\n",
      " 88%|████████▊ | 115/130 [00:02<00:00, 45.39it/s]\u001b[A\u001b[A\n",
      "\n",
      " 92%|█████████▏| 120/130 [00:02<00:00, 45.38it/s]\u001b[A\u001b[A\n",
      "\n",
      " 96%|█████████▌| 125/130 [00:02<00:00, 45.38it/s]\u001b[A\u001b[A\n",
      "\n",
      "100%|██████████| 130/130 [00:02<00:00, 45.45it/s]\u001b[A\u001b[A\n",
      "\n",
      "\n",
      "  0%|          | 0/130 [00:00<?, ?it/s]\u001b[A\u001b[A\n",
      "\n",
      "  4%|▍         | 5/130 [00:00<00:02, 46.21it/s]\u001b[A\u001b[A"
     ]
    },
    {
     "name": "stdout",
     "output_type": "stream",
     "text": [
      "Best mF1Score....\n"
     ]
    },
    {
     "name": "stderr",
     "output_type": "stream",
     "text": [
      "\n",
      "\n",
      "  8%|▊         | 10/130 [00:00<00:02, 45.97it/s]\u001b[A\u001b[A\n",
      "\n",
      " 12%|█▏        | 15/130 [00:00<00:02, 45.81it/s]\u001b[A\u001b[A\n",
      "\n",
      " 15%|█▌        | 20/130 [00:00<00:02, 45.73it/s]\u001b[A\u001b[A\n",
      "\n",
      " 19%|█▉        | 25/130 [00:00<00:02, 45.63it/s]\u001b[A\u001b[A\n",
      "\n",
      " 23%|██▎       | 30/130 [00:00<00:02, 45.60it/s]\u001b[A\u001b[A\n",
      "\n",
      " 27%|██▋       | 35/130 [00:00<00:02, 45.50it/s]\u001b[A\u001b[A\n",
      "\n",
      " 31%|███       | 40/130 [00:00<00:01, 45.46it/s]\u001b[A\u001b[A\n",
      "\n",
      " 35%|███▍      | 45/130 [00:00<00:01, 45.35it/s]\u001b[A\u001b[A\n",
      "\n",
      " 38%|███▊      | 50/130 [00:01<00:01, 45.32it/s]\u001b[A\u001b[A\n",
      "\n",
      " 42%|████▏     | 55/130 [00:01<00:01, 45.31it/s]\u001b[A\u001b[A\n",
      "\n",
      " 46%|████▌     | 60/130 [00:01<00:01, 45.26it/s]\u001b[A\u001b[A\n",
      "\n",
      " 50%|█████     | 65/130 [00:01<00:01, 45.26it/s]\u001b[A\u001b[A\n",
      "\n",
      " 54%|█████▍    | 70/130 [00:01<00:01, 45.27it/s]\u001b[A\u001b[A\n",
      "\n",
      " 58%|█████▊    | 75/130 [00:01<00:01, 45.28it/s]\u001b[A\u001b[A\n",
      "\n",
      " 62%|██████▏   | 80/130 [00:01<00:01, 45.28it/s]\u001b[A\u001b[A\n",
      "\n",
      " 65%|██████▌   | 85/130 [00:01<00:00, 45.17it/s]\u001b[A\u001b[A\n",
      "\n",
      " 69%|██████▉   | 90/130 [00:01<00:00, 45.20it/s]\u001b[A\u001b[A\n",
      "\n",
      " 73%|███████▎  | 95/130 [00:02<00:00, 45.22it/s]\u001b[A\u001b[A\n",
      "\n",
      " 77%|███████▋  | 100/130 [00:02<00:00, 45.24it/s]\u001b[A\u001b[A\n",
      "\n",
      " 81%|████████  | 105/130 [00:02<00:00, 45.23it/s]\u001b[A\u001b[A\n",
      "\n",
      " 85%|████████▍ | 110/130 [00:02<00:00, 45.24it/s]\u001b[A\u001b[A\n",
      "\n",
      " 88%|████████▊ | 115/130 [00:02<00:00, 45.24it/s]\u001b[A\u001b[A\n",
      "\n",
      " 92%|█████████▏| 120/130 [00:02<00:00, 45.24it/s]\u001b[A\u001b[A\n",
      "\n",
      " 96%|█████████▌| 125/130 [00:02<00:00, 45.20it/s]\u001b[A\u001b[A\n",
      "\n",
      "100%|██████████| 130/130 [00:02<00:00, 45.29it/s]\u001b[A\u001b[A\n",
      "\n",
      "\n",
      "  0%|          | 0/8 [00:00<?, ?it/s]\u001b[A\u001b[A\n",
      "\n",
      " 25%|██▌       | 2/8 [00:00<00:00, 10.66it/s]\u001b[A\u001b[A"
     ]
    },
    {
     "name": "stdout",
     "output_type": "stream",
     "text": [
      "\n",
      "======== Epoch 3 / 10 ========\n",
      "\n",
      "Training...\n"
     ]
    },
    {
     "name": "stderr",
     "output_type": "stream",
     "text": [
      "\n",
      "\n",
      " 50%|█████     | 4/8 [00:00<00:00, 10.53it/s]\u001b[A\u001b[A\n",
      "\n",
      " 75%|███████▌  | 6/8 [00:00<00:00, 10.45it/s]\u001b[A\u001b[A\n",
      "\n",
      "100%|██████████| 8/8 [00:00<00:00, 10.35it/s]\u001b[A\u001b[A\n",
      "\n",
      "\n",
      "  0%|          | 0/65 [00:00<?, ?it/s]\u001b[A\u001b[A\n",
      "\n",
      "  8%|▊         | 5/65 [00:00<00:01, 46.59it/s]\u001b[A\u001b[A"
     ]
    },
    {
     "name": "stdout",
     "output_type": "stream",
     "text": [
      "avg_train_loss 0.5654054060578346\n",
      "train_f1Score 0.6792452830188678\n",
      "train_accuracy 0.734375\n",
      "\n",
      "Running Validation...\n"
     ]
    },
    {
     "name": "stderr",
     "output_type": "stream",
     "text": [
      "\n",
      "\n",
      " 15%|█▌        | 10/65 [00:00<00:01, 46.17it/s]\u001b[A\u001b[A\n",
      "\n",
      " 23%|██▎       | 15/65 [00:00<00:01, 45.92it/s]\u001b[A\u001b[A\n",
      "\n",
      " 31%|███       | 20/65 [00:00<00:00, 45.71it/s]\u001b[A\u001b[A\n",
      "\n",
      " 38%|███▊      | 25/65 [00:00<00:00, 45.59it/s]\u001b[A\u001b[A\n",
      "\n",
      " 46%|████▌     | 30/65 [00:00<00:00, 45.50it/s]\u001b[A\u001b[A\n",
      "\n",
      " 54%|█████▍    | 35/65 [00:00<00:00, 45.44it/s]\u001b[A\u001b[A\n",
      "\n",
      " 62%|██████▏   | 40/65 [00:00<00:00, 45.21it/s]\u001b[A\u001b[A\n",
      "\n",
      " 69%|██████▉   | 45/65 [00:00<00:00, 45.10it/s]\u001b[A\u001b[A\n",
      "\n",
      " 77%|███████▋  | 50/65 [00:01<00:00, 45.16it/s]\u001b[A\u001b[A\n",
      "\n",
      " 85%|████████▍ | 55/65 [00:01<00:00, 45.22it/s]\u001b[A\u001b[A\n",
      "\n",
      " 92%|█████████▏| 60/65 [00:01<00:00, 45.23it/s]\u001b[A\u001b[A\n",
      "\n",
      "100%|██████████| 65/65 [00:01<00:00, 45.26it/s]\u001b[A\u001b[A\n",
      "\n",
      "\n",
      "  0%|          | 0/8 [00:00<?, ?it/s]\u001b[A\u001b[A\n",
      "\n",
      " 25%|██▌       | 2/8 [00:00<00:00, 10.58it/s]\u001b[A\u001b[A"
     ]
    },
    {
     "name": "stdout",
     "output_type": "stream",
     "text": [
      "Validation Loss:  0.7528855291696696\n",
      "Validation Accuracy:  0.5634615384615385\n",
      "\n",
      "======== Epoch 4 / 10 ========\n",
      "\n",
      "Training...\n"
     ]
    },
    {
     "name": "stderr",
     "output_type": "stream",
     "text": [
      "\n",
      "\n",
      " 50%|█████     | 4/8 [00:00<00:00, 10.48it/s]\u001b[A\u001b[A\n",
      "\n",
      " 75%|███████▌  | 6/8 [00:00<00:00, 10.41it/s]\u001b[A\u001b[A\n",
      "\n",
      "100%|██████████| 8/8 [00:00<00:00, 10.33it/s]\u001b[A\u001b[A\n",
      "\n",
      "\n",
      "  0%|          | 0/65 [00:00<?, ?it/s]\u001b[A\u001b[A\n",
      "\n",
      "  8%|▊         | 5/65 [00:00<00:01, 45.77it/s]\u001b[A\u001b[A"
     ]
    },
    {
     "name": "stdout",
     "output_type": "stream",
     "text": [
      "avg_train_loss 0.4702705591917038\n",
      "train_f1Score 0.8135593220338982\n",
      "train_accuracy 0.828125\n",
      "\n",
      "Running Validation...\n"
     ]
    },
    {
     "name": "stderr",
     "output_type": "stream",
     "text": [
      "\n",
      "\n",
      " 15%|█▌        | 10/65 [00:00<00:01, 45.59it/s]\u001b[A\u001b[A\n",
      "\n",
      " 23%|██▎       | 15/65 [00:00<00:01, 45.47it/s]\u001b[A\u001b[A\n",
      "\n",
      " 31%|███       | 20/65 [00:00<00:00, 45.32it/s]\u001b[A\u001b[A\n",
      "\n",
      " 38%|███▊      | 25/65 [00:00<00:00, 45.20it/s]\u001b[A\u001b[A\n",
      "\n",
      " 46%|████▌     | 30/65 [00:00<00:00, 45.13it/s]\u001b[A\u001b[A\n",
      "\n",
      " 54%|█████▍    | 35/65 [00:00<00:00, 45.10it/s]\u001b[A\u001b[A\n",
      "\n",
      " 62%|██████▏   | 40/65 [00:00<00:00, 45.03it/s]\u001b[A\u001b[A\n",
      "\n",
      " 69%|██████▉   | 45/65 [00:00<00:00, 44.97it/s]\u001b[A\u001b[A\n",
      "\n",
      " 77%|███████▋  | 50/65 [00:01<00:00, 44.97it/s]\u001b[A\u001b[A\n",
      "\n",
      " 85%|████████▍ | 55/65 [00:01<00:00, 44.95it/s]\u001b[A\u001b[A\n",
      "\n",
      " 92%|█████████▏| 60/65 [00:01<00:00, 44.94it/s]\u001b[A\u001b[A\n",
      "\n",
      "100%|██████████| 65/65 [00:01<00:00, 45.00it/s]\u001b[A\u001b[A\n",
      "\n",
      "\n",
      "  0%|          | 0/130 [00:00<?, ?it/s]\u001b[A\u001b[A\n",
      "\n",
      "  4%|▍         | 5/130 [00:00<00:02, 45.59it/s]\u001b[A\u001b[A"
     ]
    },
    {
     "name": "stdout",
     "output_type": "stream",
     "text": [
      "Validation Loss:  0.8729491479121722\n",
      "Validation Accuracy:  0.6019230769230769\n",
      "Testing Model....\n"
     ]
    },
    {
     "name": "stderr",
     "output_type": "stream",
     "text": [
      "\n",
      "\n",
      "  8%|▊         | 10/130 [00:00<00:02, 45.39it/s]\u001b[A\u001b[A\n",
      "\n",
      " 12%|█▏        | 15/130 [00:00<00:02, 45.33it/s]\u001b[A\u001b[A\n",
      "\n",
      " 15%|█▌        | 20/130 [00:00<00:02, 45.22it/s]\u001b[A\u001b[A\n",
      "\n",
      " 19%|█▉        | 25/130 [00:00<00:02, 45.16it/s]\u001b[A\u001b[A\n",
      "\n",
      " 23%|██▎       | 30/130 [00:00<00:02, 45.14it/s]\u001b[A\u001b[A\n",
      "\n",
      " 27%|██▋       | 35/130 [00:00<00:02, 45.06it/s]\u001b[A\u001b[A\n",
      "\n",
      " 31%|███       | 40/130 [00:00<00:01, 45.01it/s]\u001b[A\u001b[A\n",
      "\n",
      " 35%|███▍      | 45/130 [00:00<00:01, 45.00it/s]\u001b[A\u001b[A\n",
      "\n",
      " 38%|███▊      | 50/130 [00:01<00:01, 44.98it/s]\u001b[A\u001b[A\n",
      "\n",
      " 42%|████▏     | 55/130 [00:01<00:01, 44.94it/s]\u001b[A\u001b[A\n",
      "\n",
      " 46%|████▌     | 60/130 [00:01<00:01, 44.95it/s]\u001b[A\u001b[A\n",
      "\n",
      " 50%|█████     | 65/130 [00:01<00:01, 44.91it/s]\u001b[A\u001b[A\n",
      "\n",
      " 54%|█████▍    | 70/130 [00:01<00:01, 44.93it/s]\u001b[A\u001b[A\n",
      "\n",
      " 58%|█████▊    | 75/130 [00:01<00:01, 44.95it/s]\u001b[A\u001b[A\n",
      "\n",
      " 62%|██████▏   | 80/130 [00:01<00:01, 45.01it/s]\u001b[A\u001b[A\n",
      "\n",
      " 65%|██████▌   | 85/130 [00:01<00:01, 44.99it/s]\u001b[A\u001b[A\n",
      "\n",
      " 69%|██████▉   | 90/130 [00:02<00:00, 44.87it/s]\u001b[A\u001b[A\n",
      "\n",
      " 73%|███████▎  | 95/130 [00:02<00:00, 44.86it/s]\u001b[A\u001b[A\n",
      "\n",
      " 77%|███████▋  | 100/130 [00:02<00:00, 44.84it/s]\u001b[A\u001b[A\n",
      "\n",
      " 81%|████████  | 105/130 [00:02<00:00, 44.88it/s]\u001b[A\u001b[A\n",
      "\n",
      " 85%|████████▍ | 110/130 [00:02<00:00, 44.88it/s]\u001b[A\u001b[A\n",
      "\n",
      " 88%|████████▊ | 115/130 [00:02<00:00, 44.83it/s]\u001b[A\u001b[A\n",
      "\n",
      " 92%|█████████▏| 120/130 [00:02<00:00, 44.83it/s]\u001b[A\u001b[A\n",
      "\n",
      " 96%|█████████▌| 125/130 [00:02<00:00, 44.78it/s]\u001b[A\u001b[A\n",
      "\n",
      "100%|██████████| 130/130 [00:02<00:00, 44.92it/s]\u001b[A\u001b[A\n",
      "\n",
      "\n",
      "  0%|          | 0/8 [00:00<?, ?it/s]\u001b[A\u001b[A\n",
      "\n",
      " 25%|██▌       | 2/8 [00:00<00:00, 10.46it/s]\u001b[A\u001b[A"
     ]
    },
    {
     "name": "stdout",
     "output_type": "stream",
     "text": [
      "\n",
      "======== Epoch 5 / 10 ========\n",
      "\n",
      "Training...\n"
     ]
    },
    {
     "name": "stderr",
     "output_type": "stream",
     "text": [
      "\n",
      "\n",
      " 50%|█████     | 4/8 [00:00<00:00, 10.38it/s]\u001b[A\u001b[A\n",
      "\n",
      " 75%|███████▌  | 6/8 [00:00<00:00, 10.34it/s]\u001b[A\u001b[A\n",
      "\n",
      "100%|██████████| 8/8 [00:00<00:00, 10.27it/s]\u001b[A\u001b[A\n",
      "\n",
      "\n",
      "  0%|          | 0/65 [00:00<?, ?it/s]\u001b[A\u001b[A\n",
      "\n",
      "  8%|▊         | 5/65 [00:00<00:01, 46.04it/s]\u001b[A\u001b[A"
     ]
    },
    {
     "name": "stdout",
     "output_type": "stream",
     "text": [
      "avg_train_loss 0.6580209620296955\n",
      "train_f1Score 0.775\n",
      "train_accuracy 0.71875\n",
      "\n",
      "Running Validation...\n"
     ]
    },
    {
     "name": "stderr",
     "output_type": "stream",
     "text": [
      "\n",
      "\n",
      " 15%|█▌        | 10/65 [00:00<00:01, 45.73it/s]\u001b[A\u001b[A\n",
      "\n",
      " 23%|██▎       | 15/65 [00:00<00:01, 45.56it/s]\u001b[A\u001b[A\n",
      "\n",
      " 31%|███       | 20/65 [00:00<00:00, 45.35it/s]\u001b[A\u001b[A\n",
      "\n",
      " 38%|███▊      | 25/65 [00:00<00:00, 45.24it/s]\u001b[A\u001b[A\n",
      "\n",
      " 46%|████▌     | 30/65 [00:00<00:00, 45.13it/s]\u001b[A\u001b[A\n",
      "\n",
      " 54%|█████▍    | 35/65 [00:00<00:00, 45.07it/s]\u001b[A\u001b[A\n",
      "\n",
      " 62%|██████▏   | 40/65 [00:00<00:00, 44.87it/s]\u001b[A\u001b[A\n",
      "\n",
      " 69%|██████▉   | 45/65 [00:01<00:00, 44.78it/s]\u001b[A\u001b[A\n",
      "\n",
      " 77%|███████▋  | 50/65 [00:01<00:00, 44.81it/s]\u001b[A\u001b[A\n",
      "\n",
      " 85%|████████▍ | 55/65 [00:01<00:00, 44.85it/s]\u001b[A\u001b[A\n",
      "\n",
      " 92%|█████████▏| 60/65 [00:01<00:00, 44.81it/s]\u001b[A\u001b[A\n",
      "\n",
      "100%|██████████| 65/65 [00:01<00:00, 44.91it/s]\u001b[A\u001b[A\n",
      "\n",
      "\n",
      "  0%|          | 0/8 [00:00<?, ?it/s]\u001b[A\u001b[A\n",
      "\n",
      " 25%|██▌       | 2/8 [00:00<00:00, 10.49it/s]\u001b[A\u001b[A"
     ]
    },
    {
     "name": "stdout",
     "output_type": "stream",
     "text": [
      "Validation Loss:  0.9457524946102729\n",
      "Validation Accuracy:  0.5711538461538461\n",
      "\n",
      "======== Epoch 6 / 10 ========\n",
      "\n",
      "Training...\n"
     ]
    },
    {
     "name": "stderr",
     "output_type": "stream",
     "text": [
      "\n",
      "\n",
      " 50%|█████     | 4/8 [00:00<00:00, 10.40it/s]\u001b[A\u001b[A\n",
      "\n",
      " 75%|███████▌  | 6/8 [00:00<00:00, 10.36it/s]\u001b[A\u001b[A\n",
      "\n",
      "100%|██████████| 8/8 [00:00<00:00, 10.28it/s]\u001b[A\u001b[A\n",
      "\n",
      "\n",
      "  0%|          | 0/65 [00:00<?, ?it/s]\u001b[A\u001b[A\n",
      "\n",
      "  8%|▊         | 5/65 [00:00<00:01, 45.45it/s]\u001b[A\u001b[A"
     ]
    },
    {
     "name": "stdout",
     "output_type": "stream",
     "text": [
      "avg_train_loss 0.4196826936677098\n",
      "train_f1Score 0.8450704225352113\n",
      "train_accuracy 0.828125\n",
      "\n",
      "Running Validation...\n"
     ]
    },
    {
     "name": "stderr",
     "output_type": "stream",
     "text": [
      "\n",
      "\n",
      " 15%|█▌        | 10/65 [00:00<00:01, 45.17it/s]\u001b[A\u001b[A\n",
      "\n",
      " 23%|██▎       | 15/65 [00:00<00:01, 45.14it/s]\u001b[A\u001b[A\n",
      "\n",
      " 31%|███       | 20/65 [00:00<00:01, 44.97it/s]\u001b[A\u001b[A\n",
      "\n",
      " 38%|███▊      | 25/65 [00:00<00:00, 44.86it/s]\u001b[A\u001b[A\n",
      "\n",
      " 46%|████▌     | 30/65 [00:00<00:00, 44.78it/s]\u001b[A\u001b[A\n",
      "\n",
      " 54%|█████▍    | 35/65 [00:00<00:00, 44.84it/s]\u001b[A\u001b[A\n",
      "\n",
      " 62%|██████▏   | 40/65 [00:00<00:00, 44.58it/s]\u001b[A\u001b[A\n",
      "\n",
      " 69%|██████▉   | 45/65 [00:01<00:00, 44.59it/s]\u001b[A\u001b[A\n",
      "\n",
      " 77%|███████▋  | 50/65 [00:01<00:00, 44.50it/s]\u001b[A\u001b[A\n",
      "\n",
      " 85%|████████▍ | 55/65 [00:01<00:00, 44.64it/s]\u001b[A\u001b[A\n",
      "\n",
      " 92%|█████████▏| 60/65 [00:01<00:00, 44.74it/s]\u001b[A\u001b[A\n",
      "\n",
      "100%|██████████| 65/65 [00:01<00:00, 44.68it/s]\u001b[A\u001b[A\n",
      "\n",
      "\n",
      "  0%|          | 0/130 [00:00<?, ?it/s]\u001b[A\u001b[A\n",
      "\n",
      "  4%|▍         | 5/130 [00:00<00:02, 44.69it/s]\u001b[A\u001b[A"
     ]
    },
    {
     "name": "stdout",
     "output_type": "stream",
     "text": [
      "Validation Loss:  0.6786621566002186\n",
      "Validation Accuracy:  0.6557692307692308\n",
      "Testing Model....\n"
     ]
    },
    {
     "name": "stderr",
     "output_type": "stream",
     "text": [
      "\n",
      "\n",
      "  8%|▊         | 10/130 [00:00<00:02, 44.65it/s]\u001b[A\u001b[A\n",
      "\n",
      " 12%|█▏        | 15/130 [00:00<00:02, 44.69it/s]\u001b[A\u001b[A\n",
      "\n",
      " 15%|█▌        | 20/130 [00:00<00:02, 44.52it/s]\u001b[A\u001b[A\n",
      "\n",
      " 19%|█▉        | 25/130 [00:00<00:02, 44.60it/s]\u001b[A\u001b[A\n",
      "\n",
      " 23%|██▎       | 30/130 [00:00<00:02, 44.41it/s]\u001b[A\u001b[A\n",
      "\n",
      " 27%|██▋       | 35/130 [00:00<00:02, 44.43it/s]\u001b[A\u001b[A\n",
      "\n",
      " 31%|███       | 40/130 [00:00<00:02, 44.43it/s]\u001b[A\u001b[A\n",
      "\n",
      " 35%|███▍      | 45/130 [00:01<00:01, 44.49it/s]\u001b[A\u001b[A\n",
      "\n",
      " 38%|███▊      | 50/130 [00:01<00:01, 44.38it/s]\u001b[A\u001b[A\n",
      "\n",
      " 42%|████▏     | 55/130 [00:01<00:01, 44.48it/s]\u001b[A\u001b[A\n",
      "\n",
      " 46%|████▌     | 60/130 [00:01<00:01, 44.54it/s]\u001b[A\u001b[A\n",
      "\n",
      " 50%|█████     | 65/130 [00:01<00:01, 44.57it/s]\u001b[A\u001b[A\n",
      "\n",
      " 54%|█████▍    | 70/130 [00:01<00:01, 44.62it/s]\u001b[A\u001b[A\n",
      "\n",
      " 58%|█████▊    | 75/130 [00:01<00:01, 44.36it/s]\u001b[A\u001b[A\n",
      "\n",
      " 62%|██████▏   | 80/130 [00:01<00:01, 44.34it/s]\u001b[A\u001b[A\n",
      "\n",
      " 65%|██████▌   | 85/130 [00:01<00:01, 44.24it/s]\u001b[A\u001b[A\n",
      "\n",
      " 69%|██████▉   | 90/130 [00:02<00:00, 44.37it/s]\u001b[A\u001b[A\n",
      "\n",
      " 73%|███████▎  | 95/130 [00:02<00:00, 44.45it/s]\u001b[A\u001b[A\n",
      "\n",
      " 77%|███████▋  | 100/130 [00:02<00:00, 44.50it/s]\u001b[A\u001b[A\n",
      "\n",
      " 81%|████████  | 105/130 [00:02<00:00, 44.54it/s]\u001b[A\u001b[A\n",
      "\n",
      " 85%|████████▍ | 110/130 [00:02<00:00, 44.39it/s]\u001b[A\u001b[A\n",
      "\n",
      " 88%|████████▊ | 115/130 [00:02<00:00, 44.28it/s]\u001b[A\u001b[A\n",
      "\n",
      " 92%|█████████▏| 120/130 [00:02<00:00, 44.24it/s]\u001b[A\u001b[A\n",
      "\n",
      " 96%|█████████▌| 125/130 [00:02<00:00, 44.43it/s]\u001b[A\u001b[A\n",
      "\n",
      "100%|██████████| 130/130 [00:02<00:00, 44.39it/s]\u001b[A\u001b[A\n",
      "\n",
      "\n",
      "  0%|          | 0/130 [00:00<?, ?it/s]\u001b[A\u001b[A\n",
      "\n",
      "  4%|▍         | 5/130 [00:00<00:02, 44.66it/s]\u001b[A\u001b[A"
     ]
    },
    {
     "name": "stdout",
     "output_type": "stream",
     "text": [
      "Best mF1Score....\n"
     ]
    },
    {
     "name": "stderr",
     "output_type": "stream",
     "text": [
      "\n",
      "\n",
      "  8%|▊         | 10/130 [00:00<00:02, 44.61it/s]\u001b[A\u001b[A\n",
      "\n",
      " 12%|█▏        | 15/130 [00:00<00:02, 44.59it/s]\u001b[A\u001b[A\n",
      "\n",
      " 15%|█▌        | 20/130 [00:00<00:02, 44.31it/s]\u001b[A\u001b[A\n",
      "\n",
      " 19%|█▉        | 25/130 [00:00<00:02, 44.26it/s]\u001b[A\u001b[A\n",
      "\n",
      " 23%|██▎       | 30/130 [00:00<00:02, 44.46it/s]\u001b[A\u001b[A\n",
      "\n",
      " 27%|██▋       | 35/130 [00:00<00:02, 44.38it/s]\u001b[A\u001b[A\n",
      "\n",
      " 31%|███       | 40/130 [00:00<00:02, 44.34it/s]\u001b[A\u001b[A\n",
      "\n",
      " 35%|███▍      | 45/130 [00:01<00:01, 44.22it/s]\u001b[A\u001b[A\n",
      "\n",
      " 38%|███▊      | 50/130 [00:01<00:01, 44.33it/s]\u001b[A\u001b[A\n",
      "\n",
      " 42%|████▏     | 55/130 [00:01<00:01, 44.44it/s]\u001b[A\u001b[A\n",
      "\n",
      " 46%|████▌     | 60/130 [00:01<00:01, 44.37it/s]\u001b[A\u001b[A\n",
      "\n",
      " 50%|█████     | 65/130 [00:01<00:01, 44.14it/s]\u001b[A\u001b[A\n",
      "\n",
      " 54%|█████▍    | 70/130 [00:01<00:01, 44.12it/s]\u001b[A\u001b[A\n",
      "\n",
      " 58%|█████▊    | 75/130 [00:01<00:01, 44.25it/s]\u001b[A\u001b[A\n",
      "\n",
      " 62%|██████▏   | 80/130 [00:01<00:01, 44.19it/s]\u001b[A\u001b[A\n",
      "\n",
      " 65%|██████▌   | 85/130 [00:01<00:01, 44.17it/s]\u001b[A\u001b[A\n",
      "\n",
      " 69%|██████▉   | 90/130 [00:02<00:00, 44.10it/s]\u001b[A\u001b[A\n",
      "\n",
      " 73%|███████▎  | 95/130 [00:02<00:00, 44.23it/s]\u001b[A\u001b[A\n",
      "\n",
      " 77%|███████▋  | 100/130 [00:02<00:00, 44.05it/s]\u001b[A\u001b[A\n",
      "\n",
      " 81%|████████  | 105/130 [00:02<00:00, 43.98it/s]\u001b[A\u001b[A\n",
      "\n",
      " 85%|████████▍ | 110/130 [00:02<00:00, 44.14it/s]\u001b[A\u001b[A\n",
      "\n",
      " 88%|████████▊ | 115/130 [00:02<00:00, 44.15it/s]\u001b[A\u001b[A\n",
      "\n",
      " 92%|█████████▏| 120/130 [00:02<00:00, 44.03it/s]\u001b[A\u001b[A\n",
      "\n",
      " 96%|█████████▌| 125/130 [00:02<00:00, 44.06it/s]\u001b[A\u001b[A\n",
      "\n",
      "100%|██████████| 130/130 [00:02<00:00, 44.21it/s]\u001b[A\u001b[A\n",
      "\n",
      "\n",
      "  0%|          | 0/8 [00:00<?, ?it/s]\u001b[A\u001b[A\n",
      "\n",
      " 25%|██▌       | 2/8 [00:00<00:00, 10.34it/s]\u001b[A\u001b[A"
     ]
    },
    {
     "name": "stdout",
     "output_type": "stream",
     "text": [
      "\n",
      "======== Epoch 7 / 10 ========\n",
      "\n",
      "Training...\n"
     ]
    },
    {
     "name": "stderr",
     "output_type": "stream",
     "text": [
      "\n",
      "\n",
      " 38%|███▊      | 3/8 [00:00<00:00, 10.20it/s]\u001b[A\u001b[A\n",
      "\n",
      " 50%|█████     | 4/8 [00:00<00:00, 10.09it/s]\u001b[A\u001b[A\n",
      "\n",
      " 62%|██████▎   | 5/8 [00:00<00:00, 10.03it/s]\u001b[A\u001b[A\n",
      "\n",
      " 75%|███████▌  | 6/8 [00:00<00:00,  9.98it/s]\u001b[A\u001b[A\n",
      "\n",
      " 88%|████████▊ | 7/8 [00:00<00:00,  9.94it/s]\u001b[A\u001b[A\n",
      "\n",
      "100%|██████████| 8/8 [00:00<00:00,  9.98it/s]\u001b[A\u001b[A\n",
      "\n",
      "\n",
      "  0%|          | 0/65 [00:00<?, ?it/s]\u001b[A\u001b[A\n",
      "\n",
      "  8%|▊         | 5/65 [00:00<00:01, 44.86it/s]\u001b[A\u001b[A"
     ]
    },
    {
     "name": "stdout",
     "output_type": "stream",
     "text": [
      "avg_train_loss 0.27852421440184116\n",
      "train_f1Score 0.923076923076923\n",
      "train_accuracy 0.921875\n",
      "\n",
      "Running Validation...\n"
     ]
    },
    {
     "name": "stderr",
     "output_type": "stream",
     "text": [
      "\n",
      "\n",
      " 15%|█▌        | 10/65 [00:00<00:01, 44.85it/s]\u001b[A\u001b[A\n",
      "\n",
      " 23%|██▎       | 15/65 [00:00<00:01, 44.60it/s]\u001b[A\u001b[A\n",
      "\n",
      " 31%|███       | 20/65 [00:00<00:01, 44.60it/s]\u001b[A\u001b[A\n",
      "\n",
      " 38%|███▊      | 25/65 [00:00<00:00, 44.52it/s]\u001b[A\u001b[A\n",
      "\n",
      " 46%|████▌     | 30/65 [00:00<00:00, 44.51it/s]\u001b[A\u001b[A\n",
      "\n",
      " 54%|█████▍    | 35/65 [00:00<00:00, 44.34it/s]\u001b[A\u001b[A\n",
      "\n",
      " 62%|██████▏   | 40/65 [00:00<00:00, 44.41it/s]\u001b[A\u001b[A\n",
      "\n",
      " 69%|██████▉   | 45/65 [00:01<00:00, 44.52it/s]\u001b[A\u001b[A\n",
      "\n",
      " 77%|███████▋  | 50/65 [00:01<00:00, 44.41it/s]\u001b[A\u001b[A\n",
      "\n",
      " 85%|████████▍ | 55/65 [00:01<00:00, 44.55it/s]\u001b[A\u001b[A\n",
      "\n",
      " 92%|█████████▏| 60/65 [00:01<00:00, 44.36it/s]\u001b[A\u001b[A\n",
      "\n",
      "100%|██████████| 65/65 [00:01<00:00, 44.44it/s]\u001b[A\u001b[A\n",
      "\n",
      "\n",
      "  0%|          | 0/130 [00:00<?, ?it/s]\u001b[A\u001b[A\n",
      "\n",
      "  4%|▍         | 5/130 [00:00<00:02, 44.52it/s]\u001b[A\u001b[A"
     ]
    },
    {
     "name": "stdout",
     "output_type": "stream",
     "text": [
      "Validation Loss:  0.6915503634856297\n",
      "Validation Accuracy:  0.6653846153846154\n",
      "Best mF1Score....\n"
     ]
    },
    {
     "name": "stderr",
     "output_type": "stream",
     "text": [
      "\n",
      "\n",
      "  8%|▊         | 10/130 [00:00<00:02, 44.48it/s]\u001b[A\u001b[A\n",
      "\n",
      " 12%|█▏        | 15/130 [00:00<00:02, 44.46it/s]\u001b[A\u001b[A\n",
      "\n",
      " 15%|█▌        | 20/130 [00:00<00:02, 44.41it/s]\u001b[A\u001b[A\n",
      "\n",
      " 19%|█▉        | 25/130 [00:00<00:02, 44.39it/s]\u001b[A\u001b[A\n",
      "\n",
      " 23%|██▎       | 30/130 [00:00<00:02, 44.33it/s]\u001b[A\u001b[A\n",
      "\n",
      " 27%|██▋       | 35/130 [00:00<00:02, 44.50it/s]\u001b[A\u001b[A\n",
      "\n",
      " 31%|███       | 40/130 [00:00<00:02, 44.31it/s]\u001b[A\u001b[A\n",
      "\n",
      " 35%|███▍      | 45/130 [00:01<00:01, 44.41it/s]\u001b[A\u001b[A\n",
      "\n",
      " 38%|███▊      | 50/130 [00:01<00:01, 44.48it/s]\u001b[A\u001b[A\n",
      "\n",
      " 42%|████▏     | 55/130 [00:01<00:01, 44.53it/s]\u001b[A\u001b[A\n",
      "\n",
      " 46%|████▌     | 60/130 [00:01<00:01, 44.56it/s]\u001b[A\u001b[A\n",
      "\n",
      " 50%|█████     | 65/130 [00:01<00:01, 44.56it/s]\u001b[A\u001b[A\n",
      "\n",
      " 54%|█████▍    | 70/130 [00:01<00:01, 44.58it/s]\u001b[A\u001b[A\n",
      "\n",
      " 58%|█████▊    | 75/130 [00:01<00:01, 44.60it/s]\u001b[A\u001b[A\n",
      "\n",
      " 62%|██████▏   | 80/130 [00:01<00:01, 44.61it/s]\u001b[A\u001b[A\n",
      "\n",
      " 65%|██████▌   | 85/130 [00:01<00:01, 44.60it/s]\u001b[A\u001b[A\n",
      "\n",
      " 69%|██████▉   | 90/130 [00:02<00:00, 44.61it/s]\u001b[A\u001b[A\n",
      "\n",
      " 73%|███████▎  | 95/130 [00:02<00:00, 44.62it/s]\u001b[A\u001b[A\n",
      "\n",
      " 77%|███████▋  | 100/130 [00:02<00:00, 44.61it/s]\u001b[A\u001b[A\n",
      "\n",
      " 81%|████████  | 105/130 [00:02<00:00, 44.62it/s]\u001b[A\u001b[A\n",
      "\n",
      " 85%|████████▍ | 110/130 [00:02<00:00, 44.54it/s]\u001b[A\u001b[A\n",
      "\n",
      " 88%|████████▊ | 115/130 [00:02<00:00, 44.32it/s]\u001b[A\u001b[A\n",
      "\n",
      " 92%|█████████▏| 120/130 [00:02<00:00, 44.28it/s]\u001b[A\u001b[A\n",
      "\n",
      " 96%|█████████▌| 125/130 [00:02<00:00, 44.38it/s]\u001b[A\u001b[A\n",
      "\n",
      "100%|██████████| 130/130 [00:02<00:00, 44.45it/s]\u001b[A\u001b[A\n",
      "\n",
      "\n",
      "  0%|          | 0/8 [00:00<?, ?it/s]\u001b[A\u001b[A\n",
      "\n",
      " 25%|██▌       | 2/8 [00:00<00:00, 10.29it/s]\u001b[A\u001b[A"
     ]
    },
    {
     "name": "stdout",
     "output_type": "stream",
     "text": [
      "\n",
      "======== Epoch 8 / 10 ========\n",
      "\n",
      "Training...\n"
     ]
    },
    {
     "name": "stderr",
     "output_type": "stream",
     "text": [
      "\n",
      "\n",
      " 38%|███▊      | 3/8 [00:00<00:00, 10.16it/s]\u001b[A\u001b[A\n",
      "\n",
      " 50%|█████     | 4/8 [00:00<00:00, 10.07it/s]\u001b[A\u001b[A\n",
      "\n",
      " 62%|██████▎   | 5/8 [00:00<00:00, 10.01it/s]\u001b[A\u001b[A\n",
      "\n",
      " 75%|███████▌  | 6/8 [00:00<00:00,  9.96it/s]\u001b[A\u001b[A\n",
      "\n",
      " 88%|████████▊ | 7/8 [00:00<00:00,  9.94it/s]\u001b[A\u001b[A\n",
      "\n",
      "100%|██████████| 8/8 [00:00<00:00,  9.95it/s]\u001b[A\u001b[A\n",
      "\n",
      "\n",
      "  0%|          | 0/65 [00:00<?, ?it/s]\u001b[A\u001b[A\n",
      "\n",
      "  8%|▊         | 5/65 [00:00<00:01, 44.84it/s]\u001b[A\u001b[A"
     ]
    },
    {
     "name": "stdout",
     "output_type": "stream",
     "text": [
      "avg_train_loss 0.24337761849164963\n",
      "train_f1Score 0.9375\n",
      "train_accuracy 0.9375\n",
      "\n",
      "Running Validation...\n"
     ]
    },
    {
     "name": "stderr",
     "output_type": "stream",
     "text": [
      "\n",
      "\n",
      " 15%|█▌        | 10/65 [00:00<00:01, 44.85it/s]\u001b[A\u001b[A\n",
      "\n",
      " 23%|██▎       | 15/65 [00:00<00:01, 44.79it/s]\u001b[A\u001b[A\n",
      "\n",
      " 31%|███       | 20/65 [00:00<00:01, 44.85it/s]\u001b[A\u001b[A\n",
      "\n",
      " 38%|███▊      | 25/65 [00:00<00:00, 44.69it/s]\u001b[A\u001b[A\n",
      "\n",
      " 46%|████▌     | 30/65 [00:00<00:00, 44.59it/s]\u001b[A\u001b[A\n",
      "\n",
      " 54%|█████▍    | 35/65 [00:00<00:00, 44.54it/s]\u001b[A\u001b[A\n",
      "\n",
      " 62%|██████▏   | 40/65 [00:00<00:00, 44.35it/s]\u001b[A\u001b[A\n",
      "\n",
      " 69%|██████▉   | 45/65 [00:01<00:00, 44.39it/s]\u001b[A\u001b[A\n",
      "\n",
      " 77%|███████▋  | 50/65 [00:01<00:00, 44.54it/s]\u001b[A\u001b[A\n",
      "\n",
      " 85%|████████▍ | 55/65 [00:01<00:00, 44.46it/s]\u001b[A\u001b[A\n",
      "\n",
      " 92%|█████████▏| 60/65 [00:01<00:00, 44.45it/s]\u001b[A\u001b[A\n",
      "\n",
      "100%|██████████| 65/65 [00:01<00:00, 44.47it/s]\u001b[A\u001b[A\n",
      "\n",
      "\n",
      "  0%|          | 0/130 [00:00<?, ?it/s]\u001b[A\u001b[A\n",
      "\n",
      "  4%|▍         | 5/130 [00:00<00:02, 44.91it/s]\u001b[A\u001b[A"
     ]
    },
    {
     "name": "stdout",
     "output_type": "stream",
     "text": [
      "Validation Loss:  0.7318848697038797\n",
      "Validation Accuracy:  0.6826923076923077\n",
      "Testing Model....\n"
     ]
    },
    {
     "name": "stderr",
     "output_type": "stream",
     "text": [
      "\n",
      "\n",
      "  8%|▊         | 10/130 [00:00<00:02, 44.92it/s]\u001b[A\u001b[A\n",
      "\n",
      " 12%|█▏        | 15/130 [00:00<00:02, 44.79it/s]\u001b[A\u001b[A\n",
      "\n",
      " 15%|█▌        | 20/130 [00:00<00:02, 44.51it/s]\u001b[A\u001b[A\n",
      "\n",
      " 19%|█▉        | 25/130 [00:00<00:02, 44.43it/s]\u001b[A\u001b[A\n",
      "\n",
      " 23%|██▎       | 30/130 [00:00<00:02, 44.59it/s]\u001b[A\u001b[A\n",
      "\n",
      " 27%|██▋       | 35/130 [00:00<00:02, 44.49it/s]\u001b[A\u001b[A\n",
      "\n",
      " 31%|███       | 40/130 [00:00<00:02, 44.48it/s]\u001b[A\u001b[A\n",
      "\n",
      " 35%|███▍      | 45/130 [00:01<00:01, 44.40it/s]\u001b[A\u001b[A\n",
      "\n",
      " 38%|███▊      | 50/130 [00:01<00:01, 44.53it/s]\u001b[A\u001b[A\n",
      "\n",
      " 42%|████▏     | 55/130 [00:01<00:01, 44.35it/s]\u001b[A\u001b[A\n",
      "\n",
      " 46%|████▌     | 60/130 [00:01<00:01, 44.39it/s]\u001b[A\u001b[A\n",
      "\n",
      " 50%|█████     | 65/130 [00:01<00:01, 44.40it/s]\u001b[A\u001b[A\n",
      "\n",
      " 54%|█████▍    | 70/130 [00:01<00:01, 44.56it/s]\u001b[A\u001b[A\n",
      "\n",
      " 58%|█████▊    | 75/130 [00:01<00:01, 44.67it/s]\u001b[A\u001b[A\n",
      "\n",
      " 62%|██████▏   | 80/130 [00:01<00:01, 44.51it/s]\u001b[A\u001b[A\n",
      "\n",
      " 65%|██████▌   | 85/130 [00:01<00:01, 44.50it/s]\u001b[A\u001b[A\n",
      "\n",
      " 69%|██████▉   | 90/130 [00:02<00:00, 44.41it/s]\u001b[A\u001b[A\n",
      "\n",
      " 73%|███████▎  | 95/130 [00:02<00:00, 44.55it/s]\u001b[A\u001b[A\n",
      "\n",
      " 77%|███████▋  | 100/130 [00:02<00:00, 44.36it/s]\u001b[A\u001b[A\n",
      "\n",
      " 81%|████████  | 105/130 [00:02<00:00, 44.40it/s]\u001b[A\u001b[A\n",
      "\n",
      " 85%|████████▍ | 110/130 [00:02<00:00, 44.39it/s]\u001b[A\u001b[A\n",
      "\n",
      " 88%|████████▊ | 115/130 [00:02<00:00, 44.43it/s]\u001b[A\u001b[A\n",
      "\n",
      " 92%|█████████▏| 120/130 [00:02<00:00, 44.26it/s]\u001b[A\u001b[A\n",
      "\n",
      " 96%|█████████▌| 125/130 [00:02<00:00, 44.28it/s]\u001b[A\u001b[A\n",
      "\n",
      "100%|██████████| 130/130 [00:02<00:00, 44.43it/s]\u001b[A\u001b[A\n",
      "\n",
      "\n",
      "  0%|          | 0/130 [00:00<?, ?it/s]\u001b[A\u001b[A\n",
      "\n",
      "  4%|▍         | 5/130 [00:00<00:02, 45.18it/s]\u001b[A\u001b[A"
     ]
    },
    {
     "name": "stdout",
     "output_type": "stream",
     "text": [
      "Best mF1Score....\n"
     ]
    },
    {
     "name": "stderr",
     "output_type": "stream",
     "text": [
      "\n",
      "\n",
      "  8%|▊         | 10/130 [00:00<00:02, 45.08it/s]\u001b[A\u001b[A\n",
      "\n",
      " 12%|█▏        | 15/130 [00:00<00:02, 44.75it/s]\u001b[A\u001b[A\n",
      "\n",
      " 15%|█▌        | 20/130 [00:00<00:02, 44.66it/s]\u001b[A\u001b[A\n",
      "\n",
      " 19%|█▉        | 25/130 [00:00<00:02, 44.53it/s]\u001b[A\u001b[A\n",
      "\n",
      " 23%|██▎       | 30/130 [00:00<00:02, 44.55it/s]\u001b[A\u001b[A\n",
      "\n",
      " 27%|██▋       | 35/130 [00:00<00:02, 44.43it/s]\u001b[A\u001b[A\n",
      "\n",
      " 31%|███       | 40/130 [00:00<00:02, 44.40it/s]\u001b[A\u001b[A\n",
      "\n",
      " 35%|███▍      | 45/130 [00:01<00:01, 44.44it/s]\u001b[A\u001b[A\n",
      "\n",
      " 38%|███▊      | 50/130 [00:01<00:01, 44.60it/s]\u001b[A\u001b[A\n",
      "\n",
      " 42%|████▏     | 55/130 [00:01<00:01, 44.71it/s]\u001b[A\u001b[A\n",
      "\n",
      " 46%|████▌     | 60/130 [00:01<00:01, 44.51it/s]\u001b[A\u001b[A\n",
      "\n",
      " 50%|█████     | 65/130 [00:01<00:01, 44.32it/s]\u001b[A\u001b[A\n",
      "\n",
      " 54%|█████▍    | 70/130 [00:01<00:01, 44.35it/s]\u001b[A\u001b[A\n",
      "\n",
      " 58%|█████▊    | 75/130 [00:01<00:01, 44.38it/s]\u001b[A\u001b[A\n",
      "\n",
      " 62%|██████▏   | 80/130 [00:01<00:01, 44.36it/s]\u001b[A\u001b[A\n",
      "\n",
      " 65%|██████▌   | 85/130 [00:01<00:01, 44.54it/s]\u001b[A\u001b[A\n",
      "\n",
      " 69%|██████▉   | 90/130 [00:02<00:00, 44.65it/s]\u001b[A\u001b[A\n",
      "\n",
      " 73%|███████▎  | 95/130 [00:02<00:00, 44.52it/s]\u001b[A\u001b[A\n",
      "\n",
      " 77%|███████▋  | 100/130 [00:02<00:00, 44.47it/s]\u001b[A\u001b[A\n",
      "\n",
      " 81%|████████  | 105/130 [00:02<00:00, 44.39it/s]\u001b[A\u001b[A\n",
      "\n",
      " 85%|████████▍ | 110/130 [00:02<00:00, 44.53it/s]\u001b[A\u001b[A\n",
      "\n",
      " 88%|████████▊ | 115/130 [00:02<00:00, 44.35it/s]\u001b[A\u001b[A\n",
      "\n",
      " 92%|█████████▏| 120/130 [00:02<00:00, 44.42it/s]\u001b[A\u001b[A\n",
      "\n",
      " 96%|█████████▌| 125/130 [00:02<00:00, 44.37it/s]\u001b[A\u001b[A\n",
      "\n",
      "100%|██████████| 130/130 [00:02<00:00, 44.45it/s]\u001b[A\u001b[A\n",
      "\n",
      "\n",
      "  0%|          | 0/8 [00:00<?, ?it/s]\u001b[A\u001b[A\n",
      "\n",
      " 25%|██▌       | 2/8 [00:00<00:00, 10.38it/s]\u001b[A\u001b[A"
     ]
    },
    {
     "name": "stdout",
     "output_type": "stream",
     "text": [
      "\n",
      "======== Epoch 9 / 10 ========\n",
      "\n",
      "Training...\n"
     ]
    },
    {
     "name": "stderr",
     "output_type": "stream",
     "text": [
      "\n",
      "\n",
      " 50%|█████     | 4/8 [00:00<00:00, 10.34it/s]\u001b[A\u001b[A\n",
      "\n",
      " 75%|███████▌  | 6/8 [00:00<00:00, 10.30it/s]\u001b[A\u001b[A\n",
      "\n",
      "100%|██████████| 8/8 [00:00<00:00, 10.25it/s]\u001b[A\u001b[A\n",
      "\n",
      "\n",
      "  0%|          | 0/65 [00:00<?, ?it/s]\u001b[A\u001b[A\n",
      "\n",
      "  8%|▊         | 5/65 [00:00<00:01, 46.00it/s]\u001b[A\u001b[A"
     ]
    },
    {
     "name": "stdout",
     "output_type": "stream",
     "text": [
      "avg_train_loss 0.1989893550053239\n",
      "train_f1Score 0.9538461538461539\n",
      "train_accuracy 0.953125\n",
      "\n",
      "Running Validation...\n"
     ]
    },
    {
     "name": "stderr",
     "output_type": "stream",
     "text": [
      "\n",
      "\n",
      " 15%|█▌        | 10/65 [00:00<00:01, 45.49it/s]\u001b[A\u001b[A\n",
      "\n",
      " 23%|██▎       | 15/65 [00:00<00:01, 45.36it/s]\u001b[A\u001b[A\n",
      "\n",
      " 31%|███       | 20/65 [00:00<00:00, 45.17it/s]\u001b[A\u001b[A\n",
      "\n",
      " 38%|███▊      | 25/65 [00:00<00:00, 44.76it/s]\u001b[A\u001b[A\n",
      "\n",
      " 46%|████▌     | 30/65 [00:00<00:00, 44.74it/s]\u001b[A\u001b[A\n",
      "\n",
      " 54%|█████▍    | 35/65 [00:00<00:00, 44.76it/s]\u001b[A\u001b[A\n",
      "\n",
      " 62%|██████▏   | 40/65 [00:00<00:00, 44.57it/s]\u001b[A\u001b[A\n",
      "\n",
      " 69%|██████▉   | 45/65 [00:01<00:00, 44.67it/s]\u001b[A\u001b[A\n",
      "\n",
      " 77%|███████▋  | 50/65 [00:01<00:00, 44.74it/s]\u001b[A\u001b[A\n",
      "\n",
      " 85%|████████▍ | 55/65 [00:01<00:00, 44.80it/s]\u001b[A\u001b[A\n",
      "\n",
      " 92%|█████████▏| 60/65 [00:01<00:00, 44.54it/s]\u001b[A\u001b[A\n",
      "\n",
      "100%|██████████| 65/65 [00:01<00:00, 44.64it/s]\u001b[A\u001b[A\n",
      "\n",
      "\n",
      "  0%|          | 0/8 [00:00<?, ?it/s]\u001b[A\u001b[A\n",
      "\n",
      " 25%|██▌       | 2/8 [00:00<00:00, 10.37it/s]\u001b[A\u001b[A"
     ]
    },
    {
     "name": "stdout",
     "output_type": "stream",
     "text": [
      "Validation Loss:  0.7625191716047434\n",
      "Validation Accuracy:  0.676923076923077\n",
      "\n",
      "======== Epoch 10 / 10 ========\n",
      "\n",
      "Training...\n"
     ]
    },
    {
     "name": "stderr",
     "output_type": "stream",
     "text": [
      "\n",
      "\n",
      " 50%|█████     | 4/8 [00:00<00:00, 10.30it/s]\u001b[A\u001b[A\n",
      "\n",
      " 75%|███████▌  | 6/8 [00:00<00:00, 10.25it/s]\u001b[A\u001b[A\n",
      "\n",
      "100%|██████████| 8/8 [00:00<00:00, 10.17it/s]\u001b[A\u001b[A\n",
      "\n",
      "\n",
      "  0%|          | 0/65 [00:00<?, ?it/s]\u001b[A\u001b[A\n",
      "\n",
      "  8%|▊         | 5/65 [00:00<00:01, 45.44it/s]\u001b[A\u001b[A"
     ]
    },
    {
     "name": "stdout",
     "output_type": "stream",
     "text": [
      "avg_train_loss 0.16094432957470417\n",
      "train_f1Score 0.9846153846153847\n",
      "train_accuracy 0.984375\n",
      "\n",
      "Running Validation...\n"
     ]
    },
    {
     "name": "stderr",
     "output_type": "stream",
     "text": [
      "\n",
      "\n",
      " 15%|█▌        | 10/65 [00:00<00:01, 45.20it/s]\u001b[A\u001b[A\n",
      "\n",
      " 23%|██▎       | 15/65 [00:00<00:01, 44.95it/s]\u001b[A\u001b[A\n",
      "\n",
      " 31%|███       | 20/65 [00:00<00:01, 44.84it/s]\u001b[A\u001b[A\n",
      "\n",
      " 38%|███▊      | 25/65 [00:00<00:00, 44.84it/s]\u001b[A\u001b[A\n",
      "\n",
      " 46%|████▌     | 30/65 [00:00<00:00, 44.73it/s]\u001b[A\u001b[A\n",
      "\n",
      " 54%|█████▍    | 35/65 [00:00<00:00, 44.56it/s]\u001b[A\u001b[A\n",
      "\n",
      " 62%|██████▏   | 40/65 [00:00<00:00, 44.64it/s]\u001b[A\u001b[A\n",
      "\n",
      " 69%|██████▉   | 45/65 [00:01<00:00, 44.66it/s]\u001b[A\u001b[A\n",
      "\n",
      " 77%|███████▋  | 50/65 [00:01<00:00, 44.78it/s]\u001b[A\u001b[A\n",
      "\n",
      " 85%|████████▍ | 55/65 [00:01<00:00, 44.85it/s]\u001b[A\u001b[A\n",
      "\n",
      " 92%|█████████▏| 60/65 [00:01<00:00, 44.55it/s]\u001b[A\u001b[A\n",
      "\n",
      "100%|██████████| 65/65 [00:01<00:00, 44.59it/s]\u001b[A\u001b[A\n",
      "\n",
      "\n",
      "  0%|          | 0/130 [00:00<?, ?it/s]\u001b[A\u001b[A\n",
      "\n",
      "  4%|▍         | 5/130 [00:00<00:02, 45.06it/s]\u001b[A\u001b[A"
     ]
    },
    {
     "name": "stdout",
     "output_type": "stream",
     "text": [
      "Validation Loss:  0.7818176019650239\n",
      "Validation Accuracy:  0.6788461538461539\n",
      "Testing Model....\n"
     ]
    },
    {
     "name": "stderr",
     "output_type": "stream",
     "text": [
      "\n",
      "\n",
      "  8%|▊         | 10/130 [00:00<00:02, 45.02it/s]\u001b[A\u001b[A\n",
      "\n",
      " 12%|█▏        | 15/130 [00:00<00:02, 44.92it/s]\u001b[A\u001b[A\n",
      "\n",
      " 15%|█▌        | 20/130 [00:00<00:02, 44.92it/s]\u001b[A\u001b[A\n",
      "\n",
      " 19%|█▉        | 25/130 [00:00<00:02, 44.90it/s]\u001b[A\u001b[A\n",
      "\n",
      " 23%|██▎       | 30/130 [00:00<00:02, 44.89it/s]\u001b[A\u001b[A\n",
      "\n",
      " 27%|██▋       | 35/130 [00:00<00:02, 44.74it/s]\u001b[A\u001b[A\n",
      "\n",
      " 31%|███       | 40/130 [00:00<00:02, 44.78it/s]\u001b[A\u001b[A\n",
      "\n",
      " 35%|███▍      | 45/130 [00:01<00:01, 44.65it/s]\u001b[A\u001b[A\n",
      "\n",
      " 38%|███▊      | 50/130 [00:01<00:01, 44.62it/s]\u001b[A\u001b[A\n",
      "\n",
      " 42%|████▏     | 55/130 [00:01<00:01, 44.65it/s]\u001b[A\u001b[A\n",
      "\n",
      " 46%|████▌     | 60/130 [00:01<00:01, 44.62it/s]\u001b[A\u001b[A\n",
      "\n",
      " 50%|█████     | 65/130 [00:01<00:01, 44.62it/s]\u001b[A\u001b[A\n",
      "\n",
      " 54%|█████▍    | 70/130 [00:01<00:01, 44.73it/s]\u001b[A\u001b[A\n",
      "\n",
      " 58%|█████▊    | 75/130 [00:01<00:01, 44.64it/s]\u001b[A\u001b[A\n",
      "\n",
      " 62%|██████▏   | 80/130 [00:01<00:01, 44.69it/s]\u001b[A\u001b[A\n",
      "\n",
      " 65%|██████▌   | 85/130 [00:01<00:01, 44.80it/s]\u001b[A\u001b[A\n",
      "\n",
      " 69%|██████▉   | 90/130 [00:02<00:00, 44.85it/s]\u001b[A\u001b[A\n",
      "\n",
      " 73%|███████▎  | 95/130 [00:02<00:00, 44.78it/s]\u001b[A\u001b[A\n",
      "\n",
      " 77%|███████▋  | 100/130 [00:02<00:00, 44.66it/s]\u001b[A\u001b[A\n",
      "\n",
      " 81%|████████  | 105/130 [00:02<00:00, 44.64it/s]\u001b[A\u001b[A\n",
      "\n",
      " 85%|████████▍ | 110/130 [00:02<00:00, 44.66it/s]\u001b[A\u001b[A\n",
      "\n",
      " 88%|████████▊ | 115/130 [00:02<00:00, 44.73it/s]\u001b[A\u001b[A\n",
      "\n",
      " 92%|█████████▏| 120/130 [00:02<00:00, 44.65it/s]\u001b[A\u001b[A\n",
      "\n",
      " 96%|█████████▌| 125/130 [00:02<00:00, 44.68it/s]\u001b[A\u001b[A\n",
      "\n",
      "100%|██████████| 130/130 [00:02<00:00, 44.70it/s]\u001b[A\u001b[A\n"
     ]
    },
    {
     "name": "stdout",
     "output_type": "stream",
     "text": [
      "Saving Test Metrics....\n",
      "Fold:  3\n",
      "Run:  1\n",
      "\tInitialising Model....\n"
     ]
    },
    {
     "name": "stderr",
     "output_type": "stream",
     "text": [
      "\n",
      "\n",
      "100%|██████████| 64/64 [00:00<00:00, 7074.33it/s]\n",
      "\n",
      "\n",
      "100%|██████████| 523/523 [00:00<00:00, 10307.88it/s]\n",
      "\n",
      "\n",
      "  0%|          | 0/1047 [00:00<?, ?it/s]\u001b[A\u001b[A"
     ]
    },
    {
     "name": "stdout",
     "output_type": "stream",
     "text": [
      "\tLoading Dataset....\n"
     ]
    },
    {
     "name": "stderr",
     "output_type": "stream",
     "text": [
      "100%|██████████| 1047/1047 [00:00<00:00, 13998.89it/s]\n",
      "\n",
      "\n",
      "100%|██████████| 64/64 [00:00<00:00, 3654.57it/s]\n",
      "\n",
      "\n",
      "  0%|          | 0/523 [00:00<?, ?it/s]\u001b[A\u001b[A\n",
      "\n",
      "100%|██████████| 523/523 [00:00<00:00, 3626.84it/s]\u001b[A\u001b[A\n",
      "\n",
      "\n",
      "  0%|          | 0/1047 [00:00<?, ?it/s]\u001b[A\u001b[A\n",
      "\n"
     ]
    },
    {
     "name": "stdout",
     "output_type": "stream",
     "text": [
      "\tTraining Starts....\n"
     ]
    },
    {
     "name": "stderr",
     "output_type": "stream",
     "text": [
      " 36%|███▌      | 378/1047 [00:00<00:00, 3776.03it/s]\u001b[A\u001b[A\n",
      "\n",
      "100%|██████████| 1047/1047 [00:00<00:00, 3725.78it/s][A\u001b[A\n",
      "Some weights of the model checkpoint at bert-base-multilingual-cased were not used when initializing BertForSequenceClassification: ['cls.predictions.bias', 'cls.predictions.transform.dense.weight', 'cls.predictions.transform.dense.bias', 'cls.predictions.decoder.weight', 'cls.seq_relationship.weight', 'cls.seq_relationship.bias', 'cls.predictions.transform.LayerNorm.weight', 'cls.predictions.transform.LayerNorm.bias']\n",
      "- This IS expected if you are initializing BertForSequenceClassification from the checkpoint of a model trained on another task or with another architecture (e.g. initializing a BertForSequenceClassification model from a BertForPreTraining model).\n",
      "- This IS NOT expected if you are initializing BertForSequenceClassification from the checkpoint of a model that you expect to be exactly identical (initializing a BertForSequenceClassification model from a BertForSequenceClassification model).\n",
      "Some weights of BertForSequenceClassification were not initialized from the model checkpoint at bert-base-multilingual-cased and are newly initialized: ['classifier.weight', 'classifier.bias']\n",
      "You should probably TRAIN this model on a down-stream task to be able to use it for predictions and inference.\n",
      "\n",
      "\n",
      "  0%|          | 0/8 [00:00<?, ?it/s]\u001b[A\u001b[A\n",
      "\n",
      " 25%|██▌       | 2/8 [00:00<00:00, 10.60it/s]\u001b[A\u001b[A"
     ]
    },
    {
     "name": "stdout",
     "output_type": "stream",
     "text": [
      "\n",
      "======== Epoch 1 / 10 ========\n",
      "\n",
      "Training...\n"
     ]
    },
    {
     "name": "stderr",
     "output_type": "stream",
     "text": [
      "\n",
      "\n",
      " 50%|█████     | 4/8 [00:00<00:00, 10.54it/s]\u001b[A\u001b[A\n",
      "\n",
      " 75%|███████▌  | 6/8 [00:00<00:00, 10.48it/s]\u001b[A\u001b[A\n",
      "\n",
      "100%|██████████| 8/8 [00:00<00:00, 10.37it/s]\u001b[A\u001b[A\n",
      "\n",
      "\n",
      "  0%|          | 0/65 [00:00<?, ?it/s]\u001b[A\u001b[A\n",
      "\n",
      "  8%|▊         | 5/65 [00:00<00:01, 46.95it/s]\u001b[A\u001b[A"
     ]
    },
    {
     "name": "stdout",
     "output_type": "stream",
     "text": [
      "avg_train_loss 1.0826509445905685\n",
      "train_f1Score 0.0\n",
      "train_accuracy 0.46875\n",
      "\n",
      "Running Validation...\n"
     ]
    },
    {
     "name": "stderr",
     "output_type": "stream",
     "text": [
      "\n",
      "\n",
      " 15%|█▌        | 10/65 [00:00<00:01, 46.64it/s]\u001b[A\u001b[A\n",
      "\n",
      " 23%|██▎       | 15/65 [00:00<00:01, 46.48it/s]\u001b[A\u001b[A\n",
      "\n",
      " 31%|███       | 20/65 [00:00<00:00, 46.30it/s]\u001b[A\u001b[A\n",
      "\n",
      " 38%|███▊      | 25/65 [00:00<00:00, 46.20it/s]\u001b[A\u001b[A\n",
      "\n",
      " 46%|████▌     | 30/65 [00:00<00:00, 46.13it/s]\u001b[A\u001b[A\n",
      "\n",
      " 54%|█████▍    | 35/65 [00:00<00:00, 46.09it/s]\u001b[A\u001b[A\n",
      "\n",
      " 62%|██████▏   | 40/65 [00:00<00:00, 46.02it/s]\u001b[A\u001b[A\n",
      "\n",
      " 69%|██████▉   | 45/65 [00:00<00:00, 45.71it/s]\u001b[A\u001b[A\n",
      "\n",
      " 77%|███████▋  | 50/65 [00:01<00:00, 45.75it/s]\u001b[A\u001b[A\n",
      "\n",
      " 85%|████████▍ | 55/65 [00:01<00:00, 45.69it/s]\u001b[A\u001b[A\n",
      "\n",
      " 92%|█████████▏| 60/65 [00:01<00:00, 45.71it/s]\u001b[A\u001b[A\n",
      "\n",
      "100%|██████████| 65/65 [00:01<00:00, 45.86it/s]\u001b[A\u001b[A\n",
      "\n",
      "\n",
      "  0%|          | 0/130 [00:00<?, ?it/s]\u001b[A\u001b[A\n",
      "\n",
      "  4%|▍         | 5/130 [00:00<00:02, 46.20it/s]\u001b[A\u001b[A"
     ]
    },
    {
     "name": "stdout",
     "output_type": "stream",
     "text": [
      "Validation Loss:  0.6948188401185549\n",
      "Validation Accuracy:  0.5923076923076923\n",
      "Best mF1Score....\n"
     ]
    },
    {
     "name": "stderr",
     "output_type": "stream",
     "text": [
      "\n",
      "\n",
      "  8%|▊         | 10/130 [00:00<00:02, 46.09it/s]\u001b[A\u001b[A\n",
      "\n",
      " 12%|█▏        | 15/130 [00:00<00:02, 46.01it/s]\u001b[A\u001b[A\n",
      "\n",
      " 15%|█▌        | 20/130 [00:00<00:02, 45.93it/s]\u001b[A\u001b[A\n",
      "\n",
      " 19%|█▉        | 25/130 [00:00<00:02, 45.86it/s]\u001b[A\u001b[A\n",
      "\n",
      " 23%|██▎       | 30/130 [00:00<00:02, 45.85it/s]\u001b[A\u001b[A\n",
      "\n",
      " 27%|██▋       | 35/130 [00:00<00:02, 45.74it/s]\u001b[A\u001b[A\n",
      "\n",
      " 31%|███       | 40/130 [00:00<00:01, 45.81it/s]\u001b[A\u001b[A\n",
      "\n",
      " 35%|███▍      | 45/130 [00:00<00:01, 45.70it/s]\u001b[A\u001b[A\n",
      "\n",
      " 38%|███▊      | 50/130 [00:01<00:01, 45.73it/s]\u001b[A\u001b[A\n",
      "\n",
      " 42%|████▏     | 55/130 [00:01<00:01, 45.77it/s]\u001b[A\u001b[A\n",
      "\n",
      " 46%|████▌     | 60/130 [00:01<00:01, 45.74it/s]\u001b[A\u001b[A\n",
      "\n",
      " 50%|█████     | 65/130 [00:01<00:01, 45.77it/s]\u001b[A\u001b[A\n",
      "\n",
      " 54%|█████▍    | 70/130 [00:01<00:01, 45.65it/s]\u001b[A\u001b[A\n",
      "\n",
      " 58%|█████▊    | 75/130 [00:01<00:01, 45.68it/s]\u001b[A\u001b[A\n",
      "\n",
      " 62%|██████▏   | 80/130 [00:01<00:01, 45.64it/s]\u001b[A\u001b[A\n",
      "\n",
      " 65%|██████▌   | 85/130 [00:01<00:00, 45.65it/s]\u001b[A\u001b[A\n",
      "\n",
      " 69%|██████▉   | 90/130 [00:01<00:00, 45.59it/s]\u001b[A\u001b[A\n",
      "\n",
      " 73%|███████▎  | 95/130 [00:02<00:00, 45.62it/s]\u001b[A\u001b[A\n",
      "\n",
      " 77%|███████▋  | 100/130 [00:02<00:00, 45.69it/s]\u001b[A\u001b[A\n",
      "\n",
      " 81%|████████  | 105/130 [00:02<00:00, 45.65it/s]\u001b[A\u001b[A\n",
      "\n",
      " 85%|████████▍ | 110/130 [00:02<00:00, 45.66it/s]\u001b[A\u001b[A\n",
      "\n",
      " 88%|████████▊ | 115/130 [00:02<00:00, 45.59it/s]\u001b[A\u001b[A\n",
      "\n",
      " 92%|█████████▏| 120/130 [00:02<00:00, 45.61it/s]\u001b[A\u001b[A\n",
      "\n",
      " 96%|█████████▌| 125/130 [00:02<00:00, 45.58it/s]\u001b[A\u001b[A\n",
      "\n",
      "100%|██████████| 130/130 [00:02<00:00, 45.68it/s]\u001b[A\u001b[A\n",
      "\n",
      "\n",
      "  0%|          | 0/8 [00:00<?, ?it/s]\u001b[A\u001b[A\n",
      "\n",
      " 25%|██▌       | 2/8 [00:00<00:00, 10.70it/s]\u001b[A\u001b[A"
     ]
    },
    {
     "name": "stdout",
     "output_type": "stream",
     "text": [
      "\n",
      "======== Epoch 2 / 10 ========\n",
      "\n",
      "Training...\n"
     ]
    },
    {
     "name": "stderr",
     "output_type": "stream",
     "text": [
      "\n",
      "\n",
      " 50%|█████     | 4/8 [00:00<00:00, 10.58it/s]\u001b[A\u001b[A\n",
      "\n",
      " 75%|███████▌  | 6/8 [00:00<00:00, 10.51it/s]\u001b[A\u001b[A\n",
      "\n",
      "100%|██████████| 8/8 [00:00<00:00, 10.40it/s]\u001b[A\u001b[A\n",
      "\n",
      "\n",
      "  0%|          | 0/65 [00:00<?, ?it/s]\u001b[A\u001b[A\n",
      "\n",
      "  8%|▊         | 5/65 [00:00<00:01, 46.64it/s]\u001b[A\u001b[A"
     ]
    },
    {
     "name": "stdout",
     "output_type": "stream",
     "text": [
      "avg_train_loss 0.6452312618494034\n",
      "train_f1Score 0.6461538461538462\n",
      "train_accuracy 0.640625\n",
      "\n",
      "Running Validation...\n"
     ]
    },
    {
     "name": "stderr",
     "output_type": "stream",
     "text": [
      "\n",
      "\n",
      " 15%|█▌        | 10/65 [00:00<00:01, 46.41it/s]\u001b[A\u001b[A\n",
      "\n",
      " 23%|██▎       | 15/65 [00:00<00:01, 46.22it/s]\u001b[A\u001b[A\n",
      "\n",
      " 31%|███       | 20/65 [00:00<00:00, 46.10it/s]\u001b[A\u001b[A\n",
      "\n",
      " 38%|███▊      | 25/65 [00:00<00:00, 45.88it/s]\u001b[A\u001b[A\n",
      "\n",
      " 46%|████▌     | 30/65 [00:00<00:00, 45.85it/s]\u001b[A\u001b[A\n",
      "\n",
      " 54%|█████▍    | 35/65 [00:00<00:00, 45.69it/s]\u001b[A\u001b[A\n",
      "\n",
      " 62%|██████▏   | 40/65 [00:00<00:00, 45.49it/s]\u001b[A\u001b[A\n",
      "\n",
      " 69%|██████▉   | 45/65 [00:00<00:00, 45.35it/s]\u001b[A\u001b[A\n",
      "\n",
      " 77%|███████▋  | 50/65 [00:01<00:00, 45.46it/s]\u001b[A\u001b[A\n",
      "\n",
      " 85%|████████▍ | 55/65 [00:01<00:00, 45.54it/s]\u001b[A\u001b[A\n",
      "\n",
      " 92%|█████████▏| 60/65 [00:01<00:00, 45.58it/s]\u001b[A\u001b[A\n",
      "\n",
      "100%|██████████| 65/65 [00:01<00:00, 45.63it/s]\u001b[A\u001b[A\n",
      "\n",
      "\n",
      "  0%|          | 0/130 [00:00<?, ?it/s]\u001b[A\u001b[A\n",
      "\n",
      "  4%|▍         | 5/130 [00:00<00:02, 46.31it/s]\u001b[A\u001b[A"
     ]
    },
    {
     "name": "stdout",
     "output_type": "stream",
     "text": [
      "Validation Loss:  0.7640313992133507\n",
      "Validation Accuracy:  0.5711538461538461\n",
      "Testing Model....\n"
     ]
    },
    {
     "name": "stderr",
     "output_type": "stream",
     "text": [
      "\n",
      "\n",
      "  8%|▊         | 10/130 [00:00<00:02, 46.11it/s]\u001b[A\u001b[A\n",
      "\n",
      " 12%|█▏        | 15/130 [00:00<00:02, 45.92it/s]\u001b[A\u001b[A\n",
      "\n",
      " 15%|█▌        | 20/130 [00:00<00:02, 45.68it/s]\u001b[A\u001b[A\n",
      "\n",
      " 19%|█▉        | 25/130 [00:00<00:02, 45.52it/s]\u001b[A\u001b[A\n",
      "\n",
      " 23%|██▎       | 30/130 [00:00<00:02, 45.59it/s]\u001b[A\u001b[A\n",
      "\n",
      " 27%|██▋       | 35/130 [00:00<00:02, 45.57it/s]\u001b[A\u001b[A\n",
      "\n",
      " 31%|███       | 40/130 [00:00<00:01, 45.61it/s]\u001b[A\u001b[A\n",
      "\n",
      " 35%|███▍      | 45/130 [00:00<00:01, 45.54it/s]\u001b[A\u001b[A\n",
      "\n",
      " 38%|███▊      | 50/130 [00:01<00:01, 45.54it/s]\u001b[A\u001b[A\n",
      "\n",
      " 42%|████▏     | 55/130 [00:01<00:01, 45.50it/s]\u001b[A\u001b[A\n",
      "\n",
      " 46%|████▌     | 60/130 [00:01<00:01, 45.52it/s]\u001b[A\u001b[A\n",
      "\n",
      " 50%|█████     | 65/130 [00:01<00:01, 45.46it/s]\u001b[A\u001b[A\n",
      "\n",
      " 54%|█████▍    | 70/130 [00:01<00:01, 45.41it/s]\u001b[A\u001b[A\n",
      "\n",
      " 58%|█████▊    | 75/130 [00:01<00:01, 45.48it/s]\u001b[A\u001b[A\n",
      "\n",
      " 62%|██████▏   | 80/130 [00:01<00:01, 45.46it/s]\u001b[A\u001b[A\n",
      "\n",
      " 65%|██████▌   | 85/130 [00:01<00:00, 45.47it/s]\u001b[A\u001b[A\n",
      "\n",
      " 69%|██████▉   | 90/130 [00:01<00:00, 45.45it/s]\u001b[A\u001b[A\n",
      "\n",
      " 73%|███████▎  | 95/130 [00:02<00:00, 45.49it/s]\u001b[A\u001b[A\n",
      "\n",
      " 77%|███████▋  | 100/130 [00:02<00:00, 45.43it/s]\u001b[A\u001b[A\n",
      "\n",
      " 81%|████████  | 105/130 [00:02<00:00, 45.51it/s]\u001b[A\u001b[A\n",
      "\n",
      " 85%|████████▍ | 110/130 [00:02<00:00, 45.44it/s]\u001b[A\u001b[A\n",
      "\n",
      " 88%|████████▊ | 115/130 [00:02<00:00, 45.39it/s]\u001b[A\u001b[A\n",
      "\n",
      " 92%|█████████▏| 120/130 [00:02<00:00, 45.40it/s]\u001b[A\u001b[A\n",
      "\n",
      " 96%|█████████▌| 125/130 [00:02<00:00, 45.41it/s]\u001b[A\u001b[A\n",
      "\n",
      "100%|██████████| 130/130 [00:02<00:00, 45.46it/s]\u001b[A\u001b[A\n",
      "\n",
      "\n",
      "  0%|          | 0/8 [00:00<?, ?it/s]\u001b[A\u001b[A\n",
      "\n",
      " 25%|██▌       | 2/8 [00:00<00:00, 10.58it/s]\u001b[A\u001b[A"
     ]
    },
    {
     "name": "stdout",
     "output_type": "stream",
     "text": [
      "\n",
      "======== Epoch 3 / 10 ========\n",
      "\n",
      "Training...\n"
     ]
    },
    {
     "name": "stderr",
     "output_type": "stream",
     "text": [
      "\n",
      "\n",
      " 50%|█████     | 4/8 [00:00<00:00, 10.50it/s]\u001b[A\u001b[A\n",
      "\n",
      " 75%|███████▌  | 6/8 [00:00<00:00, 10.43it/s]\u001b[A\u001b[A\n",
      "\n",
      "100%|██████████| 8/8 [00:00<00:00, 10.35it/s]\u001b[A\u001b[A\n",
      "\n",
      "\n",
      "  0%|          | 0/65 [00:00<?, ?it/s]\u001b[A\u001b[A\n",
      "\n",
      "  8%|▊         | 5/65 [00:00<00:01, 49.59it/s]\u001b[A\u001b[A"
     ]
    },
    {
     "name": "stdout",
     "output_type": "stream",
     "text": [
      "avg_train_loss 0.4966413229703903\n",
      "train_f1Score 0.821917808219178\n",
      "train_accuracy 0.796875\n",
      "\n",
      "Running Validation...\n"
     ]
    },
    {
     "name": "stderr",
     "output_type": "stream",
     "text": [
      "\n",
      "\n",
      " 15%|█▌        | 10/65 [00:00<00:01, 48.06it/s]\u001b[A\u001b[A\n",
      "\n",
      " 23%|██▎       | 15/65 [00:00<00:01, 47.19it/s]\u001b[A\u001b[A\n",
      "\n",
      " 31%|███       | 20/65 [00:00<00:00, 46.63it/s]\u001b[A\u001b[A\n",
      "\n",
      " 38%|███▊      | 25/65 [00:00<00:00, 46.25it/s]\u001b[A\u001b[A\n",
      "\n",
      " 46%|████▌     | 30/65 [00:00<00:00, 45.96it/s]\u001b[A\u001b[A\n",
      "\n",
      " 54%|█████▍    | 35/65 [00:00<00:00, 45.70it/s]\u001b[A\u001b[A\n",
      "\n",
      " 62%|██████▏   | 40/65 [00:00<00:00, 45.35it/s]\u001b[A\u001b[A\n",
      "\n",
      " 69%|██████▉   | 45/65 [00:00<00:00, 45.09it/s]\u001b[A\u001b[A\n",
      "\n",
      " 77%|███████▋  | 50/65 [00:01<00:00, 45.11it/s]\u001b[A\u001b[A\n",
      "\n",
      " 85%|████████▍ | 55/65 [00:01<00:00, 45.17it/s]\u001b[A\u001b[A\n",
      "\n",
      " 92%|█████████▏| 60/65 [00:01<00:00, 45.20it/s]\u001b[A\u001b[A\n",
      "\n",
      "100%|██████████| 65/65 [00:01<00:00, 45.38it/s]\u001b[A\u001b[A\n",
      "\n",
      "\n",
      "  0%|          | 0/130 [00:00<?, ?it/s]\u001b[A\u001b[A\n",
      "\n",
      "  4%|▍         | 5/130 [00:00<00:02, 46.13it/s]\u001b[A\u001b[A"
     ]
    },
    {
     "name": "stdout",
     "output_type": "stream",
     "text": [
      "Validation Loss:  0.6730055400958428\n",
      "Validation Accuracy:  0.6384615384615384\n",
      "Best mF1Score....\n"
     ]
    },
    {
     "name": "stderr",
     "output_type": "stream",
     "text": [
      "\n",
      "\n",
      "  8%|▊         | 10/130 [00:00<00:02, 45.88it/s]\u001b[A\u001b[A\n",
      "\n",
      " 12%|█▏        | 15/130 [00:00<00:02, 45.72it/s]\u001b[A\u001b[A\n",
      "\n",
      " 15%|█▌        | 20/130 [00:00<00:02, 45.57it/s]\u001b[A\u001b[A\n",
      "\n",
      " 19%|█▉        | 25/130 [00:00<00:02, 45.46it/s]\u001b[A\u001b[A\n",
      "\n",
      " 23%|██▎       | 30/130 [00:00<00:02, 45.40it/s]\u001b[A\u001b[A\n",
      "\n",
      " 27%|██▋       | 35/130 [00:00<00:02, 45.32it/s]\u001b[A\u001b[A\n",
      "\n",
      " 31%|███       | 40/130 [00:00<00:01, 45.28it/s]\u001b[A\u001b[A\n",
      "\n",
      " 35%|███▍      | 45/130 [00:00<00:01, 45.21it/s]\u001b[A\u001b[A\n",
      "\n",
      " 38%|███▊      | 50/130 [00:01<00:01, 45.26it/s]\u001b[A\u001b[A\n",
      "\n",
      " 42%|████▏     | 55/130 [00:01<00:01, 45.23it/s]\u001b[A\u001b[A\n",
      "\n",
      " 46%|████▌     | 60/130 [00:01<00:01, 45.27it/s]\u001b[A\u001b[A\n",
      "\n",
      " 50%|█████     | 65/130 [00:01<00:01, 45.23it/s]\u001b[A\u001b[A\n",
      "\n",
      " 54%|█████▍    | 70/130 [00:01<00:01, 45.21it/s]\u001b[A\u001b[A\n",
      "\n",
      " 58%|█████▊    | 75/130 [00:01<00:01, 45.20it/s]\u001b[A\u001b[A\n",
      "\n",
      " 62%|██████▏   | 80/130 [00:01<00:01, 45.20it/s]\u001b[A\u001b[A\n",
      "\n",
      " 65%|██████▌   | 85/130 [00:01<00:00, 45.15it/s]\u001b[A\u001b[A\n",
      "\n",
      " 69%|██████▉   | 90/130 [00:01<00:00, 45.14it/s]\u001b[A\u001b[A\n",
      "\n",
      " 73%|███████▎  | 95/130 [00:02<00:00, 45.18it/s]\u001b[A\u001b[A\n",
      "\n",
      " 77%|███████▋  | 100/130 [00:02<00:00, 45.19it/s]\u001b[A\u001b[A\n",
      "\n",
      " 81%|████████  | 105/130 [00:02<00:00, 45.22it/s]\u001b[A\u001b[A\n",
      "\n",
      " 85%|████████▍ | 110/130 [00:02<00:00, 45.23it/s]\u001b[A\u001b[A\n",
      "\n",
      " 88%|████████▊ | 115/130 [00:02<00:00, 45.21it/s]\u001b[A\u001b[A\n",
      "\n",
      " 92%|█████████▏| 120/130 [00:02<00:00, 45.21it/s]\u001b[A\u001b[A\n",
      "\n",
      " 96%|█████████▌| 125/130 [00:02<00:00, 45.20it/s]\u001b[A\u001b[A\n",
      "\n",
      "100%|██████████| 130/130 [00:02<00:00, 45.22it/s]\u001b[A\u001b[A\n",
      "\n",
      "\n",
      "  0%|          | 0/8 [00:00<?, ?it/s]\u001b[A\u001b[A\n",
      "\n",
      " 25%|██▌       | 2/8 [00:00<00:00, 10.63it/s]\u001b[A\u001b[A"
     ]
    },
    {
     "name": "stdout",
     "output_type": "stream",
     "text": [
      "\n",
      "======== Epoch 4 / 10 ========\n",
      "\n",
      "Training...\n"
     ]
    },
    {
     "name": "stderr",
     "output_type": "stream",
     "text": [
      "\n",
      "\n",
      " 50%|█████     | 4/8 [00:00<00:00, 10.52it/s]\u001b[A\u001b[A\n",
      "\n",
      " 75%|███████▌  | 6/8 [00:00<00:00, 10.45it/s]\u001b[A\u001b[A\n",
      "\n",
      "100%|██████████| 8/8 [00:00<00:00, 10.35it/s]\u001b[A\u001b[A\n",
      "\n",
      "\n",
      "  0%|          | 0/65 [00:00<?, ?it/s]\u001b[A\u001b[A\n",
      "\n",
      "  8%|▊         | 5/65 [00:00<00:01, 46.09it/s]\u001b[A\u001b[A"
     ]
    },
    {
     "name": "stdout",
     "output_type": "stream",
     "text": [
      "avg_train_loss 0.42342325299978256\n",
      "train_f1Score 0.8405797101449275\n",
      "train_accuracy 0.828125\n",
      "\n",
      "Running Validation...\n"
     ]
    },
    {
     "name": "stderr",
     "output_type": "stream",
     "text": [
      "\n",
      "\n",
      " 15%|█▌        | 10/65 [00:00<00:01, 45.77it/s]\u001b[A\u001b[A\n",
      "\n",
      " 23%|██▎       | 15/65 [00:00<00:01, 45.59it/s]\u001b[A\u001b[A\n",
      "\n",
      " 31%|███       | 20/65 [00:00<00:00, 45.44it/s]\u001b[A\u001b[A\n",
      "\n",
      " 38%|███▊      | 25/65 [00:00<00:00, 45.36it/s]\u001b[A\u001b[A\n",
      "\n",
      " 46%|████▌     | 30/65 [00:00<00:00, 45.25it/s]\u001b[A\u001b[A\n",
      "\n",
      " 54%|█████▍    | 35/65 [00:00<00:00, 45.19it/s]\u001b[A\u001b[A\n",
      "\n",
      " 62%|██████▏   | 40/65 [00:00<00:00, 45.10it/s]\u001b[A\u001b[A\n",
      "\n",
      " 69%|██████▉   | 45/65 [00:00<00:00, 45.06it/s]\u001b[A\u001b[A\n",
      "\n",
      " 77%|███████▋  | 50/65 [00:01<00:00, 45.05it/s]\u001b[A\u001b[A\n",
      "\n",
      " 85%|████████▍ | 55/65 [00:01<00:00, 45.08it/s]\u001b[A\u001b[A\n",
      "\n",
      " 92%|█████████▏| 60/65 [00:01<00:00, 45.08it/s]\u001b[A\u001b[A\n",
      "\n",
      "100%|██████████| 65/65 [00:01<00:00, 45.09it/s]\u001b[A\u001b[A\n",
      "\n",
      "\n",
      "  0%|          | 0/130 [00:00<?, ?it/s]\u001b[A\u001b[A\n",
      "\n",
      "  4%|▍         | 5/130 [00:00<00:02, 45.46it/s]\u001b[A\u001b[A"
     ]
    },
    {
     "name": "stdout",
     "output_type": "stream",
     "text": [
      "Validation Loss:  0.7967929090444859\n",
      "Validation Accuracy:  0.6269230769230769\n",
      "Testing Model....\n"
     ]
    },
    {
     "name": "stderr",
     "output_type": "stream",
     "text": [
      "\n",
      "\n",
      "  8%|▊         | 10/130 [00:00<00:02, 45.40it/s]\u001b[A\u001b[A\n",
      "\n",
      " 12%|█▏        | 15/130 [00:00<00:02, 45.30it/s]\u001b[A\u001b[A\n",
      "\n",
      " 15%|█▌        | 20/130 [00:00<00:02, 45.23it/s]\u001b[A\u001b[A\n",
      "\n",
      " 19%|█▉        | 25/130 [00:00<00:02, 45.23it/s]\u001b[A\u001b[A\n",
      "\n",
      " 23%|██▎       | 30/130 [00:00<00:02, 45.17it/s]\u001b[A\u001b[A\n",
      "\n",
      " 27%|██▋       | 35/130 [00:00<00:02, 45.12it/s]\u001b[A\u001b[A\n",
      "\n",
      " 31%|███       | 40/130 [00:00<00:01, 45.12it/s]\u001b[A\u001b[A\n",
      "\n",
      " 35%|███▍      | 45/130 [00:00<00:01, 45.08it/s]\u001b[A\u001b[A\n",
      "\n",
      " 38%|███▊      | 50/130 [00:01<00:01, 44.99it/s]\u001b[A\u001b[A\n",
      "\n",
      " 42%|████▏     | 55/130 [00:01<00:01, 45.03it/s]\u001b[A\u001b[A\n",
      "\n",
      " 46%|████▌     | 60/130 [00:01<00:01, 45.00it/s]\u001b[A\u001b[A\n",
      "\n",
      " 50%|█████     | 65/130 [00:01<00:01, 44.98it/s]\u001b[A\u001b[A\n",
      "\n",
      " 54%|█████▍    | 70/130 [00:01<00:01, 45.00it/s]\u001b[A\u001b[A\n",
      "\n",
      " 58%|█████▊    | 75/130 [00:01<00:01, 44.99it/s]\u001b[A\u001b[A\n",
      "\n",
      " 62%|██████▏   | 80/130 [00:01<00:01, 44.98it/s]\u001b[A\u001b[A\n",
      "\n",
      " 65%|██████▌   | 85/130 [00:01<00:00, 45.02it/s]\u001b[A\u001b[A\n",
      "\n",
      " 69%|██████▉   | 90/130 [00:01<00:00, 45.01it/s]\u001b[A\u001b[A\n",
      "\n",
      " 73%|███████▎  | 95/130 [00:02<00:00, 44.90it/s]\u001b[A\u001b[A\n",
      "\n",
      " 77%|███████▋  | 100/130 [00:02<00:00, 44.90it/s]\u001b[A\u001b[A\n",
      "\n",
      " 81%|████████  | 105/130 [00:02<00:00, 44.84it/s]\u001b[A\u001b[A\n",
      "\n",
      " 85%|████████▍ | 110/130 [00:02<00:00, 44.90it/s]\u001b[A\u001b[A\n",
      "\n",
      " 88%|████████▊ | 115/130 [00:02<00:00, 44.85it/s]\u001b[A\u001b[A\n",
      "\n",
      " 92%|█████████▏| 120/130 [00:02<00:00, 44.88it/s]\u001b[A\u001b[A\n",
      "\n",
      " 96%|█████████▌| 125/130 [00:02<00:00, 44.87it/s]\u001b[A\u001b[A\n",
      "\n",
      "100%|██████████| 130/130 [00:02<00:00, 44.98it/s]\u001b[A\u001b[A\n",
      "\n",
      "\n",
      "  0%|          | 0/8 [00:00<?, ?it/s]\u001b[A\u001b[A\n",
      "\n",
      " 25%|██▌       | 2/8 [00:00<00:00, 10.48it/s]\u001b[A\u001b[A"
     ]
    },
    {
     "name": "stdout",
     "output_type": "stream",
     "text": [
      "\n",
      "======== Epoch 5 / 10 ========\n",
      "\n",
      "Training...\n"
     ]
    },
    {
     "name": "stderr",
     "output_type": "stream",
     "text": [
      "\n",
      "\n",
      " 38%|███▊      | 3/8 [00:00<00:00, 10.32it/s]\u001b[A\u001b[A\n",
      "\n",
      " 50%|█████     | 4/8 [00:00<00:00, 10.20it/s]\u001b[A\u001b[A\n",
      "\n",
      " 62%|██████▎   | 5/8 [00:00<00:00, 10.12it/s]\u001b[A\u001b[A\n",
      "\n",
      " 75%|███████▌  | 6/8 [00:00<00:00, 10.07it/s]\u001b[A\u001b[A\n",
      "\n",
      " 88%|████████▊ | 7/8 [00:00<00:00, 10.02it/s]\u001b[A\u001b[A\n",
      "\n",
      "100%|██████████| 8/8 [00:00<00:00, 10.06it/s]\u001b[A\u001b[A\n",
      "\n",
      "\n",
      "  0%|          | 0/65 [00:00<?, ?it/s]\u001b[A\u001b[A\n",
      "\n",
      "  8%|▊         | 5/65 [00:00<00:01, 45.41it/s]\u001b[A\u001b[A"
     ]
    },
    {
     "name": "stdout",
     "output_type": "stream",
     "text": [
      "avg_train_loss 0.22335566952824593\n",
      "train_f1Score 0.955223880597015\n",
      "train_accuracy 0.953125\n",
      "\n",
      "Running Validation...\n"
     ]
    },
    {
     "name": "stderr",
     "output_type": "stream",
     "text": [
      "\n",
      "\n",
      " 15%|█▌        | 10/65 [00:00<00:01, 45.30it/s]\u001b[A\u001b[A\n",
      "\n",
      " 23%|██▎       | 15/65 [00:00<00:01, 45.18it/s]\u001b[A\u001b[A\n",
      "\n",
      " 31%|███       | 20/65 [00:00<00:00, 45.10it/s]\u001b[A\u001b[A\n",
      "\n",
      " 38%|███▊      | 25/65 [00:00<00:00, 45.03it/s]\u001b[A\u001b[A\n",
      "\n",
      " 46%|████▌     | 30/65 [00:00<00:00, 45.00it/s]\u001b[A\u001b[A\n",
      "\n",
      " 54%|█████▍    | 35/65 [00:00<00:00, 44.98it/s]\u001b[A\u001b[A\n",
      "\n",
      " 62%|██████▏   | 40/65 [00:00<00:00, 44.99it/s]\u001b[A\u001b[A\n",
      "\n",
      " 69%|██████▉   | 45/65 [00:01<00:00, 44.90it/s]\u001b[A\u001b[A\n",
      "\n",
      " 77%|███████▋  | 50/65 [00:01<00:00, 44.82it/s]\u001b[A\u001b[A\n",
      "\n",
      " 85%|████████▍ | 55/65 [00:01<00:00, 44.88it/s]\u001b[A\u001b[A\n",
      "\n",
      " 92%|█████████▏| 60/65 [00:01<00:00, 44.84it/s]\u001b[A\u001b[A\n",
      "\n",
      "100%|██████████| 65/65 [00:01<00:00, 44.89it/s]\u001b[A\u001b[A\n",
      "\n",
      "\n",
      "  0%|          | 0/130 [00:00<?, ?it/s]\u001b[A\u001b[A\n",
      "\n",
      "  4%|▍         | 5/130 [00:00<00:02, 45.36it/s]\u001b[A\u001b[A"
     ]
    },
    {
     "name": "stdout",
     "output_type": "stream",
     "text": [
      "Validation Loss:  0.8154264638057122\n",
      "Validation Accuracy:  0.6557692307692308\n",
      "Best mF1Score....\n"
     ]
    },
    {
     "name": "stderr",
     "output_type": "stream",
     "text": [
      "\n",
      "\n",
      "  8%|▊         | 10/130 [00:00<00:02, 45.25it/s]\u001b[A\u001b[A\n",
      "\n",
      " 12%|█▏        | 15/130 [00:00<00:02, 45.16it/s]\u001b[A\u001b[A\n",
      "\n",
      " 15%|█▌        | 20/130 [00:00<00:02, 45.10it/s]\u001b[A\u001b[A\n",
      "\n",
      " 19%|█▉        | 25/130 [00:00<00:02, 45.02it/s]\u001b[A\u001b[A\n",
      "\n",
      " 23%|██▎       | 30/130 [00:00<00:02, 45.03it/s]\u001b[A\u001b[A\n",
      "\n",
      " 27%|██▋       | 35/130 [00:00<00:02, 44.98it/s]\u001b[A\u001b[A\n",
      "\n",
      " 31%|███       | 40/130 [00:00<00:02, 44.95it/s]\u001b[A\u001b[A\n",
      "\n",
      " 35%|███▍      | 45/130 [00:01<00:01, 44.91it/s]\u001b[A\u001b[A\n",
      "\n",
      " 38%|███▊      | 50/130 [00:01<00:01, 44.84it/s]\u001b[A\u001b[A\n",
      "\n",
      " 42%|████▏     | 55/130 [00:01<00:01, 44.90it/s]\u001b[A\u001b[A\n",
      "\n",
      " 46%|████▌     | 60/130 [00:01<00:01, 44.71it/s]\u001b[A\u001b[A\n",
      "\n",
      " 50%|█████     | 65/130 [00:01<00:01, 44.81it/s]\u001b[A\u001b[A\n",
      "\n",
      " 54%|█████▍    | 70/130 [00:01<00:01, 44.76it/s]\u001b[A\u001b[A\n",
      "\n",
      " 58%|█████▊    | 75/130 [00:01<00:01, 44.75it/s]\u001b[A\u001b[A\n",
      "\n",
      " 62%|██████▏   | 80/130 [00:01<00:01, 44.74it/s]\u001b[A\u001b[A\n",
      "\n",
      " 65%|██████▌   | 85/130 [00:01<00:01, 44.91it/s]\u001b[A\u001b[A\n",
      "\n",
      " 69%|██████▉   | 90/130 [00:02<00:00, 44.99it/s]\u001b[A\u001b[A\n",
      "\n",
      " 73%|███████▎  | 95/130 [00:02<00:00, 44.73it/s]\u001b[A\u001b[A\n",
      "\n",
      " 77%|███████▋  | 100/130 [00:02<00:00, 44.51it/s]\u001b[A\u001b[A\n",
      "\n",
      " 81%|████████  | 105/130 [00:02<00:00, 44.63it/s]\u001b[A\u001b[A\n",
      "\n",
      " 85%|████████▍ | 110/130 [00:02<00:00, 44.62it/s]\u001b[A\u001b[A\n",
      "\n",
      " 88%|████████▊ | 115/130 [00:02<00:00, 44.54it/s]\u001b[A\u001b[A\n",
      "\n",
      " 92%|█████████▏| 120/130 [00:02<00:00, 44.58it/s]\u001b[A\u001b[A\n",
      "\n",
      " 96%|█████████▌| 125/130 [00:02<00:00, 44.43it/s]\u001b[A\u001b[A\n",
      "\n",
      "100%|██████████| 130/130 [00:02<00:00, 44.73it/s]\u001b[A\u001b[A\n",
      "\n",
      "\n",
      "  0%|          | 0/8 [00:00<?, ?it/s]\u001b[A\u001b[A\n",
      "\n",
      " 25%|██▌       | 2/8 [00:00<00:00, 10.45it/s]\u001b[A\u001b[A"
     ]
    },
    {
     "name": "stdout",
     "output_type": "stream",
     "text": [
      "\n",
      "======== Epoch 6 / 10 ========\n",
      "\n",
      "Training...\n"
     ]
    },
    {
     "name": "stderr",
     "output_type": "stream",
     "text": [
      "\n",
      "\n",
      " 50%|█████     | 4/8 [00:00<00:00, 10.37it/s]\u001b[A\u001b[A\n",
      "\n",
      " 75%|███████▌  | 6/8 [00:00<00:00, 10.33it/s]\u001b[A\u001b[A\n",
      "\n",
      "100%|██████████| 8/8 [00:00<00:00, 10.26it/s]\u001b[A\u001b[A\n",
      "\n",
      "\n",
      "  0%|          | 0/65 [00:00<?, ?it/s]\u001b[A\u001b[A\n",
      "\n",
      "  8%|▊         | 5/65 [00:00<00:01, 46.03it/s]\u001b[A\u001b[A"
     ]
    },
    {
     "name": "stdout",
     "output_type": "stream",
     "text": [
      "avg_train_loss 0.14731030073016882\n",
      "train_f1Score 0.9846153846153847\n",
      "train_accuracy 0.984375\n",
      "\n",
      "Running Validation...\n"
     ]
    },
    {
     "name": "stderr",
     "output_type": "stream",
     "text": [
      "\n",
      "\n",
      " 15%|█▌        | 10/65 [00:00<00:01, 45.50it/s]\u001b[A\u001b[A\n",
      "\n",
      " 23%|██▎       | 15/65 [00:00<00:01, 44.96it/s]\u001b[A\u001b[A\n",
      "\n",
      " 31%|███       | 20/65 [00:00<00:01, 44.82it/s]\u001b[A\u001b[A\n",
      "\n",
      " 38%|███▊      | 25/65 [00:00<00:00, 44.84it/s]\u001b[A\u001b[A\n",
      "\n",
      " 46%|████▌     | 30/65 [00:00<00:00, 44.66it/s]\u001b[A\u001b[A\n",
      "\n",
      " 54%|█████▍    | 35/65 [00:00<00:00, 44.60it/s]\u001b[A\u001b[A\n",
      "\n",
      " 62%|██████▏   | 40/65 [00:00<00:00, 44.61it/s]\u001b[A\u001b[A\n",
      "\n",
      " 69%|██████▉   | 45/65 [00:01<00:00, 44.62it/s]\u001b[A\u001b[A\n",
      "\n",
      " 77%|███████▋  | 50/65 [00:01<00:00, 44.59it/s]\u001b[A\u001b[A\n",
      "\n",
      " 85%|████████▍ | 55/65 [00:01<00:00, 44.47it/s]\u001b[A\u001b[A\n",
      "\n",
      " 92%|█████████▏| 60/65 [00:01<00:00, 44.32it/s]\u001b[A\u001b[A\n",
      "\n",
      "100%|██████████| 65/65 [00:01<00:00, 44.45it/s]\u001b[A\u001b[A\n",
      "\n",
      "\n",
      "  0%|          | 0/130 [00:00<?, ?it/s]\u001b[A\u001b[A\n",
      "\n",
      "  4%|▍         | 5/130 [00:00<00:02, 44.62it/s]\u001b[A\u001b[A"
     ]
    },
    {
     "name": "stdout",
     "output_type": "stream",
     "text": [
      "Validation Loss:  0.8924941529448216\n",
      "Validation Accuracy:  0.6576923076923077\n",
      "Testing Model....\n"
     ]
    },
    {
     "name": "stderr",
     "output_type": "stream",
     "text": [
      "\n",
      "\n",
      "  8%|▊         | 10/130 [00:00<00:02, 44.69it/s]\u001b[A\u001b[A\n",
      "\n",
      " 12%|█▏        | 15/130 [00:00<00:02, 44.77it/s]\u001b[A\u001b[A\n",
      "\n",
      " 15%|█▌        | 20/130 [00:00<00:02, 44.45it/s]\u001b[A\u001b[A\n",
      "\n",
      " 19%|█▉        | 25/130 [00:00<00:02, 44.39it/s]\u001b[A\u001b[A\n",
      "\n",
      " 23%|██▎       | 30/130 [00:00<00:02, 44.28it/s]\u001b[A\u001b[A\n",
      "\n",
      " 27%|██▋       | 35/130 [00:00<00:02, 44.38it/s]\u001b[A\u001b[A\n",
      "\n",
      " 31%|███       | 40/130 [00:00<00:02, 44.46it/s]\u001b[A\u001b[A\n",
      "\n",
      " 35%|███▍      | 45/130 [00:01<00:01, 44.34it/s]\u001b[A\u001b[A\n",
      "\n",
      " 38%|███▊      | 50/130 [00:01<00:01, 44.12it/s]\u001b[A\u001b[A\n",
      "\n",
      " 42%|████▏     | 55/130 [00:01<00:01, 44.17it/s]\u001b[A\u001b[A\n",
      "\n",
      " 46%|████▌     | 60/130 [00:01<00:01, 44.33it/s]\u001b[A\u001b[A\n",
      "\n",
      " 50%|█████     | 65/130 [00:01<00:01, 44.15it/s]\u001b[A\u001b[A\n",
      "\n",
      " 54%|█████▍    | 70/130 [00:01<00:01, 44.17it/s]\u001b[A\u001b[A\n",
      "\n",
      " 58%|█████▊    | 75/130 [00:01<00:01, 44.15it/s]\u001b[A\u001b[A\n",
      "\n",
      " 62%|██████▏   | 80/130 [00:01<00:01, 44.28it/s]\u001b[A\u001b[A\n",
      "\n",
      " 65%|██████▌   | 85/130 [00:01<00:01, 44.39it/s]\u001b[A\u001b[A\n",
      "\n",
      " 69%|██████▉   | 90/130 [00:02<00:00, 44.30it/s]\u001b[A\u001b[A\n",
      "\n",
      " 73%|███████▎  | 95/130 [00:02<00:00, 44.10it/s]\u001b[A\u001b[A\n",
      "\n",
      " 77%|███████▋  | 100/130 [00:02<00:00, 44.14it/s]\u001b[A\u001b[A\n",
      "\n",
      " 81%|████████  | 105/130 [00:02<00:00, 44.41it/s]\u001b[A\u001b[A\n",
      "\n",
      " 85%|████████▍ | 110/130 [00:02<00:00, 44.29it/s]\u001b[A\u001b[A\n",
      "\n",
      " 88%|████████▊ | 115/130 [00:02<00:00, 44.27it/s]\u001b[A\u001b[A\n",
      "\n",
      " 92%|█████████▏| 120/130 [00:02<00:00, 44.15it/s]\u001b[A\u001b[A\n",
      "\n",
      " 96%|█████████▌| 125/130 [00:02<00:00, 44.22it/s]\u001b[A\u001b[A\n",
      "\n",
      "100%|██████████| 130/130 [00:02<00:00, 44.24it/s]\u001b[A\u001b[A\n",
      "\n",
      "\n",
      "  0%|          | 0/130 [00:00<?, ?it/s]\u001b[A\u001b[A\n",
      "\n",
      "  4%|▍         | 5/130 [00:00<00:02, 44.83it/s]\u001b[A\u001b[A"
     ]
    },
    {
     "name": "stdout",
     "output_type": "stream",
     "text": [
      "Best mF1Score....\n"
     ]
    },
    {
     "name": "stderr",
     "output_type": "stream",
     "text": [
      "\n",
      "\n",
      "  8%|▊         | 10/130 [00:00<00:02, 44.80it/s]\u001b[A\u001b[A\n",
      "\n",
      " 12%|█▏        | 15/130 [00:00<00:02, 44.56it/s]\u001b[A\u001b[A\n",
      "\n",
      " 15%|█▌        | 20/130 [00:00<00:02, 44.44it/s]\u001b[A\u001b[A\n",
      "\n",
      " 19%|█▉        | 25/130 [00:00<00:02, 44.29it/s]\u001b[A\u001b[A\n",
      "\n",
      " 23%|██▎       | 30/130 [00:00<00:02, 44.40it/s]\u001b[A\u001b[A\n",
      "\n",
      " 27%|██▋       | 35/130 [00:00<00:02, 44.47it/s]\u001b[A\u001b[A\n",
      "\n",
      " 31%|███       | 40/130 [00:00<00:02, 44.45it/s]\u001b[A\u001b[A\n",
      "\n",
      " 35%|███▍      | 45/130 [00:01<00:01, 44.26it/s]\u001b[A\u001b[A\n",
      "\n",
      " 38%|███▊      | 50/130 [00:01<00:01, 44.22it/s]\u001b[A\u001b[A\n",
      "\n",
      " 42%|████▏     | 55/130 [00:01<00:01, 44.23it/s]\u001b[A\u001b[A\n",
      "\n",
      " 46%|████▌     | 60/130 [00:01<00:01, 44.34it/s]\u001b[A\u001b[A\n",
      "\n",
      " 50%|█████     | 65/130 [00:01<00:01, 44.43it/s]\u001b[A\u001b[A\n",
      "\n",
      " 54%|█████▍    | 70/130 [00:01<00:01, 44.23it/s]\u001b[A\u001b[A\n",
      "\n",
      " 58%|█████▊    | 75/130 [00:01<00:01, 44.07it/s]\u001b[A\u001b[A\n",
      "\n",
      " 62%|██████▏   | 80/130 [00:01<00:01, 44.12it/s]\u001b[A\u001b[A\n",
      "\n",
      " 65%|██████▌   | 85/130 [00:01<00:01, 44.28it/s]\u001b[A\u001b[A\n",
      "\n",
      " 69%|██████▉   | 90/130 [00:02<00:00, 44.05it/s]\u001b[A\u001b[A\n",
      "\n",
      " 73%|███████▎  | 95/130 [00:02<00:00, 43.95it/s]\u001b[A\u001b[A\n",
      "\n",
      " 77%|███████▋  | 100/130 [00:02<00:00, 44.11it/s]\u001b[A\u001b[A\n",
      "\n",
      " 81%|████████  | 105/130 [00:02<00:00, 44.13it/s]\u001b[A\u001b[A\n",
      "\n",
      " 85%|████████▍ | 110/130 [00:02<00:00, 44.01it/s]\u001b[A\u001b[A\n",
      "\n",
      " 88%|████████▊ | 115/130 [00:02<00:00, 44.07it/s]\u001b[A\u001b[A\n",
      "\n",
      " 92%|█████████▏| 120/130 [00:02<00:00, 44.26it/s]\u001b[A\u001b[A\n",
      "\n",
      " 96%|█████████▌| 125/130 [00:02<00:00, 44.07it/s]\u001b[A\u001b[A\n",
      "\n",
      "100%|██████████| 130/130 [00:02<00:00, 44.20it/s]\u001b[A\u001b[A\n",
      "\n",
      "\n",
      "  0%|          | 0/8 [00:00<?, ?it/s]\u001b[A\u001b[A\n",
      "\n",
      " 25%|██▌       | 2/8 [00:00<00:00, 10.35it/s]\u001b[A\u001b[A"
     ]
    },
    {
     "name": "stdout",
     "output_type": "stream",
     "text": [
      "\n",
      "======== Epoch 7 / 10 ========\n",
      "\n",
      "Training...\n"
     ]
    },
    {
     "name": "stderr",
     "output_type": "stream",
     "text": [
      "\n",
      "\n",
      " 38%|███▊      | 3/8 [00:00<00:00, 10.23it/s]\u001b[A\u001b[A\n",
      "\n",
      " 50%|█████     | 4/8 [00:00<00:00, 10.15it/s]\u001b[A\u001b[A\n",
      "\n",
      " 75%|███████▌  | 6/8 [00:00<00:00, 10.12it/s]\u001b[A\u001b[A\n",
      "\n",
      "100%|██████████| 8/8 [00:00<00:00, 10.09it/s]\u001b[A\u001b[A\n",
      "\n",
      "\n",
      "  0%|          | 0/65 [00:00<?, ?it/s]\u001b[A\u001b[A\n",
      "\n",
      "  8%|▊         | 5/65 [00:00<00:01, 45.46it/s]\u001b[A\u001b[A"
     ]
    },
    {
     "name": "stdout",
     "output_type": "stream",
     "text": [
      "avg_train_loss 0.1070224093273282\n",
      "train_f1Score 1.0\n",
      "train_accuracy 1.0\n",
      "\n",
      "Running Validation...\n"
     ]
    },
    {
     "name": "stderr",
     "output_type": "stream",
     "text": [
      "\n",
      "\n",
      " 15%|█▌        | 10/65 [00:00<00:01, 45.20it/s]\u001b[A\u001b[A\n",
      "\n",
      " 23%|██▎       | 15/65 [00:00<00:01, 44.79it/s]\u001b[A\u001b[A\n",
      "\n",
      " 31%|███       | 20/65 [00:00<00:01, 44.58it/s]\u001b[A\u001b[A\n",
      "\n",
      " 38%|███▊      | 25/65 [00:00<00:00, 44.66it/s]\u001b[A\u001b[A\n",
      "\n",
      " 46%|████▌     | 30/65 [00:00<00:00, 44.57it/s]\u001b[A\u001b[A\n",
      "\n",
      " 54%|█████▍    | 35/65 [00:00<00:00, 44.35it/s]\u001b[A\u001b[A\n",
      "\n",
      " 62%|██████▏   | 40/65 [00:00<00:00, 44.39it/s]\u001b[A\u001b[A\n",
      "\n",
      " 69%|██████▉   | 45/65 [00:01<00:00, 44.54it/s]\u001b[A\u001b[A\n",
      "\n",
      " 77%|███████▋  | 50/65 [00:01<00:00, 44.33it/s]\u001b[A\u001b[A\n",
      "\n",
      " 85%|████████▍ | 55/65 [00:01<00:00, 44.37it/s]\u001b[A\u001b[A\n",
      "\n",
      " 92%|█████████▏| 60/65 [00:01<00:00, 44.44it/s]\u001b[A\u001b[A\n",
      "\n",
      "100%|██████████| 65/65 [00:01<00:00, 44.42it/s]\u001b[A\u001b[A\n",
      "\n",
      "\n",
      "  0%|          | 0/8 [00:00<?, ?it/s]\u001b[A\u001b[A\n",
      "\n",
      " 25%|██▌       | 2/8 [00:00<00:00, 10.42it/s]\u001b[A\u001b[A"
     ]
    },
    {
     "name": "stdout",
     "output_type": "stream",
     "text": [
      "Validation Loss:  1.0546646267175674\n",
      "Validation Accuracy:  0.65\n",
      "\n",
      "======== Epoch 8 / 10 ========\n",
      "\n",
      "Training...\n"
     ]
    },
    {
     "name": "stderr",
     "output_type": "stream",
     "text": [
      "\n",
      "\n",
      " 50%|█████     | 4/8 [00:00<00:00, 10.36it/s]\u001b[A\u001b[A\n",
      "\n",
      " 75%|███████▌  | 6/8 [00:00<00:00, 10.31it/s]\u001b[A\u001b[A\n",
      "\n",
      " 88%|████████▊ | 7/8 [00:00<00:00, 10.20it/s]\u001b[A\u001b[A\n",
      "\n",
      "100%|██████████| 8/8 [00:00<00:00, 10.18it/s]\u001b[A\u001b[A\n",
      "\n",
      "\n",
      "  0%|          | 0/65 [00:00<?, ?it/s]\u001b[A\u001b[A\n",
      "\n",
      "  8%|▊         | 5/65 [00:00<00:01, 45.29it/s]\u001b[A\u001b[A"
     ]
    },
    {
     "name": "stdout",
     "output_type": "stream",
     "text": [
      "avg_train_loss 0.09352217614650726\n",
      "train_f1Score 1.0\n",
      "train_accuracy 1.0\n",
      "\n",
      "Running Validation...\n"
     ]
    },
    {
     "name": "stderr",
     "output_type": "stream",
     "text": [
      "\n",
      "\n",
      " 15%|█▌        | 10/65 [00:00<00:01, 45.05it/s]\u001b[A\u001b[A\n",
      "\n",
      " 23%|██▎       | 15/65 [00:00<00:01, 44.68it/s]\u001b[A\u001b[A\n",
      "\n",
      " 31%|███       | 20/65 [00:00<00:01, 44.52it/s]\u001b[A\u001b[A\n",
      "\n",
      " 38%|███▊      | 25/65 [00:00<00:00, 44.62it/s]\u001b[A\u001b[A\n",
      "\n",
      " 46%|████▌     | 30/65 [00:00<00:00, 44.49it/s]\u001b[A\u001b[A\n",
      "\n",
      " 54%|█████▍    | 35/65 [00:00<00:00, 44.49it/s]\u001b[A\u001b[A\n",
      "\n",
      " 62%|██████▏   | 40/65 [00:00<00:00, 44.53it/s]\u001b[A\u001b[A\n",
      "\n",
      " 69%|██████▉   | 45/65 [00:01<00:00, 44.54it/s]\u001b[A\u001b[A\n",
      "\n",
      " 77%|███████▋  | 50/65 [00:01<00:00, 44.57it/s]\u001b[A\u001b[A\n",
      "\n",
      " 85%|████████▍ | 55/65 [00:01<00:00, 44.58it/s]\u001b[A\u001b[A\n",
      "\n",
      " 92%|█████████▏| 60/65 [00:01<00:00, 44.59it/s]\u001b[A\u001b[A\n",
      "\n",
      "100%|██████████| 65/65 [00:01<00:00, 44.50it/s]\u001b[A\u001b[A\n",
      "\n",
      "\n",
      "  0%|          | 0/130 [00:00<?, ?it/s]\u001b[A\u001b[A\n",
      "\n",
      "  4%|▍         | 5/130 [00:00<00:02, 44.53it/s]\u001b[A\u001b[A"
     ]
    },
    {
     "name": "stdout",
     "output_type": "stream",
     "text": [
      "Validation Loss:  1.1814127889963297\n",
      "Validation Accuracy:  0.6384615384615384\n",
      "Testing Model....\n"
     ]
    },
    {
     "name": "stderr",
     "output_type": "stream",
     "text": [
      "\n",
      "\n",
      "  8%|▊         | 10/130 [00:00<00:02, 44.46it/s]\u001b[A\u001b[A\n",
      "\n",
      " 12%|█▏        | 15/130 [00:00<00:02, 44.60it/s]\u001b[A\u001b[A\n",
      "\n",
      " 15%|█▌        | 20/130 [00:00<00:02, 44.41it/s]\u001b[A\u001b[A\n",
      "\n",
      " 19%|█▉        | 25/130 [00:00<00:02, 44.26it/s]\u001b[A\u001b[A\n",
      "\n",
      " 23%|██▎       | 30/130 [00:00<00:02, 44.25it/s]\u001b[A\u001b[A\n",
      "\n",
      " 27%|██▋       | 35/130 [00:00<00:02, 44.42it/s]\u001b[A\u001b[A\n",
      "\n",
      " 31%|███       | 40/130 [00:00<00:02, 44.29it/s]\u001b[A\u001b[A\n",
      "\n",
      " 35%|███▍      | 45/130 [00:01<00:01, 44.39it/s]\u001b[A\u001b[A\n",
      "\n",
      " 38%|███▊      | 50/130 [00:01<00:01, 44.25it/s]\u001b[A\u001b[A\n",
      "\n",
      " 42%|████▏     | 55/130 [00:01<00:01, 44.28it/s]\u001b[A\u001b[A\n",
      "\n",
      " 46%|████▌     | 60/130 [00:01<00:01, 44.36it/s]\u001b[A\u001b[A\n",
      "\n",
      " 50%|█████     | 65/130 [00:01<00:01, 44.28it/s]\u001b[A\u001b[A\n",
      "\n",
      " 54%|█████▍    | 70/130 [00:01<00:01, 44.36it/s]\u001b[A\u001b[A\n",
      "\n",
      " 58%|█████▊    | 75/130 [00:01<00:01, 44.44it/s]\u001b[A\u001b[A\n",
      "\n",
      " 62%|██████▏   | 80/130 [00:01<00:01, 44.50it/s]\u001b[A\u001b[A\n",
      "\n",
      " 65%|██████▌   | 85/130 [00:01<00:01, 44.53it/s]\u001b[A\u001b[A\n",
      "\n",
      " 69%|██████▉   | 90/130 [00:02<00:00, 44.56it/s]\u001b[A\u001b[A\n",
      "\n",
      " 73%|███████▎  | 95/130 [00:02<00:00, 44.57it/s]\u001b[A\u001b[A\n",
      "\n",
      " 77%|███████▋  | 100/130 [00:02<00:00, 44.59it/s]\u001b[A\u001b[A\n",
      "\n",
      " 81%|████████  | 105/130 [00:02<00:00, 44.58it/s]\u001b[A\u001b[A\n",
      "\n",
      " 85%|████████▍ | 110/130 [00:02<00:00, 44.58it/s]\u001b[A\u001b[A\n",
      "\n",
      " 88%|████████▊ | 115/130 [00:02<00:00, 44.60it/s]\u001b[A\u001b[A\n",
      "\n",
      " 92%|█████████▏| 120/130 [00:02<00:00, 44.61it/s]\u001b[A\u001b[A\n",
      "\n",
      " 96%|█████████▌| 125/130 [00:02<00:00, 44.61it/s]\u001b[A\u001b[A\n",
      "\n",
      "100%|██████████| 130/130 [00:02<00:00, 44.41it/s]\u001b[A\u001b[A\n",
      "\n",
      "\n",
      "  0%|          | 0/8 [00:00<?, ?it/s]\u001b[A\u001b[A\n",
      "\n",
      " 25%|██▌       | 2/8 [00:00<00:00, 10.39it/s]\u001b[A\u001b[A"
     ]
    },
    {
     "name": "stdout",
     "output_type": "stream",
     "text": [
      "\n",
      "======== Epoch 9 / 10 ========\n",
      "\n",
      "Training...\n"
     ]
    },
    {
     "name": "stderr",
     "output_type": "stream",
     "text": [
      "\n",
      "\n",
      " 38%|███▊      | 3/8 [00:00<00:00, 10.27it/s]\u001b[A\u001b[A\n",
      "\n",
      " 50%|█████     | 4/8 [00:00<00:00, 10.17it/s]\u001b[A\u001b[A\n",
      "\n",
      " 62%|██████▎   | 5/8 [00:00<00:00, 10.08it/s]\u001b[A\u001b[A\n",
      "\n",
      " 75%|███████▌  | 6/8 [00:00<00:00, 10.03it/s]\u001b[A\u001b[A\n",
      "\n",
      " 88%|████████▊ | 7/8 [00:00<00:00, 10.00it/s]\u001b[A\u001b[A\n",
      "\n",
      "100%|██████████| 8/8 [00:00<00:00, 10.02it/s]\u001b[A\u001b[A\n",
      "\n",
      "\n",
      "  0%|          | 0/65 [00:00<?, ?it/s]\u001b[A\u001b[A\n",
      "\n",
      "  8%|▊         | 5/65 [00:00<00:01, 45.06it/s]\u001b[A\u001b[A"
     ]
    },
    {
     "name": "stdout",
     "output_type": "stream",
     "text": [
      "avg_train_loss 0.12326809857040644\n",
      "train_f1Score 0.9846153846153847\n",
      "train_accuracy 0.984375\n",
      "\n",
      "Running Validation...\n"
     ]
    },
    {
     "name": "stderr",
     "output_type": "stream",
     "text": [
      "\n",
      "\n",
      " 15%|█▌        | 10/65 [00:00<00:01, 45.04it/s]\u001b[A\u001b[A\n",
      "\n",
      " 23%|██▎       | 15/65 [00:00<00:01, 44.89it/s]\u001b[A\u001b[A\n",
      "\n",
      " 31%|███       | 20/65 [00:00<00:01, 44.68it/s]\u001b[A\u001b[A\n",
      "\n",
      " 38%|███▊      | 25/65 [00:00<00:00, 44.61it/s]\u001b[A\u001b[A\n",
      "\n",
      " 46%|████▌     | 30/65 [00:00<00:00, 44.53it/s]\u001b[A\u001b[A\n",
      "\n",
      " 54%|█████▍    | 35/65 [00:00<00:00, 44.61it/s]\u001b[A\u001b[A\n",
      "\n",
      " 62%|██████▏   | 40/65 [00:00<00:00, 44.71it/s]\u001b[A\u001b[A\n",
      "\n",
      " 69%|██████▉   | 45/65 [00:01<00:00, 44.52it/s]\u001b[A\u001b[A\n",
      "\n",
      " 77%|███████▋  | 50/65 [00:01<00:00, 44.51it/s]\u001b[A\u001b[A\n",
      "\n",
      " 85%|████████▍ | 55/65 [00:01<00:00, 44.44it/s]\u001b[A\u001b[A\n",
      "\n",
      " 92%|█████████▏| 60/65 [00:01<00:00, 44.54it/s]\u001b[A\u001b[A\n",
      "\n",
      "100%|██████████| 65/65 [00:01<00:00, 44.48it/s]\u001b[A\u001b[A\n",
      "\n",
      "\n",
      "  0%|          | 0/8 [00:00<?, ?it/s]\u001b[A\u001b[A\n",
      "\n",
      " 25%|██▌       | 2/8 [00:00<00:00, 10.42it/s]\u001b[A\u001b[A"
     ]
    },
    {
     "name": "stdout",
     "output_type": "stream",
     "text": [
      "Validation Loss:  1.2077501238538668\n",
      "Validation Accuracy:  0.6326923076923077\n",
      "\n",
      "======== Epoch 10 / 10 ========\n",
      "\n",
      "Training...\n"
     ]
    },
    {
     "name": "stderr",
     "output_type": "stream",
     "text": [
      "\n",
      "\n",
      " 50%|█████     | 4/8 [00:00<00:00, 10.30it/s]\u001b[A\u001b[A\n",
      "\n",
      " 75%|███████▌  | 6/8 [00:00<00:00, 10.22it/s]\u001b[A\u001b[A\n",
      "\n",
      "100%|██████████| 8/8 [00:00<00:00, 10.13it/s]\u001b[A\u001b[A\n",
      "\n",
      "\n",
      "  0%|          | 0/65 [00:00<?, ?it/s]\u001b[A\u001b[A\n",
      "\n",
      "  8%|▊         | 5/65 [00:00<00:01, 45.73it/s]\u001b[A\u001b[A"
     ]
    },
    {
     "name": "stdout",
     "output_type": "stream",
     "text": [
      "avg_train_loss 0.07511764578521252\n",
      "train_f1Score 1.0\n",
      "train_accuracy 1.0\n",
      "\n",
      "Running Validation...\n"
     ]
    },
    {
     "name": "stderr",
     "output_type": "stream",
     "text": [
      "\n",
      "\n",
      " 15%|█▌        | 10/65 [00:00<00:01, 45.33it/s]\u001b[A\u001b[A\n",
      "\n",
      " 23%|██▎       | 15/65 [00:00<00:01, 45.10it/s]\u001b[A\u001b[A\n",
      "\n",
      " 31%|███       | 20/65 [00:00<00:00, 45.11it/s]\u001b[A\u001b[A\n",
      "\n",
      " 38%|███▊      | 25/65 [00:00<00:00, 44.86it/s]\u001b[A\u001b[A\n",
      "\n",
      " 46%|████▌     | 30/65 [00:00<00:00, 44.64it/s]\u001b[A\u001b[A\n",
      "\n",
      " 54%|█████▍    | 35/65 [00:00<00:00, 44.71it/s]\u001b[A\u001b[A\n",
      "\n",
      " 62%|██████▏   | 40/65 [00:00<00:00, 44.70it/s]\u001b[A\u001b[A\n",
      "\n",
      " 69%|██████▉   | 45/65 [00:01<00:00, 44.53it/s]\u001b[A\u001b[A\n",
      "\n",
      " 77%|███████▋  | 50/65 [00:01<00:00, 44.65it/s]\u001b[A\u001b[A\n",
      "\n",
      " 85%|████████▍ | 55/65 [00:01<00:00, 44.73it/s]\u001b[A\u001b[A\n",
      "\n",
      " 92%|█████████▏| 60/65 [00:01<00:00, 44.72it/s]\u001b[A\u001b[A\n",
      "\n",
      "100%|██████████| 65/65 [00:01<00:00, 44.60it/s]\u001b[A\u001b[A\n",
      "\n",
      "\n",
      "  0%|          | 0/130 [00:00<?, ?it/s]\u001b[A\u001b[A\n",
      "\n",
      "  4%|▍         | 5/130 [00:00<00:02, 44.90it/s]\u001b[A\u001b[A"
     ]
    },
    {
     "name": "stdout",
     "output_type": "stream",
     "text": [
      "Validation Loss:  1.2074071505895028\n",
      "Validation Accuracy:  0.6365384615384615\n",
      "Testing Model....\n"
     ]
    },
    {
     "name": "stderr",
     "output_type": "stream",
     "text": [
      "\n",
      "\n",
      "  8%|▊         | 10/130 [00:00<00:02, 44.92it/s]\u001b[A\u001b[A\n",
      "\n",
      " 12%|█▏        | 15/130 [00:00<00:02, 44.73it/s]\u001b[A\u001b[A\n",
      "\n",
      " 15%|█▌        | 20/130 [00:00<00:02, 44.65it/s]\u001b[A\u001b[A\n",
      "\n",
      " 19%|█▉        | 25/130 [00:00<00:02, 44.60it/s]\u001b[A\u001b[A\n",
      "\n",
      " 23%|██▎       | 30/130 [00:00<00:02, 44.74it/s]\u001b[A\u001b[A\n",
      "\n",
      " 27%|██▋       | 35/130 [00:00<00:02, 44.51it/s]\u001b[A\u001b[A\n",
      "\n",
      " 31%|███       | 40/130 [00:00<00:02, 44.51it/s]\u001b[A\u001b[A\n",
      "\n",
      " 35%|███▍      | 45/130 [00:01<00:01, 44.43it/s]\u001b[A\u001b[A\n",
      "\n",
      " 38%|███▊      | 50/130 [00:01<00:01, 44.60it/s]\u001b[A\u001b[A\n",
      "\n",
      " 42%|████▏     | 55/130 [00:01<00:01, 44.72it/s]\u001b[A\u001b[A\n",
      "\n",
      " 46%|████▌     | 60/130 [00:01<00:01, 44.78it/s]\u001b[A\u001b[A\n",
      "\n",
      " 50%|█████     | 65/130 [00:01<00:01, 44.84it/s]\u001b[A\u001b[A\n",
      "\n",
      " 54%|█████▍    | 70/130 [00:01<00:01, 44.61it/s]\u001b[A\u001b[A\n",
      "\n",
      " 58%|█████▊    | 75/130 [00:01<00:01, 44.57it/s]\u001b[A\u001b[A\n",
      "\n",
      " 62%|██████▏   | 80/130 [00:01<00:01, 44.47it/s]\u001b[A\u001b[A\n",
      "\n",
      " 65%|██████▌   | 85/130 [00:01<00:01, 44.57it/s]\u001b[A\u001b[A\n",
      "\n",
      " 69%|██████▉   | 90/130 [00:02<00:00, 44.68it/s]\u001b[A\u001b[A\n",
      "\n",
      " 73%|███████▎  | 95/130 [00:02<00:00, 44.70it/s]\u001b[A\u001b[A\n",
      "\n",
      " 77%|███████▋  | 100/130 [00:02<00:00, 44.51it/s]\u001b[A\u001b[A\n",
      "\n",
      " 81%|████████  | 105/130 [00:02<00:00, 44.48it/s]\u001b[A\u001b[A\n",
      "\n",
      " 85%|████████▍ | 110/130 [00:02<00:00, 44.49it/s]\u001b[A\u001b[A\n",
      "\n",
      " 88%|████████▊ | 115/130 [00:02<00:00, 44.64it/s]\u001b[A\u001b[A\n",
      "\n",
      " 92%|█████████▏| 120/130 [00:02<00:00, 44.77it/s]\u001b[A\u001b[A\n",
      "\n",
      " 96%|█████████▌| 125/130 [00:02<00:00, 44.63it/s]\u001b[A\u001b[A\n",
      "\n",
      "100%|██████████| 130/130 [00:02<00:00, 44.59it/s]\u001b[A\u001b[A\n"
     ]
    },
    {
     "name": "stdout",
     "output_type": "stream",
     "text": [
      "Saving Test Metrics....\n",
      "Run:  2\n",
      "\tInitialising Model....\n"
     ]
    },
    {
     "name": "stderr",
     "output_type": "stream",
     "text": [
      "\n",
      "\n",
      "100%|██████████| 64/64 [00:00<00:00, 5558.02it/s]\n",
      "\n",
      "\n",
      "100%|██████████| 523/523 [00:00<00:00, 11798.86it/s]\n",
      "\n",
      "\n",
      "  0%|          | 0/1047 [00:00<?, ?it/s]\u001b[A\u001b[A"
     ]
    },
    {
     "name": "stdout",
     "output_type": "stream",
     "text": [
      "\tLoading Dataset....\n"
     ]
    },
    {
     "name": "stderr",
     "output_type": "stream",
     "text": [
      "100%|██████████| 1047/1047 [00:00<00:00, 14070.20it/s]\n",
      "\n",
      "\n",
      "100%|██████████| 64/64 [00:00<00:00, 3778.23it/s]\n",
      "\n",
      "\n",
      "  0%|          | 0/523 [00:00<?, ?it/s]\u001b[A\u001b[A\n",
      "\n",
      "100%|██████████| 523/523 [00:00<00:00, 3623.07it/s]\u001b[A\u001b[A\n",
      "\n",
      "\n",
      "  0%|          | 0/1047 [00:00<?, ?it/s]\u001b[A\u001b[A\n",
      "\n"
     ]
    },
    {
     "name": "stdout",
     "output_type": "stream",
     "text": [
      "\tTraining Starts....\n"
     ]
    },
    {
     "name": "stderr",
     "output_type": "stream",
     "text": [
      " 36%|███▌      | 376/1047 [00:00<00:00, 3758.78it/s]\u001b[A\u001b[A\n",
      "\n",
      "100%|██████████| 1047/1047 [00:00<00:00, 3639.97it/s][A\u001b[A\n",
      "Some weights of the model checkpoint at bert-base-multilingual-cased were not used when initializing BertForSequenceClassification: ['cls.predictions.bias', 'cls.predictions.transform.dense.weight', 'cls.predictions.transform.dense.bias', 'cls.predictions.decoder.weight', 'cls.seq_relationship.weight', 'cls.seq_relationship.bias', 'cls.predictions.transform.LayerNorm.weight', 'cls.predictions.transform.LayerNorm.bias']\n",
      "- This IS expected if you are initializing BertForSequenceClassification from the checkpoint of a model trained on another task or with another architecture (e.g. initializing a BertForSequenceClassification model from a BertForPreTraining model).\n",
      "- This IS NOT expected if you are initializing BertForSequenceClassification from the checkpoint of a model that you expect to be exactly identical (initializing a BertForSequenceClassification model from a BertForSequenceClassification model).\n",
      "Some weights of BertForSequenceClassification were not initialized from the model checkpoint at bert-base-multilingual-cased and are newly initialized: ['classifier.weight', 'classifier.bias']\n",
      "You should probably TRAIN this model on a down-stream task to be able to use it for predictions and inference.\n",
      "\n",
      "\n",
      "  0%|          | 0/8 [00:00<?, ?it/s]\u001b[A\u001b[A\n",
      "\n",
      " 25%|██▌       | 2/8 [00:00<00:00, 10.34it/s]\u001b[A\u001b[A"
     ]
    },
    {
     "name": "stdout",
     "output_type": "stream",
     "text": [
      "\n",
      "======== Epoch 1 / 10 ========\n",
      "\n",
      "Training...\n"
     ]
    },
    {
     "name": "stderr",
     "output_type": "stream",
     "text": [
      "\n",
      "\n",
      " 50%|█████     | 4/8 [00:00<00:00, 10.36it/s]\u001b[A\u001b[A\n",
      "\n",
      " 75%|███████▌  | 6/8 [00:00<00:00, 10.36it/s]\u001b[A\u001b[A\n",
      "\n",
      "100%|██████████| 8/8 [00:00<00:00, 10.36it/s]\u001b[A\u001b[A\n",
      "\n",
      "\n",
      "  0%|          | 0/65 [00:00<?, ?it/s]\u001b[A\u001b[A\n",
      "\n",
      "  8%|▊         | 5/65 [00:00<00:01, 47.10it/s]\u001b[A\u001b[A"
     ]
    },
    {
     "name": "stdout",
     "output_type": "stream",
     "text": [
      "avg_train_loss 1.0983931571245193\n",
      "train_f1Score 0.0\n",
      "train_accuracy 0.46875\n",
      "\n",
      "Running Validation...\n"
     ]
    },
    {
     "name": "stderr",
     "output_type": "stream",
     "text": [
      "\n",
      "\n",
      " 15%|█▌        | 10/65 [00:00<00:01, 46.79it/s]\u001b[A\u001b[A\n",
      "\n",
      " 23%|██▎       | 15/65 [00:00<00:01, 46.53it/s]\u001b[A\u001b[A\n",
      "\n",
      " 31%|███       | 20/65 [00:00<00:00, 46.34it/s]\u001b[A\u001b[A\n",
      "\n",
      " 38%|███▊      | 25/65 [00:00<00:00, 46.31it/s]\u001b[A\u001b[A\n",
      "\n",
      " 46%|████▌     | 30/65 [00:00<00:00, 46.20it/s]\u001b[A\u001b[A\n",
      "\n",
      " 54%|█████▍    | 35/65 [00:00<00:00, 46.14it/s]\u001b[A\u001b[A\n",
      "\n",
      " 62%|██████▏   | 40/65 [00:00<00:00, 46.04it/s]\u001b[A\u001b[A\n",
      "\n",
      " 69%|██████▉   | 45/65 [00:00<00:00, 45.86it/s]\u001b[A\u001b[A\n",
      "\n",
      " 77%|███████▋  | 50/65 [00:01<00:00, 45.91it/s]\u001b[A\u001b[A\n",
      "\n",
      " 85%|████████▍ | 55/65 [00:01<00:00, 45.85it/s]\u001b[A\u001b[A\n",
      "\n",
      " 92%|█████████▏| 60/65 [00:01<00:00, 45.92it/s]\u001b[A\u001b[A\n",
      "\n",
      "100%|██████████| 65/65 [00:01<00:00, 45.97it/s]\u001b[A\u001b[A\n",
      "\n",
      "\n",
      "  0%|          | 0/130 [00:00<?, ?it/s]\u001b[A\u001b[A\n",
      "\n",
      "  4%|▍         | 5/130 [00:00<00:02, 46.73it/s]\u001b[A\u001b[A"
     ]
    },
    {
     "name": "stdout",
     "output_type": "stream",
     "text": [
      "Validation Loss:  0.832994302878013\n",
      "Validation Accuracy:  0.5153846153846153\n",
      "Best mF1Score....\n"
     ]
    },
    {
     "name": "stderr",
     "output_type": "stream",
     "text": [
      "\n",
      "\n",
      "  8%|▊         | 10/130 [00:00<00:02, 46.49it/s]\u001b[A\u001b[A\n",
      "\n",
      " 12%|█▏        | 15/130 [00:00<00:02, 46.34it/s]\u001b[A\u001b[A\n",
      "\n",
      " 15%|█▌        | 20/130 [00:00<00:02, 46.14it/s]\u001b[A\u001b[A\n",
      "\n",
      " 19%|█▉        | 25/130 [00:00<00:02, 46.00it/s]\u001b[A\u001b[A\n",
      "\n",
      " 23%|██▎       | 30/130 [00:00<00:02, 45.98it/s]\u001b[A\u001b[A\n",
      "\n",
      " 27%|██▋       | 35/130 [00:00<00:02, 45.83it/s]\u001b[A\u001b[A\n",
      "\n",
      " 31%|███       | 40/130 [00:00<00:01, 45.85it/s]\u001b[A\u001b[A\n",
      "\n",
      " 35%|███▍      | 45/130 [00:00<00:01, 45.76it/s]\u001b[A\u001b[A\n",
      "\n",
      " 38%|███▊      | 50/130 [00:01<00:01, 45.80it/s]\u001b[A\u001b[A\n",
      "\n",
      " 42%|████▏     | 55/130 [00:01<00:01, 45.85it/s]\u001b[A\u001b[A\n",
      "\n",
      " 46%|████▌     | 60/130 [00:01<00:01, 45.88it/s]\u001b[A\u001b[A\n",
      "\n",
      " 50%|█████     | 65/130 [00:01<00:01, 45.87it/s]\u001b[A\u001b[A\n",
      "\n",
      " 54%|█████▍    | 70/130 [00:01<00:01, 45.79it/s]\u001b[A\u001b[A\n",
      "\n",
      " 58%|█████▊    | 75/130 [00:01<00:01, 45.77it/s]\u001b[A\u001b[A\n",
      "\n",
      " 62%|██████▏   | 80/130 [00:01<00:01, 45.70it/s]\u001b[A\u001b[A\n",
      "\n",
      " 65%|██████▌   | 85/130 [00:01<00:00, 45.69it/s]\u001b[A\u001b[A\n",
      "\n",
      " 69%|██████▉   | 90/130 [00:01<00:00, 45.73it/s]\u001b[A\u001b[A\n",
      "\n",
      " 73%|███████▎  | 95/130 [00:02<00:00, 45.77it/s]\u001b[A\u001b[A\n",
      "\n",
      " 77%|███████▋  | 100/130 [00:02<00:00, 45.82it/s]\u001b[A\u001b[A\n",
      "\n",
      " 81%|████████  | 105/130 [00:02<00:00, 45.76it/s]\u001b[A\u001b[A\n",
      "\n",
      " 85%|████████▍ | 110/130 [00:02<00:00, 45.77it/s]\u001b[A\u001b[A\n",
      "\n",
      " 88%|████████▊ | 115/130 [00:02<00:00, 45.79it/s]\u001b[A\u001b[A\n",
      "\n",
      " 92%|█████████▏| 120/130 [00:02<00:00, 45.73it/s]\u001b[A\u001b[A\n",
      "\n",
      " 96%|█████████▌| 125/130 [00:02<00:00, 45.62it/s]\u001b[A\u001b[A\n",
      "\n",
      "100%|██████████| 130/130 [00:02<00:00, 45.78it/s]\u001b[A\u001b[A\n",
      "\n",
      "\n",
      "  0%|          | 0/8 [00:00<?, ?it/s]\u001b[A\u001b[A\n",
      "\n",
      " 25%|██▌       | 2/8 [00:00<00:00, 10.71it/s]\u001b[A\u001b[A"
     ]
    },
    {
     "name": "stdout",
     "output_type": "stream",
     "text": [
      "\n",
      "======== Epoch 2 / 10 ========\n",
      "\n",
      "Training...\n"
     ]
    },
    {
     "name": "stderr",
     "output_type": "stream",
     "text": [
      "\n",
      "\n",
      " 50%|█████     | 4/8 [00:00<00:00, 10.60it/s]\u001b[A\u001b[A\n",
      "\n",
      " 75%|███████▌  | 6/8 [00:00<00:00, 10.51it/s]\u001b[A\u001b[A\n",
      "\n",
      "100%|██████████| 8/8 [00:00<00:00, 10.41it/s]\u001b[A\u001b[A\n",
      "\n",
      "\n",
      "  0%|          | 0/65 [00:00<?, ?it/s]\u001b[A\u001b[A\n",
      "\n",
      "  8%|▊         | 5/65 [00:00<00:01, 46.73it/s]\u001b[A\u001b[A"
     ]
    },
    {
     "name": "stdout",
     "output_type": "stream",
     "text": [
      "avg_train_loss 0.6749161332845688\n",
      "train_f1Score 0.6451612903225806\n",
      "train_accuracy 0.65625\n",
      "\n",
      "Running Validation...\n"
     ]
    },
    {
     "name": "stderr",
     "output_type": "stream",
     "text": [
      "\n",
      "\n",
      " 15%|█▌        | 10/65 [00:00<00:01, 46.42it/s]\u001b[A\u001b[A\n",
      "\n",
      " 23%|██▎       | 15/65 [00:00<00:01, 46.20it/s]\u001b[A\u001b[A\n",
      "\n",
      " 31%|███       | 20/65 [00:00<00:00, 46.03it/s]\u001b[A\u001b[A\n",
      "\n",
      " 38%|███▊      | 25/65 [00:00<00:00, 45.99it/s]\u001b[A\u001b[A\n",
      "\n",
      " 46%|████▌     | 30/65 [00:00<00:00, 45.86it/s]\u001b[A\u001b[A\n",
      "\n",
      " 54%|█████▍    | 35/65 [00:00<00:00, 45.87it/s]\u001b[A\u001b[A\n",
      "\n",
      " 62%|██████▏   | 40/65 [00:00<00:00, 45.67it/s]\u001b[A\u001b[A\n",
      "\n",
      " 69%|██████▉   | 45/65 [00:00<00:00, 45.50it/s]\u001b[A\u001b[A\n",
      "\n",
      " 77%|███████▋  | 50/65 [00:01<00:00, 45.49it/s]\u001b[A\u001b[A\n",
      "\n",
      " 85%|████████▍ | 55/65 [00:01<00:00, 45.58it/s]\u001b[A\u001b[A\n",
      "\n",
      " 92%|█████████▏| 60/65 [00:01<00:00, 45.59it/s]\u001b[A\u001b[A\n",
      "\n",
      "100%|██████████| 65/65 [00:01<00:00, 45.65it/s]\u001b[A\u001b[A\n",
      "\n",
      "\n",
      "  0%|          | 0/130 [00:00<?, ?it/s]\u001b[A\u001b[A\n",
      "\n",
      "  4%|▍         | 5/130 [00:00<00:02, 46.36it/s]\u001b[A\u001b[A"
     ]
    },
    {
     "name": "stdout",
     "output_type": "stream",
     "text": [
      "Validation Loss:  0.6552308197204884\n",
      "Validation Accuracy:  0.6230769230769231\n",
      "Testing Model....\n"
     ]
    },
    {
     "name": "stderr",
     "output_type": "stream",
     "text": [
      "\n",
      "\n",
      "  8%|▊         | 10/130 [00:00<00:02, 46.17it/s]\u001b[A\u001b[A\n",
      "\n",
      " 12%|█▏        | 15/130 [00:00<00:02, 46.03it/s]\u001b[A\u001b[A\n",
      "\n",
      " 15%|█▌        | 20/130 [00:00<00:02, 45.87it/s]\u001b[A\u001b[A\n",
      "\n",
      " 19%|█▉        | 25/130 [00:00<00:02, 45.76it/s]\u001b[A\u001b[A\n",
      "\n",
      " 23%|██▎       | 30/130 [00:00<00:02, 45.66it/s]\u001b[A\u001b[A\n",
      "\n",
      " 27%|██▋       | 35/130 [00:00<00:02, 45.67it/s]\u001b[A\u001b[A\n",
      "\n",
      " 31%|███       | 40/130 [00:00<00:01, 45.60it/s]\u001b[A\u001b[A\n",
      "\n",
      " 35%|███▍      | 45/130 [00:00<00:01, 45.61it/s]\u001b[A\u001b[A\n",
      "\n",
      " 38%|███▊      | 50/130 [00:01<00:01, 45.49it/s]\u001b[A\u001b[A\n",
      "\n",
      " 42%|████▏     | 55/130 [00:01<00:01, 45.52it/s]\u001b[A\u001b[A\n",
      "\n",
      " 46%|████▌     | 60/130 [00:01<00:01, 45.49it/s]\u001b[A\u001b[A\n",
      "\n",
      " 50%|█████     | 65/130 [00:01<00:01, 45.54it/s]\u001b[A\u001b[A\n",
      "\n",
      " 54%|█████▍    | 70/130 [00:01<00:01, 45.53it/s]\u001b[A\u001b[A\n",
      "\n",
      " 58%|█████▊    | 75/130 [00:01<00:01, 45.59it/s]\u001b[A\u001b[A\n",
      "\n",
      " 62%|██████▏   | 80/130 [00:01<00:01, 45.52it/s]\u001b[A\u001b[A\n",
      "\n",
      " 65%|██████▌   | 85/130 [00:01<00:00, 45.55it/s]\u001b[A\u001b[A\n",
      "\n",
      " 69%|██████▉   | 90/130 [00:01<00:00, 45.51it/s]\u001b[A\u001b[A\n",
      "\n",
      " 73%|███████▎  | 95/130 [00:02<00:00, 45.44it/s]\u001b[A\u001b[A\n",
      "\n",
      " 77%|███████▋  | 100/130 [00:02<00:00, 45.46it/s]\u001b[A\u001b[A\n",
      "\n",
      " 81%|████████  | 105/130 [00:02<00:00, 45.44it/s]\u001b[A\u001b[A\n",
      "\n",
      " 85%|████████▍ | 110/130 [00:02<00:00, 45.46it/s]\u001b[A\u001b[A\n",
      "\n",
      " 88%|████████▊ | 115/130 [00:02<00:00, 45.43it/s]\u001b[A\u001b[A\n",
      "\n",
      " 92%|█████████▏| 120/130 [00:02<00:00, 45.51it/s]\u001b[A\u001b[A\n",
      "\n",
      " 96%|█████████▌| 125/130 [00:02<00:00, 45.47it/s]\u001b[A\u001b[A\n",
      "\n",
      "100%|██████████| 130/130 [00:02<00:00, 45.53it/s]\u001b[A\u001b[A\n",
      "\n",
      "\n",
      "  0%|          | 0/130 [00:00<?, ?it/s]\u001b[A\u001b[A\n",
      "\n",
      "  4%|▍         | 5/130 [00:00<00:02, 46.29it/s]\u001b[A\u001b[A"
     ]
    },
    {
     "name": "stdout",
     "output_type": "stream",
     "text": [
      "Best mF1Score....\n"
     ]
    },
    {
     "name": "stderr",
     "output_type": "stream",
     "text": [
      "\n",
      "\n",
      "  8%|▊         | 10/130 [00:00<00:02, 46.08it/s]\u001b[A\u001b[A\n",
      "\n",
      " 12%|█▏        | 15/130 [00:00<00:02, 45.84it/s]\u001b[A\u001b[A\n",
      "\n",
      " 15%|█▌        | 20/130 [00:00<00:02, 45.71it/s]\u001b[A\u001b[A\n",
      "\n",
      " 19%|█▉        | 25/130 [00:00<00:02, 45.62it/s]\u001b[A\u001b[A\n",
      "\n",
      " 23%|██▎       | 30/130 [00:00<00:02, 45.64it/s]\u001b[A\u001b[A\n",
      "\n",
      " 27%|██▋       | 35/130 [00:00<00:02, 45.57it/s]\u001b[A\u001b[A\n",
      "\n",
      " 31%|███       | 40/130 [00:00<00:01, 45.48it/s]\u001b[A\u001b[A\n",
      "\n",
      " 35%|███▍      | 45/130 [00:00<00:01, 45.37it/s]\u001b[A\u001b[A\n",
      "\n",
      " 38%|███▊      | 50/130 [00:01<00:01, 45.34it/s]\u001b[A\u001b[A\n",
      "\n",
      " 42%|████▏     | 55/130 [00:01<00:01, 45.38it/s]\u001b[A\u001b[A\n",
      "\n",
      " 46%|████▌     | 60/130 [00:01<00:01, 45.36it/s]\u001b[A\u001b[A\n",
      "\n",
      " 50%|█████     | 65/130 [00:01<00:01, 45.28it/s]\u001b[A\u001b[A\n",
      "\n",
      " 54%|█████▍    | 70/130 [00:01<00:01, 45.30it/s]\u001b[A\u001b[A\n",
      "\n",
      " 58%|█████▊    | 75/130 [00:01<00:01, 45.33it/s]\u001b[A\u001b[A\n",
      "\n",
      " 62%|██████▏   | 80/130 [00:01<00:01, 45.28it/s]\u001b[A\u001b[A\n",
      "\n",
      " 65%|██████▌   | 85/130 [00:01<00:00, 45.29it/s]\u001b[A\u001b[A\n",
      "\n",
      " 69%|██████▉   | 90/130 [00:01<00:00, 45.28it/s]\u001b[A\u001b[A\n",
      "\n",
      " 73%|███████▎  | 95/130 [00:02<00:00, 45.31it/s]\u001b[A\u001b[A\n",
      "\n",
      " 77%|███████▋  | 100/130 [00:02<00:00, 45.23it/s]\u001b[A\u001b[A\n",
      "\n",
      " 81%|████████  | 105/130 [00:02<00:00, 45.25it/s]\u001b[A\u001b[A\n",
      "\n",
      " 85%|████████▍ | 110/130 [00:02<00:00, 45.28it/s]\u001b[A\u001b[A\n",
      "\n",
      " 88%|████████▊ | 115/130 [00:02<00:00, 45.32it/s]\u001b[A\u001b[A\n",
      "\n",
      " 92%|█████████▏| 120/130 [00:02<00:00, 45.33it/s]\u001b[A\u001b[A\n",
      "\n",
      " 96%|█████████▌| 125/130 [00:02<00:00, 45.30it/s]\u001b[A\u001b[A\n",
      "\n",
      "100%|██████████| 130/130 [00:02<00:00, 45.34it/s]\u001b[A\u001b[A\n",
      "\n",
      "\n",
      "  0%|          | 0/8 [00:00<?, ?it/s]\u001b[A\u001b[A\n",
      "\n",
      " 25%|██▌       | 2/8 [00:00<00:00, 10.66it/s]\u001b[A\u001b[A"
     ]
    },
    {
     "name": "stdout",
     "output_type": "stream",
     "text": [
      "\n",
      "======== Epoch 3 / 10 ========\n",
      "\n",
      "Training...\n"
     ]
    },
    {
     "name": "stderr",
     "output_type": "stream",
     "text": [
      "\n",
      "\n",
      " 50%|█████     | 4/8 [00:00<00:00, 10.54it/s]\u001b[A\u001b[A\n",
      "\n",
      " 75%|███████▌  | 6/8 [00:00<00:00, 10.46it/s]\u001b[A\u001b[A\n",
      "\n",
      "100%|██████████| 8/8 [00:00<00:00, 10.35it/s]\u001b[A\u001b[A\n",
      "\n",
      "\n",
      "  0%|          | 0/65 [00:00<?, ?it/s]\u001b[A\u001b[A\n",
      "\n",
      "  8%|▊         | 5/65 [00:00<00:01, 46.72it/s]\u001b[A\u001b[A"
     ]
    },
    {
     "name": "stdout",
     "output_type": "stream",
     "text": [
      "avg_train_loss 0.6937898397445679\n",
      "train_f1Score 0.34782608695652173\n",
      "train_accuracy 0.53125\n",
      "\n",
      "Running Validation...\n"
     ]
    },
    {
     "name": "stderr",
     "output_type": "stream",
     "text": [
      "\n",
      "\n",
      " 15%|█▌        | 10/65 [00:00<00:01, 46.28it/s]\u001b[A\u001b[A\n",
      "\n",
      " 23%|██▎       | 15/65 [00:00<00:01, 46.02it/s]\u001b[A\u001b[A\n",
      "\n",
      " 31%|███       | 20/65 [00:00<00:00, 45.77it/s]\u001b[A\u001b[A\n",
      "\n",
      " 38%|███▊      | 25/65 [00:00<00:00, 45.56it/s]\u001b[A\u001b[A\n",
      "\n",
      " 46%|████▌     | 30/65 [00:00<00:00, 45.42it/s]\u001b[A\u001b[A\n",
      "\n",
      " 54%|█████▍    | 35/65 [00:00<00:00, 45.28it/s]\u001b[A\u001b[A\n",
      "\n",
      " 62%|██████▏   | 40/65 [00:00<00:00, 45.20it/s]\u001b[A\u001b[A\n",
      "\n",
      " 69%|██████▉   | 45/65 [00:00<00:00, 45.13it/s]\u001b[A\u001b[A\n",
      "\n",
      " 77%|███████▋  | 50/65 [00:01<00:00, 45.11it/s]\u001b[A\u001b[A\n",
      "\n",
      " 85%|████████▍ | 55/65 [00:01<00:00, 45.15it/s]\u001b[A\u001b[A\n",
      "\n",
      " 92%|█████████▏| 60/65 [00:01<00:00, 45.11it/s]\u001b[A\u001b[A\n",
      "\n",
      "100%|██████████| 65/65 [00:01<00:00, 45.22it/s]\u001b[A\u001b[A\n",
      "\n",
      "\n",
      "  0%|          | 0/8 [00:00<?, ?it/s]\u001b[A\u001b[A\n",
      "\n",
      " 25%|██▌       | 2/8 [00:00<00:00, 10.47it/s]\u001b[A\u001b[A"
     ]
    },
    {
     "name": "stdout",
     "output_type": "stream",
     "text": [
      "Validation Loss:  0.7444871430213634\n",
      "Validation Accuracy:  0.5211538461538462\n",
      "\n",
      "======== Epoch 4 / 10 ========\n",
      "\n",
      "Training...\n"
     ]
    },
    {
     "name": "stderr",
     "output_type": "stream",
     "text": [
      "\n",
      "\n",
      " 50%|█████     | 4/8 [00:00<00:00, 10.37it/s]\u001b[A\u001b[A\n",
      "\n",
      " 62%|██████▎   | 5/8 [00:00<00:00, 10.24it/s]\u001b[A\u001b[A\n",
      "\n",
      "100%|██████████| 8/8 [00:00<00:00, 10.22it/s]\u001b[A\u001b[A\n",
      "\n",
      "\n",
      "  0%|          | 0/65 [00:00<?, ?it/s]\u001b[A\u001b[A\n",
      "\n",
      "  8%|▊         | 5/65 [00:00<00:01, 45.78it/s]\u001b[A\u001b[A"
     ]
    },
    {
     "name": "stdout",
     "output_type": "stream",
     "text": [
      "avg_train_loss 0.4997224994003773\n",
      "train_f1Score 0.7777777777777778\n",
      "train_accuracy 0.8125\n",
      "\n",
      "Running Validation...\n"
     ]
    },
    {
     "name": "stderr",
     "output_type": "stream",
     "text": [
      "\n",
      "\n",
      " 15%|█▌        | 10/65 [00:00<00:01, 45.57it/s]\u001b[A\u001b[A\n",
      "\n",
      " 23%|██▎       | 15/65 [00:00<00:01, 45.44it/s]\u001b[A\u001b[A\n",
      "\n",
      " 31%|███       | 20/65 [00:00<00:00, 45.31it/s]\u001b[A\u001b[A\n",
      "\n",
      " 38%|███▊      | 25/65 [00:00<00:00, 45.26it/s]\u001b[A\u001b[A\n",
      "\n",
      " 46%|████▌     | 30/65 [00:00<00:00, 45.17it/s]\u001b[A\u001b[A\n",
      "\n",
      " 54%|█████▍    | 35/65 [00:00<00:00, 45.15it/s]\u001b[A\u001b[A\n",
      "\n",
      " 62%|██████▏   | 40/65 [00:00<00:00, 45.02it/s]\u001b[A\u001b[A\n",
      "\n",
      " 69%|██████▉   | 45/65 [00:00<00:00, 44.94it/s]\u001b[A\u001b[A\n",
      "\n",
      " 77%|███████▋  | 50/65 [00:01<00:00, 44.94it/s]\u001b[A\u001b[A\n",
      "\n",
      " 85%|████████▍ | 55/65 [00:01<00:00, 44.95it/s]\u001b[A\u001b[A\n",
      "\n",
      " 92%|█████████▏| 60/65 [00:01<00:00, 44.89it/s]\u001b[A\u001b[A\n",
      "\n",
      "100%|██████████| 65/65 [00:01<00:00, 45.01it/s]\u001b[A\u001b[A\n",
      "\n",
      "\n",
      "  0%|          | 0/130 [00:00<?, ?it/s]\u001b[A\u001b[A\n",
      "\n",
      "  4%|▍         | 5/130 [00:00<00:02, 45.59it/s]\u001b[A\u001b[A"
     ]
    },
    {
     "name": "stdout",
     "output_type": "stream",
     "text": [
      "Validation Loss:  0.788219455572275\n",
      "Validation Accuracy:  0.6019230769230769\n",
      "Testing Model....\n"
     ]
    },
    {
     "name": "stderr",
     "output_type": "stream",
     "text": [
      "\n",
      "\n",
      "  8%|▊         | 10/130 [00:00<00:02, 45.40it/s]\u001b[A\u001b[A\n",
      "\n",
      " 12%|█▏        | 15/130 [00:00<00:02, 45.31it/s]\u001b[A\u001b[A\n",
      "\n",
      " 15%|█▌        | 20/130 [00:00<00:02, 45.17it/s]\u001b[A\u001b[A\n",
      "\n",
      " 19%|█▉        | 25/130 [00:00<00:02, 45.09it/s]\u001b[A\u001b[A\n",
      "\n",
      " 23%|██▎       | 30/130 [00:00<00:02, 44.98it/s]\u001b[A\u001b[A\n",
      "\n",
      " 27%|██▋       | 35/130 [00:00<00:02, 44.96it/s]\u001b[A\u001b[A\n",
      "\n",
      " 31%|███       | 40/130 [00:00<00:02, 44.88it/s]\u001b[A\u001b[A\n",
      "\n",
      " 35%|███▍      | 45/130 [00:01<00:01, 44.91it/s]\u001b[A\u001b[A\n",
      "\n",
      " 38%|███▊      | 50/130 [00:01<00:01, 44.86it/s]\u001b[A\u001b[A\n",
      "\n",
      " 42%|████▏     | 55/130 [00:01<00:01, 44.87it/s]\u001b[A\u001b[A\n",
      "\n",
      " 46%|████▌     | 60/130 [00:01<00:01, 44.82it/s]\u001b[A\u001b[A\n",
      "\n",
      " 50%|█████     | 65/130 [00:01<00:01, 44.84it/s]\u001b[A\u001b[A\n",
      "\n",
      " 54%|█████▍    | 70/130 [00:01<00:01, 44.79it/s]\u001b[A\u001b[A\n",
      "\n",
      " 58%|█████▊    | 75/130 [00:01<00:01, 44.84it/s]\u001b[A\u001b[A\n",
      "\n",
      " 62%|██████▏   | 80/130 [00:01<00:01, 44.85it/s]\u001b[A\u001b[A\n",
      "\n",
      " 65%|██████▌   | 85/130 [00:01<00:01, 44.89it/s]\u001b[A\u001b[A\n",
      "\n",
      " 69%|██████▉   | 90/130 [00:02<00:00, 44.90it/s]\u001b[A\u001b[A\n",
      "\n",
      " 73%|███████▎  | 95/130 [00:02<00:00, 44.89it/s]\u001b[A\u001b[A\n",
      "\n",
      " 77%|███████▋  | 100/130 [00:02<00:00, 44.89it/s]\u001b[A\u001b[A\n",
      "\n",
      " 81%|████████  | 105/130 [00:02<00:00, 44.84it/s]\u001b[A\u001b[A\n",
      "\n",
      " 85%|████████▍ | 110/130 [00:02<00:00, 44.87it/s]\u001b[A\u001b[A\n",
      "\n",
      " 88%|████████▊ | 115/130 [00:02<00:00, 44.82it/s]\u001b[A\u001b[A\n",
      "\n",
      " 92%|█████████▏| 120/130 [00:02<00:00, 44.85it/s]\u001b[A\u001b[A\n",
      "\n",
      " 96%|█████████▌| 125/130 [00:02<00:00, 44.79it/s]\u001b[A\u001b[A\n",
      "\n",
      "100%|██████████| 130/130 [00:02<00:00, 44.87it/s]\u001b[A\u001b[A\n",
      "\n",
      "\n",
      "  0%|          | 0/8 [00:00<?, ?it/s]\u001b[A\u001b[A\n",
      "\n",
      " 25%|██▌       | 2/8 [00:00<00:00, 10.39it/s]\u001b[A\u001b[A"
     ]
    },
    {
     "name": "stdout",
     "output_type": "stream",
     "text": [
      "\n",
      "======== Epoch 5 / 10 ========\n",
      "\n",
      "Training...\n"
     ]
    },
    {
     "name": "stderr",
     "output_type": "stream",
     "text": [
      "\n",
      "\n",
      " 38%|███▊      | 3/8 [00:00<00:00, 10.24it/s]\u001b[A\u001b[A\n",
      "\n",
      " 50%|█████     | 4/8 [00:00<00:00, 10.15it/s]\u001b[A\u001b[A\n",
      "\n",
      " 62%|██████▎   | 5/8 [00:00<00:00, 10.08it/s]\u001b[A\u001b[A\n",
      "\n",
      " 75%|███████▌  | 6/8 [00:00<00:00, 10.04it/s]\u001b[A\u001b[A\n",
      "\n",
      " 88%|████████▊ | 7/8 [00:00<00:00, 10.01it/s]\u001b[A\u001b[A\n",
      "\n",
      "100%|██████████| 8/8 [00:00<00:00, 10.03it/s]\u001b[A\u001b[A\n",
      "\n",
      "\n",
      "  0%|          | 0/65 [00:00<?, ?it/s]\u001b[A\u001b[A\n",
      "\n",
      "  8%|▊         | 5/65 [00:00<00:01, 45.18it/s]\u001b[A\u001b[A"
     ]
    },
    {
     "name": "stdout",
     "output_type": "stream",
     "text": [
      "avg_train_loss 0.4895254075527191\n",
      "train_f1Score 0.8169014084507042\n",
      "train_accuracy 0.796875\n",
      "\n",
      "Running Validation...\n"
     ]
    },
    {
     "name": "stderr",
     "output_type": "stream",
     "text": [
      "\n",
      "\n",
      " 15%|█▌        | 10/65 [00:00<00:01, 45.09it/s]\u001b[A\u001b[A\n",
      "\n",
      " 23%|██▎       | 15/65 [00:00<00:01, 45.05it/s]\u001b[A\u001b[A\n",
      "\n",
      " 31%|███       | 20/65 [00:00<00:01, 44.91it/s]\u001b[A\u001b[A\n",
      "\n",
      " 38%|███▊      | 25/65 [00:00<00:00, 44.85it/s]\u001b[A\u001b[A\n",
      "\n",
      " 46%|████▌     | 30/65 [00:00<00:00, 44.82it/s]\u001b[A\u001b[A\n",
      "\n",
      " 54%|█████▍    | 35/65 [00:00<00:00, 44.77it/s]\u001b[A\u001b[A\n",
      "\n",
      " 62%|██████▏   | 40/65 [00:00<00:00, 44.75it/s]\u001b[A\u001b[A\n",
      "\n",
      " 69%|██████▉   | 45/65 [00:01<00:00, 44.72it/s]\u001b[A\u001b[A\n",
      "\n",
      " 77%|███████▋  | 50/65 [00:01<00:00, 44.82it/s]\u001b[A\u001b[A\n",
      "\n",
      " 85%|████████▍ | 55/65 [00:01<00:00, 44.71it/s]\u001b[A\u001b[A\n",
      "\n",
      " 92%|█████████▏| 60/65 [00:01<00:00, 44.73it/s]\u001b[A\u001b[A\n",
      "\n",
      "100%|██████████| 65/65 [00:01<00:00, 44.77it/s]\u001b[A\u001b[A\n",
      "\n",
      "\n",
      "  0%|          | 0/130 [00:00<?, ?it/s]\u001b[A\u001b[A\n",
      "\n",
      "  4%|▍         | 5/130 [00:00<00:02, 44.92it/s]\u001b[A\u001b[A"
     ]
    },
    {
     "name": "stdout",
     "output_type": "stream",
     "text": [
      "Validation Loss:  0.6943582062537853\n",
      "Validation Accuracy:  0.6326923076923077\n",
      "Best mF1Score....\n"
     ]
    },
    {
     "name": "stderr",
     "output_type": "stream",
     "text": [
      "\n",
      "\n",
      "  8%|▊         | 10/130 [00:00<00:02, 44.85it/s]\u001b[A\u001b[A\n",
      "\n",
      " 12%|█▏        | 15/130 [00:00<00:02, 44.75it/s]\u001b[A\u001b[A\n",
      "\n",
      " 15%|█▌        | 20/130 [00:00<00:02, 44.60it/s]\u001b[A\u001b[A\n",
      "\n",
      " 19%|█▉        | 25/130 [00:00<00:02, 44.51it/s]\u001b[A\u001b[A\n",
      "\n",
      " 23%|██▎       | 30/130 [00:00<00:02, 44.60it/s]\u001b[A\u001b[A\n",
      "\n",
      " 27%|██▋       | 35/130 [00:00<00:02, 44.53it/s]\u001b[A\u001b[A\n",
      "\n",
      " 31%|███       | 40/130 [00:00<00:02, 44.67it/s]\u001b[A\u001b[A\n",
      "\n",
      " 35%|███▍      | 45/130 [00:01<00:01, 44.48it/s]\u001b[A\u001b[A\n",
      "\n",
      " 38%|███▊      | 50/130 [00:01<00:01, 44.53it/s]\u001b[A\u001b[A\n",
      "\n",
      " 42%|████▏     | 55/130 [00:01<00:01, 44.58it/s]\u001b[A\u001b[A\n",
      "\n",
      " 46%|████▌     | 60/130 [00:01<00:01, 44.61it/s]\u001b[A\u001b[A\n",
      "\n",
      " 50%|█████     | 65/130 [00:01<00:01, 44.63it/s]\u001b[A\u001b[A\n",
      "\n",
      " 54%|█████▍    | 70/130 [00:01<00:01, 44.63it/s]\u001b[A\u001b[A\n",
      "\n",
      " 58%|█████▊    | 75/130 [00:01<00:01, 44.67it/s]\u001b[A\u001b[A\n",
      "\n",
      " 62%|██████▏   | 80/130 [00:01<00:01, 44.69it/s]\u001b[A\u001b[A\n",
      "\n",
      " 65%|██████▌   | 85/130 [00:01<00:01, 44.66it/s]\u001b[A\u001b[A\n",
      "\n",
      " 69%|██████▉   | 90/130 [00:02<00:00, 44.66it/s]\u001b[A\u001b[A\n",
      "\n",
      " 73%|███████▎  | 95/130 [00:02<00:00, 44.65it/s]\u001b[A\u001b[A\n",
      "\n",
      " 77%|███████▋  | 100/130 [00:02<00:00, 44.38it/s]\u001b[A\u001b[A\n",
      "\n",
      " 81%|████████  | 105/130 [00:02<00:00, 44.35it/s]\u001b[A\u001b[A\n",
      "\n",
      " 85%|████████▍ | 110/130 [00:02<00:00, 44.26it/s]\u001b[A\u001b[A\n",
      "\n",
      " 88%|████████▊ | 115/130 [00:02<00:00, 44.37it/s]\u001b[A\u001b[A\n",
      "\n",
      " 92%|█████████▏| 120/130 [00:02<00:00, 44.46it/s]\u001b[A\u001b[A\n",
      "\n",
      " 96%|█████████▌| 125/130 [00:02<00:00, 44.32it/s]\u001b[A\u001b[A\n",
      "\n",
      "100%|██████████| 130/130 [00:02<00:00, 44.48it/s]\u001b[A\u001b[A\n",
      "\n",
      "\n",
      "  0%|          | 0/8 [00:00<?, ?it/s]\u001b[A\u001b[A\n",
      "\n",
      " 25%|██▌       | 2/8 [00:00<00:00, 10.44it/s]\u001b[A\u001b[A"
     ]
    },
    {
     "name": "stdout",
     "output_type": "stream",
     "text": [
      "\n",
      "======== Epoch 6 / 10 ========\n",
      "\n",
      "Training...\n"
     ]
    },
    {
     "name": "stderr",
     "output_type": "stream",
     "text": [
      "\n",
      "\n",
      " 50%|█████     | 4/8 [00:00<00:00, 10.34it/s]\u001b[A\u001b[A\n",
      "\n",
      " 75%|███████▌  | 6/8 [00:00<00:00, 10.29it/s]\u001b[A\u001b[A\n",
      "\n",
      "100%|██████████| 8/8 [00:00<00:00, 10.22it/s]\u001b[A\u001b[A\n",
      "\n",
      "\n",
      "  0%|          | 0/65 [00:00<?, ?it/s]\u001b[A\u001b[A\n",
      "\n",
      "  8%|▊         | 5/65 [00:00<00:01, 46.18it/s]\u001b[A\u001b[A"
     ]
    },
    {
     "name": "stdout",
     "output_type": "stream",
     "text": [
      "avg_train_loss 0.40898991748690605\n",
      "train_f1Score 0.8\n",
      "train_accuracy 0.828125\n",
      "\n",
      "Running Validation...\n"
     ]
    },
    {
     "name": "stderr",
     "output_type": "stream",
     "text": [
      "\n",
      "\n",
      " 15%|█▌        | 10/65 [00:00<00:01, 45.75it/s]\u001b[A\u001b[A\n",
      "\n",
      " 23%|██▎       | 15/65 [00:00<00:01, 45.20it/s]\u001b[A\u001b[A\n",
      "\n",
      " 31%|███       | 20/65 [00:00<00:01, 44.72it/s]\u001b[A\u001b[A\n",
      "\n",
      " 38%|███▊      | 25/65 [00:00<00:00, 44.59it/s]\u001b[A\u001b[A\n",
      "\n",
      " 46%|████▌     | 30/65 [00:00<00:00, 44.73it/s]\u001b[A\u001b[A\n",
      "\n",
      " 54%|█████▍    | 35/65 [00:00<00:00, 44.46it/s]\u001b[A\u001b[A\n",
      "\n",
      " 62%|██████▏   | 40/65 [00:00<00:00, 44.32it/s]\u001b[A\u001b[A\n",
      "\n",
      " 69%|██████▉   | 45/65 [00:01<00:00, 44.32it/s]\u001b[A\u001b[A\n",
      "\n",
      " 77%|███████▋  | 50/65 [00:01<00:00, 44.41it/s]\u001b[A\u001b[A\n",
      "\n",
      " 85%|████████▍ | 55/65 [00:01<00:00, 44.34it/s]\u001b[A\u001b[A\n",
      "\n",
      " 92%|█████████▏| 60/65 [00:01<00:00, 44.43it/s]\u001b[A\u001b[A\n",
      "\n",
      "100%|██████████| 65/65 [00:01<00:00, 44.43it/s]\u001b[A\u001b[A\n",
      "\n",
      "\n",
      "  0%|          | 0/130 [00:00<?, ?it/s]\u001b[A\u001b[A\n",
      "\n"
     ]
    }
   ],
   "source": [
    "run_args={\n",
    "    'model_name':'few_shot',\n",
    "    'data_path':'Data_Processed/Let-Mi/',\n",
    "    'train_cnt':256,\n",
    "    'res_base_path': 'Results/Let-Mi/fewData_fewShot/',\n",
    "    'model_save_path': 'Saved_Models/Let-Mi/',\n",
    "    'isArabic': True,\n",
    "}\n",
    "\n",
    "model_args={\n",
    "        'seed_val': 42,\n",
    "        'batch_size': 8,\n",
    "        'bert_model': \"bert-base-multilingual-cased\",\n",
    "        'learning_rate': 2e-5,\n",
    "        'epochs': 10,\n",
    "        'max_len': 128,\n",
    "        'device': 'cuda',\n",
    "        'weights': [1.0, 1.0],\n",
    "        'save_model': False,\n",
    "        'model_save_path': '',\n",
    "        'isArabic': True,\n",
    "        'model_path': \"Saved_Models/Shared_Task_eng_1/best_bert_3_all.pt\",\n",
    "    }\n",
    "run_part(run_args,model_args)"
   ]
  },
  {
   "cell_type": "markdown",
   "metadata": {},
   "source": [
    "## Italian few Data"
   ]
  },
  {
   "cell_type": "code",
   "execution_count": null,
   "metadata": {
    "scrolled": true
   },
   "outputs": [
    {
     "name": "stdout",
     "output_type": "stream",
     "text": [
      "Fold:  1\n",
      "Run:  1\n",
      "\tInitialising Model....\n"
     ]
    },
    {
     "name": "stderr",
     "output_type": "stream",
     "text": [
      "\n",
      "\n",
      "100%|██████████| 64/64 [00:00<00:00, 2419.84it/s]\n",
      "\n",
      "\n",
      "  0%|          | 0/991 [00:00<?, ?it/s]\u001b[A\u001b[A"
     ]
    },
    {
     "name": "stdout",
     "output_type": "stream",
     "text": [
      "\tLoading Dataset....\n"
     ]
    },
    {
     "name": "stderr",
     "output_type": "stream",
     "text": [
      "\n",
      "\n",
      " 34%|███▎      | 334/991 [00:00<00:00, 3332.80it/s]\u001b[A\u001b[A\n",
      "\n",
      "100%|██████████| 991/991 [00:00<00:00, 3406.50it/s]\u001b[A\u001b[A\n",
      "\n",
      "\n",
      "  0%|          | 0/1983 [00:00<?, ?it/s]\u001b[A\u001b[A\n",
      "\n",
      " 18%|█▊        | 348/1983 [00:00<00:00, 3479.52it/s]\u001b[A\u001b[A\n",
      "\n",
      " 36%|███▌      | 715/1983 [00:00<00:00, 3533.14it/s]\u001b[A\u001b[A\n",
      "\n",
      " 54%|█████▍    | 1080/1983 [00:00<00:00, 3563.82it/s]\u001b[A\u001b[A\n",
      "\n",
      " 73%|███████▎  | 1450/1983 [00:00<00:00, 3603.45it/s]\u001b[A\u001b[A\n",
      "\n",
      "100%|██████████| 1983/1983 [00:00<00:00, 3575.19it/s]\u001b[A\u001b[A\n",
      "\n",
      "\n",
      "100%|██████████| 64/64 [00:00<00:00, 4486.41it/s]\n",
      "\n",
      "\n",
      "  0%|          | 0/991 [00:00<?, ?it/s]\u001b[A\u001b[A\n",
      "\n",
      " 39%|███▉      | 385/991 [00:00<00:00, 3848.00it/s]\u001b[A\u001b[A\n",
      "\n"
     ]
    },
    {
     "name": "stdout",
     "output_type": "stream",
     "text": [
      "\tTraining Starts....\n"
     ]
    },
    {
     "name": "stderr",
     "output_type": "stream",
     "text": [
      "100%|██████████| 991/991 [00:00<00:00, 3894.98it/s]\u001b[A\u001b[A\n",
      "\n",
      "\n",
      "  0%|          | 0/1983 [00:00<?, ?it/s]\u001b[A\u001b[A\n",
      "\n",
      " 21%|██        | 407/1983 [00:00<00:00, 4069.45it/s]\u001b[A\u001b[A\n",
      "\n",
      " 41%|████▏     | 822/1983 [00:00<00:00, 4092.20it/s]\u001b[A\u001b[A\n",
      "\n",
      " 63%|██████▎   | 1242/1983 [00:00<00:00, 4123.88it/s]\u001b[A\u001b[A\n",
      "\n",
      "100%|██████████| 1983/1983 [00:00<00:00, 4077.94it/s]\u001b[A\u001b[A\n",
      "Some weights of the model checkpoint at bert-base-multilingual-cased were not used when initializing BertForSequenceClassification: ['cls.predictions.bias', 'cls.predictions.transform.dense.weight', 'cls.predictions.transform.dense.bias', 'cls.predictions.decoder.weight', 'cls.seq_relationship.weight', 'cls.seq_relationship.bias', 'cls.predictions.transform.LayerNorm.weight', 'cls.predictions.transform.LayerNorm.bias']\n",
      "- This IS expected if you are initializing BertForSequenceClassification from the checkpoint of a model trained on another task or with another architecture (e.g. initializing a BertForSequenceClassification model from a BertForPreTraining model).\n",
      "- This IS NOT expected if you are initializing BertForSequenceClassification from the checkpoint of a model that you expect to be exactly identical (initializing a BertForSequenceClassification model from a BertForSequenceClassification model).\n",
      "Some weights of BertForSequenceClassification were not initialized from the model checkpoint at bert-base-multilingual-cased and are newly initialized: ['classifier.weight', 'classifier.bias']\n",
      "You should probably TRAIN this model on a down-stream task to be able to use it for predictions and inference.\n",
      "\n",
      "\n",
      "  0%|          | 0/8 [00:00<?, ?it/s]\u001b[A\u001b[A\n",
      "\n",
      " 25%|██▌       | 2/8 [00:00<00:00, 10.67it/s]\u001b[A\u001b[A"
     ]
    },
    {
     "name": "stdout",
     "output_type": "stream",
     "text": [
      "\n",
      "======== Epoch 1 / 10 ========\n",
      "\n",
      "Training...\n"
     ]
    },
    {
     "name": "stderr",
     "output_type": "stream",
     "text": [
      "\n",
      "\n",
      " 50%|█████     | 4/8 [00:00<00:00, 10.60it/s]\u001b[A\u001b[A\n",
      "\n",
      " 75%|███████▌  | 6/8 [00:00<00:00, 10.59it/s]\u001b[A\u001b[A\n",
      "\n",
      "100%|██████████| 8/8 [00:00<00:00, 10.55it/s]\u001b[A\u001b[A\n",
      "\n",
      "\n",
      "  0%|          | 0/123 [00:00<?, ?it/s]\u001b[A\u001b[A\n",
      "\n",
      "  4%|▍         | 5/123 [00:00<00:02, 48.88it/s]\u001b[A\u001b[A"
     ]
    },
    {
     "name": "stdout",
     "output_type": "stream",
     "text": [
      "avg_train_loss 1.1001893728971481\n",
      "train_f1Score 0.05714285714285714\n",
      "train_accuracy 0.484375\n",
      "\n",
      "Running Validation...\n"
     ]
    },
    {
     "name": "stderr",
     "output_type": "stream",
     "text": [
      "\n",
      "\n",
      "  8%|▊         | 10/123 [00:00<00:02, 48.46it/s]\u001b[A\u001b[A\n",
      "\n",
      " 12%|█▏        | 15/123 [00:00<00:02, 48.13it/s]\u001b[A\u001b[A\n",
      "\n",
      " 16%|█▋        | 20/123 [00:00<00:02, 47.98it/s]\u001b[A\u001b[A\n",
      "\n",
      " 20%|██        | 25/123 [00:00<00:02, 47.87it/s]\u001b[A\u001b[A\n",
      "\n",
      " 24%|██▍       | 30/123 [00:00<00:01, 47.80it/s]\u001b[A\u001b[A\n",
      "\n",
      " 28%|██▊       | 35/123 [00:00<00:01, 47.77it/s]\u001b[A\u001b[A\n",
      "\n",
      " 33%|███▎      | 40/123 [00:00<00:01, 47.66it/s]\u001b[A\u001b[A\n",
      "\n",
      " 37%|███▋      | 45/123 [00:00<00:01, 47.37it/s]\u001b[A\u001b[A\n",
      "\n",
      " 41%|████      | 50/123 [00:01<00:01, 47.42it/s]\u001b[A\u001b[A\n",
      "\n",
      " 45%|████▍     | 55/123 [00:01<00:01, 47.49it/s]\u001b[A\u001b[A\n",
      "\n",
      " 49%|████▉     | 60/123 [00:01<00:01, 47.40it/s]\u001b[A\u001b[A\n",
      "\n",
      " 53%|█████▎    | 65/123 [00:01<00:01, 47.46it/s]\u001b[A\u001b[A\n",
      "\n",
      " 57%|█████▋    | 70/123 [00:01<00:01, 47.52it/s]\u001b[A\u001b[A\n",
      "\n",
      " 61%|██████    | 75/123 [00:01<00:01, 47.55it/s]\u001b[A\u001b[A\n",
      "\n",
      " 65%|██████▌   | 80/123 [00:01<00:00, 47.59it/s]\u001b[A\u001b[A\n",
      "\n",
      " 69%|██████▉   | 85/123 [00:01<00:00, 47.48it/s]\u001b[A\u001b[A\n",
      "\n",
      " 73%|███████▎  | 90/123 [00:01<00:00, 47.35it/s]\u001b[A\u001b[A\n",
      "\n",
      " 77%|███████▋  | 95/123 [00:01<00:00, 47.31it/s]\u001b[A\u001b[A\n",
      "\n",
      " 81%|████████▏ | 100/123 [00:02<00:00, 47.36it/s]\u001b[A\u001b[A\n",
      "\n",
      " 85%|████████▌ | 105/123 [00:02<00:00, 47.30it/s]\u001b[A\u001b[A\n",
      "\n",
      " 89%|████████▉ | 110/123 [00:02<00:00, 47.37it/s]\u001b[A\u001b[A\n",
      "\n",
      " 93%|█████████▎| 115/123 [00:02<00:00, 47.46it/s]\u001b[A\u001b[A\n",
      "\n",
      "100%|██████████| 123/123 [00:02<00:00, 47.48it/s]\u001b[A\u001b[A\n",
      "\n",
      "\n",
      "  0%|          | 0/247 [00:00<?, ?it/s]\u001b[A\u001b[A\n",
      "\n",
      "  2%|▏         | 5/247 [00:00<00:05, 48.01it/s]\u001b[A\u001b[A"
     ]
    },
    {
     "name": "stdout",
     "output_type": "stream",
     "text": [
      "Validation Loss:  0.8366757845733224\n",
      "Validation Accuracy:  0.5304878048780488\n",
      "Best mF1Score....\n"
     ]
    },
    {
     "name": "stderr",
     "output_type": "stream",
     "text": [
      "\n",
      "\n",
      "  4%|▍         | 10/247 [00:00<00:04, 47.84it/s]\u001b[A\u001b[A\n",
      "\n",
      "  6%|▌         | 15/247 [00:00<00:04, 47.71it/s]\u001b[A\u001b[A\n",
      "\n",
      "  8%|▊         | 20/247 [00:00<00:04, 47.57it/s]\u001b[A\u001b[A\n",
      "\n",
      " 10%|█         | 25/247 [00:00<00:04, 47.51it/s]\u001b[A\u001b[A\n",
      "\n",
      " 12%|█▏        | 30/247 [00:00<00:04, 47.45it/s]\u001b[A\u001b[A\n",
      "\n",
      " 14%|█▍        | 35/247 [00:00<00:04, 47.45it/s]\u001b[A\u001b[A\n",
      "\n",
      " 16%|█▌        | 40/247 [00:00<00:04, 47.33it/s]\u001b[A\u001b[A\n",
      "\n",
      " 18%|█▊        | 45/247 [00:00<00:04, 47.31it/s]\u001b[A\u001b[A\n",
      "\n",
      " 20%|██        | 50/247 [00:01<00:04, 47.30it/s]\u001b[A\u001b[A\n",
      "\n",
      " 22%|██▏       | 55/247 [00:01<00:04, 47.31it/s]\u001b[A\u001b[A\n",
      "\n",
      " 24%|██▍       | 60/247 [00:01<00:03, 47.27it/s]\u001b[A\u001b[A\n",
      "\n",
      " 26%|██▋       | 65/247 [00:01<00:03, 47.27it/s]\u001b[A\u001b[A\n",
      "\n",
      " 28%|██▊       | 70/247 [00:01<00:03, 47.27it/s]\u001b[A\u001b[A\n",
      "\n",
      " 30%|███       | 75/247 [00:01<00:03, 47.29it/s]\u001b[A\u001b[A\n",
      "\n",
      " 32%|███▏      | 80/247 [00:01<00:03, 47.29it/s]\u001b[A\u001b[A\n",
      "\n",
      " 34%|███▍      | 85/247 [00:01<00:03, 47.30it/s]\u001b[A\u001b[A\n",
      "\n",
      " 36%|███▋      | 90/247 [00:01<00:03, 47.26it/s]\u001b[A\u001b[A\n",
      "\n",
      " 38%|███▊      | 95/247 [00:02<00:03, 47.23it/s]\u001b[A\u001b[A\n",
      "\n",
      " 40%|████      | 100/247 [00:02<00:03, 47.22it/s]\u001b[A\u001b[A\n",
      "\n",
      " 43%|████▎     | 105/247 [00:02<00:03, 47.22it/s]\u001b[A\u001b[A\n",
      "\n",
      " 45%|████▍     | 110/247 [00:02<00:02, 47.25it/s]\u001b[A\u001b[A\n",
      "\n",
      " 47%|████▋     | 115/247 [00:02<00:02, 47.24it/s]\u001b[A\u001b[A\n",
      "\n",
      " 49%|████▊     | 120/247 [00:02<00:02, 47.25it/s]\u001b[A\u001b[A\n",
      "\n",
      " 51%|█████     | 125/247 [00:02<00:02, 47.21it/s]\u001b[A\u001b[A\n",
      "\n",
      " 53%|█████▎    | 130/247 [00:02<00:02, 47.22it/s]\u001b[A\u001b[A\n",
      "\n",
      " 55%|█████▍    | 135/247 [00:02<00:02, 47.25it/s]\u001b[A\u001b[A\n",
      "\n",
      " 57%|█████▋    | 140/247 [00:02<00:02, 47.15it/s]\u001b[A\u001b[A\n",
      "\n",
      " 59%|█████▊    | 145/247 [00:03<00:02, 47.16it/s]\u001b[A\u001b[A\n",
      "\n",
      " 61%|██████    | 150/247 [00:03<00:02, 47.12it/s]\u001b[A\u001b[A\n",
      "\n",
      " 63%|██████▎   | 155/247 [00:03<00:01, 47.11it/s]\u001b[A\u001b[A\n",
      "\n",
      " 65%|██████▍   | 160/247 [00:03<00:01, 47.15it/s]\u001b[A\u001b[A\n",
      "\n",
      " 67%|██████▋   | 165/247 [00:03<00:01, 47.12it/s]\u001b[A\u001b[A\n",
      "\n",
      " 69%|██████▉   | 170/247 [00:03<00:01, 47.13it/s]\u001b[A\u001b[A\n",
      "\n",
      " 71%|███████   | 175/247 [00:03<00:01, 47.15it/s]\u001b[A\u001b[A\n",
      "\n",
      " 73%|███████▎  | 180/247 [00:03<00:01, 47.14it/s]\u001b[A\u001b[A\n",
      "\n",
      " 75%|███████▍  | 185/247 [00:03<00:01, 47.07it/s]\u001b[A\u001b[A\n",
      "\n",
      " 77%|███████▋  | 190/247 [00:04<00:01, 47.09it/s]\u001b[A\u001b[A\n",
      "\n",
      " 79%|███████▉  | 195/247 [00:04<00:01, 47.00it/s]\u001b[A\u001b[A\n",
      "\n",
      " 81%|████████  | 200/247 [00:04<00:00, 47.03it/s]\u001b[A\u001b[A\n",
      "\n",
      " 83%|████████▎ | 205/247 [00:04<00:00, 47.10it/s]\u001b[A\u001b[A\n",
      "\n",
      " 85%|████████▌ | 210/247 [00:04<00:00, 47.06it/s]\u001b[A\u001b[A\n",
      "\n",
      " 87%|████████▋ | 215/247 [00:04<00:00, 47.07it/s]\u001b[A\u001b[A\n",
      "\n",
      " 89%|████████▉ | 220/247 [00:04<00:00, 47.08it/s]\u001b[A\u001b[A\n",
      "\n",
      " 91%|█████████ | 225/247 [00:04<00:00, 47.08it/s]\u001b[A\u001b[A\n",
      "\n",
      " 93%|█████████▎| 230/247 [00:04<00:00, 47.01it/s]\u001b[A\u001b[A\n",
      "\n",
      " 95%|█████████▌| 235/247 [00:04<00:00, 46.99it/s]\u001b[A\u001b[A\n",
      "\n",
      " 97%|█████████▋| 240/247 [00:05<00:00, 46.92it/s]\u001b[A\u001b[A\n",
      "\n",
      "100%|██████████| 247/247 [00:05<00:00, 47.18it/s]\u001b[A\u001b[A\n",
      "\n",
      "\n",
      "  0%|          | 0/8 [00:00<?, ?it/s]\u001b[A\u001b[A\n",
      "\n",
      " 25%|██▌       | 2/8 [00:00<00:00, 10.91it/s]\u001b[A\u001b[A"
     ]
    },
    {
     "name": "stdout",
     "output_type": "stream",
     "text": [
      "\n",
      "======== Epoch 2 / 10 ========\n",
      "\n",
      "Training...\n"
     ]
    },
    {
     "name": "stderr",
     "output_type": "stream",
     "text": [
      "\n",
      "\n",
      " 50%|█████     | 4/8 [00:00<00:00, 10.77it/s]\u001b[A\u001b[A\n",
      "\n",
      " 75%|███████▌  | 6/8 [00:00<00:00, 10.69it/s]\u001b[A\u001b[A\n",
      "\n",
      "100%|██████████| 8/8 [00:00<00:00, 10.58it/s]\u001b[A\u001b[A\n",
      "\n",
      "\n",
      "  0%|          | 0/123 [00:00<?, ?it/s]\u001b[A\u001b[A\n",
      "\n",
      "  4%|▍         | 5/123 [00:00<00:02, 48.19it/s]\u001b[A\u001b[A"
     ]
    },
    {
     "name": "stdout",
     "output_type": "stream",
     "text": [
      "avg_train_loss 0.7565140500664711\n",
      "train_f1Score 0.3255813953488372\n",
      "train_accuracy 0.546875\n",
      "\n",
      "Running Validation...\n"
     ]
    },
    {
     "name": "stderr",
     "output_type": "stream",
     "text": [
      "\n",
      "\n",
      "  8%|▊         | 10/123 [00:00<00:02, 47.87it/s]\u001b[A\u001b[A\n",
      "\n",
      " 12%|█▏        | 15/123 [00:00<00:02, 47.68it/s]\u001b[A\u001b[A\n",
      "\n",
      " 16%|█▋        | 20/123 [00:00<00:02, 47.43it/s]\u001b[A\u001b[A\n",
      "\n",
      " 20%|██        | 25/123 [00:00<00:02, 47.34it/s]\u001b[A\u001b[A\n",
      "\n",
      " 24%|██▍       | 30/123 [00:00<00:01, 47.23it/s]\u001b[A\u001b[A\n",
      "\n",
      " 28%|██▊       | 35/123 [00:00<00:01, 47.20it/s]\u001b[A\u001b[A\n",
      "\n",
      " 33%|███▎      | 40/123 [00:00<00:01, 47.33it/s]\u001b[A\u001b[A\n",
      "\n",
      " 37%|███▋      | 45/123 [00:00<00:01, 46.79it/s]\u001b[A\u001b[A\n",
      "\n",
      " 41%|████      | 50/123 [00:01<00:01, 46.74it/s]\u001b[A\u001b[A\n",
      "\n",
      " 45%|████▍     | 55/123 [00:01<00:01, 46.84it/s]\u001b[A\u001b[A\n",
      "\n",
      " 49%|████▉     | 60/123 [00:01<00:01, 46.84it/s]\u001b[A\u001b[A\n",
      "\n",
      " 53%|█████▎    | 65/123 [00:01<00:01, 46.85it/s]\u001b[A\u001b[A\n",
      "\n",
      " 57%|█████▋    | 70/123 [00:01<00:01, 46.89it/s]\u001b[A\u001b[A\n",
      "\n",
      " 61%|██████    | 75/123 [00:01<00:01, 46.87it/s]\u001b[A\u001b[A\n",
      "\n",
      " 65%|██████▌   | 80/123 [00:01<00:00, 46.86it/s]\u001b[A\u001b[A\n",
      "\n",
      " 69%|██████▉   | 85/123 [00:01<00:00, 46.91it/s]\u001b[A\u001b[A\n",
      "\n",
      " 73%|███████▎  | 90/123 [00:01<00:00, 46.90it/s]\u001b[A\u001b[A\n",
      "\n",
      " 77%|███████▋  | 95/123 [00:02<00:00, 46.85it/s]\u001b[A\u001b[A\n",
      "\n",
      " 81%|████████▏ | 100/123 [00:02<00:00, 46.85it/s]\u001b[A\u001b[A\n",
      "\n",
      " 85%|████████▌ | 105/123 [00:02<00:00, 46.81it/s]\u001b[A\u001b[A\n",
      "\n",
      " 89%|████████▉ | 110/123 [00:02<00:00, 46.78it/s]\u001b[A\u001b[A\n",
      "\n",
      " 93%|█████████▎| 115/123 [00:02<00:00, 46.78it/s]\u001b[A\u001b[A\n",
      "\n",
      "100%|██████████| 123/123 [00:02<00:00, 46.92it/s]\u001b[A\u001b[A\n",
      "\n",
      "\n",
      "  0%|          | 0/247 [00:00<?, ?it/s]\u001b[A\u001b[A\n",
      "\n",
      "  2%|▏         | 5/247 [00:00<00:05, 47.50it/s]\u001b[A\u001b[A"
     ]
    },
    {
     "name": "stdout",
     "output_type": "stream",
     "text": [
      "Validation Loss:  0.6856275331683275\n",
      "Validation Accuracy:  0.5894308943089431\n",
      "Testing Model....\n"
     ]
    },
    {
     "name": "stderr",
     "output_type": "stream",
     "text": [
      "\n",
      "\n",
      "  4%|▍         | 10/247 [00:00<00:05, 47.29it/s]\u001b[A\u001b[A\n",
      "\n",
      "  6%|▌         | 15/247 [00:00<00:04, 47.14it/s]\u001b[A\u001b[A\n",
      "\n",
      "  8%|▊         | 20/247 [00:00<00:04, 47.07it/s]\u001b[A\u001b[A\n",
      "\n",
      " 10%|█         | 25/247 [00:00<00:04, 46.97it/s]\u001b[A\u001b[A\n",
      "\n",
      " 12%|█▏        | 30/247 [00:00<00:04, 47.00it/s]\u001b[A\u001b[A\n",
      "\n",
      " 14%|█▍        | 35/247 [00:00<00:04, 46.82it/s]\u001b[A\u001b[A\n",
      "\n",
      " 16%|█▌        | 40/247 [00:00<00:04, 46.81it/s]\u001b[A\u001b[A\n",
      "\n",
      " 18%|█▊        | 45/247 [00:00<00:04, 46.67it/s]\u001b[A\u001b[A\n",
      "\n",
      " 20%|██        | 50/247 [00:01<00:04, 46.63it/s]\u001b[A\u001b[A\n",
      "\n",
      " 22%|██▏       | 55/247 [00:01<00:04, 46.69it/s]\u001b[A\u001b[A\n",
      "\n",
      " 24%|██▍       | 60/247 [00:01<00:04, 46.69it/s]\u001b[A\u001b[A\n",
      "\n",
      " 26%|██▋       | 65/247 [00:01<00:03, 46.68it/s]\u001b[A\u001b[A\n",
      "\n",
      " 28%|██▊       | 70/247 [00:01<00:03, 46.66it/s]\u001b[A\u001b[A\n",
      "\n",
      " 30%|███       | 75/247 [00:01<00:03, 46.66it/s]\u001b[A\u001b[A\n",
      "\n",
      " 32%|███▏      | 80/247 [00:01<00:03, 46.64it/s]\u001b[A\u001b[A\n",
      "\n",
      " 34%|███▍      | 85/247 [00:01<00:03, 46.62it/s]\u001b[A\u001b[A\n",
      "\n",
      " 36%|███▋      | 90/247 [00:01<00:03, 46.51it/s]\u001b[A\u001b[A\n",
      "\n",
      " 38%|███▊      | 95/247 [00:02<00:03, 46.50it/s]\u001b[A\u001b[A\n",
      "\n",
      " 40%|████      | 100/247 [00:02<00:03, 46.57it/s]\u001b[A\u001b[A\n",
      "\n",
      " 43%|████▎     | 105/247 [00:02<00:03, 46.60it/s]\u001b[A\u001b[A\n",
      "\n",
      " 45%|████▍     | 110/247 [00:02<00:02, 46.59it/s]\u001b[A\u001b[A\n",
      "\n",
      " 47%|████▋     | 115/247 [00:02<00:02, 46.62it/s]\u001b[A\u001b[A\n",
      "\n",
      " 49%|████▊     | 120/247 [00:02<00:02, 46.62it/s]\u001b[A\u001b[A\n",
      "\n",
      " 51%|█████     | 125/247 [00:02<00:02, 46.50it/s]\u001b[A\u001b[A\n",
      "\n",
      " 53%|█████▎    | 130/247 [00:02<00:02, 46.57it/s]\u001b[A\u001b[A\n",
      "\n",
      " 55%|█████▍    | 135/247 [00:02<00:02, 46.56it/s]\u001b[A\u001b[A\n",
      "\n",
      " 57%|█████▋    | 140/247 [00:03<00:02, 46.50it/s]\u001b[A\u001b[A\n",
      "\n",
      " 59%|█████▊    | 145/247 [00:03<00:02, 46.55it/s]\u001b[A\u001b[A\n",
      "\n",
      " 61%|██████    | 150/247 [00:03<00:02, 46.54it/s]\u001b[A\u001b[A\n",
      "\n",
      " 63%|██████▎   | 155/247 [00:03<00:01, 46.56it/s]\u001b[A\u001b[A\n",
      "\n",
      " 65%|██████▍   | 160/247 [00:03<00:01, 46.60it/s]\u001b[A\u001b[A\n",
      "\n",
      " 67%|██████▋   | 165/247 [00:03<00:01, 46.52it/s]\u001b[A\u001b[A\n",
      "\n",
      " 69%|██████▉   | 170/247 [00:03<00:01, 46.47it/s]\u001b[A\u001b[A\n",
      "\n",
      " 71%|███████   | 175/247 [00:03<00:01, 46.48it/s]\u001b[A\u001b[A\n",
      "\n",
      " 73%|███████▎  | 180/247 [00:03<00:01, 46.54it/s]\u001b[A\u001b[A\n",
      "\n",
      " 75%|███████▍  | 185/247 [00:03<00:01, 46.45it/s]\u001b[A\u001b[A\n",
      "\n",
      " 77%|███████▋  | 190/247 [00:04<00:01, 46.42it/s]\u001b[A\u001b[A\n",
      "\n",
      " 79%|███████▉  | 195/247 [00:04<00:01, 46.41it/s]\u001b[A\u001b[A\n",
      "\n",
      " 81%|████████  | 200/247 [00:04<00:01, 46.46it/s]\u001b[A\u001b[A\n",
      "\n",
      " 83%|████████▎ | 205/247 [00:04<00:00, 46.49it/s]\u001b[A\u001b[A\n",
      "\n",
      " 85%|████████▌ | 210/247 [00:04<00:00, 46.53it/s]\u001b[A\u001b[A\n",
      "\n",
      " 87%|████████▋ | 215/247 [00:04<00:00, 46.43it/s]\u001b[A\u001b[A\n",
      "\n",
      " 89%|████████▉ | 220/247 [00:04<00:00, 46.46it/s]\u001b[A\u001b[A\n",
      "\n",
      " 91%|█████████ | 225/247 [00:04<00:00, 46.50it/s]\u001b[A\u001b[A\n",
      "\n",
      " 93%|█████████▎| 230/247 [00:04<00:00, 46.45it/s]\u001b[A\u001b[A\n",
      "\n",
      " 95%|█████████▌| 235/247 [00:05<00:00, 46.41it/s]\u001b[A\u001b[A\n",
      "\n",
      " 97%|█████████▋| 240/247 [00:05<00:00, 46.46it/s]\u001b[A\u001b[A\n",
      "\n",
      "100%|██████████| 247/247 [00:05<00:00, 46.57it/s]\u001b[A\u001b[A\n",
      "\n",
      "\n",
      "  0%|          | 0/247 [00:00<?, ?it/s]\u001b[A\u001b[A\n",
      "\n",
      "  2%|▏         | 5/247 [00:00<00:05, 47.34it/s]\u001b[A\u001b[A"
     ]
    },
    {
     "name": "stdout",
     "output_type": "stream",
     "text": [
      "Best mF1Score....\n"
     ]
    },
    {
     "name": "stderr",
     "output_type": "stream",
     "text": [
      "\n",
      "\n",
      "  4%|▍         | 10/247 [00:00<00:05, 47.02it/s]\u001b[A\u001b[A\n",
      "\n",
      "  6%|▌         | 15/247 [00:00<00:04, 46.92it/s]\u001b[A\u001b[A\n",
      "\n",
      "  8%|▊         | 20/247 [00:00<00:04, 46.81it/s]\u001b[A\u001b[A\n",
      "\n",
      " 10%|█         | 25/247 [00:00<00:04, 46.71it/s]\u001b[A\u001b[A\n",
      "\n",
      " 12%|█▏        | 30/247 [00:00<00:04, 46.58it/s]\u001b[A\u001b[A\n",
      "\n",
      " 14%|█▍        | 35/247 [00:00<00:04, 46.52it/s]\u001b[A\u001b[A\n",
      "\n",
      " 16%|█▌        | 40/247 [00:00<00:04, 46.47it/s]\u001b[A\u001b[A\n",
      "\n",
      " 18%|█▊        | 45/247 [00:00<00:04, 46.37it/s]\u001b[A\u001b[A\n",
      "\n",
      " 20%|██        | 50/247 [00:01<00:04, 46.37it/s]\u001b[A\u001b[A\n",
      "\n",
      " 22%|██▏       | 55/247 [00:01<00:04, 46.37it/s]\u001b[A\u001b[A\n",
      "\n",
      " 24%|██▍       | 60/247 [00:01<00:04, 46.40it/s]\u001b[A\u001b[A\n",
      "\n",
      " 26%|██▋       | 65/247 [00:01<00:03, 46.38it/s]\u001b[A\u001b[A\n",
      "\n",
      " 28%|██▊       | 70/247 [00:01<00:03, 46.37it/s]\u001b[A\u001b[A\n",
      "\n",
      " 30%|███       | 75/247 [00:01<00:03, 46.43it/s]\u001b[A\u001b[A\n",
      "\n",
      " 32%|███▏      | 80/247 [00:01<00:03, 46.32it/s]\u001b[A\u001b[A\n",
      "\n",
      " 34%|███▍      | 85/247 [00:01<00:03, 46.35it/s]\u001b[A\u001b[A\n",
      "\n",
      " 36%|███▋      | 90/247 [00:01<00:03, 46.28it/s]\u001b[A\u001b[A\n",
      "\n",
      " 38%|███▊      | 95/247 [00:02<00:03, 46.25it/s]\u001b[A\u001b[A\n",
      "\n",
      " 40%|████      | 100/247 [00:02<00:03, 46.29it/s]\u001b[A\u001b[A\n",
      "\n",
      " 43%|████▎     | 105/247 [00:02<00:03, 46.35it/s]\u001b[A\u001b[A\n",
      "\n",
      " 45%|████▍     | 110/247 [00:02<00:02, 46.14it/s]\u001b[A\u001b[A\n",
      "\n",
      " 47%|████▋     | 115/247 [00:02<00:02, 46.22it/s]\u001b[A\u001b[A\n",
      "\n",
      " 49%|████▊     | 120/247 [00:02<00:02, 46.27it/s]\u001b[A\u001b[A\n",
      "\n",
      " 51%|█████     | 125/247 [00:02<00:02, 46.26it/s]\u001b[A\u001b[A\n",
      "\n",
      " 53%|█████▎    | 130/247 [00:02<00:02, 46.26it/s]\u001b[A\u001b[A\n",
      "\n",
      " 55%|█████▍    | 135/247 [00:02<00:02, 46.24it/s]\u001b[A\u001b[A\n",
      "\n",
      " 57%|█████▋    | 140/247 [00:03<00:02, 46.20it/s]\u001b[A\u001b[A\n",
      "\n",
      " 59%|█████▊    | 145/247 [00:03<00:02, 46.26it/s]\u001b[A\u001b[A\n",
      "\n",
      " 61%|██████    | 150/247 [00:03<00:02, 46.23it/s]\u001b[A\u001b[A\n",
      "\n",
      " 63%|██████▎   | 155/247 [00:03<00:01, 46.26it/s]\u001b[A\u001b[A\n",
      "\n",
      " 65%|██████▍   | 160/247 [00:03<00:01, 46.25it/s]\u001b[A\u001b[A\n",
      "\n",
      " 67%|██████▋   | 165/247 [00:03<00:01, 46.27it/s]\u001b[A\u001b[A\n",
      "\n",
      " 69%|██████▉   | 170/247 [00:03<00:01, 46.35it/s]\u001b[A\u001b[A\n",
      "\n",
      " 71%|███████   | 175/247 [00:03<00:01, 46.28it/s]\u001b[A\u001b[A\n",
      "\n",
      " 73%|███████▎  | 180/247 [00:03<00:01, 46.25it/s]\u001b[A\u001b[A\n",
      "\n",
      " 75%|███████▍  | 185/247 [00:03<00:01, 46.26it/s]\u001b[A\u001b[A\n",
      "\n",
      " 77%|███████▋  | 190/247 [00:04<00:01, 46.24it/s]\u001b[A\u001b[A\n",
      "\n",
      " 79%|███████▉  | 195/247 [00:04<00:01, 46.19it/s]\u001b[A\u001b[A\n",
      "\n",
      " 81%|████████  | 200/247 [00:04<00:01, 46.22it/s]\u001b[A\u001b[A\n",
      "\n",
      " 83%|████████▎ | 205/247 [00:04<00:00, 46.13it/s]\u001b[A\u001b[A\n",
      "\n",
      " 85%|████████▌ | 210/247 [00:04<00:00, 46.21it/s]\u001b[A\u001b[A\n",
      "\n",
      " 87%|████████▋ | 215/247 [00:04<00:00, 46.21it/s]\u001b[A\u001b[A\n",
      "\n",
      " 89%|████████▉ | 220/247 [00:04<00:00, 46.20it/s]\u001b[A\u001b[A\n",
      "\n",
      " 91%|█████████ | 225/247 [00:04<00:00, 46.22it/s]\u001b[A\u001b[A\n",
      "\n",
      " 93%|█████████▎| 230/247 [00:04<00:00, 46.25it/s]\u001b[A\u001b[A\n",
      "\n",
      " 95%|█████████▌| 235/247 [00:05<00:00, 46.24it/s]\u001b[A\u001b[A\n",
      "\n",
      " 97%|█████████▋| 240/247 [00:05<00:00, 46.15it/s]\u001b[A\u001b[A\n",
      "\n",
      "100%|██████████| 247/247 [00:05<00:00, 46.24it/s]\u001b[A\u001b[A\n",
      "\n",
      "\n",
      "  0%|          | 0/8 [00:00<?, ?it/s]\u001b[A\u001b[A\n",
      "\n",
      " 25%|██▌       | 2/8 [00:00<00:00, 10.77it/s]\u001b[A\u001b[A"
     ]
    },
    {
     "name": "stdout",
     "output_type": "stream",
     "text": [
      "\n",
      "======== Epoch 3 / 10 ========\n",
      "\n",
      "Training...\n"
     ]
    },
    {
     "name": "stderr",
     "output_type": "stream",
     "text": [
      "\n",
      "\n",
      " 50%|█████     | 4/8 [00:00<00:00, 10.65it/s]\u001b[A\u001b[A\n",
      "\n",
      " 75%|███████▌  | 6/8 [00:00<00:00, 10.57it/s]\u001b[A\u001b[A\n",
      "\n",
      "100%|██████████| 8/8 [00:00<00:00, 10.46it/s]\u001b[A\u001b[A\n",
      "\n",
      "\n",
      "  0%|          | 0/123 [00:00<?, ?it/s]\u001b[A\u001b[A\n",
      "\n",
      "  4%|▍         | 5/123 [00:00<00:02, 47.33it/s]\u001b[A\u001b[A"
     ]
    },
    {
     "name": "stdout",
     "output_type": "stream",
     "text": [
      "avg_train_loss 0.6849025785923004\n",
      "train_f1Score 0.53125\n",
      "train_accuracy 0.53125\n",
      "\n",
      "Running Validation...\n"
     ]
    },
    {
     "name": "stderr",
     "output_type": "stream",
     "text": [
      "\n",
      "\n",
      "  8%|▊         | 10/123 [00:00<00:02, 47.04it/s]\u001b[A\u001b[A\n",
      "\n",
      " 12%|█▏        | 15/123 [00:00<00:02, 46.85it/s]\u001b[A\u001b[A\n",
      "\n",
      " 16%|█▋        | 20/123 [00:00<00:02, 46.67it/s]\u001b[A\u001b[A\n",
      "\n",
      " 20%|██        | 25/123 [00:00<00:02, 46.58it/s]\u001b[A\u001b[A\n",
      "\n",
      " 24%|██▍       | 30/123 [00:00<00:02, 46.47it/s]\u001b[A\u001b[A\n",
      "\n",
      " 28%|██▊       | 35/123 [00:00<00:01, 46.45it/s]\u001b[A\u001b[A\n",
      "\n",
      " 33%|███▎      | 40/123 [00:00<00:01, 46.25it/s]\u001b[A\u001b[A\n",
      "\n",
      " 37%|███▋      | 45/123 [00:00<00:01, 46.01it/s]\u001b[A\u001b[A\n",
      "\n",
      " 41%|████      | 50/123 [00:01<00:01, 46.04it/s]\u001b[A\u001b[A\n",
      "\n",
      " 45%|████▍     | 55/123 [00:01<00:01, 46.12it/s]\u001b[A\u001b[A\n",
      "\n",
      " 49%|████▉     | 60/123 [00:01<00:01, 46.19it/s]\u001b[A\u001b[A\n",
      "\n",
      " 53%|█████▎    | 65/123 [00:01<00:01, 46.19it/s]\u001b[A\u001b[A\n",
      "\n",
      " 57%|█████▋    | 70/123 [00:01<00:01, 46.18it/s]\u001b[A\u001b[A\n",
      "\n",
      " 61%|██████    | 75/123 [00:01<00:01, 46.15it/s]\u001b[A\u001b[A\n",
      "\n",
      " 65%|██████▌   | 80/123 [00:01<00:00, 46.18it/s]\u001b[A\u001b[A\n",
      "\n",
      " 69%|██████▉   | 85/123 [00:01<00:00, 46.09it/s]\u001b[A\u001b[A\n",
      "\n",
      " 73%|███████▎  | 90/123 [00:01<00:00, 46.00it/s]\u001b[A\u001b[A\n",
      "\n",
      " 77%|███████▋  | 95/123 [00:02<00:00, 46.04it/s]\u001b[A\u001b[A\n",
      "\n",
      " 81%|████████▏ | 100/123 [00:02<00:00, 46.04it/s]\u001b[A\u001b[A\n",
      "\n",
      " 85%|████████▌ | 105/123 [00:02<00:00, 46.09it/s]\u001b[A\u001b[A\n",
      "\n",
      " 89%|████████▉ | 110/123 [00:02<00:00, 46.04it/s]\u001b[A\u001b[A\n",
      "\n",
      " 93%|█████████▎| 115/123 [00:02<00:00, 46.07it/s]\u001b[A\u001b[A\n",
      "\n",
      "100%|██████████| 123/123 [00:02<00:00, 46.17it/s]\u001b[A\u001b[A\n",
      "\n",
      "\n",
      "  0%|          | 0/8 [00:00<?, ?it/s]\u001b[A\u001b[A\n",
      "\n",
      " 25%|██▌       | 2/8 [00:00<00:00, 10.76it/s]\u001b[A\u001b[A"
     ]
    },
    {
     "name": "stdout",
     "output_type": "stream",
     "text": [
      "Validation Loss:  0.6618457746699573\n",
      "Validation Accuracy:  0.5985772357723578\n",
      "\n",
      "======== Epoch 4 / 10 ========\n",
      "\n",
      "Training...\n"
     ]
    },
    {
     "name": "stderr",
     "output_type": "stream",
     "text": [
      "\n",
      "\n",
      " 50%|█████     | 4/8 [00:00<00:00, 10.64it/s]\u001b[A\u001b[A\n",
      "\n",
      " 75%|███████▌  | 6/8 [00:00<00:00, 10.56it/s]\u001b[A\u001b[A\n",
      "\n",
      "100%|██████████| 8/8 [00:00<00:00, 10.44it/s]\u001b[A\u001b[A\n",
      "\n",
      "\n",
      "  0%|          | 0/123 [00:00<?, ?it/s]\u001b[A\u001b[A\n",
      "\n",
      "  4%|▍         | 5/123 [00:00<00:02, 47.25it/s]\u001b[A\u001b[A"
     ]
    },
    {
     "name": "stdout",
     "output_type": "stream",
     "text": [
      "avg_train_loss 0.552492044866085\n",
      "train_f1Score 0.7936507936507936\n",
      "train_accuracy 0.796875\n",
      "\n",
      "Running Validation...\n"
     ]
    },
    {
     "name": "stderr",
     "output_type": "stream",
     "text": [
      "\n",
      "\n",
      "  8%|▊         | 10/123 [00:00<00:02, 46.87it/s]\u001b[A\u001b[A\n",
      "\n",
      " 12%|█▏        | 15/123 [00:00<00:02, 46.66it/s]\u001b[A\u001b[A\n",
      "\n",
      " 16%|█▋        | 20/123 [00:00<00:02, 46.47it/s]\u001b[A\u001b[A\n",
      "\n",
      " 20%|██        | 25/123 [00:00<00:02, 46.33it/s]\u001b[A\u001b[A\n",
      "\n",
      " 24%|██▍       | 30/123 [00:00<00:02, 46.30it/s]\u001b[A\u001b[A\n",
      "\n",
      " 28%|██▊       | 35/123 [00:00<00:01, 46.26it/s]\u001b[A\u001b[A\n",
      "\n",
      " 33%|███▎      | 40/123 [00:00<00:01, 46.11it/s]\u001b[A\u001b[A\n",
      "\n",
      " 37%|███▋      | 45/123 [00:00<00:01, 45.79it/s]\u001b[A\u001b[A\n",
      "\n",
      " 41%|████      | 50/123 [00:01<00:01, 45.86it/s]\u001b[A\u001b[A\n",
      "\n",
      " 45%|████▍     | 55/123 [00:01<00:01, 45.86it/s]\u001b[A\u001b[A\n",
      "\n",
      " 49%|████▉     | 60/123 [00:01<00:01, 45.89it/s]\u001b[A\u001b[A\n",
      "\n",
      " 53%|█████▎    | 65/123 [00:01<00:01, 45.90it/s]\u001b[A\u001b[A\n",
      "\n",
      " 57%|█████▋    | 70/123 [00:01<00:01, 45.82it/s]\u001b[A\u001b[A\n",
      "\n",
      " 61%|██████    | 75/123 [00:01<00:01, 45.85it/s]\u001b[A\u001b[A\n",
      "\n",
      " 65%|██████▌   | 80/123 [00:01<00:00, 45.84it/s]\u001b[A\u001b[A\n",
      "\n",
      " 69%|██████▉   | 85/123 [00:01<00:00, 45.82it/s]\u001b[A\u001b[A\n",
      "\n",
      " 73%|███████▎  | 90/123 [00:01<00:00, 45.75it/s]\u001b[A\u001b[A\n",
      "\n",
      " 77%|███████▋  | 95/123 [00:02<00:00, 45.70it/s]\u001b[A\u001b[A\n",
      "\n",
      " 81%|████████▏ | 100/123 [00:02<00:00, 45.72it/s]\u001b[A\u001b[A\n",
      "\n",
      " 85%|████████▌ | 105/123 [00:02<00:00, 45.76it/s]\u001b[A\u001b[A\n",
      "\n",
      " 89%|████████▉ | 110/123 [00:02<00:00, 45.75it/s]\u001b[A\u001b[A\n",
      "\n",
      " 93%|█████████▎| 115/123 [00:02<00:00, 45.74it/s]\u001b[A\u001b[A\n",
      "\n",
      "100%|██████████| 123/123 [00:02<00:00, 45.88it/s]\u001b[A\u001b[A\n",
      "\n",
      "\n",
      "  0%|          | 0/247 [00:00<?, ?it/s]\u001b[A\u001b[A\n",
      "\n",
      "  2%|▏         | 5/247 [00:00<00:05, 46.61it/s]\u001b[A\u001b[A"
     ]
    },
    {
     "name": "stdout",
     "output_type": "stream",
     "text": [
      "Validation Loss:  0.6551991340106096\n",
      "Validation Accuracy:  0.6361788617886179\n",
      "Testing Model....\n"
     ]
    },
    {
     "name": "stderr",
     "output_type": "stream",
     "text": [
      "\n",
      "\n",
      "  4%|▍         | 10/247 [00:00<00:05, 46.35it/s]\u001b[A\u001b[A\n",
      "\n",
      "  6%|▌         | 15/247 [00:00<00:05, 46.13it/s]\u001b[A\u001b[A\n",
      "\n",
      "  8%|▊         | 20/247 [00:00<00:04, 46.00it/s]\u001b[A\u001b[A\n",
      "\n",
      " 10%|█         | 25/247 [00:00<00:04, 45.90it/s]\u001b[A\u001b[A\n",
      "\n",
      " 12%|█▏        | 30/247 [00:00<00:04, 45.85it/s]\u001b[A\u001b[A\n",
      "\n",
      " 14%|█▍        | 35/247 [00:00<00:04, 45.83it/s]\u001b[A\u001b[A\n",
      "\n",
      " 16%|█▌        | 40/247 [00:00<00:04, 45.77it/s]\u001b[A\u001b[A\n",
      "\n",
      " 18%|█▊        | 45/247 [00:00<00:04, 45.74it/s]\u001b[A\u001b[A\n",
      "\n",
      " 20%|██        | 50/247 [00:01<00:04, 45.68it/s]\u001b[A\u001b[A\n",
      "\n",
      " 22%|██▏       | 55/247 [00:01<00:04, 45.71it/s]\u001b[A\u001b[A\n",
      "\n",
      " 24%|██▍       | 60/247 [00:01<00:04, 45.66it/s]\u001b[A\u001b[A\n",
      "\n",
      " 26%|██▋       | 65/247 [00:01<00:03, 45.65it/s]\u001b[A\u001b[A\n",
      "\n",
      " 28%|██▊       | 70/247 [00:01<00:03, 45.64it/s]\u001b[A\u001b[A\n",
      "\n",
      " 30%|███       | 75/247 [00:01<00:03, 45.62it/s]\u001b[A\u001b[A\n",
      "\n",
      " 32%|███▏      | 80/247 [00:01<00:03, 45.64it/s]\u001b[A\u001b[A\n",
      "\n",
      " 34%|███▍      | 85/247 [00:01<00:03, 45.58it/s]\u001b[A\u001b[A\n",
      "\n",
      " 36%|███▋      | 90/247 [00:01<00:03, 45.60it/s]\u001b[A\u001b[A\n",
      "\n",
      " 38%|███▊      | 95/247 [00:02<00:03, 45.54it/s]\u001b[A\u001b[A\n",
      "\n",
      " 40%|████      | 100/247 [00:02<00:03, 45.57it/s]\u001b[A\u001b[A\n",
      "\n",
      " 43%|████▎     | 105/247 [00:02<00:03, 45.63it/s]\u001b[A\u001b[A\n",
      "\n",
      " 45%|████▍     | 110/247 [00:02<00:03, 45.62it/s]\u001b[A\u001b[A\n",
      "\n",
      " 47%|████▋     | 115/247 [00:02<00:02, 45.63it/s]\u001b[A\u001b[A\n",
      "\n",
      " 49%|████▊     | 120/247 [00:02<00:02, 45.64it/s]\u001b[A\u001b[A\n",
      "\n",
      " 51%|█████     | 125/247 [00:02<00:02, 45.66it/s]\u001b[A\u001b[A\n",
      "\n",
      " 53%|█████▎    | 130/247 [00:02<00:02, 45.61it/s]\u001b[A\u001b[A\n",
      "\n",
      " 55%|█████▍    | 135/247 [00:02<00:02, 45.59it/s]\u001b[A\u001b[A\n",
      "\n",
      " 57%|█████▋    | 140/247 [00:03<00:02, 45.47it/s]\u001b[A\u001b[A\n",
      "\n",
      " 59%|█████▊    | 145/247 [00:03<00:02, 45.47it/s]\u001b[A\u001b[A\n",
      "\n",
      " 61%|██████    | 150/247 [00:03<00:02, 45.55it/s]\u001b[A\u001b[A\n",
      "\n",
      " 63%|██████▎   | 155/247 [00:03<00:02, 45.58it/s]\u001b[A\u001b[A\n",
      "\n",
      " 65%|██████▍   | 160/247 [00:03<00:01, 45.63it/s]\u001b[A\u001b[A\n",
      "\n",
      " 67%|██████▋   | 165/247 [00:03<00:01, 45.63it/s]\u001b[A\u001b[A\n",
      "\n",
      " 69%|██████▉   | 170/247 [00:03<00:01, 45.62it/s]\u001b[A\u001b[A\n",
      "\n",
      " 71%|███████   | 175/247 [00:03<00:01, 45.57it/s]\u001b[A\u001b[A\n",
      "\n",
      " 73%|███████▎  | 180/247 [00:03<00:01, 45.50it/s]\u001b[A\u001b[A\n",
      "\n",
      " 75%|███████▍  | 185/247 [00:04<00:01, 45.36it/s]\u001b[A\u001b[A\n",
      "\n",
      " 77%|███████▋  | 190/247 [00:04<00:01, 45.42it/s]\u001b[A\u001b[A\n",
      "\n",
      " 79%|███████▉  | 195/247 [00:04<00:01, 45.49it/s]\u001b[A\u001b[A\n",
      "\n",
      " 81%|████████  | 200/247 [00:04<00:01, 45.54it/s]\u001b[A\u001b[A\n",
      "\n",
      " 83%|████████▎ | 205/247 [00:04<00:00, 45.58it/s]\u001b[A\u001b[A\n",
      "\n",
      " 85%|████████▌ | 210/247 [00:04<00:00, 45.59it/s]\u001b[A\u001b[A\n",
      "\n",
      " 87%|████████▋ | 215/247 [00:04<00:00, 45.61it/s]\u001b[A\u001b[A\n",
      "\n",
      " 89%|████████▉ | 220/247 [00:04<00:00, 45.59it/s]\u001b[A\u001b[A\n",
      "\n",
      " 91%|█████████ | 225/247 [00:04<00:00, 45.51it/s]\u001b[A\u001b[A\n",
      "\n",
      " 93%|█████████▎| 230/247 [00:05<00:00, 45.35it/s]\u001b[A\u001b[A\n",
      "\n",
      " 95%|█████████▌| 235/247 [00:05<00:00, 45.38it/s]\u001b[A\u001b[A\n",
      "\n",
      " 97%|█████████▋| 240/247 [00:05<00:00, 45.41it/s]\u001b[A\u001b[A\n",
      "\n",
      "100%|██████████| 247/247 [00:05<00:00, 45.59it/s]\u001b[A\u001b[A\n",
      "\n",
      "\n",
      "  0%|          | 0/247 [00:00<?, ?it/s]\u001b[A\u001b[A\n",
      "\n",
      "  2%|▏         | 5/247 [00:00<00:05, 46.38it/s]\u001b[A\u001b[A"
     ]
    },
    {
     "name": "stdout",
     "output_type": "stream",
     "text": [
      "Best mF1Score....\n"
     ]
    },
    {
     "name": "stderr",
     "output_type": "stream",
     "text": [
      "\n",
      "\n",
      "  4%|▍         | 10/247 [00:00<00:05, 46.15it/s]\u001b[A\u001b[A\n",
      "\n",
      "  6%|▌         | 15/247 [00:00<00:05, 45.99it/s]\u001b[A\u001b[A\n",
      "\n",
      "  8%|▊         | 20/247 [00:00<00:04, 45.86it/s]\u001b[A\u001b[A\n",
      "\n",
      " 10%|█         | 25/247 [00:00<00:04, 45.60it/s]\u001b[A\u001b[A\n",
      "\n",
      " 12%|█▏        | 30/247 [00:00<00:04, 45.54it/s]\u001b[A\u001b[A\n",
      "\n",
      " 14%|█▍        | 35/247 [00:00<00:04, 45.45it/s]\u001b[A\u001b[A\n",
      "\n",
      " 16%|█▌        | 40/247 [00:00<00:04, 45.48it/s]\u001b[A\u001b[A\n",
      "\n",
      " 18%|█▊        | 45/247 [00:00<00:04, 45.42it/s]\u001b[A\u001b[A\n",
      "\n",
      " 20%|██        | 50/247 [00:01<00:04, 45.48it/s]\u001b[A\u001b[A\n",
      "\n",
      " 22%|██▏       | 55/247 [00:01<00:04, 45.38it/s]\u001b[A\u001b[A\n",
      "\n",
      " 24%|██▍       | 60/247 [00:01<00:04, 45.42it/s]\u001b[A\u001b[A\n",
      "\n",
      " 26%|██▋       | 65/247 [00:01<00:04, 45.34it/s]\u001b[A\u001b[A\n",
      "\n",
      " 28%|██▊       | 70/247 [00:01<00:03, 45.40it/s]\u001b[A\u001b[A\n",
      "\n",
      " 30%|███       | 75/247 [00:01<00:03, 45.42it/s]\u001b[A\u001b[A\n",
      "\n",
      " 32%|███▏      | 80/247 [00:01<00:03, 45.40it/s]\u001b[A\u001b[A\n",
      "\n",
      " 34%|███▍      | 85/247 [00:01<00:03, 45.33it/s]\u001b[A\u001b[A\n",
      "\n",
      " 36%|███▋      | 90/247 [00:01<00:03, 45.36it/s]\u001b[A\u001b[A\n",
      "\n",
      " 38%|███▊      | 95/247 [00:02<00:03, 45.39it/s]\u001b[A\u001b[A\n",
      "\n",
      " 40%|████      | 100/247 [00:02<00:03, 45.35it/s]\u001b[A\u001b[A\n",
      "\n",
      " 43%|████▎     | 105/247 [00:02<00:03, 45.39it/s]\u001b[A\u001b[A\n",
      "\n",
      " 45%|████▍     | 110/247 [00:02<00:03, 45.37it/s]\u001b[A\u001b[A\n",
      "\n",
      " 47%|████▋     | 115/247 [00:02<00:02, 45.39it/s]\u001b[A\u001b[A\n",
      "\n",
      " 49%|████▊     | 120/247 [00:02<00:02, 45.37it/s]\u001b[A\u001b[A\n",
      "\n",
      " 51%|█████     | 125/247 [00:02<00:02, 45.37it/s]\u001b[A\u001b[A\n",
      "\n",
      " 53%|█████▎    | 130/247 [00:02<00:02, 45.34it/s]\u001b[A\u001b[A\n",
      "\n",
      " 55%|█████▍    | 135/247 [00:02<00:02, 45.22it/s]\u001b[A\u001b[A\n",
      "\n",
      " 57%|█████▋    | 140/247 [00:03<00:02, 45.30it/s]\u001b[A\u001b[A\n",
      "\n",
      " 59%|█████▊    | 145/247 [00:03<00:02, 45.15it/s]\u001b[A\u001b[A\n",
      "\n",
      " 61%|██████    | 150/247 [00:03<00:02, 45.26it/s]\u001b[A\u001b[A\n",
      "\n",
      " 63%|██████▎   | 155/247 [00:03<00:02, 45.37it/s]\u001b[A\u001b[A\n",
      "\n",
      " 65%|██████▍   | 160/247 [00:03<00:01, 45.22it/s]\u001b[A\u001b[A\n",
      "\n",
      " 67%|██████▋   | 165/247 [00:03<00:01, 45.22it/s]\u001b[A\u001b[A\n",
      "\n",
      " 69%|██████▉   | 170/247 [00:03<00:01, 45.30it/s]\u001b[A\u001b[A\n",
      "\n",
      " 71%|███████   | 175/247 [00:03<00:01, 45.29it/s]\u001b[A\u001b[A\n",
      "\n",
      " 73%|███████▎  | 180/247 [00:03<00:01, 45.19it/s]\u001b[A\u001b[A\n",
      "\n",
      " 75%|███████▍  | 185/247 [00:04<00:01, 45.11it/s]\u001b[A\u001b[A\n",
      "\n",
      " 77%|███████▋  | 190/247 [00:04<00:01, 45.13it/s]\u001b[A\u001b[A\n",
      "\n",
      " 79%|███████▉  | 195/247 [00:04<00:01, 45.12it/s]\u001b[A\u001b[A\n",
      "\n",
      " 81%|████████  | 200/247 [00:04<00:01, 45.15it/s]\u001b[A\u001b[A\n",
      "\n",
      " 83%|████████▎ | 205/247 [00:04<00:00, 45.09it/s]\u001b[A\u001b[A\n",
      "\n",
      " 85%|████████▌ | 210/247 [00:04<00:00, 45.05it/s]\u001b[A\u001b[A\n",
      "\n",
      " 87%|████████▋ | 215/247 [00:04<00:00, 45.10it/s]\u001b[A\u001b[A\n",
      "\n",
      " 89%|████████▉ | 220/247 [00:04<00:00, 45.09it/s]\u001b[A\u001b[A\n",
      "\n",
      " 91%|█████████ | 225/247 [00:04<00:00, 45.07it/s]\u001b[A\u001b[A\n",
      "\n",
      " 93%|█████████▎| 230/247 [00:05<00:00, 45.08it/s]\u001b[A\u001b[A\n",
      "\n",
      " 95%|█████████▌| 235/247 [00:05<00:00, 45.08it/s]\u001b[A\u001b[A\n",
      "\n",
      " 97%|█████████▋| 240/247 [00:05<00:00, 45.07it/s]\u001b[A\u001b[A\n",
      "\n",
      "100%|██████████| 247/247 [00:05<00:00, 45.28it/s]\u001b[A\u001b[A\n",
      "\n",
      "\n",
      "  0%|          | 0/8 [00:00<?, ?it/s]\u001b[A\u001b[A\n",
      "\n",
      " 25%|██▌       | 2/8 [00:00<00:00, 10.51it/s]\u001b[A\u001b[A"
     ]
    },
    {
     "name": "stdout",
     "output_type": "stream",
     "text": [
      "\n",
      "======== Epoch 5 / 10 ========\n",
      "\n",
      "Training...\n"
     ]
    },
    {
     "name": "stderr",
     "output_type": "stream",
     "text": [
      "\n",
      "\n",
      " 50%|█████     | 4/8 [00:00<00:00, 10.39it/s]\u001b[A\u001b[A\n",
      "\n",
      " 75%|███████▌  | 6/8 [00:00<00:00, 10.29it/s]\u001b[A\u001b[A\n",
      "\n",
      "100%|██████████| 8/8 [00:00<00:00, 10.18it/s]\u001b[A\u001b[A\n",
      "\n",
      "\n",
      "  0%|          | 0/123 [00:00<?, ?it/s]\u001b[A\u001b[A\n",
      "\n",
      "  4%|▍         | 5/123 [00:00<00:02, 45.78it/s]\u001b[A\u001b[A"
     ]
    },
    {
     "name": "stdout",
     "output_type": "stream",
     "text": [
      "avg_train_loss 0.4307372123003006\n",
      "train_f1Score 0.911764705882353\n",
      "train_accuracy 0.90625\n",
      "\n",
      "Running Validation...\n"
     ]
    },
    {
     "name": "stderr",
     "output_type": "stream",
     "text": [
      "\n",
      "\n",
      "  8%|▊         | 10/123 [00:00<00:02, 45.57it/s]\u001b[A\u001b[A\n",
      "\n",
      " 12%|█▏        | 15/123 [00:00<00:02, 45.45it/s]\u001b[A\u001b[A\n",
      "\n",
      " 16%|█▋        | 20/123 [00:00<00:02, 45.34it/s]\u001b[A\u001b[A\n",
      "\n",
      " 20%|██        | 25/123 [00:00<00:02, 45.30it/s]\u001b[A\u001b[A\n",
      "\n",
      " 24%|██▍       | 30/123 [00:00<00:02, 45.19it/s]\u001b[A\u001b[A\n",
      "\n",
      " 28%|██▊       | 35/123 [00:00<00:01, 45.16it/s]\u001b[A\u001b[A\n",
      "\n",
      " 33%|███▎      | 40/123 [00:00<00:01, 45.13it/s]\u001b[A\u001b[A\n",
      "\n",
      " 37%|███▋      | 45/123 [00:00<00:01, 45.10it/s]\u001b[A\u001b[A\n",
      "\n",
      " 41%|████      | 50/123 [00:01<00:01, 45.10it/s]\u001b[A\u001b[A\n",
      "\n",
      " 45%|████▍     | 55/123 [00:01<00:01, 45.16it/s]\u001b[A\u001b[A\n",
      "\n",
      " 49%|████▉     | 60/123 [00:01<00:01, 45.09it/s]\u001b[A\u001b[A\n",
      "\n",
      " 53%|█████▎    | 65/123 [00:01<00:01, 45.03it/s]\u001b[A\u001b[A\n",
      "\n",
      " 57%|█████▋    | 70/123 [00:01<00:01, 45.06it/s]\u001b[A\u001b[A\n",
      "\n",
      " 61%|██████    | 75/123 [00:01<00:01, 45.00it/s]\u001b[A\u001b[A\n",
      "\n",
      " 65%|██████▌   | 80/123 [00:01<00:00, 45.07it/s]\u001b[A\u001b[A\n",
      "\n",
      " 69%|██████▉   | 85/123 [00:01<00:00, 45.05it/s]\u001b[A\u001b[A\n",
      "\n",
      " 73%|███████▎  | 90/123 [00:01<00:00, 45.10it/s]\u001b[A\u001b[A\n",
      "\n",
      " 77%|███████▋  | 95/123 [00:02<00:00, 45.06it/s]\u001b[A\u001b[A\n",
      "\n",
      " 81%|████████▏ | 100/123 [00:02<00:00, 45.08it/s]\u001b[A\u001b[A\n",
      "\n",
      " 85%|████████▌ | 105/123 [00:02<00:00, 45.07it/s]\u001b[A\u001b[A\n",
      "\n",
      " 89%|████████▉ | 110/123 [00:02<00:00, 45.03it/s]\u001b[A\u001b[A\n",
      "\n",
      " 93%|█████████▎| 115/123 [00:02<00:00, 44.97it/s]\u001b[A\u001b[A\n",
      "\n",
      "100%|██████████| 123/123 [00:02<00:00, 45.08it/s]\u001b[A\u001b[A\n",
      "\n",
      "\n",
      "  0%|          | 0/247 [00:00<?, ?it/s]\u001b[A\u001b[A\n",
      "\n",
      "  2%|▏         | 5/247 [00:00<00:05, 45.48it/s]\u001b[A\u001b[A"
     ]
    },
    {
     "name": "stdout",
     "output_type": "stream",
     "text": [
      "Validation Loss:  0.6636197000015073\n",
      "Validation Accuracy:  0.6453252032520326\n",
      "Best mF1Score....\n"
     ]
    },
    {
     "name": "stderr",
     "output_type": "stream",
     "text": [
      "\n",
      "\n",
      "  4%|▍         | 10/247 [00:00<00:05, 45.35it/s]\u001b[A\u001b[A\n",
      "\n",
      "  6%|▌         | 15/247 [00:00<00:05, 45.30it/s]\u001b[A\u001b[A\n",
      "\n",
      "  8%|▊         | 20/247 [00:00<00:05, 45.20it/s]\u001b[A\u001b[A\n",
      "\n",
      " 10%|█         | 25/247 [00:00<00:04, 45.10it/s]\u001b[A\u001b[A\n",
      "\n",
      " 12%|█▏        | 30/247 [00:00<00:04, 45.15it/s]\u001b[A\u001b[A\n",
      "\n",
      " 14%|█▍        | 35/247 [00:00<00:04, 45.08it/s]\u001b[A\u001b[A\n",
      "\n",
      " 16%|█▌        | 40/247 [00:00<00:04, 45.09it/s]\u001b[A\u001b[A\n",
      "\n",
      " 18%|█▊        | 45/247 [00:00<00:04, 45.09it/s]\u001b[A\u001b[A\n",
      "\n",
      " 20%|██        | 50/247 [00:01<00:04, 45.02it/s]\u001b[A\u001b[A\n",
      "\n",
      " 22%|██▏       | 55/247 [00:01<00:04, 44.99it/s]\u001b[A\u001b[A\n",
      "\n",
      " 24%|██▍       | 60/247 [00:01<00:04, 44.97it/s]\u001b[A\u001b[A\n",
      "\n",
      " 26%|██▋       | 65/247 [00:01<00:04, 44.95it/s]\u001b[A\u001b[A\n",
      "\n",
      " 28%|██▊       | 70/247 [00:01<00:03, 44.95it/s]\u001b[A\u001b[A\n",
      "\n",
      " 30%|███       | 75/247 [00:01<00:03, 44.99it/s]\u001b[A\u001b[A\n",
      "\n",
      " 32%|███▏      | 80/247 [00:01<00:03, 45.03it/s]\u001b[A\u001b[A\n",
      "\n",
      " 34%|███▍      | 85/247 [00:01<00:03, 45.02it/s]\u001b[A\u001b[A\n",
      "\n",
      " 36%|███▋      | 90/247 [00:01<00:03, 45.03it/s]\u001b[A\u001b[A\n",
      "\n",
      " 38%|███▊      | 95/247 [00:02<00:03, 45.01it/s]\u001b[A\u001b[A\n",
      "\n",
      " 40%|████      | 100/247 [00:02<00:03, 44.99it/s]\u001b[A\u001b[A\n",
      "\n",
      " 43%|████▎     | 105/247 [00:02<00:03, 44.94it/s]\u001b[A\u001b[A\n",
      "\n",
      " 45%|████▍     | 110/247 [00:02<00:03, 44.95it/s]\u001b[A\u001b[A\n",
      "\n",
      " 47%|████▋     | 115/247 [00:02<00:02, 44.88it/s]\u001b[A\u001b[A\n",
      "\n",
      " 49%|████▊     | 120/247 [00:02<00:02, 44.96it/s]\u001b[A\u001b[A\n",
      "\n",
      " 51%|█████     | 125/247 [00:02<00:02, 44.89it/s]\u001b[A\u001b[A\n",
      "\n",
      " 53%|█████▎    | 130/247 [00:02<00:02, 44.97it/s]\u001b[A\u001b[A\n",
      "\n",
      " 55%|█████▍    | 135/247 [00:03<00:02, 44.89it/s]\u001b[A\u001b[A\n",
      "\n",
      " 57%|█████▋    | 140/247 [00:03<00:02, 44.96it/s]\u001b[A\u001b[A\n",
      "\n",
      " 59%|█████▊    | 145/247 [00:03<00:02, 44.95it/s]\u001b[A\u001b[A\n",
      "\n",
      " 61%|██████    | 150/247 [00:03<00:02, 44.97it/s]\u001b[A\u001b[A\n",
      "\n",
      " 63%|██████▎   | 155/247 [00:03<00:02, 45.03it/s]\u001b[A\u001b[A\n",
      "\n",
      " 65%|██████▍   | 160/247 [00:03<00:01, 45.01it/s]\u001b[A\u001b[A\n",
      "\n",
      " 67%|██████▋   | 165/247 [00:03<00:01, 44.96it/s]\u001b[A\u001b[A\n",
      "\n",
      " 69%|██████▉   | 170/247 [00:03<00:01, 44.93it/s]\u001b[A\u001b[A\n",
      "\n",
      " 71%|███████   | 175/247 [00:03<00:01, 44.91it/s]\u001b[A\u001b[A\n",
      "\n",
      " 73%|███████▎  | 180/247 [00:04<00:01, 44.86it/s]\u001b[A\u001b[A\n",
      "\n",
      " 75%|███████▍  | 185/247 [00:04<00:01, 44.90it/s]\u001b[A\u001b[A\n",
      "\n",
      " 77%|███████▋  | 190/247 [00:04<00:01, 44.85it/s]\u001b[A\u001b[A\n",
      "\n",
      " 79%|███████▉  | 195/247 [00:04<00:01, 44.94it/s]\u001b[A\u001b[A\n",
      "\n",
      " 81%|████████  | 200/247 [00:04<00:01, 44.89it/s]\u001b[A\u001b[A\n",
      "\n",
      " 83%|████████▎ | 205/247 [00:04<00:00, 44.95it/s]\u001b[A\u001b[A\n",
      "\n",
      " 85%|████████▌ | 210/247 [00:04<00:00, 44.90it/s]\u001b[A\u001b[A\n",
      "\n",
      " 87%|████████▋ | 215/247 [00:04<00:00, 44.97it/s]\u001b[A\u001b[A\n",
      "\n",
      " 89%|████████▉ | 220/247 [00:04<00:00, 44.87it/s]\u001b[A\u001b[A\n",
      "\n",
      " 91%|█████████ | 225/247 [00:05<00:00, 44.90it/s]\u001b[A\u001b[A\n",
      "\n",
      " 93%|█████████▎| 230/247 [00:05<00:00, 44.90it/s]\u001b[A\u001b[A\n",
      "\n",
      " 95%|█████████▌| 235/247 [00:05<00:00, 44.92it/s]\u001b[A\u001b[A\n",
      "\n",
      " 97%|█████████▋| 240/247 [00:05<00:00, 44.92it/s]\u001b[A\u001b[A\n",
      "\n",
      "100%|██████████| 247/247 [00:05<00:00, 44.96it/s]\u001b[A\u001b[A\n",
      "\n",
      "\n",
      "  0%|          | 0/8 [00:00<?, ?it/s]\u001b[A\u001b[A\n",
      "\n",
      " 25%|██▌       | 2/8 [00:00<00:00, 10.56it/s]\u001b[A\u001b[A"
     ]
    },
    {
     "name": "stdout",
     "output_type": "stream",
     "text": [
      "\n",
      "======== Epoch 6 / 10 ========\n",
      "\n",
      "Training...\n"
     ]
    },
    {
     "name": "stderr",
     "output_type": "stream",
     "text": [
      "\n",
      "\n",
      " 50%|█████     | 4/8 [00:00<00:00, 10.47it/s]\u001b[A\u001b[A\n",
      "\n",
      " 75%|███████▌  | 6/8 [00:00<00:00, 10.40it/s]\u001b[A\u001b[A\n",
      "\n",
      "100%|██████████| 8/8 [00:00<00:00, 10.29it/s]\u001b[A\u001b[A\n",
      "\n",
      "\n",
      "  0%|          | 0/123 [00:00<?, ?it/s]\u001b[A\u001b[A\n",
      "\n",
      "  4%|▍         | 5/123 [00:00<00:02, 46.10it/s]\u001b[A\u001b[A"
     ]
    },
    {
     "name": "stdout",
     "output_type": "stream",
     "text": [
      "avg_train_loss 0.33883108012378216\n",
      "train_f1Score 0.9375\n",
      "train_accuracy 0.9375\n",
      "\n",
      "Running Validation...\n"
     ]
    },
    {
     "name": "stderr",
     "output_type": "stream",
     "text": [
      "\n",
      "\n",
      "  8%|▊         | 10/123 [00:00<00:02, 45.79it/s]\u001b[A\u001b[A\n",
      "\n",
      " 12%|█▏        | 15/123 [00:00<00:02, 45.62it/s]\u001b[A\u001b[A\n",
      "\n",
      " 16%|█▋        | 20/123 [00:00<00:02, 45.42it/s]\u001b[A\u001b[A\n",
      "\n",
      " 20%|██        | 25/123 [00:00<00:02, 45.27it/s]\u001b[A\u001b[A\n",
      "\n",
      " 24%|██▍       | 30/123 [00:00<00:02, 45.12it/s]\u001b[A\u001b[A\n",
      "\n",
      " 28%|██▊       | 35/123 [00:00<00:01, 45.08it/s]\u001b[A\u001b[A\n",
      "\n",
      " 33%|███▎      | 40/123 [00:00<00:01, 44.96it/s]\u001b[A\u001b[A\n",
      "\n",
      " 37%|███▋      | 45/123 [00:00<00:01, 44.98it/s]\u001b[A\u001b[A\n",
      "\n",
      " 41%|████      | 50/123 [00:01<00:01, 44.90it/s]\u001b[A\u001b[A\n",
      "\n",
      " 45%|████▍     | 55/123 [00:01<00:01, 44.99it/s]\u001b[A\u001b[A\n",
      "\n",
      " 49%|████▉     | 60/123 [00:01<00:01, 44.97it/s]\u001b[A\u001b[A\n",
      "\n",
      " 53%|█████▎    | 65/123 [00:01<00:01, 44.92it/s]\u001b[A\u001b[A\n",
      "\n",
      " 57%|█████▋    | 70/123 [00:01<00:01, 44.95it/s]\u001b[A\u001b[A\n",
      "\n",
      " 61%|██████    | 75/123 [00:01<00:01, 44.89it/s]\u001b[A\u001b[A\n",
      "\n",
      " 65%|██████▌   | 80/123 [00:01<00:00, 44.91it/s]\u001b[A\u001b[A\n",
      "\n",
      " 69%|██████▉   | 85/123 [00:01<00:00, 44.85it/s]\u001b[A\u001b[A\n",
      "\n",
      " 73%|███████▎  | 90/123 [00:02<00:00, 44.88it/s]\u001b[A\u001b[A\n",
      "\n",
      " 77%|███████▋  | 95/123 [00:02<00:00, 44.81it/s]\u001b[A\u001b[A\n",
      "\n",
      " 81%|████████▏ | 100/123 [00:02<00:00, 44.87it/s]\u001b[A\u001b[A\n",
      "\n",
      " 85%|████████▌ | 105/123 [00:02<00:00, 44.87it/s]\u001b[A\u001b[A\n",
      "\n",
      " 89%|████████▉ | 110/123 [00:02<00:00, 44.89it/s]\u001b[A\u001b[A\n",
      "\n",
      " 93%|█████████▎| 115/123 [00:02<00:00, 44.84it/s]\u001b[A\u001b[A\n",
      "\n",
      "100%|██████████| 123/123 [00:02<00:00, 44.95it/s]\u001b[A\u001b[A\n",
      "\n",
      "\n",
      "  0%|          | 0/247 [00:00<?, ?it/s]\u001b[A\u001b[A\n",
      "\n",
      "  2%|▏         | 5/247 [00:00<00:05, 45.26it/s]\u001b[A\u001b[A"
     ]
    },
    {
     "name": "stdout",
     "output_type": "stream",
     "text": [
      "Validation Loss:  0.6833020134912273\n",
      "Validation Accuracy:  0.649390243902439\n",
      "Testing Model....\n"
     ]
    },
    {
     "name": "stderr",
     "output_type": "stream",
     "text": [
      "\n",
      "\n",
      "  4%|▍         | 10/247 [00:00<00:05, 45.16it/s]\u001b[A\u001b[A\n",
      "\n",
      "  6%|▌         | 15/247 [00:00<00:05, 45.11it/s]\u001b[A\u001b[A\n",
      "\n",
      "  8%|▊         | 20/247 [00:00<00:05, 45.06it/s]\u001b[A\u001b[A\n",
      "\n",
      " 10%|█         | 25/247 [00:00<00:04, 44.96it/s]\u001b[A\u001b[A\n",
      "\n",
      " 12%|█▏        | 30/247 [00:00<00:04, 44.95it/s]\u001b[A\u001b[A\n",
      "\n",
      " 14%|█▍        | 35/247 [00:00<00:04, 44.88it/s]\u001b[A\u001b[A\n",
      "\n",
      " 16%|█▌        | 40/247 [00:00<00:04, 44.92it/s]\u001b[A\u001b[A\n",
      "\n",
      " 18%|█▊        | 45/247 [00:01<00:04, 44.84it/s]\u001b[A\u001b[A\n",
      "\n",
      " 20%|██        | 50/247 [00:01<00:04, 44.88it/s]\u001b[A\u001b[A\n",
      "\n",
      " 22%|██▏       | 55/247 [00:01<00:04, 44.84it/s]\u001b[A\u001b[A\n",
      "\n",
      " 24%|██▍       | 60/247 [00:01<00:04, 44.88it/s]\u001b[A\u001b[A\n",
      "\n",
      " 26%|██▋       | 65/247 [00:01<00:04, 44.89it/s]\u001b[A\u001b[A\n",
      "\n",
      " 28%|██▊       | 70/247 [00:01<00:03, 44.90it/s]\u001b[A\u001b[A\n",
      "\n",
      " 30%|███       | 75/247 [00:01<00:03, 44.91it/s]\u001b[A\u001b[A\n",
      "\n",
      " 32%|███▏      | 80/247 [00:01<00:03, 44.89it/s]\u001b[A\u001b[A\n",
      "\n",
      " 34%|███▍      | 85/247 [00:01<00:03, 44.90it/s]\u001b[A\u001b[A\n",
      "\n",
      " 36%|███▋      | 90/247 [00:02<00:03, 44.93it/s]\u001b[A\u001b[A\n",
      "\n",
      " 38%|███▊      | 95/247 [00:02<00:03, 44.94it/s]\u001b[A\u001b[A\n",
      "\n",
      " 40%|████      | 100/247 [00:02<00:03, 44.93it/s]\u001b[A\u001b[A\n",
      "\n",
      " 43%|████▎     | 105/247 [00:02<00:03, 44.93it/s]\u001b[A\u001b[A\n",
      "\n",
      " 45%|████▍     | 110/247 [00:02<00:03, 44.88it/s]\u001b[A\u001b[A\n",
      "\n",
      " 47%|████▋     | 115/247 [00:02<00:02, 44.91it/s]\u001b[A\u001b[A\n",
      "\n",
      " 49%|████▊     | 120/247 [00:02<00:02, 44.85it/s]\u001b[A\u001b[A\n",
      "\n",
      " 51%|█████     | 125/247 [00:02<00:02, 44.90it/s]\u001b[A\u001b[A\n",
      "\n",
      " 53%|█████▎    | 130/247 [00:02<00:02, 44.85it/s]\u001b[A\u001b[A\n",
      "\n",
      " 55%|█████▍    | 135/247 [00:03<00:02, 44.89it/s]\u001b[A\u001b[A\n",
      "\n",
      " 57%|█████▋    | 140/247 [00:03<00:02, 44.82it/s]\u001b[A\u001b[A\n",
      "\n",
      " 59%|█████▊    | 145/247 [00:03<00:02, 44.88it/s]\u001b[A\u001b[A\n",
      "\n",
      " 61%|██████    | 150/247 [00:03<00:02, 44.91it/s]\u001b[A\u001b[A\n",
      "\n",
      " 63%|██████▎   | 155/247 [00:03<00:02, 44.99it/s]\u001b[A\u001b[A\n",
      "\n",
      " 65%|██████▍   | 160/247 [00:03<00:01, 44.97it/s]\u001b[A\u001b[A\n",
      "\n",
      " 67%|██████▋   | 165/247 [00:03<00:01, 44.88it/s]\u001b[A\u001b[A\n",
      "\n",
      " 69%|██████▉   | 170/247 [00:03<00:01, 44.89it/s]\u001b[A\u001b[A\n",
      "\n",
      " 71%|███████   | 175/247 [00:03<00:01, 44.89it/s]\u001b[A\u001b[A\n",
      "\n",
      " 73%|███████▎  | 180/247 [00:04<00:01, 44.91it/s]\u001b[A\u001b[A\n",
      "\n",
      " 75%|███████▍  | 185/247 [00:04<00:01, 44.85it/s]\u001b[A\u001b[A\n",
      "\n",
      " 77%|███████▋  | 190/247 [00:04<00:01, 44.88it/s]\u001b[A\u001b[A\n",
      "\n",
      " 79%|███████▉  | 195/247 [00:04<00:01, 44.82it/s]\u001b[A\u001b[A\n",
      "\n",
      " 81%|████████  | 200/247 [00:04<00:01, 44.86it/s]\u001b[A\u001b[A\n",
      "\n",
      " 83%|████████▎ | 205/247 [00:04<00:00, 44.81it/s]\u001b[A\u001b[A\n",
      "\n",
      " 85%|████████▌ | 210/247 [00:04<00:00, 44.86it/s]\u001b[A\u001b[A\n",
      "\n",
      " 87%|████████▋ | 215/247 [00:04<00:00, 44.82it/s]\u001b[A\u001b[A\n",
      "\n",
      " 89%|████████▉ | 220/247 [00:04<00:00, 44.86it/s]\u001b[A\u001b[A\n",
      "\n",
      " 91%|█████████ | 225/247 [00:05<00:00, 44.89it/s]\u001b[A\u001b[A\n",
      "\n",
      " 93%|█████████▎| 230/247 [00:05<00:00, 44.89it/s]\u001b[A\u001b[A\n",
      "\n",
      " 95%|█████████▌| 235/247 [00:05<00:00, 44.91it/s]\u001b[A\u001b[A\n",
      "\n",
      " 97%|█████████▋| 240/247 [00:05<00:00, 44.91it/s]\u001b[A\u001b[A\n",
      "\n",
      "100%|██████████| 247/247 [00:05<00:00, 44.89it/s]\u001b[A\u001b[A\n",
      "\n",
      "\n",
      "  0%|          | 0/247 [00:00<?, ?it/s]\u001b[A\u001b[A\n",
      "\n",
      "  2%|▏         | 5/247 [00:00<00:05, 45.58it/s]\u001b[A\u001b[A"
     ]
    },
    {
     "name": "stdout",
     "output_type": "stream",
     "text": [
      "Best mF1Score....\n"
     ]
    },
    {
     "name": "stderr",
     "output_type": "stream",
     "text": [
      "\n",
      "\n",
      "  4%|▍         | 10/247 [00:00<00:05, 45.35it/s]\u001b[A\u001b[A\n",
      "\n",
      "  6%|▌         | 15/247 [00:00<00:05, 45.25it/s]\u001b[A\u001b[A\n",
      "\n",
      "  8%|▊         | 20/247 [00:00<00:05, 45.08it/s]\u001b[A\u001b[A\n",
      "\n",
      " 10%|█         | 25/247 [00:00<00:04, 45.05it/s]\u001b[A\u001b[A\n",
      "\n",
      " 12%|█▏        | 30/247 [00:00<00:04, 44.96it/s]\u001b[A\u001b[A\n",
      "\n",
      " 14%|█▍        | 35/247 [00:00<00:04, 44.97it/s]\u001b[A\u001b[A\n",
      "\n",
      " 16%|█▌        | 40/247 [00:00<00:04, 44.96it/s]\u001b[A\u001b[A\n",
      "\n",
      " 18%|█▊        | 45/247 [00:01<00:04, 44.98it/s]\u001b[A\u001b[A\n",
      "\n",
      " 20%|██        | 50/247 [00:01<00:04, 44.96it/s]\u001b[A\u001b[A\n",
      "\n",
      " 22%|██▏       | 55/247 [00:01<00:04, 44.98it/s]\u001b[A\u001b[A\n",
      "\n",
      " 24%|██▍       | 60/247 [00:01<00:04, 44.99it/s]\u001b[A\u001b[A\n",
      "\n",
      " 26%|██▋       | 65/247 [00:01<00:04, 44.93it/s]\u001b[A\u001b[A\n",
      "\n",
      " 28%|██▊       | 70/247 [00:01<00:03, 44.93it/s]\u001b[A\u001b[A\n",
      "\n",
      " 30%|███       | 75/247 [00:01<00:03, 44.87it/s]\u001b[A\u001b[A\n",
      "\n",
      " 32%|███▏      | 80/247 [00:01<00:03, 44.90it/s]\u001b[A\u001b[A\n",
      "\n",
      " 34%|███▍      | 85/247 [00:01<00:03, 44.85it/s]\u001b[A\u001b[A\n",
      "\n",
      " 36%|███▋      | 90/247 [00:02<00:03, 44.87it/s]\u001b[A\u001b[A\n",
      "\n",
      " 38%|███▊      | 95/247 [00:02<00:03, 44.82it/s]\u001b[A\u001b[A\n",
      "\n",
      " 40%|████      | 100/247 [00:02<00:03, 44.87it/s]\u001b[A\u001b[A\n",
      "\n",
      " 43%|████▎     | 105/247 [00:02<00:03, 44.83it/s]\u001b[A\u001b[A\n",
      "\n",
      " 45%|████▍     | 110/247 [00:02<00:03, 44.88it/s]\u001b[A\u001b[A\n",
      "\n",
      " 47%|████▋     | 115/247 [00:02<00:02, 44.90it/s]\u001b[A\u001b[A\n",
      "\n",
      " 49%|████▊     | 120/247 [00:02<00:02, 44.90it/s]\u001b[A\u001b[A\n",
      "\n",
      " 51%|█████     | 125/247 [00:02<00:02, 44.91it/s]\u001b[A\u001b[A\n",
      "\n",
      " 53%|█████▎    | 130/247 [00:02<00:02, 44.93it/s]\u001b[A\u001b[A\n",
      "\n",
      " 55%|█████▍    | 135/247 [00:03<00:02, 44.93it/s]\u001b[A\u001b[A\n",
      "\n",
      " 57%|█████▋    | 140/247 [00:03<00:02, 44.94it/s]\u001b[A\u001b[A\n",
      "\n",
      " 59%|█████▊    | 145/247 [00:03<00:02, 44.94it/s]\u001b[A\u001b[A\n",
      "\n",
      " 61%|██████    | 150/247 [00:03<00:02, 44.89it/s]\u001b[A\u001b[A\n",
      "\n",
      " 63%|██████▎   | 155/247 [00:03<00:02, 44.88it/s]\u001b[A\u001b[A\n",
      "\n",
      " 65%|██████▍   | 160/247 [00:03<00:01, 44.83it/s]\u001b[A\u001b[A\n",
      "\n",
      " 67%|██████▋   | 165/247 [00:03<00:01, 44.86it/s]\u001b[A\u001b[A\n",
      "\n",
      " 69%|██████▉   | 170/247 [00:03<00:01, 44.81it/s]\u001b[A\u001b[A\n",
      "\n",
      " 71%|███████   | 175/247 [00:03<00:01, 44.86it/s]\u001b[A\u001b[A\n",
      "\n",
      " 73%|███████▎  | 180/247 [00:04<00:01, 44.81it/s]\u001b[A\u001b[A\n",
      "\n",
      " 75%|███████▍  | 185/247 [00:04<00:01, 44.85it/s]\u001b[A\u001b[A\n",
      "\n",
      " 77%|███████▋  | 190/247 [00:04<00:01, 44.88it/s]\u001b[A\u001b[A\n",
      "\n",
      " 79%|███████▉  | 195/247 [00:04<00:01, 44.90it/s]\u001b[A\u001b[A\n",
      "\n",
      " 81%|████████  | 200/247 [00:04<00:01, 44.89it/s]\u001b[A\u001b[A\n",
      "\n",
      " 83%|████████▎ | 205/247 [00:04<00:00, 44.93it/s]\u001b[A\u001b[A\n",
      "\n",
      " 85%|████████▌ | 210/247 [00:04<00:00, 44.93it/s]\u001b[A\u001b[A\n",
      "\n",
      " 87%|████████▋ | 215/247 [00:04<00:00, 44.91it/s]\u001b[A\u001b[A\n",
      "\n",
      " 89%|████████▉ | 220/247 [00:04<00:00, 44.93it/s]\u001b[A\u001b[A\n",
      "\n",
      " 91%|█████████ | 225/247 [00:05<00:00, 44.87it/s]\u001b[A\u001b[A\n",
      "\n",
      " 93%|█████████▎| 230/247 [00:05<00:00, 44.91it/s]\u001b[A\u001b[A\n",
      "\n",
      " 95%|█████████▌| 235/247 [00:05<00:00, 44.86it/s]\u001b[A\u001b[A\n",
      "\n",
      " 97%|█████████▋| 240/247 [00:05<00:00, 44.90it/s]\u001b[A\u001b[A\n",
      "\n",
      "100%|██████████| 247/247 [00:05<00:00, 44.89it/s]\u001b[A\u001b[A\n",
      "\n",
      "\n",
      "  0%|          | 0/8 [00:00<?, ?it/s]\u001b[A\u001b[A\n",
      "\n",
      " 25%|██▌       | 2/8 [00:00<00:00, 10.39it/s]\u001b[A\u001b[A"
     ]
    },
    {
     "name": "stdout",
     "output_type": "stream",
     "text": [
      "\n",
      "======== Epoch 7 / 10 ========\n",
      "\n",
      "Training...\n"
     ]
    },
    {
     "name": "stderr",
     "output_type": "stream",
     "text": [
      "\n",
      "\n",
      " 50%|█████     | 4/8 [00:00<00:00, 10.30it/s]\u001b[A\u001b[A\n",
      "\n",
      " 75%|███████▌  | 6/8 [00:00<00:00, 10.28it/s]\u001b[A\u001b[A\n",
      "\n",
      "100%|██████████| 8/8 [00:00<00:00, 10.24it/s]\u001b[A\u001b[A\n",
      "\n",
      "\n",
      "  0%|          | 0/123 [00:00<?, ?it/s]\u001b[A\u001b[A\n",
      "\n",
      "  4%|▍         | 5/123 [00:00<00:02, 46.08it/s]\u001b[A\u001b[A"
     ]
    },
    {
     "name": "stdout",
     "output_type": "stream",
     "text": [
      "avg_train_loss 0.25378212332725525\n",
      "train_f1Score 0.9523809523809523\n",
      "train_accuracy 0.953125\n",
      "\n",
      "Running Validation...\n"
     ]
    },
    {
     "name": "stderr",
     "output_type": "stream",
     "text": [
      "\n",
      "\n",
      "  8%|▊         | 10/123 [00:00<00:02, 45.77it/s]\u001b[A\u001b[A\n",
      "\n",
      " 12%|█▏        | 15/123 [00:00<00:02, 45.57it/s]\u001b[A\u001b[A\n",
      "\n",
      " 16%|█▋        | 20/123 [00:00<00:02, 45.42it/s]\u001b[A\u001b[A\n",
      "\n",
      " 20%|██        | 25/123 [00:00<00:02, 45.21it/s]\u001b[A\u001b[A\n",
      "\n",
      " 24%|██▍       | 30/123 [00:00<00:02, 45.16it/s]\u001b[A\u001b[A\n",
      "\n",
      " 28%|██▊       | 35/123 [00:00<00:01, 45.08it/s]\u001b[A\u001b[A\n",
      "\n",
      " 33%|███▎      | 40/123 [00:00<00:01, 44.96it/s]\u001b[A\u001b[A\n",
      "\n",
      " 37%|███▋      | 45/123 [00:00<00:01, 44.93it/s]\u001b[A\u001b[A\n",
      "\n",
      " 41%|████      | 50/123 [00:01<00:01, 44.91it/s]\u001b[A\u001b[A\n",
      "\n",
      " 45%|████▍     | 55/123 [00:01<00:01, 44.94it/s]\u001b[A\u001b[A\n",
      "\n",
      " 49%|████▉     | 60/123 [00:01<00:01, 44.90it/s]\u001b[A\u001b[A\n",
      "\n",
      " 53%|█████▎    | 65/123 [00:01<00:01, 44.92it/s]\u001b[A\u001b[A\n",
      "\n",
      " 57%|█████▋    | 70/123 [00:01<00:01, 44.85it/s]\u001b[A\u001b[A\n",
      "\n",
      " 61%|██████    | 75/123 [00:01<00:01, 44.88it/s]\u001b[A\u001b[A\n",
      "\n",
      " 65%|██████▌   | 80/123 [00:01<00:00, 44.82it/s]\u001b[A\u001b[A\n",
      "\n",
      " 69%|██████▉   | 85/123 [00:01<00:00, 44.85it/s]\u001b[A\u001b[A\n",
      "\n",
      " 73%|███████▎  | 90/123 [00:02<00:00, 44.80it/s]\u001b[A\u001b[A\n",
      "\n",
      " 77%|███████▋  | 95/123 [00:02<00:00, 44.85it/s]\u001b[A\u001b[A\n",
      "\n",
      " 81%|████████▏ | 100/123 [00:02<00:00, 44.80it/s]\u001b[A\u001b[A\n",
      "\n",
      " 85%|████████▌ | 105/123 [00:02<00:00, 44.85it/s]\u001b[A\u001b[A\n",
      "\n",
      " 89%|████████▉ | 110/123 [00:02<00:00, 44.89it/s]\u001b[A\u001b[A\n",
      "\n",
      " 93%|█████████▎| 115/123 [00:02<00:00, 44.85it/s]\u001b[A\u001b[A\n",
      "\n",
      "100%|██████████| 123/123 [00:02<00:00, 44.92it/s]\u001b[A\u001b[A\n",
      "\n",
      "\n",
      "  0%|          | 0/8 [00:00<?, ?it/s]\u001b[A\u001b[A\n",
      "\n",
      " 25%|██▌       | 2/8 [00:00<00:00, 10.55it/s]\u001b[A\u001b[A"
     ]
    },
    {
     "name": "stdout",
     "output_type": "stream",
     "text": [
      "Validation Loss:  0.7585998669387849\n",
      "Validation Accuracy:  0.6351626016260162\n",
      "\n",
      "======== Epoch 8 / 10 ========\n",
      "\n",
      "Training...\n"
     ]
    },
    {
     "name": "stderr",
     "output_type": "stream",
     "text": [
      "\n",
      "\n",
      " 50%|█████     | 4/8 [00:00<00:00, 10.41it/s]\u001b[A\u001b[A\n",
      "\n",
      " 75%|███████▌  | 6/8 [00:00<00:00, 10.32it/s]\u001b[A\u001b[A\n",
      "\n",
      "100%|██████████| 8/8 [00:00<00:00, 10.19it/s]\u001b[A\u001b[A\n",
      "\n",
      "\n",
      "  0%|          | 0/123 [00:00<?, ?it/s]\u001b[A\u001b[A\n",
      "\n",
      "  4%|▍         | 5/123 [00:00<00:02, 45.60it/s]\u001b[A\u001b[A"
     ]
    },
    {
     "name": "stdout",
     "output_type": "stream",
     "text": [
      "avg_train_loss 0.2678301874548197\n",
      "train_f1Score 0.9411764705882353\n",
      "train_accuracy 0.9375\n",
      "\n",
      "Running Validation...\n"
     ]
    },
    {
     "name": "stderr",
     "output_type": "stream",
     "text": [
      "\n",
      "\n",
      "  8%|▊         | 10/123 [00:00<00:02, 45.46it/s]\u001b[A\u001b[A\n",
      "\n",
      " 12%|█▏        | 15/123 [00:00<00:02, 45.32it/s]\u001b[A\u001b[A\n",
      "\n",
      " 16%|█▋        | 20/123 [00:00<00:02, 45.24it/s]\u001b[A\u001b[A\n",
      "\n",
      " 20%|██        | 25/123 [00:00<00:02, 45.12it/s]\u001b[A\u001b[A\n",
      "\n",
      " 24%|██▍       | 30/123 [00:00<00:02, 45.09it/s]\u001b[A\u001b[A\n",
      "\n",
      " 28%|██▊       | 35/123 [00:00<00:01, 45.02it/s]\u001b[A\u001b[A\n",
      "\n",
      " 33%|███▎      | 40/123 [00:00<00:01, 45.05it/s]\u001b[A\u001b[A\n",
      "\n",
      " 37%|███▋      | 45/123 [00:00<00:01, 44.90it/s]\u001b[A\u001b[A\n",
      "\n",
      " 41%|████      | 50/123 [00:01<00:01, 44.91it/s]\u001b[A\u001b[A\n",
      "\n",
      " 45%|████▍     | 55/123 [00:01<00:01, 44.85it/s]\u001b[A\u001b[A\n",
      "\n",
      " 49%|████▉     | 60/123 [00:01<00:01, 44.88it/s]\u001b[A\u001b[A\n",
      "\n",
      " 53%|█████▎    | 65/123 [00:01<00:01, 44.83it/s]\u001b[A\u001b[A\n",
      "\n",
      " 57%|█████▋    | 70/123 [00:01<00:01, 44.88it/s]\u001b[A\u001b[A\n",
      "\n",
      " 61%|██████    | 75/123 [00:01<00:01, 44.85it/s]\u001b[A\u001b[A\n",
      "\n",
      " 65%|██████▌   | 80/123 [00:01<00:00, 44.86it/s]\u001b[A\u001b[A\n",
      "\n",
      " 69%|██████▉   | 85/123 [00:01<00:00, 44.83it/s]\u001b[A\u001b[A\n",
      "\n",
      " 73%|███████▎  | 90/123 [00:02<00:00, 44.87it/s]\u001b[A\u001b[A\n",
      "\n",
      " 77%|███████▋  | 95/123 [00:02<00:00, 44.81it/s]\u001b[A\u001b[A\n",
      "\n",
      " 81%|████████▏ | 100/123 [00:02<00:00, 44.88it/s]\u001b[A\u001b[A\n",
      "\n",
      " 85%|████████▌ | 105/123 [00:02<00:00, 44.84it/s]\u001b[A\u001b[A\n",
      "\n",
      " 89%|████████▉ | 110/123 [00:02<00:00, 44.88it/s]\u001b[A\u001b[A\n",
      "\n",
      " 93%|█████████▎| 115/123 [00:02<00:00, 44.90it/s]\u001b[A\u001b[A\n",
      "\n",
      "100%|██████████| 123/123 [00:02<00:00, 44.91it/s]\u001b[A\u001b[A\n",
      "\n",
      "\n",
      "  0%|          | 0/247 [00:00<?, ?it/s]\u001b[A\u001b[A\n",
      "\n",
      "  2%|▏         | 5/247 [00:00<00:05, 45.26it/s]\u001b[A\u001b[A"
     ]
    },
    {
     "name": "stdout",
     "output_type": "stream",
     "text": [
      "Validation Loss:  0.8025166382634543\n",
      "Validation Accuracy:  0.6361788617886179\n",
      "Testing Model....\n"
     ]
    },
    {
     "name": "stderr",
     "output_type": "stream",
     "text": [
      "\n",
      "\n",
      "  4%|▍         | 10/247 [00:00<00:05, 45.20it/s]\u001b[A\u001b[A\n",
      "\n",
      "  6%|▌         | 15/247 [00:00<00:05, 45.05it/s]\u001b[A\u001b[A\n",
      "\n",
      "  8%|▊         | 20/247 [00:00<00:05, 45.03it/s]\u001b[A\u001b[A\n",
      "\n",
      " 10%|█         | 25/247 [00:00<00:04, 44.93it/s]\u001b[A\u001b[A\n",
      "\n",
      " 12%|█▏        | 30/247 [00:00<00:04, 44.95it/s]\u001b[A\u001b[A\n",
      "\n",
      " 14%|█▍        | 35/247 [00:00<00:04, 44.95it/s]\u001b[A\u001b[A\n",
      "\n",
      " 16%|█▌        | 40/247 [00:00<00:04, 44.96it/s]\u001b[A\u001b[A\n",
      "\n",
      " 18%|█▊        | 45/247 [00:01<00:04, 44.93it/s]\u001b[A\u001b[A\n",
      "\n",
      " 20%|██        | 50/247 [00:01<00:04, 44.93it/s]\u001b[A\u001b[A\n",
      "\n",
      " 22%|██▏       | 55/247 [00:01<00:04, 44.93it/s]\u001b[A\u001b[A\n",
      "\n",
      " 24%|██▍       | 60/247 [00:01<00:04, 44.87it/s]\u001b[A\u001b[A\n",
      "\n",
      " 26%|██▋       | 65/247 [00:01<00:04, 44.88it/s]\u001b[A\u001b[A\n",
      "\n",
      " 28%|██▊       | 70/247 [00:01<00:03, 44.84it/s]\u001b[A\u001b[A\n",
      "\n",
      " 30%|███       | 75/247 [00:01<00:03, 44.89it/s]\u001b[A\u001b[A\n",
      "\n",
      " 32%|███▏      | 80/247 [00:01<00:03, 44.83it/s]\u001b[A\u001b[A\n",
      "\n",
      " 34%|███▍      | 85/247 [00:01<00:03, 44.87it/s]\u001b[A\u001b[A\n",
      "\n",
      " 36%|███▋      | 90/247 [00:02<00:03, 44.82it/s]\u001b[A\u001b[A\n",
      "\n",
      " 38%|███▊      | 95/247 [00:02<00:03, 44.88it/s]\u001b[A\u001b[A\n",
      "\n",
      " 40%|████      | 100/247 [00:02<00:03, 44.89it/s]\u001b[A\u001b[A\n",
      "\n",
      " 43%|████▎     | 105/247 [00:02<00:03, 44.92it/s]\u001b[A\u001b[A\n",
      "\n",
      " 45%|████▍     | 110/247 [00:02<00:03, 44.92it/s]\u001b[A\u001b[A\n",
      "\n",
      " 47%|████▋     | 115/247 [00:02<00:02, 44.86it/s]\u001b[A\u001b[A\n",
      "\n",
      " 49%|████▊     | 120/247 [00:02<00:02, 44.90it/s]\u001b[A\u001b[A\n",
      "\n",
      " 51%|█████     | 125/247 [00:02<00:02, 44.86it/s]\u001b[A\u001b[A\n",
      "\n",
      " 53%|█████▎    | 130/247 [00:02<00:02, 44.89it/s]\u001b[A\u001b[A\n",
      "\n",
      " 55%|█████▍    | 135/247 [00:03<00:02, 44.83it/s]\u001b[A\u001b[A\n",
      "\n",
      " 57%|█████▋    | 140/247 [00:03<00:02, 44.89it/s]\u001b[A\u001b[A\n",
      "\n",
      " 59%|█████▊    | 145/247 [00:03<00:02, 44.84it/s]\u001b[A\u001b[A\n",
      "\n",
      " 61%|██████    | 150/247 [00:03<00:02, 44.85it/s]\u001b[A\u001b[A\n",
      "\n",
      " 63%|██████▎   | 155/247 [00:03<00:02, 44.81it/s]\u001b[A\u001b[A\n",
      "\n",
      " 65%|██████▍   | 160/247 [00:03<00:01, 44.86it/s]\u001b[A\u001b[A\n",
      "\n",
      " 67%|██████▋   | 165/247 [00:03<00:01, 44.88it/s]\u001b[A\u001b[A\n",
      "\n",
      " 69%|██████▉   | 170/247 [00:03<00:01, 44.93it/s]\u001b[A\u001b[A\n",
      "\n",
      " 71%|███████   | 175/247 [00:03<00:01, 44.90it/s]\u001b[A\u001b[A\n",
      "\n",
      " 73%|███████▎  | 180/247 [00:04<00:01, 44.95it/s]\u001b[A\u001b[A\n",
      "\n",
      " 75%|███████▍  | 185/247 [00:04<00:01, 44.93it/s]\u001b[A\u001b[A\n",
      "\n",
      " 77%|███████▋  | 190/247 [00:04<00:01, 44.92it/s]\u001b[A\u001b[A\n",
      "\n",
      " 79%|███████▉  | 195/247 [00:04<00:01, 44.93it/s]\u001b[A\u001b[A\n",
      "\n",
      " 81%|████████  | 200/247 [00:04<00:01, 44.87it/s]\u001b[A\u001b[A\n",
      "\n",
      " 83%|████████▎ | 205/247 [00:04<00:00, 44.88it/s]\u001b[A\u001b[A\n",
      "\n",
      " 85%|████████▌ | 210/247 [00:04<00:00, 44.84it/s]\u001b[A\u001b[A\n",
      "\n",
      " 87%|████████▋ | 215/247 [00:04<00:00, 44.88it/s]\u001b[A\u001b[A\n",
      "\n",
      " 89%|████████▉ | 220/247 [00:04<00:00, 44.82it/s]\u001b[A\u001b[A\n",
      "\n",
      " 91%|█████████ | 225/247 [00:05<00:00, 44.84it/s]\u001b[A\u001b[A\n",
      "\n",
      " 93%|█████████▎| 230/247 [00:05<00:00, 44.81it/s]\u001b[A\u001b[A\n",
      "\n",
      " 95%|█████████▌| 235/247 [00:05<00:00, 44.81it/s]\u001b[A\u001b[A\n",
      "\n",
      " 97%|█████████▋| 240/247 [00:05<00:00, 44.84it/s]\u001b[A\u001b[A\n",
      "\n",
      "100%|██████████| 247/247 [00:05<00:00, 44.87it/s]\u001b[A\u001b[A\n",
      "\n",
      "\n",
      "  0%|          | 0/8 [00:00<?, ?it/s]\u001b[A\u001b[A\n",
      "\n",
      " 25%|██▌       | 2/8 [00:00<00:00, 10.50it/s]\u001b[A\u001b[A"
     ]
    },
    {
     "name": "stdout",
     "output_type": "stream",
     "text": [
      "\n",
      "======== Epoch 9 / 10 ========\n",
      "\n",
      "Training...\n"
     ]
    },
    {
     "name": "stderr",
     "output_type": "stream",
     "text": [
      "\n",
      "\n",
      " 50%|█████     | 4/8 [00:00<00:00, 10.43it/s]\u001b[A\u001b[A\n",
      "\n",
      " 75%|███████▌  | 6/8 [00:00<00:00, 10.37it/s]\u001b[A\u001b[A\n",
      "\n",
      "100%|██████████| 8/8 [00:00<00:00, 10.28it/s]\u001b[A\u001b[A\n",
      "\n",
      "\n",
      "  0%|          | 0/123 [00:00<?, ?it/s]\u001b[A\u001b[A\n",
      "\n",
      "  4%|▍         | 5/123 [00:00<00:02, 46.14it/s]\u001b[A\u001b[A"
     ]
    },
    {
     "name": "stdout",
     "output_type": "stream",
     "text": [
      "avg_train_loss 0.19670867547392845\n",
      "train_f1Score 0.9846153846153847\n",
      "train_accuracy 0.984375\n",
      "\n",
      "Running Validation...\n"
     ]
    },
    {
     "name": "stderr",
     "output_type": "stream",
     "text": [
      "\n",
      "\n",
      "  8%|▊         | 10/123 [00:00<00:02, 45.82it/s]\u001b[A\u001b[A\n",
      "\n",
      " 12%|█▏        | 15/123 [00:00<00:02, 45.66it/s]\u001b[A\u001b[A\n",
      "\n",
      " 16%|█▋        | 20/123 [00:00<00:02, 45.41it/s]\u001b[A\u001b[A\n",
      "\n",
      " 20%|██        | 25/123 [00:00<00:02, 45.33it/s]\u001b[A\u001b[A\n",
      "\n",
      " 24%|██▍       | 30/123 [00:00<00:02, 45.22it/s]\u001b[A\u001b[A\n",
      "\n",
      " 28%|██▊       | 35/123 [00:00<00:01, 45.07it/s]\u001b[A\u001b[A\n",
      "\n",
      " 33%|███▎      | 40/123 [00:00<00:01, 44.97it/s]\u001b[A\u001b[A\n",
      "\n",
      " 37%|███▋      | 45/123 [00:00<00:01, 44.99it/s]\u001b[A\u001b[A\n",
      "\n",
      " 41%|████      | 50/123 [00:01<00:01, 44.95it/s]\u001b[A\u001b[A\n",
      "\n",
      " 45%|████▍     | 55/123 [00:01<00:01, 44.95it/s]\u001b[A\u001b[A\n",
      "\n",
      " 49%|████▉     | 60/123 [00:01<00:01, 44.95it/s]\u001b[A\u001b[A\n",
      "\n",
      " 53%|█████▎    | 65/123 [00:01<00:01, 44.97it/s]\u001b[A\u001b[A\n",
      "\n",
      " 57%|█████▋    | 70/123 [00:01<00:01, 44.95it/s]\u001b[A\u001b[A\n",
      "\n",
      " 61%|██████    | 75/123 [00:01<00:01, 44.97it/s]\u001b[A\u001b[A\n",
      "\n",
      " 65%|██████▌   | 80/123 [00:01<00:00, 44.90it/s]\u001b[A\u001b[A\n",
      "\n",
      " 69%|██████▉   | 85/123 [00:01<00:00, 44.95it/s]\u001b[A\u001b[A\n",
      "\n",
      " 73%|███████▎  | 90/123 [00:01<00:00, 44.92it/s]\u001b[A\u001b[A\n",
      "\n",
      " 77%|███████▋  | 95/123 [00:02<00:00, 44.95it/s]\u001b[A\u001b[A\n",
      "\n",
      " 81%|████████▏ | 100/123 [00:02<00:00, 44.72it/s]\u001b[A\u001b[A\n",
      "\n",
      " 85%|████████▌ | 105/123 [00:02<00:00, 44.83it/s]\u001b[A\u001b[A\n",
      "\n",
      " 89%|████████▉ | 110/123 [00:02<00:00, 44.83it/s]\u001b[A\u001b[A\n",
      "\n",
      " 93%|█████████▎| 115/123 [00:02<00:00, 44.87it/s]\u001b[A\u001b[A\n",
      "\n",
      "100%|██████████| 123/123 [00:02<00:00, 44.95it/s]\u001b[A\u001b[A\n",
      "\n",
      "\n",
      "  0%|          | 0/8 [00:00<?, ?it/s]\u001b[A\u001b[A\n",
      "\n",
      " 25%|██▌       | 2/8 [00:00<00:00, 10.47it/s]\u001b[A\u001b[A"
     ]
    },
    {
     "name": "stdout",
     "output_type": "stream",
     "text": [
      "Validation Loss:  0.7877049620558576\n",
      "Validation Accuracy:  0.6453252032520326\n",
      "\n",
      "======== Epoch 10 / 10 ========\n",
      "\n",
      "Training...\n"
     ]
    },
    {
     "name": "stderr",
     "output_type": "stream",
     "text": [
      "\n",
      "\n",
      " 50%|█████     | 4/8 [00:00<00:00, 10.36it/s]\u001b[A\u001b[A\n",
      "\n",
      " 75%|███████▌  | 6/8 [00:00<00:00, 10.26it/s]\u001b[A\u001b[A\n",
      "\n",
      "100%|██████████| 8/8 [00:00<00:00, 10.16it/s]\u001b[A\u001b[A\n",
      "\n",
      "\n",
      "  0%|          | 0/123 [00:00<?, ?it/s]\u001b[A\u001b[A\n",
      "\n",
      "  4%|▍         | 5/123 [00:00<00:02, 45.82it/s]\u001b[A\u001b[A"
     ]
    },
    {
     "name": "stdout",
     "output_type": "stream",
     "text": [
      "avg_train_loss 0.19381932727992535\n",
      "train_f1Score 0.9846153846153847\n",
      "train_accuracy 0.984375\n",
      "\n",
      "Running Validation...\n"
     ]
    },
    {
     "name": "stderr",
     "output_type": "stream",
     "text": [
      "\n",
      "\n",
      "  8%|▊         | 10/123 [00:00<00:02, 45.61it/s]\u001b[A\u001b[A\n",
      "\n",
      " 12%|█▏        | 15/123 [00:00<00:02, 45.48it/s]\u001b[A\u001b[A\n",
      "\n",
      " 16%|█▋        | 20/123 [00:00<00:02, 45.34it/s]\u001b[A\u001b[A\n",
      "\n",
      " 20%|██        | 25/123 [00:00<00:02, 45.21it/s]\u001b[A\u001b[A\n",
      "\n",
      " 24%|██▍       | 30/123 [00:00<00:02, 45.14it/s]\u001b[A\u001b[A\n",
      "\n",
      " 28%|██▊       | 35/123 [00:00<00:01, 45.04it/s]\u001b[A\u001b[A\n",
      "\n",
      " 33%|███▎      | 40/123 [00:00<00:01, 44.92it/s]\u001b[A\u001b[A\n",
      "\n",
      " 37%|███▋      | 45/123 [00:00<00:01, 44.87it/s]\u001b[A\u001b[A\n",
      "\n",
      " 41%|████      | 50/123 [00:01<00:01, 44.84it/s]\u001b[A\u001b[A\n",
      "\n",
      " 45%|████▍     | 55/123 [00:01<00:01, 44.86it/s]\u001b[A\u001b[A\n",
      "\n",
      " 49%|████▉     | 60/123 [00:01<00:01, 44.82it/s]\u001b[A\u001b[A\n",
      "\n",
      " 53%|█████▎    | 65/123 [00:01<00:01, 44.86it/s]\u001b[A\u001b[A\n",
      "\n",
      " 57%|█████▋    | 70/123 [00:01<00:01, 44.87it/s]\u001b[A\u001b[A\n",
      "\n",
      " 61%|██████    | 75/123 [00:01<00:01, 44.89it/s]\u001b[A\u001b[A\n",
      "\n",
      " 65%|██████▌   | 80/123 [00:01<00:00, 44.91it/s]\u001b[A\u001b[A\n",
      "\n",
      " 69%|██████▉   | 85/123 [00:01<00:00, 44.85it/s]\u001b[A\u001b[A\n",
      "\n",
      " 73%|███████▎  | 90/123 [00:02<00:00, 44.85it/s]\u001b[A\u001b[A\n",
      "\n",
      " 77%|███████▋  | 95/123 [00:02<00:00, 44.81it/s]\u001b[A\u001b[A\n",
      "\n",
      " 81%|████████▏ | 100/123 [00:02<00:00, 44.91it/s]\u001b[A\u001b[A\n",
      "\n",
      " 85%|████████▌ | 105/123 [00:02<00:00, 44.89it/s]\u001b[A\u001b[A\n",
      "\n",
      " 89%|████████▉ | 110/123 [00:02<00:00, 44.90it/s]\u001b[A\u001b[A\n",
      "\n",
      " 93%|█████████▎| 115/123 [00:02<00:00, 44.82it/s]\u001b[A\u001b[A\n",
      "\n",
      "100%|██████████| 123/123 [00:02<00:00, 44.91it/s]\u001b[A\u001b[A\n",
      "\n",
      "\n",
      "  0%|          | 0/247 [00:00<?, ?it/s]\u001b[A\u001b[A\n",
      "\n",
      "  2%|▏         | 5/247 [00:00<00:05, 45.16it/s]\u001b[A\u001b[A"
     ]
    },
    {
     "name": "stdout",
     "output_type": "stream",
     "text": [
      "Validation Loss:  0.7876894455857393\n",
      "Validation Accuracy:  0.641260162601626\n",
      "Testing Model....\n"
     ]
    },
    {
     "name": "stderr",
     "output_type": "stream",
     "text": [
      "\n",
      "\n",
      "  4%|▍         | 10/247 [00:00<00:05, 45.10it/s]\u001b[A\u001b[A\n",
      "\n",
      "  6%|▌         | 15/247 [00:00<00:05, 45.00it/s]\u001b[A\u001b[A\n",
      "\n",
      "  8%|▊         | 20/247 [00:00<00:05, 44.97it/s]\u001b[A\u001b[A\n",
      "\n",
      " 10%|█         | 25/247 [00:00<00:04, 44.90it/s]\u001b[A\u001b[A\n",
      "\n",
      " 12%|█▏        | 30/247 [00:00<00:04, 44.91it/s]\u001b[A\u001b[A\n",
      "\n",
      " 14%|█▍        | 35/247 [00:00<00:04, 44.84it/s]\u001b[A\u001b[A\n",
      "\n",
      " 16%|█▌        | 40/247 [00:00<00:04, 44.86it/s]\u001b[A\u001b[A\n",
      "\n",
      " 18%|█▊        | 45/247 [00:01<00:04, 44.83it/s]\u001b[A\u001b[A\n",
      "\n",
      " 20%|██        | 50/247 [00:01<00:04, 44.85it/s]\u001b[A\u001b[A\n",
      "\n",
      " 22%|██▏       | 55/247 [00:01<00:04, 44.83it/s]\u001b[A\u001b[A\n",
      "\n",
      " 24%|██▍       | 60/247 [00:01<00:04, 44.87it/s]\u001b[A\u001b[A\n",
      "\n",
      " 26%|██▋       | 65/247 [00:01<00:04, 44.89it/s]\u001b[A\u001b[A\n",
      "\n",
      " 28%|██▊       | 70/247 [00:01<00:03, 44.92it/s]\u001b[A\u001b[A\n",
      "\n",
      " 30%|███       | 75/247 [00:01<00:03, 44.92it/s]\u001b[A\u001b[A\n",
      "\n",
      " 32%|███▏      | 80/247 [00:01<00:03, 44.95it/s]\u001b[A\u001b[A\n",
      "\n",
      " 34%|███▍      | 85/247 [00:01<00:03, 44.90it/s]\u001b[A\u001b[A\n",
      "\n",
      " 36%|███▋      | 90/247 [00:02<00:03, 44.94it/s]\u001b[A\u001b[A\n",
      "\n",
      " 38%|███▊      | 95/247 [00:02<00:03, 44.86it/s]\u001b[A\u001b[A\n",
      "\n",
      " 40%|████      | 100/247 [00:02<00:03, 44.81it/s]\u001b[A\u001b[A\n",
      "\n",
      " 43%|████▎     | 105/247 [00:02<00:03, 44.84it/s]\u001b[A\u001b[A\n",
      "\n",
      " 45%|████▍     | 110/247 [00:02<00:03, 44.78it/s]\u001b[A\u001b[A\n",
      "\n",
      " 47%|████▋     | 115/247 [00:02<00:02, 44.85it/s]\u001b[A\u001b[A\n",
      "\n",
      " 49%|████▊     | 120/247 [00:02<00:02, 44.81it/s]\u001b[A\u001b[A\n",
      "\n",
      " 51%|█████     | 125/247 [00:02<00:02, 44.89it/s]\u001b[A\u001b[A\n",
      "\n",
      " 53%|█████▎    | 130/247 [00:02<00:02, 44.91it/s]\u001b[A\u001b[A\n",
      "\n",
      " 55%|█████▍    | 135/247 [00:03<00:02, 44.86it/s]\u001b[A\u001b[A\n",
      "\n",
      " 57%|█████▋    | 140/247 [00:03<00:02, 44.87it/s]\u001b[A\u001b[A\n",
      "\n",
      " 59%|█████▊    | 145/247 [00:03<00:02, 44.83it/s]\u001b[A\u001b[A\n",
      "\n",
      " 61%|██████    | 150/247 [00:03<00:02, 44.84it/s]\u001b[A\u001b[A\n",
      "\n",
      " 63%|██████▎   | 155/247 [00:03<00:02, 44.79it/s]\u001b[A\u001b[A\n",
      "\n",
      " 65%|██████▍   | 160/247 [00:03<00:01, 44.84it/s]\u001b[A\u001b[A\n",
      "\n",
      " 67%|██████▋   | 165/247 [00:03<00:01, 44.80it/s]\u001b[A\u001b[A\n",
      "\n",
      " 69%|██████▉   | 170/247 [00:03<00:01, 44.84it/s]\u001b[A\u001b[A\n",
      "\n",
      " 71%|███████   | 175/247 [00:03<00:01, 44.79it/s]\u001b[A\u001b[A\n",
      "\n",
      " 73%|███████▎  | 180/247 [00:04<00:01, 44.83it/s]\u001b[A\u001b[A\n",
      "\n",
      " 75%|███████▍  | 185/247 [00:04<00:01, 44.84it/s]\u001b[A\u001b[A\n",
      "\n",
      " 77%|███████▋  | 190/247 [00:04<00:01, 44.87it/s]\u001b[A\u001b[A\n",
      "\n",
      " 79%|███████▉  | 195/247 [00:04<00:01, 44.88it/s]\u001b[A\u001b[A\n",
      "\n",
      " 81%|████████  | 200/247 [00:04<00:01, 44.86it/s]\u001b[A\u001b[A\n",
      "\n",
      " 83%|████████▎ | 205/247 [00:04<00:00, 44.88it/s]\u001b[A\u001b[A\n",
      "\n",
      " 85%|████████▌ | 210/247 [00:04<00:00, 44.83it/s]\u001b[A\u001b[A\n",
      "\n",
      " 87%|████████▋ | 215/247 [00:04<00:00, 44.86it/s]\u001b[A\u001b[A\n",
      "\n",
      " 89%|████████▉ | 220/247 [00:04<00:00, 44.82it/s]\u001b[A\u001b[A\n",
      "\n",
      " 91%|█████████ | 225/247 [00:05<00:00, 44.82it/s]\u001b[A\u001b[A\n",
      "\n",
      " 93%|█████████▎| 230/247 [00:05<00:00, 44.79it/s]\u001b[A\u001b[A\n",
      "\n",
      " 95%|█████████▌| 235/247 [00:05<00:00, 44.85it/s]\u001b[A\u001b[A\n",
      "\n",
      " 97%|█████████▋| 240/247 [00:05<00:00, 44.79it/s]\u001b[A\u001b[A\n",
      "\n",
      "100%|██████████| 247/247 [00:05<00:00, 44.85it/s]\u001b[A\u001b[A\n"
     ]
    },
    {
     "name": "stdout",
     "output_type": "stream",
     "text": [
      "Saving Test Metrics....\n",
      "Run:  2\n",
      "\tInitialising Model....\n"
     ]
    },
    {
     "name": "stderr",
     "output_type": "stream",
     "text": [
      "\n",
      "\n",
      "100%|██████████| 64/64 [00:00<00:00, 4022.83it/s]\n",
      "\n",
      "\n",
      "  0%|          | 0/991 [00:00<?, ?it/s]\u001b[A\u001b[A\n",
      "\n",
      " 34%|███▍      | 335/991 [00:00<00:00, 3335.47it/s]\u001b[A\u001b[A"
     ]
    },
    {
     "name": "stdout",
     "output_type": "stream",
     "text": [
      "\tLoading Dataset....\n"
     ]
    },
    {
     "name": "stderr",
     "output_type": "stream",
     "text": [
      "\n",
      "\n",
      "100%|██████████| 991/991 [00:00<00:00, 3404.33it/s]\u001b[A\u001b[A\n",
      "\n",
      "\n",
      "  0%|          | 0/1983 [00:00<?, ?it/s]\u001b[A\u001b[A\n",
      "\n",
      " 17%|█▋        | 347/1983 [00:00<00:00, 3462.20it/s]\u001b[A\u001b[A\n",
      "\n",
      " 36%|███▌      | 715/1983 [00:00<00:00, 3523.44it/s]\u001b[A\u001b[A\n",
      "\n",
      " 55%|█████▍    | 1087/1983 [00:00<00:00, 3578.96it/s]\u001b[A\u001b[A\n",
      "\n",
      " 73%|███████▎  | 1451/1983 [00:00<00:00, 3590.84it/s]\u001b[A\u001b[A\n",
      "\n",
      "100%|██████████| 1983/1983 [00:00<00:00, 3572.49it/s]\u001b[A\u001b[A\n",
      "\n",
      "\n",
      "100%|██████████| 64/64 [00:00<00:00, 4149.50it/s]\n",
      "\n",
      "\n",
      "  0%|          | 0/991 [00:00<?, ?it/s]\u001b[A\u001b[A\n",
      "\n",
      " 38%|███▊      | 375/991 [00:00<00:00, 3744.79it/s]\u001b[A\u001b[A\n",
      "\n"
     ]
    },
    {
     "name": "stdout",
     "output_type": "stream",
     "text": [
      "\tTraining Starts....\n"
     ]
    },
    {
     "name": "stderr",
     "output_type": "stream",
     "text": [
      "100%|██████████| 991/991 [00:00<00:00, 3861.74it/s]\u001b[A\u001b[A\n",
      "\n",
      "\n",
      "  0%|          | 0/1983 [00:00<?, ?it/s]\u001b[A\u001b[A\n",
      "\n",
      " 20%|██        | 405/1983 [00:00<00:00, 4042.02it/s]\u001b[A\u001b[A\n",
      "\n",
      " 41%|████      | 814/1983 [00:00<00:00, 4055.91it/s]\u001b[A\u001b[A\n",
      "\n",
      " 62%|██████▏   | 1225/1983 [00:00<00:00, 4068.00it/s]\u001b[A\u001b[A\n",
      "\n",
      "100%|██████████| 1983/1983 [00:00<00:00, 4050.04it/s]\u001b[A\u001b[A\n",
      "Some weights of the model checkpoint at bert-base-multilingual-cased were not used when initializing BertForSequenceClassification: ['cls.predictions.bias', 'cls.predictions.transform.dense.weight', 'cls.predictions.transform.dense.bias', 'cls.predictions.decoder.weight', 'cls.seq_relationship.weight', 'cls.seq_relationship.bias', 'cls.predictions.transform.LayerNorm.weight', 'cls.predictions.transform.LayerNorm.bias']\n",
      "- This IS expected if you are initializing BertForSequenceClassification from the checkpoint of a model trained on another task or with another architecture (e.g. initializing a BertForSequenceClassification model from a BertForPreTraining model).\n",
      "- This IS NOT expected if you are initializing BertForSequenceClassification from the checkpoint of a model that you expect to be exactly identical (initializing a BertForSequenceClassification model from a BertForSequenceClassification model).\n",
      "Some weights of BertForSequenceClassification were not initialized from the model checkpoint at bert-base-multilingual-cased and are newly initialized: ['classifier.weight', 'classifier.bias']\n",
      "You should probably TRAIN this model on a down-stream task to be able to use it for predictions and inference.\n",
      "\n",
      "\n",
      "  0%|          | 0/8 [00:00<?, ?it/s]\u001b[A\u001b[A\n",
      "\n",
      " 25%|██▌       | 2/8 [00:00<00:00, 10.10it/s]"
     ]
    },
    {
     "name": "stdout",
     "output_type": "stream",
     "text": [
      "\n",
      "======== Epoch 1 / 10 ========\n",
      "\n",
      "Training...\n"
     ]
    },
    {
     "name": "stderr",
     "output_type": "stream",
     "text": [
      "\u001b[A\u001b[A\n",
      "\n",
      " 50%|█████     | 4/8 [00:00<00:00, 10.17it/s]\u001b[A\u001b[A\n",
      "\n",
      " 75%|███████▌  | 6/8 [00:00<00:00, 10.24it/s]\u001b[A\u001b[A\n",
      "\n",
      "100%|██████████| 8/8 [00:00<00:00, 10.28it/s]\u001b[A\u001b[A\n",
      "\n",
      "\n",
      "  0%|          | 0/123 [00:00<?, ?it/s]\u001b[A\u001b[A\n",
      "\n",
      "  4%|▍         | 5/123 [00:00<00:02, 47.26it/s]\u001b[A\u001b[A"
     ]
    },
    {
     "name": "stdout",
     "output_type": "stream",
     "text": [
      "avg_train_loss 1.0545953065156937\n",
      "train_f1Score 0.25\n",
      "train_accuracy 0.4375\n",
      "\n",
      "Running Validation...\n"
     ]
    },
    {
     "name": "stderr",
     "output_type": "stream",
     "text": [
      "\n",
      "\n",
      "  8%|▊         | 10/123 [00:00<00:02, 46.92it/s]\u001b[A\u001b[A\n",
      "\n",
      " 12%|█▏        | 15/123 [00:00<00:02, 46.71it/s]\u001b[A\u001b[A\n",
      "\n",
      " 16%|█▋        | 20/123 [00:00<00:02, 46.56it/s]\u001b[A\u001b[A\n",
      "\n",
      " 20%|██        | 25/123 [00:00<00:02, 46.38it/s]\u001b[A\u001b[A\n",
      "\n",
      " 24%|██▍       | 30/123 [00:00<00:02, 46.30it/s]\u001b[A\u001b[A\n",
      "\n",
      " 28%|██▊       | 35/123 [00:00<00:01, 46.26it/s]\u001b[A\u001b[A\n",
      "\n",
      " 33%|███▎      | 40/123 [00:00<00:01, 46.12it/s]\u001b[A\u001b[A\n",
      "\n",
      " 37%|███▋      | 45/123 [00:00<00:01, 45.82it/s]\u001b[A\u001b[A\n",
      "\n",
      " 41%|████      | 50/123 [00:01<00:01, 45.84it/s]\u001b[A\u001b[A\n",
      "\n",
      " 45%|████▍     | 55/123 [00:01<00:01, 45.88it/s]\u001b[A\u001b[A\n",
      "\n",
      " 49%|████▉     | 60/123 [00:01<00:01, 45.99it/s]\u001b[A\u001b[A\n",
      "\n",
      " 53%|█████▎    | 65/123 [00:01<00:01, 45.92it/s]\u001b[A\u001b[A\n",
      "\n",
      " 57%|█████▋    | 70/123 [00:01<00:01, 46.00it/s]\u001b[A\u001b[A\n",
      "\n",
      " 61%|██████    | 75/123 [00:01<00:01, 46.02it/s]\u001b[A\u001b[A\n",
      "\n",
      " 65%|██████▌   | 80/123 [00:01<00:00, 46.02it/s]\u001b[A\u001b[A\n",
      "\n",
      " 69%|██████▉   | 85/123 [00:01<00:00, 45.91it/s]\u001b[A\u001b[A\n",
      "\n",
      " 73%|███████▎  | 90/123 [00:01<00:00, 45.72it/s]\u001b[A\u001b[A\n",
      "\n",
      " 77%|███████▋  | 95/123 [00:02<00:00, 45.76it/s]\u001b[A\u001b[A\n",
      "\n",
      " 81%|████████▏ | 100/123 [00:02<00:00, 45.81it/s]\u001b[A\u001b[A\n",
      "\n",
      " 85%|████████▌ | 105/123 [00:02<00:00, 45.89it/s]\u001b[A\u001b[A\n",
      "\n",
      " 89%|████████▉ | 110/123 [00:02<00:00, 45.89it/s]\u001b[A\u001b[A\n",
      "\n",
      " 93%|█████████▎| 115/123 [00:02<00:00, 45.85it/s]\u001b[A\u001b[A\n",
      "\n",
      "100%|██████████| 123/123 [00:02<00:00, 45.98it/s]\u001b[A\u001b[A\n",
      "\n",
      "\n",
      "  0%|          | 0/247 [00:00<?, ?it/s]\u001b[A\u001b[A\n",
      "\n",
      "  2%|▏         | 5/247 [00:00<00:05, 46.55it/s]\u001b[A\u001b[A"
     ]
    },
    {
     "name": "stdout",
     "output_type": "stream",
     "text": [
      "Validation Loss:  0.7324313281512842\n",
      "Validation Accuracy:  0.5223577235772358\n",
      "Best mF1Score....\n"
     ]
    },
    {
     "name": "stderr",
     "output_type": "stream",
     "text": [
      "\n",
      "\n",
      "  4%|▍         | 10/247 [00:00<00:05, 46.29it/s]\u001b[A\u001b[A\n",
      "\n",
      "  6%|▌         | 15/247 [00:00<00:05, 46.10it/s]\u001b[A\u001b[A\n",
      "\n",
      "  8%|▊         | 20/247 [00:00<00:04, 46.00it/s]\u001b[A\u001b[A\n",
      "\n",
      " 10%|█         | 25/247 [00:00<00:04, 45.93it/s]\u001b[A\u001b[A\n",
      "\n",
      " 12%|█▏        | 30/247 [00:00<00:04, 45.89it/s]\u001b[A\u001b[A\n",
      "\n",
      " 14%|█▍        | 35/247 [00:00<00:04, 45.83it/s]\u001b[A\u001b[A\n",
      "\n",
      " 16%|█▌        | 40/247 [00:00<00:04, 45.76it/s]\u001b[A\u001b[A\n",
      "\n",
      " 18%|█▊        | 45/247 [00:00<00:04, 45.71it/s]\u001b[A\u001b[A\n",
      "\n",
      " 20%|██        | 50/247 [00:01<00:04, 45.71it/s]\u001b[A\u001b[A\n",
      "\n",
      " 22%|██▏       | 55/247 [00:01<00:04, 45.74it/s]\u001b[A\u001b[A\n",
      "\n",
      " 24%|██▍       | 60/247 [00:01<00:04, 45.69it/s]\u001b[A\u001b[A\n",
      "\n",
      " 26%|██▋       | 65/247 [00:01<00:03, 45.70it/s]\u001b[A\u001b[A\n",
      "\n",
      " 28%|██▊       | 70/247 [00:01<00:03, 45.71it/s]\u001b[A\u001b[A\n",
      "\n",
      " 30%|███       | 75/247 [00:01<00:03, 45.68it/s]\u001b[A\u001b[A\n",
      "\n",
      " 32%|███▏      | 80/247 [00:01<00:03, 45.71it/s]\u001b[A\u001b[A\n",
      "\n",
      " 34%|███▍      | 85/247 [00:01<00:03, 45.68it/s]\u001b[A\u001b[A\n",
      "\n",
      " 36%|███▋      | 90/247 [00:01<00:03, 45.68it/s]\u001b[A\u001b[A\n",
      "\n",
      " 38%|███▊      | 95/247 [00:02<00:03, 45.62it/s]\u001b[A\u001b[A\n",
      "\n",
      " 40%|████      | 100/247 [00:02<00:03, 45.62it/s]\u001b[A\u001b[A\n",
      "\n",
      " 43%|████▎     | 105/247 [00:02<00:03, 45.64it/s]\u001b[A\u001b[A\n",
      "\n",
      " 45%|████▍     | 110/247 [00:02<00:03, 45.65it/s]\u001b[A\u001b[A\n",
      "\n",
      " 47%|████▋     | 115/247 [00:02<00:02, 45.67it/s]\u001b[A\u001b[A\n",
      "\n",
      " 49%|████▊     | 120/247 [00:02<00:02, 45.68it/s]\u001b[A\u001b[A\n",
      "\n",
      " 51%|█████     | 125/247 [00:02<00:02, 45.65it/s]\u001b[A\u001b[A\n",
      "\n",
      " 53%|█████▎    | 130/247 [00:02<00:02, 45.63it/s]\u001b[A\u001b[A\n",
      "\n",
      " 55%|█████▍    | 135/247 [00:02<00:02, 45.61it/s]\u001b[A\u001b[A\n",
      "\n",
      " 57%|█████▋    | 140/247 [00:03<00:02, 45.57it/s]\u001b[A\u001b[A\n",
      "\n",
      " 59%|█████▊    | 145/247 [00:03<00:02, 45.58it/s]\u001b[A\u001b[A\n",
      "\n",
      " 61%|██████    | 150/247 [00:03<00:02, 45.50it/s]\u001b[A\u001b[A\n",
      "\n",
      " 63%|██████▎   | 155/247 [00:03<00:02, 45.54it/s]\u001b[A\u001b[A\n",
      "\n",
      " 65%|██████▍   | 160/247 [00:03<00:01, 45.59it/s]\u001b[A\u001b[A\n",
      "\n",
      " 67%|██████▋   | 165/247 [00:03<00:01, 45.60it/s]\u001b[A\u001b[A\n",
      "\n",
      " 69%|██████▉   | 170/247 [00:03<00:01, 45.60it/s]\u001b[A\u001b[A\n",
      "\n",
      " 71%|███████   | 175/247 [00:03<00:01, 45.57it/s]\u001b[A\u001b[A\n",
      "\n",
      " 73%|███████▎  | 180/247 [00:03<00:01, 45.57it/s]\u001b[A\u001b[A\n",
      "\n",
      " 75%|███████▍  | 185/247 [00:04<00:01, 45.49it/s]\u001b[A\u001b[A\n",
      "\n",
      " 77%|███████▋  | 190/247 [00:04<00:01, 45.51it/s]\u001b[A\u001b[A\n",
      "\n",
      " 79%|███████▉  | 195/247 [00:04<00:01, 45.50it/s]\u001b[A\u001b[A\n",
      "\n",
      " 81%|████████  | 200/247 [00:04<00:01, 45.53it/s]\u001b[A\u001b[A\n",
      "\n",
      " 83%|████████▎ | 205/247 [00:04<00:00, 45.54it/s]\u001b[A\u001b[A\n",
      "\n",
      " 85%|████████▌ | 210/247 [00:04<00:00, 45.57it/s]\u001b[A\u001b[A\n",
      "\n",
      " 87%|████████▋ | 215/247 [00:04<00:00, 45.56it/s]\u001b[A\u001b[A\n",
      "\n",
      " 89%|████████▉ | 220/247 [00:04<00:00, 45.54it/s]\u001b[A\u001b[A\n",
      "\n",
      " 91%|█████████ | 225/247 [00:04<00:00, 45.55it/s]\u001b[A\u001b[A\n",
      "\n",
      " 93%|█████████▎| 230/247 [00:05<00:00, 45.43it/s]\u001b[A\u001b[A\n",
      "\n",
      " 95%|█████████▌| 235/247 [00:05<00:00, 45.45it/s]\u001b[A\u001b[A\n",
      "\n",
      " 97%|█████████▋| 240/247 [00:05<00:00, 45.47it/s]\u001b[A\u001b[A\n",
      "\n",
      "100%|██████████| 247/247 [00:05<00:00, 45.62it/s]\u001b[A\u001b[A\n",
      "\n",
      "\n",
      "  0%|          | 0/8 [00:00<?, ?it/s]\u001b[A\u001b[A\n",
      "\n",
      " 25%|██▌       | 2/8 [00:00<00:00, 10.71it/s]\u001b[A\u001b[A"
     ]
    },
    {
     "name": "stdout",
     "output_type": "stream",
     "text": [
      "\n",
      "======== Epoch 2 / 10 ========\n",
      "\n",
      "Training...\n"
     ]
    },
    {
     "name": "stderr",
     "output_type": "stream",
     "text": [
      "\n",
      "\n",
      " 50%|█████     | 4/8 [00:00<00:00, 10.58it/s]\u001b[A\u001b[A\n",
      "\n",
      " 75%|███████▌  | 6/8 [00:00<00:00, 10.49it/s]\u001b[A\u001b[A\n",
      "\n",
      "100%|██████████| 8/8 [00:00<00:00, 10.38it/s]\u001b[A\u001b[A\n",
      "\n",
      "\n",
      "  0%|          | 0/123 [00:00<?, ?it/s]\u001b[A\u001b[A\n",
      "\n",
      "  4%|▍         | 5/123 [00:00<00:02, 46.89it/s]\u001b[A\u001b[A"
     ]
    },
    {
     "name": "stdout",
     "output_type": "stream",
     "text": [
      "avg_train_loss 0.6408836767077446\n",
      "train_f1Score 0.6857142857142857\n",
      "train_accuracy 0.65625\n",
      "\n",
      "Running Validation...\n"
     ]
    },
    {
     "name": "stderr",
     "output_type": "stream",
     "text": [
      "\n",
      "\n",
      "  8%|▊         | 10/123 [00:00<00:02, 46.46it/s]\u001b[A\u001b[A\n",
      "\n",
      " 12%|█▏        | 15/123 [00:00<00:02, 46.24it/s]\u001b[A\u001b[A\n",
      "\n",
      " 16%|█▋        | 20/123 [00:00<00:02, 46.05it/s]\u001b[A\u001b[A\n",
      "\n",
      " 20%|██        | 25/123 [00:00<00:02, 45.93it/s]\u001b[A\u001b[A\n",
      "\n",
      " 24%|██▍       | 30/123 [00:00<00:02, 45.85it/s]\u001b[A\u001b[A\n",
      "\n",
      " 28%|██▊       | 35/123 [00:00<00:01, 45.79it/s]\u001b[A\u001b[A\n",
      "\n",
      " 33%|███▎      | 40/123 [00:00<00:01, 45.59it/s]\u001b[A\u001b[A\n",
      "\n",
      " 37%|███▋      | 45/123 [00:00<00:01, 45.31it/s]\u001b[A\u001b[A\n",
      "\n",
      " 41%|████      | 50/123 [00:01<00:01, 45.39it/s]\u001b[A\u001b[A\n",
      "\n",
      " 45%|████▍     | 55/123 [00:01<00:01, 45.45it/s]\u001b[A\u001b[A\n",
      "\n",
      " 49%|████▉     | 60/123 [00:01<00:01, 45.53it/s]\u001b[A\u001b[A\n",
      "\n",
      " 53%|█████▎    | 65/123 [00:01<00:01, 45.51it/s]\u001b[A\u001b[A\n",
      "\n",
      " 57%|█████▋    | 70/123 [00:01<00:01, 45.56it/s]\u001b[A\u001b[A\n",
      "\n",
      " 61%|██████    | 75/123 [00:01<00:01, 45.46it/s]\u001b[A\u001b[A\n",
      "\n",
      " 65%|██████▌   | 80/123 [00:01<00:00, 45.47it/s]\u001b[A\u001b[A\n",
      "\n",
      " 69%|██████▉   | 85/123 [00:01<00:00, 45.40it/s]\u001b[A\u001b[A\n",
      "\n",
      " 73%|███████▎  | 90/123 [00:01<00:00, 45.30it/s]\u001b[A\u001b[A\n",
      "\n",
      " 77%|███████▋  | 95/123 [00:02<00:00, 45.35it/s]\u001b[A\u001b[A\n",
      "\n",
      " 81%|████████▏ | 100/123 [00:02<00:00, 45.44it/s]\u001b[A\u001b[A\n",
      "\n",
      " 85%|████████▌ | 105/123 [00:02<00:00, 45.37it/s]\u001b[A\u001b[A\n",
      "\n",
      " 89%|████████▉ | 110/123 [00:02<00:00, 45.38it/s]\u001b[A\u001b[A\n",
      "\n",
      " 93%|█████████▎| 115/123 [00:02<00:00, 45.43it/s]\u001b[A\u001b[A\n",
      "\n",
      "100%|██████████| 123/123 [00:02<00:00, 45.50it/s]\u001b[A\u001b[A\n",
      "\n",
      "\n",
      "  0%|          | 0/247 [00:00<?, ?it/s]\u001b[A\u001b[A\n",
      "\n",
      "  2%|▏         | 5/247 [00:00<00:05, 46.05it/s]\u001b[A\u001b[A"
     ]
    },
    {
     "name": "stdout",
     "output_type": "stream",
     "text": [
      "Validation Loss:  0.6708171692320971\n",
      "Validation Accuracy:  0.5589430894308943\n",
      "Testing Model....\n"
     ]
    },
    {
     "name": "stderr",
     "output_type": "stream",
     "text": [
      "\n",
      "\n",
      "  4%|▍         | 10/247 [00:00<00:05, 45.85it/s]\u001b[A\u001b[A\n",
      "\n",
      "  6%|▌         | 15/247 [00:00<00:05, 45.73it/s]\u001b[A\u001b[A\n",
      "\n",
      "  8%|▊         | 20/247 [00:00<00:04, 45.68it/s]\u001b[A\u001b[A\n",
      "\n",
      " 10%|█         | 25/247 [00:00<00:04, 45.51it/s]\u001b[A\u001b[A\n",
      "\n",
      " 12%|█▏        | 30/247 [00:00<00:04, 45.47it/s]\u001b[A\u001b[A\n",
      "\n",
      " 14%|█▍        | 35/247 [00:00<00:04, 45.39it/s]\u001b[A\u001b[A\n",
      "\n",
      " 16%|█▌        | 40/247 [00:00<00:04, 45.40it/s]\u001b[A\u001b[A\n",
      "\n",
      " 18%|█▊        | 45/247 [00:00<00:04, 45.38it/s]\u001b[A\u001b[A\n",
      "\n",
      " 20%|██        | 50/247 [00:01<00:04, 45.39it/s]\u001b[A\u001b[A\n",
      "\n",
      " 22%|██▏       | 55/247 [00:01<00:04, 45.40it/s]\u001b[A\u001b[A\n",
      "\n",
      " 24%|██▍       | 60/247 [00:01<00:04, 45.37it/s]\u001b[A\u001b[A\n",
      "\n",
      " 26%|██▋       | 65/247 [00:01<00:04, 45.41it/s]\u001b[A\u001b[A\n",
      "\n",
      " 28%|██▊       | 70/247 [00:01<00:03, 45.30it/s]\u001b[A\u001b[A\n",
      "\n",
      " 30%|███       | 75/247 [00:01<00:03, 45.33it/s]\u001b[A\u001b[A\n",
      "\n",
      " 32%|███▏      | 80/247 [00:01<00:03, 45.22it/s]\u001b[A\u001b[A\n",
      "\n",
      " 34%|███▍      | 85/247 [00:01<00:03, 45.27it/s]\u001b[A\u001b[A\n",
      "\n",
      " 36%|███▋      | 90/247 [00:01<00:03, 45.25it/s]\u001b[A\u001b[A\n",
      "\n",
      " 38%|███▊      | 95/247 [00:02<00:03, 45.30it/s]\u001b[A\u001b[A\n",
      "\n",
      " 40%|████      | 100/247 [00:02<00:03, 45.29it/s]\u001b[A\u001b[A\n",
      "\n",
      " 43%|████▎     | 105/247 [00:02<00:03, 45.20it/s]\u001b[A\u001b[A\n",
      "\n",
      " 45%|████▍     | 110/247 [00:02<00:03, 45.20it/s]\u001b[A\u001b[A\n",
      "\n",
      " 47%|████▋     | 115/247 [00:02<00:02, 45.22it/s]\u001b[A\u001b[A\n",
      "\n",
      " 49%|████▊     | 120/247 [00:02<00:02, 45.18it/s]\u001b[A\u001b[A\n",
      "\n",
      " 51%|█████     | 125/247 [00:02<00:02, 45.15it/s]\u001b[A\u001b[A\n",
      "\n",
      " 53%|█████▎    | 130/247 [00:02<00:02, 45.20it/s]\u001b[A\u001b[A\n",
      "\n",
      " 55%|█████▍    | 135/247 [00:02<00:02, 45.14it/s]\u001b[A\u001b[A\n",
      "\n",
      " 57%|█████▋    | 140/247 [00:03<00:02, 45.11it/s]\u001b[A\u001b[A\n",
      "\n",
      " 59%|█████▊    | 145/247 [00:03<00:02, 45.16it/s]\u001b[A\u001b[A\n",
      "\n",
      " 61%|██████    | 150/247 [00:03<00:02, 45.12it/s]\u001b[A\u001b[A\n",
      "\n",
      " 63%|██████▎   | 155/247 [00:03<00:02, 45.17it/s]\u001b[A\u001b[A\n",
      "\n",
      " 65%|██████▍   | 160/247 [00:03<00:01, 45.10it/s]\u001b[A\u001b[A\n",
      "\n",
      " 67%|██████▋   | 165/247 [00:03<00:01, 45.09it/s]\u001b[A\u001b[A\n",
      "\n",
      " 69%|██████▉   | 170/247 [00:03<00:01, 45.09it/s]\u001b[A\u001b[A\n",
      "\n",
      " 71%|███████   | 175/247 [00:03<00:01, 45.05it/s]\u001b[A\u001b[A\n",
      "\n",
      " 73%|███████▎  | 180/247 [00:03<00:01, 45.07it/s]\u001b[A\u001b[A\n",
      "\n",
      " 75%|███████▍  | 185/247 [00:04<00:01, 45.06it/s]\u001b[A\u001b[A\n",
      "\n",
      " 77%|███████▋  | 190/247 [00:04<00:01, 45.11it/s]\u001b[A\u001b[A\n",
      "\n",
      " 79%|███████▉  | 195/247 [00:04<00:01, 45.06it/s]\u001b[A\u001b[A\n",
      "\n",
      " 81%|████████  | 200/247 [00:04<00:01, 45.03it/s]\u001b[A\u001b[A\n",
      "\n",
      " 83%|████████▎ | 205/247 [00:04<00:00, 45.10it/s]\u001b[A\u001b[A\n",
      "\n",
      " 85%|████████▌ | 210/247 [00:04<00:00, 45.13it/s]\u001b[A\u001b[A\n",
      "\n",
      " 87%|████████▋ | 215/247 [00:04<00:00, 45.06it/s]\u001b[A\u001b[A\n",
      "\n",
      " 89%|████████▉ | 220/247 [00:04<00:00, 45.05it/s]\u001b[A\u001b[A\n",
      "\n",
      " 91%|█████████ | 225/247 [00:04<00:00, 45.07it/s]\u001b[A\u001b[A\n",
      "\n",
      " 93%|█████████▎| 230/247 [00:05<00:00, 45.08it/s]\u001b[A\u001b[A\n",
      "\n",
      " 95%|█████████▌| 235/247 [00:05<00:00, 45.04it/s]\u001b[A\u001b[A\n",
      "\n",
      " 97%|█████████▋| 240/247 [00:05<00:00, 45.01it/s]\u001b[A\u001b[A\n",
      "\n",
      "100%|██████████| 247/247 [00:05<00:00, 45.19it/s]\u001b[A\u001b[A\n",
      "\n",
      "\n",
      "  0%|          | 0/247 [00:00<?, ?it/s]\u001b[A\u001b[A\n",
      "\n",
      "  2%|▏         | 5/247 [00:00<00:05, 45.50it/s]\u001b[A\u001b[A"
     ]
    },
    {
     "name": "stdout",
     "output_type": "stream",
     "text": [
      "Best mF1Score....\n"
     ]
    },
    {
     "name": "stderr",
     "output_type": "stream",
     "text": [
      "\n",
      "\n",
      "  4%|▍         | 10/247 [00:00<00:05, 45.34it/s]\u001b[A\u001b[A\n",
      "\n",
      "  6%|▌         | 15/247 [00:00<00:05, 45.28it/s]\u001b[A\u001b[A\n",
      "\n",
      "  8%|▊         | 20/247 [00:00<00:05, 45.17it/s]\u001b[A\u001b[A\n",
      "\n",
      " 10%|█         | 25/247 [00:00<00:04, 45.14it/s]\u001b[A\u001b[A\n",
      "\n",
      " 12%|█▏        | 30/247 [00:00<00:04, 45.05it/s]\u001b[A\u001b[A\n",
      "\n",
      " 14%|█▍        | 35/247 [00:00<00:04, 45.02it/s]\u001b[A\u001b[A\n",
      "\n",
      " 16%|█▌        | 40/247 [00:00<00:04, 44.96it/s]\u001b[A\u001b[A\n",
      "\n",
      " 18%|█▊        | 45/247 [00:01<00:04, 44.90it/s]\u001b[A\u001b[A\n",
      "\n",
      " 20%|██        | 50/247 [00:01<00:04, 44.96it/s]\u001b[A\u001b[A\n",
      "\n",
      " 22%|██▏       | 55/247 [00:01<00:04, 44.91it/s]\u001b[A\u001b[A\n",
      "\n",
      " 24%|██▍       | 60/247 [00:01<00:04, 44.91it/s]\u001b[A\u001b[A\n",
      "\n",
      " 26%|██▋       | 65/247 [00:01<00:04, 44.85it/s]\u001b[A\u001b[A\n",
      "\n",
      " 28%|██▊       | 70/247 [00:01<00:03, 44.91it/s]\u001b[A\u001b[A\n",
      "\n",
      " 30%|███       | 75/247 [00:01<00:03, 44.91it/s]\u001b[A\u001b[A\n",
      "\n",
      " 32%|███▏      | 80/247 [00:01<00:03, 44.92it/s]\u001b[A\u001b[A\n",
      "\n",
      " 34%|███▍      | 85/247 [00:01<00:03, 44.91it/s]\u001b[A\u001b[A\n",
      "\n",
      " 36%|███▋      | 90/247 [00:02<00:03, 44.97it/s]\u001b[A\u001b[A\n",
      "\n",
      " 38%|███▊      | 95/247 [00:02<00:03, 44.94it/s]\u001b[A\u001b[A\n",
      "\n",
      " 40%|████      | 100/247 [00:02<00:03, 44.87it/s]\u001b[A\u001b[A\n",
      "\n",
      " 43%|████▎     | 105/247 [00:02<00:03, 44.87it/s]\u001b[A\u001b[A\n",
      "\n",
      " 45%|████▍     | 110/247 [00:02<00:03, 44.83it/s]\u001b[A\u001b[A\n",
      "\n",
      " 47%|████▋     | 115/247 [00:02<00:02, 44.90it/s]\u001b[A\u001b[A\n",
      "\n",
      " 49%|████▊     | 120/247 [00:02<00:02, 44.86it/s]\u001b[A\u001b[A\n",
      "\n",
      " 51%|█████     | 125/247 [00:02<00:02, 44.87it/s]\u001b[A\u001b[A\n",
      "\n",
      " 53%|█████▎    | 130/247 [00:02<00:02, 44.80it/s]\u001b[A\u001b[A\n",
      "\n",
      " 55%|█████▍    | 135/247 [00:03<00:02, 44.84it/s]\u001b[A\u001b[A\n",
      "\n",
      " 57%|█████▋    | 140/247 [00:03<00:02, 44.78it/s]\u001b[A\u001b[A\n",
      "\n",
      " 59%|█████▊    | 145/247 [00:03<00:02, 44.82it/s]\u001b[A\u001b[A\n",
      "\n",
      " 61%|██████    | 150/247 [00:03<00:02, 44.83it/s]\u001b[A\u001b[A\n",
      "\n",
      " 63%|██████▎   | 155/247 [00:03<00:02, 44.86it/s]\u001b[A\u001b[A\n",
      "\n",
      " 65%|██████▍   | 160/247 [00:03<00:01, 44.87it/s]\u001b[A\u001b[A\n",
      "\n",
      " 67%|██████▋   | 165/247 [00:03<00:01, 44.88it/s]\u001b[A\u001b[A\n",
      "\n",
      " 69%|██████▉   | 170/247 [00:03<00:01, 44.88it/s]\u001b[A\u001b[A\n",
      "\n",
      " 71%|███████   | 175/247 [00:03<00:01, 44.82it/s]\u001b[A\u001b[A\n",
      "\n",
      " 73%|███████▎  | 180/247 [00:04<00:01, 44.84it/s]\u001b[A\u001b[A\n",
      "\n",
      " 75%|███████▍  | 185/247 [00:04<00:01, 44.73it/s]\u001b[A\u001b[A\n",
      "\n",
      " 77%|███████▋  | 190/247 [00:04<00:01, 44.83it/s]\u001b[A\u001b[A\n",
      "\n",
      " 79%|███████▉  | 195/247 [00:04<00:01, 44.66it/s]\u001b[A\u001b[A\n",
      "\n",
      " 81%|████████  | 200/247 [00:04<00:01, 44.70it/s]\u001b[A\u001b[A\n",
      "\n",
      " 83%|████████▎ | 205/247 [00:04<00:00, 44.71it/s]\u001b[A\u001b[A\n",
      "\n",
      " 85%|████████▌ | 210/247 [00:04<00:00, 44.87it/s]\u001b[A\u001b[A\n",
      "\n",
      " 87%|████████▋ | 215/247 [00:04<00:00, 44.72it/s]\u001b[A\u001b[A\n",
      "\n",
      " 89%|████████▉ | 220/247 [00:04<00:00, 44.72it/s]\u001b[A\u001b[A\n",
      "\n",
      " 91%|█████████ | 225/247 [00:05<00:00, 44.70it/s]\u001b[A\u001b[A\n",
      "\n",
      " 93%|█████████▎| 230/247 [00:05<00:00, 44.69it/s]\u001b[A\u001b[A\n",
      "\n",
      " 95%|█████████▌| 235/247 [00:05<00:00, 44.71it/s]\u001b[A\u001b[A\n",
      "\n",
      " 97%|█████████▋| 240/247 [00:05<00:00, 44.54it/s]\u001b[A\u001b[A\n",
      "\n",
      "100%|██████████| 247/247 [00:05<00:00, 44.84it/s]\u001b[A\u001b[A\n",
      "\n",
      "\n",
      "  0%|          | 0/8 [00:00<?, ?it/s]\u001b[A\u001b[A\n",
      "\n",
      " 25%|██▌       | 2/8 [00:00<00:00, 10.47it/s]\u001b[A\u001b[A"
     ]
    },
    {
     "name": "stdout",
     "output_type": "stream",
     "text": [
      "\n",
      "======== Epoch 3 / 10 ========\n",
      "\n",
      "Training...\n"
     ]
    },
    {
     "name": "stderr",
     "output_type": "stream",
     "text": [
      "\n",
      "\n",
      " 38%|███▊      | 3/8 [00:00<00:00, 10.27it/s]\u001b[A\u001b[A\n",
      "\n",
      " 50%|█████     | 4/8 [00:00<00:00, 10.14it/s]\u001b[A\u001b[A\n",
      "\n",
      " 75%|███████▌  | 6/8 [00:00<00:00, 10.14it/s]\u001b[A\u001b[A\n",
      "\n",
      "100%|██████████| 8/8 [00:00<00:00, 10.17it/s]\u001b[A\u001b[A\n",
      "\n",
      "\n",
      "  0%|          | 0/123 [00:00<?, ?it/s]\u001b[A\u001b[A\n",
      "\n",
      "  4%|▍         | 5/123 [00:00<00:02, 46.06it/s]\u001b[A\u001b[A"
     ]
    },
    {
     "name": "stdout",
     "output_type": "stream",
     "text": [
      "avg_train_loss 0.5591603629291058\n",
      "train_f1Score 0.7692307692307692\n",
      "train_accuracy 0.765625\n",
      "\n",
      "Running Validation...\n"
     ]
    },
    {
     "name": "stderr",
     "output_type": "stream",
     "text": [
      "\n",
      "\n",
      "  8%|▊         | 10/123 [00:00<00:02, 45.59it/s]\u001b[A\u001b[A\n",
      "\n",
      " 12%|█▏        | 15/123 [00:00<00:02, 45.13it/s]\u001b[A\u001b[A\n",
      "\n",
      " 16%|█▋        | 20/123 [00:00<00:02, 45.02it/s]\u001b[A\u001b[A\n",
      "\n",
      " 20%|██        | 25/123 [00:00<00:02, 44.97it/s]\u001b[A\u001b[A\n",
      "\n",
      " 24%|██▍       | 30/123 [00:00<00:02, 44.85it/s]\u001b[A\u001b[A\n",
      "\n",
      " 28%|██▊       | 35/123 [00:00<00:01, 44.93it/s]\u001b[A\u001b[A\n",
      "\n",
      " 33%|███▎      | 40/123 [00:00<00:01, 44.60it/s]\u001b[A\u001b[A\n",
      "\n",
      " 37%|███▋      | 45/123 [00:01<00:01, 44.42it/s]\u001b[A\u001b[A\n",
      "\n",
      " 41%|████      | 50/123 [00:01<00:01, 44.62it/s]\u001b[A\u001b[A\n",
      "\n",
      " 45%|████▍     | 55/123 [00:01<00:01, 44.64it/s]\u001b[A\u001b[A\n",
      "\n",
      " 49%|████▉     | 60/123 [00:01<00:01, 44.60it/s]\u001b[A\u001b[A\n",
      "\n",
      " 53%|█████▎    | 65/123 [00:01<00:01, 44.64it/s]\u001b[A\u001b[A\n",
      "\n",
      " 57%|█████▋    | 70/123 [00:01<00:01, 44.72it/s]\u001b[A\u001b[A\n",
      "\n",
      " 61%|██████    | 75/123 [00:01<00:01, 44.64it/s]\u001b[A\u001b[A\n",
      "\n",
      " 65%|██████▌   | 80/123 [00:01<00:00, 44.68it/s]\u001b[A\u001b[A\n",
      "\n",
      " 69%|██████▉   | 85/123 [00:01<00:00, 44.76it/s]\u001b[A\u001b[A\n",
      "\n",
      " 73%|███████▎  | 90/123 [00:02<00:00, 44.83it/s]\u001b[A\u001b[A\n",
      "\n",
      " 77%|███████▋  | 95/123 [00:02<00:00, 44.88it/s]\u001b[A\u001b[A\n",
      "\n",
      " 81%|████████▏ | 100/123 [00:02<00:00, 44.91it/s]\u001b[A\u001b[A\n",
      "\n",
      " 85%|████████▌ | 105/123 [00:02<00:00, 44.95it/s]\u001b[A\u001b[A\n",
      "\n",
      " 89%|████████▉ | 110/123 [00:02<00:00, 44.84it/s]\u001b[A\u001b[A\n",
      "\n",
      " 93%|█████████▎| 115/123 [00:02<00:00, 44.53it/s]\u001b[A\u001b[A\n",
      "\n",
      "100%|██████████| 123/123 [00:02<00:00, 44.68it/s]\u001b[A\u001b[A\n",
      "\n",
      "\n",
      "  0%|          | 0/247 [00:00<?, ?it/s]\u001b[A\u001b[A\n",
      "\n",
      "  2%|▏         | 5/247 [00:00<00:05, 45.20it/s]\u001b[A\u001b[A"
     ]
    },
    {
     "name": "stdout",
     "output_type": "stream",
     "text": [
      "Validation Loss:  0.6712457622454419\n",
      "Validation Accuracy:  0.6067073170731707\n",
      "Best mF1Score....\n"
     ]
    },
    {
     "name": "stderr",
     "output_type": "stream",
     "text": [
      "\n",
      "\n",
      "  4%|▍         | 10/247 [00:00<00:05, 45.06it/s]\u001b[A\u001b[A\n",
      "\n",
      "  6%|▌         | 15/247 [00:00<00:05, 44.88it/s]\u001b[A\u001b[A\n",
      "\n",
      "  8%|▊         | 20/247 [00:00<00:05, 44.83it/s]\u001b[A\u001b[A\n",
      "\n",
      " 10%|█         | 25/247 [00:00<00:04, 44.74it/s]\u001b[A\u001b[A\n",
      "\n",
      " 12%|█▏        | 30/247 [00:00<00:04, 44.71it/s]\u001b[A\u001b[A\n",
      "\n",
      " 14%|█▍        | 35/247 [00:00<00:04, 44.54it/s]\u001b[A\u001b[A\n",
      "\n",
      " 16%|█▌        | 40/247 [00:00<00:04, 44.68it/s]\u001b[A\u001b[A\n",
      "\n",
      " 18%|█▊        | 45/247 [00:01<00:04, 44.78it/s]\u001b[A\u001b[A\n",
      "\n",
      " 20%|██        | 50/247 [00:01<00:04, 44.76it/s]\u001b[A\u001b[A\n",
      "\n",
      " 22%|██▏       | 55/247 [00:01<00:04, 44.57it/s]\u001b[A\u001b[A\n",
      "\n",
      " 24%|██▍       | 60/247 [00:01<00:04, 44.52it/s]\u001b[A\u001b[A\n",
      "\n",
      " 26%|██▋       | 65/247 [00:01<00:04, 44.54it/s]\u001b[A\u001b[A\n",
      "\n",
      " 28%|██▊       | 70/247 [00:01<00:03, 44.68it/s]\u001b[A\u001b[A\n",
      "\n",
      " 30%|███       | 75/247 [00:01<00:03, 44.77it/s]\u001b[A\u001b[A\n",
      "\n",
      " 32%|███▏      | 80/247 [00:01<00:03, 44.58it/s]\u001b[A\u001b[A\n",
      "\n",
      " 34%|███▍      | 85/247 [00:01<00:03, 44.54it/s]\u001b[A\u001b[A\n",
      "\n",
      " 36%|███▋      | 90/247 [00:02<00:03, 44.44it/s]\u001b[A\u001b[A\n",
      "\n",
      " 38%|███▊      | 95/247 [00:02<00:03, 44.56it/s]\u001b[A\u001b[A\n",
      "\n",
      " 40%|████      | 100/247 [00:02<00:03, 44.39it/s]\u001b[A\u001b[A\n",
      "\n",
      " 43%|████▎     | 105/247 [00:02<00:03, 44.42it/s]\u001b[A\u001b[A\n",
      "\n",
      " 45%|████▍     | 110/247 [00:02<00:03, 44.44it/s]\u001b[A\u001b[A\n",
      "\n",
      " 47%|████▋     | 115/247 [00:02<00:02, 44.61it/s]\u001b[A\u001b[A\n",
      "\n",
      " 49%|████▊     | 120/247 [00:02<00:02, 44.73it/s]\u001b[A\u001b[A\n",
      "\n",
      " 51%|█████     | 125/247 [00:02<00:02, 44.61it/s]\u001b[A\u001b[A\n",
      "\n",
      " 53%|█████▎    | 130/247 [00:02<00:02, 44.54it/s]\u001b[A\u001b[A\n",
      "\n",
      " 55%|█████▍    | 135/247 [00:03<00:02, 44.53it/s]\u001b[A\u001b[A\n",
      "\n",
      " 57%|█████▋    | 140/247 [00:03<00:02, 44.72it/s]\u001b[A\u001b[A\n",
      "\n",
      " 59%|█████▊    | 145/247 [00:03<00:02, 44.47it/s]\u001b[A\u001b[A\n",
      "\n",
      " 61%|██████    | 150/247 [00:03<00:02, 44.49it/s]\u001b[A\u001b[A\n",
      "\n",
      " 63%|██████▎   | 155/247 [00:03<00:02, 44.46it/s]\u001b[A\u001b[A\n",
      "\n",
      " 65%|██████▍   | 160/247 [00:03<00:01, 44.58it/s]\u001b[A\u001b[A\n",
      "\n",
      " 67%|██████▋   | 165/247 [00:03<00:01, 44.71it/s]\u001b[A\u001b[A\n",
      "\n",
      " 69%|██████▉   | 170/247 [00:03<00:01, 44.56it/s]\u001b[A\u001b[A\n",
      "\n",
      " 71%|███████   | 175/247 [00:03<00:01, 44.51it/s]\u001b[A\u001b[A\n",
      "\n",
      " 73%|███████▎  | 180/247 [00:04<00:01, 44.44it/s]\u001b[A\u001b[A\n",
      "\n",
      " 75%|███████▍  | 185/247 [00:04<00:01, 44.51it/s]\u001b[A\u001b[A\n",
      "\n",
      " 77%|███████▋  | 190/247 [00:04<00:01, 44.34it/s]\u001b[A\u001b[A\n",
      "\n",
      " 79%|███████▉  | 195/247 [00:04<00:01, 44.41it/s]\u001b[A\u001b[A\n",
      "\n",
      " 81%|████████  | 200/247 [00:04<00:01, 44.34it/s]\u001b[A\u001b[A\n",
      "\n",
      " 83%|████████▎ | 205/247 [00:04<00:00, 44.52it/s]\u001b[A\u001b[A\n",
      "\n",
      " 85%|████████▌ | 210/247 [00:04<00:00, 44.65it/s]\u001b[A\u001b[A\n",
      "\n",
      " 87%|████████▋ | 215/247 [00:04<00:00, 44.56it/s]\u001b[A\u001b[A\n",
      "\n",
      " 89%|████████▉ | 220/247 [00:04<00:00, 44.47it/s]\u001b[A\u001b[A\n",
      "\n",
      " 91%|█████████ | 225/247 [00:05<00:00, 44.42it/s]\u001b[A\u001b[A\n",
      "\n",
      " 93%|█████████▎| 230/247 [00:05<00:00, 44.46it/s]\u001b[A\u001b[A\n",
      "\n",
      " 95%|█████████▌| 235/247 [00:05<00:00, 44.35it/s]\u001b[A\u001b[A\n",
      "\n",
      " 97%|█████████▋| 240/247 [00:05<00:00, 44.39it/s]\u001b[A\u001b[A\n",
      "\n",
      "100%|██████████| 247/247 [00:05<00:00, 44.53it/s]\u001b[A\u001b[A\n",
      "\n",
      "\n",
      "  0%|          | 0/8 [00:00<?, ?it/s]\u001b[A\u001b[A\n",
      "\n",
      " 25%|██▌       | 2/8 [00:00<00:00, 10.34it/s]\u001b[A\u001b[A"
     ]
    },
    {
     "name": "stdout",
     "output_type": "stream",
     "text": [
      "\n",
      "======== Epoch 4 / 10 ========\n",
      "\n",
      "Training...\n"
     ]
    },
    {
     "name": "stderr",
     "output_type": "stream",
     "text": [
      "\n",
      "\n",
      " 38%|███▊      | 3/8 [00:00<00:00, 10.20it/s]\u001b[A\u001b[A\n",
      "\n",
      " 62%|██████▎   | 5/8 [00:00<00:00, 10.14it/s]\u001b[A\u001b[A\n",
      "\n",
      "100%|██████████| 8/8 [00:00<00:00, 10.14it/s]\u001b[A\u001b[A\n",
      "\n",
      "\n",
      "  0%|          | 0/123 [00:00<?, ?it/s]\u001b[A\u001b[A\n",
      "\n",
      "  4%|▍         | 5/123 [00:00<00:02, 45.75it/s]\u001b[A\u001b[A"
     ]
    },
    {
     "name": "stdout",
     "output_type": "stream",
     "text": [
      "avg_train_loss 0.4099707920104265\n",
      "train_f1Score 0.8615384615384615\n",
      "train_accuracy 0.859375\n",
      "\n",
      "Running Validation...\n"
     ]
    },
    {
     "name": "stderr",
     "output_type": "stream",
     "text": [
      "\n",
      "\n",
      "  8%|▊         | 10/123 [00:00<00:02, 45.52it/s]\u001b[A\u001b[A\n",
      "\n",
      " 12%|█▏        | 15/123 [00:00<00:02, 45.26it/s]\u001b[A\u001b[A\n",
      "\n",
      " 16%|█▋        | 20/123 [00:00<00:02, 45.05it/s]\u001b[A\u001b[A\n",
      "\n",
      " 20%|██        | 25/123 [00:00<00:02, 45.02it/s]\u001b[A\u001b[A\n",
      "\n",
      " 24%|██▍       | 30/123 [00:00<00:02, 44.99it/s]\u001b[A\u001b[A\n",
      "\n",
      " 28%|██▊       | 35/123 [00:00<00:01, 44.64it/s]\u001b[A\u001b[A\n",
      "\n",
      " 33%|███▎      | 40/123 [00:00<00:01, 44.61it/s]\u001b[A\u001b[A\n",
      "\n",
      " 37%|███▋      | 45/123 [00:01<00:01, 44.55it/s]\u001b[A\u001b[A\n",
      "\n",
      " 41%|████      | 50/123 [00:01<00:01, 44.62it/s]\u001b[A\u001b[A\n",
      "\n",
      " 45%|████▍     | 55/123 [00:01<00:01, 44.57it/s]\u001b[A\u001b[A\n",
      "\n",
      " 49%|████▉     | 60/123 [00:01<00:01, 44.68it/s]\u001b[A\u001b[A\n",
      "\n",
      " 53%|█████▎    | 65/123 [00:01<00:01, 44.76it/s]\u001b[A\u001b[A\n",
      "\n",
      " 57%|█████▋    | 70/123 [00:01<00:01, 44.83it/s]\u001b[A\u001b[A\n",
      "\n",
      " 61%|██████    | 75/123 [00:01<00:01, 44.89it/s]\u001b[A\u001b[A\n",
      "\n",
      " 65%|██████▌   | 80/123 [00:01<00:00, 44.88it/s]\u001b[A\u001b[A\n",
      "\n",
      " 69%|██████▉   | 85/123 [00:01<00:00, 44.74it/s]\u001b[A\u001b[A\n",
      "\n",
      " 73%|███████▎  | 90/123 [00:02<00:00, 44.63it/s]\u001b[A\u001b[A\n",
      "\n",
      " 77%|███████▋  | 95/123 [00:02<00:00, 44.61it/s]\u001b[A\u001b[A\n",
      "\n",
      " 81%|████████▏ | 100/123 [00:02<00:00, 44.65it/s]\u001b[A\u001b[A\n",
      "\n",
      " 85%|████████▌ | 105/123 [00:02<00:00, 44.65it/s]\u001b[A\u001b[A\n",
      "\n",
      " 89%|████████▉ | 110/123 [00:02<00:00, 44.42it/s]\u001b[A\u001b[A\n",
      "\n",
      " 93%|█████████▎| 115/123 [00:02<00:00, 44.39it/s]\u001b[A\u001b[A\n",
      "\n",
      "100%|██████████| 123/123 [00:02<00:00, 44.67it/s]\u001b[A\u001b[A\n",
      "\n",
      "\n",
      "  0%|          | 0/247 [00:00<?, ?it/s]\u001b[A\u001b[A\n",
      "\n",
      "  2%|▏         | 5/247 [00:00<00:05, 44.74it/s]\u001b[A\u001b[A"
     ]
    },
    {
     "name": "stdout",
     "output_type": "stream",
     "text": [
      "Validation Loss:  0.6965522813360866\n",
      "Validation Accuracy:  0.6178861788617886\n",
      "Testing Model....\n"
     ]
    },
    {
     "name": "stderr",
     "output_type": "stream",
     "text": [
      "\n",
      "\n",
      "  4%|▍         | 10/247 [00:00<00:05, 44.46it/s]\u001b[A\u001b[A\n",
      "\n",
      "  6%|▌         | 15/247 [00:00<00:05, 44.59it/s]\u001b[A\u001b[A\n",
      "\n",
      "  8%|▊         | 20/247 [00:00<00:05, 44.54it/s]\u001b[A\u001b[A\n",
      "\n",
      " 10%|█         | 25/247 [00:00<00:04, 44.59it/s]\u001b[A\u001b[A\n",
      "\n",
      " 12%|█▏        | 30/247 [00:00<00:04, 44.55it/s]\u001b[A\u001b[A\n",
      "\n",
      " 14%|█▍        | 35/247 [00:00<00:04, 44.70it/s]\u001b[A\u001b[A\n",
      "\n",
      " 16%|█▌        | 40/247 [00:00<00:04, 44.47it/s]\u001b[A\u001b[A\n",
      "\n",
      " 18%|█▊        | 45/247 [00:01<00:04, 44.50it/s]\u001b[A\u001b[A\n",
      "\n",
      " 20%|██        | 50/247 [00:01<00:04, 44.46it/s]\u001b[A\u001b[A\n",
      "\n",
      " 22%|██▏       | 55/247 [00:01<00:04, 44.56it/s]\u001b[A\u001b[A\n",
      "\n",
      " 24%|██▍       | 60/247 [00:01<00:04, 44.50it/s]\u001b[A\u001b[A\n",
      "\n",
      " 26%|██▋       | 65/247 [00:01<00:04, 44.64it/s]\u001b[A\u001b[A\n",
      "\n",
      " 28%|██▊       | 70/247 [00:01<00:03, 44.74it/s]\u001b[A\u001b[A\n",
      "\n",
      " 30%|███       | 75/247 [00:01<00:03, 44.80it/s]\u001b[A\u001b[A\n",
      "\n",
      " 32%|███▏      | 80/247 [00:01<00:03, 44.83it/s]\u001b[A\u001b[A\n",
      "\n",
      " 34%|███▍      | 85/247 [00:01<00:03, 44.52it/s]\u001b[A\u001b[A\n",
      "\n",
      " 36%|███▋      | 90/247 [00:02<00:03, 44.54it/s]\u001b[A\u001b[A\n",
      "\n",
      " 38%|███▊      | 95/247 [00:02<00:03, 44.48it/s]\u001b[A\u001b[A\n",
      "\n",
      " 40%|████      | 100/247 [00:02<00:03, 44.62it/s]\u001b[A\u001b[A\n",
      "\n",
      " 43%|████▎     | 105/247 [00:02<00:03, 44.53it/s]\u001b[A\u001b[A\n",
      "\n",
      " 45%|████▍     | 110/247 [00:02<00:03, 44.66it/s]\u001b[A\u001b[A\n",
      "\n",
      " 47%|████▋     | 115/247 [00:02<00:02, 44.75it/s]\u001b[A\u001b[A\n",
      "\n",
      " 49%|████▊     | 120/247 [00:02<00:02, 44.79it/s]\u001b[A\u001b[A\n",
      "\n",
      " 51%|█████     | 125/247 [00:02<00:02, 44.85it/s]\u001b[A\u001b[A\n",
      "\n",
      " 53%|█████▎    | 130/247 [00:02<00:02, 44.88it/s]\u001b[A\u001b[A\n",
      "\n",
      " 55%|█████▍    | 135/247 [00:03<00:02, 44.78it/s]\u001b[A\u001b[A\n",
      "\n",
      " 57%|█████▋    | 140/247 [00:03<00:02, 44.62it/s]\u001b[A\u001b[A\n",
      "\n",
      " 59%|█████▊    | 145/247 [00:03<00:02, 44.58it/s]\u001b[A\u001b[A\n",
      "\n",
      " 61%|██████    | 150/247 [00:03<00:02, 44.56it/s]\u001b[A\u001b[A\n",
      "\n",
      " 63%|██████▎   | 155/247 [00:03<00:02, 44.55it/s]\u001b[A\u001b[A\n",
      "\n",
      " 65%|██████▍   | 160/247 [00:03<00:01, 44.56it/s]\u001b[A\u001b[A\n",
      "\n",
      " 67%|██████▋   | 165/247 [00:03<00:01, 44.63it/s]\u001b[A\u001b[A\n",
      "\n",
      " 69%|██████▉   | 170/247 [00:03<00:01, 44.60it/s]\u001b[A\u001b[A\n",
      "\n",
      " 71%|███████   | 175/247 [00:03<00:01, 44.69it/s]\u001b[A\u001b[A\n",
      "\n",
      " 73%|███████▎  | 180/247 [00:04<00:01, 44.76it/s]\u001b[A\u001b[A\n",
      "\n",
      " 75%|███████▍  | 185/247 [00:04<00:01, 44.81it/s]\u001b[A\u001b[A\n",
      "\n",
      " 77%|███████▋  | 190/247 [00:04<00:01, 44.85it/s]\u001b[A\u001b[A\n",
      "\n",
      " 79%|███████▉  | 195/247 [00:04<00:01, 44.58it/s]\u001b[A\u001b[A\n",
      "\n",
      " 81%|████████  | 200/247 [00:04<00:01, 44.56it/s]\u001b[A\u001b[A\n",
      "\n",
      " 83%|████████▎ | 205/247 [00:04<00:00, 44.44it/s]\u001b[A\u001b[A\n",
      "\n",
      " 85%|████████▌ | 210/247 [00:04<00:00, 44.57it/s]\u001b[A\u001b[A\n",
      "\n",
      " 87%|████████▋ | 215/247 [00:04<00:00, 44.69it/s]\u001b[A\u001b[A\n",
      "\n",
      " 89%|████████▉ | 220/247 [00:04<00:00, 44.77it/s]\u001b[A\u001b[A\n",
      "\n",
      " 91%|█████████ | 225/247 [00:05<00:00, 44.84it/s]\u001b[A\u001b[A\n",
      "\n",
      " 93%|█████████▎| 230/247 [00:05<00:00, 44.88it/s]\u001b[A\u001b[A\n",
      "\n",
      " 95%|█████████▌| 235/247 [00:05<00:00, 44.91it/s]\u001b[A\u001b[A\n",
      "\n",
      " 97%|█████████▋| 240/247 [00:05<00:00, 44.68it/s]\u001b[A\u001b[A\n",
      "\n",
      "100%|██████████| 247/247 [00:05<00:00, 44.63it/s]\u001b[A\u001b[A\n",
      "\n",
      "\n",
      "  0%|          | 0/247 [00:00<?, ?it/s]\u001b[A\u001b[A\n",
      "\n",
      "  2%|▏         | 5/247 [00:00<00:05, 44.75it/s]\u001b[A\u001b[A"
     ]
    },
    {
     "name": "stdout",
     "output_type": "stream",
     "text": [
      "Best mF1Score....\n"
     ]
    },
    {
     "name": "stderr",
     "output_type": "stream",
     "text": [
      "\n",
      "\n",
      "  4%|▍         | 10/247 [00:00<00:05, 44.67it/s]\u001b[A\u001b[A\n",
      "\n",
      "  6%|▌         | 15/247 [00:00<00:05, 44.73it/s]\u001b[A\u001b[A\n",
      "\n",
      "  8%|▊         | 20/247 [00:00<00:05, 44.63it/s]\u001b[A\u001b[A\n",
      "\n",
      " 10%|█         | 25/247 [00:00<00:04, 44.69it/s]\u001b[A\u001b[A\n",
      "\n",
      " 12%|█▏        | 30/247 [00:00<00:04, 44.45it/s]\u001b[A\u001b[A\n",
      "\n",
      " 14%|█▍        | 35/247 [00:00<00:04, 44.30it/s]\u001b[A\u001b[A\n",
      "\n",
      " 16%|█▌        | 40/247 [00:00<00:04, 44.51it/s]\u001b[A\u001b[A\n",
      "\n",
      " 18%|█▊        | 45/247 [00:01<00:04, 44.55it/s]\u001b[A\u001b[A\n",
      "\n",
      " 20%|██        | 50/247 [00:01<00:04, 44.70it/s]\u001b[A\u001b[A\n",
      "\n",
      " 22%|██▏       | 55/247 [00:01<00:04, 44.67it/s]\u001b[A\u001b[A\n",
      "\n",
      " 24%|██▍       | 60/247 [00:01<00:04, 44.42it/s]\u001b[A\u001b[A\n",
      "\n",
      " 26%|██▋       | 65/247 [00:01<00:04, 44.47it/s]\u001b[A\u001b[A\n",
      "\n",
      " 28%|██▊       | 70/247 [00:01<00:03, 44.57it/s]\u001b[A\u001b[A\n",
      "\n",
      " 30%|███       | 75/247 [00:01<00:03, 44.67it/s]\u001b[A\u001b[A\n",
      "\n",
      " 32%|███▏      | 80/247 [00:01<00:03, 44.67it/s]\u001b[A\u001b[A\n",
      "\n",
      " 34%|███▍      | 85/247 [00:01<00:03, 44.80it/s]\u001b[A\u001b[A\n",
      "\n",
      " 36%|███▋      | 90/247 [00:02<00:03, 44.71it/s]\u001b[A\u001b[A\n",
      "\n",
      " 38%|███▊      | 95/247 [00:02<00:03, 44.73it/s]\u001b[A\u001b[A\n",
      "\n",
      " 40%|████      | 100/247 [00:02<00:03, 44.64it/s]\u001b[A\u001b[A\n",
      "\n",
      " 43%|████▎     | 105/247 [00:02<00:03, 44.80it/s]\u001b[A\u001b[A\n",
      "\n",
      " 45%|████▍     | 110/247 [00:02<00:03, 44.62it/s]\u001b[A\u001b[A\n",
      "\n",
      " 47%|████▋     | 115/247 [00:02<00:02, 44.58it/s]\u001b[A\u001b[A\n",
      "\n",
      " 49%|████▊     | 120/247 [00:02<00:02, 44.71it/s]\u001b[A\u001b[A\n",
      "\n",
      " 51%|█████     | 125/247 [00:02<00:02, 44.79it/s]\u001b[A\u001b[A\n",
      "\n",
      " 53%|█████▎    | 130/247 [00:02<00:02, 44.71it/s]\u001b[A\u001b[A\n",
      "\n",
      " 55%|█████▍    | 135/247 [00:03<00:02, 44.79it/s]\u001b[A\u001b[A\n",
      "\n",
      " 57%|█████▋    | 140/247 [00:03<00:02, 44.60it/s]\u001b[A\u001b[A\n",
      "\n",
      " 59%|█████▊    | 145/247 [00:03<00:02, 44.72it/s]\u001b[A\u001b[A\n",
      "\n",
      " 61%|██████    | 150/247 [00:03<00:02, 44.80it/s]\u001b[A\u001b[A\n",
      "\n",
      " 63%|██████▎   | 155/247 [00:03<00:02, 44.84it/s]\u001b[A\u001b[A\n",
      "\n",
      " 65%|██████▍   | 160/247 [00:03<00:01, 44.81it/s]\u001b[A\u001b[A\n",
      "\n",
      " 67%|██████▋   | 165/247 [00:03<00:01, 44.61it/s]\u001b[A\u001b[A\n",
      "\n",
      " 69%|██████▉   | 170/247 [00:03<00:01, 44.70it/s]\u001b[A\u001b[A\n",
      "\n",
      " 71%|███████   | 175/247 [00:03<00:01, 44.62it/s]\u001b[A\u001b[A\n",
      "\n",
      " 73%|███████▎  | 180/247 [00:04<00:01, 44.65it/s]\u001b[A\u001b[A\n",
      "\n",
      " 75%|███████▍  | 185/247 [00:04<00:01, 44.60it/s]\u001b[A\u001b[A\n",
      "\n",
      " 77%|███████▋  | 190/247 [00:04<00:01, 44.77it/s]\u001b[A\u001b[A\n",
      "\n",
      " 79%|███████▉  | 195/247 [00:04<00:01, 44.60it/s]\u001b[A\u001b[A\n",
      "\n",
      " 81%|████████  | 200/247 [00:04<00:01, 44.72it/s]\u001b[A\u001b[A\n",
      "\n",
      " 83%|████████▎ | 205/247 [00:04<00:00, 44.78it/s]\u001b[A\u001b[A\n",
      "\n",
      " 85%|████████▌ | 210/247 [00:04<00:00, 44.85it/s]\u001b[A\u001b[A\n",
      "\n",
      " 87%|████████▋ | 215/247 [00:04<00:00, 44.89it/s]\u001b[A\u001b[A\n",
      "\n",
      " 89%|████████▉ | 220/247 [00:04<00:00, 44.89it/s]\u001b[A\u001b[A\n",
      "\n",
      " 91%|█████████ | 225/247 [00:05<00:00, 44.69it/s]\u001b[A\u001b[A\n",
      "\n",
      " 93%|█████████▎| 230/247 [00:05<00:00, 44.55it/s]\u001b[A\u001b[A\n",
      "\n",
      " 95%|█████████▌| 235/247 [00:05<00:00, 44.69it/s]\u001b[A\u001b[A\n",
      "\n",
      " 97%|█████████▋| 240/247 [00:05<00:00, 44.64it/s]\u001b[A\u001b[A\n",
      "\n",
      "100%|██████████| 247/247 [00:05<00:00, 44.66it/s]\u001b[A\u001b[A\n",
      "\n",
      "\n",
      "  0%|          | 0/8 [00:00<?, ?it/s]\u001b[A\u001b[A\n",
      "\n",
      " 25%|██▌       | 2/8 [00:00<00:00, 10.51it/s]\u001b[A\u001b[A"
     ]
    },
    {
     "name": "stdout",
     "output_type": "stream",
     "text": [
      "\n",
      "======== Epoch 5 / 10 ========\n",
      "\n",
      "Training...\n"
     ]
    },
    {
     "name": "stderr",
     "output_type": "stream",
     "text": [
      "\n",
      "\n",
      " 50%|█████     | 4/8 [00:00<00:00, 10.42it/s]\u001b[A\u001b[A\n",
      "\n",
      " 75%|███████▌  | 6/8 [00:00<00:00, 10.35it/s]\u001b[A\u001b[A\n",
      "\n",
      "100%|██████████| 8/8 [00:00<00:00, 10.27it/s]\u001b[A\u001b[A\n",
      "\n",
      "\n",
      "  0%|          | 0/123 [00:00<?, ?it/s]\u001b[A\u001b[A\n",
      "\n",
      "  4%|▍         | 5/123 [00:00<00:02, 45.57it/s]\u001b[A\u001b[A"
     ]
    },
    {
     "name": "stdout",
     "output_type": "stream",
     "text": [
      "avg_train_loss 0.27938369009643793\n",
      "train_f1Score 0.9180327868852458\n",
      "train_accuracy 0.921875\n",
      "\n",
      "Running Validation...\n"
     ]
    },
    {
     "name": "stderr",
     "output_type": "stream",
     "text": [
      "\n",
      "\n",
      "  8%|▊         | 10/123 [00:00<00:02, 45.25it/s]\u001b[A\u001b[A\n",
      "\n",
      " 12%|█▏        | 15/123 [00:00<00:02, 45.15it/s]\u001b[A\u001b[A\n",
      "\n",
      " 16%|█▋        | 20/123 [00:00<00:02, 44.96it/s]\u001b[A\u001b[A\n",
      "\n",
      " 20%|██        | 25/123 [00:00<00:02, 44.75it/s]\u001b[A\u001b[A\n",
      "\n",
      " 24%|██▍       | 30/123 [00:00<00:02, 44.77it/s]\u001b[A\u001b[A\n",
      "\n",
      " 28%|██▊       | 35/123 [00:00<00:01, 44.72it/s]\u001b[A\u001b[A\n",
      "\n",
      " 33%|███▎      | 40/123 [00:00<00:01, 44.77it/s]\u001b[A\u001b[A\n",
      "\n",
      " 37%|███▋      | 45/123 [00:01<00:01, 44.75it/s]\u001b[A\u001b[A\n",
      "\n",
      " 41%|████      | 50/123 [00:01<00:01, 44.83it/s]\u001b[A\u001b[A\n",
      "\n",
      " 45%|████▍     | 55/123 [00:01<00:01, 44.81it/s]\u001b[A\u001b[A\n",
      "\n",
      " 49%|████▉     | 60/123 [00:01<00:01, 44.61it/s]\u001b[A\u001b[A\n",
      "\n",
      " 53%|█████▎    | 65/123 [00:01<00:01, 44.51it/s]\u001b[A\u001b[A\n",
      "\n",
      " 57%|█████▋    | 70/123 [00:01<00:01, 44.64it/s]\u001b[A\u001b[A\n",
      "\n",
      " 61%|██████    | 75/123 [00:01<00:01, 44.65it/s]\u001b[A\u001b[A\n",
      "\n",
      " 65%|██████▌   | 80/123 [00:01<00:00, 44.80it/s]\u001b[A\u001b[A\n",
      "\n",
      " 69%|██████▉   | 85/123 [00:01<00:00, 44.71it/s]\u001b[A\u001b[A\n",
      "\n",
      " 73%|███████▎  | 90/123 [00:02<00:00, 44.84it/s]\u001b[A\u001b[A\n",
      "\n",
      " 77%|███████▋  | 95/123 [00:02<00:00, 44.68it/s]\u001b[A\u001b[A\n",
      "\n",
      " 81%|████████▏ | 100/123 [00:02<00:00, 44.59it/s]\u001b[A\u001b[A\n",
      "\n",
      " 85%|████████▌ | 105/123 [00:02<00:00, 44.67it/s]\u001b[A\u001b[A\n",
      "\n",
      " 89%|████████▉ | 110/123 [00:02<00:00, 44.68it/s]\u001b[A\u001b[A\n",
      "\n",
      " 93%|█████████▎| 115/123 [00:02<00:00, 44.76it/s]\u001b[A\u001b[A\n",
      "\n",
      "100%|██████████| 123/123 [00:02<00:00, 44.71it/s]\u001b[A\u001b[A\n",
      "\n",
      "\n",
      "  0%|          | 0/8 [00:00<?, ?it/s]\u001b[A\u001b[A\n",
      "\n",
      " 25%|██▌       | 2/8 [00:00<00:00, 10.39it/s]\u001b[A\u001b[A"
     ]
    },
    {
     "name": "stdout",
     "output_type": "stream",
     "text": [
      "Validation Loss:  0.7642469804097967\n",
      "Validation Accuracy:  0.616869918699187\n",
      "\n",
      "======== Epoch 6 / 10 ========\n",
      "\n",
      "Training...\n"
     ]
    },
    {
     "name": "stderr",
     "output_type": "stream",
     "text": [
      "\n",
      "\n",
      " 50%|█████     | 4/8 [00:00<00:00, 10.29it/s]\u001b[A\u001b[A\n",
      "\n",
      " 75%|███████▌  | 6/8 [00:00<00:00, 10.23it/s]\u001b[A\u001b[A\n",
      "\n",
      "100%|██████████| 8/8 [00:00<00:00, 10.13it/s]\u001b[A\u001b[A\n",
      "\n",
      "\n",
      "  0%|          | 0/123 [00:00<?, ?it/s]\u001b[A\u001b[A\n",
      "\n",
      "  4%|▍         | 5/123 [00:00<00:02, 45.33it/s]\u001b[A\u001b[A"
     ]
    },
    {
     "name": "stdout",
     "output_type": "stream",
     "text": [
      "avg_train_loss 0.2416942873969674\n",
      "train_f1Score 0.9333333333333333\n",
      "train_accuracy 0.9375\n",
      "\n",
      "Running Validation...\n"
     ]
    },
    {
     "name": "stderr",
     "output_type": "stream",
     "text": [
      "\n",
      "\n",
      "  8%|▊         | 10/123 [00:00<00:02, 45.18it/s]\u001b[A\u001b[A\n",
      "\n",
      " 12%|█▏        | 15/123 [00:00<00:02, 45.11it/s]\u001b[A\u001b[A\n",
      "\n",
      " 16%|█▋        | 20/123 [00:00<00:02, 45.05it/s]\u001b[A\u001b[A\n",
      "\n",
      " 20%|██        | 25/123 [00:00<00:02, 44.95it/s]\u001b[A\u001b[A\n",
      "\n",
      " 24%|██▍       | 30/123 [00:00<00:02, 44.95it/s]\u001b[A\u001b[A\n",
      "\n",
      " 28%|██▊       | 35/123 [00:00<00:01, 44.86it/s]\u001b[A\u001b[A\n",
      "\n",
      " 33%|███▎      | 40/123 [00:00<00:01, 44.91it/s]\u001b[A\u001b[A\n",
      "\n",
      " 37%|███▋      | 45/123 [00:01<00:01, 44.76it/s]\u001b[A\u001b[A\n",
      "\n",
      " 41%|████      | 50/123 [00:01<00:01, 44.87it/s]\u001b[A\u001b[A\n",
      "\n",
      " 45%|████▍     | 55/123 [00:01<00:01, 44.82it/s]\u001b[A\u001b[A\n",
      "\n",
      " 49%|████▉     | 60/123 [00:01<00:01, 44.83it/s]\u001b[A\u001b[A\n",
      "\n",
      " 53%|█████▎    | 65/123 [00:01<00:01, 44.87it/s]\u001b[A\u001b[A\n",
      "\n",
      " 57%|█████▋    | 70/123 [00:01<00:01, 44.83it/s]\u001b[A\u001b[A\n",
      "\n",
      " 61%|██████    | 75/123 [00:01<00:01, 44.84it/s]\u001b[A\u001b[A\n",
      "\n",
      " 65%|██████▌   | 80/123 [00:01<00:00, 44.78it/s]\u001b[A\u001b[A\n",
      "\n",
      " 69%|██████▉   | 85/123 [00:01<00:00, 44.83it/s]\u001b[A\u001b[A\n",
      "\n",
      " 73%|███████▎  | 90/123 [00:02<00:00, 44.80it/s]\u001b[A\u001b[A\n",
      "\n",
      " 77%|███████▋  | 95/123 [00:02<00:00, 44.84it/s]\u001b[A\u001b[A\n",
      "\n",
      " 81%|████████▏ | 100/123 [00:02<00:00, 44.80it/s]\u001b[A\u001b[A\n",
      "\n",
      " 85%|████████▌ | 105/123 [00:02<00:00, 44.85it/s]\u001b[A\u001b[A\n",
      "\n",
      " 89%|████████▉ | 110/123 [00:02<00:00, 44.79it/s]\u001b[A\u001b[A\n",
      "\n",
      " 93%|█████████▎| 115/123 [00:02<00:00, 44.83it/s]\u001b[A\u001b[A\n",
      "\n",
      "100%|██████████| 123/123 [00:02<00:00, 44.84it/s]\u001b[A\u001b[A\n",
      "\n",
      "\n",
      "  0%|          | 0/247 [00:00<?, ?it/s]\u001b[A\u001b[A\n",
      "\n",
      "  2%|▏         | 5/247 [00:00<00:05, 45.41it/s]\u001b[A\u001b[A"
     ]
    },
    {
     "name": "stdout",
     "output_type": "stream",
     "text": [
      "Validation Loss:  0.9330049436387977\n",
      "Validation Accuracy:  0.6280487804878049\n",
      "Testing Model....\n"
     ]
    },
    {
     "name": "stderr",
     "output_type": "stream",
     "text": [
      "\n",
      "\n",
      "  4%|▍         | 10/247 [00:00<00:05, 45.15it/s]\u001b[A\u001b[A\n",
      "\n",
      "  6%|▌         | 15/247 [00:00<00:05, 45.10it/s]\u001b[A\u001b[A\n",
      "\n",
      "  8%|▊         | 20/247 [00:00<00:05, 44.98it/s]\u001b[A\u001b[A\n",
      "\n",
      " 10%|█         | 25/247 [00:00<00:04, 44.95it/s]\u001b[A\u001b[A\n",
      "\n",
      " 12%|█▏        | 30/247 [00:00<00:04, 44.87it/s]\u001b[A\u001b[A\n",
      "\n",
      " 14%|█▍        | 35/247 [00:00<00:04, 44.90it/s]\u001b[A\u001b[A\n",
      "\n",
      " 16%|█▌        | 40/247 [00:00<00:04, 44.90it/s]\u001b[A\u001b[A\n",
      "\n",
      " 18%|█▊        | 45/247 [00:01<00:04, 44.83it/s]\u001b[A\u001b[A\n",
      "\n",
      " 20%|██        | 50/247 [00:01<00:04, 44.87it/s]\u001b[A\u001b[A\n",
      "\n",
      " 22%|██▏       | 55/247 [00:01<00:04, 44.81it/s]\u001b[A\u001b[A\n",
      "\n",
      " 24%|██▍       | 60/247 [00:01<00:04, 44.84it/s]\u001b[A\u001b[A\n",
      "\n",
      " 26%|██▋       | 65/247 [00:01<00:04, 44.79it/s]\u001b[A\u001b[A\n",
      "\n",
      " 28%|██▊       | 70/247 [00:01<00:03, 44.84it/s]\u001b[A\u001b[A\n",
      "\n",
      " 30%|███       | 75/247 [00:01<00:03, 44.73it/s]\u001b[A\u001b[A\n",
      "\n",
      " 32%|███▏      | 80/247 [00:01<00:03, 44.75it/s]\u001b[A\u001b[A\n",
      "\n",
      " 34%|███▍      | 85/247 [00:01<00:03, 44.80it/s]\u001b[A\u001b[A\n",
      "\n",
      " 36%|███▋      | 90/247 [00:02<00:03, 44.75it/s]\u001b[A\u001b[A\n",
      "\n",
      " 38%|███▊      | 95/247 [00:02<00:03, 44.79it/s]\u001b[A\u001b[A\n",
      "\n",
      " 40%|████      | 100/247 [00:02<00:03, 44.77it/s]\u001b[A\u001b[A\n",
      "\n",
      " 43%|████▎     | 105/247 [00:02<00:03, 44.79it/s]\u001b[A\u001b[A\n",
      "\n",
      " 45%|████▍     | 110/247 [00:02<00:03, 44.75it/s]\u001b[A\u001b[A\n",
      "\n",
      " 47%|████▋     | 115/247 [00:02<00:02, 44.77it/s]\u001b[A\u001b[A\n",
      "\n",
      " 49%|████▊     | 120/247 [00:02<00:02, 44.74it/s]\u001b[A\u001b[A\n",
      "\n",
      " 51%|█████     | 125/247 [00:02<00:02, 44.79it/s]\u001b[A\u001b[A\n",
      "\n",
      " 53%|█████▎    | 130/247 [00:02<00:02, 44.75it/s]\u001b[A\u001b[A\n",
      "\n",
      " 55%|█████▍    | 135/247 [00:03<00:02, 44.82it/s]\u001b[A\u001b[A\n",
      "\n",
      " 57%|█████▋    | 140/247 [00:03<00:02, 44.83it/s]\u001b[A\u001b[A\n",
      "\n",
      " 59%|█████▊    | 145/247 [00:03<00:02, 44.78it/s]\u001b[A\u001b[A\n",
      "\n",
      " 61%|██████    | 150/247 [00:03<00:02, 44.81it/s]\u001b[A\u001b[A\n",
      "\n",
      " 63%|██████▎   | 155/247 [00:03<00:02, 44.76it/s]\u001b[A\u001b[A\n",
      "\n",
      " 65%|██████▍   | 160/247 [00:03<00:01, 44.79it/s]\u001b[A\u001b[A\n",
      "\n",
      " 67%|██████▋   | 165/247 [00:03<00:01, 44.75it/s]\u001b[A\u001b[A\n",
      "\n",
      " 69%|██████▉   | 170/247 [00:03<00:01, 44.81it/s]\u001b[A\u001b[A\n",
      "\n",
      " 71%|███████   | 175/247 [00:03<00:01, 44.73it/s]\u001b[A\u001b[A\n",
      "\n",
      " 73%|███████▎  | 180/247 [00:04<00:01, 44.79it/s]\u001b[A\u001b[A\n",
      "\n",
      " 75%|███████▍  | 185/247 [00:04<00:01, 44.82it/s]\u001b[A\u001b[A\n",
      "\n",
      " 77%|███████▋  | 190/247 [00:04<00:01, 44.73it/s]\u001b[A\u001b[A\n",
      "\n",
      " 79%|███████▉  | 195/247 [00:04<00:01, 44.86it/s]\u001b[A\u001b[A\n",
      "\n",
      " 81%|████████  | 200/247 [00:04<00:01, 44.69it/s]\u001b[A\u001b[A\n",
      "\n",
      " 83%|████████▎ | 205/247 [00:04<00:00, 44.81it/s]\u001b[A\u001b[A\n",
      "\n",
      " 85%|████████▌ | 210/247 [00:04<00:00, 44.66it/s]\u001b[A\u001b[A\n",
      "\n",
      " 87%|████████▋ | 215/247 [00:04<00:00, 44.84it/s]\u001b[A\u001b[A\n",
      "\n",
      " 89%|████████▉ | 220/247 [00:04<00:00, 44.72it/s]\u001b[A\u001b[A\n",
      "\n",
      " 91%|█████████ | 225/247 [00:05<00:00, 44.77it/s]\u001b[A\u001b[A\n",
      "\n",
      " 93%|█████████▎| 230/247 [00:05<00:00, 44.75it/s]\u001b[A\u001b[A\n",
      "\n",
      " 95%|█████████▌| 235/247 [00:05<00:00, 44.81it/s]\u001b[A\u001b[A\n",
      "\n",
      " 97%|█████████▋| 240/247 [00:05<00:00, 44.83it/s]\u001b[A\u001b[A\n",
      "\n",
      "100%|██████████| 247/247 [00:05<00:00, 44.79it/s]\u001b[A\u001b[A\n",
      "\n",
      "\n",
      "  0%|          | 0/247 [00:00<?, ?it/s]\u001b[A\u001b[A\n",
      "\n",
      "  2%|▏         | 5/247 [00:00<00:05, 45.36it/s]\u001b[A\u001b[A"
     ]
    },
    {
     "name": "stdout",
     "output_type": "stream",
     "text": [
      "Best mF1Score....\n"
     ]
    },
    {
     "name": "stderr",
     "output_type": "stream",
     "text": [
      "\n",
      "\n",
      "  4%|▍         | 10/247 [00:00<00:05, 45.24it/s]\u001b[A\u001b[A\n",
      "\n",
      "  6%|▌         | 15/247 [00:00<00:05, 45.03it/s]\u001b[A\u001b[A\n",
      "\n",
      "  8%|▊         | 20/247 [00:00<00:05, 45.08it/s]\u001b[A\u001b[A\n",
      "\n",
      " 10%|█         | 25/247 [00:00<00:04, 44.92it/s]\u001b[A\u001b[A\n",
      "\n",
      " 12%|█▏        | 30/247 [00:00<00:04, 44.89it/s]\u001b[A\u001b[A\n",
      "\n",
      " 14%|█▍        | 35/247 [00:00<00:04, 44.88it/s]\u001b[A\u001b[A\n",
      "\n",
      " 16%|█▌        | 40/247 [00:00<00:04, 44.83it/s]\u001b[A\u001b[A\n",
      "\n",
      " 18%|█▊        | 45/247 [00:01<00:04, 44.88it/s]\u001b[A\u001b[A\n",
      "\n",
      " 20%|██        | 50/247 [00:01<00:04, 44.81it/s]\u001b[A\u001b[A\n",
      "\n",
      " 22%|██▏       | 55/247 [00:01<00:04, 44.61it/s]\u001b[A\u001b[A\n",
      "\n",
      " 24%|██▍       | 60/247 [00:01<00:04, 44.56it/s]\u001b[A\u001b[A\n",
      "\n",
      " 26%|██▋       | 65/247 [00:01<00:04, 44.73it/s]\u001b[A\u001b[A\n",
      "\n",
      " 28%|██▊       | 70/247 [00:01<00:03, 44.67it/s]\u001b[A\u001b[A\n",
      "\n",
      " 30%|███       | 75/247 [00:01<00:03, 44.85it/s]\u001b[A\u001b[A\n",
      "\n",
      " 32%|███▏      | 80/247 [00:01<00:03, 44.75it/s]\u001b[A\u001b[A\n",
      "\n",
      " 34%|███▍      | 85/247 [00:01<00:03, 44.76it/s]\u001b[A\u001b[A\n",
      "\n",
      " 36%|███▋      | 90/247 [00:02<00:03, 44.57it/s]\u001b[A\u001b[A\n",
      "\n",
      " 38%|███▊      | 95/247 [00:02<00:03, 44.49it/s]\u001b[A\u001b[A\n",
      "\n",
      " 40%|████      | 100/247 [00:02<00:03, 44.63it/s]\u001b[A\u001b[A\n",
      "\n",
      " 43%|████▎     | 105/247 [00:02<00:03, 44.64it/s]\u001b[A\u001b[A\n",
      "\n",
      " 45%|████▍     | 110/247 [00:02<00:03, 44.79it/s]\u001b[A\u001b[A\n",
      "\n",
      " 47%|████▋     | 115/247 [00:02<00:02, 44.68it/s]\u001b[A\u001b[A\n",
      "\n",
      " 49%|████▊     | 120/247 [00:02<00:02, 44.75it/s]\u001b[A\u001b[A\n",
      "\n",
      " 51%|█████     | 125/247 [00:02<00:02, 44.64it/s]\u001b[A\u001b[A\n",
      "\n",
      " 53%|█████▎    | 130/247 [00:02<00:02, 44.75it/s]\u001b[A\u001b[A\n",
      "\n",
      " 55%|█████▍    | 135/247 [00:03<00:02, 44.61it/s]\u001b[A\u001b[A\n",
      "\n",
      " 57%|█████▋    | 140/247 [00:03<00:02, 44.59it/s]\u001b[A\u001b[A\n",
      "\n",
      " 59%|█████▊    | 145/247 [00:03<00:02, 44.70it/s]\u001b[A\u001b[A\n",
      "\n",
      " 61%|██████    | 150/247 [00:03<00:02, 44.73it/s]\u001b[A\u001b[A\n",
      "\n",
      " 63%|██████▎   | 155/247 [00:03<00:02, 44.85it/s]\u001b[A\u001b[A\n",
      "\n",
      " 65%|██████▍   | 160/247 [00:03<00:01, 44.74it/s]\u001b[A\u001b[A\n",
      "\n",
      " 67%|██████▋   | 165/247 [00:03<00:01, 44.77it/s]\u001b[A\u001b[A\n",
      "\n",
      " 69%|██████▉   | 170/247 [00:03<00:01, 44.80it/s]\u001b[A\u001b[A\n",
      "\n",
      " 71%|███████   | 175/247 [00:03<00:01, 44.79it/s]\u001b[A\u001b[A\n",
      "\n",
      " 73%|███████▎  | 180/247 [00:04<00:01, 44.82it/s]\u001b[A\u001b[A\n",
      "\n",
      " 75%|███████▍  | 185/247 [00:04<00:01, 44.79it/s]\u001b[A\u001b[A\n",
      "\n",
      " 77%|███████▋  | 190/247 [00:04<00:01, 44.84it/s]\u001b[A\u001b[A\n",
      "\n",
      " 79%|███████▉  | 195/247 [00:04<00:01, 44.80it/s]\u001b[A\u001b[A\n",
      "\n",
      " 81%|████████  | 200/247 [00:04<00:01, 44.85it/s]\u001b[A\u001b[A\n",
      "\n",
      " 83%|████████▎ | 205/247 [00:04<00:00, 44.73it/s]\u001b[A\u001b[A\n",
      "\n",
      " 85%|████████▌ | 210/247 [00:04<00:00, 44.85it/s]\u001b[A\u001b[A\n",
      "\n",
      " 87%|████████▋ | 215/247 [00:04<00:00, 44.78it/s]\u001b[A\u001b[A\n",
      "\n",
      " 89%|████████▉ | 220/247 [00:04<00:00, 44.74it/s]\u001b[A\u001b[A\n",
      "\n",
      " 91%|█████████ | 225/247 [00:05<00:00, 44.79it/s]\u001b[A\u001b[A\n",
      "\n",
      " 93%|█████████▎| 230/247 [00:05<00:00, 44.76it/s]\u001b[A\u001b[A\n",
      "\n",
      " 95%|█████████▌| 235/247 [00:05<00:00, 44.81it/s]\u001b[A\u001b[A\n",
      "\n",
      " 97%|█████████▋| 240/247 [00:05<00:00, 44.79it/s]\u001b[A\u001b[A\n",
      "\n",
      "100%|██████████| 247/247 [00:05<00:00, 44.76it/s]\u001b[A\u001b[A\n",
      "\n",
      "\n",
      "  0%|          | 0/8 [00:00<?, ?it/s]\u001b[A\u001b[A\n",
      "\n",
      " 25%|██▌       | 2/8 [00:00<00:00, 10.36it/s]\u001b[A\u001b[A"
     ]
    },
    {
     "name": "stdout",
     "output_type": "stream",
     "text": [
      "\n",
      "======== Epoch 7 / 10 ========\n",
      "\n",
      "Training...\n"
     ]
    },
    {
     "name": "stderr",
     "output_type": "stream",
     "text": [
      "\n",
      "\n",
      " 38%|███▊      | 3/8 [00:00<00:00, 10.22it/s]\u001b[A\u001b[A\n",
      "\n",
      " 50%|█████     | 4/8 [00:00<00:00, 10.14it/s]\u001b[A\u001b[A\n",
      "\n",
      " 62%|██████▎   | 5/8 [00:00<00:00, 10.08it/s]\u001b[A\u001b[A\n",
      "\n",
      " 75%|███████▌  | 6/8 [00:00<00:00, 10.04it/s]\u001b[A\u001b[A\n",
      "\n",
      " 88%|████████▊ | 7/8 [00:00<00:00, 10.01it/s]\u001b[A\u001b[A\n",
      "\n",
      "100%|██████████| 8/8 [00:00<00:00, 10.03it/s]\u001b[A\u001b[A\n",
      "\n",
      "\n",
      "  0%|          | 0/123 [00:00<?, ?it/s]\u001b[A\u001b[A\n",
      "\n",
      "  4%|▍         | 5/123 [00:00<00:02, 45.07it/s]\u001b[A\u001b[A"
     ]
    },
    {
     "name": "stdout",
     "output_type": "stream",
     "text": [
      "avg_train_loss 0.23479019198566675\n",
      "train_f1Score 0.9206349206349206\n",
      "train_accuracy 0.921875\n",
      "\n",
      "Running Validation...\n"
     ]
    },
    {
     "name": "stderr",
     "output_type": "stream",
     "text": [
      "\n",
      "\n",
      "  8%|▊         | 10/123 [00:00<00:02, 45.06it/s]\u001b[A\u001b[A\n",
      "\n",
      " 12%|█▏        | 15/123 [00:00<00:02, 45.08it/s]\u001b[A\u001b[A\n",
      "\n",
      " 16%|█▋        | 20/123 [00:00<00:02, 44.99it/s]\u001b[A\u001b[A\n",
      "\n",
      " 20%|██        | 25/123 [00:00<00:02, 44.99it/s]\u001b[A\u001b[A\n",
      "\n",
      " 24%|██▍       | 30/123 [00:00<00:02, 44.90it/s]\u001b[A\u001b[A\n",
      "\n",
      " 28%|██▊       | 35/123 [00:00<00:01, 44.91it/s]\u001b[A\u001b[A\n",
      "\n",
      " 33%|███▎      | 40/123 [00:00<00:01, 44.92it/s]\u001b[A\u001b[A\n",
      "\n",
      " 37%|███▋      | 45/123 [00:01<00:01, 44.85it/s]\u001b[A\u001b[A\n",
      "\n",
      " 41%|████      | 50/123 [00:01<00:01, 44.88it/s]\u001b[A\u001b[A\n",
      "\n",
      " 45%|████▍     | 55/123 [00:01<00:01, 44.83it/s]\u001b[A\u001b[A\n",
      "\n",
      " 49%|████▉     | 60/123 [00:01<00:01, 44.88it/s]\u001b[A\u001b[A\n",
      "\n",
      " 53%|█████▎    | 65/123 [00:01<00:01, 44.83it/s]\u001b[A\u001b[A\n",
      "\n",
      " 57%|█████▋    | 70/123 [00:01<00:01, 44.86it/s]\u001b[A\u001b[A\n",
      "\n",
      " 61%|██████    | 75/123 [00:01<00:01, 44.83it/s]\u001b[A\u001b[A\n",
      "\n",
      " 65%|██████▌   | 80/123 [00:01<00:00, 44.86it/s]\u001b[A\u001b[A\n",
      "\n",
      " 69%|██████▉   | 85/123 [00:01<00:00, 44.82it/s]\u001b[A\u001b[A\n",
      "\n",
      " 73%|███████▎  | 90/123 [00:02<00:00, 44.87it/s]\u001b[A\u001b[A\n",
      "\n",
      " 77%|███████▋  | 95/123 [00:02<00:00, 44.82it/s]\u001b[A\u001b[A\n",
      "\n",
      " 81%|████████▏ | 100/123 [00:02<00:00, 44.86it/s]\u001b[A\u001b[A\n",
      "\n",
      " 85%|████████▌ | 105/123 [00:02<00:00, 44.89it/s]\u001b[A\u001b[A\n",
      "\n",
      " 89%|████████▉ | 110/123 [00:02<00:00, 44.84it/s]\u001b[A\u001b[A\n",
      "\n",
      " 93%|█████████▎| 115/123 [00:02<00:00, 44.87it/s]\u001b[A\u001b[A\n",
      "\n",
      "100%|██████████| 123/123 [00:02<00:00, 44.87it/s]\u001b[A\u001b[A\n",
      "\n",
      "\n",
      "  0%|          | 0/8 [00:00<?, ?it/s]\u001b[A\u001b[A\n",
      "\n",
      " 25%|██▌       | 2/8 [00:00<00:00, 10.47it/s]\u001b[A\u001b[A"
     ]
    },
    {
     "name": "stdout",
     "output_type": "stream",
     "text": [
      "Validation Loss:  1.0178559758071977\n",
      "Validation Accuracy:  0.6239837398373984\n",
      "\n",
      "======== Epoch 8 / 10 ========\n",
      "\n",
      "Training...\n"
     ]
    },
    {
     "name": "stderr",
     "output_type": "stream",
     "text": [
      "\n",
      "\n",
      " 50%|█████     | 4/8 [00:00<00:00, 10.37it/s]\u001b[A\u001b[A\n",
      "\n",
      " 75%|███████▌  | 6/8 [00:00<00:00, 10.30it/s]\u001b[A\u001b[A\n",
      "\n",
      "100%|██████████| 8/8 [00:00<00:00, 10.19it/s]\u001b[A\u001b[A\n",
      "\n",
      "\n",
      "  0%|          | 0/123 [00:00<?, ?it/s]\u001b[A\u001b[A\n",
      "\n",
      "  4%|▍         | 5/123 [00:00<00:02, 45.51it/s]\u001b[A\u001b[A"
     ]
    },
    {
     "name": "stdout",
     "output_type": "stream",
     "text": [
      "avg_train_loss 0.22964584175497293\n",
      "train_f1Score 0.9206349206349206\n",
      "train_accuracy 0.921875\n",
      "\n",
      "Running Validation...\n"
     ]
    },
    {
     "name": "stderr",
     "output_type": "stream",
     "text": [
      "\n",
      "\n",
      "  8%|▊         | 10/123 [00:00<00:02, 45.35it/s]\u001b[A\u001b[A\n",
      "\n",
      " 12%|█▏        | 15/123 [00:00<00:02, 45.27it/s]\u001b[A\u001b[A\n",
      "\n",
      " 16%|█▋        | 20/123 [00:00<00:02, 45.14it/s]\u001b[A\u001b[A\n",
      "\n",
      " 20%|██        | 25/123 [00:00<00:02, 45.06it/s]\u001b[A\u001b[A\n",
      "\n",
      " 24%|██▍       | 30/123 [00:00<00:02, 44.96it/s]\u001b[A\u001b[A\n",
      "\n",
      " 28%|██▊       | 35/123 [00:00<00:01, 44.96it/s]\u001b[A\u001b[A\n",
      "\n",
      " 33%|███▎      | 40/123 [00:00<00:01, 44.88it/s]\u001b[A\u001b[A\n",
      "\n",
      " 37%|███▋      | 45/123 [00:01<00:01, 44.89it/s]\u001b[A\u001b[A\n",
      "\n",
      " 41%|████      | 50/123 [00:01<00:01, 44.83it/s]\u001b[A\u001b[A\n",
      "\n",
      " 45%|████▍     | 55/123 [00:01<00:01, 44.86it/s]\u001b[A\u001b[A\n",
      "\n",
      " 49%|████▉     | 60/123 [00:01<00:01, 44.80it/s]\u001b[A\u001b[A\n",
      "\n",
      " 53%|█████▎    | 65/123 [00:01<00:01, 44.83it/s]\u001b[A\u001b[A\n",
      "\n",
      " 57%|█████▋    | 70/123 [00:01<00:01, 44.79it/s]\u001b[A\u001b[A\n",
      "\n",
      " 61%|██████    | 75/123 [00:01<00:01, 44.84it/s]\u001b[A\u001b[A\n",
      "\n",
      " 65%|██████▌   | 80/123 [00:01<00:00, 44.83it/s]\u001b[A\u001b[A\n",
      "\n",
      " 69%|██████▉   | 85/123 [00:01<00:00, 44.77it/s]\u001b[A\u001b[A\n",
      "\n",
      " 73%|███████▎  | 90/123 [00:02<00:00, 44.81it/s]\u001b[A\u001b[A\n",
      "\n",
      " 77%|███████▋  | 95/123 [00:02<00:00, 44.78it/s]\u001b[A\u001b[A\n",
      "\n",
      " 81%|████████▏ | 100/123 [00:02<00:00, 44.83it/s]\u001b[A\u001b[A\n",
      "\n",
      " 85%|████████▌ | 105/123 [00:02<00:00, 44.79it/s]\u001b[A\u001b[A\n",
      "\n",
      " 89%|████████▉ | 110/123 [00:02<00:00, 44.83it/s]\u001b[A\u001b[A\n",
      "\n",
      " 93%|█████████▎| 115/123 [00:02<00:00, 44.78it/s]\u001b[A\u001b[A\n",
      "\n",
      "100%|██████████| 123/123 [00:02<00:00, 44.85it/s]\u001b[A\u001b[A\n",
      "\n",
      "\n",
      "  0%|          | 0/247 [00:00<?, ?it/s]\u001b[A\u001b[A\n",
      "\n",
      "  2%|▏         | 5/247 [00:00<00:05, 45.20it/s]\u001b[A\u001b[A"
     ]
    },
    {
     "name": "stdout",
     "output_type": "stream",
     "text": [
      "Validation Loss:  1.0223667839678323\n",
      "Validation Accuracy:  0.6300813008130082\n",
      "Testing Model....\n"
     ]
    },
    {
     "name": "stderr",
     "output_type": "stream",
     "text": [
      "\n",
      "\n",
      "  4%|▍         | 10/247 [00:00<00:05, 45.06it/s]\u001b[A\u001b[A\n",
      "\n",
      "  6%|▌         | 15/247 [00:00<00:05, 44.96it/s]\u001b[A\u001b[A\n",
      "\n",
      "  8%|▊         | 20/247 [00:00<00:05, 44.94it/s]\u001b[A\u001b[A\n",
      "\n",
      " 10%|█         | 25/247 [00:00<00:04, 44.86it/s]\u001b[A\u001b[A\n",
      "\n",
      " 12%|█▏        | 30/247 [00:00<00:04, 44.89it/s]\u001b[A\u001b[A\n",
      "\n",
      " 14%|█▍        | 35/247 [00:00<00:04, 44.82it/s]\u001b[A\u001b[A\n",
      "\n",
      " 16%|█▌        | 40/247 [00:00<00:04, 44.83it/s]\u001b[A\u001b[A\n",
      "\n",
      " 18%|█▊        | 45/247 [00:01<00:04, 44.79it/s]\u001b[A\u001b[A\n",
      "\n",
      " 20%|██        | 50/247 [00:01<00:04, 44.85it/s]\u001b[A\u001b[A\n",
      "\n",
      " 22%|██▏       | 55/247 [00:01<00:04, 44.86it/s]\u001b[A\u001b[A\n",
      "\n",
      " 24%|██▍       | 60/247 [00:01<00:04, 44.90it/s]\u001b[A\u001b[A\n",
      "\n",
      " 26%|██▋       | 65/247 [00:01<00:04, 44.89it/s]\u001b[A\u001b[A\n",
      "\n",
      " 28%|██▊       | 70/247 [00:01<00:03, 44.84it/s]\u001b[A\u001b[A\n",
      "\n",
      " 30%|███       | 75/247 [00:01<00:03, 44.86it/s]\u001b[A\u001b[A\n",
      "\n",
      " 32%|███▏      | 80/247 [00:01<00:03, 44.82it/s]\u001b[A\u001b[A\n",
      "\n",
      " 34%|███▍      | 85/247 [00:01<00:03, 44.84it/s]\u001b[A\u001b[A\n",
      "\n",
      " 36%|███▋      | 90/247 [00:02<00:03, 44.78it/s]\u001b[A\u001b[A\n",
      "\n",
      " 38%|███▊      | 95/247 [00:02<00:03, 44.81it/s]\u001b[A\u001b[A\n",
      "\n",
      " 40%|████      | 100/247 [00:02<00:03, 44.77it/s]\u001b[A\u001b[A\n",
      "\n",
      " 43%|████▎     | 105/247 [00:02<00:03, 44.81it/s]\u001b[A\u001b[A\n",
      "\n",
      " 45%|████▍     | 110/247 [00:02<00:03, 44.75it/s]\u001b[A\u001b[A\n",
      "\n",
      " 47%|████▋     | 115/247 [00:02<00:02, 44.80it/s]\u001b[A\u001b[A\n",
      "\n",
      " 49%|████▊     | 120/247 [00:02<00:02, 44.82it/s]\u001b[A\u001b[A\n",
      "\n",
      " 51%|█████     | 125/247 [00:02<00:02, 44.78it/s]\u001b[A\u001b[A\n",
      "\n",
      " 53%|█████▎    | 130/247 [00:02<00:02, 44.81it/s]\u001b[A\u001b[A\n",
      "\n",
      " 55%|█████▍    | 135/247 [00:03<00:02, 44.78it/s]\u001b[A\u001b[A\n",
      "\n",
      " 57%|█████▋    | 140/247 [00:03<00:02, 44.81it/s]\u001b[A\u001b[A\n",
      "\n",
      " 59%|█████▊    | 145/247 [00:03<00:02, 44.78it/s]\u001b[A\u001b[A\n",
      "\n",
      " 61%|██████    | 150/247 [00:03<00:02, 44.83it/s]\u001b[A\u001b[A\n",
      "\n",
      " 63%|██████▎   | 155/247 [00:03<00:02, 44.78it/s]\u001b[A\u001b[A\n",
      "\n",
      " 65%|██████▍   | 160/247 [00:03<00:01, 44.80it/s]\u001b[A\u001b[A\n",
      "\n",
      " 67%|██████▋   | 165/247 [00:03<00:01, 44.75it/s]\u001b[A\u001b[A\n",
      "\n",
      " 69%|██████▉   | 170/247 [00:03<00:01, 44.81it/s]\u001b[A\u001b[A\n",
      "\n",
      " 71%|███████   | 175/247 [00:03<00:01, 44.83it/s]\u001b[A\u001b[A\n",
      "\n",
      " 73%|███████▎  | 180/247 [00:04<00:01, 44.79it/s]\u001b[A\u001b[A\n",
      "\n",
      " 75%|███████▍  | 185/247 [00:04<00:01, 44.82it/s]\u001b[A\u001b[A\n",
      "\n",
      " 77%|███████▋  | 190/247 [00:04<00:01, 44.80it/s]\u001b[A\u001b[A\n",
      "\n",
      " 79%|███████▉  | 195/247 [00:04<00:01, 44.82it/s]\u001b[A\u001b[A\n",
      "\n",
      " 81%|████████  | 200/247 [00:04<00:01, 44.77it/s]\u001b[A\u001b[A\n",
      "\n",
      " 83%|████████▎ | 205/247 [00:04<00:00, 44.81it/s]\u001b[A\u001b[A\n",
      "\n",
      " 85%|████████▌ | 210/247 [00:04<00:00, 44.75it/s]\u001b[A\u001b[A\n",
      "\n",
      " 87%|████████▋ | 215/247 [00:04<00:00, 44.80it/s]\u001b[A\u001b[A\n",
      "\n",
      " 89%|████████▉ | 220/247 [00:04<00:00, 44.75it/s]\u001b[A\u001b[A\n",
      "\n",
      " 91%|█████████ | 225/247 [00:05<00:00, 44.79it/s]\u001b[A\u001b[A\n",
      "\n",
      " 93%|█████████▎| 230/247 [00:05<00:00, 44.81it/s]\u001b[A\u001b[A\n",
      "\n",
      " 95%|█████████▌| 235/247 [00:05<00:00, 44.78it/s]\u001b[A\u001b[A\n",
      "\n",
      " 97%|█████████▋| 240/247 [00:05<00:00, 44.82it/s]\u001b[A\u001b[A\n",
      "\n",
      "100%|██████████| 247/247 [00:05<00:00, 44.80it/s]\u001b[A\u001b[A\n",
      "\n",
      "\n",
      "  0%|          | 0/247 [00:00<?, ?it/s]\u001b[A\u001b[A\n",
      "\n",
      "  2%|▏         | 5/247 [00:00<00:05, 45.38it/s]\u001b[A\u001b[A"
     ]
    },
    {
     "name": "stdout",
     "output_type": "stream",
     "text": [
      "Best mF1Score....\n"
     ]
    },
    {
     "name": "stderr",
     "output_type": "stream",
     "text": [
      "\n",
      "\n",
      "  4%|▍         | 10/247 [00:00<00:05, 45.29it/s]\u001b[A\u001b[A\n",
      "\n",
      "  6%|▌         | 15/247 [00:00<00:05, 45.23it/s]\u001b[A\u001b[A\n",
      "\n",
      "  8%|▊         | 20/247 [00:00<00:05, 45.12it/s]\u001b[A\u001b[A\n",
      "\n",
      " 10%|█         | 25/247 [00:00<00:04, 45.08it/s]\u001b[A\u001b[A\n",
      "\n",
      " 12%|█▏        | 30/247 [00:00<00:04, 44.99it/s]\u001b[A\u001b[A\n",
      "\n",
      " 14%|█▍        | 35/247 [00:00<00:04, 44.96it/s]\u001b[A\u001b[A\n",
      "\n",
      " 16%|█▌        | 40/247 [00:00<00:04, 44.86it/s]\u001b[A\u001b[A\n",
      "\n",
      " 18%|█▊        | 45/247 [00:01<00:04, 44.82it/s]\u001b[A\u001b[A\n",
      "\n",
      " 20%|██        | 50/247 [00:01<00:04, 44.83it/s]\u001b[A\u001b[A\n",
      "\n",
      " 22%|██▏       | 55/247 [00:01<00:04, 44.85it/s]\u001b[A\u001b[A\n",
      "\n",
      " 24%|██▍       | 60/247 [00:01<00:04, 44.80it/s]\u001b[A\u001b[A\n",
      "\n",
      " 26%|██▋       | 65/247 [00:01<00:04, 44.84it/s]\u001b[A\u001b[A\n",
      "\n",
      " 28%|██▊       | 70/247 [00:01<00:03, 44.80it/s]\u001b[A\u001b[A\n",
      "\n",
      " 30%|███       | 75/247 [00:01<00:03, 44.83it/s]\u001b[A\u001b[A\n",
      "\n",
      " 32%|███▏      | 80/247 [00:01<00:03, 44.79it/s]\u001b[A\u001b[A\n",
      "\n",
      " 34%|███▍      | 85/247 [00:01<00:03, 44.83it/s]\u001b[A\u001b[A\n",
      "\n",
      " 36%|███▋      | 90/247 [00:02<00:03, 44.80it/s]\u001b[A\u001b[A\n",
      "\n",
      " 38%|███▊      | 95/247 [00:02<00:03, 44.72it/s]\u001b[A\u001b[A\n",
      "\n",
      " 40%|████      | 100/247 [00:02<00:03, 44.76it/s]\u001b[A\u001b[A\n",
      "\n",
      " 43%|████▎     | 105/247 [00:02<00:03, 44.75it/s]\u001b[A\u001b[A\n",
      "\n",
      " 45%|████▍     | 110/247 [00:02<00:03, 44.80it/s]\u001b[A\u001b[A\n",
      "\n",
      " 47%|████▋     | 115/247 [00:02<00:02, 44.73it/s]\u001b[A\u001b[A\n",
      "\n",
      " 49%|████▊     | 120/247 [00:02<00:02, 44.77it/s]\u001b[A\u001b[A\n",
      "\n",
      " 51%|█████     | 125/247 [00:02<00:02, 44.73it/s]\u001b[A\u001b[A\n",
      "\n",
      " 53%|█████▎    | 130/247 [00:02<00:02, 44.78it/s]\u001b[A\u001b[A\n",
      "\n",
      " 55%|█████▍    | 135/247 [00:03<00:02, 44.75it/s]\u001b[A\u001b[A\n",
      "\n",
      " 57%|█████▋    | 140/247 [00:03<00:02, 44.80it/s]\u001b[A\u001b[A\n",
      "\n",
      " 59%|█████▊    | 145/247 [00:03<00:02, 44.82it/s]\u001b[A\u001b[A\n",
      "\n",
      " 61%|██████    | 150/247 [00:03<00:02, 44.75it/s]\u001b[A\u001b[A\n",
      "\n",
      " 63%|██████▎   | 155/247 [00:03<00:02, 44.79it/s]\u001b[A\u001b[A\n",
      "\n",
      " 65%|██████▍   | 160/247 [00:03<00:01, 44.76it/s]\u001b[A\u001b[A\n",
      "\n",
      " 67%|██████▋   | 165/247 [00:03<00:01, 44.80it/s]\u001b[A\u001b[A\n",
      "\n",
      " 69%|██████▉   | 170/247 [00:03<00:01, 44.76it/s]\u001b[A\u001b[A\n",
      "\n",
      " 71%|███████   | 175/247 [00:03<00:01, 44.80it/s]\u001b[A\u001b[A\n",
      "\n",
      " 73%|███████▎  | 180/247 [00:04<00:01, 44.75it/s]\u001b[A\u001b[A\n",
      "\n",
      " 75%|███████▍  | 185/247 [00:04<00:01, 44.80it/s]\u001b[A\u001b[A\n",
      "\n",
      " 77%|███████▋  | 190/247 [00:04<00:01, 44.75it/s]\u001b[A\u001b[A\n",
      "\n",
      " 79%|███████▉  | 195/247 [00:04<00:01, 44.81it/s]\u001b[A\u001b[A\n",
      "\n",
      " 81%|████████  | 200/247 [00:04<00:01, 44.82it/s]\u001b[A\u001b[A\n",
      "\n",
      " 83%|████████▎ | 205/247 [00:04<00:00, 44.78it/s]\u001b[A\u001b[A\n",
      "\n",
      " 85%|████████▌ | 210/247 [00:04<00:00, 44.81it/s]\u001b[A\u001b[A\n",
      "\n",
      " 87%|████████▋ | 215/247 [00:04<00:00, 44.76it/s]\u001b[A\u001b[A\n",
      "\n",
      " 89%|████████▉ | 220/247 [00:04<00:00, 44.80it/s]\u001b[A\u001b[A\n",
      "\n",
      " 91%|█████████ | 225/247 [00:05<00:00, 44.77it/s]\u001b[A\u001b[A\n",
      "\n",
      " 93%|█████████▎| 230/247 [00:05<00:00, 44.80it/s]\u001b[A\u001b[A\n",
      "\n",
      " 95%|█████████▌| 235/247 [00:05<00:00, 44.76it/s]\u001b[A\u001b[A\n",
      "\n",
      " 97%|█████████▋| 240/247 [00:05<00:00, 44.79it/s]\u001b[A\u001b[A\n",
      "\n",
      "100%|██████████| 247/247 [00:05<00:00, 44.80it/s]\u001b[A\u001b[A\n",
      "\n",
      "\n",
      "  0%|          | 0/8 [00:00<?, ?it/s]\u001b[A\u001b[A\n",
      "\n",
      " 25%|██▌       | 2/8 [00:00<00:00, 10.45it/s]\u001b[A\u001b[A"
     ]
    },
    {
     "name": "stdout",
     "output_type": "stream",
     "text": [
      "\n",
      "======== Epoch 9 / 10 ========\n",
      "\n",
      "Training...\n"
     ]
    },
    {
     "name": "stderr",
     "output_type": "stream",
     "text": [
      "\n",
      "\n",
      " 38%|███▊      | 3/8 [00:00<00:00, 10.26it/s]\u001b[A\u001b[A\n",
      "\n",
      " 50%|█████     | 4/8 [00:00<00:00, 10.15it/s]\u001b[A\u001b[A\n",
      "\n",
      " 62%|██████▎   | 5/8 [00:00<00:00, 10.08it/s]\u001b[A\u001b[A\n",
      "\n",
      " 75%|███████▌  | 6/8 [00:00<00:00, 10.04it/s]\u001b[A\u001b[A\n",
      "\n",
      " 88%|████████▊ | 7/8 [00:00<00:00, 10.01it/s]\u001b[A\u001b[A\n",
      "\n",
      "100%|██████████| 8/8 [00:00<00:00, 10.03it/s]\u001b[A\u001b[A\n",
      "\n",
      "\n",
      "  0%|          | 0/123 [00:00<?, ?it/s]\u001b[A\u001b[A\n",
      "\n",
      "  4%|▍         | 5/123 [00:00<00:02, 45.06it/s]\u001b[A\u001b[A"
     ]
    },
    {
     "name": "stdout",
     "output_type": "stream",
     "text": [
      "avg_train_loss 0.1877595642581582\n",
      "train_f1Score 0.9508196721311475\n",
      "train_accuracy 0.953125\n",
      "\n",
      "Running Validation...\n"
     ]
    },
    {
     "name": "stderr",
     "output_type": "stream",
     "text": [
      "\n",
      "\n",
      "  8%|▊         | 10/123 [00:00<00:02, 45.00it/s]\u001b[A\u001b[A\n",
      "\n",
      " 12%|█▏        | 15/123 [00:00<00:02, 44.97it/s]\u001b[A\u001b[A\n",
      "\n",
      " 16%|█▋        | 20/123 [00:00<00:02, 44.90it/s]\u001b[A\u001b[A\n",
      "\n",
      " 20%|██        | 25/123 [00:00<00:02, 44.87it/s]\u001b[A\u001b[A\n",
      "\n",
      " 24%|██▍       | 30/123 [00:00<00:02, 44.80it/s]\u001b[A\u001b[A\n",
      "\n",
      " 28%|██▊       | 35/123 [00:00<00:01, 44.83it/s]\u001b[A\u001b[A\n",
      "\n",
      " 33%|███▎      | 40/123 [00:00<00:01, 44.79it/s]\u001b[A\u001b[A\n",
      "\n",
      " 37%|███▋      | 45/123 [00:01<00:01, 44.82it/s]\u001b[A\u001b[A\n",
      "\n",
      " 41%|████      | 50/123 [00:01<00:01, 44.78it/s]\u001b[A\u001b[A\n",
      "\n",
      " 45%|████▍     | 55/123 [00:01<00:01, 44.82it/s]\u001b[A\u001b[A\n",
      "\n",
      " 49%|████▉     | 60/123 [00:01<00:01, 44.85it/s]\u001b[A\u001b[A\n",
      "\n",
      " 53%|█████▎    | 65/123 [00:01<00:01, 44.80it/s]\u001b[A\u001b[A\n",
      "\n",
      " 57%|█████▋    | 70/123 [00:01<00:01, 44.82it/s]\u001b[A\u001b[A\n",
      "\n",
      " 61%|██████    | 75/123 [00:01<00:01, 44.79it/s]\u001b[A\u001b[A\n",
      "\n",
      " 65%|██████▌   | 80/123 [00:01<00:00, 44.83it/s]\u001b[A\u001b[A\n",
      "\n",
      " 69%|██████▉   | 85/123 [00:01<00:00, 44.77it/s]\u001b[A\u001b[A\n",
      "\n",
      " 73%|███████▎  | 90/123 [00:02<00:00, 44.78it/s]\u001b[A\u001b[A\n",
      "\n",
      " 77%|███████▋  | 95/123 [00:02<00:00, 44.76it/s]\u001b[A\u001b[A\n",
      "\n",
      " 81%|████████▏ | 100/123 [00:02<00:00, 44.78it/s]\u001b[A\u001b[A\n",
      "\n",
      " 85%|████████▌ | 105/123 [00:02<00:00, 44.76it/s]\u001b[A\u001b[A\n",
      "\n",
      " 89%|████████▉ | 110/123 [00:02<00:00, 44.82it/s]\u001b[A\u001b[A\n",
      "\n",
      " 93%|█████████▎| 115/123 [00:02<00:00, 44.83it/s]\u001b[A\u001b[A\n",
      "\n",
      "100%|██████████| 123/123 [00:02<00:00, 44.80it/s]\u001b[A\u001b[A\n",
      "\n",
      "\n",
      "  0%|          | 0/8 [00:00<?, ?it/s]\u001b[A\u001b[A\n",
      "\n",
      " 25%|██▌       | 2/8 [00:00<00:00, 10.37it/s]\u001b[A\u001b[A"
     ]
    },
    {
     "name": "stdout",
     "output_type": "stream",
     "text": [
      "Validation Loss:  1.016498558404969\n",
      "Validation Accuracy:  0.6270325203252033\n",
      "\n",
      "======== Epoch 10 / 10 ========\n",
      "\n",
      "Training...\n"
     ]
    },
    {
     "name": "stderr",
     "output_type": "stream",
     "text": [
      "\n",
      "\n",
      " 38%|███▊      | 3/8 [00:00<00:00, 10.23it/s]\u001b[A\u001b[A\n",
      "\n",
      " 62%|██████▎   | 5/8 [00:00<00:00, 10.23it/s]\u001b[A\u001b[A\n",
      "\n",
      "100%|██████████| 8/8 [00:00<00:00, 10.23it/s]\u001b[A\u001b[A\n",
      "\n",
      "\n",
      "  0%|          | 0/123 [00:00<?, ?it/s]\u001b[A\u001b[A\n",
      "\n",
      "  4%|▍         | 5/123 [00:00<00:02, 45.56it/s]\u001b[A\u001b[A"
     ]
    },
    {
     "name": "stdout",
     "output_type": "stream",
     "text": [
      "avg_train_loss 0.1775457877665758\n",
      "train_f1Score 0.9508196721311475\n",
      "train_accuracy 0.953125\n",
      "\n",
      "Running Validation...\n"
     ]
    },
    {
     "name": "stderr",
     "output_type": "stream",
     "text": [
      "\n",
      "\n",
      "  8%|▊         | 10/123 [00:00<00:02, 45.32it/s]\u001b[A\u001b[A\n",
      "\n",
      " 12%|█▏        | 15/123 [00:00<00:02, 45.26it/s]\u001b[A\u001b[A\n",
      "\n",
      " 16%|█▋        | 20/123 [00:00<00:02, 45.20it/s]\u001b[A\u001b[A\n",
      "\n",
      " 20%|██        | 25/123 [00:00<00:02, 45.04it/s]\u001b[A\u001b[A\n",
      "\n",
      " 24%|██▍       | 30/123 [00:00<00:02, 45.03it/s]\u001b[A\u001b[A\n",
      "\n",
      " 28%|██▊       | 35/123 [00:00<00:01, 44.92it/s]\u001b[A\u001b[A\n",
      "\n",
      " 33%|███▎      | 40/123 [00:00<00:01, 44.84it/s]\u001b[A\u001b[A\n",
      "\n",
      " 37%|███▋      | 45/123 [00:01<00:01, 44.77it/s]\u001b[A\u001b[A\n",
      "\n",
      " 41%|████      | 50/123 [00:01<00:01, 44.82it/s]\u001b[A\u001b[A\n",
      "\n",
      " 45%|████▍     | 55/123 [00:01<00:01, 44.87it/s]\u001b[A\u001b[A\n",
      "\n",
      " 49%|████▉     | 60/123 [00:01<00:01, 44.85it/s]\u001b[A\u001b[A\n",
      "\n",
      " 53%|█████▎    | 65/123 [00:01<00:01, 44.85it/s]\u001b[A\u001b[A\n",
      "\n",
      " 57%|█████▋    | 70/123 [00:01<00:01, 44.78it/s]\u001b[A\u001b[A\n",
      "\n",
      " 61%|██████    | 75/123 [00:01<00:01, 44.80it/s]\u001b[A\u001b[A\n",
      "\n",
      " 65%|██████▌   | 80/123 [00:01<00:00, 44.76it/s]\u001b[A\u001b[A\n",
      "\n",
      " 69%|██████▉   | 85/123 [00:01<00:00, 44.82it/s]\u001b[A\u001b[A\n",
      "\n",
      " 73%|███████▎  | 90/123 [00:02<00:00, 44.78it/s]\u001b[A\u001b[A\n",
      "\n",
      " 77%|███████▋  | 95/123 [00:02<00:00, 44.81it/s]\u001b[A\u001b[A\n",
      "\n",
      " 81%|████████▏ | 100/123 [00:02<00:00, 44.77it/s]\u001b[A\u001b[A\n",
      "\n",
      " 85%|████████▌ | 105/123 [00:02<00:00, 44.84it/s]\u001b[A\u001b[A\n",
      "\n",
      " 89%|████████▉ | 110/123 [00:02<00:00, 44.79it/s]\u001b[A\u001b[A\n",
      "\n",
      " 93%|█████████▎| 115/123 [00:02<00:00, 44.83it/s]\u001b[A\u001b[A\n",
      "\n",
      "100%|██████████| 123/123 [00:02<00:00, 44.85it/s]\u001b[A\u001b[A\n",
      "\n",
      "\n",
      "  0%|          | 0/247 [00:00<?, ?it/s]\u001b[A\u001b[A\n",
      "\n",
      "  2%|▏         | 5/247 [00:00<00:05, 45.47it/s]\u001b[A\u001b[A"
     ]
    },
    {
     "name": "stdout",
     "output_type": "stream",
     "text": [
      "Validation Loss:  1.0110588555898123\n",
      "Validation Accuracy:  0.6290650406504065\n",
      "Testing Model....\n"
     ]
    },
    {
     "name": "stderr",
     "output_type": "stream",
     "text": [
      "\n",
      "\n",
      "  4%|▍         | 10/247 [00:00<00:05, 45.27it/s]\u001b[A\u001b[A\n",
      "\n",
      "  6%|▌         | 15/247 [00:00<00:05, 45.13it/s]\u001b[A\u001b[A\n",
      "\n",
      "  8%|▊         | 20/247 [00:00<00:05, 44.99it/s]\u001b[A\u001b[A\n",
      "\n",
      " 10%|█         | 25/247 [00:00<00:04, 44.98it/s]\u001b[A\u001b[A\n",
      "\n",
      " 12%|█▏        | 30/247 [00:00<00:04, 44.88it/s]\u001b[A\u001b[A\n",
      "\n",
      " 14%|█▍        | 35/247 [00:00<00:04, 44.90it/s]\u001b[A\u001b[A\n",
      "\n",
      " 16%|█▌        | 40/247 [00:00<00:04, 44.81it/s]\u001b[A\u001b[A\n",
      "\n",
      " 18%|█▊        | 45/247 [00:01<00:04, 44.85it/s]\u001b[A\u001b[A\n",
      "\n",
      " 20%|██        | 50/247 [00:01<00:04, 44.86it/s]\u001b[A\u001b[A\n",
      "\n",
      " 22%|██▏       | 55/247 [00:01<00:04, 44.81it/s]\u001b[A\u001b[A\n",
      "\n",
      " 24%|██▍       | 60/247 [00:01<00:04, 44.84it/s]\u001b[A\u001b[A\n",
      "\n",
      " 26%|██▋       | 65/247 [00:01<00:04, 44.80it/s]\u001b[A\u001b[A\n",
      "\n",
      " 28%|██▊       | 70/247 [00:01<00:03, 44.82it/s]\u001b[A\u001b[A\n",
      "\n",
      " 30%|███       | 75/247 [00:01<00:03, 44.77it/s]\u001b[A\u001b[A\n",
      "\n",
      " 32%|███▏      | 80/247 [00:01<00:03, 44.82it/s]\u001b[A\u001b[A\n",
      "\n",
      " 34%|███▍      | 85/247 [00:01<00:03, 44.78it/s]\u001b[A\u001b[A\n",
      "\n",
      " 36%|███▋      | 90/247 [00:02<00:03, 44.82it/s]\u001b[A\u001b[A\n",
      "\n",
      " 38%|███▊      | 95/247 [00:02<00:03, 44.78it/s]\u001b[A\u001b[A\n",
      "\n",
      " 40%|████      | 100/247 [00:02<00:03, 44.82it/s]\u001b[A\u001b[A\n",
      "\n",
      " 43%|████▎     | 105/247 [00:02<00:03, 44.81it/s]\u001b[A\u001b[A\n",
      "\n",
      " 45%|████▍     | 110/247 [00:02<00:03, 44.85it/s]\u001b[A\u001b[A\n",
      "\n",
      " 47%|████▋     | 115/247 [00:02<00:02, 44.82it/s]\u001b[A\u001b[A\n",
      "\n",
      " 49%|████▊     | 120/247 [00:02<00:02, 44.81it/s]\u001b[A\u001b[A\n",
      "\n",
      " 51%|█████     | 125/247 [00:02<00:02, 44.82it/s]\u001b[A\u001b[A\n",
      "\n",
      " 53%|█████▎    | 130/247 [00:02<00:02, 44.80it/s]\u001b[A\u001b[A\n",
      "\n",
      " 55%|█████▍    | 135/247 [00:03<00:02, 44.83it/s]\u001b[A\u001b[A\n",
      "\n",
      " 57%|█████▋    | 140/247 [00:03<00:02, 44.77it/s]\u001b[A\u001b[A\n",
      "\n",
      " 59%|█████▊    | 145/247 [00:03<00:02, 44.80it/s]\u001b[A\u001b[A\n",
      "\n",
      " 61%|██████    | 150/247 [00:03<00:02, 44.78it/s]\u001b[A\u001b[A\n",
      "\n",
      " 63%|██████▎   | 155/247 [00:03<00:02, 44.84it/s]\u001b[A\u001b[A\n",
      "\n",
      " 65%|██████▍   | 160/247 [00:03<00:01, 44.79it/s]\u001b[A\u001b[A\n",
      "\n",
      " 67%|██████▋   | 165/247 [00:03<00:01, 44.84it/s]\u001b[A\u001b[A\n",
      "\n",
      " 69%|██████▉   | 170/247 [00:03<00:01, 44.86it/s]\u001b[A\u001b[A\n",
      "\n",
      " 71%|███████   | 175/247 [00:03<00:01, 44.82it/s]\u001b[A\u001b[A\n",
      "\n",
      " 73%|███████▎  | 180/247 [00:04<00:01, 44.85it/s]\u001b[A\u001b[A\n",
      "\n",
      " 75%|███████▍  | 185/247 [00:04<00:01, 44.80it/s]\u001b[A\u001b[A\n",
      "\n",
      " 77%|███████▋  | 190/247 [00:04<00:01, 44.82it/s]\u001b[A\u001b[A\n",
      "\n",
      " 79%|███████▉  | 195/247 [00:04<00:01, 44.78it/s]\u001b[A\u001b[A\n",
      "\n",
      " 81%|████████  | 200/247 [00:04<00:01, 44.83it/s]\u001b[A\u001b[A\n",
      "\n",
      " 83%|████████▎ | 205/247 [00:04<00:00, 44.76it/s]\u001b[A\u001b[A\n",
      "\n",
      " 85%|████████▌ | 210/247 [00:04<00:00, 44.81it/s]\u001b[A\u001b[A\n",
      "\n",
      " 87%|████████▋ | 215/247 [00:04<00:00, 44.76it/s]\u001b[A\u001b[A\n",
      "\n",
      " 89%|████████▉ | 220/247 [00:04<00:00, 44.83it/s]\u001b[A\u001b[A\n",
      "\n",
      " 91%|█████████ | 225/247 [00:05<00:00, 44.83it/s]\u001b[A\u001b[A\n",
      "\n",
      " 93%|█████████▎| 230/247 [00:05<00:00, 44.86it/s]\u001b[A\u001b[A\n",
      "\n",
      " 95%|█████████▌| 235/247 [00:05<00:00, 44.87it/s]\u001b[A\u001b[A\n",
      "\n",
      " 97%|█████████▋| 240/247 [00:05<00:00, 44.83it/s]\u001b[A\u001b[A\n",
      "\n",
      "100%|██████████| 247/247 [00:05<00:00, 44.82it/s]\u001b[A\u001b[A\n"
     ]
    },
    {
     "name": "stdout",
     "output_type": "stream",
     "text": [
      "Saving Test Metrics....\n",
      "Run:  3\n",
      "\tInitialising Model....\n"
     ]
    },
    {
     "name": "stderr",
     "output_type": "stream",
     "text": [
      "\n",
      "\n",
      "100%|██████████| 64/64 [00:00<00:00, 3644.99it/s]\n",
      "\n",
      "\n",
      "  0%|          | 0/991 [00:00<?, ?it/s]\u001b[A\u001b[A\n",
      "\n",
      " 34%|███▍      | 337/991 [00:00<00:00, 3367.08it/s]\u001b[A\u001b[A"
     ]
    },
    {
     "name": "stdout",
     "output_type": "stream",
     "text": [
      "\tLoading Dataset....\n"
     ]
    },
    {
     "name": "stderr",
     "output_type": "stream",
     "text": [
      "\n",
      "\n",
      "100%|██████████| 991/991 [00:00<00:00, 3413.28it/s]\u001b[A\u001b[A\n",
      "\n",
      "\n",
      "  0%|          | 0/1983 [00:00<?, ?it/s]\u001b[A\u001b[A\n",
      "\n",
      " 17%|█▋        | 347/1983 [00:00<00:00, 3460.42it/s]\u001b[A\u001b[A\n",
      "\n",
      " 36%|███▌      | 711/1983 [00:00<00:00, 3506.29it/s]\u001b[A\u001b[A\n",
      "\n",
      " 54%|█████▍    | 1080/1983 [00:00<00:00, 3556.59it/s]\u001b[A\u001b[A\n",
      "\n",
      " 73%|███████▎  | 1450/1983 [00:00<00:00, 3591.04it/s]\u001b[A\u001b[A\n",
      "\n",
      "100%|██████████| 1983/1983 [00:00<00:00, 3562.60it/s]\u001b[A\u001b[A\n",
      "\n",
      "\n",
      "100%|██████████| 64/64 [00:00<00:00, 3661.65it/s]\n",
      "\n",
      "\n",
      "  0%|          | 0/991 [00:00<?, ?it/s]\u001b[A\u001b[A\n",
      "\n",
      " 37%|███▋      | 368/991 [00:00<00:00, 3678.24it/s]\u001b[A\u001b[A\n",
      "\n"
     ]
    },
    {
     "name": "stdout",
     "output_type": "stream",
     "text": [
      "\tTraining Starts....\n"
     ]
    },
    {
     "name": "stderr",
     "output_type": "stream",
     "text": [
      "100%|██████████| 991/991 [00:00<00:00, 3810.67it/s]\u001b[A\u001b[A\n",
      "\n",
      "\n",
      "  0%|          | 0/1983 [00:00<?, ?it/s]\u001b[A\u001b[A\n",
      "\n",
      " 21%|██        | 407/1983 [00:00<00:00, 4065.02it/s]\u001b[A\u001b[A\n",
      "\n",
      " 41%|████      | 817/1983 [00:00<00:00, 4075.38it/s]\u001b[A\u001b[A\n",
      "\n",
      " 62%|██████▏   | 1225/1983 [00:00<00:00, 4075.64it/s]\u001b[A\u001b[A\n",
      "\n",
      "100%|██████████| 1983/1983 [00:00<00:00, 4021.30it/s]\u001b[A\u001b[A\n",
      "Some weights of the model checkpoint at bert-base-multilingual-cased were not used when initializing BertForSequenceClassification: ['cls.predictions.bias', 'cls.predictions.transform.dense.weight', 'cls.predictions.transform.dense.bias', 'cls.predictions.decoder.weight', 'cls.seq_relationship.weight', 'cls.seq_relationship.bias', 'cls.predictions.transform.LayerNorm.weight', 'cls.predictions.transform.LayerNorm.bias']\n",
      "- This IS expected if you are initializing BertForSequenceClassification from the checkpoint of a model trained on another task or with another architecture (e.g. initializing a BertForSequenceClassification model from a BertForPreTraining model).\n",
      "- This IS NOT expected if you are initializing BertForSequenceClassification from the checkpoint of a model that you expect to be exactly identical (initializing a BertForSequenceClassification model from a BertForSequenceClassification model).\n",
      "Some weights of BertForSequenceClassification were not initialized from the model checkpoint at bert-base-multilingual-cased and are newly initialized: ['classifier.weight', 'classifier.bias']\n",
      "You should probably TRAIN this model on a down-stream task to be able to use it for predictions and inference.\n"
     ]
    }
   ],
   "source": [
    "run_args={\n",
    "    'model_name':'few_shot',\n",
    "    'data_path':'Data_Processed/AMI-2020/',\n",
    "    'train_cnt':256,\n",
    "    'res_base_path': 'Results/AMI-2020/fewData_fewShot/',\n",
    "    'model_save_path': 'Saved_Models/AMI-2020/',\n",
    "    'isArabic': False,\n",
    "}\n",
    "\n",
    "model_args={\n",
    "        'seed_val': 42,\n",
    "        'batch_size': 8,\n",
    "        'bert_model': \"bert-base-multilingual-cased\",\n",
    "        'learning_rate': 2e-5,\n",
    "        'epochs': 10,\n",
    "        'max_len': 128,\n",
    "        'device': 'cuda',\n",
    "        'weights': [1.0, 1.0],\n",
    "        'save_model': False,\n",
    "        'model_save_path': '',\n",
    "        'isArabic': False,\n",
    "        'model_path': \"Saved_Models/Shared_Task_eng_1/best_bert_3_all.pt\",\n",
    "    }\n",
    "run_part(run_args,model_args)"
   ]
  },
  {
   "cell_type": "markdown",
   "metadata": {},
   "source": [
    "## Spanish Few Data"
   ]
  },
  {
   "cell_type": "code",
   "execution_count": null,
   "metadata": {},
   "outputs": [],
   "source": [
    "run_args={\n",
    "    'model_name':'few_shot',\n",
    "    'data_path':'Data_Processed/AMI-Spanish/',\n",
    "    'train_cnt':256,\n",
    "    'res_base_path': 'Results/AMI-Spanish/fewData_fewShot/',\n",
    "    'model_save_path': 'Saved_Models/AMI-Spanish/',\n",
    "    'isArabic': False,\n",
    "}\n",
    "\n",
    "model_args={\n",
    "        'seed_val': 42,\n",
    "        'batch_size': 8,\n",
    "        'bert_model': \"bert-base-multilingual-cased\",\n",
    "        'learning_rate': 2e-5,\n",
    "        'epochs': 10,\n",
    "        'max_len': 128,\n",
    "        'device': 'cuda',\n",
    "        'weights': [1.0, 1.0],\n",
    "        'save_model': False,\n",
    "        'model_save_path': '',\n",
    "        'isArabic': False,\n",
    "        'model_path': \"Saved_Models/Shared_Task_eng_1/best_bert_3_all.pt\",\n",
    "    }\n",
    "run_part(run_args,model_args)"
   ]
  },
  {
   "cell_type": "markdown",
   "metadata": {},
   "source": [
    "## Hindi Few Data"
   ]
  },
  {
   "cell_type": "code",
   "execution_count": null,
   "metadata": {},
   "outputs": [],
   "source": [
    "run_args={\n",
    "    'model_name':'few_shot',\n",
    "    'data_path':'Data_Processed/Shared_Task_hin/',\n",
    "    'train_cnt':256,\n",
    "    'res_base_path': 'Results/Shared_Task_hin/fewData_fewShot/',\n",
    "    'model_save_path': 'Saved_Models/Shared_Task_hin/',\n",
    "    'isArabic': False,\n",
    "}\n",
    "\n",
    "model_args={\n",
    "        'seed_val': 42,\n",
    "        'batch_size': 8,\n",
    "        'bert_model': \"bert-base-multilingual-cased\",\n",
    "        'learning_rate': 2e-5,\n",
    "        'epochs': 10,\n",
    "        'max_len': 128,\n",
    "        'device': 'cuda',\n",
    "        'weights': [1.0, 1.0],\n",
    "        'save_model': False,\n",
    "        'model_save_path': '',\n",
    "        'isArabic': False,\n",
    "        'model_path': \"Saved_Models/Shared_Task_eng_1/best_bert_3_all.pt\",\n",
    "    }\n",
    "run_part(run_args,model_args)"
   ]
  },
  {
   "cell_type": "markdown",
   "metadata": {},
   "source": [
    "## Bengali Few Data"
   ]
  },
  {
   "cell_type": "code",
   "execution_count": null,
   "metadata": {},
   "outputs": [],
   "source": [
    "run_args={\n",
    "    'model_name':'few_shot',\n",
    "    'data_path':'Data_Processed/Shared_Task_iben/',\n",
    "    'train_cnt':256,\n",
    "    'res_base_path': 'Results/Shared_Task_iben/fewData_fewShot/',\n",
    "    'model_save_path': 'Saved_Models/Shared_Task_iben/',\n",
    "    'isArabic': False,\n",
    "}\n",
    "\n",
    "model_args={\n",
    "        'seed_val': 42,\n",
    "        'batch_size': 8,\n",
    "        'bert_model': \"bert-base-multilingual-cased\",\n",
    "        'learning_rate': 2e-5,\n",
    "        'epochs': 10,\n",
    "        'max_len': 128,\n",
    "        'device': 'cuda',\n",
    "        'weights': [1.0, 1.0],\n",
    "        'save_model': False,\n",
    "        'model_save_path': '',\n",
    "        'isArabic': False,\n",
    "        'model_path': \"Saved_Models/Shared_Task_eng_1/best_bert_3_all.pt\",\n",
    "    }\n",
    "run_part(run_args,model_args)"
   ]
  },
  {
   "cell_type": "markdown",
   "metadata": {},
   "source": [
    "## Arabic Translated Few Data"
   ]
  },
  {
   "cell_type": "code",
   "execution_count": null,
   "metadata": {},
   "outputs": [],
   "source": [
    "run_args={\n",
    "    'model_name':'few_shot',\n",
    "    'data_path':'Data_Processed/Let-Mi_Translated/',\n",
    "    'train_cnt':256,\n",
    "    'res_base_path': 'Results/Let-Mi/translated_fewData_fewShot/',\n",
    "    'model_save_path': 'Saved_Models/Let-Mi/',\n",
    "    'isArabic': False,\n",
    "}\n",
    "\n",
    "model_args={\n",
    "        'seed_val': 42,\n",
    "        'batch_size': 8,\n",
    "        'bert_model': \"bert-base-multilingual-cased\",\n",
    "        'learning_rate': 2e-5,\n",
    "        'epochs': 10,\n",
    "        'max_len': 128,\n",
    "        'device': 'cuda',\n",
    "        'weights': [1.0, 1.0],\n",
    "        'save_model': False,\n",
    "        'model_save_path': '',\n",
    "        'isArabic': False,\n",
    "        'model_path': \"Saved_Models/Shared_Task_eng_1/best_bert_3_all.pt\",\n",
    "    }\n",
    "run_part(run_args,model_args)"
   ]
  },
  {
   "cell_type": "markdown",
   "metadata": {},
   "source": [
    "## Italian Translated Few Data"
   ]
  },
  {
   "cell_type": "code",
   "execution_count": null,
   "metadata": {},
   "outputs": [],
   "source": [
    "run_args={\n",
    "    'model_name':'few_shot',\n",
    "    'data_path':'Data_Processed/AMI-2020_Translated/',\n",
    "    'train_cnt':256,\n",
    "    'res_base_path': 'Results/AMI-2020/translated_fewData_fewShot/',\n",
    "    'model_save_path': 'Saved_Models/AMI-2020/',\n",
    "    'isArabic': False,\n",
    "}\n",
    "\n",
    "model_args={\n",
    "        'seed_val': 42,\n",
    "        'batch_size': 8,\n",
    "        'bert_model': \"bert-base-multilingual-cased\",\n",
    "        'learning_rate': 2e-5,\n",
    "        'epochs': 10,\n",
    "        'max_len': 128,\n",
    "        'device': 'cuda',\n",
    "        'weights': [1.0, 1.0],\n",
    "        'save_model': False,\n",
    "        'model_save_path': '',\n",
    "        'isArabic': False,\n",
    "        'model_path': \"Saved_Models/Shared_Task_eng_1/best_bert_3_all.pt\",\n",
    "    }\n",
    "run_part(run_args,model_args)"
   ]
  },
  {
   "cell_type": "markdown",
   "metadata": {},
   "source": [
    "## Spanish Translated Few Data"
   ]
  },
  {
   "cell_type": "code",
   "execution_count": null,
   "metadata": {},
   "outputs": [],
   "source": [
    "run_args={\n",
    "    'model_name':'few_shot',\n",
    "    'data_path':'Data_Processed/AMI-Spanish_Translated/',\n",
    "    'train_cnt':256,\n",
    "    'res_base_path': 'Results/AMI-Spanish/translated_fewData_fewShot/',\n",
    "    'model_save_path': 'Saved_Models/AMI-Spanish/',\n",
    "    'isArabic': False,\n",
    "}\n",
    "\n",
    "model_args={\n",
    "        'seed_val': 42,\n",
    "        'batch_size': 8,\n",
    "        'bert_model': \"bert-base-multilingual-cased\",\n",
    "        'learning_rate': 2e-5,\n",
    "        'epochs': 10,\n",
    "        'max_len': 128,\n",
    "        'device': 'cuda',\n",
    "        'weights': [1.0, 1.0],\n",
    "        'save_model': False,\n",
    "        'model_save_path': '',\n",
    "        'isArabic': False,\n",
    "        'model_path': \"Saved_Models/Shared_Task_eng_1/best_bert_3_all.pt\",\n",
    "    }\n",
    "run_part(run_args,model_args)"
   ]
  }
 ],
 "metadata": {
  "kernelspec": {
   "display_name": "Python 3",
   "language": "python",
   "name": "python3"
  },
  "language_info": {
   "codemirror_mode": {
    "name": "ipython",
    "version": 3
   },
   "file_extension": ".py",
   "mimetype": "text/x-python",
   "name": "python",
   "nbconvert_exporter": "python",
   "pygments_lexer": "ipython3",
   "version": "3.8.5"
  }
 },
 "nbformat": 4,
 "nbformat_minor": 4
}
