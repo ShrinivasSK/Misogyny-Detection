{
 "cells": [
  {
   "cell_type": "code",
   "execution_count": 3,
   "metadata": {},
   "outputs": [],
   "source": [
    "import pandas as pd\n",
    "import numpy as np\n",
    "import matplotlib.pyplot as plt\n",
    "%matplotlib inline"
   ]
  },
  {
   "cell_type": "code",
   "execution_count": 5,
   "metadata": {},
   "outputs": [],
   "source": [
    "DATA_FOLDER = \"Data/Shared Task/\"\n",
    "OUTPUT_FOLDER = \"Data_Processed/Shared_Task_eng/\""
   ]
  },
  {
   "cell_type": "code",
   "execution_count": 15,
   "metadata": {},
   "outputs": [],
   "source": [
    "data_train = pd.read_csv(DATA_FOLDER+\"eng/trac2_eng_train.csv\")\n",
    "data_dev = pd.read_csv(DATA_FOLDER+\"eng/trac2_eng_dev.csv\")\n",
    "data_test_label = pd.read_csv(DATA_FOLDER+\"gold/trac2_eng_gold_b.csv\")\n",
    "data_test = pd.read_csv(DATA_FOLDER+\"trac2-test-package/trac2_eng_test.csv\")"
   ]
  },
  {
   "cell_type": "code",
   "execution_count": 16,
   "metadata": {},
   "outputs": [
    {
     "data": {
      "text/html": [
       "<div>\n",
       "<style scoped>\n",
       "    .dataframe tbody tr th:only-of-type {\n",
       "        vertical-align: middle;\n",
       "    }\n",
       "\n",
       "    .dataframe tbody tr th {\n",
       "        vertical-align: top;\n",
       "    }\n",
       "\n",
       "    .dataframe thead th {\n",
       "        text-align: right;\n",
       "    }\n",
       "</style>\n",
       "<table border=\"1\" class=\"dataframe\">\n",
       "  <thead>\n",
       "    <tr style=\"text-align: right;\">\n",
       "      <th></th>\n",
       "      <th>ID</th>\n",
       "      <th>Text</th>\n",
       "    </tr>\n",
       "  </thead>\n",
       "  <tbody>\n",
       "    <tr>\n",
       "      <th>0</th>\n",
       "      <td>YoutubeCorpus37</td>\n",
       "      <td>https://www.youtube.com/watch?v=4iejjszkflo</td>\n",
       "    </tr>\n",
       "    <tr>\n",
       "      <th>1</th>\n",
       "      <td>C37.1</td>\n",
       "      <td>shame on society &amp; culture trying to justify t...</td>\n",
       "    </tr>\n",
       "    <tr>\n",
       "      <th>2</th>\n",
       "      <td>C37.2</td>\n",
       "      <td>just wanna say, there is no gay gene. you can ...</td>\n",
       "    </tr>\n",
       "    <tr>\n",
       "      <th>3</th>\n",
       "      <td>C37.3</td>\n",
       "      <td>well, if a one twin struggles with self confid...</td>\n",
       "    </tr>\n",
       "    <tr>\n",
       "      <th>4</th>\n",
       "      <td>C37.4</td>\n",
       "      <td>i am an identical twin and we are both homosex...</td>\n",
       "    </tr>\n",
       "  </tbody>\n",
       "</table>\n",
       "</div>"
      ],
      "text/plain": [
       "                ID                                               Text\n",
       "0  YoutubeCorpus37        https://www.youtube.com/watch?v=4iejjszkflo\n",
       "1            C37.1  shame on society & culture trying to justify t...\n",
       "2            C37.2  just wanna say, there is no gay gene. you can ...\n",
       "3            C37.3  well, if a one twin struggles with self confid...\n",
       "4            C37.4  i am an identical twin and we are both homosex..."
      ]
     },
     "execution_count": 16,
     "metadata": {},
     "output_type": "execute_result"
    }
   ],
   "source": [
    "data_test.head()"
   ]
  },
  {
   "cell_type": "code",
   "execution_count": 17,
   "metadata": {},
   "outputs": [
    {
     "data": {
      "text/html": [
       "<div>\n",
       "<style scoped>\n",
       "    .dataframe tbody tr th:only-of-type {\n",
       "        vertical-align: middle;\n",
       "    }\n",
       "\n",
       "    .dataframe tbody tr th {\n",
       "        vertical-align: top;\n",
       "    }\n",
       "\n",
       "    .dataframe thead th {\n",
       "        text-align: right;\n",
       "    }\n",
       "</style>\n",
       "<table border=\"1\" class=\"dataframe\">\n",
       "  <thead>\n",
       "    <tr style=\"text-align: right;\">\n",
       "      <th></th>\n",
       "      <th>ID</th>\n",
       "      <th>Sub-task B</th>\n",
       "    </tr>\n",
       "  </thead>\n",
       "  <tbody>\n",
       "    <tr>\n",
       "      <th>0</th>\n",
       "      <td>YoutubeCorpus37</td>\n",
       "      <td>NGEN</td>\n",
       "    </tr>\n",
       "    <tr>\n",
       "      <th>1</th>\n",
       "      <td>C37.1</td>\n",
       "      <td>NGEN</td>\n",
       "    </tr>\n",
       "    <tr>\n",
       "      <th>2</th>\n",
       "      <td>C37.2</td>\n",
       "      <td>NGEN</td>\n",
       "    </tr>\n",
       "    <tr>\n",
       "      <th>3</th>\n",
       "      <td>C37.3</td>\n",
       "      <td>NGEN</td>\n",
       "    </tr>\n",
       "    <tr>\n",
       "      <th>4</th>\n",
       "      <td>C37.4</td>\n",
       "      <td>NGEN</td>\n",
       "    </tr>\n",
       "  </tbody>\n",
       "</table>\n",
       "</div>"
      ],
      "text/plain": [
       "                ID Sub-task B\n",
       "0  YoutubeCorpus37       NGEN\n",
       "1            C37.1       NGEN\n",
       "2            C37.2       NGEN\n",
       "3            C37.3       NGEN\n",
       "4            C37.4       NGEN"
      ]
     },
     "execution_count": 17,
     "metadata": {},
     "output_type": "execute_result"
    }
   ],
   "source": [
    "data_test_label.head()"
   ]
  },
  {
   "cell_type": "code",
   "execution_count": 18,
   "metadata": {},
   "outputs": [],
   "source": [
    "data_test = pd.merge(data_test,data_test_label)"
   ]
  },
  {
   "cell_type": "code",
   "execution_count": 19,
   "metadata": {},
   "outputs": [
    {
     "data": {
      "text/html": [
       "<div>\n",
       "<style scoped>\n",
       "    .dataframe tbody tr th:only-of-type {\n",
       "        vertical-align: middle;\n",
       "    }\n",
       "\n",
       "    .dataframe tbody tr th {\n",
       "        vertical-align: top;\n",
       "    }\n",
       "\n",
       "    .dataframe thead th {\n",
       "        text-align: right;\n",
       "    }\n",
       "</style>\n",
       "<table border=\"1\" class=\"dataframe\">\n",
       "  <thead>\n",
       "    <tr style=\"text-align: right;\">\n",
       "      <th></th>\n",
       "      <th>ID</th>\n",
       "      <th>Text</th>\n",
       "      <th>Sub-task B</th>\n",
       "    </tr>\n",
       "  </thead>\n",
       "  <tbody>\n",
       "    <tr>\n",
       "      <th>0</th>\n",
       "      <td>YoutubeCorpus37</td>\n",
       "      <td>https://www.youtube.com/watch?v=4iejjszkflo</td>\n",
       "      <td>NGEN</td>\n",
       "    </tr>\n",
       "    <tr>\n",
       "      <th>1</th>\n",
       "      <td>C37.1</td>\n",
       "      <td>shame on society &amp; culture trying to justify t...</td>\n",
       "      <td>NGEN</td>\n",
       "    </tr>\n",
       "    <tr>\n",
       "      <th>2</th>\n",
       "      <td>C37.2</td>\n",
       "      <td>just wanna say, there is no gay gene. you can ...</td>\n",
       "      <td>NGEN</td>\n",
       "    </tr>\n",
       "    <tr>\n",
       "      <th>3</th>\n",
       "      <td>C37.3</td>\n",
       "      <td>well, if a one twin struggles with self confid...</td>\n",
       "      <td>NGEN</td>\n",
       "    </tr>\n",
       "    <tr>\n",
       "      <th>4</th>\n",
       "      <td>C37.4</td>\n",
       "      <td>i am an identical twin and we are both homosex...</td>\n",
       "      <td>NGEN</td>\n",
       "    </tr>\n",
       "    <tr>\n",
       "      <th>5</th>\n",
       "      <td>C37.4.1</td>\n",
       "      <td>god wouldn't have said homosexuality is an abo...</td>\n",
       "      <td>NGEN</td>\n",
       "    </tr>\n",
       "    <tr>\n",
       "      <th>6</th>\n",
       "      <td>C37.4.2</td>\n",
       "      <td>for lack of a better statement then i must say...</td>\n",
       "      <td>NGEN</td>\n",
       "    </tr>\n",
       "    <tr>\n",
       "      <th>7</th>\n",
       "      <td>C37.5</td>\n",
       "      <td>just imagine if this world has gays that love ...</td>\n",
       "      <td>NGEN</td>\n",
       "    </tr>\n",
       "    <tr>\n",
       "      <th>8</th>\n",
       "      <td>C37.5.1</td>\n",
       "      <td>demons and devils aren't real.</td>\n",
       "      <td>NGEN</td>\n",
       "    </tr>\n",
       "    <tr>\n",
       "      <th>9</th>\n",
       "      <td>C37.6</td>\n",
       "      <td>no gay gene discovered recently. this man was ...</td>\n",
       "      <td>NGEN</td>\n",
       "    </tr>\n",
       "  </tbody>\n",
       "</table>\n",
       "</div>"
      ],
      "text/plain": [
       "                ID                                               Text  \\\n",
       "0  YoutubeCorpus37        https://www.youtube.com/watch?v=4iejjszkflo   \n",
       "1            C37.1  shame on society & culture trying to justify t...   \n",
       "2            C37.2  just wanna say, there is no gay gene. you can ...   \n",
       "3            C37.3  well, if a one twin struggles with self confid...   \n",
       "4            C37.4  i am an identical twin and we are both homosex...   \n",
       "5          C37.4.1  god wouldn't have said homosexuality is an abo...   \n",
       "6          C37.4.2  for lack of a better statement then i must say...   \n",
       "7            C37.5  just imagine if this world has gays that love ...   \n",
       "8          C37.5.1                     demons and devils aren't real.   \n",
       "9            C37.6  no gay gene discovered recently. this man was ...   \n",
       "\n",
       "  Sub-task B  \n",
       "0       NGEN  \n",
       "1       NGEN  \n",
       "2       NGEN  \n",
       "3       NGEN  \n",
       "4       NGEN  \n",
       "5       NGEN  \n",
       "6       NGEN  \n",
       "7       NGEN  \n",
       "8       NGEN  \n",
       "9       NGEN  "
      ]
     },
     "execution_count": 19,
     "metadata": {},
     "output_type": "execute_result"
    }
   ],
   "source": [
    "data_test.head(10)"
   ]
  },
  {
   "cell_type": "code",
   "execution_count": 20,
   "metadata": {},
   "outputs": [],
   "source": [
    "columns = ['ID','Text','Label']"
   ]
  },
  {
   "cell_type": "code",
   "execution_count": 6,
   "metadata": {},
   "outputs": [
    {
     "data": {
      "text/plain": [
       "array(['NGEN', 'GEN'], dtype=object)"
      ]
     },
     "execution_count": 6,
     "metadata": {},
     "output_type": "execute_result"
    }
   ],
   "source": [
    "data['Sub-task B'].unique()"
   ]
  },
  {
   "cell_type": "code",
   "execution_count": 9,
   "metadata": {},
   "outputs": [
    {
     "data": {
      "text/plain": [
       "'Iam a medical student and we give atleast 6-7 hrs for subjects . There is\\nnothing like personal life in medical field. For the sake of patients you have\\nto sacrifice your personal life.'"
      ]
     },
     "execution_count": 9,
     "metadata": {},
     "output_type": "execute_result"
    }
   ],
   "source": [
    "data['Text'][100]"
   ]
  },
  {
   "cell_type": "code",
   "execution_count": 10,
   "metadata": {},
   "outputs": [
    {
     "data": {
      "text/plain": [
       "4263"
      ]
     },
     "execution_count": 10,
     "metadata": {},
     "output_type": "execute_result"
    }
   ],
   "source": [
    "len(data)"
   ]
  },
  {
   "cell_type": "code",
   "execution_count": 11,
   "metadata": {},
   "outputs": [
    {
     "name": "stdout",
     "output_type": "stream",
     "text": [
      "<class 'pandas.core.frame.DataFrame'>\n",
      "RangeIndex: 4263 entries, 0 to 4262\n",
      "Data columns (total 4 columns):\n",
      " #   Column      Non-Null Count  Dtype \n",
      "---  ------      --------------  ----- \n",
      " 0   ID          4263 non-null   object\n",
      " 1   Text        4263 non-null   object\n",
      " 2   Sub-task A  4263 non-null   object\n",
      " 3   Sub-task B  4263 non-null   object\n",
      "dtypes: object(4)\n",
      "memory usage: 133.3+ KB\n"
     ]
    }
   ],
   "source": [
    "data.info()"
   ]
  },
  {
   "cell_type": "code",
   "execution_count": 12,
   "metadata": {},
   "outputs": [
    {
     "data": {
      "text/html": [
       "<div>\n",
       "<style scoped>\n",
       "    .dataframe tbody tr th:only-of-type {\n",
       "        vertical-align: middle;\n",
       "    }\n",
       "\n",
       "    .dataframe tbody tr th {\n",
       "        vertical-align: top;\n",
       "    }\n",
       "\n",
       "    .dataframe thead th {\n",
       "        text-align: right;\n",
       "    }\n",
       "</style>\n",
       "<table border=\"1\" class=\"dataframe\">\n",
       "  <thead>\n",
       "    <tr style=\"text-align: right;\">\n",
       "      <th></th>\n",
       "      <th>ID</th>\n",
       "      <th>Text</th>\n",
       "      <th>Sub-task A</th>\n",
       "      <th>Sub-task B</th>\n",
       "    </tr>\n",
       "  </thead>\n",
       "  <tbody>\n",
       "    <tr>\n",
       "      <th>count</th>\n",
       "      <td>4263</td>\n",
       "      <td>4263</td>\n",
       "      <td>4263</td>\n",
       "      <td>4263</td>\n",
       "    </tr>\n",
       "    <tr>\n",
       "      <th>unique</th>\n",
       "      <td>4263</td>\n",
       "      <td>4263</td>\n",
       "      <td>3</td>\n",
       "      <td>2</td>\n",
       "    </tr>\n",
       "    <tr>\n",
       "      <th>top</th>\n",
       "      <td>C68.1267</td>\n",
       "      <td>Watch this song..Awesome\\n&lt;https://youtu.be/4A...</td>\n",
       "      <td>NAG</td>\n",
       "      <td>NGEN</td>\n",
       "    </tr>\n",
       "    <tr>\n",
       "      <th>freq</th>\n",
       "      <td>1</td>\n",
       "      <td>1</td>\n",
       "      <td>3375</td>\n",
       "      <td>3954</td>\n",
       "    </tr>\n",
       "  </tbody>\n",
       "</table>\n",
       "</div>"
      ],
      "text/plain": [
       "              ID                                               Text  \\\n",
       "count       4263                                               4263   \n",
       "unique      4263                                               4263   \n",
       "top     C68.1267  Watch this song..Awesome\\n<https://youtu.be/4A...   \n",
       "freq           1                                                  1   \n",
       "\n",
       "       Sub-task A Sub-task B  \n",
       "count        4263       4263  \n",
       "unique          3          2  \n",
       "top           NAG       NGEN  \n",
       "freq         3375       3954  "
      ]
     },
     "execution_count": 12,
     "metadata": {},
     "output_type": "execute_result"
    }
   ],
   "source": [
    "data.describe()"
   ]
  },
  {
   "cell_type": "code",
   "execution_count": 15,
   "metadata": {},
   "outputs": [
    {
     "data": {
      "text/html": [
       "<div>\n",
       "<style scoped>\n",
       "    .dataframe tbody tr th:only-of-type {\n",
       "        vertical-align: middle;\n",
       "    }\n",
       "\n",
       "    .dataframe tbody tr th {\n",
       "        vertical-align: top;\n",
       "    }\n",
       "\n",
       "    .dataframe thead th {\n",
       "        text-align: right;\n",
       "    }\n",
       "</style>\n",
       "<table border=\"1\" class=\"dataframe\">\n",
       "  <thead>\n",
       "    <tr style=\"text-align: right;\">\n",
       "      <th></th>\n",
       "      <th>ID</th>\n",
       "      <th>Text</th>\n",
       "      <th>Sub-task A</th>\n",
       "      <th>Sub-task B</th>\n",
       "    </tr>\n",
       "  </thead>\n",
       "  <tbody>\n",
       "    <tr>\n",
       "      <th>296</th>\n",
       "      <td>C44.262.2</td>\n",
       "      <td>@Anindita Maity nice sister... you are right</td>\n",
       "      <td>NAG</td>\n",
       "      <td>NGEN</td>\n",
       "    </tr>\n",
       "    <tr>\n",
       "      <th>602</th>\n",
       "      <td>C7.835</td>\n",
       "      <td>Beauty bhai...thumbs up for you</td>\n",
       "      <td>NAG</td>\n",
       "      <td>NGEN</td>\n",
       "    </tr>\n",
       "    <tr>\n",
       "      <th>942</th>\n",
       "      <td>C9.301.2</td>\n",
       "      <td>@SECULARISM is MENTAL DISORDER Hindu  \\nThx.. ...</td>\n",
       "      <td>OAG</td>\n",
       "      <td>NGEN</td>\n",
       "    </tr>\n",
       "    <tr>\n",
       "      <th>263</th>\n",
       "      <td>C68.1244</td>\n",
       "      <td>Lotous come out from mud but it is expected it...</td>\n",
       "      <td>NAG</td>\n",
       "      <td>NGEN</td>\n",
       "    </tr>\n",
       "    <tr>\n",
       "      <th>280</th>\n",
       "      <td>C36.274</td>\n",
       "      <td>Very good... throw out these homosexuals out o...</td>\n",
       "      <td>NAG</td>\n",
       "      <td>GEN</td>\n",
       "    </tr>\n",
       "    <tr>\n",
       "      <th>887</th>\n",
       "      <td>C32.43</td>\n",
       "      <td>Wrong</td>\n",
       "      <td>NAG</td>\n",
       "      <td>NGEN</td>\n",
       "    </tr>\n",
       "    <tr>\n",
       "      <th>2901</th>\n",
       "      <td>C7.15</td>\n",
       "      <td>Dear Pratik,  \\nNot all feminists and liberals...</td>\n",
       "      <td>OAG</td>\n",
       "      <td>NGEN</td>\n",
       "    </tr>\n",
       "    <tr>\n",
       "      <th>1566</th>\n",
       "      <td>C4.1480.2</td>\n",
       "      <td>@Truthshallsetyoufree some random guy who was ...</td>\n",
       "      <td>NAG</td>\n",
       "      <td>NGEN</td>\n",
       "    </tr>\n",
       "    <tr>\n",
       "      <th>1929</th>\n",
       "      <td>C25.609</td>\n",
       "      <td>How dumb neha gupta is !who is saying u can't ...</td>\n",
       "      <td>CAG</td>\n",
       "      <td>NGEN</td>\n",
       "    </tr>\n",
       "    <tr>\n",
       "      <th>2950</th>\n",
       "      <td>C68.697</td>\n",
       "      <td>Nooo Ranu</td>\n",
       "      <td>NAG</td>\n",
       "      <td>NGEN</td>\n",
       "    </tr>\n",
       "  </tbody>\n",
       "</table>\n",
       "</div>"
      ],
      "text/plain": [
       "             ID                                               Text Sub-task A  \\\n",
       "296   C44.262.2       @Anindita Maity nice sister... you are right        NAG   \n",
       "602      C7.835                    Beauty bhai...thumbs up for you        NAG   \n",
       "942    C9.301.2  @SECULARISM is MENTAL DISORDER Hindu  \\nThx.. ...        OAG   \n",
       "263    C68.1244  Lotous come out from mud but it is expected it...        NAG   \n",
       "280     C36.274  Very good... throw out these homosexuals out o...        NAG   \n",
       "887      C32.43                                              Wrong        NAG   \n",
       "2901      C7.15  Dear Pratik,  \\nNot all feminists and liberals...        OAG   \n",
       "1566  C4.1480.2  @Truthshallsetyoufree some random guy who was ...        NAG   \n",
       "1929    C25.609  How dumb neha gupta is !who is saying u can't ...        CAG   \n",
       "2950    C68.697                                          Nooo Ranu        NAG   \n",
       "\n",
       "     Sub-task B  \n",
       "296        NGEN  \n",
       "602        NGEN  \n",
       "942        NGEN  \n",
       "263        NGEN  \n",
       "280         GEN  \n",
       "887        NGEN  \n",
       "2901       NGEN  \n",
       "1566       NGEN  \n",
       "1929       NGEN  \n",
       "2950       NGEN  "
      ]
     },
     "execution_count": 15,
     "metadata": {},
     "output_type": "execute_result"
    }
   ],
   "source": [
    "data.sample(10)"
   ]
  },
  {
   "cell_type": "code",
   "execution_count": 17,
   "metadata": {},
   "outputs": [],
   "source": [
    "lengths = data['Text'].str.len()"
   ]
  },
  {
   "cell_type": "code",
   "execution_count": 44,
   "metadata": {},
   "outputs": [
    {
     "data": {
      "text/plain": [
       "97.96575181796857"
      ]
     },
     "execution_count": 44,
     "metadata": {},
     "output_type": "execute_result"
    }
   ],
   "source": [
    "np.mean(lengths)"
   ]
  },
  {
   "cell_type": "code",
   "execution_count": 37,
   "metadata": {},
   "outputs": [
    {
     "data": {
      "text/plain": [
       "[<matplotlib.lines.Line2D at 0x7f12e6388400>]"
      ]
     },
     "execution_count": 37,
     "metadata": {},
     "output_type": "execute_result"
    },
    {
     "data": {
      "image/png": "[encoded data removed]",
      "text/plain": [
       "<Figure size 432x288 with 1 Axes>"
      ]
     },
     "metadata": {
      "needs_background": "light"
     },
     "output_type": "display_data"
    }
   ],
   "source": [
    "plt.plot(lengths)"
   ]
  },
  {
   "cell_type": "code",
   "execution_count": 18,
   "metadata": {},
   "outputs": [],
   "source": [
    "argmax=np.where(lengths==lengths.max())[0]"
   ]
  },
  {
   "cell_type": "code",
   "execution_count": 33,
   "metadata": {},
   "outputs": [
    {
     "data": {
      "text/plain": [
       "2329    4377\n",
       "Name: Text, dtype: int64"
      ]
     },
     "execution_count": 33,
     "metadata": {},
     "output_type": "execute_result"
    }
   ],
   "source": [
    "data.iloc[argmax]['Text'].str.len()"
   ]
  },
  {
   "cell_type": "markdown",
   "metadata": {},
   "source": [
    "## Processing Data\n",
    "- Make all data in the same format\n",
    "- Merge test, train, dev data\n",
    "- Split into 5 parts\n",
    "\n",
    "### Shared Task"
   ]
  },
  {
   "cell_type": "code",
   "execution_count": 84,
   "metadata": {},
   "outputs": [],
   "source": [
    "DATA_FOLDER = \"Data/Shared Task/\"\n",
    "OUTPUT_FOLDER = \"Data_Processed/Shared_Task_eng/\""
   ]
  },
  {
   "cell_type": "code",
   "execution_count": 22,
   "metadata": {},
   "outputs": [],
   "source": [
    "data_train = pd.read_csv(DATA_FOLDER+\"eng/trac2_eng_train.csv\")\n",
    "data_dev = pd.read_csv(DATA_FOLDER+\"eng/trac2_eng_dev.csv\")\n",
    "data_test_label = pd.read_csv(DATA_FOLDER+\"gold/trac2_eng_gold_b.csv\")\n",
    "data_test = pd.read_csv(DATA_FOLDER+\"trac2-test-package/trac2_eng_test.csv\")"
   ]
  },
  {
   "cell_type": "code",
   "execution_count": 23,
   "metadata": {},
   "outputs": [],
   "source": [
    "data_test = pd.merge(data_test,data_test_label)"
   ]
  },
  {
   "cell_type": "code",
   "execution_count": 24,
   "metadata": {},
   "outputs": [
    {
     "data": {
      "text/html": [
       "<div>\n",
       "<style scoped>\n",
       "    .dataframe tbody tr th:only-of-type {\n",
       "        vertical-align: middle;\n",
       "    }\n",
       "\n",
       "    .dataframe tbody tr th {\n",
       "        vertical-align: top;\n",
       "    }\n",
       "\n",
       "    .dataframe thead th {\n",
       "        text-align: right;\n",
       "    }\n",
       "</style>\n",
       "<table border=\"1\" class=\"dataframe\">\n",
       "  <thead>\n",
       "    <tr style=\"text-align: right;\">\n",
       "      <th></th>\n",
       "      <th>ID</th>\n",
       "      <th>Text</th>\n",
       "      <th>Sub-task B</th>\n",
       "    </tr>\n",
       "  </thead>\n",
       "  <tbody>\n",
       "    <tr>\n",
       "      <th>0</th>\n",
       "      <td>YoutubeCorpus37</td>\n",
       "      <td>https://www.youtube.com/watch?v=4iejjszkflo</td>\n",
       "      <td>NGEN</td>\n",
       "    </tr>\n",
       "    <tr>\n",
       "      <th>1</th>\n",
       "      <td>C37.1</td>\n",
       "      <td>shame on society &amp; culture trying to justify t...</td>\n",
       "      <td>NGEN</td>\n",
       "    </tr>\n",
       "    <tr>\n",
       "      <th>2</th>\n",
       "      <td>C37.2</td>\n",
       "      <td>just wanna say, there is no gay gene. you can ...</td>\n",
       "      <td>NGEN</td>\n",
       "    </tr>\n",
       "    <tr>\n",
       "      <th>3</th>\n",
       "      <td>C37.3</td>\n",
       "      <td>well, if a one twin struggles with self confid...</td>\n",
       "      <td>NGEN</td>\n",
       "    </tr>\n",
       "    <tr>\n",
       "      <th>4</th>\n",
       "      <td>C37.4</td>\n",
       "      <td>i am an identical twin and we are both homosex...</td>\n",
       "      <td>NGEN</td>\n",
       "    </tr>\n",
       "    <tr>\n",
       "      <th>5</th>\n",
       "      <td>C37.4.1</td>\n",
       "      <td>god wouldn't have said homosexuality is an abo...</td>\n",
       "      <td>NGEN</td>\n",
       "    </tr>\n",
       "    <tr>\n",
       "      <th>6</th>\n",
       "      <td>C37.4.2</td>\n",
       "      <td>for lack of a better statement then i must say...</td>\n",
       "      <td>NGEN</td>\n",
       "    </tr>\n",
       "    <tr>\n",
       "      <th>7</th>\n",
       "      <td>C37.5</td>\n",
       "      <td>just imagine if this world has gays that love ...</td>\n",
       "      <td>NGEN</td>\n",
       "    </tr>\n",
       "    <tr>\n",
       "      <th>8</th>\n",
       "      <td>C37.5.1</td>\n",
       "      <td>demons and devils aren't real.</td>\n",
       "      <td>NGEN</td>\n",
       "    </tr>\n",
       "    <tr>\n",
       "      <th>9</th>\n",
       "      <td>C37.6</td>\n",
       "      <td>no gay gene discovered recently. this man was ...</td>\n",
       "      <td>NGEN</td>\n",
       "    </tr>\n",
       "  </tbody>\n",
       "</table>\n",
       "</div>"
      ],
      "text/plain": [
       "                ID                                               Text  \\\n",
       "0  YoutubeCorpus37        https://www.youtube.com/watch?v=4iejjszkflo   \n",
       "1            C37.1  shame on society & culture trying to justify t...   \n",
       "2            C37.2  just wanna say, there is no gay gene. you can ...   \n",
       "3            C37.3  well, if a one twin struggles with self confid...   \n",
       "4            C37.4  i am an identical twin and we are both homosex...   \n",
       "5          C37.4.1  god wouldn't have said homosexuality is an abo...   \n",
       "6          C37.4.2  for lack of a better statement then i must say...   \n",
       "7            C37.5  just imagine if this world has gays that love ...   \n",
       "8          C37.5.1                     demons and devils aren't real.   \n",
       "9            C37.6  no gay gene discovered recently. this man was ...   \n",
       "\n",
       "  Sub-task B  \n",
       "0       NGEN  \n",
       "1       NGEN  \n",
       "2       NGEN  \n",
       "3       NGEN  \n",
       "4       NGEN  \n",
       "5       NGEN  \n",
       "6       NGEN  \n",
       "7       NGEN  \n",
       "8       NGEN  \n",
       "9       NGEN  "
      ]
     },
     "execution_count": 24,
     "metadata": {},
     "output_type": "execute_result"
    }
   ],
   "source": [
    "data_test.head(10)"
   ]
  },
  {
   "cell_type": "code",
   "execution_count": 35,
   "metadata": {},
   "outputs": [],
   "source": [
    "data = pd.concat([data_train,data_dev,data_test])"
   ]
  },
  {
   "cell_type": "code",
   "execution_count": 36,
   "metadata": {},
   "outputs": [
    {
     "data": {
      "text/plain": [
       "6529"
      ]
     },
     "execution_count": 36,
     "metadata": {},
     "output_type": "execute_result"
    }
   ],
   "source": [
    "len(data)"
   ]
  },
  {
   "cell_type": "code",
   "execution_count": 191,
   "metadata": {},
   "outputs": [],
   "source": [
    "def encodeLabel(val):\n",
    "    if(val==\"NGEN\"):\n",
    "        return 0\n",
    "    else:\n",
    "        return 1  "
   ]
  },
  {
   "cell_type": "code",
   "execution_count": 38,
   "metadata": {},
   "outputs": [],
   "source": [
    "data['Label']=data['Sub-task B'].apply(encodeLabel)"
   ]
  },
  {
   "cell_type": "code",
   "execution_count": 73,
   "metadata": {},
   "outputs": [
    {
     "data": {
      "text/html": [
       "<div>\n",
       "<style scoped>\n",
       "    .dataframe tbody tr th:only-of-type {\n",
       "        vertical-align: middle;\n",
       "    }\n",
       "\n",
       "    .dataframe tbody tr th {\n",
       "        vertical-align: top;\n",
       "    }\n",
       "\n",
       "    .dataframe thead th {\n",
       "        text-align: right;\n",
       "    }\n",
       "</style>\n",
       "<table border=\"1\" class=\"dataframe\">\n",
       "  <thead>\n",
       "    <tr style=\"text-align: right;\">\n",
       "      <th></th>\n",
       "      <th>text</th>\n",
       "      <th>category</th>\n",
       "      <th>misogyny</th>\n",
       "      <th>target</th>\n",
       "      <th>Label</th>\n",
       "    </tr>\n",
       "  </thead>\n",
       "  <tbody>\n",
       "    <tr>\n",
       "      <th>2878</th>\n",
       "      <td>@berrynawal كنا ب #ديما_الوطية\\r\\nصرنا ب #نوال...</td>\n",
       "      <td>discredit</td>\n",
       "      <td>misogyny</td>\n",
       "      <td>active</td>\n",
       "      <td>1</td>\n",
       "    </tr>\n",
       "    <tr>\n",
       "      <th>2187</th>\n",
       "      <td>@DimaSadek انت حرري نفسك من التبعية ونضبي ع بي...</td>\n",
       "      <td>discredit</td>\n",
       "      <td>misogyny</td>\n",
       "      <td>active</td>\n",
       "      <td>1</td>\n",
       "    </tr>\n",
       "    <tr>\n",
       "      <th>2521</th>\n",
       "      <td>@DimaSadek نتنه قذرة انت ويلي بشد عمشديك</td>\n",
       "      <td>discredit</td>\n",
       "      <td>misogyny</td>\n",
       "      <td>active</td>\n",
       "      <td>1</td>\n",
       "    </tr>\n",
       "    <tr>\n",
       "      <th>1426</th>\n",
       "      <td>@DimaSadek بعدين طلعتي على.  المسرح صار بدك تح...</td>\n",
       "      <td>none</td>\n",
       "      <td>none</td>\n",
       "      <td>none</td>\n",
       "      <td>0</td>\n",
       "    </tr>\n",
       "    <tr>\n",
       "      <th>4371</th>\n",
       "      <td>@DimaSadek السيّد قال: لن يسقط العهد. \\r\\n#خيب...</td>\n",
       "      <td>damning</td>\n",
       "      <td>misogyny</td>\n",
       "      <td>active</td>\n",
       "      <td>1</td>\n",
       "    </tr>\n",
       "    <tr>\n",
       "      <th>3404</th>\n",
       "      <td>@DimaSadek ان شاء الله نحنا منقبرك لأن السيد ب...</td>\n",
       "      <td>damning</td>\n",
       "      <td>misogyny</td>\n",
       "      <td>active</td>\n",
       "      <td>1</td>\n",
       "    </tr>\n",
       "    <tr>\n",
       "      <th>120</th>\n",
       "      <td>@DimaSadek ما في احقر منك يا عميلة #ديما_الواطية</td>\n",
       "      <td>discredit</td>\n",
       "      <td>misogyny</td>\n",
       "      <td>active</td>\n",
       "      <td>1</td>\n",
       "    </tr>\n",
       "    <tr>\n",
       "      <th>3049</th>\n",
       "      <td>@DimaSadek ليتو يقبرك عنجد �</td>\n",
       "      <td>threat of violence</td>\n",
       "      <td>misogyny</td>\n",
       "      <td>active</td>\n",
       "      <td>1</td>\n",
       "    </tr>\n",
       "    <tr>\n",
       "      <th>2542</th>\n",
       "      <td>@yumnafawaz @rayaelhassan غياض الصلح\\r\\nغيّا ا...</td>\n",
       "      <td>none</td>\n",
       "      <td>none</td>\n",
       "      <td>none</td>\n",
       "      <td>0</td>\n",
       "    </tr>\n",
       "    <tr>\n",
       "      <th>3723</th>\n",
       "      <td>@DimaSadek تضربي  شو سئيله</td>\n",
       "      <td>discredit</td>\n",
       "      <td>misogyny</td>\n",
       "      <td>active</td>\n",
       "      <td>1</td>\n",
       "    </tr>\n",
       "  </tbody>\n",
       "</table>\n",
       "</div>"
      ],
      "text/plain": [
       "                                                   text            category  \\\n",
       "2878  @berrynawal كنا ب #ديما_الوطية\\r\\nصرنا ب #نوال...           discredit   \n",
       "2187  @DimaSadek انت حرري نفسك من التبعية ونضبي ع بي...           discredit   \n",
       "2521           @DimaSadek نتنه قذرة انت ويلي بشد عمشديك           discredit   \n",
       "1426  @DimaSadek بعدين طلعتي على.  المسرح صار بدك تح...                none   \n",
       "4371  @DimaSadek السيّد قال: لن يسقط العهد. \\r\\n#خيب...             damning   \n",
       "3404  @DimaSadek ان شاء الله نحنا منقبرك لأن السيد ب...             damning   \n",
       "120    @DimaSadek ما في احقر منك يا عميلة #ديما_الواطية           discredit   \n",
       "3049                       @DimaSadek ليتو يقبرك عنجد �  threat of violence   \n",
       "2542  @yumnafawaz @rayaelhassan غياض الصلح\\r\\nغيّا ا...                none   \n",
       "3723                         @DimaSadek تضربي  شو سئيله           discredit   \n",
       "\n",
       "      misogyny  target  Label  \n",
       "2878  misogyny  active      1  \n",
       "2187  misogyny  active      1  \n",
       "2521  misogyny  active      1  \n",
       "1426      none    none      0  \n",
       "4371  misogyny  active      1  \n",
       "3404  misogyny  active      1  \n",
       "120   misogyny  active      1  \n",
       "3049  misogyny  active      1  \n",
       "2542      none    none      0  \n",
       "3723  misogyny  active      1  "
      ]
     },
     "execution_count": 73,
     "metadata": {},
     "output_type": "execute_result"
    }
   ],
   "source": [
    "data.sample(10)"
   ]
  },
  {
   "cell_type": "code",
   "execution_count": 47,
   "metadata": {},
   "outputs": [],
   "source": [
    "data = data[['Text','Label']]"
   ]
  },
  {
   "cell_type": "code",
   "execution_count": 48,
   "metadata": {},
   "outputs": [
    {
     "data": {
      "text/html": [
       "<div>\n",
       "<style scoped>\n",
       "    .dataframe tbody tr th:only-of-type {\n",
       "        vertical-align: middle;\n",
       "    }\n",
       "\n",
       "    .dataframe tbody tr th {\n",
       "        vertical-align: top;\n",
       "    }\n",
       "\n",
       "    .dataframe thead th {\n",
       "        text-align: right;\n",
       "    }\n",
       "</style>\n",
       "<table border=\"1\" class=\"dataframe\">\n",
       "  <thead>\n",
       "    <tr style=\"text-align: right;\">\n",
       "      <th></th>\n",
       "      <th>Text</th>\n",
       "      <th>Label</th>\n",
       "    </tr>\n",
       "  </thead>\n",
       "  <tbody>\n",
       "    <tr>\n",
       "      <th>1174</th>\n",
       "      <td>crazy stuff</td>\n",
       "      <td>0</td>\n",
       "    </tr>\n",
       "    <tr>\n",
       "      <th>2904</th>\n",
       "      <td>Arundhati Rai is a part of Lutyens</td>\n",
       "      <td>0</td>\n",
       "    </tr>\n",
       "    <tr>\n",
       "      <th>3150</th>\n",
       "      <td>Pless</td>\n",
       "      <td>0</td>\n",
       "    </tr>\n",
       "    <tr>\n",
       "      <th>1042</th>\n",
       "      <td>I wish my boyfriend could take this step and k...</td>\n",
       "      <td>0</td>\n",
       "    </tr>\n",
       "    <tr>\n",
       "      <th>4089</th>\n",
       "      <td>i wish my bf could take this step and keep me ...</td>\n",
       "      <td>0</td>\n",
       "    </tr>\n",
       "    <tr>\n",
       "      <th>1062</th>\n",
       "      <td>akshya is a brilliant actor.</td>\n",
       "      <td>0</td>\n",
       "    </tr>\n",
       "    <tr>\n",
       "      <th>848</th>\n",
       "      <td>1000 likes for you boss</td>\n",
       "      <td>0</td>\n",
       "    </tr>\n",
       "    <tr>\n",
       "      <th>3801</th>\n",
       "      <td>The real sh**t👏👏👏👉👍👍👈</td>\n",
       "      <td>0</td>\n",
       "    </tr>\n",
       "    <tr>\n",
       "      <th>3614</th>\n",
       "      <td>completed my PG before everyone else. I mean I...</td>\n",
       "      <td>0</td>\n",
       "    </tr>\n",
       "    <tr>\n",
       "      <th>758</th>\n",
       "      <td>suchitra is just one of those dumbo fake psych...</td>\n",
       "      <td>1</td>\n",
       "    </tr>\n",
       "  </tbody>\n",
       "</table>\n",
       "</div>"
      ],
      "text/plain": [
       "                                                   Text  Label\n",
       "1174                                        crazy stuff      0\n",
       "2904                 Arundhati Rai is a part of Lutyens      0\n",
       "3150                                              Pless      0\n",
       "1042  I wish my boyfriend could take this step and k...      0\n",
       "4089  i wish my bf could take this step and keep me ...      0\n",
       "1062                       akshya is a brilliant actor.      0\n",
       "848                             1000 likes for you boss      0\n",
       "3801                              The real sh**t👏👏👏👉👍👍👈      0\n",
       "3614  completed my PG before everyone else. I mean I...      0\n",
       "758   suchitra is just one of those dumbo fake psych...      1"
      ]
     },
     "execution_count": 48,
     "metadata": {},
     "output_type": "execute_result"
    }
   ],
   "source": [
    "data.sample(10)"
   ]
  },
  {
   "cell_type": "code",
   "execution_count": 49,
   "metadata": {},
   "outputs": [
    {
     "name": "stderr",
     "output_type": "stream",
     "text": [
      "<ipython-input-49-987839984337>:1: SettingWithCopyWarning: \n",
      "A value is trying to be set on a copy of a slice from a DataFrame.\n",
      "Try using .loc[row_indexer,col_indexer] = value instead\n",
      "\n",
      "See the caveats in the documentation: https://pandas.pydata.org/pandas-docs/stable/user_guide/indexing.html#returning-a-view-versus-a-copy\n",
      "  data['ID']=list(range(1,len(data)+1))\n"
     ]
    }
   ],
   "source": [
    "data['ID']=list(range(1,len(data)+1))"
   ]
  },
  {
   "cell_type": "code",
   "execution_count": 50,
   "metadata": {},
   "outputs": [
    {
     "data": {
      "text/html": [
       "<div>\n",
       "<style scoped>\n",
       "    .dataframe tbody tr th:only-of-type {\n",
       "        vertical-align: middle;\n",
       "    }\n",
       "\n",
       "    .dataframe tbody tr th {\n",
       "        vertical-align: top;\n",
       "    }\n",
       "\n",
       "    .dataframe thead th {\n",
       "        text-align: right;\n",
       "    }\n",
       "</style>\n",
       "<table border=\"1\" class=\"dataframe\">\n",
       "  <thead>\n",
       "    <tr style=\"text-align: right;\">\n",
       "      <th></th>\n",
       "      <th>Text</th>\n",
       "      <th>Label</th>\n",
       "      <th>ID</th>\n",
       "    </tr>\n",
       "  </thead>\n",
       "  <tbody>\n",
       "    <tr>\n",
       "      <th>0</th>\n",
       "      <td>Next part</td>\n",
       "      <td>0</td>\n",
       "      <td>1</td>\n",
       "    </tr>\n",
       "    <tr>\n",
       "      <th>1</th>\n",
       "      <td>Iii8mllllllm\\nMdxfvb8o90lplppi0005</td>\n",
       "      <td>0</td>\n",
       "      <td>2</td>\n",
       "    </tr>\n",
       "    <tr>\n",
       "      <th>2</th>\n",
       "      <td>🤣🤣😂😂🤣🤣🤣😂osm vedio ....keep it up...make more v...</td>\n",
       "      <td>0</td>\n",
       "      <td>3</td>\n",
       "    </tr>\n",
       "    <tr>\n",
       "      <th>3</th>\n",
       "      <td>What the fuck was this? I respect shwetabh and...</td>\n",
       "      <td>0</td>\n",
       "      <td>4</td>\n",
       "    </tr>\n",
       "    <tr>\n",
       "      <th>4</th>\n",
       "      <td>Concerned authorities should bring arundathi R...</td>\n",
       "      <td>0</td>\n",
       "      <td>5</td>\n",
       "    </tr>\n",
       "  </tbody>\n",
       "</table>\n",
       "</div>"
      ],
      "text/plain": [
       "                                                Text  Label  ID\n",
       "0                                          Next part      0   1\n",
       "1                 Iii8mllllllm\\nMdxfvb8o90lplppi0005      0   2\n",
       "2  🤣🤣😂😂🤣🤣🤣😂osm vedio ....keep it up...make more v...      0   3\n",
       "3  What the fuck was this? I respect shwetabh and...      0   4\n",
       "4  Concerned authorities should bring arundathi R...      0   5"
      ]
     },
     "execution_count": 50,
     "metadata": {},
     "output_type": "execute_result"
    }
   ],
   "source": [
    "data.head()"
   ]
  },
  {
   "cell_type": "code",
   "execution_count": 52,
   "metadata": {},
   "outputs": [],
   "source": [
    "data=data[['ID','Text','Label']]"
   ]
  },
  {
   "cell_type": "code",
   "execution_count": 53,
   "metadata": {},
   "outputs": [
    {
     "data": {
      "text/html": [
       "<div>\n",
       "<style scoped>\n",
       "    .dataframe tbody tr th:only-of-type {\n",
       "        vertical-align: middle;\n",
       "    }\n",
       "\n",
       "    .dataframe tbody tr th {\n",
       "        vertical-align: top;\n",
       "    }\n",
       "\n",
       "    .dataframe thead th {\n",
       "        text-align: right;\n",
       "    }\n",
       "</style>\n",
       "<table border=\"1\" class=\"dataframe\">\n",
       "  <thead>\n",
       "    <tr style=\"text-align: right;\">\n",
       "      <th></th>\n",
       "      <th>ID</th>\n",
       "      <th>Text</th>\n",
       "      <th>Label</th>\n",
       "    </tr>\n",
       "  </thead>\n",
       "  <tbody>\n",
       "    <tr>\n",
       "      <th>0</th>\n",
       "      <td>1</td>\n",
       "      <td>Next part</td>\n",
       "      <td>0</td>\n",
       "    </tr>\n",
       "    <tr>\n",
       "      <th>1</th>\n",
       "      <td>2</td>\n",
       "      <td>Iii8mllllllm\\nMdxfvb8o90lplppi0005</td>\n",
       "      <td>0</td>\n",
       "    </tr>\n",
       "    <tr>\n",
       "      <th>2</th>\n",
       "      <td>3</td>\n",
       "      <td>🤣🤣😂😂🤣🤣🤣😂osm vedio ....keep it up...make more v...</td>\n",
       "      <td>0</td>\n",
       "    </tr>\n",
       "    <tr>\n",
       "      <th>3</th>\n",
       "      <td>4</td>\n",
       "      <td>What the fuck was this? I respect shwetabh and...</td>\n",
       "      <td>0</td>\n",
       "    </tr>\n",
       "    <tr>\n",
       "      <th>4</th>\n",
       "      <td>5</td>\n",
       "      <td>Concerned authorities should bring arundathi R...</td>\n",
       "      <td>0</td>\n",
       "    </tr>\n",
       "  </tbody>\n",
       "</table>\n",
       "</div>"
      ],
      "text/plain": [
       "   ID                                               Text  Label\n",
       "0   1                                          Next part      0\n",
       "1   2                 Iii8mllllllm\\nMdxfvb8o90lplppi0005      0\n",
       "2   3  🤣🤣😂😂🤣🤣🤣😂osm vedio ....keep it up...make more v...      0\n",
       "3   4  What the fuck was this? I respect shwetabh and...      0\n",
       "4   5  Concerned authorities should bring arundathi R...      0"
      ]
     },
     "execution_count": 53,
     "metadata": {},
     "output_type": "execute_result"
    }
   ],
   "source": [
    "data.head()"
   ]
  },
  {
   "cell_type": "code",
   "execution_count": 55,
   "metadata": {},
   "outputs": [],
   "source": [
    "data.to_csv(OUTPUT_FOLDER+\"all.csv\")"
   ]
  },
  {
   "cell_type": "code",
   "execution_count": 56,
   "metadata": {},
   "outputs": [
    {
     "data": {
      "text/plain": [
       "6529"
      ]
     },
     "execution_count": 56,
     "metadata": {},
     "output_type": "execute_result"
    }
   ],
   "source": [
    "len(data)"
   ]
  },
  {
   "cell_type": "code",
   "execution_count": 194,
   "metadata": {},
   "outputs": [],
   "source": [
    "def convertToOne(lang,output_path):\n",
    "    data_train = pd.read_csv(DATA_FOLDER+lang+\"/trac2_\"+lang+\"_train.csv\")\n",
    "    data_dev = pd.read_csv(DATA_FOLDER+lang+\"/trac2_\"+lang+\"_dev.csv\")\n",
    "    data_test_label = pd.read_csv(DATA_FOLDER+\"gold/trac2_\"+lang+\"_gold_b.csv\")\n",
    "    data_test = pd.read_csv(DATA_FOLDER+\"trac2-test-package/trac2_\"+lang+\"_test.csv\")\n",
    "    \n",
    "    data_test = pd.merge(data_test,data_test_label)\n",
    "    \n",
    "    data = pd.concat([data_train,data_dev,data_test])\n",
    "    \n",
    "    print(len(data))\n",
    "    \n",
    "    data['Label']=data['Sub-task B'].apply(encodeLabel)\n",
    "    \n",
    "    data = data[['Text','Label']]\n",
    "    \n",
    "    data['ID']=list(range(1,len(data)+1))\n",
    "    \n",
    "    data=data[['ID','Text','Label']]\n",
    "    \n",
    "    data.to_csv(output_path+\"all.csv\")"
   ]
  },
  {
   "cell_type": "code",
   "execution_count": 196,
   "metadata": {},
   "outputs": [
    {
     "name": "stdout",
     "output_type": "stream",
     "text": [
      "5971\n"
     ]
    }
   ],
   "source": [
    "DATA_FOLDER = \"Data/Shared Task/\"\n",
    "convertToOne(\"iben\",\"Data_Processed/Shared_Task_iben/\")"
   ]
  },
  {
   "cell_type": "markdown",
   "metadata": {},
   "source": [
    "### Let-Mi"
   ]
  },
  {
   "cell_type": "code",
   "execution_count": 86,
   "metadata": {},
   "outputs": [],
   "source": [
    "DATA_FOLDER = \"Data/Let-Mi/\"\n",
    "OUTPUT = \"Data_Processed/Let-Mi/\""
   ]
  },
  {
   "cell_type": "code",
   "execution_count": 65,
   "metadata": {},
   "outputs": [],
   "source": [
    "data = pd.read_csv(DATA_FOLDER+\"let-mi_train_part.csv\")"
   ]
  },
  {
   "cell_type": "code",
   "execution_count": 66,
   "metadata": {},
   "outputs": [
    {
     "data": {
      "text/html": [
       "<div>\n",
       "<style scoped>\n",
       "    .dataframe tbody tr th:only-of-type {\n",
       "        vertical-align: middle;\n",
       "    }\n",
       "\n",
       "    .dataframe tbody tr th {\n",
       "        vertical-align: top;\n",
       "    }\n",
       "\n",
       "    .dataframe thead th {\n",
       "        text-align: right;\n",
       "    }\n",
       "</style>\n",
       "<table border=\"1\" class=\"dataframe\">\n",
       "  <thead>\n",
       "    <tr style=\"text-align: right;\">\n",
       "      <th></th>\n",
       "      <th>text</th>\n",
       "      <th>category</th>\n",
       "      <th>misogyny</th>\n",
       "      <th>target</th>\n",
       "    </tr>\n",
       "  </thead>\n",
       "  <tbody>\n",
       "    <tr>\n",
       "      <th>0</th>\n",
       "      <td>@AhmadMoussaly @DimaSadek اي نحن ما منقبلها صر...</td>\n",
       "      <td>discredit</td>\n",
       "      <td>misogyny</td>\n",
       "      <td>active</td>\n",
       "    </tr>\n",
       "    <tr>\n",
       "      <th>1</th>\n",
       "      <td>@berrynawal نوال شو قصتك كل يوم بتاكلي قتله شو...</td>\n",
       "      <td>none</td>\n",
       "      <td>none</td>\n",
       "      <td>none</td>\n",
       "    </tr>\n",
       "    <tr>\n",
       "      <th>2</th>\n",
       "      <td>@DimaSadek انشالله بيقبر قلبك عن قريب ...يافهي...</td>\n",
       "      <td>damning</td>\n",
       "      <td>misogyny</td>\n",
       "      <td>active</td>\n",
       "    </tr>\n",
       "    <tr>\n",
       "      <th>3</th>\n",
       "      <td>@DimaSadek @LBCI_NEWS @JeanFeghali يسلم لسانك ...</td>\n",
       "      <td>none</td>\n",
       "      <td>none</td>\n",
       "      <td>none</td>\n",
       "    </tr>\n",
       "    <tr>\n",
       "      <th>4</th>\n",
       "      <td>@RammalNaima @DimaSadek من بجيب الحشيش عبيروت ...</td>\n",
       "      <td>none</td>\n",
       "      <td>none</td>\n",
       "      <td>none</td>\n",
       "    </tr>\n",
       "    <tr>\n",
       "      <th>5</th>\n",
       "      <td>@DimaSadek فعلاً الثورة أنثى، برافو ديما</td>\n",
       "      <td>none</td>\n",
       "      <td>none</td>\n",
       "      <td>none</td>\n",
       "    </tr>\n",
       "    <tr>\n",
       "      <th>6</th>\n",
       "      <td>@berrynawal يخرب بيتك حبيتك</td>\n",
       "      <td>none</td>\n",
       "      <td>none</td>\n",
       "      <td>none</td>\n",
       "    </tr>\n",
       "    <tr>\n",
       "      <th>7</th>\n",
       "      <td>@DimaSadek انك بكل تواضع سفيهة منحطة عديمة الم...</td>\n",
       "      <td>discredit</td>\n",
       "      <td>misogyny</td>\n",
       "      <td>active</td>\n",
       "    </tr>\n",
       "    <tr>\n",
       "      <th>8</th>\n",
       "      <td>@DimaSadek ضبي لسانك احسنلك ��</td>\n",
       "      <td>discredit</td>\n",
       "      <td>misogyny</td>\n",
       "      <td>active</td>\n",
       "    </tr>\n",
       "    <tr>\n",
       "      <th>9</th>\n",
       "      <td>@DimaSadek يا حمارة يا صهيونية يا عاهرة هؤلاء ...</td>\n",
       "      <td>discredit</td>\n",
       "      <td>misogyny</td>\n",
       "      <td>active</td>\n",
       "    </tr>\n",
       "  </tbody>\n",
       "</table>\n",
       "</div>"
      ],
      "text/plain": [
       "                                                text   category  misogyny  \\\n",
       "0  @AhmadMoussaly @DimaSadek اي نحن ما منقبلها صر...  discredit  misogyny   \n",
       "1  @berrynawal نوال شو قصتك كل يوم بتاكلي قتله شو...       none      none   \n",
       "2  @DimaSadek انشالله بيقبر قلبك عن قريب ...يافهي...    damning  misogyny   \n",
       "3  @DimaSadek @LBCI_NEWS @JeanFeghali يسلم لسانك ...       none      none   \n",
       "4  @RammalNaima @DimaSadek من بجيب الحشيش عبيروت ...       none      none   \n",
       "5           @DimaSadek فعلاً الثورة أنثى، برافو ديما       none      none   \n",
       "6                        @berrynawal يخرب بيتك حبيتك       none      none   \n",
       "7  @DimaSadek انك بكل تواضع سفيهة منحطة عديمة الم...  discredit  misogyny   \n",
       "8                     @DimaSadek ضبي لسانك احسنلك ��  discredit  misogyny   \n",
       "9  @DimaSadek يا حمارة يا صهيونية يا عاهرة هؤلاء ...  discredit  misogyny   \n",
       "\n",
       "   target  \n",
       "0  active  \n",
       "1    none  \n",
       "2  active  \n",
       "3    none  \n",
       "4    none  \n",
       "5    none  \n",
       "6    none  \n",
       "7  active  \n",
       "8  active  \n",
       "9  active  "
      ]
     },
     "execution_count": 66,
     "metadata": {},
     "output_type": "execute_result"
    }
   ],
   "source": [
    "data.head(10)"
   ]
  },
  {
   "cell_type": "code",
   "execution_count": 70,
   "metadata": {},
   "outputs": [],
   "source": [
    "def encodeLabel(val):\n",
    "    if(val==\"misogyny\"):\n",
    "        return 1\n",
    "    else:\n",
    "        return 0  "
   ]
  },
  {
   "cell_type": "code",
   "execution_count": 71,
   "metadata": {},
   "outputs": [],
   "source": [
    "data['Label']=data['misogyny'].apply(encodeLabel)"
   ]
  },
  {
   "cell_type": "code",
   "execution_count": 72,
   "metadata": {},
   "outputs": [
    {
     "data": {
      "text/html": [
       "<div>\n",
       "<style scoped>\n",
       "    .dataframe tbody tr th:only-of-type {\n",
       "        vertical-align: middle;\n",
       "    }\n",
       "\n",
       "    .dataframe tbody tr th {\n",
       "        vertical-align: top;\n",
       "    }\n",
       "\n",
       "    .dataframe thead th {\n",
       "        text-align: right;\n",
       "    }\n",
       "</style>\n",
       "<table border=\"1\" class=\"dataframe\">\n",
       "  <thead>\n",
       "    <tr style=\"text-align: right;\">\n",
       "      <th></th>\n",
       "      <th>text</th>\n",
       "      <th>category</th>\n",
       "      <th>misogyny</th>\n",
       "      <th>target</th>\n",
       "      <th>Label</th>\n",
       "    </tr>\n",
       "  </thead>\n",
       "  <tbody>\n",
       "    <tr>\n",
       "      <th>0</th>\n",
       "      <td>@AhmadMoussaly @DimaSadek اي نحن ما منقبلها صر...</td>\n",
       "      <td>discredit</td>\n",
       "      <td>misogyny</td>\n",
       "      <td>active</td>\n",
       "      <td>1</td>\n",
       "    </tr>\n",
       "    <tr>\n",
       "      <th>1</th>\n",
       "      <td>@berrynawal نوال شو قصتك كل يوم بتاكلي قتله شو...</td>\n",
       "      <td>none</td>\n",
       "      <td>none</td>\n",
       "      <td>none</td>\n",
       "      <td>0</td>\n",
       "    </tr>\n",
       "    <tr>\n",
       "      <th>2</th>\n",
       "      <td>@DimaSadek انشالله بيقبر قلبك عن قريب ...يافهي...</td>\n",
       "      <td>damning</td>\n",
       "      <td>misogyny</td>\n",
       "      <td>active</td>\n",
       "      <td>1</td>\n",
       "    </tr>\n",
       "    <tr>\n",
       "      <th>3</th>\n",
       "      <td>@DimaSadek @LBCI_NEWS @JeanFeghali يسلم لسانك ...</td>\n",
       "      <td>none</td>\n",
       "      <td>none</td>\n",
       "      <td>none</td>\n",
       "      <td>0</td>\n",
       "    </tr>\n",
       "    <tr>\n",
       "      <th>4</th>\n",
       "      <td>@RammalNaima @DimaSadek من بجيب الحشيش عبيروت ...</td>\n",
       "      <td>none</td>\n",
       "      <td>none</td>\n",
       "      <td>none</td>\n",
       "      <td>0</td>\n",
       "    </tr>\n",
       "    <tr>\n",
       "      <th>5</th>\n",
       "      <td>@DimaSadek فعلاً الثورة أنثى، برافو ديما</td>\n",
       "      <td>none</td>\n",
       "      <td>none</td>\n",
       "      <td>none</td>\n",
       "      <td>0</td>\n",
       "    </tr>\n",
       "    <tr>\n",
       "      <th>6</th>\n",
       "      <td>@berrynawal يخرب بيتك حبيتك</td>\n",
       "      <td>none</td>\n",
       "      <td>none</td>\n",
       "      <td>none</td>\n",
       "      <td>0</td>\n",
       "    </tr>\n",
       "    <tr>\n",
       "      <th>7</th>\n",
       "      <td>@DimaSadek انك بكل تواضع سفيهة منحطة عديمة الم...</td>\n",
       "      <td>discredit</td>\n",
       "      <td>misogyny</td>\n",
       "      <td>active</td>\n",
       "      <td>1</td>\n",
       "    </tr>\n",
       "    <tr>\n",
       "      <th>8</th>\n",
       "      <td>@DimaSadek ضبي لسانك احسنلك ��</td>\n",
       "      <td>discredit</td>\n",
       "      <td>misogyny</td>\n",
       "      <td>active</td>\n",
       "      <td>1</td>\n",
       "    </tr>\n",
       "    <tr>\n",
       "      <th>9</th>\n",
       "      <td>@DimaSadek يا حمارة يا صهيونية يا عاهرة هؤلاء ...</td>\n",
       "      <td>discredit</td>\n",
       "      <td>misogyny</td>\n",
       "      <td>active</td>\n",
       "      <td>1</td>\n",
       "    </tr>\n",
       "  </tbody>\n",
       "</table>\n",
       "</div>"
      ],
      "text/plain": [
       "                                                text   category  misogyny  \\\n",
       "0  @AhmadMoussaly @DimaSadek اي نحن ما منقبلها صر...  discredit  misogyny   \n",
       "1  @berrynawal نوال شو قصتك كل يوم بتاكلي قتله شو...       none      none   \n",
       "2  @DimaSadek انشالله بيقبر قلبك عن قريب ...يافهي...    damning  misogyny   \n",
       "3  @DimaSadek @LBCI_NEWS @JeanFeghali يسلم لسانك ...       none      none   \n",
       "4  @RammalNaima @DimaSadek من بجيب الحشيش عبيروت ...       none      none   \n",
       "5           @DimaSadek فعلاً الثورة أنثى، برافو ديما       none      none   \n",
       "6                        @berrynawal يخرب بيتك حبيتك       none      none   \n",
       "7  @DimaSadek انك بكل تواضع سفيهة منحطة عديمة الم...  discredit  misogyny   \n",
       "8                     @DimaSadek ضبي لسانك احسنلك ��  discredit  misogyny   \n",
       "9  @DimaSadek يا حمارة يا صهيونية يا عاهرة هؤلاء ...  discredit  misogyny   \n",
       "\n",
       "   target  Label  \n",
       "0  active      1  \n",
       "1    none      0  \n",
       "2  active      1  \n",
       "3    none      0  \n",
       "4    none      0  \n",
       "5    none      0  \n",
       "6    none      0  \n",
       "7  active      1  \n",
       "8  active      1  \n",
       "9  active      1  "
      ]
     },
     "execution_count": 72,
     "metadata": {},
     "output_type": "execute_result"
    }
   ],
   "source": [
    "data.head(10)"
   ]
  },
  {
   "cell_type": "code",
   "execution_count": 74,
   "metadata": {},
   "outputs": [],
   "source": [
    "data['ID']=list(range(1,len(data)+1))"
   ]
  },
  {
   "cell_type": "code",
   "execution_count": 75,
   "metadata": {},
   "outputs": [
    {
     "data": {
      "text/html": [
       "<div>\n",
       "<style scoped>\n",
       "    .dataframe tbody tr th:only-of-type {\n",
       "        vertical-align: middle;\n",
       "    }\n",
       "\n",
       "    .dataframe tbody tr th {\n",
       "        vertical-align: top;\n",
       "    }\n",
       "\n",
       "    .dataframe thead th {\n",
       "        text-align: right;\n",
       "    }\n",
       "</style>\n",
       "<table border=\"1\" class=\"dataframe\">\n",
       "  <thead>\n",
       "    <tr style=\"text-align: right;\">\n",
       "      <th></th>\n",
       "      <th>text</th>\n",
       "      <th>category</th>\n",
       "      <th>misogyny</th>\n",
       "      <th>target</th>\n",
       "      <th>Label</th>\n",
       "      <th>ID</th>\n",
       "    </tr>\n",
       "  </thead>\n",
       "  <tbody>\n",
       "    <tr>\n",
       "      <th>0</th>\n",
       "      <td>@AhmadMoussaly @DimaSadek اي نحن ما منقبلها صر...</td>\n",
       "      <td>discredit</td>\n",
       "      <td>misogyny</td>\n",
       "      <td>active</td>\n",
       "      <td>1</td>\n",
       "      <td>1</td>\n",
       "    </tr>\n",
       "    <tr>\n",
       "      <th>1</th>\n",
       "      <td>@berrynawal نوال شو قصتك كل يوم بتاكلي قتله شو...</td>\n",
       "      <td>none</td>\n",
       "      <td>none</td>\n",
       "      <td>none</td>\n",
       "      <td>0</td>\n",
       "      <td>2</td>\n",
       "    </tr>\n",
       "    <tr>\n",
       "      <th>2</th>\n",
       "      <td>@DimaSadek انشالله بيقبر قلبك عن قريب ...يافهي...</td>\n",
       "      <td>damning</td>\n",
       "      <td>misogyny</td>\n",
       "      <td>active</td>\n",
       "      <td>1</td>\n",
       "      <td>3</td>\n",
       "    </tr>\n",
       "    <tr>\n",
       "      <th>3</th>\n",
       "      <td>@DimaSadek @LBCI_NEWS @JeanFeghali يسلم لسانك ...</td>\n",
       "      <td>none</td>\n",
       "      <td>none</td>\n",
       "      <td>none</td>\n",
       "      <td>0</td>\n",
       "      <td>4</td>\n",
       "    </tr>\n",
       "    <tr>\n",
       "      <th>4</th>\n",
       "      <td>@RammalNaima @DimaSadek من بجيب الحشيش عبيروت ...</td>\n",
       "      <td>none</td>\n",
       "      <td>none</td>\n",
       "      <td>none</td>\n",
       "      <td>0</td>\n",
       "      <td>5</td>\n",
       "    </tr>\n",
       "  </tbody>\n",
       "</table>\n",
       "</div>"
      ],
      "text/plain": [
       "                                                text   category  misogyny  \\\n",
       "0  @AhmadMoussaly @DimaSadek اي نحن ما منقبلها صر...  discredit  misogyny   \n",
       "1  @berrynawal نوال شو قصتك كل يوم بتاكلي قتله شو...       none      none   \n",
       "2  @DimaSadek انشالله بيقبر قلبك عن قريب ...يافهي...    damning  misogyny   \n",
       "3  @DimaSadek @LBCI_NEWS @JeanFeghali يسلم لسانك ...       none      none   \n",
       "4  @RammalNaima @DimaSadek من بجيب الحشيش عبيروت ...       none      none   \n",
       "\n",
       "   target  Label  ID  \n",
       "0  active      1   1  \n",
       "1    none      0   2  \n",
       "2  active      1   3  \n",
       "3    none      0   4  \n",
       "4    none      0   5  "
      ]
     },
     "execution_count": 75,
     "metadata": {},
     "output_type": "execute_result"
    }
   ],
   "source": [
    "data.head()"
   ]
  },
  {
   "cell_type": "code",
   "execution_count": 78,
   "metadata": {},
   "outputs": [],
   "source": [
    "data.rename(columns={'text':'Text'},inplace=True)"
   ]
  },
  {
   "cell_type": "code",
   "execution_count": 79,
   "metadata": {},
   "outputs": [
    {
     "data": {
      "text/html": [
       "<div>\n",
       "<style scoped>\n",
       "    .dataframe tbody tr th:only-of-type {\n",
       "        vertical-align: middle;\n",
       "    }\n",
       "\n",
       "    .dataframe tbody tr th {\n",
       "        vertical-align: top;\n",
       "    }\n",
       "\n",
       "    .dataframe thead th {\n",
       "        text-align: right;\n",
       "    }\n",
       "</style>\n",
       "<table border=\"1\" class=\"dataframe\">\n",
       "  <thead>\n",
       "    <tr style=\"text-align: right;\">\n",
       "      <th></th>\n",
       "      <th>Text</th>\n",
       "      <th>category</th>\n",
       "      <th>misogyny</th>\n",
       "      <th>target</th>\n",
       "      <th>Label</th>\n",
       "      <th>ID</th>\n",
       "    </tr>\n",
       "  </thead>\n",
       "  <tbody>\n",
       "    <tr>\n",
       "      <th>0</th>\n",
       "      <td>@AhmadMoussaly @DimaSadek اي نحن ما منقبلها صر...</td>\n",
       "      <td>discredit</td>\n",
       "      <td>misogyny</td>\n",
       "      <td>active</td>\n",
       "      <td>1</td>\n",
       "      <td>1</td>\n",
       "    </tr>\n",
       "    <tr>\n",
       "      <th>1</th>\n",
       "      <td>@berrynawal نوال شو قصتك كل يوم بتاكلي قتله شو...</td>\n",
       "      <td>none</td>\n",
       "      <td>none</td>\n",
       "      <td>none</td>\n",
       "      <td>0</td>\n",
       "      <td>2</td>\n",
       "    </tr>\n",
       "    <tr>\n",
       "      <th>2</th>\n",
       "      <td>@DimaSadek انشالله بيقبر قلبك عن قريب ...يافهي...</td>\n",
       "      <td>damning</td>\n",
       "      <td>misogyny</td>\n",
       "      <td>active</td>\n",
       "      <td>1</td>\n",
       "      <td>3</td>\n",
       "    </tr>\n",
       "    <tr>\n",
       "      <th>3</th>\n",
       "      <td>@DimaSadek @LBCI_NEWS @JeanFeghali يسلم لسانك ...</td>\n",
       "      <td>none</td>\n",
       "      <td>none</td>\n",
       "      <td>none</td>\n",
       "      <td>0</td>\n",
       "      <td>4</td>\n",
       "    </tr>\n",
       "    <tr>\n",
       "      <th>4</th>\n",
       "      <td>@RammalNaima @DimaSadek من بجيب الحشيش عبيروت ...</td>\n",
       "      <td>none</td>\n",
       "      <td>none</td>\n",
       "      <td>none</td>\n",
       "      <td>0</td>\n",
       "      <td>5</td>\n",
       "    </tr>\n",
       "  </tbody>\n",
       "</table>\n",
       "</div>"
      ],
      "text/plain": [
       "                                                Text   category  misogyny  \\\n",
       "0  @AhmadMoussaly @DimaSadek اي نحن ما منقبلها صر...  discredit  misogyny   \n",
       "1  @berrynawal نوال شو قصتك كل يوم بتاكلي قتله شو...       none      none   \n",
       "2  @DimaSadek انشالله بيقبر قلبك عن قريب ...يافهي...    damning  misogyny   \n",
       "3  @DimaSadek @LBCI_NEWS @JeanFeghali يسلم لسانك ...       none      none   \n",
       "4  @RammalNaima @DimaSadek من بجيب الحشيش عبيروت ...       none      none   \n",
       "\n",
       "   target  Label  ID  \n",
       "0  active      1   1  \n",
       "1    none      0   2  \n",
       "2  active      1   3  \n",
       "3    none      0   4  \n",
       "4    none      0   5  "
      ]
     },
     "execution_count": 79,
     "metadata": {},
     "output_type": "execute_result"
    }
   ],
   "source": [
    "data.head()"
   ]
  },
  {
   "cell_type": "code",
   "execution_count": 80,
   "metadata": {},
   "outputs": [],
   "source": [
    "data = data[['ID','Text','Label']]"
   ]
  },
  {
   "cell_type": "code",
   "execution_count": 88,
   "metadata": {},
   "outputs": [
    {
     "data": {
      "text/html": [
       "<div>\n",
       "<style scoped>\n",
       "    .dataframe tbody tr th:only-of-type {\n",
       "        vertical-align: middle;\n",
       "    }\n",
       "\n",
       "    .dataframe tbody tr th {\n",
       "        vertical-align: top;\n",
       "    }\n",
       "\n",
       "    .dataframe thead th {\n",
       "        text-align: right;\n",
       "    }\n",
       "</style>\n",
       "<table border=\"1\" class=\"dataframe\">\n",
       "  <thead>\n",
       "    <tr style=\"text-align: right;\">\n",
       "      <th></th>\n",
       "      <th>ID</th>\n",
       "      <th>Text</th>\n",
       "      <th>Label</th>\n",
       "    </tr>\n",
       "  </thead>\n",
       "  <tbody>\n",
       "    <tr>\n",
       "      <th>0</th>\n",
       "      <td>1</td>\n",
       "      <td>@AhmadMoussaly @DimaSadek اي نحن ما منقبلها صر...</td>\n",
       "      <td>1</td>\n",
       "    </tr>\n",
       "    <tr>\n",
       "      <th>1</th>\n",
       "      <td>2</td>\n",
       "      <td>@berrynawal نوال شو قصتك كل يوم بتاكلي قتله شو...</td>\n",
       "      <td>0</td>\n",
       "    </tr>\n",
       "    <tr>\n",
       "      <th>2</th>\n",
       "      <td>3</td>\n",
       "      <td>@DimaSadek انشالله بيقبر قلبك عن قريب ...يافهي...</td>\n",
       "      <td>1</td>\n",
       "    </tr>\n",
       "    <tr>\n",
       "      <th>3</th>\n",
       "      <td>4</td>\n",
       "      <td>@DimaSadek @LBCI_NEWS @JeanFeghali يسلم لسانك ...</td>\n",
       "      <td>0</td>\n",
       "    </tr>\n",
       "    <tr>\n",
       "      <th>4</th>\n",
       "      <td>5</td>\n",
       "      <td>@RammalNaima @DimaSadek من بجيب الحشيش عبيروت ...</td>\n",
       "      <td>0</td>\n",
       "    </tr>\n",
       "  </tbody>\n",
       "</table>\n",
       "</div>"
      ],
      "text/plain": [
       "   ID                                               Text  Label\n",
       "0   1  @AhmadMoussaly @DimaSadek اي نحن ما منقبلها صر...      1\n",
       "1   2  @berrynawal نوال شو قصتك كل يوم بتاكلي قتله شو...      0\n",
       "2   3  @DimaSadek انشالله بيقبر قلبك عن قريب ...يافهي...      1\n",
       "3   4  @DimaSadek @LBCI_NEWS @JeanFeghali يسلم لسانك ...      0\n",
       "4   5  @RammalNaima @DimaSadek من بجيب الحشيش عبيروت ...      0"
      ]
     },
     "execution_count": 88,
     "metadata": {},
     "output_type": "execute_result"
    }
   ],
   "source": [
    "data.head()"
   ]
  },
  {
   "cell_type": "code",
   "execution_count": 81,
   "metadata": {},
   "outputs": [
    {
     "data": {
      "text/plain": [
       "5240"
      ]
     },
     "execution_count": 81,
     "metadata": {},
     "output_type": "execute_result"
    }
   ],
   "source": [
    "len(data)"
   ]
  },
  {
   "cell_type": "code",
   "execution_count": 87,
   "metadata": {},
   "outputs": [],
   "source": [
    "data.to_csv(OUTPUT+\"all.csv\")"
   ]
  },
  {
   "cell_type": "markdown",
   "metadata": {},
   "source": [
    "### AMI-2020"
   ]
  },
  {
   "cell_type": "code",
   "execution_count": 125,
   "metadata": {},
   "outputs": [],
   "source": [
    "DATA_FOLDER = \"Data/AMI-2020/\"\n",
    "OUTPUT = \"Data_Processed/AMI-2020/\""
   ]
  },
  {
   "cell_type": "code",
   "execution_count": 110,
   "metadata": {},
   "outputs": [],
   "source": [
    "data_test_raw = pd.read_csv(DATA_FOLDER+'AMI2020_test_raw_gt.tsv',sep='\\t',header=0,engine='python')\n",
    "data_test_synt = pd.read_csv(DATA_FOLDER+'AMI2020_test_synt_gt.tsv',sep='\\t',header=0,engine='python')\n",
    "data_train_raw = pd.read_csv(DATA_FOLDER+'AMI2020_training_raw.tsv',sep='\\t',header=0,engine='python')\n",
    "data_train_synt = pd.read_csv(DATA_FOLDER+'AMI2020_training_synt.tsv',sep='\\t',header=0,engine='python')"
   ]
  },
  {
   "cell_type": "code",
   "execution_count": 111,
   "metadata": {},
   "outputs": [
    {
     "data": {
      "text/plain": [
       "(1908, 1000)"
      ]
     },
     "execution_count": 111,
     "metadata": {},
     "output_type": "execute_result"
    }
   ],
   "source": [
    "len(data_test_synt),len(data_test_raw)"
   ]
  },
  {
   "cell_type": "code",
   "execution_count": 114,
   "metadata": {},
   "outputs": [
    {
     "data": {
      "text/html": [
       "<div>\n",
       "<style scoped>\n",
       "    .dataframe tbody tr th:only-of-type {\n",
       "        vertical-align: middle;\n",
       "    }\n",
       "\n",
       "    .dataframe tbody tr th {\n",
       "        vertical-align: top;\n",
       "    }\n",
       "\n",
       "    .dataframe thead th {\n",
       "        text-align: right;\n",
       "    }\n",
       "</style>\n",
       "<table border=\"1\" class=\"dataframe\">\n",
       "  <thead>\n",
       "    <tr style=\"text-align: right;\">\n",
       "      <th></th>\n",
       "      <th>id</th>\n",
       "      <th>text</th>\n",
       "      <th>misogynous</th>\n",
       "      <th>aggressiveness</th>\n",
       "    </tr>\n",
       "  </thead>\n",
       "  <tbody>\n",
       "    <tr>\n",
       "      <th>0</th>\n",
       "      <td>1</td>\n",
       "      <td>@KassemAmin4 @Laylasexgdr Fatti trovare  te lo...</td>\n",
       "      <td>1</td>\n",
       "      <td>1</td>\n",
       "    </tr>\n",
       "    <tr>\n",
       "      <th>1</th>\n",
       "      <td>2</td>\n",
       "      <td>@meb Tu dovresti ricominciare dai semafori a f...</td>\n",
       "      <td>1</td>\n",
       "      <td>1</td>\n",
       "    </tr>\n",
       "    <tr>\n",
       "      <th>2</th>\n",
       "      <td>3</td>\n",
       "      <td>Amore,sei presentabile? Xchè così via Skype ti...</td>\n",
       "      <td>1</td>\n",
       "      <td>1</td>\n",
       "    </tr>\n",
       "    <tr>\n",
       "      <th>3</th>\n",
       "      <td>4</td>\n",
       "      <td>@Il_nulla Salvo poi mandare la culona a Mosca,...</td>\n",
       "      <td>1</td>\n",
       "      <td>0</td>\n",
       "    </tr>\n",
       "    <tr>\n",
       "      <th>4</th>\n",
       "      <td>5</td>\n",
       "      <td>@GiorgiaMeloni @FratellidItaIia Vediamo Gentil...</td>\n",
       "      <td>1</td>\n",
       "      <td>1</td>\n",
       "    </tr>\n",
       "    <tr>\n",
       "      <th>...</th>\n",
       "      <td>...</td>\n",
       "      <td>...</td>\n",
       "      <td>...</td>\n",
       "      <td>...</td>\n",
       "    </tr>\n",
       "    <tr>\n",
       "      <th>4994</th>\n",
       "      <td>4995</td>\n",
       "      <td>ora mi incazzo porca puttana https://t.co/0t9U...</td>\n",
       "      <td>0</td>\n",
       "      <td>0</td>\n",
       "    </tr>\n",
       "    <tr>\n",
       "      <th>4995</th>\n",
       "      <td>4996</td>\n",
       "      <td>non ci posso credere sono queste le cose che m...</td>\n",
       "      <td>0</td>\n",
       "      <td>0</td>\n",
       "    </tr>\n",
       "    <tr>\n",
       "      <th>4996</th>\n",
       "      <td>4997</td>\n",
       "      <td>sono così incazzata! dovete smetterla di consi...</td>\n",
       "      <td>0</td>\n",
       "      <td>0</td>\n",
       "    </tr>\n",
       "    <tr>\n",
       "      <th>4997</th>\n",
       "      <td>4998</td>\n",
       "      <td>SENTITE PORCA PUTTANA TAE NON PUÒ POSTARE SUL ...</td>\n",
       "      <td>0</td>\n",
       "      <td>0</td>\n",
       "    </tr>\n",
       "    <tr>\n",
       "      <th>4998</th>\n",
       "      <td>4999</td>\n",
       "      <td>ma vaffanculo senti che cazzo me li fai te i c...</td>\n",
       "      <td>0</td>\n",
       "      <td>0</td>\n",
       "    </tr>\n",
       "  </tbody>\n",
       "</table>\n",
       "<p>4999 rows × 4 columns</p>\n",
       "</div>"
      ],
      "text/plain": [
       "        id                                               text  misogynous  \\\n",
       "0        1  @KassemAmin4 @Laylasexgdr Fatti trovare  te lo...           1   \n",
       "1        2  @meb Tu dovresti ricominciare dai semafori a f...           1   \n",
       "2        3  Amore,sei presentabile? Xchè così via Skype ti...           1   \n",
       "3        4  @Il_nulla Salvo poi mandare la culona a Mosca,...           1   \n",
       "4        5  @GiorgiaMeloni @FratellidItaIia Vediamo Gentil...           1   \n",
       "...    ...                                                ...         ...   \n",
       "4994  4995  ora mi incazzo porca puttana https://t.co/0t9U...           0   \n",
       "4995  4996  non ci posso credere sono queste le cose che m...           0   \n",
       "4996  4997  sono così incazzata! dovete smetterla di consi...           0   \n",
       "4997  4998  SENTITE PORCA PUTTANA TAE NON PUÒ POSTARE SUL ...           0   \n",
       "4998  4999  ma vaffanculo senti che cazzo me li fai te i c...           0   \n",
       "\n",
       "      aggressiveness  \n",
       "0                  1  \n",
       "1                  1  \n",
       "2                  1  \n",
       "3                  0  \n",
       "4                  1  \n",
       "...              ...  \n",
       "4994               0  \n",
       "4995               0  \n",
       "4996               0  \n",
       "4997               0  \n",
       "4998               0  \n",
       "\n",
       "[4999 rows x 4 columns]"
      ]
     },
     "execution_count": 114,
     "metadata": {},
     "output_type": "execute_result"
    }
   ],
   "source": [
    "data_train_raw.iloc[:-1]"
   ]
  },
  {
   "cell_type": "code",
   "execution_count": 115,
   "metadata": {},
   "outputs": [
    {
     "data": {
      "text/html": [
       "<div>\n",
       "<style scoped>\n",
       "    .dataframe tbody tr th:only-of-type {\n",
       "        vertical-align: middle;\n",
       "    }\n",
       "\n",
       "    .dataframe tbody tr th {\n",
       "        vertical-align: top;\n",
       "    }\n",
       "\n",
       "    .dataframe thead th {\n",
       "        text-align: right;\n",
       "    }\n",
       "</style>\n",
       "<table border=\"1\" class=\"dataframe\">\n",
       "  <thead>\n",
       "    <tr style=\"text-align: right;\">\n",
       "      <th></th>\n",
       "      <th>id</th>\n",
       "      <th>text</th>\n",
       "      <th>misogynous</th>\n",
       "      <th>aggressiveness</th>\n",
       "    </tr>\n",
       "  </thead>\n",
       "  <tbody>\n",
       "    <tr>\n",
       "      <th>0</th>\n",
       "      <td>5001</td>\n",
       "      <td>Aveva voglia di gridare tutta la mia rabbia ma...</td>\n",
       "      <td>0</td>\n",
       "      <td>0</td>\n",
       "    </tr>\n",
       "    <tr>\n",
       "      <th>1</th>\n",
       "      <td>5002</td>\n",
       "      <td>Lei è acida perché non ha figli penso che dare...</td>\n",
       "      <td>0</td>\n",
       "      <td>0</td>\n",
       "    </tr>\n",
       "    <tr>\n",
       "      <th>2</th>\n",
       "      <td>5003</td>\n",
       "      <td>Ma quanto è brutto sentirsi dire dal proprio f...</td>\n",
       "      <td>0</td>\n",
       "      <td>0</td>\n",
       "    </tr>\n",
       "    <tr>\n",
       "      <th>3</th>\n",
       "      <td>5004</td>\n",
       "      <td>Per chi ci facciamo venire il groppo in gola s...</td>\n",
       "      <td>0</td>\n",
       "      <td>0</td>\n",
       "    </tr>\n",
       "    <tr>\n",
       "      <th>4</th>\n",
       "      <td>5005</td>\n",
       "      <td>@sprankthatbooty Ti sborro io</td>\n",
       "      <td>1</td>\n",
       "      <td>0</td>\n",
       "    </tr>\n",
       "    <tr>\n",
       "      <th>...</th>\n",
       "      <td>...</td>\n",
       "      <td>...</td>\n",
       "      <td>...</td>\n",
       "      <td>...</td>\n",
       "    </tr>\n",
       "    <tr>\n",
       "      <th>994</th>\n",
       "      <td>5995</td>\n",
       "      <td>@Mr_Mrk1 O Marcò ma dici la verità, forse qual...</td>\n",
       "      <td>1</td>\n",
       "      <td>0</td>\n",
       "    </tr>\n",
       "    <tr>\n",
       "      <th>995</th>\n",
       "      <td>5996</td>\n",
       "      <td>@melmoonflower O si, mi piacerebbe tantissimo,...</td>\n",
       "      <td>1</td>\n",
       "      <td>1</td>\n",
       "    </tr>\n",
       "    <tr>\n",
       "      <th>996</th>\n",
       "      <td>5997</td>\n",
       "      <td>@itsnothend_ Lo so ognuno ha la sua croce se v...</td>\n",
       "      <td>1</td>\n",
       "      <td>0</td>\n",
       "    </tr>\n",
       "    <tr>\n",
       "      <th>997</th>\n",
       "      <td>5998</td>\n",
       "      <td>@precioustomline madonna qui partono gli schiaffi</td>\n",
       "      <td>0</td>\n",
       "      <td>0</td>\n",
       "    </tr>\n",
       "    <tr>\n",
       "      <th>998</th>\n",
       "      <td>5999</td>\n",
       "      <td>@MorganMarisa Che bel culo</td>\n",
       "      <td>1</td>\n",
       "      <td>0</td>\n",
       "    </tr>\n",
       "  </tbody>\n",
       "</table>\n",
       "<p>999 rows × 4 columns</p>\n",
       "</div>"
      ],
      "text/plain": [
       "       id                                               text  misogynous  \\\n",
       "0    5001  Aveva voglia di gridare tutta la mia rabbia ma...           0   \n",
       "1    5002  Lei è acida perché non ha figli penso che dare...           0   \n",
       "2    5003  Ma quanto è brutto sentirsi dire dal proprio f...           0   \n",
       "3    5004  Per chi ci facciamo venire il groppo in gola s...           0   \n",
       "4    5005                      @sprankthatbooty Ti sborro io           1   \n",
       "..    ...                                                ...         ...   \n",
       "994  5995  @Mr_Mrk1 O Marcò ma dici la verità, forse qual...           1   \n",
       "995  5996  @melmoonflower O si, mi piacerebbe tantissimo,...           1   \n",
       "996  5997  @itsnothend_ Lo so ognuno ha la sua croce se v...           1   \n",
       "997  5998  @precioustomline madonna qui partono gli schiaffi           0   \n",
       "998  5999                         @MorganMarisa Che bel culo           1   \n",
       "\n",
       "     aggressiveness  \n",
       "0                 0  \n",
       "1                 0  \n",
       "2                 0  \n",
       "3                 0  \n",
       "4                 0  \n",
       "..              ...  \n",
       "994               0  \n",
       "995               1  \n",
       "996               0  \n",
       "997               0  \n",
       "998               0  \n",
       "\n",
       "[999 rows x 4 columns]"
      ]
     },
     "execution_count": 115,
     "metadata": {},
     "output_type": "execute_result"
    }
   ],
   "source": [
    "data_test_raw.iloc[:-1]"
   ]
  },
  {
   "cell_type": "code",
   "execution_count": 116,
   "metadata": {},
   "outputs": [],
   "source": [
    "data = pd.concat([data_test_raw,data_test_synt,data_train_raw,data_train_synt])"
   ]
  },
  {
   "cell_type": "code",
   "execution_count": 117,
   "metadata": {},
   "outputs": [
    {
     "data": {
      "text/plain": [
       "9922"
      ]
     },
     "execution_count": 117,
     "metadata": {},
     "output_type": "execute_result"
    }
   ],
   "source": [
    "len(data)"
   ]
  },
  {
   "cell_type": "code",
   "execution_count": 118,
   "metadata": {},
   "outputs": [
    {
     "data": {
      "text/html": [
       "<div>\n",
       "<style scoped>\n",
       "    .dataframe tbody tr th:only-of-type {\n",
       "        vertical-align: middle;\n",
       "    }\n",
       "\n",
       "    .dataframe tbody tr th {\n",
       "        vertical-align: top;\n",
       "    }\n",
       "\n",
       "    .dataframe thead th {\n",
       "        text-align: right;\n",
       "    }\n",
       "</style>\n",
       "<table border=\"1\" class=\"dataframe\">\n",
       "  <thead>\n",
       "    <tr style=\"text-align: right;\">\n",
       "      <th></th>\n",
       "      <th>id</th>\n",
       "      <th>text</th>\n",
       "      <th>misogynous</th>\n",
       "      <th>aggressiveness</th>\n",
       "    </tr>\n",
       "  </thead>\n",
       "  <tbody>\n",
       "    <tr>\n",
       "      <th>235</th>\n",
       "      <td>235</td>\n",
       "      <td>stimare zie</td>\n",
       "      <td>0</td>\n",
       "      <td>NaN</td>\n",
       "    </tr>\n",
       "    <tr>\n",
       "      <th>1407</th>\n",
       "      <td>3421</td>\n",
       "      <td>mamme dovrebbero essere protette</td>\n",
       "      <td>0</td>\n",
       "      <td>NaN</td>\n",
       "    </tr>\n",
       "    <tr>\n",
       "      <th>179</th>\n",
       "      <td>5180</td>\n",
       "      <td>@giornalisteTV @Leone09748724 @Fiero70600786 @...</td>\n",
       "      <td>0</td>\n",
       "      <td>0.0</td>\n",
       "    </tr>\n",
       "    <tr>\n",
       "      <th>2458</th>\n",
       "      <td>2459</td>\n",
       "      <td>ma perch negli shoujo devono per forza mettere...</td>\n",
       "      <td>0</td>\n",
       "      <td>0.0</td>\n",
       "    </tr>\n",
       "    <tr>\n",
       "      <th>655</th>\n",
       "      <td>656</td>\n",
       "      <td>@BhadBhabie puttanona</td>\n",
       "      <td>1</td>\n",
       "      <td>1.0</td>\n",
       "    </tr>\n",
       "    <tr>\n",
       "      <th>2840</th>\n",
       "      <td>2841</td>\n",
       "      <td>Porca puttana, sono tua figlia, sai che sono s...</td>\n",
       "      <td>0</td>\n",
       "      <td>0.0</td>\n",
       "    </tr>\n",
       "    <tr>\n",
       "      <th>1640</th>\n",
       "      <td>3654</td>\n",
       "      <td>appoggiare femmina</td>\n",
       "      <td>0</td>\n",
       "      <td>NaN</td>\n",
       "    </tr>\n",
       "    <tr>\n",
       "      <th>3742</th>\n",
       "      <td>3743</td>\n",
       "      <td>APPUNTO! HO APPENA SCOPERTO CHE NON ANDIAMO MA...</td>\n",
       "      <td>0</td>\n",
       "      <td>0.0</td>\n",
       "    </tr>\n",
       "    <tr>\n",
       "      <th>520</th>\n",
       "      <td>521</td>\n",
       "      <td>RT @CarmenCindy81: la tua schiava tettona @pad...</td>\n",
       "      <td>1</td>\n",
       "      <td>1.0</td>\n",
       "    </tr>\n",
       "    <tr>\n",
       "      <th>4926</th>\n",
       "      <td>4927</td>\n",
       "      <td>@sophiebrw MA STAI ZITTA SCUSA TU MI RICORDI L...</td>\n",
       "      <td>1</td>\n",
       "      <td>1.0</td>\n",
       "    </tr>\n",
       "  </tbody>\n",
       "</table>\n",
       "</div>"
      ],
      "text/plain": [
       "        id                                               text  misogynous  \\\n",
       "235    235                                        stimare zie           0   \n",
       "1407  3421                   mamme dovrebbero essere protette           0   \n",
       "179   5180  @giornalisteTV @Leone09748724 @Fiero70600786 @...           0   \n",
       "2458  2459  ma perch negli shoujo devono per forza mettere...           0   \n",
       "655    656                              @BhadBhabie puttanona           1   \n",
       "2840  2841  Porca puttana, sono tua figlia, sai che sono s...           0   \n",
       "1640  3654                                 appoggiare femmina           0   \n",
       "3742  3743  APPUNTO! HO APPENA SCOPERTO CHE NON ANDIAMO MA...           0   \n",
       "520    521  RT @CarmenCindy81: la tua schiava tettona @pad...           1   \n",
       "4926  4927  @sophiebrw MA STAI ZITTA SCUSA TU MI RICORDI L...           1   \n",
       "\n",
       "      aggressiveness  \n",
       "235              NaN  \n",
       "1407             NaN  \n",
       "179              0.0  \n",
       "2458             0.0  \n",
       "655              1.0  \n",
       "2840             0.0  \n",
       "1640             NaN  \n",
       "3742             0.0  \n",
       "520              1.0  \n",
       "4926             1.0  "
      ]
     },
     "execution_count": 118,
     "metadata": {},
     "output_type": "execute_result"
    }
   ],
   "source": [
    "data.sample(10)"
   ]
  },
  {
   "cell_type": "code",
   "execution_count": 119,
   "metadata": {},
   "outputs": [],
   "source": [
    "data.rename(columns={'text':'Text','misogynous':'Label'},inplace=True)"
   ]
  },
  {
   "cell_type": "code",
   "execution_count": 120,
   "metadata": {},
   "outputs": [
    {
     "data": {
      "text/html": [
       "<div>\n",
       "<style scoped>\n",
       "    .dataframe tbody tr th:only-of-type {\n",
       "        vertical-align: middle;\n",
       "    }\n",
       "\n",
       "    .dataframe tbody tr th {\n",
       "        vertical-align: top;\n",
       "    }\n",
       "\n",
       "    .dataframe thead th {\n",
       "        text-align: right;\n",
       "    }\n",
       "</style>\n",
       "<table border=\"1\" class=\"dataframe\">\n",
       "  <thead>\n",
       "    <tr style=\"text-align: right;\">\n",
       "      <th></th>\n",
       "      <th>id</th>\n",
       "      <th>Text</th>\n",
       "      <th>Label</th>\n",
       "      <th>aggressiveness</th>\n",
       "    </tr>\n",
       "  </thead>\n",
       "  <tbody>\n",
       "    <tr>\n",
       "      <th>0</th>\n",
       "      <td>5001</td>\n",
       "      <td>Aveva voglia di gridare tutta la mia rabbia ma...</td>\n",
       "      <td>0</td>\n",
       "      <td>0.0</td>\n",
       "    </tr>\n",
       "    <tr>\n",
       "      <th>1</th>\n",
       "      <td>5002</td>\n",
       "      <td>Lei è acida perché non ha figli penso che dare...</td>\n",
       "      <td>0</td>\n",
       "      <td>0.0</td>\n",
       "    </tr>\n",
       "    <tr>\n",
       "      <th>2</th>\n",
       "      <td>5003</td>\n",
       "      <td>Ma quanto è brutto sentirsi dire dal proprio f...</td>\n",
       "      <td>0</td>\n",
       "      <td>0.0</td>\n",
       "    </tr>\n",
       "    <tr>\n",
       "      <th>3</th>\n",
       "      <td>5004</td>\n",
       "      <td>Per chi ci facciamo venire il groppo in gola s...</td>\n",
       "      <td>0</td>\n",
       "      <td>0.0</td>\n",
       "    </tr>\n",
       "    <tr>\n",
       "      <th>4</th>\n",
       "      <td>5005</td>\n",
       "      <td>@sprankthatbooty Ti sborro io</td>\n",
       "      <td>1</td>\n",
       "      <td>0.0</td>\n",
       "    </tr>\n",
       "    <tr>\n",
       "      <th>5</th>\n",
       "      <td>5006</td>\n",
       "      <td>@Fedoc5 in ginocchio con te che comandi il rit...</td>\n",
       "      <td>0</td>\n",
       "      <td>0.0</td>\n",
       "    </tr>\n",
       "    <tr>\n",
       "      <th>6</th>\n",
       "      <td>5007</td>\n",
       "      <td>La cena è pronta. Lo squalo balena affonda nei...</td>\n",
       "      <td>0</td>\n",
       "      <td>0.0</td>\n",
       "    </tr>\n",
       "    <tr>\n",
       "      <th>7</th>\n",
       "      <td>5008</td>\n",
       "      <td>ho appena letto quello che ha pubblicato Hazza...</td>\n",
       "      <td>0</td>\n",
       "      <td>0.0</td>\n",
       "    </tr>\n",
       "    <tr>\n",
       "      <th>8</th>\n",
       "      <td>5009</td>\n",
       "      <td>Ma ci sono sempre stati tutti sti tuit di gent...</td>\n",
       "      <td>0</td>\n",
       "      <td>0.0</td>\n",
       "    </tr>\n",
       "    <tr>\n",
       "      <th>9</th>\n",
       "      <td>5010</td>\n",
       "      <td>@NoraNature1 Che troia che sei &amp;#x2764;️&amp;#x1f60d;</td>\n",
       "      <td>1</td>\n",
       "      <td>0.0</td>\n",
       "    </tr>\n",
       "  </tbody>\n",
       "</table>\n",
       "</div>"
      ],
      "text/plain": [
       "     id                                               Text  Label  \\\n",
       "0  5001  Aveva voglia di gridare tutta la mia rabbia ma...      0   \n",
       "1  5002  Lei è acida perché non ha figli penso che dare...      0   \n",
       "2  5003  Ma quanto è brutto sentirsi dire dal proprio f...      0   \n",
       "3  5004  Per chi ci facciamo venire il groppo in gola s...      0   \n",
       "4  5005                      @sprankthatbooty Ti sborro io      1   \n",
       "5  5006  @Fedoc5 in ginocchio con te che comandi il rit...      0   \n",
       "6  5007  La cena è pronta. Lo squalo balena affonda nei...      0   \n",
       "7  5008  ho appena letto quello che ha pubblicato Hazza...      0   \n",
       "8  5009  Ma ci sono sempre stati tutti sti tuit di gent...      0   \n",
       "9  5010  @NoraNature1 Che troia che sei &#x2764;️&#x1f60d;      1   \n",
       "\n",
       "   aggressiveness  \n",
       "0             0.0  \n",
       "1             0.0  \n",
       "2             0.0  \n",
       "3             0.0  \n",
       "4             0.0  \n",
       "5             0.0  \n",
       "6             0.0  \n",
       "7             0.0  \n",
       "8             0.0  \n",
       "9             0.0  "
      ]
     },
     "execution_count": 120,
     "metadata": {},
     "output_type": "execute_result"
    }
   ],
   "source": [
    "data.head(10)"
   ]
  },
  {
   "cell_type": "code",
   "execution_count": 121,
   "metadata": {},
   "outputs": [],
   "source": [
    "data['ID']=list(range(1,len(data)+1))"
   ]
  },
  {
   "cell_type": "code",
   "execution_count": 122,
   "metadata": {},
   "outputs": [
    {
     "data": {
      "text/html": [
       "<div>\n",
       "<style scoped>\n",
       "    .dataframe tbody tr th:only-of-type {\n",
       "        vertical-align: middle;\n",
       "    }\n",
       "\n",
       "    .dataframe tbody tr th {\n",
       "        vertical-align: top;\n",
       "    }\n",
       "\n",
       "    .dataframe thead th {\n",
       "        text-align: right;\n",
       "    }\n",
       "</style>\n",
       "<table border=\"1\" class=\"dataframe\">\n",
       "  <thead>\n",
       "    <tr style=\"text-align: right;\">\n",
       "      <th></th>\n",
       "      <th>id</th>\n",
       "      <th>Text</th>\n",
       "      <th>Label</th>\n",
       "      <th>aggressiveness</th>\n",
       "      <th>ID</th>\n",
       "    </tr>\n",
       "  </thead>\n",
       "  <tbody>\n",
       "    <tr>\n",
       "      <th>0</th>\n",
       "      <td>5001</td>\n",
       "      <td>Aveva voglia di gridare tutta la mia rabbia ma...</td>\n",
       "      <td>0</td>\n",
       "      <td>0.0</td>\n",
       "      <td>1</td>\n",
       "    </tr>\n",
       "    <tr>\n",
       "      <th>1</th>\n",
       "      <td>5002</td>\n",
       "      <td>Lei è acida perché non ha figli penso che dare...</td>\n",
       "      <td>0</td>\n",
       "      <td>0.0</td>\n",
       "      <td>2</td>\n",
       "    </tr>\n",
       "    <tr>\n",
       "      <th>2</th>\n",
       "      <td>5003</td>\n",
       "      <td>Ma quanto è brutto sentirsi dire dal proprio f...</td>\n",
       "      <td>0</td>\n",
       "      <td>0.0</td>\n",
       "      <td>3</td>\n",
       "    </tr>\n",
       "    <tr>\n",
       "      <th>3</th>\n",
       "      <td>5004</td>\n",
       "      <td>Per chi ci facciamo venire il groppo in gola s...</td>\n",
       "      <td>0</td>\n",
       "      <td>0.0</td>\n",
       "      <td>4</td>\n",
       "    </tr>\n",
       "    <tr>\n",
       "      <th>4</th>\n",
       "      <td>5005</td>\n",
       "      <td>@sprankthatbooty Ti sborro io</td>\n",
       "      <td>1</td>\n",
       "      <td>0.0</td>\n",
       "      <td>5</td>\n",
       "    </tr>\n",
       "  </tbody>\n",
       "</table>\n",
       "</div>"
      ],
      "text/plain": [
       "     id                                               Text  Label  \\\n",
       "0  5001  Aveva voglia di gridare tutta la mia rabbia ma...      0   \n",
       "1  5002  Lei è acida perché non ha figli penso che dare...      0   \n",
       "2  5003  Ma quanto è brutto sentirsi dire dal proprio f...      0   \n",
       "3  5004  Per chi ci facciamo venire il groppo in gola s...      0   \n",
       "4  5005                      @sprankthatbooty Ti sborro io      1   \n",
       "\n",
       "   aggressiveness  ID  \n",
       "0             0.0   1  \n",
       "1             0.0   2  \n",
       "2             0.0   3  \n",
       "3             0.0   4  \n",
       "4             0.0   5  "
      ]
     },
     "execution_count": 122,
     "metadata": {},
     "output_type": "execute_result"
    }
   ],
   "source": [
    "data.head()"
   ]
  },
  {
   "cell_type": "code",
   "execution_count": 123,
   "metadata": {},
   "outputs": [],
   "source": [
    "data= data[['ID','Text','Label']]"
   ]
  },
  {
   "cell_type": "code",
   "execution_count": 124,
   "metadata": {},
   "outputs": [
    {
     "data": {
      "text/html": [
       "<div>\n",
       "<style scoped>\n",
       "    .dataframe tbody tr th:only-of-type {\n",
       "        vertical-align: middle;\n",
       "    }\n",
       "\n",
       "    .dataframe tbody tr th {\n",
       "        vertical-align: top;\n",
       "    }\n",
       "\n",
       "    .dataframe thead th {\n",
       "        text-align: right;\n",
       "    }\n",
       "</style>\n",
       "<table border=\"1\" class=\"dataframe\">\n",
       "  <thead>\n",
       "    <tr style=\"text-align: right;\">\n",
       "      <th></th>\n",
       "      <th>ID</th>\n",
       "      <th>Text</th>\n",
       "      <th>Label</th>\n",
       "    </tr>\n",
       "  </thead>\n",
       "  <tbody>\n",
       "    <tr>\n",
       "      <th>0</th>\n",
       "      <td>1</td>\n",
       "      <td>Aveva voglia di gridare tutta la mia rabbia ma...</td>\n",
       "      <td>0</td>\n",
       "    </tr>\n",
       "    <tr>\n",
       "      <th>1</th>\n",
       "      <td>2</td>\n",
       "      <td>Lei è acida perché non ha figli penso che dare...</td>\n",
       "      <td>0</td>\n",
       "    </tr>\n",
       "    <tr>\n",
       "      <th>2</th>\n",
       "      <td>3</td>\n",
       "      <td>Ma quanto è brutto sentirsi dire dal proprio f...</td>\n",
       "      <td>0</td>\n",
       "    </tr>\n",
       "    <tr>\n",
       "      <th>3</th>\n",
       "      <td>4</td>\n",
       "      <td>Per chi ci facciamo venire il groppo in gola s...</td>\n",
       "      <td>0</td>\n",
       "    </tr>\n",
       "    <tr>\n",
       "      <th>4</th>\n",
       "      <td>5</td>\n",
       "      <td>@sprankthatbooty Ti sborro io</td>\n",
       "      <td>1</td>\n",
       "    </tr>\n",
       "  </tbody>\n",
       "</table>\n",
       "</div>"
      ],
      "text/plain": [
       "   ID                                               Text  Label\n",
       "0   1  Aveva voglia di gridare tutta la mia rabbia ma...      0\n",
       "1   2  Lei è acida perché non ha figli penso che dare...      0\n",
       "2   3  Ma quanto è brutto sentirsi dire dal proprio f...      0\n",
       "3   4  Per chi ci facciamo venire il groppo in gola s...      0\n",
       "4   5                      @sprankthatbooty Ti sborro io      1"
      ]
     },
     "execution_count": 124,
     "metadata": {},
     "output_type": "execute_result"
    }
   ],
   "source": [
    "data.head()"
   ]
  },
  {
   "cell_type": "code",
   "execution_count": 126,
   "metadata": {},
   "outputs": [],
   "source": [
    "data.to_csv(OUTPUT+\"all.csv\")"
   ]
  },
  {
   "cell_type": "markdown",
   "metadata": {},
   "source": [
    "## Split into 5 parts"
   ]
  },
  {
   "cell_type": "code",
   "execution_count": 1,
   "metadata": {},
   "outputs": [],
   "source": [
    "folders = ['AMI-2020','Let-Mi','Shared_Task_eng','Shared_Task_hin','Shared_Task_iben']"
   ]
  },
  {
   "cell_type": "code",
   "execution_count": 2,
   "metadata": {},
   "outputs": [],
   "source": [
    "BASE_FOLDER = \"Data_Processed/\""
   ]
  },
  {
   "cell_type": "markdown",
   "metadata": {},
   "source": [
    "Had to correct data due to prescence of Un-named Column"
   ]
  },
  {
   "cell_type": "code",
   "execution_count": 135,
   "metadata": {},
   "outputs": [],
   "source": [
    "for folder in folders:\n",
    "    data = pd.read_csv(BASE_FOLDER+folder+\"/all.csv\")\n",
    "    data=data[['ID','Text','Label']]\n",
    "    data.to_csv(BASE_FOLDER+folder+\"/all.csv\",index=False)"
   ]
  },
  {
   "cell_type": "code",
   "execution_count": 136,
   "metadata": {},
   "outputs": [],
   "source": [
    "data = pd.read_csv(BASE_FOLDER+folders[2]+\"/all.csv\")"
   ]
  },
  {
   "cell_type": "code",
   "execution_count": 137,
   "metadata": {},
   "outputs": [
    {
     "data": {
      "text/html": [
       "<div>\n",
       "<style scoped>\n",
       "    .dataframe tbody tr th:only-of-type {\n",
       "        vertical-align: middle;\n",
       "    }\n",
       "\n",
       "    .dataframe tbody tr th {\n",
       "        vertical-align: top;\n",
       "    }\n",
       "\n",
       "    .dataframe thead th {\n",
       "        text-align: right;\n",
       "    }\n",
       "</style>\n",
       "<table border=\"1\" class=\"dataframe\">\n",
       "  <thead>\n",
       "    <tr style=\"text-align: right;\">\n",
       "      <th></th>\n",
       "      <th>ID</th>\n",
       "      <th>Text</th>\n",
       "      <th>Label</th>\n",
       "    </tr>\n",
       "  </thead>\n",
       "  <tbody>\n",
       "    <tr>\n",
       "      <th>0</th>\n",
       "      <td>1</td>\n",
       "      <td>Next part</td>\n",
       "      <td>0</td>\n",
       "    </tr>\n",
       "    <tr>\n",
       "      <th>1</th>\n",
       "      <td>2</td>\n",
       "      <td>Iii8mllllllm\\nMdxfvb8o90lplppi0005</td>\n",
       "      <td>0</td>\n",
       "    </tr>\n",
       "    <tr>\n",
       "      <th>2</th>\n",
       "      <td>3</td>\n",
       "      <td>🤣🤣😂😂🤣🤣🤣😂osm vedio ....keep it up...make more v...</td>\n",
       "      <td>0</td>\n",
       "    </tr>\n",
       "    <tr>\n",
       "      <th>3</th>\n",
       "      <td>4</td>\n",
       "      <td>What the fuck was this? I respect shwetabh and...</td>\n",
       "      <td>0</td>\n",
       "    </tr>\n",
       "    <tr>\n",
       "      <th>4</th>\n",
       "      <td>5</td>\n",
       "      <td>Concerned authorities should bring arundathi R...</td>\n",
       "      <td>0</td>\n",
       "    </tr>\n",
       "  </tbody>\n",
       "</table>\n",
       "</div>"
      ],
      "text/plain": [
       "   ID                                               Text  Label\n",
       "0   1                                          Next part      0\n",
       "1   2                 Iii8mllllllm\\nMdxfvb8o90lplppi0005      0\n",
       "2   3  🤣🤣😂😂🤣🤣🤣😂osm vedio ....keep it up...make more v...      0\n",
       "3   4  What the fuck was this? I respect shwetabh and...      0\n",
       "4   5  Concerned authorities should bring arundathi R...      0"
      ]
     },
     "execution_count": 137,
     "metadata": {},
     "output_type": "execute_result"
    }
   ],
   "source": [
    "data.head()"
   ]
  },
  {
   "cell_type": "code",
   "execution_count": 144,
   "metadata": {},
   "outputs": [],
   "source": [
    "data_hate = data[data['Label']==1]\n",
    "data_non_hate = data[data['Label']==0]"
   ]
  },
  {
   "cell_type": "code",
   "execution_count": 145,
   "metadata": {},
   "outputs": [],
   "source": [
    "data_hate = data_hate.sample(frac=1).reset_index(drop=True)"
   ]
  },
  {
   "cell_type": "code",
   "execution_count": 146,
   "metadata": {},
   "outputs": [
    {
     "data": {
      "text/html": [
       "<div>\n",
       "<style scoped>\n",
       "    .dataframe tbody tr th:only-of-type {\n",
       "        vertical-align: middle;\n",
       "    }\n",
       "\n",
       "    .dataframe tbody tr th {\n",
       "        vertical-align: top;\n",
       "    }\n",
       "\n",
       "    .dataframe thead th {\n",
       "        text-align: right;\n",
       "    }\n",
       "</style>\n",
       "<table border=\"1\" class=\"dataframe\">\n",
       "  <thead>\n",
       "    <tr style=\"text-align: right;\">\n",
       "      <th></th>\n",
       "      <th>ID</th>\n",
       "      <th>Text</th>\n",
       "      <th>Label</th>\n",
       "    </tr>\n",
       "  </thead>\n",
       "  <tbody>\n",
       "    <tr>\n",
       "      <th>0</th>\n",
       "      <td>6155</td>\n",
       "      <td>all this stigmatisation of lesbianism and homo...</td>\n",
       "      <td>1</td>\n",
       "    </tr>\n",
       "    <tr>\n",
       "      <th>1</th>\n",
       "      <td>5986</td>\n",
       "      <td>the bitter truth is that the one who has actua...</td>\n",
       "      <td>1</td>\n",
       "    </tr>\n",
       "    <tr>\n",
       "      <th>2</th>\n",
       "      <td>86</td>\n",
       "      <td>As per Arundhati she should give her name as K...</td>\n",
       "      <td>1</td>\n",
       "    </tr>\n",
       "    <tr>\n",
       "      <th>3</th>\n",
       "      <td>141</td>\n",
       "      <td>bro bro....😂😂😂just try and replace the girl wi...</td>\n",
       "      <td>1</td>\n",
       "    </tr>\n",
       "    <tr>\n",
       "      <th>4</th>\n",
       "      <td>514</td>\n",
       "      <td>Homosexual as I saw in buses and movies.... Cl...</td>\n",
       "      <td>1</td>\n",
       "    </tr>\n",
       "  </tbody>\n",
       "</table>\n",
       "</div>"
      ],
      "text/plain": [
       "     ID                                               Text  Label\n",
       "0  6155  all this stigmatisation of lesbianism and homo...      1\n",
       "1  5986  the bitter truth is that the one who has actua...      1\n",
       "2    86  As per Arundhati she should give her name as K...      1\n",
       "3   141  bro bro....😂😂😂just try and replace the girl wi...      1\n",
       "4   514  Homosexual as I saw in buses and movies.... Cl...      1"
      ]
     },
     "execution_count": 146,
     "metadata": {},
     "output_type": "execute_result"
    }
   ],
   "source": [
    "data_hate.head()"
   ]
  },
  {
   "cell_type": "code",
   "execution_count": 147,
   "metadata": {},
   "outputs": [],
   "source": [
    "batch_size = len(data_hate)//5\n",
    "dfs_hate=[]"
   ]
  },
  {
   "cell_type": "code",
   "execution_count": 149,
   "metadata": {},
   "outputs": [],
   "source": [
    "for i in range(0,4):\n",
    "    df = data_hate.iloc[i*batch_size:(i+1)*batch_size]\n",
    "    dfs_hate.append(df)"
   ]
  },
  {
   "cell_type": "code",
   "execution_count": 151,
   "metadata": {},
   "outputs": [
    {
     "data": {
      "text/plain": [
       "4"
      ]
     },
     "execution_count": 151,
     "metadata": {},
     "output_type": "execute_result"
    }
   ],
   "source": [
    "len(dfs_hate)"
   ]
  },
  {
   "cell_type": "code",
   "execution_count": 153,
   "metadata": {},
   "outputs": [],
   "source": [
    "dfs_hate.append(data.iloc[4*batch_size:])"
   ]
  },
  {
   "cell_type": "code",
   "execution_count": 154,
   "metadata": {},
   "outputs": [
    {
     "data": {
      "text/plain": [
       "5"
      ]
     },
     "execution_count": 154,
     "metadata": {},
     "output_type": "execute_result"
    }
   ],
   "source": [
    "len(dfs_hate)"
   ]
  },
  {
   "cell_type": "code",
   "execution_count": 156,
   "metadata": {},
   "outputs": [],
   "source": [
    "for i,df in enumerate(dfs_hate):\n",
    "    df.to_csv(BASE_FOLDER+folder+\"/hate_\"+str(i+1)+\".csv\",index=False)"
   ]
  },
  {
   "cell_type": "code",
   "execution_count": 157,
   "metadata": {},
   "outputs": [],
   "source": [
    "batch_size = len(data_non_hate)//5\n",
    "dfs_non_hate=[]"
   ]
  },
  {
   "cell_type": "code",
   "execution_count": 10,
   "metadata": {},
   "outputs": [],
   "source": [
    "def splitAndSave(data,name,folder):\n",
    "    data = data.sample(frac=1).reset_index(drop=True)\n",
    "    batch_size = len(data)//5\n",
    "    print(\"Batch Size: \",batch_size)\n",
    "    dfs=[]\n",
    "    for i in range(0,4):\n",
    "        df = data.iloc[i*batch_size:(i+1)*batch_size]\n",
    "        dfs.append(df)\n",
    "    dfs.append(data.iloc[4*batch_size:])\n",
    "    for i,df in enumerate(dfs):\n",
    "        df.to_csv(BASE_FOLDER+folder+\"/\"+name+\"_\"+str(i+1)+\".csv\",index=False)"
   ]
  },
  {
   "cell_type": "code",
   "execution_count": 197,
   "metadata": {},
   "outputs": [
    {
     "name": "stdout",
     "output_type": "stream",
     "text": [
      "Folder:  AMI-2020\n",
      "Batch Size:  959\n",
      "Batch Size:  1024\n",
      "Folder:  Let-Mi\n",
      "Batch Size:  517\n",
      "Batch Size:  530\n",
      "Folder:  Shared_Task_eng\n",
      "Batch Size:  111\n",
      "Batch Size:  1194\n",
      "Folder:  Shared_Task_hin\n",
      "Batch Size:  276\n",
      "Batch Size:  960\n",
      "Folder:  Shared_Task_iben\n",
      "Batch Size:  221\n",
      "Batch Size:  973\n"
     ]
    }
   ],
   "source": [
    "for folder in folders:\n",
    "    data = pd.read_csv(BASE_FOLDER+folder+\"/all.csv\")\n",
    "    \n",
    "    data_hate = data[data['Label']==1]\n",
    "    data_non_hate = data[data['Label']==0]\n",
    "    print(\"Folder: \",folder)\n",
    "    splitAndSave(data_hate,\"hate\",folder)\n",
    "    splitAndSave(data_non_hate,\"non_hate\",folder)"
   ]
  },
  {
   "cell_type": "markdown",
   "metadata": {},
   "source": [
    "### Testing Split"
   ]
  },
  {
   "cell_type": "code",
   "execution_count": 205,
   "metadata": {},
   "outputs": [],
   "source": [
    "data = pd.read_csv(BASE_FOLDER+folders[0]+\"/all.csv\")"
   ]
  },
  {
   "cell_type": "code",
   "execution_count": 206,
   "metadata": {},
   "outputs": [
    {
     "data": {
      "text/html": [
       "<div>\n",
       "<style scoped>\n",
       "    .dataframe tbody tr th:only-of-type {\n",
       "        vertical-align: middle;\n",
       "    }\n",
       "\n",
       "    .dataframe tbody tr th {\n",
       "        vertical-align: top;\n",
       "    }\n",
       "\n",
       "    .dataframe thead th {\n",
       "        text-align: right;\n",
       "    }\n",
       "</style>\n",
       "<table border=\"1\" class=\"dataframe\">\n",
       "  <thead>\n",
       "    <tr style=\"text-align: right;\">\n",
       "      <th></th>\n",
       "      <th>ID</th>\n",
       "      <th>Text</th>\n",
       "      <th>Label</th>\n",
       "    </tr>\n",
       "  </thead>\n",
       "  <tbody>\n",
       "    <tr>\n",
       "      <th>0</th>\n",
       "      <td>1</td>\n",
       "      <td>Aveva voglia di gridare tutta la mia rabbia ma...</td>\n",
       "      <td>0</td>\n",
       "    </tr>\n",
       "    <tr>\n",
       "      <th>1</th>\n",
       "      <td>2</td>\n",
       "      <td>Lei è acida perché non ha figli penso che dare...</td>\n",
       "      <td>0</td>\n",
       "    </tr>\n",
       "    <tr>\n",
       "      <th>2</th>\n",
       "      <td>3</td>\n",
       "      <td>Ma quanto è brutto sentirsi dire dal proprio f...</td>\n",
       "      <td>0</td>\n",
       "    </tr>\n",
       "    <tr>\n",
       "      <th>3</th>\n",
       "      <td>4</td>\n",
       "      <td>Per chi ci facciamo venire il groppo in gola s...</td>\n",
       "      <td>0</td>\n",
       "    </tr>\n",
       "    <tr>\n",
       "      <th>4</th>\n",
       "      <td>5</td>\n",
       "      <td>@sprankthatbooty Ti sborro io</td>\n",
       "      <td>1</td>\n",
       "    </tr>\n",
       "  </tbody>\n",
       "</table>\n",
       "</div>"
      ],
      "text/plain": [
       "   ID                                               Text  Label\n",
       "0   1  Aveva voglia di gridare tutta la mia rabbia ma...      0\n",
       "1   2  Lei è acida perché non ha figli penso che dare...      0\n",
       "2   3  Ma quanto è brutto sentirsi dire dal proprio f...      0\n",
       "3   4  Per chi ci facciamo venire il groppo in gola s...      0\n",
       "4   5                      @sprankthatbooty Ti sborro io      1"
      ]
     },
     "execution_count": 206,
     "metadata": {},
     "output_type": "execute_result"
    }
   ],
   "source": [
    "data.head()"
   ]
  },
  {
   "cell_type": "code",
   "execution_count": 207,
   "metadata": {},
   "outputs": [
    {
     "data": {
      "text/plain": [
       "9922"
      ]
     },
     "execution_count": 207,
     "metadata": {},
     "output_type": "execute_result"
    }
   ],
   "source": [
    "len(data)"
   ]
  },
  {
   "cell_type": "code",
   "execution_count": 209,
   "metadata": {},
   "outputs": [
    {
     "data": {
      "text/plain": [
       "5124"
      ]
     },
     "execution_count": 209,
     "metadata": {},
     "output_type": "execute_result"
    }
   ],
   "source": [
    "len(data[data['Label']==0])"
   ]
  },
  {
   "cell_type": "markdown",
   "metadata": {},
   "source": [
    "## Create Val set"
   ]
  },
  {
   "cell_type": "code",
   "execution_count": 3,
   "metadata": {},
   "outputs": [],
   "source": [
    "import pandas as pd"
   ]
  },
  {
   "cell_type": "code",
   "execution_count": 3,
   "metadata": {},
   "outputs": [],
   "source": [
    "folder = folders[0]"
   ]
  },
  {
   "cell_type": "code",
   "execution_count": 4,
   "metadata": {},
   "outputs": [],
   "source": [
    "def getAllExcept(x,folder):\n",
    "    flag=0\n",
    "    for i in range(1,6):\n",
    "        file_hate = BASE_FOLDER+folder+\"/hate_\"+str(i)+\".csv\"\n",
    "        file_non_hate = BASE_FOLDER+folder+\"/non_hate_\"+str(i)+\".csv\"\n",
    "        \n",
    "        if(i!=x):\n",
    "            df_hate = pd.read_csv(file_hate)\n",
    "            df_non_hate = pd.read_csv(file_non_hate)\n",
    "            \n",
    "\n",
    "            if(flag==0):\n",
    "                data_hate=df_hate\n",
    "                data_non_hate = df_non_hate\n",
    "            else:\n",
    "                data_hate=pd.concat([data_hate,df_hate])\n",
    "                data_non_hate=pd.concat([data_non_hate,df_non_hate])\n",
    "            flag=1\n",
    "    return data_hate,data_non_hate"
   ]
  },
  {
   "cell_type": "code",
   "execution_count": 16,
   "metadata": {},
   "outputs": [],
   "source": [
    "data_hate,data_non_hate = getAllExcept(1,folder)"
   ]
  },
  {
   "cell_type": "code",
   "execution_count": 1,
   "metadata": {},
   "outputs": [],
   "source": [
    "folders = ['AMI-2020','Let-Mi','Shared_Task_eng','Shared_Task_hin','Shared_Task_iben']\n",
    "BASE_FOLDER = \"Data_Processed/\""
   ]
  },
  {
   "cell_type": "code",
   "execution_count": 2,
   "metadata": {},
   "outputs": [],
   "source": [
    "folder = folders[0]"
   ]
  },
  {
   "cell_type": "code",
   "execution_count": 6,
   "metadata": {},
   "outputs": [],
   "source": [
    "def extractValAndTrain(data):\n",
    "    data = data.sample(frac=1).reset_index(drop=True)\n",
    "    size = len(data)\n",
    "    val_size = int(0.125*size)\n",
    "    return data.iloc[0:val_size],data.iloc[val_size:]"
   ]
  },
  {
   "cell_type": "code",
   "execution_count": 7,
   "metadata": {},
   "outputs": [],
   "source": [
    "def mergeAndShuffle(hate,non_hate):\n",
    "    data = pd.concat([hate,non_hate])\n",
    "    data = data.sample(frac=1).reset_index(drop=True)\n",
    "    return data"
   ]
  },
  {
   "cell_type": "code",
   "execution_count": 8,
   "metadata": {},
   "outputs": [],
   "source": [
    "def getTestData(i):\n",
    "    file_hate = BASE_FOLDER+folder+\"/hate_\"+str(i)+\".csv\"\n",
    "    file_non_hate = BASE_FOLDER+folder+\"/non_hate_\"+str(i)+\".csv\"\n",
    "    \n",
    "    df_hate = pd.read_csv(file_hate)\n",
    "    df_non_hate = pd.read_csv(file_non_hate)\n",
    "    \n",
    "    data = pd.concat([df_hate,df_non_hate])\n",
    "    data = data.sample(frac=1).reset_index(drop=True)\n",
    "    \n",
    "    return data"
   ]
  },
  {
   "cell_type": "code",
   "execution_count": 9,
   "metadata": {},
   "outputs": [],
   "source": [
    "def extractTrainValTest(folder):\n",
    "    for i in range(1,6):\n",
    "        data_hate,data_non_hate = getAllExcept(i,folder)\n",
    "\n",
    "        data_hate_val, data_hate_train = extractValAndTrain(data_hate)\n",
    "        data_non_hate_val, data_non_hate_train = extractValAndTrain(data_non_hate)\n",
    "\n",
    "        data_val = mergeAndShuffle(data_non_hate_val, data_hate_val)\n",
    "        data_train = mergeAndShuffle(data_non_hate_train, data_hate_train)\n",
    "\n",
    "        data_test=getTestData(i)\n",
    "\n",
    "        print(len(data_train)+len(data_val)+len(data_test))\n",
    "\n",
    "        data_train.to_csv(BASE_FOLDER+folder+\"/train_\"+str(i)+\".csv\",index=False)\n",
    "        data_val.to_csv(BASE_FOLDER+folder+\"/val_\"+str(i)+\".csv\",index=False)\n",
    "        data_test.to_csv(BASE_FOLDER+folder+\"/test_\"+str(i)+\".csv\",index=False)"
   ]
  },
  {
   "cell_type": "code",
   "execution_count": null,
   "metadata": {},
   "outputs": [],
   "source": []
  }
 ],
 "metadata": {
  "kernelspec": {
   "display_name": "Python 3",
   "language": "python",
   "name": "python3"
  },
  "language_info": {
   "codemirror_mode": {
    "name": "ipython",
    "version": 3
   },
   "file_extension": ".py",
   "mimetype": "text/x-python",
   "name": "python",
   "nbconvert_exporter": "python",
   "pygments_lexer": "ipython3",
   "version": "3.8.5"
  }
 },
 "nbformat": 4,
 "nbformat_minor": 4
}
